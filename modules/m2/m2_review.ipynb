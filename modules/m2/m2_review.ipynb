{
 "cells": [
  {
   "cell_type": "markdown",
   "metadata": {},
   "source": [
    "# M2 Genomics & High Dimensional Data"
   ]
  },
  {
   "cell_type": "markdown",
   "metadata": {},
   "source": [
    "#### Requirements"
   ]
  },
  {
   "cell_type": "code",
   "execution_count": 12,
   "metadata": {},
   "outputs": [],
   "source": [
    "import numpy as np\n",
    "from scipy import stats"
   ]
  },
  {
   "cell_type": "markdown",
   "metadata": {},
   "source": [
    "## Visualization of High Dimensional Data"
   ]
  },
  {
   "cell_type": "markdown",
   "metadata": {},
   "source": [
    "### Review"
   ]
  },
  {
   "cell_type": "code",
   "execution_count": 7,
   "metadata": {},
   "outputs": [
    {
     "name": "stdout",
     "output_type": "stream",
     "text": [
      "(2, 3)\n",
      "[[ 1  3 -1]\n",
      " [ 2  4  0]]\n"
     ]
    }
   ],
   "source": [
    "X = np.array(\n",
    "    [\n",
    "        [\n",
    "            1,\n",
    "            2,\n",
    "        ],\n",
    "        [\n",
    "            3,\n",
    "            4,\n",
    "        ],\n",
    "        [\n",
    "            -1,\n",
    "            0\n",
    "        ]\n",
    "    ]\n",
    ").T\n",
    "\n",
    "print(X.shape)\n",
    "print(X)\n"
   ]
  },
  {
   "cell_type": "code",
   "execution_count": 9,
   "metadata": {},
   "outputs": [
    {
     "name": "stdout",
     "output_type": "stream",
     "text": [
      "(2, 1)\n",
      "[[0.4472136 ]\n",
      " [0.89442719]]\n"
     ]
    }
   ],
   "source": [
    "u = np.array(\n",
    "    [\n",
    "        [\n",
    "            1, \n",
    "            2\n",
    "        ]\n",
    "    ]\n",
    ").reshape(2, 1)\n",
    "\n",
    "u = u / np.sqrt(5)\n",
    "\n",
    "print(u.shape)\n",
    "print(u)"
   ]
  },
  {
   "cell_type": "code",
   "execution_count": 11,
   "metadata": {},
   "outputs": [
    {
     "name": "stdout",
     "output_type": "stream",
     "text": [
      "(1, 3)\n",
      "[[ 2.23606798  4.91934955 -0.4472136 ]]\n"
     ]
    }
   ],
   "source": [
    "PROJuX = np.matmul(\n",
    "    u.T,\n",
    "    X\n",
    ")\n",
    "\n",
    "print(PROJuX.shape)\n",
    "\n",
    "print(PROJuX)"
   ]
  },
  {
   "cell_type": "code",
   "execution_count": 27,
   "metadata": {},
   "outputs": [
    {
     "name": "stdout",
     "output_type": "stream",
     "text": [
      "DescribeResult(nobs=3, minmax=(-0.4472135954999579, 4.919349550499537), mean=2.2360679774997894, variance=4.8, skewness=3.378301080271177e-16, kurtosis=-1.5000000000000004)\n"
     ]
    }
   ],
   "source": [
    "print(stats.describe(a = PROJuX, axis = None, ddof=0))"
   ]
  },
  {
   "cell_type": "code",
   "execution_count": 17,
   "metadata": {},
   "outputs": [
    {
     "name": "stdout",
     "output_type": "stream",
     "text": [
      "(3, 2)\n",
      "[[ 1  2]\n",
      " [ 3  4]\n",
      " [-1  0]]\n"
     ]
    }
   ],
   "source": [
    "X = np.array(\n",
    "    [\n",
    "        [\n",
    "            1,\n",
    "            2,\n",
    "        ],\n",
    "        [\n",
    "            3,\n",
    "            4,\n",
    "        ],\n",
    "        [\n",
    "            -1,\n",
    "            0\n",
    "        ]\n",
    "    ]\n",
    ")\n",
    "\n",
    "print(X.shape)\n",
    "print(X)\n"
   ]
  },
  {
   "cell_type": "code",
   "execution_count": 18,
   "metadata": {},
   "outputs": [
    {
     "name": "stdout",
     "output_type": "stream",
     "text": [
      "[[1]\n",
      " [1]\n",
      " [1]]\n",
      "(3, 1)\n"
     ]
    }
   ],
   "source": [
    "I1 = np.array(\n",
    "    [\n",
    "        [\n",
    "            1, 1, 1\n",
    "        ]\n",
    "    ]\n",
    ").reshape(3, 1)\n",
    "\n",
    "print(I1)\n",
    "\n",
    "print(I1.shape)\n"
   ]
  },
  {
   "cell_type": "code",
   "execution_count": 20,
   "metadata": {},
   "outputs": [],
   "source": [
    "H = np.eye(3) - (np.matmul(I1, I1.T)/3)"
   ]
  },
  {
   "cell_type": "code",
   "execution_count": 22,
   "metadata": {},
   "outputs": [
    {
     "name": "stdout",
     "output_type": "stream",
     "text": [
      "(2, 2)\n",
      "[[2.66666667 2.66666667]\n",
      " [2.66666667 2.66666667]]\n"
     ]
    }
   ],
   "source": [
    "S = 1/3 * np.matmul(\n",
    "    np.matmul(\n",
    "        X.T,\n",
    "        H\n",
    "    ),\n",
    "    X\n",
    ")\n",
    "\n",
    "print(S.shape)\n",
    "\n",
    "print(S)"
   ]
  },
  {
   "cell_type": "code",
   "execution_count": 23,
   "metadata": {},
   "outputs": [
    {
     "name": "stdout",
     "output_type": "stream",
     "text": [
      "(1, 1)\n",
      "[[4.8]]\n"
     ]
    }
   ],
   "source": [
    "uS = np.matmul(\n",
    "    np.matmul(\n",
    "        u.T,\n",
    "        S\n",
    "    ),\n",
    "    u\n",
    ")\n",
    "\n",
    "print(uS.shape)\n",
    "\n",
    "print(uS)"
   ]
  }
 ],
 "metadata": {
  "kernelspec": {
   "display_name": ".venv",
   "language": "python",
   "name": "python3"
  },
  "language_info": {
   "codemirror_mode": {
    "name": "ipython",
    "version": 3
   },
   "file_extension": ".py",
   "mimetype": "text/x-python",
   "name": "python",
   "nbconvert_exporter": "python",
   "pygments_lexer": "ipython3",
   "version": "3.9.6"
  }
 },
 "nbformat": 4,
 "nbformat_minor": 2
}
