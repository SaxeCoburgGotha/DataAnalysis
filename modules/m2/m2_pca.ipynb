{
 "cells": [
  {
   "cell_type": "markdown",
   "metadata": {},
   "source": [
    "# M2 Genomics & High Dimensional Data"
   ]
  },
  {
   "cell_type": "markdown",
   "metadata": {},
   "source": [
    "#### Requirements"
   ]
  },
  {
   "cell_type": "code",
   "execution_count": 1,
   "metadata": {},
   "outputs": [],
   "source": [
    "import numpy as np\n",
    "from scipy import stats"
   ]
  },
  {
   "cell_type": "code",
   "execution_count": 2,
   "metadata": {},
   "outputs": [
    {
     "name": "stdout",
     "output_type": "stream",
     "text": [
      "(2, 2)\n",
      "[[ 0.70710678  0.70710678]\n",
      " [ 0.70710678 -0.70710678]]\n"
     ]
    }
   ],
   "source": [
    "P = np.array(\n",
    "    [\n",
    "        [\n",
    "            1/np.sqrt(2),\n",
    "            1/np.sqrt(2)\n",
    "        ],\n",
    "        [\n",
    "            1/np.sqrt(2),\n",
    "            -1/np.sqrt(2)\n",
    "        ]\n",
    "    ]\n",
    ")\n",
    "\n",
    "print(P.shape)\n",
    "\n",
    "print(P)"
   ]
  },
  {
   "cell_type": "code",
   "execution_count": 11,
   "metadata": {},
   "outputs": [
    {
     "name": "stdout",
     "output_type": "stream",
     "text": [
      "[[1. 0.]\n",
      " [0. 1.]]\n"
     ]
    }
   ],
   "source": [
    "D = np.eye(2)\n",
    "\n",
    "print(D)"
   ]
  },
  {
   "cell_type": "code",
   "execution_count": 12,
   "metadata": {},
   "outputs": [],
   "source": [
    "E_in = np.matmul(\n",
    "    np.matmul(\n",
    "        P,\n",
    "        D\n",
    "    ),\n",
    "    P\n",
    ")"
   ]
  },
  {
   "cell_type": "code",
   "execution_count": 13,
   "metadata": {},
   "outputs": [
    {
     "data": {
      "text/plain": [
       "array([[-1.00000000e+00,  2.23711432e-17]])"
      ]
     },
     "execution_count": 13,
     "metadata": {},
     "output_type": "execute_result"
    }
   ],
   "source": [
    "np.matmul(\n",
    "    np.array(\n",
    "        [\n",
    "            [\n",
    "                -1,\n",
    "                0\n",
    "            ]\n",
    "        ]\n",
    "    ),\n",
    "    E_in\n",
    ")"
   ]
  },
  {
   "cell_type": "markdown",
   "metadata": {},
   "source": [
    "## Visualization of High Dimensional Data"
   ]
  },
  {
   "cell_type": "markdown",
   "metadata": {},
   "source": [
    "### Principal Component Analysis (PCA)"
   ]
  },
  {
   "cell_type": "code",
   "execution_count": 13,
   "metadata": {},
   "outputs": [
    {
     "name": "stdout",
     "output_type": "stream",
     "text": [
      "(2, 2)\n",
      "[[ 0  1]\n",
      " [ 0 -1]]\n"
     ]
    }
   ],
   "source": [
    "X = np.array(\n",
    "    [\n",
    "        [\n",
    "            0,\n",
    "            1,\n",
    "        ],\n",
    "        [\n",
    "            0,\n",
    "            -1,\n",
    "        ]\n",
    "    ]\n",
    ")\n",
    "\n",
    "print(X.shape)\n",
    "print(X)\n"
   ]
  },
  {
   "cell_type": "code",
   "execution_count": 14,
   "metadata": {},
   "outputs": [
    {
     "name": "stdout",
     "output_type": "stream",
     "text": [
      "(2, 2)\n",
      "[[0. 0.]\n",
      " [0. 2.]]\n"
     ]
    }
   ],
   "source": [
    "S = (1 / (X.shape[0]-1)) * np.matmul(\n",
    "    X.T,\n",
    "    X\n",
    ")\n",
    "\n",
    "print(S.shape)\n",
    "\n",
    "print(S)"
   ]
  },
  {
   "cell_type": "code",
   "execution_count": 15,
   "metadata": {},
   "outputs": [
    {
     "data": {
      "text/plain": [
       "EigResult(eigenvalues=array([0., 2.]), eigenvectors=array([[1., 0.],\n",
       "       [0., 1.]]))"
      ]
     },
     "execution_count": 15,
     "metadata": {},
     "output_type": "execute_result"
    }
   ],
   "source": [
    "np.linalg.eig(S)"
   ]
  },
  {
   "cell_type": "code",
   "execution_count": 16,
   "metadata": {},
   "outputs": [
    {
     "name": "stdout",
     "output_type": "stream",
     "text": [
      "(4, 2)\n",
      "[[ 0  2]\n",
      " [ 0 -2]\n",
      " [ 1  1]\n",
      " [-1 -1]]\n"
     ]
    }
   ],
   "source": [
    "X = np.array(\n",
    "    [\n",
    "        [\n",
    "            0,\n",
    "            2\n",
    "        ],\n",
    "        [\n",
    "            0,\n",
    "            -2\n",
    "        ],\n",
    "        [\n",
    "            1,\n",
    "            1\n",
    "        ],\n",
    "        [\n",
    "            -1,\n",
    "            -1\n",
    "        ]\n",
    "    ]\n",
    ")\n",
    "\n",
    "print(X.shape)\n",
    "\n",
    "print(X)"
   ]
  },
  {
   "cell_type": "code",
   "execution_count": 18,
   "metadata": {},
   "outputs": [
    {
     "name": "stdout",
     "output_type": "stream",
     "text": [
      "(2, 2)\n",
      "[[0.5 0.5]\n",
      " [0.5 2.5]]\n"
     ]
    }
   ],
   "source": [
    "S = np.cov(\n",
    "    X,\n",
    "    bias = True,\n",
    "    rowvar = False\n",
    ")\n",
    "\n",
    "print(S.shape)\n",
    "\n",
    "print(S)"
   ]
  },
  {
   "cell_type": "code",
   "execution_count": 20,
   "metadata": {},
   "outputs": [],
   "source": [
    "e_decom = np.linalg.eig(S)"
   ]
  },
  {
   "cell_type": "code",
   "execution_count": 21,
   "metadata": {},
   "outputs": [
    {
     "data": {
      "text/plain": [
       "array([0.38196601, 2.61803399])"
      ]
     },
     "execution_count": 21,
     "metadata": {},
     "output_type": "execute_result"
    }
   ],
   "source": [
    "e_decom.eigenvalues"
   ]
  },
  {
   "cell_type": "code",
   "execution_count": 23,
   "metadata": {},
   "outputs": [
    {
     "data": {
      "text/plain": [
       "array([-0.97324899,  0.22975292])"
      ]
     },
     "execution_count": 23,
     "metadata": {},
     "output_type": "execute_result"
    }
   ],
   "source": [
    "e_decom.eigenvectors[:,0]"
   ]
  },
  {
   "cell_type": "code",
   "execution_count": 17,
   "metadata": {},
   "outputs": [
    {
     "name": "stdout",
     "output_type": "stream",
     "text": [
      "(3, 2)\n",
      "[[ 1  2]\n",
      " [ 3  4]\n",
      " [-1  0]]\n"
     ]
    }
   ],
   "source": [
    "X = np.array(\n",
    "    [\n",
    "        [\n",
    "            1,\n",
    "            2,\n",
    "        ],\n",
    "        [\n",
    "            3,\n",
    "            4,\n",
    "        ],\n",
    "        [\n",
    "            -1,\n",
    "            0\n",
    "        ]\n",
    "    ]\n",
    ")\n",
    "\n",
    "print(X.shape)\n",
    "print(X)\n"
   ]
  },
  {
   "cell_type": "code",
   "execution_count": 18,
   "metadata": {},
   "outputs": [
    {
     "name": "stdout",
     "output_type": "stream",
     "text": [
      "[[1]\n",
      " [1]\n",
      " [1]]\n",
      "(3, 1)\n"
     ]
    }
   ],
   "source": [
    "I1 = np.array(\n",
    "    [\n",
    "        [\n",
    "            1, 1, 1\n",
    "        ]\n",
    "    ]\n",
    ").reshape(3, 1)\n",
    "\n",
    "print(I1)\n",
    "\n",
    "print(I1.shape)\n"
   ]
  },
  {
   "cell_type": "code",
   "execution_count": 20,
   "metadata": {},
   "outputs": [],
   "source": [
    "H = np.eye(3) - (np.matmul(I1, I1.T)/3)"
   ]
  },
  {
   "cell_type": "code",
   "execution_count": 22,
   "metadata": {},
   "outputs": [
    {
     "name": "stdout",
     "output_type": "stream",
     "text": [
      "(2, 2)\n",
      "[[2.66666667 2.66666667]\n",
      " [2.66666667 2.66666667]]\n"
     ]
    }
   ],
   "source": [
    "S = 1/3 * np.matmul(\n",
    "    np.matmul(\n",
    "        X.T,\n",
    "        H\n",
    "    ),\n",
    "    X\n",
    ")\n",
    "\n",
    "print(S.shape)\n",
    "\n",
    "print(S)"
   ]
  },
  {
   "cell_type": "code",
   "execution_count": 23,
   "metadata": {},
   "outputs": [
    {
     "name": "stdout",
     "output_type": "stream",
     "text": [
      "(1, 1)\n",
      "[[4.8]]\n"
     ]
    }
   ],
   "source": [
    "uS = np.matmul(\n",
    "    np.matmul(\n",
    "        u.T,\n",
    "        S\n",
    "    ),\n",
    "    u\n",
    ")\n",
    "\n",
    "print(uS.shape)\n",
    "\n",
    "print(uS)"
   ]
  }
 ],
 "metadata": {
  "kernelspec": {
   "display_name": ".venv",
   "language": "python",
   "name": "python3"
  },
  "language_info": {
   "codemirror_mode": {
    "name": "ipython",
    "version": 3
   },
   "file_extension": ".py",
   "mimetype": "text/x-python",
   "name": "python",
   "nbconvert_exporter": "python",
   "pygments_lexer": "ipython3",
   "version": "3.9.6"
  }
 },
 "nbformat": 4,
 "nbformat_minor": 2
}
