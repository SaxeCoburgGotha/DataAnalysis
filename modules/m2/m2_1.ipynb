{
 "cells": [
  {
   "cell_type": "markdown",
   "metadata": {},
   "source": [
    "# Stats Review M1"
   ]
  },
  {
   "cell_type": "markdown",
   "metadata": {},
   "source": [
    "### Requirements"
   ]
  },
  {
   "cell_type": "code",
   "execution_count": 1,
   "metadata": {},
   "outputs": [],
   "source": [
    "from scipy import stats\n",
    "import numpy as np\n",
    "import plotly.express as px\n",
    "import pandas as pd\n",
    "from sklearn.linear_model import LinearRegression\n",
    "import statsmodels.api as sm\n",
    "import math"
   ]
  },
  {
   "cell_type": "code",
   "execution_count": 2,
   "metadata": {},
   "outputs": [
    {
     "name": "stdout",
     "output_type": "stream",
     "text": [
      "[[5.5 ]\n",
      " [5.  ]\n",
      " [3.25]]\n",
      "(3, 1)\n"
     ]
    }
   ],
   "source": [
    "X_mean = np.array(\n",
    "    [\n",
    "        [\n",
    "            5.5,\n",
    "            5,\n",
    "            3.25\n",
    "        ]\n",
    "    ]\n",
    ").reshape(3, 1)\n",
    "\n",
    "print(X_mean)\n",
    "\n",
    "print(X_mean.shape)"
   ]
  },
  {
   "cell_type": "code",
   "execution_count": 3,
   "metadata": {},
   "outputs": [
    {
     "name": "stdout",
     "output_type": "stream",
     "text": [
      "[[30.25   27.5    17.875 ]\n",
      " [27.5    25.     16.25  ]\n",
      " [17.875  16.25   10.5625]]\n",
      "(3, 3)\n"
     ]
    }
   ],
   "source": [
    "XXT_mean = np.matmul(\n",
    "    X_mean,\n",
    "    X_mean.T\n",
    ")\n",
    "\n",
    "print(XXT_mean)\n",
    "\n",
    "print(XXT_mean.shape)"
   ]
  },
  {
   "cell_type": "code",
   "execution_count": 4,
   "metadata": {},
   "outputs": [
    {
     "name": "stdout",
     "output_type": "stream",
     "text": [
      "[[8 2 3 9]\n",
      " [4 8 1 7]\n",
      " [7 1 1 4]]\n",
      "(3, 4)\n"
     ]
    }
   ],
   "source": [
    "X = np.array(\n",
    "    [\n",
    "        [\n",
    "            8,\n",
    "            2,\n",
    "            3,\n",
    "            9\n",
    "        ],\n",
    "        [\n",
    "            4,\n",
    "            8,\n",
    "            1,\n",
    "            7\n",
    "        ],\n",
    "        [\n",
    "            7,\n",
    "            1,\n",
    "            1,\n",
    "            4\n",
    "        ]\n",
    "    ]\n",
    ")\n",
    "\n",
    "print(X)\n",
    "\n",
    "print(X.shape)"
   ]
  },
  {
   "cell_type": "code",
   "execution_count": 5,
   "metadata": {},
   "outputs": [
    {
     "name": "stdout",
     "output_type": "stream",
     "text": [
      "(1, 3)\n",
      "[[8 4 7]]\n",
      "[[64 32 56]\n",
      " [32 16 28]\n",
      " [56 28 49]]\n",
      "(1, 3)\n",
      "[[2 8 1]]\n",
      "[[68 48 58]\n",
      " [48 80 36]\n",
      " [58 36 50]]\n",
      "(1, 3)\n",
      "[[3 1 1]]\n",
      "[[77 51 61]\n",
      " [51 81 37]\n",
      " [61 37 51]]\n",
      "(1, 3)\n",
      "[[9 7 4]]\n",
      "[[158 114  97]\n",
      " [114 130  65]\n",
      " [ 97  65  67]]\n"
     ]
    }
   ],
   "source": [
    "XXT = None\n",
    "for col in X.T:\n",
    "    col_T = np.array([col])\n",
    "    print(col_T.shape)\n",
    "    print(col_T)\n",
    "    XXT = np.matmul(col_T.T, col_T) if XXT is None else (XXT + np.matmul(col_T.T, col_T))\n",
    "    print(XXT)"
   ]
  },
  {
   "cell_type": "code",
   "execution_count": 6,
   "metadata": {},
   "outputs": [
    {
     "name": "stdout",
     "output_type": "stream",
     "text": [
      "[[9.25   1.     6.375 ]\n",
      " [1.     7.5    0.    ]\n",
      " [6.375  0.     6.1875]]\n",
      "(3, 3)\n"
     ]
    }
   ],
   "source": [
    "S = (XXT/X.shape[1]) - XXT_mean\n",
    "\n",
    "print(S)\n",
    "\n",
    "print(S.shape)"
   ]
  },
  {
   "cell_type": "code",
   "execution_count": 7,
   "metadata": {},
   "outputs": [
    {
     "name": "stdout",
     "output_type": "stream",
     "text": [
      "[[1]\n",
      " [1]\n",
      " [1]]\n",
      "(3, 1)\n"
     ]
    }
   ],
   "source": [
    "I1 = np.array(\n",
    "    [\n",
    "        [\n",
    "            1, 1, 1\n",
    "        ]\n",
    "    ]\n",
    ").reshape(3, 1)\n",
    "\n",
    "print(I1)\n",
    "\n",
    "print(I1.shape)"
   ]
  },
  {
   "cell_type": "code",
   "execution_count": 8,
   "metadata": {},
   "outputs": [],
   "source": [
    "H = np.eye(3) - (np.matmul(I1, I1.T)/3)"
   ]
  },
  {
   "cell_type": "code",
   "execution_count": 9,
   "metadata": {},
   "outputs": [
    {
     "data": {
      "text/plain": [
       "array([[ 0.66666667, -0.33333333, -0.33333333],\n",
       "       [-0.33333333,  0.66666667, -0.33333333],\n",
       "       [-0.33333333, -0.33333333,  0.66666667]])"
      ]
     },
     "execution_count": 9,
     "metadata": {},
     "output_type": "execute_result"
    }
   ],
   "source": [
    "H"
   ]
  },
  {
   "cell_type": "code",
   "execution_count": 10,
   "metadata": {},
   "outputs": [
    {
     "data": {
      "text/plain": [
       "array([[ 0.66666667, -0.33333333, -0.33333333],\n",
       "       [-0.33333333,  0.66666667, -0.33333333],\n",
       "       [-0.33333333, -0.33333333,  0.66666667]])"
      ]
     },
     "execution_count": 10,
     "metadata": {},
     "output_type": "execute_result"
    }
   ],
   "source": [
    "np.matmul(H, H)"
   ]
  },
  {
   "cell_type": "code",
   "execution_count": 11,
   "metadata": {},
   "outputs": [
    {
     "data": {
      "text/plain": [
       "array([[0.44444444, 0.11111111, 0.11111111],\n",
       "       [0.11111111, 0.44444444, 0.11111111],\n",
       "       [0.11111111, 0.11111111, 0.44444444]])"
      ]
     },
     "execution_count": 11,
     "metadata": {},
     "output_type": "execute_result"
    }
   ],
   "source": [
    "H**2"
   ]
  },
  {
   "cell_type": "code",
   "execution_count": 12,
   "metadata": {},
   "outputs": [
    {
     "data": {
      "text/plain": [
       "0.36"
      ]
     },
     "execution_count": 12,
     "metadata": {},
     "output_type": "execute_result"
    }
   ],
   "source": [
    "0.6**2"
   ]
  },
  {
   "cell_type": "code",
   "execution_count": 23,
   "metadata": {},
   "outputs": [
    {
     "name": "stdout",
     "output_type": "stream",
     "text": [
      "[[ 2]\n",
      " [-1]\n",
      " [-2]]\n",
      "(3, 1)\n"
     ]
    }
   ],
   "source": [
    "x = np.array(\n",
    "    [\n",
    "        [\n",
    "            2, -1, -2\n",
    "        ]\n",
    "    ]\n",
    ").reshape(3, 1)\n",
    "\n",
    "print(x)\n",
    "\n",
    "print(x.shape)"
   ]
  },
  {
   "cell_type": "code",
   "execution_count": 42,
   "metadata": {},
   "outputs": [
    {
     "data": {
      "text/plain": [
       "array([[ 2.33333333],\n",
       "       [-0.66666667],\n",
       "       [-1.66666667]])"
      ]
     },
     "execution_count": 42,
     "metadata": {},
     "output_type": "execute_result"
    }
   ],
   "source": [
    "np.matmul(np.matmul(H, H), x)"
   ]
  },
  {
   "cell_type": "code",
   "execution_count": 37,
   "metadata": {},
   "outputs": [
    {
     "data": {
      "text/plain": [
       "array([[ 0.55555556],\n",
       "       [-0.44444444],\n",
       "       [-0.77777778]])"
      ]
     },
     "execution_count": 37,
     "metadata": {},
     "output_type": "execute_result"
    }
   ],
   "source": [
    "np.matmul(H**2, x)"
   ]
  },
  {
   "cell_type": "code",
   "execution_count": 4,
   "metadata": {},
   "outputs": [],
   "source": [
    "reg = LinearRegression().fit(\n",
    "    X= (\n",
    "        frame\n",
    "        .drop(columns=[\"LogPlanetMass\"])\n",
    "    ),\n",
    "    y=frame.LogPlanetMass\n",
    "    )"
   ]
  },
  {
   "cell_type": "code",
   "execution_count": 5,
   "metadata": {},
   "outputs": [
    {
     "data": {
      "text/plain": [
       "array([ 1.40214538, -0.14099818, -1.59951364, -0.95610919, -0.46176234])"
      ]
     },
     "execution_count": 5,
     "metadata": {},
     "output_type": "execute_result"
    }
   ],
   "source": [
    "reg.coef_"
   ]
  },
  {
   "cell_type": "code",
   "execution_count": 6,
   "metadata": {},
   "outputs": [
    {
     "data": {
      "text/plain": [
       "0.15379302910641224"
      ]
     },
     "execution_count": 6,
     "metadata": {},
     "output_type": "execute_result"
    }
   ],
   "source": [
    "reg.intercept_"
   ]
  },
  {
   "cell_type": "code",
   "execution_count": 32,
   "metadata": {},
   "outputs": [],
   "source": [
    "frame.insert(loc=0, column=\"intercept\", value=1)\n",
    "\n",
    "X = (\n",
    "    frame\n",
    "    .drop(columns=[\"LogPlanetMass\"])\n",
    "    .to_numpy()\n",
    ")"
   ]
  },
  {
   "cell_type": "code",
   "execution_count": 55,
   "metadata": {},
   "outputs": [
    {
     "data": {
      "text/plain": [
       "(30, 6)"
      ]
     },
     "execution_count": 55,
     "metadata": {},
     "output_type": "execute_result"
    }
   ],
   "source": [
    "X.shape"
   ]
  },
  {
   "cell_type": "code",
   "execution_count": 56,
   "metadata": {},
   "outputs": [],
   "source": [
    "XX_inv = np.linalg.inv(np.matmul(X.T, X))"
   ]
  },
  {
   "cell_type": "code",
   "execution_count": 57,
   "metadata": {},
   "outputs": [
    {
     "data": {
      "text/plain": [
       "(6, 6)"
      ]
     },
     "execution_count": 57,
     "metadata": {},
     "output_type": "execute_result"
    }
   ],
   "source": [
    "XX_inv.shape"
   ]
  },
  {
   "cell_type": "code",
   "execution_count": 60,
   "metadata": {},
   "outputs": [
    {
     "name": "stderr",
     "output_type": "stream",
     "text": [
      "/Users/administrator/Desktop/Analysis /Code/.venv/lib/python3.9/site-packages/numpy/lib/function_base.py:2455: RuntimeWarning: invalid value encountered in sqrt\n",
      "  outputs = ufunc(*inputs)\n"
     ]
    }
   ],
   "source": [
    "XX_inv_sqrt = np.vectorize(np.sqrt)(XX_inv)"
   ]
  },
  {
   "cell_type": "code",
   "execution_count": 62,
   "metadata": {},
   "outputs": [],
   "source": [
    "epsi = np.diagonal(XX_inv_sqrt)"
   ]
  },
  {
   "cell_type": "code",
   "execution_count": 63,
   "metadata": {},
   "outputs": [],
   "source": [
    "frame['Predicted'] = reg.predict(X=(\n",
    "    frame\n",
    "    .drop(\n",
    "        columns=['intercept', \"LogPlanetMass\"]\n",
    "    )\n",
    "))"
   ]
  },
  {
   "cell_type": "code",
   "execution_count": 64,
   "metadata": {},
   "outputs": [],
   "source": [
    "frame['Residuals'] = frame.LogPlanetMass - frame.Predicted"
   ]
  },
  {
   "cell_type": "code",
   "execution_count": 67,
   "metadata": {},
   "outputs": [],
   "source": [
    "frame = frame.assign(\n",
    "    residuals_sqrt = lambda M: M.Residuals.map(lambda u: u**2),\n",
    ")"
   ]
  },
  {
   "cell_type": "code",
   "execution_count": 72,
   "metadata": {},
   "outputs": [],
   "source": [
    "sigma_sqrt = 1/(N - 4) * frame.sum(axis=0)['residuals_sqrt']"
   ]
  },
  {
   "cell_type": "code",
   "execution_count": 73,
   "metadata": {},
   "outputs": [],
   "source": [
    "sigma_epsi = np.sqrt(sigma_sqrt) * epsi"
   ]
  },
  {
   "cell_type": "code",
   "execution_count": 81,
   "metadata": {},
   "outputs": [
    {
     "data": {
      "text/plain": [
       "array([1.33450155, 0.2752293 , 0.34567635, 1.20149093, 1.07311457,\n",
       "       0.35697812])"
      ]
     },
     "execution_count": 81,
     "metadata": {},
     "output_type": "execute_result"
    }
   ],
   "source": [
    "sigma_epsi"
   ]
  },
  {
   "cell_type": "code",
   "execution_count": 79,
   "metadata": {},
   "outputs": [],
   "source": [
    "coeffs = np.array([reg.intercept_] + list(reg.coef_))"
   ]
  },
  {
   "cell_type": "code",
   "execution_count": 82,
   "metadata": {},
   "outputs": [
    {
     "data": {
      "text/plain": [
       "array([ 0.15379303,  1.40214538, -0.14099818, -1.59951364, -0.95610919,\n",
       "       -0.46176234])"
      ]
     },
     "execution_count": 82,
     "metadata": {},
     "output_type": "execute_result"
    }
   ],
   "source": [
    "coeffs"
   ]
  },
  {
   "cell_type": "code",
   "execution_count": 80,
   "metadata": {},
   "outputs": [
    {
     "data": {
      "text/plain": [
       "array([ 0.1152438 ,  5.09446261, -0.40789075, -1.331274  , -0.89096655,\n",
       "       -1.29353121])"
      ]
     },
     "execution_count": 80,
     "metadata": {},
     "output_type": "execute_result"
    }
   ],
   "source": [
    "coeffs/sigma_epsi"
   ]
  },
  {
   "cell_type": "code",
   "execution_count": 83,
   "metadata": {},
   "outputs": [],
   "source": [
    "def p_from_t_test(val:float) -> float:\n",
    "    return stats.t.sf(np.abs(val), 25)*2"
   ]
  },
  {
   "cell_type": "code",
   "execution_count": 84,
   "metadata": {},
   "outputs": [
    {
     "data": {
      "text/plain": [
       "array([9.09172545e-01, 2.91944715e-05, 6.86826076e-01, 1.95112131e-01,\n",
       "       3.81441989e-01, 2.07651956e-01])"
      ]
     },
     "execution_count": 84,
     "metadata": {},
     "output_type": "execute_result"
    }
   ],
   "source": [
    "np.vectorize(p_from_t_test)(coeffs/sigma_epsi)"
   ]
  }
 ],
 "metadata": {
  "kernelspec": {
   "display_name": ".venv",
   "language": "python",
   "name": "python3"
  },
  "language_info": {
   "codemirror_mode": {
    "name": "ipython",
    "version": 3
   },
   "file_extension": ".py",
   "mimetype": "text/x-python",
   "name": "python",
   "nbconvert_exporter": "python",
   "pygments_lexer": "ipython3",
   "version": "3.9.6"
  }
 },
 "nbformat": 4,
 "nbformat_minor": 2
}
