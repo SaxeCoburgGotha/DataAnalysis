{
 "cells": [
  {
   "cell_type": "code",
   "execution_count": null,
   "metadata": {},
   "outputs": [],
   "source": [
    "# Notebook: problem 2 autograded answers. \n",
    "# Author: Ben Bernal\n",
    "# Date: 08JUL2024"
   ]
  },
  {
   "cell_type": "markdown",
   "metadata": {},
   "source": [
    "### Preliminaries"
   ]
  },
  {
   "cell_type": "markdown",
   "metadata": {},
   "source": [
    "#### Libraries"
   ]
  },
  {
   "cell_type": "code",
   "execution_count": 18,
   "metadata": {},
   "outputs": [],
   "source": [
    "import numpy as np\n",
    "import pandas as pd\n",
    "import networkx as nx\n",
    "from os import path, listdir\n",
    "from pprint import pprint\n",
    "import re"
   ]
  },
  {
   "cell_type": "markdown",
   "metadata": {},
   "source": [
    "#### Utilities"
   ]
  },
  {
   "cell_type": "code",
   "execution_count": 4,
   "metadata": {},
   "outputs": [],
   "source": [
    "from utilities import json as util_json"
   ]
  },
  {
   "cell_type": "markdown",
   "metadata": {},
   "source": [
    "#### Configuration"
   ]
  },
  {
   "cell_type": "code",
   "execution_count": 9,
   "metadata": {},
   "outputs": [],
   "source": [
    "env_config = util_json.to_dict(\n",
    "    file_path=\"../../config/env.json\"\n",
    ")"
   ]
  },
  {
   "cell_type": "markdown",
   "metadata": {},
   "source": [
    "# Investigating a Time-Varying Criminal Network"
   ]
  },
  {
   "cell_type": "markdown",
   "metadata": {},
   "source": [
    "## DataSet"
   ]
  },
  {
   "cell_type": "code",
   "execution_count": 16,
   "metadata": {},
   "outputs": [
    {
     "name": "stdout",
     "output_type": "stream",
     "text": [
      "['phase6.csv',\n",
      " 'phase7.csv',\n",
      " 'phase5.csv',\n",
      " 'phase4.csv',\n",
      " 'phase10.csv',\n",
      " 'phase11.csv',\n",
      " 'phase1.csv',\n",
      " 'phase3.csv',\n",
      " 'phase2.csv',\n",
      " 'phase9.csv',\n",
      " 'phase8.csv']\n"
     ]
    }
   ],
   "source": [
    "data_pointer = path.normpath(\n",
    "                    path.join(\n",
    "                        env_config['root'],\n",
    "                        \"modules/m3/CAVIAR\"\n",
    "                    )\n",
    "                )\n",
    "phases_lst = listdir(\n",
    "                path= data_pointer\n",
    "            )\n",
    "\n",
    "pprint(phases_lst)"
   ]
  },
  {
   "cell_type": "code",
   "execution_count": 22,
   "metadata": {},
   "outputs": [
    {
     "data": {
      "text/plain": [
       "'phase6'"
      ]
     },
     "execution_count": 22,
     "metadata": {},
     "output_type": "execute_result"
    }
   ],
   "source": [
    "re.split(pattern=r\"\\.\", string=\"phase6.csv\")[0]"
   ]
  },
  {
   "cell_type": "code",
   "execution_count": 17,
   "metadata": {},
   "outputs": [],
   "source": [
    "frame_lst = [\n",
    "    pd.read_csv(\n",
    "        filepath_or_buffer=path.normpath(\n",
    "            path.join(\n",
    "                data_pointer,\n",
    "                phase_file\n",
    "            )\n",
    "        )\n",
    "    )\n",
    "    for phase_file in phases_lst\n",
    "]"
   ]
  },
  {
   "cell_type": "code",
   "execution_count": 28,
   "metadata": {},
   "outputs": [],
   "source": [
    "graph_dict = {}\n",
    "\n",
    "for phase_str in phases_lst:\n",
    "\n",
    "    tmp_frame = pd.read_csv(\n",
    "        filepath_or_buffer=path.normpath(\n",
    "            path.join(\n",
    "                data_pointer,\n",
    "                phase_str\n",
    "            )\n",
    "        )\n",
    "    )\n",
    "\n",
    "    break"
   ]
  },
  {
   "cell_type": "code",
   "execution_count": null,
   "metadata": {},
   "outputs": [],
   "source": [
    "tmp_frame"
   ]
  },
  {
   "cell_type": "markdown",
   "metadata": {},
   "source": [
    "## Network Size"
   ]
  },
  {
   "cell_type": "code",
   "execution_count": 10,
   "metadata": {},
   "outputs": [
    {
     "data": {
      "text/plain": [
       "'/Users/administrator/Desktop/Analysis/Code'"
      ]
     },
     "execution_count": 10,
     "metadata": {},
     "output_type": "execute_result"
    }
   ],
   "source": [
    "env_config['root']"
   ]
  }
 ],
 "metadata": {
  "kernelspec": {
   "display_name": ".venv",
   "language": "python",
   "name": "python3"
  },
  "language_info": {
   "codemirror_mode": {
    "name": "ipython",
    "version": 3
   },
   "file_extension": ".py",
   "mimetype": "text/x-python",
   "name": "python",
   "nbconvert_exporter": "python",
   "pygments_lexer": "ipython3",
   "version": "3.9.6"
  }
 },
 "nbformat": 4,
 "nbformat_minor": 2
}
