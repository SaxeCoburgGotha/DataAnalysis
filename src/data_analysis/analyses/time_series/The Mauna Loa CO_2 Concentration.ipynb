{
 "cells": [
  {
   "cell_type": "code",
   "execution_count": 2,
   "metadata": {},
   "outputs": [],
   "source": [
    "# Notebook: Answers to Question 2\n",
    "# Author: Ben Bernal\n",
    "# Date: 08JUL2024"
   ]
  },
  {
   "cell_type": "markdown",
   "metadata": {},
   "source": [
    "### Preliminaries"
   ]
  },
  {
   "cell_type": "markdown",
   "metadata": {},
   "source": [
    "#### Libraries"
   ]
  },
  {
   "cell_type": "code",
   "execution_count": 3,
   "metadata": {},
   "outputs": [],
   "source": [
    "import numpy as np\n",
    "import pandas as pd\n",
    "import networkx as nx\n",
    "from os import path, listdir\n",
    "from pprint import pprint\n",
    "import re\n",
    "import plotly.express as px\n",
    "import plotly.graph_objects as go\n",
    "from dataclasses import make_dataclass\n",
    "import statsmodels.tsa.api as smt"
   ]
  },
  {
   "cell_type": "markdown",
   "metadata": {},
   "source": [
    "#### Utilities"
   ]
  },
  {
   "cell_type": "code",
   "execution_count": 4,
   "metadata": {},
   "outputs": [],
   "source": [
    "from utilities import json as util_json"
   ]
  },
  {
   "cell_type": "markdown",
   "metadata": {},
   "source": [
    "#### Configuration"
   ]
  },
  {
   "cell_type": "code",
   "execution_count": 5,
   "metadata": {},
   "outputs": [],
   "source": [
    "env_config = util_json.to_dict(\n",
    "    file_path=\"../../config/env.json\"\n",
    ")"
   ]
  },
  {
   "cell_type": "markdown",
   "metadata": {},
   "source": [
    "# Dataset"
   ]
  },
  {
   "cell_type": "code",
   "execution_count": 24,
   "metadata": {},
   "outputs": [
    {
     "name": "stdout",
     "output_type": "stream",
     "text": [
      "+----+--------+---------+--------------+----------------+-------------+----------------------------------+-----------------+--------------------------------------+--------------------+-----------------------------------------+\n",
      "|    |   year |   month |   date_excel |   date_decimal |   CO2_[ppm] |   CO2_[ppm]_seasonality_adjusted |   CO2_[ppm]_fit |   CO2_[ppm]_seasonality_adjusted_fit |   CO2_[ppm]_filled |   CO2_[ppm]_seasonality_adjusted_filled |\n",
      "+====+========+=========+==============+================+=============+==================================+=================+======================================+====================+=========================================+\n",
      "|  0 |   1958 |       1 |        21200 |        1958.04 |      -99.99 |                           -99.99 |          -99.99 |                               -99.99 |             -99.99 |                                  -99.99 |\n",
      "+----+--------+---------+--------------+----------------+-------------+----------------------------------+-----------------+--------------------------------------+--------------------+-----------------------------------------+\n",
      "|  1 |   1958 |       2 |        21231 |        1958.13 |      -99.99 |                           -99.99 |          -99.99 |                               -99.99 |             -99.99 |                                  -99.99 |\n",
      "+----+--------+---------+--------------+----------------+-------------+----------------------------------+-----------------+--------------------------------------+--------------------+-----------------------------------------+\n",
      "|  2 |   1958 |       3 |        21259 |        1958.2  |      315.7  |                           314.43 |          316.19 |                               314.9  |             315.7  |                                  314.43 |\n",
      "+----+--------+---------+--------------+----------------+-------------+----------------------------------+-----------------+--------------------------------------+--------------------+-----------------------------------------+\n"
     ]
    }
   ],
   "source": [
    "raw_frame = pd.read_csv(\n",
    "    path.normpath(\n",
    "        path.join(\n",
    "            env_config['root'],\n",
    "            \"modules/m4/release_time_series_report_data_nops/CO2.csv\"\n",
    "        )\n",
    "    ),\n",
    "    header=56,\n",
    "    names = [\n",
    "        'year',\n",
    "        'month',\n",
    "        'date_excel',\n",
    "        'date_decimal',\n",
    "        'CO2_[ppm]',\n",
    "        'CO2_[ppm]_seasonality_adjusted',\n",
    "        \"CO2_[ppm]_fit\",\n",
    "        \"CO2_[ppm]_seasonality_adjusted_fit\",\n",
    "        \"CO2_[ppm]_filled\",\n",
    "        \"CO2_[ppm]_seasonality_adjusted_filled\"\n",
    "    ]\n",
    ")\n",
    "\n",
    "print(raw_frame.head(3).to_markdown(tablefmt=\"grid\"))"
   ]
  }
 ],
 "metadata": {
  "kernelspec": {
   "display_name": ".venv",
   "language": "python",
   "name": "python3"
  },
  "language_info": {
   "codemirror_mode": {
    "name": "ipython",
    "version": 3
   },
   "file_extension": ".py",
   "mimetype": "text/x-python",
   "name": "python",
   "nbconvert_exporter": "python",
   "pygments_lexer": "ipython3",
   "version": "3.9.6"
  }
 },
 "nbformat": 4,
 "nbformat_minor": 2
}
