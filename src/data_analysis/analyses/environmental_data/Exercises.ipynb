{
 "cells": [
  {
   "cell_type": "code",
   "execution_count": 1,
   "metadata": {},
   "outputs": [],
   "source": [
    "# Notebook: Excercises\n",
    "# Author: Ben Bernal\n",
    "# Date: 29JUL2024"
   ]
  },
  {
   "cell_type": "markdown",
   "metadata": {},
   "source": [
    "### Preliminaries"
   ]
  },
  {
   "cell_type": "markdown",
   "metadata": {},
   "source": [
    "#### Libraries"
   ]
  },
  {
   "cell_type": "code",
   "execution_count": 2,
   "metadata": {},
   "outputs": [],
   "source": [
    "import numpy as np\n",
    "import pandas as pd\n",
    "from os import path, listdir\n",
    "from pprint import pprint\n",
    "import re\n",
    "import plotly.express as px\n",
    "import plotly.graph_objects as go\n",
    "from dataclasses import make_dataclass\n",
    "from icecream import ic\n",
    "from sklearn.preprocessing import PolynomialFeatures\n",
    "from sklearn.model_selection import TimeSeriesSplit\n",
    "from sklearn.linear_model import LinearRegression\n",
    "from sklearn.metrics import root_mean_squared_error as rmse\n",
    "from sklearn.metrics import mean_absolute_percentage_error as mape\n",
    "from statsmodels.graphics.tsaplots import plot_acf, plot_pacf\n",
    "from statsmodels.tsa.ar_model import AutoReg\n",
    "from random import gauss"
   ]
  },
  {
   "cell_type": "markdown",
   "metadata": {},
   "source": [
    "#### Utilities"
   ]
  },
  {
   "cell_type": "code",
   "execution_count": 3,
   "metadata": {},
   "outputs": [],
   "source": [
    "from utilities import json as util_json"
   ]
  },
  {
   "cell_type": "markdown",
   "metadata": {},
   "source": [
    "#### Configuration"
   ]
  },
  {
   "cell_type": "code",
   "execution_count": 4,
   "metadata": {},
   "outputs": [],
   "source": [
    "env_config = util_json.to_dict(\n",
    "    file_path=\"../../config/env.json\"\n",
    ")"
   ]
  },
  {
   "cell_type": "markdown",
   "metadata": {},
   "source": [
    "# Problems"
   ]
  },
  {
   "cell_type": "code",
   "execution_count": 6,
   "metadata": {},
   "outputs": [],
   "source": [
    "def join_distribution(x1:int, x2:int) -> float:\n",
    "    if (x1 % 2) == 0:\n",
    "        if (x2 % 2) == 0:\n",
    "            return 0\n",
    "        else:\n",
    "            return (1/6) * (1/3)\n",
    "    else:\n",
    "\n",
    "        return (1/6)**2"
   ]
  },
  {
   "cell_type": "code",
   "execution_count": 7,
   "metadata": {},
   "outputs": [
    {
     "name": "stderr",
     "output_type": "stream",
     "text": [
      "ic| expectation: 11.250000000000002\n"
     ]
    },
    {
     "data": {
      "text/plain": [
       "11.250000000000002"
      ]
     },
     "execution_count": 7,
     "metadata": {},
     "output_type": "execute_result"
    }
   ],
   "source": [
    "items = []\n",
    "for i in range(1, 7):\n",
    "    for j in range(1, 7):\n",
    "\n",
    "        tmp_val = i * j * join_distribution(x1=i, x2=j)\n",
    "        items.append(\n",
    "            tmp_val\n",
    "        )\n",
    "\n",
    "expectation = sum(items)\n",
    "\n",
    "ic(expectation)"
   ]
  },
  {
   "cell_type": "code",
   "execution_count": 8,
   "metadata": {},
   "outputs": [],
   "source": [
    "joint_dist = {\n",
    "    0:{\n",
    "        -1:0,\n",
    "        0:1/3,\n",
    "        1:0\n",
    "    },\n",
    "    1:{\n",
    "        -1:1/3,\n",
    "        0:0,\n",
    "        1:1/3\n",
    "    }\n",
    "}"
   ]
  },
  {
   "cell_type": "code",
   "execution_count": 9,
   "metadata": {},
   "outputs": [],
   "source": [
    "items_excp_x = []\n",
    "items_excp_y = []\n",
    "items = []\n",
    "\n",
    "for i in range(0,2):\n",
    "    for j in range(-1, 2):\n",
    "        tmp_prob = joint_dist[i][j]\n",
    "        excp_x = i * tmp_prob\n",
    "        excp_y = j * tmp_prob\n",
    "        excp = i * j * tmp_prob \n",
    "        items_excp_x.append(excp_x)\n",
    "        items_excp_y.append(excp_y)\n",
    "        items.append(excp)"
   ]
  },
  {
   "cell_type": "code",
   "execution_count": 10,
   "metadata": {},
   "outputs": [
    {
     "name": "stderr",
     "output_type": "stream",
     "text": [
      "ic| expectation_x: 0.6666666666666666\n",
      "ic| expectation_y: 0.0\n",
      "ic| expectation: 0.0\n"
     ]
    },
    {
     "data": {
      "text/plain": [
       "0.0"
      ]
     },
     "execution_count": 10,
     "metadata": {},
     "output_type": "execute_result"
    }
   ],
   "source": [
    "expectation_x = sum(items_excp_x)\n",
    "ic(expectation_x)\n",
    "\n",
    "expectation_y = sum(items_excp_y)\n",
    "ic(expectation_y)\n",
    "\n",
    "expectation = sum(items)\n",
    "ic(expectation)"
   ]
  },
  {
   "cell_type": "code",
   "execution_count": 13,
   "metadata": {},
   "outputs": [
    {
     "data": {
      "text/plain": [
       "[0, 0.0, 0, 0.3333333333333333, 0, 0.3333333333333333]"
      ]
     },
     "execution_count": 13,
     "metadata": {},
     "output_type": "execute_result"
    }
   ],
   "source": [
    "items_excp_x"
   ]
  },
  {
   "cell_type": "code",
   "execution_count": 26,
   "metadata": {},
   "outputs": [
    {
     "name": "stderr",
     "output_type": "stream",
     "text": [
      "ic| mu_cond: 56.25\n"
     ]
    },
    {
     "data": {
      "text/plain": [
       "56.25"
      ]
     },
     "execution_count": 26,
     "metadata": {},
     "output_type": "execute_result"
    }
   ],
   "source": [
    "mu_cond = 60 + (\n",
    "    (100/(20**2)) * (75-90)\n",
    ")\n",
    "ic(mu_cond)"
   ]
  },
  {
   "cell_type": "code",
   "execution_count": 27,
   "metadata": {},
   "outputs": [
    {
     "name": "stderr",
     "output_type": "stream",
     "text": [
      "ic| sigma_sqrt_cond: 125.0\n"
     ]
    },
    {
     "data": {
      "text/plain": [
       "125.0"
      ]
     },
     "execution_count": 27,
     "metadata": {},
     "output_type": "execute_result"
    }
   ],
   "source": [
    "sigma_sqrt_cond = (10**2) + ((100**2)/(20**2))\n",
    "ic(sigma_sqrt_cond)"
   ]
  },
  {
   "cell_type": "code",
   "execution_count": 17,
   "metadata": {},
   "outputs": [
    {
     "data": {
      "text/plain": [
       "3.141592653589793"
      ]
     },
     "execution_count": 17,
     "metadata": {},
     "output_type": "execute_result"
    }
   ],
   "source": [
    "np.pi"
   ]
  },
  {
   "cell_type": "code",
   "execution_count": 18,
   "metadata": {},
   "outputs": [],
   "source": [
    "def cond_dist(x:float) -> float:\n",
    "    prefix = 1/ (np.sqrt(sigma_sqrt_cond) * np.sqrt(2 * np.pi))\n",
    "    exp_val = np.exp(-((x - mu_cond)^2)/(2*sigma_sqrt_cond))\n",
    "    return prefix * exp_val"
   ]
  },
  {
   "cell_type": "code",
   "execution_count": 28,
   "metadata": {},
   "outputs": [
    {
     "name": "stderr",
     "output_type": "stream",
     "text": [
      "ic| z: 0.0\n"
     ]
    },
    {
     "data": {
      "text/plain": [
       "0.0"
      ]
     },
     "execution_count": 28,
     "metadata": {},
     "output_type": "execute_result"
    }
   ],
   "source": [
    "z = (56.25 - mu_cond)/np.sqrt(sigma_sqrt_cond)\n",
    "ic(z)"
   ]
  }
 ],
 "metadata": {
  "kernelspec": {
   "display_name": ".venv",
   "language": "python",
   "name": "python3"
  },
  "language_info": {
   "codemirror_mode": {
    "name": "ipython",
    "version": 3
   },
   "file_extension": ".py",
   "mimetype": "text/x-python",
   "name": "python",
   "nbconvert_exporter": "python",
   "pygments_lexer": "ipython3",
   "version": "3.9.6"
  }
 },
 "nbformat": 4,
 "nbformat_minor": 2
}
