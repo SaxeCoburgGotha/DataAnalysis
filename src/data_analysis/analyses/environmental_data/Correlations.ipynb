{
 "cells": [
  {
   "cell_type": "code",
   "execution_count": 1,
   "metadata": {},
   "outputs": [],
   "source": [
    "# Notebook: Workout problems\n",
    "# Author: Ben Bernal\n",
    "# Date: 29JUL2024"
   ]
  },
  {
   "cell_type": "markdown",
   "metadata": {},
   "source": [
    "### Preliminaries"
   ]
  },
  {
   "cell_type": "markdown",
   "metadata": {},
   "source": [
    "#### Libraries"
   ]
  },
  {
   "cell_type": "code",
   "execution_count": 2,
   "metadata": {},
   "outputs": [],
   "source": [
    "import numpy as np\n",
    "import pandas as pd\n",
    "import typing as hint\n",
    "from os import path, listdir\n",
    "from pprint import pprint\n",
    "import re\n",
    "import plotly.express as px\n",
    "import plotly.graph_objects as go\n",
    "from dataclasses import make_dataclass"
   ]
  },
  {
   "cell_type": "markdown",
   "metadata": {},
   "source": [
    "#### Utilities"
   ]
  },
  {
   "cell_type": "code",
   "execution_count": 3,
   "metadata": {},
   "outputs": [],
   "source": [
    "from data_analysis.utilities import json as util_json"
   ]
  },
  {
   "cell_type": "markdown",
   "metadata": {},
   "source": [
    "#### Configuration"
   ]
  },
  {
   "cell_type": "code",
   "execution_count": 4,
   "metadata": {},
   "outputs": [],
   "source": [
    "env_config = util_json.to_dict(\n",
    "    file_path=\"../../config/env.json\"\n",
    ")"
   ]
  },
  {
   "cell_type": "markdown",
   "metadata": {},
   "source": [
    "# Dataset"
   ]
  },
  {
   "cell_type": "markdown",
   "metadata": {},
   "source": [
    "## Pre-processing"
   ]
  },
  {
   "cell_type": "code",
   "execution_count": 5,
   "metadata": {},
   "outputs": [
    {
     "name": "stdout",
     "output_type": "stream",
     "text": [
      "/Users/apolo/Desktop/Analysis/Code/modules/m5/OceanFlow\n"
     ]
    }
   ],
   "source": [
    "files_pointer = path.normpath(\n",
    "    path.join(\n",
    "        env_config['root'],\n",
    "        \"modules/m5/OceanFlow\"\n",
    "    )\n",
    ")\n",
    "\n",
    "print(files_pointer)"
   ]
  },
  {
   "cell_type": "code",
   "execution_count": 6,
   "metadata": {},
   "outputs": [
    {
     "name": "stdout",
     "output_type": "stream",
     "text": [
      "['23v.csv',\n",
      " '74v.csv',\n",
      " '78u.csv',\n",
      " '97u.csv',\n",
      " '62v.csv',\n",
      " '9v.csv',\n",
      " '81u.csv',\n",
      " '5u.csv',\n",
      " '35v.csv',\n",
      " '39u.csv',\n",
      " '42u.csv',\n",
      " '19v.csv',\n",
      " '15u.csv',\n",
      " '100v.csv',\n",
      " '58v.csv',\n",
      " '54u.csv',\n",
      " '23u.csv',\n",
      " '74u.csv',\n",
      " '78v.csv',\n",
      " '97v.csv',\n",
      " '62u.csv',\n",
      " '9u.csv',\n",
      " '81v.csv',\n",
      " '5v.csv',\n",
      " '35u.csv',\n",
      " '39v.csv',\n",
      " '42v.csv',\n",
      " '19u.csv',\n",
      " '15v.csv',\n",
      " '58u.csv',\n",
      " '100u.csv',\n",
      " '54v.csv',\n",
      " '55v.csv',\n",
      " '59u.csv',\n",
      " '14v.csv',\n",
      " '18u.csv',\n",
      " '43v.csv',\n",
      " '38v.csv',\n",
      " '34u.csv',\n",
      " '4v.csv',\n",
      " '80v.csv',\n",
      " '63u.csv',\n",
      " '8u.csv',\n",
      " '79v.csv',\n",
      " '96v.csv',\n",
      " '75u.csv',\n",
      " '22u.csv',\n",
      " '55u.csv',\n",
      " 'mask.csv',\n",
      " '59v.csv',\n",
      " '14u.csv',\n",
      " '18v.csv',\n",
      " '43u.csv',\n",
      " '38u.csv',\n",
      " '34v.csv',\n",
      " '4u.csv',\n",
      " '80u.csv',\n",
      " '63v.csv',\n",
      " '8v.csv',\n",
      " '79u.csv',\n",
      " '96u.csv',\n",
      " '75v.csv',\n",
      " '22v.csv',\n",
      " '25u.csv',\n",
      " '29v.csv',\n",
      " '72u.csv',\n",
      " '91v.csv',\n",
      " '64u.csv',\n",
      " '68v.csv',\n",
      " '87v.csv',\n",
      " '3v.csv',\n",
      " '33u.csv',\n",
      " '48u.csv',\n",
      " '44v.csv',\n",
      " '13v.csv',\n",
      " '52v.csv',\n",
      " '25v.csv',\n",
      " '29u.csv',\n",
      " '72v.csv',\n",
      " '91u.csv',\n",
      " '64v.csv',\n",
      " '68u.csv',\n",
      " '87u.csv',\n",
      " '3u.csv',\n",
      " '33v.csv',\n",
      " '48v.csv',\n",
      " '44u.csv',\n",
      " '13u.csv',\n",
      " '52u.csv',\n",
      " '53u.csv',\n",
      " '12u.csv',\n",
      " '45u.csv',\n",
      " '49v.csv',\n",
      " '32v.csv',\n",
      " '69u.csv',\n",
      " '2u.csv',\n",
      " '86u.csv',\n",
      " '65v.csv',\n",
      " '90u.csv',\n",
      " '73v.csv',\n",
      " '28u.csv',\n",
      " '24v.csv',\n",
      " '53v.csv',\n",
      " '12v.csv',\n",
      " '45v.csv',\n",
      " '49u.csv',\n",
      " '32u.csv',\n",
      " '69v.csv',\n",
      " '2v.csv',\n",
      " '86v.csv',\n",
      " '65u.csv',\n",
      " '90v.csv',\n",
      " '73u.csv',\n",
      " '28v.csv',\n",
      " '24u.csv',\n",
      " '50v.csv',\n",
      " '11v.csv',\n",
      " '46v.csv',\n",
      " '31u.csv',\n",
      " '1v.csv',\n",
      " '85v.csv',\n",
      " '89u.csv',\n",
      " '66u.csv',\n",
      " '93v.csv',\n",
      " '70u.csv',\n",
      " '27u.csv',\n",
      " '50u.csv',\n",
      " '11u.csv',\n",
      " '46u.csv',\n",
      " '31v.csv',\n",
      " '1u.csv',\n",
      " '85u.csv',\n",
      " '89v.csv',\n",
      " '66v.csv',\n",
      " '93u.csv',\n",
      " '70v.csv',\n",
      " '27v.csv',\n",
      " '26v.csv',\n",
      " '71v.csv',\n",
      " '92u.csv',\n",
      " '88v.csv',\n",
      " '67v.csv',\n",
      " '84u.csv',\n",
      " '30v.csv',\n",
      " '47u.csv',\n",
      " '10u.csv',\n",
      " '51u.csv',\n",
      " '26u.csv',\n",
      " '71u.csv',\n",
      " '92v.csv',\n",
      " '88u.csv',\n",
      " '67u.csv',\n",
      " '84v.csv',\n",
      " '30u.csv',\n",
      " '47v.csv',\n",
      " '10v.csv',\n",
      " '51v.csv',\n",
      " '56u.csv',\n",
      " '17u.csv',\n",
      " '40u.csv',\n",
      " '37v.csv',\n",
      " '7u.csv',\n",
      " '83u.csv',\n",
      " '60v.csv',\n",
      " '95u.csv',\n",
      " '99v.csv',\n",
      " '76v.csv',\n",
      " '21v.csv',\n",
      " '56v.csv',\n",
      " '17v.csv',\n",
      " '40v.csv',\n",
      " '37u.csv',\n",
      " '7v.csv',\n",
      " '83v.csv',\n",
      " '60u.csv',\n",
      " '95v.csv',\n",
      " '99u.csv',\n",
      " '76u.csv',\n",
      " '21u.csv',\n",
      " '20u.csv',\n",
      " '98u.csv',\n",
      " '77u.csv',\n",
      " '94v.csv',\n",
      " '61u.csv',\n",
      " '82v.csv',\n",
      " '6v.csv',\n",
      " '36u.csv',\n",
      " '41v.csv',\n",
      " '16v.csv',\n",
      " '57v.csv',\n",
      " '20v.csv',\n",
      " '98v.csv',\n",
      " '77v.csv',\n",
      " '94u.csv',\n",
      " '61v.csv',\n",
      " '82u.csv',\n",
      " '6u.csv',\n",
      " '36v.csv',\n",
      " '41u.csv',\n",
      " '16u.csv',\n",
      " '57u.csv']\n"
     ]
    }
   ],
   "source": [
    "file_lst = listdir(files_pointer)\n",
    "\n",
    "pprint(file_lst)"
   ]
  },
  {
   "cell_type": "code",
   "execution_count": 7,
   "metadata": {},
   "outputs": [],
   "source": [
    "def digest_csv(pntr:str, file_name:str) -> hint.Tuple[int, str, pd.DataFrame]:\n",
    "    \"\"\"diggest csv and name\"\"\"\n",
    "    file_name_lst = re.split(\n",
    "        pattern=\"\\.\",\n",
    "        string=file_name\n",
    "    )\n",
    "    prefix = file_name_lst[0]\n",
    "    return int(prefix[:-1]), prefix[-1], pd.read_csv(\n",
    "        path.normpath(\n",
    "            path.join(\n",
    "                env_config['root'],\n",
    "                pntr,\n",
    "                file_name\n",
    "            )\n",
    "        ),\n",
    "        header = None\n",
    "    )\n"
   ]
  },
  {
   "cell_type": "code",
   "execution_count": 8,
   "metadata": {},
   "outputs": [
    {
     "data": {
      "text/plain": [
       "(5,\n",
       " 'v',\n",
       "      0    1    2    3         4         5         6         7         8    \\\n",
       " 0      0    0    0  0.0  0.000000  0.000000  0.000000  0.000000  0.000000   \n",
       " 1      0    0    0  0.0  0.000000  0.000000  0.000000  0.000000  0.000000   \n",
       " 2      0    0    0  0.0 -0.323870 -0.317560 -0.321740 -0.336400 -0.351070   \n",
       " 3      0    0    0  0.0 -0.670830 -0.662480 -0.671650 -0.698340 -0.725030   \n",
       " 4      0    0    0  0.0 -0.717010 -0.717200 -0.728000 -0.749410 -0.770820   \n",
       " ..   ...  ...  ...  ...       ...       ...       ...       ...       ...   \n",
       " 499    0    0    0  0.0  0.002582  0.004911  0.007059  0.009024  0.010989   \n",
       " 500    0    0    0  0.0  0.009211  0.012976  0.015543  0.016913  0.018283   \n",
       " 501    0    0    0  0.0  0.010437  0.014172  0.016486  0.017380  0.018273   \n",
       " 502    0    0    0  0.0  0.004175  0.005668  0.006594  0.006952  0.007309   \n",
       " 503    0    0    0  0.0  0.000000  0.000000  0.000000  0.000000  0.000000   \n",
       " \n",
       "           9    ...      545      546      547      548      549      550  \\\n",
       " 0    0.000000  ...  0.00000  0.00000  0.00000  0.00000  0.00000  0.00000   \n",
       " 1    0.000000  ...  0.00000  0.00000  0.00000  0.00000  0.00000  0.00000   \n",
       " 2   -0.364510  ...  0.16414  0.14711  0.13124  0.11536  0.10750  0.10767   \n",
       " 3   -0.748840  ...  0.33124  0.29819  0.26806  0.23792  0.22175  0.21955   \n",
       " 4   -0.788500  ...  0.33716  0.30613  0.27924  0.25235  0.23525  0.22795   \n",
       " ..        ...  ...      ...      ...      ...      ...      ...      ...   \n",
       " 499  0.014801  ...  0.45390  0.45799  0.45552  0.45306  0.44341  0.42659   \n",
       " 500  0.022032  ...  0.45837  0.46220  0.45933  0.45647  0.44806  0.43410   \n",
       " 501  0.021370  ...  0.38381  0.38689  0.38433  0.38178  0.37529  0.36486   \n",
       " 502  0.008548  ...  0.15351  0.15474  0.15372  0.15270  0.15010  0.14594   \n",
       " 503  0.000000  ...  0.00000  0.00000  0.00000  0.00000  0.00000  0.00000   \n",
       " \n",
       "          551       552       553       554  \n",
       " 0    0.00000  0.000000  0.000000  0.000000  \n",
       " 1    0.00000  0.000000  0.000000  0.000000  \n",
       " 2    0.10785  0.089952  0.053988  0.018004  \n",
       " 3    0.21734  0.180210  0.108150  0.018004  \n",
       " 4    0.22065  0.180840  0.108520  0.000000  \n",
       " ..       ...       ...       ...       ...  \n",
       " 499  0.40975  0.334470  0.200710  0.000000  \n",
       " 500  0.42014  0.344320  0.206630  0.034942  \n",
       " 501  0.35443  0.291020  0.174640  0.058231  \n",
       " 502  0.14177  0.116400  0.069848  0.023289  \n",
       " 503  0.00000  0.000000  0.000000  0.000000  \n",
       " \n",
       " [504 rows x 555 columns])"
      ]
     },
     "execution_count": 8,
     "metadata": {},
     "output_type": "execute_result"
    }
   ],
   "source": [
    "digest_csv(\n",
    "    pntr=\"modules/m5/OceanFlow\",\n",
    "    file_name='5v.csv'\n",
    ")"
   ]
  },
  {
   "cell_type": "code",
   "execution_count": 39,
   "metadata": {},
   "outputs": [],
   "source": [
    "data_dict = {}\n",
    "\n",
    "for file_name in file_lst:\n",
    "    if file_name == \"mask.csv\":\n",
    "        continue\n",
    "\n",
    "    time_idx, compo, frame = digest_csv(\n",
    "        pntr=\"modules/m5/OceanFlow\",\n",
    "        file_name=file_name\n",
    "    )\n",
    "    frame = frame.astype(\n",
    "        dtype=\"float64\"\n",
    "    )\n",
    "    if data_dict.get(time_idx) is None:\n",
    "        data_dict[time_idx] = {\n",
    "            compo:frame\n",
    "        }\n",
    "    data_dict[time_idx][compo] = frame\n",
    "    \n"
   ]
  },
  {
   "cell_type": "code",
   "execution_count": 40,
   "metadata": {},
   "outputs": [],
   "source": [
    "sorted_data_dict = dict(\n",
    "    sorted(\n",
    "        data_dict.items()\n",
    "    )\n",
    ")"
   ]
  },
  {
   "cell_type": "markdown",
   "metadata": {},
   "source": [
    "## 3D-Array"
   ]
  },
  {
   "cell_type": "code",
   "execution_count": 41,
   "metadata": {},
   "outputs": [],
   "source": [
    "x_axis_array = np.stack(\n",
    "    [\n",
    "        frames['u'].to_numpy()\n",
    "        for frames in sorted_data_dict.values()\n",
    "    ],\n",
    "    axis=-1\n",
    ")"
   ]
  },
  {
   "cell_type": "code",
   "execution_count": 42,
   "metadata": {},
   "outputs": [],
   "source": [
    "y_axis_array = np.stack(\n",
    "    [\n",
    "        frames['v'].to_numpy()\n",
    "        for frames in sorted_data_dict.values()\n",
    "    ],\n",
    "    axis=-1\n",
    ")"
   ]
  },
  {
   "cell_type": "code",
   "execution_count": 43,
   "metadata": {},
   "outputs": [
    {
     "data": {
      "text/plain": [
       "(504, 555, 100)"
      ]
     },
     "execution_count": 43,
     "metadata": {},
     "output_type": "execute_result"
    }
   ],
   "source": [
    "x_axis_array.shape"
   ]
  },
  {
   "cell_type": "code",
   "execution_count": 44,
   "metadata": {},
   "outputs": [
    {
     "data": {
      "text/plain": [
       "(504, 555, 100)"
      ]
     },
     "execution_count": 44,
     "metadata": {},
     "output_type": "execute_result"
    }
   ],
   "source": [
    "y_axis_array.shape"
   ]
  },
  {
   "cell_type": "code",
   "execution_count": 45,
   "metadata": {},
   "outputs": [
    {
     "data": {
      "text/plain": [
       "True"
      ]
     },
     "execution_count": 45,
     "metadata": {},
     "output_type": "execute_result"
    }
   ],
   "source": [
    "\n",
    "pd.DataFrame(x_axis_array[:,:,0]).equals(data_dict[1]['u'])"
   ]
  }
 ],
 "metadata": {
  "kernelspec": {
   "display_name": ".venv",
   "language": "python",
   "name": "python3"
  },
  "language_info": {
   "codemirror_mode": {
    "name": "ipython",
    "version": 3
   },
   "file_extension": ".py",
   "mimetype": "text/x-python",
   "name": "python",
   "nbconvert_exporter": "python",
   "pygments_lexer": "ipython3",
   "version": "3.9.6"
  }
 },
 "nbformat": 4,
 "nbformat_minor": 2
}
