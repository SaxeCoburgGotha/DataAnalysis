{
 "cells": [
  {
   "cell_type": "markdown",
   "metadata": {},
   "source": [
    "# Genomics & High Dimensional Data"
   ]
  },
  {
   "cell_type": "markdown",
   "metadata": {},
   "source": [
    "#### Preliminaries"
   ]
  },
  {
   "cell_type": "markdown",
   "metadata": {},
   "source": [
    "##### Libraries"
   ]
  },
  {
   "cell_type": "code",
   "execution_count": 8,
   "metadata": {},
   "outputs": [],
   "source": [
    "from os import path\n",
    "import numpy as np\n",
    "import pandas as pd\n",
    "from sklearn import decomposition, cluster, manifold\n",
    "import plotly.express as px\n",
    "import plotly.graph_objects as go\n",
    "from alive_progress import alive_it"
   ]
  },
  {
   "cell_type": "markdown",
   "metadata": {},
   "source": [
    "##### Utilities"
   ]
  },
  {
   "cell_type": "code",
   "execution_count": 2,
   "metadata": {},
   "outputs": [],
   "source": [
    "from utilities import json as utl_json"
   ]
  },
  {
   "cell_type": "markdown",
   "metadata": {},
   "source": [
    "##### Configuration"
   ]
  },
  {
   "cell_type": "code",
   "execution_count": 3,
   "metadata": {},
   "outputs": [],
   "source": [
    "env_config = utl_json.to_dict(file_path=\"../../config/env.json\")"
   ]
  },
  {
   "cell_type": "markdown",
   "metadata": {},
   "source": [
    "## PCA"
   ]
  },
  {
   "cell_type": "code",
   "execution_count": 4,
   "metadata": {},
   "outputs": [],
   "source": [
    "X = np.load(\n",
    "    file=path.normpath(\n",
    "        path.join(\n",
    "            env_config['root'],\n",
    "            \"modules/m2/data/p1\",\n",
    "            \"X.npy\"\n",
    "        )\n",
    "    )\n",
    ")"
   ]
  },
  {
   "cell_type": "code",
   "execution_count": 5,
   "metadata": {},
   "outputs": [],
   "source": [
    "X_log = np.log2((X + 1))"
   ]
  },
  {
   "cell_type": "code",
   "execution_count": 6,
   "metadata": {},
   "outputs": [
    {
     "name": "stdout",
     "output_type": "stream",
     "text": [
      "(511, 50)\n"
     ]
    }
   ],
   "source": [
    "pca = decomposition.PCA(n_components=50)\n",
    "X_redux = pca.fit_transform(X_log)\n",
    "print(X_redux.shape)"
   ]
  },
  {
   "cell_type": "code",
   "execution_count": 50,
   "metadata": {},
   "outputs": [],
   "source": [
    "n_clusters = 5"
   ]
  },
  {
   "cell_type": "code",
   "execution_count": 51,
   "metadata": {},
   "outputs": [
    {
     "name": "stdout",
     "output_type": "stream",
     "text": [
      "on 0: Now running... 0\n",
      "on 1: Now running... 10\n",
      "on 2: Now running... 20\n",
      "on 3: Now running... 30\n",
      "on 4: Now running... 40\n",
      "on 5: Now running... 50\n",
      "on 6: Now running... 60\n",
      "on 7: Now running... 70\n",
      "on 8: Now running... 80\n",
      "on 9: Now running... 90\n",
      "on 10: Now running... 100\n",
      "on 11: Now running... 110\n",
      "on 12: Now running... 120\n",
      "on 13: Now running... 130\n",
      "on 14: Now running... 140\n",
      "on 15: Now running... 150\n",
      "on 16: Now running... 160\n",
      "on 17: Now running... 170\n",
      "on 18: Now running... 180\n",
      "on 19: Now running... 190\n",
      "on 20: Now running... 200\n",
      "on 21: Now running... 210\n",
      "on 22: Now running... 220\n",
      "on 23: Now running... 230\n",
      "on 24: Now running... 240\n",
      "on 25: Now running... 250\n",
      "on 26: Now running... 260\n",
      "on 27: Now running... 270\n",
      "on 28: Now running... 280\n",
      "on 29: Now running... 290\n",
      "on 30: Now running... 300\n",
      "on 31: Now running... 310\n",
      "on 32: Now running... 320\n",
      "on 33: Now running... 330\n",
      "on 34: Now running... 340\n",
      "on 35: Now running... 350\n",
      "on 36: Now running... 360\n",
      "on 37: Now running... 370\n",
      "on 38: Now running... 380\n",
      "on 39: Now running... 390\n",
      "on 40: Now running... 400\n",
      "on 41: Now running... 410\n",
      "on 42: Now running... 420\n",
      "on 43: Now running... 430\n",
      "on 44: Now running... 440\n",
      "on 45: Now running... 450\n",
      "on 46: Now running... 460\n",
      "on 47: Now running... 470\n",
      "on 48: Now running... 480\n",
      "on 49: Now running... 490\n",
      "on 50: Now running... 500\n",
      "on 51: Now running... 510\n",
      "on 52: Now running... 520\n",
      "on 53: Now running... 530\n",
      "on 54: Now running... 540\n",
      "on 55: Now running... 550\n",
      "on 56: Now running... 560\n",
      "on 57: Now running... 570\n",
      "on 58: Now running... 580\n",
      "on 59: Now running... 590\n",
      "on 60: Now running... 600\n",
      "on 61: Now running... 610\n",
      "on 62: Now running... 620\n",
      "on 63: Now running... 630\n",
      "on 64: Now running... 640\n",
      "on 65: Now running... 650\n",
      "on 66: Now running... 660\n",
      "on 67: Now running... 670\n",
      "on 68: Now running... 680\n",
      "on 69: Now running... 690\n",
      "on 70: Now running... 700\n",
      "on 71: Now running... 710\n",
      "on 72: Now running... 720\n",
      "on 73: Now running... 730\n",
      "on 74: Now running... 740\n",
      "on 75: Now running... 750\n",
      "on 76: Now running... 760\n",
      "on 77: Now running... 770\n",
      "on 78: Now running... 780\n",
      "on 79: Now running... 790\n",
      "on 80: Now running... 800\n",
      "on 81: Now running... 810\n",
      "on 82: Now running... 820\n",
      "on 83: Now running... 830\n",
      "on 84: Now running... 840\n",
      "on 85: Now running... 850\n",
      "on 86: Now running... 860\n",
      "on 87: Now running... 870\n",
      "on 88: Now running... 880\n",
      "on 89: Now running... 890\n",
      "on 90: Now running... 900\n",
      "on 91: Now running... 910\n",
      "on 92: Now running... 920\n",
      "on 93: Now running... 930\n",
      "on 94: Now running... 940\n",
      "on 95: Now running... 950\n",
      "on 96: Now running... 960\n",
      "on 97: Now running... 970\n",
      "on 98: Now running... 980\n",
      "on 99: Now running... 990\n",
      "on 100: Now running... 1000\n",
      "on 101: Now running... 1010\n",
      "on 102: Now running... 1020\n",
      "on 103: Now running... 1030\n",
      "on 104: Now running... 1040\n",
      "on 105: Now running... 1050\n",
      "on 106: Now running... 1060\n",
      "on 107: Now running... 1070\n",
      "on 108: Now running... 1080\n",
      "on 109: Now running... 1090\n",
      "on 110: Now running... 1100\n",
      "on 111: Now running... 1110\n",
      "on 112: Now running... 1120\n",
      "on 113: Now running... 1130\n",
      "on 114: Now running... 1140\n",
      "on 115: Now running... 1150\n",
      "on 116: Now running... 1160\n",
      "on 117: Now running... 1170\n",
      "on 118: Now running... 1180\n",
      "on 119: Now running... 1190\n",
      "on 120: Now running... 1200\n",
      "on 121: Now running... 1210\n",
      "on 122: Now running... 1220\n",
      "on 123: Now running... 1230\n",
      "on 124: Now running... 1240\n",
      "on 125: Now running... 1250\n",
      "on 126: Now running... 1260\n",
      "on 127: Now running... 1270\n",
      "on 128: Now running... 1280\n",
      "on 129: Now running... 1290\n",
      "on 130: Now running... 1300\n",
      "on 131: Now running... 1310\n",
      "on 132: Now running... 1320\n",
      "on 133: Now running... 1330\n",
      "on 134: Now running... 1340\n",
      "on 135: Now running... 1350\n",
      "on 136: Now running... 1360\n",
      "on 137: Now running... 1370\n",
      "on 138: Now running... 1380\n",
      "on 139: Now running... 1390\n",
      "on 140: Now running... 1400\n",
      "on 141: Now running... 1410\n",
      "on 142: Now running... 1420\n",
      "on 143: Now running... 1430\n",
      "on 144: Now running... 1440\n",
      "on 145: Now running... 1450\n",
      "on 146: Now running... 1460\n",
      "on 147: Now running... 1470\n",
      "on 148: Now running... 1480\n",
      "on 149: Now running... 1490\n",
      "on 150: Now running... 1500\n",
      "on 151: Now running... 1510\n",
      "on 152: Now running... 1520\n",
      "on 153: Now running... 1530\n",
      "on 154: Now running... 1540\n",
      "on 155: Now running... 1550\n",
      "on 156: Now running... 1560\n",
      "on 157: Now running... 1570\n",
      "on 158: Now running... 1580\n",
      "on 159: Now running... 1590\n",
      "on 160: Now running... 1600\n",
      "on 161: Now running... 1610\n",
      "on 162: Now running... 1620\n",
      "on 163: Now running... 1630\n",
      "on 164: Now running... 1640\n",
      "on 165: Now running... 1650\n",
      "on 166: Now running... 1660\n",
      "on 167: Now running... 1670\n",
      "on 168: Now running... 1680\n",
      "on 169: Now running... 1690\n",
      "on 170: Now running... 1700\n",
      "on 171: Now running... 1710\n",
      "on 172: Now running... 1720\n",
      "on 173: Now running... 1730\n",
      "on 174: Now running... 1740\n",
      "on 175: Now running... 1750\n",
      "on 176: Now running... 1760\n",
      "on 177: Now running... 1770\n",
      "on 178: Now running... 1780\n",
      "on 179: Now running... 1790\n",
      "on 180: Now running... 1800\n",
      "on 181: Now running... 1810\n",
      "on 182: Now running... 1820\n",
      "on 183: Now running... 1830\n",
      "on 184: Now running... 1840\n",
      "on 185: Now running... 1850\n",
      "on 186: Now running... 1860\n",
      "on 187: Now running... 1870\n",
      "on 188: Now running... 1880\n",
      "on 189: Now running... 1890\n",
      "on 190: Now running... 1900\n",
      "on 191: Now running... 1910\n",
      "on 192: Now running... 1920\n",
      "on 193: Now running... 1930\n",
      "on 194: Now running... 1940\n",
      "on 195: Now running... 1950\n",
      "on 196: Now running... 1960\n",
      "on 197: Now running... 1970\n",
      "on 198: Now running... 1980\n",
      "on 199: Now running... 1990\n",
      "on 200: Now running... 2000\n",
      "on 201: Now running... 2010\n",
      "on 202: Now running... 2020\n",
      "on 203: Now running... 2030\n",
      "on 204: Now running... 2040\n",
      "on 205: Now running... 2050\n",
      "on 206: Now running... 2060\n",
      "on 207: Now running... 2070\n",
      "on 208: Now running... 2080\n",
      "on 209: Now running... 2090\n",
      "on 210: Now running... 2100\n",
      "on 211: Now running... 2110\n",
      "on 212: Now running... 2120\n",
      "on 213: Now running... 2130\n",
      "on 214: Now running... 2140\n",
      "on 215: Now running... 2150\n",
      "on 216: Now running... 2160\n",
      "on 217: Now running... 2170\n",
      "on 218: Now running... 2180\n",
      "on 219: Now running... 2190\n",
      "on 220: Now running... 2200\n",
      "on 221: Now running... 2210\n",
      "on 222: Now running... 2220\n",
      "on 223: Now running... 2230\n",
      "on 224: Now running... 2240\n",
      "on 225: Now running... 2250\n",
      "on 226: Now running... 2260\n",
      "on 227: Now running... 2270\n",
      "on 228: Now running... 2280\n",
      "on 229: Now running... 2290\n",
      "on 230: Now running... 2300\n",
      "on 231: Now running... 2310\n",
      "on 232: Now running... 2320\n",
      "on 233: Now running... 2330\n",
      "on 234: Now running... 2340\n",
      "on 235: Now running... 2350\n",
      "on 236: Now running... 2360\n",
      "on 237: Now running... 2370\n",
      "on 238: Now running... 2380\n",
      "on 239: Now running... 2390\n",
      "on 240: Now running... 2400\n",
      "on 241: Now running... 2410\n",
      "on 242: Now running... 2420\n",
      "on 243: Now running... 2430\n",
      "on 244: Now running... 2440\n",
      "on 245: Now running... 2450\n",
      "on 246: Now running... 2460\n",
      "on 247: Now running... 2470\n",
      "on 248: Now running... 2480\n",
      "on 249: Now running... 2490\n",
      "on 250: Now running... 2500\n",
      "on 251: Now running... 2510\n",
      "on 252: Now running... 2520\n",
      "on 253: Now running... 2530\n",
      "on 254: Now running... 2540\n",
      "on 255: Now running... 2550\n",
      "on 256: Now running... 2560\n",
      "on 257: Now running... 2570\n",
      "on 258: Now running... 2580\n",
      "on 259: Now running... 2590\n",
      "on 260: Now running... 2600\n",
      "on 261: Now running... 2610\n",
      "on 262: Now running... 2620\n",
      "on 263: Now running... 2630\n",
      "on 264: Now running... 2640\n",
      "on 265: Now running... 2650\n",
      "on 266: Now running... 2660\n",
      "on 267: Now running... 2670\n",
      "on 268: Now running... 2680\n",
      "on 269: Now running... 2690\n",
      "on 270: Now running... 2700\n",
      "on 271: Now running... 2710\n",
      "on 272: Now running... 2720\n",
      "on 273: Now running... 2730\n",
      "on 274: Now running... 2740\n",
      "on 275: Now running... 2750\n",
      "on 276: Now running... 2760\n",
      "on 277: Now running... 2770\n",
      "on 278: Now running... 2780\n",
      "on 279: Now running... 2790\n",
      "on 280: Now running... 2800\n",
      "on 281: Now running... 2810\n",
      "on 282: Now running... 2820\n",
      "on 283: Now running... 2830\n",
      "on 284: Now running... 2840\n",
      "on 285: Now running... 2850\n",
      "on 286: Now running... 2860\n",
      "on 287: Now running... 2870\n",
      "on 288: Now running... 2880\n",
      "on 289: Now running... 2890\n",
      "on 290: Now running... 2900\n",
      "on 291: Now running... 2910\n",
      "on 292: Now running... 2920\n",
      "on 293: Now running... 2930\n",
      "on 294: Now running... 2940\n",
      "on 295: Now running... 2950\n",
      "on 296: Now running... 2960\n",
      "on 297: Now running... 2970\n",
      "on 298: Now running... 2980\n",
      "on 299: Now running... 2990\n",
      "on 300: Now running... 3000\n",
      "on 301: Now running... 3010\n",
      "on 302: Now running... 3020\n",
      "on 303: Now running... 3030\n",
      "on 304: Now running... 3040\n",
      "on 305: Now running... 3050\n",
      "on 306: Now running... 3060\n",
      "on 307: Now running... 3070\n",
      "on 308: Now running... 3080\n",
      "on 309: Now running... 3090\n",
      "on 310: Now running... 3100\n",
      "on 311: Now running... 3110\n",
      "on 312: Now running... 3120\n",
      "on 313: Now running... 3130\n",
      "on 314: Now running... 3140\n",
      "on 315: Now running... 3150\n",
      "on 316: Now running... 3160\n",
      "on 317: Now running... 3170\n",
      "on 318: Now running... 3180\n",
      "on 319: Now running... 3190\n",
      "on 320: Now running... 3200\n",
      "on 321: Now running... 3210\n",
      "on 322: Now running... 3220\n",
      "on 323: Now running... 3230\n",
      "on 324: Now running... 3240\n",
      "on 325: Now running... 3250\n",
      "on 326: Now running... 3260\n",
      "on 327: Now running... 3270\n",
      "on 328: Now running... 3280\n",
      "on 329: Now running... 3290\n",
      "on 330: Now running... 3300\n",
      "on 331: Now running... 3310\n",
      "on 332: Now running... 3320\n",
      "on 333: Now running... 3330\n",
      "on 334: Now running... 3340\n",
      "on 335: Now running... 3350\n",
      "on 336: Now running... 3360\n",
      "on 337: Now running... 3370\n",
      "on 338: Now running... 3380\n",
      "on 339: Now running... 3390\n",
      "on 340: Now running... 3400\n",
      "on 341: Now running... 3410\n",
      "on 342: Now running... 3420\n",
      "on 343: Now running... 3430\n",
      "on 344: Now running... 3440\n",
      "on 345: Now running... 3450\n",
      "on 346: Now running... 3460\n",
      "on 347: Now running... 3470\n",
      "on 348: Now running... 3480\n",
      "on 349: Now running... 3490\n",
      "on 350: Now running... 3500\n",
      "on 351: Now running... 3510\n",
      "on 352: Now running... 3520\n",
      "on 353: Now running... 3530\n",
      "on 354: Now running... 3540\n",
      "on 355: Now running... 3550\n",
      "on 356: Now running... 3560\n",
      "on 357: Now running... 3570\n",
      "on 358: Now running... 3580\n",
      "on 359: Now running... 3590\n",
      "on 360: Now running... 3600\n",
      "on 361: Now running... 3610\n",
      "on 362: Now running... 3620\n",
      "on 363: Now running... 3630\n",
      "on 364: Now running... 3640\n",
      "on 365: Now running... 3650\n",
      "on 366: Now running... 3660\n",
      "on 367: Now running... 3670\n",
      "on 368: Now running... 3680\n",
      "on 369: Now running... 3690\n",
      "on 370: Now running... 3700\n",
      "on 371: Now running... 3710\n",
      "on 372: Now running... 3720\n",
      "on 373: Now running... 3730\n",
      "on 374: Now running... 3740\n",
      "on 375: Now running... 3750\n",
      "on 376: Now running... 3760\n",
      "on 377: Now running... 3770\n",
      "on 378: Now running... 3780\n",
      "on 379: Now running... 3790\n",
      "on 380: Now running... 3800\n",
      "on 381: Now running... 3810\n",
      "on 382: Now running... 3820\n",
      "on 383: Now running... 3830\n",
      "on 384: Now running... 3840\n",
      "on 385: Now running... 3850\n",
      "on 386: Now running... 3860\n",
      "on 387: Now running... 3870\n",
      "on 388: Now running... 3880\n",
      "on 389: Now running... 3890\n",
      "on 390: Now running... 3900\n",
      "on 391: Now running... 3910\n",
      "on 392: Now running... 3920\n",
      "on 393: Now running... 3930\n",
      "on 394: Now running... 3940\n",
      "on 395: Now running... 3950\n",
      "on 396: Now running... 3960\n",
      "on 397: Now running... 3970\n",
      "on 398: Now running... 3980\n",
      "on 399: Now running... 3990\n",
      "on 400: Now running... 4000\n",
      "on 401: Now running... 4010\n",
      "on 402: Now running... 4020\n",
      "on 403: Now running... 4030\n",
      "on 404: Now running... 4040\n",
      "on 405: Now running... 4050\n",
      "on 406: Now running... 4060\n",
      "on 407: Now running... 4070\n",
      "on 408: Now running... 4080\n",
      "on 409: Now running... 4090\n",
      "on 410: Now running... 4100\n",
      "on 411: Now running... 4110\n",
      "on 412: Now running... 4120\n",
      "on 413: Now running... 4130\n",
      "on 414: Now running... 4140\n",
      "on 415: Now running... 4150\n",
      "on 416: Now running... 4160\n",
      "on 417: Now running... 4170\n",
      "on 418: Now running... 4180\n",
      "on 419: Now running... 4190\n",
      "on 420: Now running... 4200\n",
      "on 421: Now running... 4210\n",
      "on 422: Now running... 4220\n",
      "on 423: Now running... 4230\n",
      "on 424: Now running... 4240\n",
      "on 425: Now running... 4250\n",
      "on 426: Now running... 4260\n",
      "on 427: Now running... 4270\n",
      "on 428: Now running... 4280\n",
      "on 429: Now running... 4290\n",
      "on 430: Now running... 4300\n",
      "on 431: Now running... 4310\n",
      "on 432: Now running... 4320\n",
      "on 433: Now running... 4330\n",
      "on 434: Now running... 4340\n",
      "on 435: Now running... 4350\n",
      "on 436: Now running... 4360\n",
      "on 437: Now running... 4370\n",
      "on 438: Now running... 4380\n",
      "on 439: Now running... 4390\n",
      "on 440: Now running... 4400\n",
      "on 441: Now running... 4410\n",
      "on 442: Now running... 4420\n",
      "on 443: Now running... 4430\n",
      "on 444: Now running... 4440\n",
      "on 445: Now running... 4450\n",
      "on 446: Now running... 4460\n",
      "on 447: Now running... 4470\n",
      "on 448: Now running... 4480\n",
      "on 449: Now running... 4490\n",
      "on 450: Now running... 4500\n",
      "on 451: Now running... 4510\n",
      "on 452: Now running... 4520\n",
      "on 453: Now running... 4530\n",
      "on 454: Now running... 4540\n",
      "on 455: Now running... 4550\n",
      "on 456: Now running... 4560\n",
      "on 457: Now running... 4570\n",
      "on 458: Now running... 4580\n",
      "on 459: Now running... 4590\n",
      "on 460: Now running... 4600\n",
      "on 461: Now running... 4610\n",
      "on 462: Now running... 4620\n",
      "on 463: Now running... 4630\n",
      "on 464: Now running... 4640\n",
      "on 465: Now running... 4650\n",
      "on 466: Now running... 4660\n",
      "on 467: Now running... 4670\n",
      "on 468: Now running... 4680\n",
      "on 469: Now running... 4690\n",
      "on 470: Now running... 4700\n",
      "on 471: Now running... 4710\n",
      "on 472: Now running... 4720\n",
      "on 473: Now running... 4730\n",
      "on 474: Now running... 4740\n",
      "on 475: Now running... 4750\n",
      "on 476: Now running... 4760\n",
      "on 477: Now running... 4770\n",
      "on 478: Now running... 4780\n",
      "on 479: Now running... 4790\n",
      "on 480: Now running... 4800\n",
      "on 481: Now running... 4810\n",
      "on 482: Now running... 4820\n",
      "on 483: Now running... 4830\n",
      "on 484: Now running... 4840\n",
      "on 485: Now running... 4850\n",
      "on 486: Now running... 4860\n",
      "on 487: Now running... 4870\n",
      "on 488: Now running... 4880\n",
      "on 489: Now running... 4890\n",
      "on 490: Now running... 4900\n",
      "on 491: Now running... 4910\n",
      "on 492: Now running... 4920\n",
      "on 493: Now running... 4930\n",
      "on 494: Now running... 4940\n",
      "on 495: Now running... 4950\n",
      "on 496: Now running... 4960\n",
      "on 497: Now running... 4970\n",
      "on 498: Now running... 4980\n",
      "on 499: Now running... 4990\n",
      "on 500: Now running... 5000\n",
      "on 501: Now running... 5010\n",
      "on 502: Now running... 5020\n",
      "on 503: Now running... 5030\n",
      "on 504: Now running... 5040\n",
      "on 505: Now running... 5050\n",
      "on 506: Now running... 5060\n",
      "on 507: Now running... 5070\n",
      "on 508: Now running... 5080\n",
      "on 509: Now running... 5090\n",
      "on 510: Now running... 5100\n",
      "on 511: Now running... 5110\n",
      "on 512: Now running... 5120\n",
      "on 513: Now running... 5130\n",
      "on 514: Now running... 5140\n",
      "on 515: Now running... 5150\n",
      "on 516: Now running... 5160\n",
      "on 517: Now running... 5170\n",
      "on 518: Now running... 5180\n",
      "on 519: Now running... 5190\n",
      "on 520: Now running... 5200\n",
      "on 521: Now running... 5210\n",
      "on 522: Now running... 5220\n",
      "on 523: Now running... 5230\n",
      "on 524: Now running... 5240\n",
      "on 525: Now running... 5250\n",
      "on 526: Now running... 5260\n",
      "on 527: Now running... 5270\n",
      "on 528: Now running... 5280\n",
      "on 529: Now running... 5290\n",
      "on 530: Now running... 5300\n",
      "on 531: Now running... 5310\n",
      "on 532: Now running... 5320\n",
      "on 533: Now running... 5330\n",
      "on 534: Now running... 5340\n",
      "on 535: Now running... 5350\n",
      "on 536: Now running... 5360\n",
      "on 537: Now running... 5370\n",
      "on 538: Now running... 5380\n",
      "on 539: Now running... 5390\n",
      "on 540: Now running... 5400\n",
      "on 541: Now running... 5410\n",
      "on 542: Now running... 5420\n",
      "on 543: Now running... 5430\n",
      "on 544: Now running... 5440\n",
      "on 545: Now running... 5450\n",
      "on 546: Now running... 5460\n",
      "on 547: Now running... 5470\n",
      "on 548: Now running... 5480\n",
      "on 549: Now running... 5490\n",
      "on 550: Now running... 5500\n",
      "on 551: Now running... 5510\n",
      "on 552: Now running... 5520\n",
      "on 553: Now running... 5530\n",
      "on 554: Now running... 5540\n",
      "on 555: Now running... 5550\n",
      "on 556: Now running... 5560\n",
      "on 557: Now running... 5570\n",
      "on 558: Now running... 5580\n",
      "on 559: Now running... 5590\n",
      "on 560: Now running... 5600\n",
      "on 561: Now running... 5610\n",
      "on 562: Now running... 5620\n",
      "on 563: Now running... 5630\n",
      "on 564: Now running... 5640\n",
      "on 565: Now running... 5650\n",
      "on 566: Now running... 5660\n",
      "on 567: Now running... 5670\n",
      "on 568: Now running... 5680\n",
      "on 569: Now running... 5690\n",
      "on 570: Now running... 5700\n",
      "on 571: Now running... 5710\n",
      "on 572: Now running... 5720\n",
      "on 573: Now running... 5730\n",
      "on 574: Now running... 5740\n",
      "on 575: Now running... 5750\n",
      "on 576: Now running... 5760\n",
      "on 577: Now running... 5770\n",
      "on 578: Now running... 5780\n",
      "on 579: Now running... 5790\n",
      "on 580: Now running... 5800\n",
      "on 581: Now running... 5810\n",
      "on 582: Now running... 5820\n",
      "on 583: Now running... 5830\n",
      "on 584: Now running... 5840\n",
      "on 585: Now running... 5850\n",
      "on 586: Now running... 5860\n",
      "on 587: Now running... 5870\n",
      "on 588: Now running... 5880\n",
      "on 589: Now running... 5890\n",
      "on 590: Now running... 5900\n",
      "on 591: Now running... 5910\n",
      "on 592: Now running... 5920\n",
      "on 593: Now running... 5930\n",
      "on 594: Now running... 5940\n",
      "on 595: Now running... 5950\n",
      "on 596: Now running... 5960\n",
      "on 597: Now running... 5970\n",
      "on 598: Now running... 5980\n",
      "on 599: Now running... 5990\n",
      "on 600: Now running... 6000\n",
      "on 601: Now running... 6010\n",
      "on 602: Now running... 6020\n",
      "on 603: Now running... 6030\n",
      "on 604: Now running... 6040\n",
      "on 605: Now running... 6050\n",
      "on 606: Now running... 6060\n",
      "on 607: Now running... 6070\n",
      "on 608: Now running... 6080\n",
      "on 609: Now running... 6090\n",
      "on 610: Now running... 6100\n",
      "on 611: Now running... 6110\n",
      "on 612: Now running... 6120\n",
      "on 613: Now running... 6130\n",
      "on 614: Now running... 6140\n",
      "on 615: Now running... 6150\n",
      "on 616: Now running... 6160\n",
      "on 617: Now running... 6170\n",
      "on 618: Now running... 6180\n",
      "on 619: Now running... 6190\n",
      "on 620: Now running... 6200\n",
      "on 621: Now running... 6210\n",
      "on 622: Now running... 6220\n",
      "on 623: Now running... 6230\n",
      "on 624: Now running... 6240\n",
      "on 625: Now running... 6250\n",
      "on 626: Now running... 6260\n",
      "on 627: Now running... 6270\n",
      "on 628: Now running... 6280\n",
      "on 629: Now running... 6290\n",
      "on 630: Now running... 6300\n",
      "on 631: Now running... 6310\n",
      "on 632: Now running... 6320\n",
      "on 633: Now running... 6330\n",
      "on 634: Now running... 6340\n",
      "on 635: Now running... 6350\n",
      "on 636: Now running... 6360\n",
      "on 637: Now running... 6370\n",
      "on 638: Now running... 6380\n",
      "on 639: Now running... 6390\n",
      "on 640: Now running... 6400\n",
      "on 641: Now running... 6410\n",
      "on 642: Now running... 6420\n",
      "on 643: Now running... 6430\n",
      "on 644: Now running... 6440\n",
      "on 645: Now running... 6450\n",
      "on 646: Now running... 6460\n",
      "on 647: Now running... 6470\n",
      "on 648: Now running... 6480\n",
      "on 649: Now running... 6490\n",
      "on 650: Now running... 6500\n",
      "on 651: Now running... 6510\n",
      "on 652: Now running... 6520\n",
      "on 653: Now running... 6530\n",
      "on 654: Now running... 6540\n",
      "on 655: Now running... 6550\n",
      "on 656: Now running... 6560\n",
      "on 657: Now running... 6570\n",
      "on 658: Now running... 6580\n",
      "on 659: Now running... 6590\n",
      "on 660: Now running... 6600\n",
      "on 661: Now running... 6610\n",
      "on 662: Now running... 6620\n",
      "on 663: Now running... 6630\n",
      "on 664: Now running... 6640\n",
      "on 665: Now running... 6650\n",
      "on 666: Now running... 6660\n",
      "on 667: Now running... 6670\n",
      "on 668: Now running... 6680\n",
      "on 669: Now running... 6690\n",
      "on 670: Now running... 6700\n",
      "on 671: Now running... 6710\n",
      "on 672: Now running... 6720\n",
      "on 673: Now running... 6730\n",
      "on 674: Now running... 6740\n",
      "on 675: Now running... 6750\n",
      "on 676: Now running... 6760\n",
      "on 677: Now running... 6770\n",
      "on 678: Now running... 6780\n",
      "on 679: Now running... 6790\n",
      "on 680: Now running... 6800\n",
      "on 681: Now running... 6810\n",
      "on 682: Now running... 6820\n",
      "on 683: Now running... 6830\n",
      "on 684: Now running... 6840\n",
      "on 685: Now running... 6850\n",
      "on 686: Now running... 6860\n",
      "on 687: Now running... 6870\n",
      "on 688: Now running... 6880\n",
      "on 689: Now running... 6890\n",
      "on 690: Now running... 6900\n",
      "on 691: Now running... 6910\n",
      "on 692: Now running... 6920\n",
      "on 693: Now running... 6930\n",
      "on 694: Now running... 6940\n",
      "on 695: Now running... 6950\n",
      "on 696: Now running... 6960\n",
      "on 697: Now running... 6970\n",
      "on 698: Now running... 6980\n",
      "on 699: Now running... 6990\n",
      "on 700: Now running... 7000\n",
      "on 701: Now running... 7010\n",
      "on 702: Now running... 7020\n",
      "on 703: Now running... 7030\n",
      "on 704: Now running... 7040\n",
      "on 705: Now running... 7050\n",
      "on 706: Now running... 7060\n",
      "on 707: Now running... 7070\n",
      "on 708: Now running... 7080\n",
      "on 709: Now running... 7090\n",
      "on 710: Now running... 7100\n",
      "on 711: Now running... 7110\n",
      "on 712: Now running... 7120\n",
      "on 713: Now running... 7130\n",
      "on 714: Now running... 7140\n",
      "on 715: Now running... 7150\n",
      "on 716: Now running... 7160\n",
      "on 717: Now running... 7170\n",
      "on 718: Now running... 7180\n",
      "on 719: Now running... 7190\n",
      "on 720: Now running... 7200\n",
      "on 721: Now running... 7210\n",
      "on 722: Now running... 7220\n",
      "on 723: Now running... 7230\n",
      "on 724: Now running... 7240\n",
      "on 725: Now running... 7250\n",
      "on 726: Now running... 7260\n",
      "on 727: Now running... 7270\n",
      "on 728: Now running... 7280\n",
      "on 729: Now running... 7290\n",
      "on 730: Now running... 7300\n",
      "on 731: Now running... 7310\n",
      "on 732: Now running... 7320\n",
      "on 733: Now running... 7330\n",
      "on 734: Now running... 7340\n",
      "on 735: Now running... 7350\n",
      "on 736: Now running... 7360\n",
      "on 737: Now running... 7370\n",
      "on 738: Now running... 7380\n",
      "on 739: Now running... 7390\n",
      "on 740: Now running... 7400\n",
      "on 741: Now running... 7410\n",
      "on 742: Now running... 7420\n",
      "on 743: Now running... 7430\n",
      "on 744: Now running... 7440\n",
      "on 745: Now running... 7450\n",
      "on 746: Now running... 7460\n",
      "on 747: Now running... 7470\n",
      "on 748: Now running... 7480\n",
      "on 749: Now running... 7490\n",
      "on 750: Now running... 7500\n",
      "on 751: Now running... 7510\n",
      "on 752: Now running... 7520\n",
      "on 753: Now running... 7530\n",
      "on 754: Now running... 7540\n",
      "on 755: Now running... 7550\n",
      "on 756: Now running... 7560\n",
      "on 757: Now running... 7570\n",
      "on 758: Now running... 7580\n",
      "on 759: Now running... 7590\n",
      "on 760: Now running... 7600\n",
      "on 761: Now running... 7610\n",
      "on 762: Now running... 7620\n",
      "on 763: Now running... 7630\n",
      "on 764: Now running... 7640\n",
      "on 765: Now running... 7650\n",
      "on 766: Now running... 7660\n",
      "on 767: Now running... 7670\n",
      "on 768: Now running... 7680\n",
      "on 769: Now running... 7690\n",
      "on 770: Now running... 7700\n",
      "on 771: Now running... 7710\n",
      "on 772: Now running... 7720\n",
      "on 773: Now running... 7730\n",
      "on 774: Now running... 7740\n",
      "on 775: Now running... 7750\n",
      "on 776: Now running... 7760\n",
      "on 777: Now running... 7770\n",
      "on 778: Now running... 7780\n",
      "on 779: Now running... 7790\n",
      "on 780: Now running... 7800\n",
      "on 781: Now running... 7810\n",
      "on 782: Now running... 7820\n",
      "on 783: Now running... 7830\n",
      "on 784: Now running... 7840\n",
      "on 785: Now running... 7850\n",
      "on 786: Now running... 7860\n",
      "on 787: Now running... 7870\n",
      "on 788: Now running... 7880\n",
      "on 789: Now running... 7890\n",
      "on 790: Now running... 7900\n",
      "on 791: Now running... 7910\n",
      "on 792: Now running... 7920\n",
      "on 793: Now running... 7930\n",
      "on 794: Now running... 7940\n",
      "on 795: Now running... 7950\n",
      "on 796: Now running... 7960\n",
      "on 797: Now running... 7970\n",
      "on 798: Now running... 7980\n",
      "on 799: Now running... 7990\n",
      "on 800: Now running... 8000\n",
      "on 801: Now running... 8010\n",
      "on 802: Now running... 8020\n",
      "on 803: Now running... 8030\n",
      "on 804: Now running... 8040\n",
      "on 805: Now running... 8050\n",
      "on 806: Now running... 8060\n",
      "on 807: Now running... 8070\n",
      "on 808: Now running... 8080\n",
      "on 809: Now running... 8090\n",
      "on 810: Now running... 8100\n",
      "on 811: Now running... 8110\n",
      "on 812: Now running... 8120\n",
      "on 813: Now running... 8130\n",
      "on 814: Now running... 8140\n",
      "on 815: Now running... 8150\n",
      "on 816: Now running... 8160\n",
      "on 817: Now running... 8170\n",
      "on 818: Now running... 8180\n",
      "on 819: Now running... 8190\n",
      "on 820: Now running... 8200\n",
      "on 821: Now running... 8210\n",
      "on 822: Now running... 8220\n",
      "on 823: Now running... 8230\n",
      "on 824: Now running... 8240\n",
      "on 825: Now running... 8250\n",
      "on 826: Now running... 8260\n",
      "on 827: Now running... 8270\n",
      "on 828: Now running... 8280\n",
      "on 829: Now running... 8290\n",
      "on 830: Now running... 8300\n",
      "on 831: Now running... 8310\n",
      "on 832: Now running... 8320\n",
      "on 833: Now running... 8330\n",
      "on 834: Now running... 8340\n",
      "on 835: Now running... 8350\n",
      "on 836: Now running... 8360\n",
      "on 837: Now running... 8370\n",
      "on 838: Now running... 8380\n",
      "on 839: Now running... 8390\n",
      "on 840: Now running... 8400\n",
      "on 841: Now running... 8410\n",
      "on 842: Now running... 8420\n",
      "on 843: Now running... 8430\n",
      "on 844: Now running... 8440\n",
      "on 845: Now running... 8450\n",
      "on 846: Now running... 8460\n",
      "on 847: Now running... 8470\n",
      "on 848: Now running... 8480\n",
      "on 849: Now running... 8490\n",
      "on 850: Now running... 8500\n",
      "on 851: Now running... 8510\n",
      "on 852: Now running... 8520\n",
      "on 853: Now running... 8530\n",
      "on 854: Now running... 8540\n",
      "on 855: Now running... 8550\n",
      "on 856: Now running... 8560\n",
      "on 857: Now running... 8570\n",
      "on 858: Now running... 8580\n",
      "on 859: Now running... 8590\n",
      "on 860: Now running... 8600\n",
      "on 861: Now running... 8610\n",
      "on 862: Now running... 8620\n",
      "on 863: Now running... 8630\n",
      "on 864: Now running... 8640\n",
      "on 865: Now running... 8650\n",
      "on 866: Now running... 8660\n",
      "on 867: Now running... 8670\n",
      "on 868: Now running... 8680\n",
      "on 869: Now running... 8690\n",
      "on 870: Now running... 8700\n",
      "on 871: Now running... 8710\n",
      "on 872: Now running... 8720\n",
      "on 873: Now running... 8730\n",
      "on 874: Now running... 8740\n",
      "on 875: Now running... 8750\n",
      "on 876: Now running... 8760\n",
      "on 877: Now running... 8770\n",
      "on 878: Now running... 8780\n",
      "on 879: Now running... 8790\n",
      "on 880: Now running... 8800\n",
      "on 881: Now running... 8810\n",
      "on 882: Now running... 8820\n",
      "on 883: Now running... 8830\n",
      "on 884: Now running... 8840\n",
      "on 885: Now running... 8850\n",
      "on 886: Now running... 8860\n",
      "on 887: Now running... 8870\n",
      "on 888: Now running... 8880\n",
      "on 889: Now running... 8890\n",
      "on 890: Now running... 8900\n",
      "on 891: Now running... 8910\n",
      "on 892: Now running... 8920\n",
      "on 893: Now running... 8930\n",
      "on 894: Now running... 8940\n",
      "on 895: Now running... 8950\n",
      "on 896: Now running... 8960\n",
      "on 897: Now running... 8970\n",
      "on 898: Now running... 8980\n",
      "on 899: Now running... 8990\n",
      "on 900: Now running... 9000\n",
      "on 901: Now running... 9010\n",
      "on 902: Now running... 9020\n",
      "on 903: Now running... 9030\n",
      "on 904: Now running... 9040\n",
      "on 905: Now running... 9050\n",
      "on 906: Now running... 9060\n",
      "on 907: Now running... 9070\n",
      "on 908: Now running... 9080\n",
      "on 909: Now running... 9090\n",
      "on 910: Now running... 9100\n",
      "on 911: Now running... 9110\n",
      "on 912: Now running... 9120\n",
      "on 913: Now running... 9130\n",
      "on 914: Now running... 9140\n",
      "on 915: Now running... 9150\n",
      "on 916: Now running... 9160\n",
      "on 917: Now running... 9170\n",
      "on 918: Now running... 9180\n",
      "on 919: Now running... 9190\n",
      "on 920: Now running... 9200\n",
      "on 921: Now running... 9210\n",
      "on 922: Now running... 9220\n",
      "on 923: Now running... 9230\n",
      "on 924: Now running... 9240\n",
      "on 925: Now running... 9250\n",
      "on 926: Now running... 9260\n",
      "on 927: Now running... 9270\n",
      "on 928: Now running... 9280\n",
      "on 929: Now running... 9290\n",
      "on 930: Now running... 9300\n",
      "on 931: Now running... 9310\n",
      "on 932: Now running... 9320\n",
      "on 933: Now running... 9330\n",
      "on 934: Now running... 9340\n",
      "on 935: Now running... 9350\n",
      "on 936: Now running... 9360\n",
      "on 937: Now running... 9370\n",
      "on 938: Now running... 9380\n",
      "on 939: Now running... 9390\n",
      "on 940: Now running... 9400\n",
      "on 941: Now running... 9410\n",
      "on 942: Now running... 9420\n",
      "on 943: Now running... 9430\n",
      "on 944: Now running... 9440\n",
      "on 945: Now running... 9450\n",
      "on 946: Now running... 9460\n",
      "on 947: Now running... 9470\n",
      "on 948: Now running... 9480\n",
      "on 949: Now running... 9490\n",
      "on 950: Now running... 9500\n",
      "on 951: Now running... 9510\n",
      "on 952: Now running... 9520\n",
      "on 953: Now running... 9530\n",
      "on 954: Now running... 9540\n",
      "on 955: Now running... 9550\n",
      "on 956: Now running... 9560\n",
      "on 957: Now running... 9570\n",
      "on 958: Now running... 9580\n",
      "on 959: Now running... 9590\n",
      "on 960: Now running... 9600\n",
      "on 961: Now running... 9610\n",
      "on 962: Now running... 9620\n",
      "on 963: Now running... 9630\n",
      "on 964: Now running... 9640\n",
      "on 965: Now running... 9650\n",
      "on 966: Now running... 9660\n",
      "on 967: Now running... 9670\n",
      "on 968: Now running... 9680\n",
      "on 969: Now running... 9690\n",
      "on 970: Now running... 9700\n",
      "on 971: Now running... 9710\n",
      "on 972: Now running... 9720\n",
      "on 973: Now running... 9730\n",
      "on 974: Now running... 9740\n",
      "on 975: Now running... 9750\n",
      "on 976: Now running... 9760\n",
      "on 977: Now running... 9770\n",
      "on 978: Now running... 9780\n",
      "on 979: Now running... 9790\n",
      "on 980: Now running... 9800\n",
      "on 981: Now running... 9810\n",
      "on 982: Now running... 9820\n",
      "on 983: Now running... 9830\n",
      "on 984: Now running... 9840\n",
      "on 985: Now running... 9850\n",
      "on 986: Now running... 9860\n",
      "on 987: Now running... 9870\n",
      "on 988: Now running... 9880\n",
      "on 989: Now running... 9890\n",
      "on 990: Now running... 9900\n",
      "on 991: Now running... 9910\n",
      "on 992: Now running... 9920\n",
      "on 993: Now running... 9930\n",
      "on 994: Now running... 9940\n",
      "on 995: Now running... 9950\n",
      "on 996: Now running... 9960\n",
      "on 997: Now running... 9970\n",
      "on 998: Now running... 9980\n",
      "on 999: Now running... 9990\n",
      "|████████████████████████████████████████| 1000/1000 [100%] in 30.7s (32.57/s) \n"
     ]
    }
   ],
   "source": [
    "kmeans_dict = {}\n",
    "inertia_dict = {}\n",
    "kmeans = cluster.KMeans(\n",
    "        n_clusters=n_clusters,\n",
    "        n_init = 10,\n",
    "        max_iter=10000)\n",
    "\n",
    "for seed in alive_it(range(0, 10000, 10)):\n",
    "    print(\"Now running...\", seed)\n",
    "    kmeans.set_params(random_state = seed)\n",
    "    kmeans.fit(X_redux)\n",
    "    kmeans_dict[seed] = kmeans.labels_\n",
    "    inertia_dict[seed] = kmeans.inertia_"
   ]
  },
  {
   "cell_type": "code",
   "execution_count": 53,
   "metadata": {},
   "outputs": [
    {
     "data": {
      "text/plain": [
       "0"
      ]
     },
     "execution_count": 53,
     "metadata": {},
     "output_type": "execute_result"
    }
   ],
   "source": [
    "min(inertia_dict, key=inertia_dict.get)"
   ]
  },
  {
   "cell_type": "code",
   "execution_count": 54,
   "metadata": {},
   "outputs": [
    {
     "data": {
      "text/plain": [
       "3830"
      ]
     },
     "execution_count": 54,
     "metadata": {},
     "output_type": "execute_result"
    }
   ],
   "source": [
    "max(inertia_dict, key=inertia_dict.get)"
   ]
  },
  {
   "cell_type": "code",
   "execution_count": 52,
   "metadata": {},
   "outputs": [
    {
     "data": {
      "application/vnd.plotly.v1+json": {
       "config": {
        "plotlyServerURL": "https://plot.ly"
       },
       "data": [
        {
         "mode": "lines+markers",
         "type": "scatter",
         "x": [
          0,
          10,
          20,
          30,
          40,
          50,
          60,
          70,
          80,
          90,
          100,
          110,
          120,
          130,
          140,
          150,
          160,
          170,
          180,
          190,
          200,
          210,
          220,
          230,
          240,
          250,
          260,
          270,
          280,
          290,
          300,
          310,
          320,
          330,
          340,
          350,
          360,
          370,
          380,
          390,
          400,
          410,
          420,
          430,
          440,
          450,
          460,
          470,
          480,
          490,
          500,
          510,
          520,
          530,
          540,
          550,
          560,
          570,
          580,
          590,
          600,
          610,
          620,
          630,
          640,
          650,
          660,
          670,
          680,
          690,
          700,
          710,
          720,
          730,
          740,
          750,
          760,
          770,
          780,
          790,
          800,
          810,
          820,
          830,
          840,
          850,
          860,
          870,
          880,
          890,
          900,
          910,
          920,
          930,
          940,
          950,
          960,
          970,
          980,
          990,
          1000,
          1010,
          1020,
          1030,
          1040,
          1050,
          1060,
          1070,
          1080,
          1090,
          1100,
          1110,
          1120,
          1130,
          1140,
          1150,
          1160,
          1170,
          1180,
          1190,
          1200,
          1210,
          1220,
          1230,
          1240,
          1250,
          1260,
          1270,
          1280,
          1290,
          1300,
          1310,
          1320,
          1330,
          1340,
          1350,
          1360,
          1370,
          1380,
          1390,
          1400,
          1410,
          1420,
          1430,
          1440,
          1450,
          1460,
          1470,
          1480,
          1490,
          1500,
          1510,
          1520,
          1530,
          1540,
          1550,
          1560,
          1570,
          1580,
          1590,
          1600,
          1610,
          1620,
          1630,
          1640,
          1650,
          1660,
          1670,
          1680,
          1690,
          1700,
          1710,
          1720,
          1730,
          1740,
          1750,
          1760,
          1770,
          1780,
          1790,
          1800,
          1810,
          1820,
          1830,
          1840,
          1850,
          1860,
          1870,
          1880,
          1890,
          1900,
          1910,
          1920,
          1930,
          1940,
          1950,
          1960,
          1970,
          1980,
          1990,
          2000,
          2010,
          2020,
          2030,
          2040,
          2050,
          2060,
          2070,
          2080,
          2090,
          2100,
          2110,
          2120,
          2130,
          2140,
          2150,
          2160,
          2170,
          2180,
          2190,
          2200,
          2210,
          2220,
          2230,
          2240,
          2250,
          2260,
          2270,
          2280,
          2290,
          2300,
          2310,
          2320,
          2330,
          2340,
          2350,
          2360,
          2370,
          2380,
          2390,
          2400,
          2410,
          2420,
          2430,
          2440,
          2450,
          2460,
          2470,
          2480,
          2490,
          2500,
          2510,
          2520,
          2530,
          2540,
          2550,
          2560,
          2570,
          2580,
          2590,
          2600,
          2610,
          2620,
          2630,
          2640,
          2650,
          2660,
          2670,
          2680,
          2690,
          2700,
          2710,
          2720,
          2730,
          2740,
          2750,
          2760,
          2770,
          2780,
          2790,
          2800,
          2810,
          2820,
          2830,
          2840,
          2850,
          2860,
          2870,
          2880,
          2890,
          2900,
          2910,
          2920,
          2930,
          2940,
          2950,
          2960,
          2970,
          2980,
          2990,
          3000,
          3010,
          3020,
          3030,
          3040,
          3050,
          3060,
          3070,
          3080,
          3090,
          3100,
          3110,
          3120,
          3130,
          3140,
          3150,
          3160,
          3170,
          3180,
          3190,
          3200,
          3210,
          3220,
          3230,
          3240,
          3250,
          3260,
          3270,
          3280,
          3290,
          3300,
          3310,
          3320,
          3330,
          3340,
          3350,
          3360,
          3370,
          3380,
          3390,
          3400,
          3410,
          3420,
          3430,
          3440,
          3450,
          3460,
          3470,
          3480,
          3490,
          3500,
          3510,
          3520,
          3530,
          3540,
          3550,
          3560,
          3570,
          3580,
          3590,
          3600,
          3610,
          3620,
          3630,
          3640,
          3650,
          3660,
          3670,
          3680,
          3690,
          3700,
          3710,
          3720,
          3730,
          3740,
          3750,
          3760,
          3770,
          3780,
          3790,
          3800,
          3810,
          3820,
          3830,
          3840,
          3850,
          3860,
          3870,
          3880,
          3890,
          3900,
          3910,
          3920,
          3930,
          3940,
          3950,
          3960,
          3970,
          3980,
          3990,
          4000,
          4010,
          4020,
          4030,
          4040,
          4050,
          4060,
          4070,
          4080,
          4090,
          4100,
          4110,
          4120,
          4130,
          4140,
          4150,
          4160,
          4170,
          4180,
          4190,
          4200,
          4210,
          4220,
          4230,
          4240,
          4250,
          4260,
          4270,
          4280,
          4290,
          4300,
          4310,
          4320,
          4330,
          4340,
          4350,
          4360,
          4370,
          4380,
          4390,
          4400,
          4410,
          4420,
          4430,
          4440,
          4450,
          4460,
          4470,
          4480,
          4490,
          4500,
          4510,
          4520,
          4530,
          4540,
          4550,
          4560,
          4570,
          4580,
          4590,
          4600,
          4610,
          4620,
          4630,
          4640,
          4650,
          4660,
          4670,
          4680,
          4690,
          4700,
          4710,
          4720,
          4730,
          4740,
          4750,
          4760,
          4770,
          4780,
          4790,
          4800,
          4810,
          4820,
          4830,
          4840,
          4850,
          4860,
          4870,
          4880,
          4890,
          4900,
          4910,
          4920,
          4930,
          4940,
          4950,
          4960,
          4970,
          4980,
          4990,
          5000,
          5010,
          5020,
          5030,
          5040,
          5050,
          5060,
          5070,
          5080,
          5090,
          5100,
          5110,
          5120,
          5130,
          5140,
          5150,
          5160,
          5170,
          5180,
          5190,
          5200,
          5210,
          5220,
          5230,
          5240,
          5250,
          5260,
          5270,
          5280,
          5290,
          5300,
          5310,
          5320,
          5330,
          5340,
          5350,
          5360,
          5370,
          5380,
          5390,
          5400,
          5410,
          5420,
          5430,
          5440,
          5450,
          5460,
          5470,
          5480,
          5490,
          5500,
          5510,
          5520,
          5530,
          5540,
          5550,
          5560,
          5570,
          5580,
          5590,
          5600,
          5610,
          5620,
          5630,
          5640,
          5650,
          5660,
          5670,
          5680,
          5690,
          5700,
          5710,
          5720,
          5730,
          5740,
          5750,
          5760,
          5770,
          5780,
          5790,
          5800,
          5810,
          5820,
          5830,
          5840,
          5850,
          5860,
          5870,
          5880,
          5890,
          5900,
          5910,
          5920,
          5930,
          5940,
          5950,
          5960,
          5970,
          5980,
          5990,
          6000,
          6010,
          6020,
          6030,
          6040,
          6050,
          6060,
          6070,
          6080,
          6090,
          6100,
          6110,
          6120,
          6130,
          6140,
          6150,
          6160,
          6170,
          6180,
          6190,
          6200,
          6210,
          6220,
          6230,
          6240,
          6250,
          6260,
          6270,
          6280,
          6290,
          6300,
          6310,
          6320,
          6330,
          6340,
          6350,
          6360,
          6370,
          6380,
          6390,
          6400,
          6410,
          6420,
          6430,
          6440,
          6450,
          6460,
          6470,
          6480,
          6490,
          6500,
          6510,
          6520,
          6530,
          6540,
          6550,
          6560,
          6570,
          6580,
          6590,
          6600,
          6610,
          6620,
          6630,
          6640,
          6650,
          6660,
          6670,
          6680,
          6690,
          6700,
          6710,
          6720,
          6730,
          6740,
          6750,
          6760,
          6770,
          6780,
          6790,
          6800,
          6810,
          6820,
          6830,
          6840,
          6850,
          6860,
          6870,
          6880,
          6890,
          6900,
          6910,
          6920,
          6930,
          6940,
          6950,
          6960,
          6970,
          6980,
          6990,
          7000,
          7010,
          7020,
          7030,
          7040,
          7050,
          7060,
          7070,
          7080,
          7090,
          7100,
          7110,
          7120,
          7130,
          7140,
          7150,
          7160,
          7170,
          7180,
          7190,
          7200,
          7210,
          7220,
          7230,
          7240,
          7250,
          7260,
          7270,
          7280,
          7290,
          7300,
          7310,
          7320,
          7330,
          7340,
          7350,
          7360,
          7370,
          7380,
          7390,
          7400,
          7410,
          7420,
          7430,
          7440,
          7450,
          7460,
          7470,
          7480,
          7490,
          7500,
          7510,
          7520,
          7530,
          7540,
          7550,
          7560,
          7570,
          7580,
          7590,
          7600,
          7610,
          7620,
          7630,
          7640,
          7650,
          7660,
          7670,
          7680,
          7690,
          7700,
          7710,
          7720,
          7730,
          7740,
          7750,
          7760,
          7770,
          7780,
          7790,
          7800,
          7810,
          7820,
          7830,
          7840,
          7850,
          7860,
          7870,
          7880,
          7890,
          7900,
          7910,
          7920,
          7930,
          7940,
          7950,
          7960,
          7970,
          7980,
          7990,
          8000,
          8010,
          8020,
          8030,
          8040,
          8050,
          8060,
          8070,
          8080,
          8090,
          8100,
          8110,
          8120,
          8130,
          8140,
          8150,
          8160,
          8170,
          8180,
          8190,
          8200,
          8210,
          8220,
          8230,
          8240,
          8250,
          8260,
          8270,
          8280,
          8290,
          8300,
          8310,
          8320,
          8330,
          8340,
          8350,
          8360,
          8370,
          8380,
          8390,
          8400,
          8410,
          8420,
          8430,
          8440,
          8450,
          8460,
          8470,
          8480,
          8490,
          8500,
          8510,
          8520,
          8530,
          8540,
          8550,
          8560,
          8570,
          8580,
          8590,
          8600,
          8610,
          8620,
          8630,
          8640,
          8650,
          8660,
          8670,
          8680,
          8690,
          8700,
          8710,
          8720,
          8730,
          8740,
          8750,
          8760,
          8770,
          8780,
          8790,
          8800,
          8810,
          8820,
          8830,
          8840,
          8850,
          8860,
          8870,
          8880,
          8890,
          8900,
          8910,
          8920,
          8930,
          8940,
          8950,
          8960,
          8970,
          8980,
          8990,
          9000,
          9010,
          9020,
          9030,
          9040,
          9050,
          9060,
          9070,
          9080,
          9090,
          9100,
          9110,
          9120,
          9130,
          9140,
          9150,
          9160,
          9170,
          9180,
          9190,
          9200,
          9210,
          9220,
          9230,
          9240,
          9250,
          9260,
          9270,
          9280,
          9290,
          9300,
          9310,
          9320,
          9330,
          9340,
          9350,
          9360,
          9370,
          9380,
          9390,
          9400,
          9410,
          9420,
          9430,
          9440,
          9450,
          9460,
          9470,
          9480,
          9490,
          9500,
          9510,
          9520,
          9530,
          9540,
          9550,
          9560,
          9570,
          9580,
          9590,
          9600,
          9610,
          9620,
          9630,
          9640,
          9650,
          9660,
          9670,
          9680,
          9690,
          9700,
          9710,
          9720,
          9730,
          9740,
          9750,
          9760,
          9770,
          9780,
          9790,
          9800,
          9810,
          9820,
          9830,
          9840,
          9850,
          9860,
          9870,
          9880,
          9890,
          9900,
          9910,
          9920,
          9930,
          9940,
          9950,
          9960,
          9970,
          9980,
          9990
         ],
         "y": [
          5764335.861985803,
          5924942.981179012,
          5764335.861985803,
          5764335.861985803,
          5764335.861985803,
          5764335.861985803,
          5764335.861985803,
          5764335.861985803,
          5925004.101737846,
          5764335.861985803,
          5924863.4988010675,
          5764335.861985803,
          5764335.861985803,
          5764335.861985803,
          5764335.861985803,
          5764335.861985803,
          5764335.861985803,
          5764335.861985803,
          5764335.861985803,
          5764335.861985803,
          5924905.684420181,
          5764335.861985803,
          5764335.861985803,
          5764335.861985803,
          5764335.861985803,
          5764335.861985803,
          5764335.861985803,
          5764335.861985803,
          5764335.861985803,
          5764335.861985803,
          5764335.861985803,
          5764335.861985803,
          5764335.861985803,
          5764335.861985803,
          5764335.861985803,
          5764335.861985803,
          5764335.861985803,
          5764335.861985803,
          5764335.861985803,
          5764335.861985803,
          5764335.861985803,
          5764335.861985803,
          5764335.861985803,
          5764335.861985803,
          5764335.861985803,
          5764335.861985803,
          5764335.861985803,
          5764335.861985803,
          5925622.4083449375,
          5764335.861985803,
          5924949.58946912,
          5764335.861985803,
          5764335.861985803,
          5764335.861985803,
          5764335.861985803,
          5764335.861985803,
          5764335.861985803,
          5764335.861985803,
          5764335.861985803,
          5764335.861985803,
          5764335.861985803,
          5925550.20715206,
          5764335.861985803,
          5764335.861985803,
          5764335.861985803,
          5764335.861985803,
          5764335.861985803,
          5764335.861985803,
          5764335.861985803,
          5924863.4988010675,
          5764335.861985803,
          5764335.861985803,
          5764335.861985803,
          5764335.861985803,
          5764335.861985803,
          5764335.861985803,
          5924942.981179012,
          5764335.861985803,
          5764335.861985803,
          5764335.861985803,
          5764335.861985803,
          5764335.861985803,
          5764335.861985803,
          5764335.861985803,
          5764335.861985803,
          5764335.861985803,
          5764335.861985803,
          5764335.861985803,
          5764335.861985803,
          5764335.861985803,
          5764335.861985803,
          5764335.861985803,
          5764335.861985803,
          5764335.861985803,
          5764335.861985803,
          5764335.861985803,
          5764335.861985803,
          5764335.861985803,
          5764335.861985803,
          5764335.861985803,
          5764335.861985803,
          5764335.861985803,
          5764335.861985803,
          5764335.861985803,
          5764335.861985803,
          5764335.861985803,
          5764335.861985803,
          5764335.861985803,
          5925004.101737846,
          5764335.861985803,
          5764335.861985803,
          5764335.861985803,
          5764335.861985803,
          5764335.861985803,
          5764335.861985803,
          5764335.861985803,
          5764335.861985803,
          5764335.861985803,
          5764335.861985803,
          5764335.861985803,
          5764335.861985803,
          5764335.861985803,
          5764335.861985803,
          5764335.861985803,
          5925056.399985997,
          5764335.861985803,
          5764335.861985803,
          5924863.4988010675,
          5764335.861985803,
          5764335.861985803,
          5924942.981179012,
          5764335.861985803,
          5764335.861985803,
          5764335.861985803,
          5764335.861985803,
          5764335.861985803,
          5764335.861985803,
          5764335.861985803,
          5764335.861985803,
          5764335.861985803,
          5764335.861985803,
          5764335.861985803,
          5764335.861985803,
          5764335.861985803,
          5764335.861985803,
          5764335.861985803,
          5764335.861985803,
          5764335.861985803,
          5764335.861985803,
          5764335.861985803,
          5764335.861985803,
          5924863.4988010675,
          5764335.861985803,
          5764335.861985803,
          5924863.4988010675,
          5764335.861985803,
          5764335.861985803,
          5764335.861985803,
          5764335.861985803,
          5764335.861985803,
          5764335.861985803,
          5764335.861985803,
          5924884.178780085,
          5764335.861985803,
          5764335.861985803,
          5764335.861985803,
          5764335.861985803,
          5764335.861985803,
          5764335.861985803,
          5764335.861985803,
          5764335.861985803,
          5764335.861985803,
          5764335.861985803,
          5764335.861985803,
          5764335.861985803,
          5764335.861985803,
          5764335.861985803,
          5764335.861985803,
          5764335.861985803,
          5764335.861985803,
          5924949.58946912,
          5764335.861985803,
          5764335.861985803,
          5764335.861985803,
          5764335.861985803,
          5764335.861985803,
          5764335.861985803,
          5764335.861985803,
          5764335.861985803,
          5925004.101737846,
          5764335.861985803,
          5764335.861985803,
          5764335.861985803,
          5764335.861985803,
          5764335.861985803,
          5764335.861985803,
          5764335.861985803,
          5764335.861985803,
          5764335.861985803,
          5764335.861985803,
          5764335.861985803,
          5764335.861985803,
          5764335.861985803,
          5764335.861985803,
          5764335.861985803,
          5764335.861985803,
          5764335.861985803,
          5764335.861985803,
          5764335.861985803,
          5764335.861985803,
          5764335.861985803,
          5764335.861985803,
          5764335.861985803,
          5764335.861985803,
          5764335.861985803,
          5764335.861985803,
          5764335.861985803,
          5764335.861985803,
          5764335.861985803,
          5764335.861985803,
          5764335.861985803,
          5764335.861985803,
          5764335.861985803,
          5764335.861985803,
          5764335.861985803,
          5925004.101737846,
          5764335.861985803,
          5764335.861985803,
          5764335.861985803,
          5764335.861985803,
          5764335.861985803,
          5764335.861985803,
          5764335.861985803,
          5764335.861985803,
          5764335.861985803,
          5764335.861985803,
          5764335.861985803,
          5764335.861985803,
          5764335.861985803,
          5764335.861985803,
          5764335.861985803,
          5764335.861985803,
          5764335.861985803,
          5764335.861985803,
          5764335.861985803,
          5764335.861985803,
          5924905.684420181,
          5764335.861985803,
          5924949.58946912,
          5924863.4988010675,
          5764335.861985803,
          5764335.861985803,
          5764335.861985803,
          5764335.861985803,
          5764335.861985803,
          5764335.861985803,
          5764335.861985803,
          5764335.861985803,
          5764335.861985803,
          5925056.399985997,
          5764335.861985803,
          5764335.861985803,
          5764335.861985803,
          5924992.746780608,
          5764335.861985803,
          5764335.861985803,
          5764335.861985803,
          5764335.861985803,
          5764335.861985803,
          5764335.861985803,
          5764335.861985803,
          5764335.861985803,
          5764335.861985803,
          5764335.861985803,
          5764335.861985803,
          5764335.861985803,
          5764335.861985803,
          5764335.861985803,
          5764335.861985803,
          5764335.861985803,
          5764335.861985803,
          5764335.861985803,
          5764335.861985803,
          5764335.861985803,
          5764335.861985803,
          5764335.861985803,
          5764335.861985803,
          5764335.861985803,
          5764335.861985803,
          5764335.861985803,
          5764335.861985803,
          5764335.861985803,
          5764335.861985803,
          5764335.861985803,
          5764335.861985803,
          5764335.861985803,
          5764335.861985803,
          5764335.861985803,
          5764335.861985803,
          5764335.861985803,
          5764335.861985803,
          5764335.861985803,
          5764335.861985803,
          5764335.861985803,
          5764335.861985803,
          5764335.861985803,
          5925056.399985997,
          5764335.861985803,
          5764335.861985803,
          5764335.861985803,
          5764335.861985803,
          5764335.861985803,
          5764335.861985803,
          5764335.861985803,
          5924942.981179012,
          5764335.861985803,
          5764335.861985803,
          5764335.861985803,
          5764335.861985803,
          5764335.861985803,
          5764335.861985803,
          5764335.861985803,
          5764335.861985803,
          5764335.861985803,
          5764335.861985803,
          5764335.861985803,
          5764335.861985803,
          5764335.861985803,
          5764335.861985803,
          5764335.861985803,
          5764335.861985803,
          5764335.861985803,
          5764335.861985803,
          5764335.861985803,
          5764335.861985803,
          5764335.861985803,
          5924942.981179012,
          5764335.861985803,
          5764335.861985803,
          5764335.861985803,
          5925622.4083449375,
          5764335.861985803,
          5925622.4083449375,
          5924905.684420181,
          5764335.861985803,
          5764335.861985803,
          5764335.861985803,
          5764335.861985803,
          5764335.861985803,
          5764335.861985803,
          5764335.861985803,
          5764335.861985803,
          5764335.861985803,
          5764335.861985803,
          5764335.861985803,
          5764335.861985803,
          5764335.861985803,
          5764335.861985803,
          5764335.861985803,
          5764335.861985803,
          5764335.861985803,
          5764335.861985803,
          5764335.861985803,
          5764335.861985803,
          5924905.684420181,
          5924863.4988010675,
          5764335.861985803,
          5764335.861985803,
          5764335.861985803,
          5764335.861985803,
          5764335.861985803,
          5764335.861985803,
          5925622.4083449375,
          5764335.861985803,
          5764335.861985803,
          5764335.861985803,
          5764335.861985803,
          5764335.861985803,
          5764335.861985803,
          5764335.861985803,
          5764335.861985803,
          5764335.861985803,
          5764335.861985803,
          5987716.158505834,
          5764335.861985803,
          5925550.20715206,
          5764335.861985803,
          5764335.861985803,
          5764335.861985803,
          5764335.861985803,
          5764335.861985803,
          5764335.861985803,
          5764335.861985803,
          5764335.861985803,
          5764335.861985803,
          5764335.861985803,
          5764335.861985803,
          5764335.861985803,
          5764335.861985803,
          5764335.861985803,
          5764335.861985803,
          5764335.861985803,
          5764335.861985803,
          5764335.861985803,
          5925622.4083449375,
          5764335.861985803,
          5764335.861985803,
          5764335.861985803,
          5924905.684420181,
          5764335.861985803,
          5764335.861985803,
          5764335.861985803,
          5764335.861985803,
          5764335.861985803,
          5764335.861985803,
          5764335.861985803,
          5764335.861985803,
          5764335.861985803,
          5764335.861985803,
          5764335.861985803,
          5764335.861985803,
          5764335.861985803,
          5764335.861985803,
          5764335.861985803,
          5764335.861985803,
          5924999.064654173,
          5764335.861985803,
          5924979.200485414,
          5764335.861985803,
          5764335.861985803,
          5764335.861985803,
          5764335.861985803,
          5764335.861985803,
          5764335.861985803,
          5764335.861985803,
          5764335.861985803,
          5764335.861985803,
          5764335.861985803,
          5925004.101737846,
          5764335.861985803,
          5764335.861985803,
          5764335.861985803,
          5764335.861985803,
          5764335.861985803,
          5764335.861985803,
          5764335.861985803,
          5764335.861985803,
          5764335.861985803,
          5764335.861985803,
          5764335.861985803,
          5764335.861985803,
          5764335.861985803,
          5764335.861985803,
          5764335.861985803,
          5764335.861985803,
          5764335.861985803,
          5924905.684420181,
          5764335.861985803,
          5764335.861985803,
          5764335.861985803,
          5764335.861985803,
          5764335.861985803,
          5764335.861985803,
          5764335.861985803,
          5924949.58946912,
          5764335.861985803,
          5764335.861985803,
          5764335.861985803,
          5764335.861985803,
          5764335.861985803,
          5764335.861985803,
          5764335.861985803,
          5764335.861985803,
          5764335.861985803,
          5764335.861985803,
          5764335.861985803,
          5764335.861985803,
          5925056.399985997,
          5924905.684420181,
          5764335.861985803,
          5924942.981179012,
          5764335.861985803,
          5764335.861985803,
          5764335.861985803,
          5764335.861985803,
          5764335.861985803,
          5764335.861985803,
          5764335.861985803,
          5764335.861985803,
          5764335.861985803,
          5764335.861985803,
          5764335.861985803,
          5764335.861985803,
          5764335.861985803,
          5764335.861985803,
          5764335.861985803,
          5764335.861985803,
          5764335.861985803,
          5764335.861985803,
          5764335.861985803,
          5764335.861985803,
          5764335.861985803,
          5764335.861985803,
          5764335.861985803,
          5764335.861985803,
          5764335.861985803,
          5764335.861985803,
          5764335.861985803,
          5764335.861985803,
          5764335.861985803,
          5764335.861985803,
          5764335.861985803,
          5764335.861985803,
          5764335.861985803,
          5764335.861985803,
          5764335.861985803,
          5764335.861985803,
          5764335.861985803,
          5764335.861985803,
          5764335.861985803,
          5764335.861985803,
          5764335.861985803,
          5764335.861985803,
          5764335.861985803,
          5764335.861985803,
          5764335.861985803,
          5764335.861985803,
          5764335.861985803,
          5764335.861985803,
          5764335.861985803,
          5764335.861985803,
          5924884.178780085,
          5924905.684420181,
          5764335.861985803,
          5764335.861985803,
          5764335.861985803,
          5764335.861985803,
          5764335.861985803,
          5764335.861985803,
          5764335.861985803,
          5764335.861985803,
          5764335.861985803,
          5764335.861985803,
          5925056.399985997,
          5764335.861985803,
          5764335.861985803,
          5924999.064654173,
          5764335.861985803,
          5764335.861985803,
          5764335.861985803,
          5764335.861985803,
          5764335.861985803,
          5764335.861985803,
          5764335.861985803,
          5764335.861985803,
          5764335.861985803,
          5764335.861985803,
          5764335.861985803,
          5764335.861985803,
          5764335.861985803,
          5764335.861985803,
          5764335.861985803,
          5764335.861985803,
          5764335.861985803,
          5924863.4988010675,
          5764335.861985803,
          5764335.861985803,
          5764335.861985803,
          5764335.861985803,
          5764335.861985803,
          5764335.861985803,
          5764335.861985803,
          5764335.861985803,
          5925004.101737846,
          5764335.861985803,
          5764335.861985803,
          5764335.861985803,
          5764335.861985803,
          5764335.861985803,
          5924905.684420181,
          5764335.861985803,
          5764335.861985803,
          5764335.861985803,
          5764335.861985803,
          5764335.861985803,
          5764335.861985803,
          5764335.861985803,
          5924949.58946912,
          5764335.861985803,
          5970187.668897187,
          5764335.861985803,
          5764335.861985803,
          5764335.861985803,
          5764335.861985803,
          5764335.861985803,
          5764335.861985803,
          5764335.861985803,
          5764335.861985803,
          5764335.861985803,
          5764335.861985803,
          5764335.861985803,
          5764335.861985803,
          5764335.861985803,
          5764335.861985803,
          5764335.861985803,
          5764335.861985803,
          5764335.861985803,
          5764335.861985803,
          5764335.861985803,
          5764335.861985803,
          5764335.861985803,
          5764335.861985803,
          5764335.861985803,
          5764335.861985803,
          5764335.861985803,
          5764335.861985803,
          5764335.861985803,
          5764335.861985803,
          5764335.861985803,
          5764335.861985803,
          5924905.684420181,
          5764335.861985803,
          5924905.684420181,
          5764335.861985803,
          5764335.861985803,
          5764335.861985803,
          5924905.684420181,
          5764335.861985803,
          5764335.861985803,
          5764335.861985803,
          5764335.861985803,
          5764335.861985803,
          5764335.861985803,
          5764335.861985803,
          5764335.861985803,
          5764335.861985803,
          5764335.861985803,
          5764335.861985803,
          5764335.861985803,
          5764335.861985803,
          5764335.861985803,
          5764335.861985803,
          5764335.861985803,
          5764335.861985803,
          5764335.861985803,
          5764335.861985803,
          5764335.861985803,
          5764335.861985803,
          5764335.861985803,
          5764335.861985803,
          5764335.861985803,
          5764335.861985803,
          5764335.861985803,
          5764335.861985803,
          5764335.861985803,
          5764335.861985803,
          5764335.861985803,
          5764335.861985803,
          5924905.684420181,
          5764335.861985803,
          5764335.861985803,
          5764335.861985803,
          5764335.861985803,
          5764335.861985803,
          5764335.861985803,
          5764335.861985803,
          5764335.861985803,
          5764335.861985803,
          5764335.861985803,
          5764335.861985803,
          5764335.861985803,
          5764335.861985803,
          5764335.861985803,
          5764335.861985803,
          5764335.861985803,
          5764335.861985803,
          5764335.861985803,
          5764335.861985803,
          5764335.861985803,
          5764335.861985803,
          5924863.4988010675,
          5764335.861985803,
          5764335.861985803,
          5764335.861985803,
          5764335.861985803,
          5764335.861985803,
          5764335.861985803,
          5764335.861985803,
          5764335.861985803,
          5764335.861985803,
          5764335.861985803,
          5764335.861985803,
          5764335.861985803,
          5972455.418115376,
          5764335.861985803,
          5764335.861985803,
          5764335.861985803,
          5764335.861985803,
          5764335.861985803,
          5764335.861985803,
          5764335.861985803,
          5764335.861985803,
          5764335.861985803,
          5764335.861985803,
          5764335.861985803,
          5764335.861985803,
          5764335.861985803,
          5764335.861985803,
          5764335.861985803,
          5764335.861985803,
          5764335.861985803,
          5764335.861985803,
          5764335.861985803,
          5764335.861985803,
          5764335.861985803,
          5764335.861985803,
          5764335.861985803,
          5764335.861985803,
          5764335.861985803,
          5764335.861985803,
          5764335.861985803,
          5764335.861985803,
          5764335.861985803,
          5764335.861985803,
          5764335.861985803,
          5764335.861985803,
          5764335.861985803,
          5764335.861985803,
          5764335.861985803,
          5764335.861985803,
          5764335.861985803,
          5764335.861985803,
          5764335.861985803,
          5764335.861985803,
          5764335.861985803,
          5764335.861985803,
          5764335.861985803,
          5764335.861985803,
          5764335.861985803,
          5764335.861985803,
          5764335.861985803,
          5764335.861985803,
          5764335.861985803,
          5764335.861985803,
          5764335.861985803,
          5925550.20715206,
          5764335.861985803,
          5764335.861985803,
          5764335.861985803,
          5764335.861985803,
          5764335.861985803,
          5764335.861985803,
          5764335.861985803,
          5764335.861985803,
          5764335.861985803,
          5764335.861985803,
          5764335.861985803,
          5925622.4083449375,
          5764335.861985803,
          5764335.861985803,
          5764335.861985803,
          5764335.861985803,
          5764335.861985803,
          5764335.861985803,
          5764335.861985803,
          5764335.861985803,
          5924942.981179012,
          5764335.861985803,
          5764335.861985803,
          5764335.861985803,
          5764335.861985803,
          5764335.861985803,
          5764335.861985803,
          5764335.861985803,
          5764335.861985803,
          5764335.861985803,
          5764335.861985803,
          5764335.861985803,
          5764335.861985803,
          5764335.861985803,
          5764335.861985803,
          5764335.861985803,
          5764335.861985803,
          5764335.861985803,
          5764335.861985803,
          5764335.861985803,
          5764335.861985803,
          5764335.861985803,
          5764335.861985803,
          5764335.861985803,
          5764335.861985803,
          5764335.861985803,
          5764335.861985803,
          5764335.861985803,
          5764335.861985803,
          5764335.861985803,
          5764335.861985803,
          5764335.861985803,
          5924942.981179012,
          5764335.861985803,
          5764335.861985803,
          5764335.861985803,
          5764335.861985803,
          5764335.861985803,
          5764335.861985803,
          5764335.861985803,
          5764335.861985803,
          5764335.861985803,
          5764335.861985803,
          5764335.861985803,
          5764335.861985803,
          5764335.861985803,
          5764335.861985803,
          5924942.981179012,
          5764335.861985803,
          5764335.861985803,
          5764335.861985803,
          5764335.861985803,
          5764335.861985803,
          5764335.861985803,
          5764335.861985803,
          5764335.861985803,
          5764335.861985803,
          5764335.861985803,
          5764335.861985803,
          5764335.861985803,
          5764335.861985803,
          5764335.861985803,
          5764335.861985803,
          5764335.861985803,
          5764335.861985803,
          5764335.861985803,
          5764335.861985803,
          5925004.101737846,
          5764335.861985803,
          5764335.861985803,
          5764335.861985803,
          5764335.861985803,
          5764335.861985803,
          5764335.861985803,
          5764335.861985803,
          5764335.861985803,
          5764335.861985803,
          5764335.861985803,
          5764335.861985803,
          5764335.861985803,
          5764335.861985803,
          5764335.861985803,
          5764335.861985803,
          5764335.861985803,
          5764335.861985803,
          5764335.861985803,
          5764335.861985803,
          5764335.861985803,
          5764335.861985803,
          5764335.861985803,
          5764335.861985803,
          5764335.861985803,
          5764335.861985803,
          5764335.861985803,
          5764335.861985803,
          5764335.861985803,
          5764335.861985803,
          5764335.861985803,
          5764335.861985803,
          5764335.861985803,
          5764335.861985803,
          5764335.861985803,
          5764335.861985803,
          5764335.861985803,
          5764335.861985803,
          5764335.861985803,
          5764335.861985803,
          5764335.861985803,
          5764335.861985803,
          5764335.861985803,
          5764335.861985803,
          5764335.861985803,
          5764335.861985803,
          5764335.861985803,
          5764335.861985803,
          5764335.861985803,
          5764335.861985803,
          5764335.861985803,
          5764335.861985803,
          5764335.861985803,
          5764335.861985803,
          5764335.861985803,
          5764335.861985803,
          5764335.861985803,
          5764335.861985803,
          5924905.684420181,
          5764335.861985803,
          5764335.861985803,
          5764335.861985803,
          5764335.861985803,
          5764335.861985803,
          5764335.861985803,
          5764335.861985803,
          5764335.861985803,
          5764335.861985803,
          5764335.861985803,
          5764335.861985803,
          5764335.861985803,
          5764335.861985803,
          5764335.861985803,
          5764335.861985803,
          5764335.861985803,
          5764335.861985803,
          5764335.861985803,
          5764335.861985803,
          5764335.861985803,
          5764335.861985803,
          5764335.861985803,
          5764335.861985803,
          5764335.861985803,
          5764335.861985803,
          5764335.861985803,
          5764335.861985803,
          5764335.861985803,
          5764335.861985803,
          5764335.861985803,
          5764335.861985803,
          5764335.861985803,
          5764335.861985803,
          5764335.861985803,
          5924905.684420181,
          5764335.861985803,
          5764335.861985803,
          5764335.861985803,
          5764335.861985803,
          5764335.861985803,
          5764335.861985803,
          5764335.861985803,
          5764335.861985803,
          5924942.981179012,
          5764335.861985803,
          5764335.861985803,
          5764335.861985803,
          5764335.861985803,
          5764335.861985803,
          5764335.861985803,
          5764335.861985803,
          5764335.861985803,
          5764335.861985803,
          5764335.861985803,
          5764335.861985803,
          5764335.861985803,
          5764335.861985803,
          5764335.861985803,
          5764335.861985803,
          5764335.861985803,
          5764335.861985803,
          5764335.861985803,
          5764335.861985803,
          5764335.861985803,
          5764335.861985803,
          5764335.861985803,
          5764335.861985803,
          5764335.861985803,
          5764335.861985803,
          5764335.861985803,
          5764335.861985803,
          5764335.861985803,
          5764335.861985803,
          5764335.861985803,
          5764335.861985803,
          5764335.861985803,
          5764335.861985803,
          5764335.861985803,
          5764335.861985803,
          5764335.861985803,
          5764335.861985803,
          5764335.861985803,
          5925550.20715206,
          5764335.861985803,
          5764335.861985803,
          5764335.861985803,
          5764335.861985803,
          5764335.861985803,
          5764335.861985803,
          5764335.861985803,
          5764335.861985803,
          5764335.861985803,
          5764335.861985803,
          5764335.861985803,
          5764335.861985803,
          5764335.861985803,
          5764335.861985803,
          5764335.861985803,
          5764335.861985803,
          5764335.861985803,
          5764335.861985803,
          5764335.861985803,
          5764335.861985803,
          5764335.861985803,
          5764335.861985803,
          5764335.861985803,
          5764335.861985803,
          5764335.861985803
         ]
        }
       ],
       "layout": {
        "template": {
         "data": {
          "bar": [
           {
            "error_x": {
             "color": "#2a3f5f"
            },
            "error_y": {
             "color": "#2a3f5f"
            },
            "marker": {
             "line": {
              "color": "#E5ECF6",
              "width": 0.5
             },
             "pattern": {
              "fillmode": "overlay",
              "size": 10,
              "solidity": 0.2
             }
            },
            "type": "bar"
           }
          ],
          "barpolar": [
           {
            "marker": {
             "line": {
              "color": "#E5ECF6",
              "width": 0.5
             },
             "pattern": {
              "fillmode": "overlay",
              "size": 10,
              "solidity": 0.2
             }
            },
            "type": "barpolar"
           }
          ],
          "carpet": [
           {
            "aaxis": {
             "endlinecolor": "#2a3f5f",
             "gridcolor": "white",
             "linecolor": "white",
             "minorgridcolor": "white",
             "startlinecolor": "#2a3f5f"
            },
            "baxis": {
             "endlinecolor": "#2a3f5f",
             "gridcolor": "white",
             "linecolor": "white",
             "minorgridcolor": "white",
             "startlinecolor": "#2a3f5f"
            },
            "type": "carpet"
           }
          ],
          "choropleth": [
           {
            "colorbar": {
             "outlinewidth": 0,
             "ticks": ""
            },
            "type": "choropleth"
           }
          ],
          "contour": [
           {
            "colorbar": {
             "outlinewidth": 0,
             "ticks": ""
            },
            "colorscale": [
             [
              0,
              "#0d0887"
             ],
             [
              0.1111111111111111,
              "#46039f"
             ],
             [
              0.2222222222222222,
              "#7201a8"
             ],
             [
              0.3333333333333333,
              "#9c179e"
             ],
             [
              0.4444444444444444,
              "#bd3786"
             ],
             [
              0.5555555555555556,
              "#d8576b"
             ],
             [
              0.6666666666666666,
              "#ed7953"
             ],
             [
              0.7777777777777778,
              "#fb9f3a"
             ],
             [
              0.8888888888888888,
              "#fdca26"
             ],
             [
              1,
              "#f0f921"
             ]
            ],
            "type": "contour"
           }
          ],
          "contourcarpet": [
           {
            "colorbar": {
             "outlinewidth": 0,
             "ticks": ""
            },
            "type": "contourcarpet"
           }
          ],
          "heatmap": [
           {
            "colorbar": {
             "outlinewidth": 0,
             "ticks": ""
            },
            "colorscale": [
             [
              0,
              "#0d0887"
             ],
             [
              0.1111111111111111,
              "#46039f"
             ],
             [
              0.2222222222222222,
              "#7201a8"
             ],
             [
              0.3333333333333333,
              "#9c179e"
             ],
             [
              0.4444444444444444,
              "#bd3786"
             ],
             [
              0.5555555555555556,
              "#d8576b"
             ],
             [
              0.6666666666666666,
              "#ed7953"
             ],
             [
              0.7777777777777778,
              "#fb9f3a"
             ],
             [
              0.8888888888888888,
              "#fdca26"
             ],
             [
              1,
              "#f0f921"
             ]
            ],
            "type": "heatmap"
           }
          ],
          "heatmapgl": [
           {
            "colorbar": {
             "outlinewidth": 0,
             "ticks": ""
            },
            "colorscale": [
             [
              0,
              "#0d0887"
             ],
             [
              0.1111111111111111,
              "#46039f"
             ],
             [
              0.2222222222222222,
              "#7201a8"
             ],
             [
              0.3333333333333333,
              "#9c179e"
             ],
             [
              0.4444444444444444,
              "#bd3786"
             ],
             [
              0.5555555555555556,
              "#d8576b"
             ],
             [
              0.6666666666666666,
              "#ed7953"
             ],
             [
              0.7777777777777778,
              "#fb9f3a"
             ],
             [
              0.8888888888888888,
              "#fdca26"
             ],
             [
              1,
              "#f0f921"
             ]
            ],
            "type": "heatmapgl"
           }
          ],
          "histogram": [
           {
            "marker": {
             "pattern": {
              "fillmode": "overlay",
              "size": 10,
              "solidity": 0.2
             }
            },
            "type": "histogram"
           }
          ],
          "histogram2d": [
           {
            "colorbar": {
             "outlinewidth": 0,
             "ticks": ""
            },
            "colorscale": [
             [
              0,
              "#0d0887"
             ],
             [
              0.1111111111111111,
              "#46039f"
             ],
             [
              0.2222222222222222,
              "#7201a8"
             ],
             [
              0.3333333333333333,
              "#9c179e"
             ],
             [
              0.4444444444444444,
              "#bd3786"
             ],
             [
              0.5555555555555556,
              "#d8576b"
             ],
             [
              0.6666666666666666,
              "#ed7953"
             ],
             [
              0.7777777777777778,
              "#fb9f3a"
             ],
             [
              0.8888888888888888,
              "#fdca26"
             ],
             [
              1,
              "#f0f921"
             ]
            ],
            "type": "histogram2d"
           }
          ],
          "histogram2dcontour": [
           {
            "colorbar": {
             "outlinewidth": 0,
             "ticks": ""
            },
            "colorscale": [
             [
              0,
              "#0d0887"
             ],
             [
              0.1111111111111111,
              "#46039f"
             ],
             [
              0.2222222222222222,
              "#7201a8"
             ],
             [
              0.3333333333333333,
              "#9c179e"
             ],
             [
              0.4444444444444444,
              "#bd3786"
             ],
             [
              0.5555555555555556,
              "#d8576b"
             ],
             [
              0.6666666666666666,
              "#ed7953"
             ],
             [
              0.7777777777777778,
              "#fb9f3a"
             ],
             [
              0.8888888888888888,
              "#fdca26"
             ],
             [
              1,
              "#f0f921"
             ]
            ],
            "type": "histogram2dcontour"
           }
          ],
          "mesh3d": [
           {
            "colorbar": {
             "outlinewidth": 0,
             "ticks": ""
            },
            "type": "mesh3d"
           }
          ],
          "parcoords": [
           {
            "line": {
             "colorbar": {
              "outlinewidth": 0,
              "ticks": ""
             }
            },
            "type": "parcoords"
           }
          ],
          "pie": [
           {
            "automargin": true,
            "type": "pie"
           }
          ],
          "scatter": [
           {
            "fillpattern": {
             "fillmode": "overlay",
             "size": 10,
             "solidity": 0.2
            },
            "type": "scatter"
           }
          ],
          "scatter3d": [
           {
            "line": {
             "colorbar": {
              "outlinewidth": 0,
              "ticks": ""
             }
            },
            "marker": {
             "colorbar": {
              "outlinewidth": 0,
              "ticks": ""
             }
            },
            "type": "scatter3d"
           }
          ],
          "scattercarpet": [
           {
            "marker": {
             "colorbar": {
              "outlinewidth": 0,
              "ticks": ""
             }
            },
            "type": "scattercarpet"
           }
          ],
          "scattergeo": [
           {
            "marker": {
             "colorbar": {
              "outlinewidth": 0,
              "ticks": ""
             }
            },
            "type": "scattergeo"
           }
          ],
          "scattergl": [
           {
            "marker": {
             "colorbar": {
              "outlinewidth": 0,
              "ticks": ""
             }
            },
            "type": "scattergl"
           }
          ],
          "scattermapbox": [
           {
            "marker": {
             "colorbar": {
              "outlinewidth": 0,
              "ticks": ""
             }
            },
            "type": "scattermapbox"
           }
          ],
          "scatterpolar": [
           {
            "marker": {
             "colorbar": {
              "outlinewidth": 0,
              "ticks": ""
             }
            },
            "type": "scatterpolar"
           }
          ],
          "scatterpolargl": [
           {
            "marker": {
             "colorbar": {
              "outlinewidth": 0,
              "ticks": ""
             }
            },
            "type": "scatterpolargl"
           }
          ],
          "scatterternary": [
           {
            "marker": {
             "colorbar": {
              "outlinewidth": 0,
              "ticks": ""
             }
            },
            "type": "scatterternary"
           }
          ],
          "surface": [
           {
            "colorbar": {
             "outlinewidth": 0,
             "ticks": ""
            },
            "colorscale": [
             [
              0,
              "#0d0887"
             ],
             [
              0.1111111111111111,
              "#46039f"
             ],
             [
              0.2222222222222222,
              "#7201a8"
             ],
             [
              0.3333333333333333,
              "#9c179e"
             ],
             [
              0.4444444444444444,
              "#bd3786"
             ],
             [
              0.5555555555555556,
              "#d8576b"
             ],
             [
              0.6666666666666666,
              "#ed7953"
             ],
             [
              0.7777777777777778,
              "#fb9f3a"
             ],
             [
              0.8888888888888888,
              "#fdca26"
             ],
             [
              1,
              "#f0f921"
             ]
            ],
            "type": "surface"
           }
          ],
          "table": [
           {
            "cells": {
             "fill": {
              "color": "#EBF0F8"
             },
             "line": {
              "color": "white"
             }
            },
            "header": {
             "fill": {
              "color": "#C8D4E3"
             },
             "line": {
              "color": "white"
             }
            },
            "type": "table"
           }
          ]
         },
         "layout": {
          "annotationdefaults": {
           "arrowcolor": "#2a3f5f",
           "arrowhead": 0,
           "arrowwidth": 1
          },
          "autotypenumbers": "strict",
          "coloraxis": {
           "colorbar": {
            "outlinewidth": 0,
            "ticks": ""
           }
          },
          "colorscale": {
           "diverging": [
            [
             0,
             "#8e0152"
            ],
            [
             0.1,
             "#c51b7d"
            ],
            [
             0.2,
             "#de77ae"
            ],
            [
             0.3,
             "#f1b6da"
            ],
            [
             0.4,
             "#fde0ef"
            ],
            [
             0.5,
             "#f7f7f7"
            ],
            [
             0.6,
             "#e6f5d0"
            ],
            [
             0.7,
             "#b8e186"
            ],
            [
             0.8,
             "#7fbc41"
            ],
            [
             0.9,
             "#4d9221"
            ],
            [
             1,
             "#276419"
            ]
           ],
           "sequential": [
            [
             0,
             "#0d0887"
            ],
            [
             0.1111111111111111,
             "#46039f"
            ],
            [
             0.2222222222222222,
             "#7201a8"
            ],
            [
             0.3333333333333333,
             "#9c179e"
            ],
            [
             0.4444444444444444,
             "#bd3786"
            ],
            [
             0.5555555555555556,
             "#d8576b"
            ],
            [
             0.6666666666666666,
             "#ed7953"
            ],
            [
             0.7777777777777778,
             "#fb9f3a"
            ],
            [
             0.8888888888888888,
             "#fdca26"
            ],
            [
             1,
             "#f0f921"
            ]
           ],
           "sequentialminus": [
            [
             0,
             "#0d0887"
            ],
            [
             0.1111111111111111,
             "#46039f"
            ],
            [
             0.2222222222222222,
             "#7201a8"
            ],
            [
             0.3333333333333333,
             "#9c179e"
            ],
            [
             0.4444444444444444,
             "#bd3786"
            ],
            [
             0.5555555555555556,
             "#d8576b"
            ],
            [
             0.6666666666666666,
             "#ed7953"
            ],
            [
             0.7777777777777778,
             "#fb9f3a"
            ],
            [
             0.8888888888888888,
             "#fdca26"
            ],
            [
             1,
             "#f0f921"
            ]
           ]
          },
          "colorway": [
           "#636efa",
           "#EF553B",
           "#00cc96",
           "#ab63fa",
           "#FFA15A",
           "#19d3f3",
           "#FF6692",
           "#B6E880",
           "#FF97FF",
           "#FECB52"
          ],
          "font": {
           "color": "#2a3f5f"
          },
          "geo": {
           "bgcolor": "white",
           "lakecolor": "white",
           "landcolor": "#E5ECF6",
           "showlakes": true,
           "showland": true,
           "subunitcolor": "white"
          },
          "hoverlabel": {
           "align": "left"
          },
          "hovermode": "closest",
          "mapbox": {
           "style": "light"
          },
          "paper_bgcolor": "white",
          "plot_bgcolor": "#E5ECF6",
          "polar": {
           "angularaxis": {
            "gridcolor": "white",
            "linecolor": "white",
            "ticks": ""
           },
           "bgcolor": "#E5ECF6",
           "radialaxis": {
            "gridcolor": "white",
            "linecolor": "white",
            "ticks": ""
           }
          },
          "scene": {
           "xaxis": {
            "backgroundcolor": "#E5ECF6",
            "gridcolor": "white",
            "gridwidth": 2,
            "linecolor": "white",
            "showbackground": true,
            "ticks": "",
            "zerolinecolor": "white"
           },
           "yaxis": {
            "backgroundcolor": "#E5ECF6",
            "gridcolor": "white",
            "gridwidth": 2,
            "linecolor": "white",
            "showbackground": true,
            "ticks": "",
            "zerolinecolor": "white"
           },
           "zaxis": {
            "backgroundcolor": "#E5ECF6",
            "gridcolor": "white",
            "gridwidth": 2,
            "linecolor": "white",
            "showbackground": true,
            "ticks": "",
            "zerolinecolor": "white"
           }
          },
          "shapedefaults": {
           "line": {
            "color": "#2a3f5f"
           }
          },
          "ternary": {
           "aaxis": {
            "gridcolor": "white",
            "linecolor": "white",
            "ticks": ""
           },
           "baxis": {
            "gridcolor": "white",
            "linecolor": "white",
            "ticks": ""
           },
           "bgcolor": "#E5ECF6",
           "caxis": {
            "gridcolor": "white",
            "linecolor": "white",
            "ticks": ""
           }
          },
          "title": {
           "x": 0.05
          },
          "xaxis": {
           "automargin": true,
           "gridcolor": "white",
           "linecolor": "white",
           "ticks": "",
           "title": {
            "standoff": 15
           },
           "zerolinecolor": "white",
           "zerolinewidth": 2
          },
          "yaxis": {
           "automargin": true,
           "gridcolor": "white",
           "linecolor": "white",
           "ticks": "",
           "title": {
            "standoff": 15
           },
           "zerolinecolor": "white",
           "zerolinewidth": 2
          }
         }
        }
       }
      }
     },
     "metadata": {},
     "output_type": "display_data"
    }
   ],
   "source": [
    "fig = go.Figure()\n",
    "fig.add_traces(\n",
    "    go.Scatter(\n",
    "        x=list(inertia_dict.keys()),\n",
    "       y=list(inertia_dict.values()),\n",
    "       mode=\"lines+markers\",\n",
    "\n",
    "    )\n",
    ")\n",
    "fig.show()\n"
   ]
  },
  {
   "cell_type": "code",
   "execution_count": 55,
   "metadata": {},
   "outputs": [
    {
     "data": {
      "text/html": [
       "<style>#sk-container-id-3 {\n",
       "  /* Definition of color scheme common for light and dark mode */\n",
       "  --sklearn-color-text: black;\n",
       "  --sklearn-color-line: gray;\n",
       "  /* Definition of color scheme for unfitted estimators */\n",
       "  --sklearn-color-unfitted-level-0: #fff5e6;\n",
       "  --sklearn-color-unfitted-level-1: #f6e4d2;\n",
       "  --sklearn-color-unfitted-level-2: #ffe0b3;\n",
       "  --sklearn-color-unfitted-level-3: chocolate;\n",
       "  /* Definition of color scheme for fitted estimators */\n",
       "  --sklearn-color-fitted-level-0: #f0f8ff;\n",
       "  --sklearn-color-fitted-level-1: #d4ebff;\n",
       "  --sklearn-color-fitted-level-2: #b3dbfd;\n",
       "  --sklearn-color-fitted-level-3: cornflowerblue;\n",
       "\n",
       "  /* Specific color for light theme */\n",
       "  --sklearn-color-text-on-default-background: var(--sg-text-color, var(--theme-code-foreground, var(--jp-content-font-color1, black)));\n",
       "  --sklearn-color-background: var(--sg-background-color, var(--theme-background, var(--jp-layout-color0, white)));\n",
       "  --sklearn-color-border-box: var(--sg-text-color, var(--theme-code-foreground, var(--jp-content-font-color1, black)));\n",
       "  --sklearn-color-icon: #696969;\n",
       "\n",
       "  @media (prefers-color-scheme: dark) {\n",
       "    /* Redefinition of color scheme for dark theme */\n",
       "    --sklearn-color-text-on-default-background: var(--sg-text-color, var(--theme-code-foreground, var(--jp-content-font-color1, white)));\n",
       "    --sklearn-color-background: var(--sg-background-color, var(--theme-background, var(--jp-layout-color0, #111)));\n",
       "    --sklearn-color-border-box: var(--sg-text-color, var(--theme-code-foreground, var(--jp-content-font-color1, white)));\n",
       "    --sklearn-color-icon: #878787;\n",
       "  }\n",
       "}\n",
       "\n",
       "#sk-container-id-3 {\n",
       "  color: var(--sklearn-color-text);\n",
       "}\n",
       "\n",
       "#sk-container-id-3 pre {\n",
       "  padding: 0;\n",
       "}\n",
       "\n",
       "#sk-container-id-3 input.sk-hidden--visually {\n",
       "  border: 0;\n",
       "  clip: rect(1px 1px 1px 1px);\n",
       "  clip: rect(1px, 1px, 1px, 1px);\n",
       "  height: 1px;\n",
       "  margin: -1px;\n",
       "  overflow: hidden;\n",
       "  padding: 0;\n",
       "  position: absolute;\n",
       "  width: 1px;\n",
       "}\n",
       "\n",
       "#sk-container-id-3 div.sk-dashed-wrapped {\n",
       "  border: 1px dashed var(--sklearn-color-line);\n",
       "  margin: 0 0.4em 0.5em 0.4em;\n",
       "  box-sizing: border-box;\n",
       "  padding-bottom: 0.4em;\n",
       "  background-color: var(--sklearn-color-background);\n",
       "}\n",
       "\n",
       "#sk-container-id-3 div.sk-container {\n",
       "  /* jupyter's `normalize.less` sets `[hidden] { display: none; }`\n",
       "     but bootstrap.min.css set `[hidden] { display: none !important; }`\n",
       "     so we also need the `!important` here to be able to override the\n",
       "     default hidden behavior on the sphinx rendered scikit-learn.org.\n",
       "     See: https://github.com/scikit-learn/scikit-learn/issues/21755 */\n",
       "  display: inline-block !important;\n",
       "  position: relative;\n",
       "}\n",
       "\n",
       "#sk-container-id-3 div.sk-text-repr-fallback {\n",
       "  display: none;\n",
       "}\n",
       "\n",
       "div.sk-parallel-item,\n",
       "div.sk-serial,\n",
       "div.sk-item {\n",
       "  /* draw centered vertical line to link estimators */\n",
       "  background-image: linear-gradient(var(--sklearn-color-text-on-default-background), var(--sklearn-color-text-on-default-background));\n",
       "  background-size: 2px 100%;\n",
       "  background-repeat: no-repeat;\n",
       "  background-position: center center;\n",
       "}\n",
       "\n",
       "/* Parallel-specific style estimator block */\n",
       "\n",
       "#sk-container-id-3 div.sk-parallel-item::after {\n",
       "  content: \"\";\n",
       "  width: 100%;\n",
       "  border-bottom: 2px solid var(--sklearn-color-text-on-default-background);\n",
       "  flex-grow: 1;\n",
       "}\n",
       "\n",
       "#sk-container-id-3 div.sk-parallel {\n",
       "  display: flex;\n",
       "  align-items: stretch;\n",
       "  justify-content: center;\n",
       "  background-color: var(--sklearn-color-background);\n",
       "  position: relative;\n",
       "}\n",
       "\n",
       "#sk-container-id-3 div.sk-parallel-item {\n",
       "  display: flex;\n",
       "  flex-direction: column;\n",
       "}\n",
       "\n",
       "#sk-container-id-3 div.sk-parallel-item:first-child::after {\n",
       "  align-self: flex-end;\n",
       "  width: 50%;\n",
       "}\n",
       "\n",
       "#sk-container-id-3 div.sk-parallel-item:last-child::after {\n",
       "  align-self: flex-start;\n",
       "  width: 50%;\n",
       "}\n",
       "\n",
       "#sk-container-id-3 div.sk-parallel-item:only-child::after {\n",
       "  width: 0;\n",
       "}\n",
       "\n",
       "/* Serial-specific style estimator block */\n",
       "\n",
       "#sk-container-id-3 div.sk-serial {\n",
       "  display: flex;\n",
       "  flex-direction: column;\n",
       "  align-items: center;\n",
       "  background-color: var(--sklearn-color-background);\n",
       "  padding-right: 1em;\n",
       "  padding-left: 1em;\n",
       "}\n",
       "\n",
       "\n",
       "/* Toggleable style: style used for estimator/Pipeline/ColumnTransformer box that is\n",
       "clickable and can be expanded/collapsed.\n",
       "- Pipeline and ColumnTransformer use this feature and define the default style\n",
       "- Estimators will overwrite some part of the style using the `sk-estimator` class\n",
       "*/\n",
       "\n",
       "/* Pipeline and ColumnTransformer style (default) */\n",
       "\n",
       "#sk-container-id-3 div.sk-toggleable {\n",
       "  /* Default theme specific background. It is overwritten whether we have a\n",
       "  specific estimator or a Pipeline/ColumnTransformer */\n",
       "  background-color: var(--sklearn-color-background);\n",
       "}\n",
       "\n",
       "/* Toggleable label */\n",
       "#sk-container-id-3 label.sk-toggleable__label {\n",
       "  cursor: pointer;\n",
       "  display: block;\n",
       "  width: 100%;\n",
       "  margin-bottom: 0;\n",
       "  padding: 0.5em;\n",
       "  box-sizing: border-box;\n",
       "  text-align: center;\n",
       "}\n",
       "\n",
       "#sk-container-id-3 label.sk-toggleable__label-arrow:before {\n",
       "  /* Arrow on the left of the label */\n",
       "  content: \"▸\";\n",
       "  float: left;\n",
       "  margin-right: 0.25em;\n",
       "  color: var(--sklearn-color-icon);\n",
       "}\n",
       "\n",
       "#sk-container-id-3 label.sk-toggleable__label-arrow:hover:before {\n",
       "  color: var(--sklearn-color-text);\n",
       "}\n",
       "\n",
       "/* Toggleable content - dropdown */\n",
       "\n",
       "#sk-container-id-3 div.sk-toggleable__content {\n",
       "  max-height: 0;\n",
       "  max-width: 0;\n",
       "  overflow: hidden;\n",
       "  text-align: left;\n",
       "  /* unfitted */\n",
       "  background-color: var(--sklearn-color-unfitted-level-0);\n",
       "}\n",
       "\n",
       "#sk-container-id-3 div.sk-toggleable__content.fitted {\n",
       "  /* fitted */\n",
       "  background-color: var(--sklearn-color-fitted-level-0);\n",
       "}\n",
       "\n",
       "#sk-container-id-3 div.sk-toggleable__content pre {\n",
       "  margin: 0.2em;\n",
       "  border-radius: 0.25em;\n",
       "  color: var(--sklearn-color-text);\n",
       "  /* unfitted */\n",
       "  background-color: var(--sklearn-color-unfitted-level-0);\n",
       "}\n",
       "\n",
       "#sk-container-id-3 div.sk-toggleable__content.fitted pre {\n",
       "  /* unfitted */\n",
       "  background-color: var(--sklearn-color-fitted-level-0);\n",
       "}\n",
       "\n",
       "#sk-container-id-3 input.sk-toggleable__control:checked~div.sk-toggleable__content {\n",
       "  /* Expand drop-down */\n",
       "  max-height: 200px;\n",
       "  max-width: 100%;\n",
       "  overflow: auto;\n",
       "}\n",
       "\n",
       "#sk-container-id-3 input.sk-toggleable__control:checked~label.sk-toggleable__label-arrow:before {\n",
       "  content: \"▾\";\n",
       "}\n",
       "\n",
       "/* Pipeline/ColumnTransformer-specific style */\n",
       "\n",
       "#sk-container-id-3 div.sk-label input.sk-toggleable__control:checked~label.sk-toggleable__label {\n",
       "  color: var(--sklearn-color-text);\n",
       "  background-color: var(--sklearn-color-unfitted-level-2);\n",
       "}\n",
       "\n",
       "#sk-container-id-3 div.sk-label.fitted input.sk-toggleable__control:checked~label.sk-toggleable__label {\n",
       "  background-color: var(--sklearn-color-fitted-level-2);\n",
       "}\n",
       "\n",
       "/* Estimator-specific style */\n",
       "\n",
       "/* Colorize estimator box */\n",
       "#sk-container-id-3 div.sk-estimator input.sk-toggleable__control:checked~label.sk-toggleable__label {\n",
       "  /* unfitted */\n",
       "  background-color: var(--sklearn-color-unfitted-level-2);\n",
       "}\n",
       "\n",
       "#sk-container-id-3 div.sk-estimator.fitted input.sk-toggleable__control:checked~label.sk-toggleable__label {\n",
       "  /* fitted */\n",
       "  background-color: var(--sklearn-color-fitted-level-2);\n",
       "}\n",
       "\n",
       "#sk-container-id-3 div.sk-label label.sk-toggleable__label,\n",
       "#sk-container-id-3 div.sk-label label {\n",
       "  /* The background is the default theme color */\n",
       "  color: var(--sklearn-color-text-on-default-background);\n",
       "}\n",
       "\n",
       "/* On hover, darken the color of the background */\n",
       "#sk-container-id-3 div.sk-label:hover label.sk-toggleable__label {\n",
       "  color: var(--sklearn-color-text);\n",
       "  background-color: var(--sklearn-color-unfitted-level-2);\n",
       "}\n",
       "\n",
       "/* Label box, darken color on hover, fitted */\n",
       "#sk-container-id-3 div.sk-label.fitted:hover label.sk-toggleable__label.fitted {\n",
       "  color: var(--sklearn-color-text);\n",
       "  background-color: var(--sklearn-color-fitted-level-2);\n",
       "}\n",
       "\n",
       "/* Estimator label */\n",
       "\n",
       "#sk-container-id-3 div.sk-label label {\n",
       "  font-family: monospace;\n",
       "  font-weight: bold;\n",
       "  display: inline-block;\n",
       "  line-height: 1.2em;\n",
       "}\n",
       "\n",
       "#sk-container-id-3 div.sk-label-container {\n",
       "  text-align: center;\n",
       "}\n",
       "\n",
       "/* Estimator-specific */\n",
       "#sk-container-id-3 div.sk-estimator {\n",
       "  font-family: monospace;\n",
       "  border: 1px dotted var(--sklearn-color-border-box);\n",
       "  border-radius: 0.25em;\n",
       "  box-sizing: border-box;\n",
       "  margin-bottom: 0.5em;\n",
       "  /* unfitted */\n",
       "  background-color: var(--sklearn-color-unfitted-level-0);\n",
       "}\n",
       "\n",
       "#sk-container-id-3 div.sk-estimator.fitted {\n",
       "  /* fitted */\n",
       "  background-color: var(--sklearn-color-fitted-level-0);\n",
       "}\n",
       "\n",
       "/* on hover */\n",
       "#sk-container-id-3 div.sk-estimator:hover {\n",
       "  /* unfitted */\n",
       "  background-color: var(--sklearn-color-unfitted-level-2);\n",
       "}\n",
       "\n",
       "#sk-container-id-3 div.sk-estimator.fitted:hover {\n",
       "  /* fitted */\n",
       "  background-color: var(--sklearn-color-fitted-level-2);\n",
       "}\n",
       "\n",
       "/* Specification for estimator info (e.g. \"i\" and \"?\") */\n",
       "\n",
       "/* Common style for \"i\" and \"?\" */\n",
       "\n",
       ".sk-estimator-doc-link,\n",
       "a:link.sk-estimator-doc-link,\n",
       "a:visited.sk-estimator-doc-link {\n",
       "  float: right;\n",
       "  font-size: smaller;\n",
       "  line-height: 1em;\n",
       "  font-family: monospace;\n",
       "  background-color: var(--sklearn-color-background);\n",
       "  border-radius: 1em;\n",
       "  height: 1em;\n",
       "  width: 1em;\n",
       "  text-decoration: none !important;\n",
       "  margin-left: 1ex;\n",
       "  /* unfitted */\n",
       "  border: var(--sklearn-color-unfitted-level-1) 1pt solid;\n",
       "  color: var(--sklearn-color-unfitted-level-1);\n",
       "}\n",
       "\n",
       ".sk-estimator-doc-link.fitted,\n",
       "a:link.sk-estimator-doc-link.fitted,\n",
       "a:visited.sk-estimator-doc-link.fitted {\n",
       "  /* fitted */\n",
       "  border: var(--sklearn-color-fitted-level-1) 1pt solid;\n",
       "  color: var(--sklearn-color-fitted-level-1);\n",
       "}\n",
       "\n",
       "/* On hover */\n",
       "div.sk-estimator:hover .sk-estimator-doc-link:hover,\n",
       ".sk-estimator-doc-link:hover,\n",
       "div.sk-label-container:hover .sk-estimator-doc-link:hover,\n",
       ".sk-estimator-doc-link:hover {\n",
       "  /* unfitted */\n",
       "  background-color: var(--sklearn-color-unfitted-level-3);\n",
       "  color: var(--sklearn-color-background);\n",
       "  text-decoration: none;\n",
       "}\n",
       "\n",
       "div.sk-estimator.fitted:hover .sk-estimator-doc-link.fitted:hover,\n",
       ".sk-estimator-doc-link.fitted:hover,\n",
       "div.sk-label-container:hover .sk-estimator-doc-link.fitted:hover,\n",
       ".sk-estimator-doc-link.fitted:hover {\n",
       "  /* fitted */\n",
       "  background-color: var(--sklearn-color-fitted-level-3);\n",
       "  color: var(--sklearn-color-background);\n",
       "  text-decoration: none;\n",
       "}\n",
       "\n",
       "/* Span, style for the box shown on hovering the info icon */\n",
       ".sk-estimator-doc-link span {\n",
       "  display: none;\n",
       "  z-index: 9999;\n",
       "  position: relative;\n",
       "  font-weight: normal;\n",
       "  right: .2ex;\n",
       "  padding: .5ex;\n",
       "  margin: .5ex;\n",
       "  width: min-content;\n",
       "  min-width: 20ex;\n",
       "  max-width: 50ex;\n",
       "  color: var(--sklearn-color-text);\n",
       "  box-shadow: 2pt 2pt 4pt #999;\n",
       "  /* unfitted */\n",
       "  background: var(--sklearn-color-unfitted-level-0);\n",
       "  border: .5pt solid var(--sklearn-color-unfitted-level-3);\n",
       "}\n",
       "\n",
       ".sk-estimator-doc-link.fitted span {\n",
       "  /* fitted */\n",
       "  background: var(--sklearn-color-fitted-level-0);\n",
       "  border: var(--sklearn-color-fitted-level-3);\n",
       "}\n",
       "\n",
       ".sk-estimator-doc-link:hover span {\n",
       "  display: block;\n",
       "}\n",
       "\n",
       "/* \"?\"-specific style due to the `<a>` HTML tag */\n",
       "\n",
       "#sk-container-id-3 a.estimator_doc_link {\n",
       "  float: right;\n",
       "  font-size: 1rem;\n",
       "  line-height: 1em;\n",
       "  font-family: monospace;\n",
       "  background-color: var(--sklearn-color-background);\n",
       "  border-radius: 1rem;\n",
       "  height: 1rem;\n",
       "  width: 1rem;\n",
       "  text-decoration: none;\n",
       "  /* unfitted */\n",
       "  color: var(--sklearn-color-unfitted-level-1);\n",
       "  border: var(--sklearn-color-unfitted-level-1) 1pt solid;\n",
       "}\n",
       "\n",
       "#sk-container-id-3 a.estimator_doc_link.fitted {\n",
       "  /* fitted */\n",
       "  border: var(--sklearn-color-fitted-level-1) 1pt solid;\n",
       "  color: var(--sklearn-color-fitted-level-1);\n",
       "}\n",
       "\n",
       "/* On hover */\n",
       "#sk-container-id-3 a.estimator_doc_link:hover {\n",
       "  /* unfitted */\n",
       "  background-color: var(--sklearn-color-unfitted-level-3);\n",
       "  color: var(--sklearn-color-background);\n",
       "  text-decoration: none;\n",
       "}\n",
       "\n",
       "#sk-container-id-3 a.estimator_doc_link.fitted:hover {\n",
       "  /* fitted */\n",
       "  background-color: var(--sklearn-color-fitted-level-3);\n",
       "}\n",
       "</style><div id=\"sk-container-id-3\" class=\"sk-top-container\"><div class=\"sk-text-repr-fallback\"><pre>KMeans(max_iter=10000, n_clusters=5, n_init=10, random_state=0)</pre><b>In a Jupyter environment, please rerun this cell to show the HTML representation or trust the notebook. <br />On GitHub, the HTML representation is unable to render, please try loading this page with nbviewer.org.</b></div><div class=\"sk-container\" hidden><div class=\"sk-item\"><div class=\"sk-estimator fitted sk-toggleable\"><input class=\"sk-toggleable__control sk-hidden--visually\" id=\"sk-estimator-id-3\" type=\"checkbox\" checked><label for=\"sk-estimator-id-3\" class=\"sk-toggleable__label fitted sk-toggleable__label-arrow fitted\">&nbsp;&nbsp;KMeans<a class=\"sk-estimator-doc-link fitted\" rel=\"noreferrer\" target=\"_blank\" href=\"https://scikit-learn.org/1.5/modules/generated/sklearn.cluster.KMeans.html\">?<span>Documentation for KMeans</span></a><span class=\"sk-estimator-doc-link fitted\">i<span>Fitted</span></span></label><div class=\"sk-toggleable__content fitted\"><pre>KMeans(max_iter=10000, n_clusters=5, n_init=10, random_state=0)</pre></div> </div></div></div></div>"
      ],
      "text/plain": [
       "KMeans(max_iter=10000, n_clusters=5, n_init=10, random_state=0)"
      ]
     },
     "execution_count": 55,
     "metadata": {},
     "output_type": "execute_result"
    }
   ],
   "source": [
    "kmeans = cluster.KMeans(\n",
    "    n_clusters=n_clusters, \n",
    "    random_state=0,\n",
    "    n_init = 10,\n",
    "    max_iter=10000)\n",
    "kmeans.fit(X_redux)"
   ]
  },
  {
   "cell_type": "code",
   "execution_count": 56,
   "metadata": {},
   "outputs": [
    {
     "data": {
      "application/vnd.plotly.v1+json": {
       "config": {
        "plotlyServerURL": "https://plot.ly"
       },
       "data": [
        {
         "marker": {
          "color": [
           1,
           1,
           1,
           4,
           1,
           1,
           1,
           1,
           1,
           1,
           1,
           2,
           2,
           2,
           2,
           2,
           2,
           2,
           4,
           1,
           4,
           4,
           1,
           4,
           1,
           4,
           1,
           4,
           1,
           0,
           0,
           1,
           1,
           4,
           4,
           1,
           4,
           1,
           1,
           1,
           1,
           1,
           4,
           4,
           4,
           1,
           4,
           1,
           4,
           4,
           4,
           4,
           4,
           4,
           1,
           4,
           1,
           4,
           4,
           4,
           1,
           2,
           2,
           1,
           2,
           2,
           2,
           2,
           2,
           2,
           2,
           2,
           2,
           2,
           2,
           2,
           2,
           2,
           2,
           2,
           1,
           1,
           1,
           1,
           1,
           4,
           1,
           1,
           1,
           1,
           1,
           1,
           1,
           4,
           1,
           1,
           1,
           1,
           1,
           1,
           4,
           1,
           1,
           1,
           1,
           1,
           1,
           1,
           1,
           1,
           4,
           4,
           4,
           4,
           0,
           0,
           0,
           0,
           0,
           0,
           0,
           0,
           0,
           4,
           0,
           4,
           1,
           1,
           1,
           1,
           1,
           0,
           0,
           4,
           1,
           3,
           1,
           4,
           0,
           0,
           3,
           3,
           3,
           3,
           3,
           4,
           4,
           4,
           0,
           0,
           0,
           3,
           0,
           0,
           0,
           0,
           0,
           0,
           0,
           3,
           3,
           0,
           4,
           4,
           3,
           3,
           0,
           0,
           0,
           0,
           0,
           0,
           0,
           3,
           3,
           3,
           3,
           3,
           3,
           3,
           3,
           3,
           0,
           0,
           0,
           3,
           3,
           3,
           0,
           0,
           0,
           3,
           3,
           3,
           4,
           4,
           4,
           0,
           4,
           4,
           4,
           4,
           4,
           4,
           4,
           4,
           4,
           4,
           4,
           4,
           0,
           3,
           3,
           0,
           0,
           0,
           0,
           0,
           0,
           0,
           0,
           0,
           0,
           0,
           0,
           0,
           0,
           3,
           3,
           3,
           0,
           0,
           0,
           0,
           3,
           4,
           4,
           4,
           4,
           4,
           4,
           0,
           0,
           0,
           3,
           3,
           3,
           3,
           3,
           3,
           3,
           3,
           3,
           3,
           3,
           3,
           3,
           3,
           3,
           3,
           3,
           3,
           3,
           3,
           3,
           3,
           3,
           3,
           3,
           3,
           3,
           3,
           3,
           3,
           3,
           3,
           3,
           3,
           3,
           3,
           3,
           3,
           3,
           3,
           3,
           3,
           3,
           3,
           3,
           3,
           3,
           3,
           3,
           3,
           3,
           3,
           0,
           0,
           0,
           0,
           0,
           0,
           0,
           0,
           3,
           3,
           3,
           3,
           3,
           3,
           3,
           3,
           3,
           3,
           3,
           0,
           0,
           0,
           0,
           0,
           0,
           0,
           0,
           3,
           3,
           3,
           3,
           3,
           3,
           3,
           3,
           3,
           3,
           3,
           3,
           0,
           3,
           3,
           0,
           0,
           0,
           0,
           0,
           0,
           0,
           0,
           0,
           3,
           3,
           3,
           3,
           3,
           3,
           3,
           3,
           3,
           3,
           3,
           3,
           3,
           3,
           3,
           3,
           3,
           3,
           3,
           3,
           3,
           3,
           3,
           3,
           3,
           3,
           3,
           3,
           3,
           3,
           3,
           3,
           3,
           3,
           3,
           3,
           3,
           3,
           3,
           3,
           3,
           3,
           3,
           3,
           3,
           3,
           3,
           3,
           3,
           3,
           3,
           3,
           0,
           0,
           3,
           0,
           0,
           0,
           3,
           3,
           3,
           3,
           3,
           3,
           3,
           3,
           3,
           3,
           3,
           3,
           3,
           3,
           3,
           3,
           2,
           3,
           2,
           2,
           2,
           2,
           2,
           2,
           2,
           2,
           2,
           2,
           2,
           2,
           2,
           2,
           2,
           2,
           2,
           2,
           2,
           2,
           2,
           2,
           2,
           2,
           2,
           2,
           3,
           3,
           3,
           3,
           3,
           3,
           3,
           4,
           4,
           4,
           4,
           1,
           1,
           4,
           1,
           4,
           4,
           0,
           0,
           0,
           0,
           0,
           0,
           0,
           1,
           3,
           3,
           0,
           0,
           0,
           0,
           0,
           0,
           0,
           3,
           3,
           3,
           3,
           3,
           3,
           3,
           3,
           3,
           3,
           3,
           3,
           1,
           3,
           3,
           3,
           3,
           3,
           3,
           3,
           3,
           3,
           3,
           3,
           3,
           3,
           3,
           3
          ]
         },
         "mode": "markers",
         "type": "scatter",
         "x": [
          -7.130782241831857,
          -17.618994623697745,
          7.619488470931507,
          38.695925515945184,
          -3.330642422585285,
          2.34568898516276,
          4.6711372955928825,
          -14.722973859018982,
          -9.764191551131953,
          -25.531618385391084,
          -20.588014360751124,
          225.22895696175766,
          240.68886862283756,
          209.6211503004684,
          174.7812472621215,
          259.2590792591142,
          257.68425190951376,
          287.96021455600936,
          -66.92358059028766,
          -37.81943160903769,
          -57.43172613737894,
          -9.784634312674617,
          -44.16825132778197,
          14.077349133657975,
          -53.33900903517976,
          -15.915266827905203,
          -62.30637731471743,
          -30.505358258728112,
          -18.545846644917333,
          6.445772092098202,
          -53.75946489542473,
          -22.790400860325157,
          -49.03530837755238,
          5.21314833856985,
          -62.09948335381468,
          -54.74400040619866,
          -57.2703584258157,
          -47.09200285405372,
          -10.234223229665396,
          -35.95820818258605,
          -31.2027563584436,
          -38.82697732701662,
          6.305263264634097,
          -44.95517894583612,
          -53.65571389810951,
          -50.02729125554144,
          -32.41851856396489,
          -21.56092353347616,
          -31.029388831121505,
          6.661972355869504,
          1.9840277590533555,
          -11.576866974284188,
          -40.750203582233176,
          -8.410291122210952,
          -58.03601098673604,
          14.378151728483122,
          -31.803558256882237,
          -8.935314586064711,
          -53.03874341192679,
          -29.60230841941188,
          -43.63663670130337,
          228.46373610537796,
          204.87292078818388,
          -21.76060365707497,
          293.6641221889425,
          268.2164944391773,
          320.5920550507247,
          247.5212118664406,
          262.93261205034185,
          230.84766607337235,
          269.3930175160378,
          311.7075228829024,
          333.4041845975984,
          290.44702082878916,
          192.89839880206353,
          331.0161276338525,
          297.2155838436985,
          245.7338122577457,
          284.6893072565862,
          178.08492712716426,
          -36.987301537093764,
          10.677495512591703,
          -14.484351123095859,
          -19.64210708142894,
          -15.148926455631708,
          -14.731838579009239,
          -39.75862590004209,
          -24.93818117037611,
          -41.75429590346429,
          -9.447165095674341,
          4.420358501129366,
          -25.300429178337566,
          -15.176044780595769,
          24.28942758448529,
          -48.94832888839686,
          -4.30538421904143,
          11.91663434351047,
          7.973721153581294,
          -31.49178311036321,
          -13.009209222414018,
          11.606769478581803,
          -34.972195790524715,
          12.156285833127694,
          -33.28489197450029,
          -24.647843931694844,
          -10.410410331350278,
          -33.75816671652643,
          24.20970690821882,
          -5.3309074225215465,
          -47.15065334583688,
          -55.98355588570742,
          2.9136835124951856,
          21.696429256664175,
          7.437508927673762,
          -13.526617701533569,
          -51.95659324936319,
          21.251206997915858,
          5.054667012807736,
          43.872967766776746,
          55.77211817313555,
          -4.811950198181627,
          -2.882599753568367,
          -10.591704577633298,
          23.489727764582465,
          -12.815568050016402,
          2.845780824497966,
          -9.171403103579443,
          -18.51093498265865,
          -18.458603895767606,
          -8.12338076786349,
          -29.496595196214702,
          37.0179941820868,
          -13.104580859518617,
          63.31123856914886,
          -17.471544875800323,
          -17.33022821941282,
          -9.941965351157764,
          21.184164940649428,
          -7.005838428909037,
          -6.092041729682567,
          -8.314598213996144,
          -37.03797961146708,
          -47.10068656484952,
          -69.15105319462972,
          -65.53796360856238,
          -6.948223520889603,
          -12.425749181053718,
          -7.216774446140713,
          3.0634530757699068,
          9.381409764889133,
          3.624287842718643,
          -25.171177851609684,
          -50.06412921712423,
          -43.17531775468151,
          -50.03921811592962,
          -30.183914242790227,
          -35.39784792886259,
          -29.64273294638418,
          -22.038994738014917,
          -55.1684252247121,
          -42.82280535799696,
          -6.873678138397503,
          18.677465836065778,
          12.065424445471125,
          -73.10494924373545,
          -56.71838186576948,
          0.6375670109860206,
          -18.795154320323267,
          -16.99648540931215,
          -8.919078078880707,
          -14.60231845988092,
          -9.868402133851815,
          -46.145346464799566,
          -40.53415813746964,
          -53.26480488870471,
          -57.9224489584655,
          -78.68279532423459,
          -69.37615946109392,
          -35.501128575908346,
          -43.57908045200126,
          -80.37874258963946,
          -85.15100261379769,
          -42.31653077817888,
          -10.208414216206654,
          -15.68859122067143,
          -85.43816342254415,
          -62.02800844824183,
          -45.38704333024735,
          -0.5670932084972216,
          -14.44009052008773,
          -7.901402852096016,
          -73.89399051443856,
          -15.030496894570687,
          -22.52472579308195,
          -40.18922589534595,
          -25.83616006629914,
          -34.982788058412076,
          -25.390599613665042,
          -14.127268587007782,
          -4.722375507152762,
          -29.333912639706764,
          -33.027248338220964,
          -25.774465165654068,
          -41.28661467965991,
          -25.087497265975056,
          -20.03890789050481,
          -20.763681976928517,
          -43.61131693243806,
          -27.952849026150414,
          -48.427572904931274,
          -55.124124118572176,
          -39.291140326403415,
          -49.965862416175995,
          -47.27457294639578,
          22.939207452435372,
          -55.579052480232434,
          -38.008784484479584,
          -42.979584730107675,
          -32.795104006266214,
          -50.75574318909337,
          -45.499784573389654,
          -43.81768972872714,
          -43.158333897929644,
          -35.082145481732546,
          -48.3039927714226,
          -34.062780322755685,
          -33.03905595130328,
          -69.03078360886036,
          -67.64229190938362,
          -50.75895566190953,
          -43.327546521337254,
          -14.469864653104242,
          2.7159200611944567,
          -15.809866526537874,
          -42.98142045070746,
          -9.148276926626712,
          -19.67217692063475,
          -10.640688158136978,
          -54.359507609050375,
          -34.507651607064304,
          -36.287086661561005,
          -32.425411886876084,
          -27.034020084065467,
          -33.93432409271077,
          -35.485132358296426,
          -92.13018646582627,
          -49.225587068575926,
          -67.06416575210031,
          -90.73239928207704,
          -38.79800782903391,
          -62.69329789082564,
          -72.2591452271675,
          -56.40725658293302,
          -53.2837356089038,
          -64.7499383025639,
          -41.55634777848036,
          -70.89342164489561,
          -37.439324265331024,
          -30.99709636224541,
          -24.123902144066584,
          -58.12591705217023,
          -18.931884017647068,
          -56.301396047002854,
          -19.467218895298306,
          -20.44286144131479,
          -43.13218498626278,
          -55.138316233787926,
          -53.254204845454254,
          -29.01345522013961,
          -30.43375282289901,
          -54.80997351198539,
          -55.77758757212949,
          -29.746409946089404,
          -42.671129887224495,
          -14.560994302483689,
          -79.05088972320968,
          -76.28829077189452,
          -20.969644239504216,
          -38.565602960195775,
          -81.16223401043229,
          -66.79279225026865,
          -33.41520915714119,
          -79.23195431874083,
          -56.30766123257421,
          -47.26561926517868,
          -37.402698973970296,
          -84.3655795755843,
          -54.567504448344835,
          -44.74859761225602,
          -64.17457759008055,
          -50.87168973773705,
          -61.56979511514505,
          -74.00354534563485,
          -62.79735998462902,
          -43.15885741041396,
          -60.07522765162653,
          31.5011316022748,
          36.22147305541085,
          1.8540951620744444,
          -10.564839810548097,
          -51.66943553354362,
          -35.41584744707159,
          -17.559888999630886,
          -17.445976401884582,
          -66.79934099572333,
          -25.451597505983102,
          -77.29819955624714,
          -38.78327082135502,
          -15.447189038598657,
          -0.6148443503546347,
          -55.8442300479988,
          -88.42283886131496,
          -15.362660338257358,
          -44.51230386145784,
          -39.18805483098081,
          -4.718976340243999,
          1.212541817027807,
          -38.25183358699882,
          -68.45860042262113,
          22.316409849908805,
          -48.572789124778495,
          -51.32708969774961,
          14.158010538902536,
          -61.766222697001034,
          -24.374738989752135,
          -24.2853233883982,
          -52.16877264845765,
          -78.08927992967755,
          -68.87274371160652,
          -49.29263067870848,
          -9.633069930559278,
          -13.842830033176666,
          -95.32594947197039,
          -59.86926153813548,
          -40.69792302520834,
          -43.12589624967938,
          -28.866415505833356,
          23.465344197784685,
          -20.25647592262573,
          32.45776559360718,
          20.914343027723667,
          39.62325459395588,
          13.490280340026246,
          -9.963572553859818,
          25.534216847678355,
          -23.365363046355178,
          5.204552376244028,
          -58.860535130450046,
          -12.233152610606838,
          -64.38265020223274,
          -76.4511754654143,
          -82.92668235921428,
          -40.65845073851919,
          -69.18532826301984,
          -50.55840674386127,
          -82.62452552717383,
          -72.64993808968205,
          -27.196690099344412,
          -42.13356884524164,
          -23.604072889487497,
          -62.83439673465959,
          -70.06297658986621,
          -73.70666376294118,
          -55.16183941034972,
          -58.40738931330338,
          -54.62829963623751,
          -71.80473109316624,
          -22.209035569967803,
          -14.622133856187892,
          -16.0668358489421,
          -63.72664463253813,
          -35.3835789375375,
          -10.35885443871012,
          -42.948866923599574,
          -70.08250226016895,
          -39.291727076286975,
          -69.63610958715037,
          -72.07523687862458,
          -15.908248726073975,
          -63.493664260359395,
          -22.48299298670484,
          -80.1996518656801,
          -29.029072676364965,
          -44.748206720048636,
          -80.96771098552045,
          -44.91667237466415,
          -71.04229361545114,
          -67.3370290330507,
          -56.92973680380399,
          -67.23743921470398,
          -69.69477111769726,
          -54.08704342901588,
          -47.00188211111737,
          -82.85295895401237,
          -57.02349404427418,
          -73.41237878372007,
          -80.49370094754966,
          -88.56723411372671,
          -62.01717236046533,
          -21.908872852066057,
          -17.329771214485902,
          -89.87984198714,
          -4.81859620385943,
          -25.297734759495132,
          16.41983573735712,
          -43.50714143625192,
          -67.6466002516316,
          -8.577463613512142,
          -71.33804210051579,
          -3.9029653150424277,
          -20.15074540107748,
          -20.770113608915047,
          -42.796956359982396,
          -11.8875253131947,
          -44.35434394133858,
          -47.75502530217432,
          -39.691197997444625,
          -6.398801753501388,
          -17.19210381266013,
          -9.683516425274457,
          -25.08456387857225,
          245.90342763407304,
          -79.45357726428256,
          272.6958396199139,
          309.21859902729506,
          286.1698262815161,
          208.79768701357585,
          287.7206933492642,
          280.60000038094154,
          239.61913888058746,
          294.65482439892304,
          308.11247923947417,
          257.5228883987027,
          312.2050688192536,
          297.3158053699896,
          279.4637107800534,
          304.9658978742018,
          277.91480789788085,
          313.0436705255937,
          289.0220725890316,
          280.89297987135916,
          267.6418453102272,
          301.8183696571713,
          281.1748294228712,
          262.5449771650212,
          279.77626404331477,
          290.36867399946186,
          307.41127559612164,
          310.86350232959944,
          -2.5004771308501708,
          -20.57346846822681,
          5.479904339244366,
          -4.95113552762695,
          -10.282394750729768,
          -50.442639877020426,
          -32.27723969742191,
          -6.827702280675216,
          -51.02644768697391,
          -18.249543260568178,
          7.064692073182577,
          -28.583607824880836,
          -33.38865465389709,
          -39.749257196010085,
          -20.02043480103042,
          -42.50549941120202,
          -13.35570785599025,
          -60.6685308807399,
          -16.788419878524778,
          -5.086122247359469,
          -27.78693566398853,
          11.61368498563522,
          -34.29589004657265,
          -0.03704452176314681,
          -21.55582761457769,
          -14.857928993638962,
          -41.93280862926339,
          -37.16717900779658,
          3.530950898081257,
          -1.0476422387849034,
          -5.301189914944142,
          55.75349316801683,
          17.393757476472576,
          -9.064385220929012,
          -33.29238214181328,
          -39.223267906311655,
          -65.63789354581952,
          -39.1831509023164,
          -36.728061466689546,
          -31.730257780292387,
          -53.497116287660816,
          -58.14099864422803,
          -65.23271459802302,
          -43.6490070227672,
          -42.87422472845929,
          -33.02640648266038,
          -2.2451290548147362,
          -24.234586538062068,
          -10.561999114567215,
          -24.633139407152207,
          3.310552318175217,
          -11.506857540543333,
          -31.26596031929283,
          -26.42598128478065,
          -12.03990464287735,
          38.06906489064057,
          18.214351918296433,
          -6.6438861453141,
          -23.403882705042932,
          -27.72308278661665,
          -26.503516362113,
          -28.572130030910735
         ],
         "y": [
          117.05783610931029,
          114.4392231927685,
          103.68071826871395,
          77.200680340566,
          119.52133320834001,
          114.65958060850798,
          114.92649877250334,
          117.43805379612316,
          119.8660974772346,
          118.22369366180284,
          121.5474441174358,
          12.65854037175879,
          -0.19362678343493597,
          13.330558844177522,
          24.162185735888116,
          -5.8800078086489975,
          -4.517192048015768,
          -11.115969600350002,
          112.85978036702035,
          127.08600782203119,
          116.16907978495047,
          93.35612751448863,
          125.2514476998814,
          77.54201648511705,
          128.13996238457761,
          93.54195581047885,
          127.7225975192678,
          104.2080980636661,
          119.05427114201608,
          -40.88935898594008,
          -47.0203769045961,
          117.57920579395875,
          121.5215989369701,
          87.4648226598521,
          109.52374548516447,
          128.2284687316015,
          106.77066292656139,
          125.87406319858087,
          115.45883043703947,
          118.52155023326918,
          121.73797255218679,
          130.94590113880201,
          92.79562481581104,
          105.27578273441354,
          109.8107302259872,
          126.75400009906677,
          105.16550574007238,
          110.6885730012354,
          109.17833267554138,
          93.42993388744492,
          89.82415572778586,
          93.23274248774423,
          95.57949703332649,
          94.54992242360417,
          127.66650937587059,
          90.92340601394392,
          118.39700999842692,
          91.36629725122914,
          105.15393121878762,
          105.74569761488736,
          122.60287116814985,
          5.194050982245949,
          4.13116657344679,
          115.52320937861508,
          -11.630075990638387,
          0.7866790135462602,
          -20.250294482171345,
          2.695091764526858,
          -2.5419669432469068,
          13.781739275397369,
          2.9022235549203947,
          -19.28125667225801,
          -28.82381108345362,
          -9.694931087582743,
          31.123557719172236,
          -17.614836091359173,
          -13.86394716719752,
          9.16710360702243,
          -5.87956706661592,
          34.89616555113356,
          120.76745434564519,
          113.24246351324953,
          118.384323825317,
          125.75464558764752,
          117.90688577416542,
          110.78729660447115,
          120.92762541869328,
          119.24295942839213,
          132.81781630675698,
          117.05482945620237,
          110.27864198329658,
          120.82523225462477,
          121.16826875408194,
          91.60653405094,
          133.11593299322243,
          110.5140126746803,
          112.37622527033507,
          114.0164964081641,
          124.68690948068588,
          125.12221934404572,
          93.32888503619077,
          126.44822271734373,
          116.98249996652878,
          126.9111122207155,
          120.99463135988849,
          117.98288189323077,
          127.37199504179505,
          108.89926180404504,
          120.00899339889197,
          128.59072416972128,
          100.38459818815952,
          86.30496395824997,
          74.40242058050393,
          82.86670891482646,
          -62.197849137521914,
          -40.92869957542891,
          -70.0853051056162,
          -63.934594274826516,
          -77.73317414137692,
          -77.07248736345062,
          -43.18089281853712,
          -56.94642825278216,
          -43.154671660269294,
          79.70249431759892,
          -48.51285970336411,
          89.43918122579517,
          119.1146528131903,
          127.20176150153443,
          127.14483778906687,
          118.99932195215563,
          123.49160409733766,
          -69.44093681868654,
          -38.85033629672639,
          61.95698498473078,
          117.90977618295042,
          -39.889051959108805,
          104.25100542368902,
          77.16754243862346,
          -66.17493477394635,
          -71.42208346949326,
          -47.35858806728336,
          -44.711926550532986,
          -33.29578436668097,
          -37.99028180759814,
          -30.27637301710756,
          84.71473749725364,
          82.7705012287852,
          92.98859604796695,
          -68.52943514364365,
          -71.4564296315397,
          -79.14731589764585,
          -39.107308670049285,
          -54.13273401954603,
          -49.3816317223266,
          -53.17053782284658,
          -67.17549209416926,
          -64.6541654716504,
          -65.30150981966752,
          -56.560127655779795,
          -38.02156770252851,
          -49.94715493735322,
          -71.38736910175899,
          76.42603352171092,
          80.96059618682372,
          -37.67234894779456,
          -33.77538591842266,
          -76.88453571680185,
          -70.84957212112137,
          -74.74630483740705,
          -75.18344660028055,
          -65.19147404902574,
          -65.7102177964115,
          -54.24629694439305,
          -46.376072851034195,
          -40.26000770097339,
          -28.526731303671994,
          -22.417254623759145,
          -29.94706750997102,
          -47.751534803369324,
          -43.975926224724105,
          -34.26522278704583,
          -43.60584572465321,
          -50.009070258915536,
          -74.08706168439988,
          -73.44875089639011,
          -33.170258797582534,
          -32.87453171020107,
          -43.19750230898949,
          -60.33400532087273,
          -69.86621895799192,
          -76.70213269258272,
          -35.761395587768234,
          -43.3906237053437,
          -38.37681039940328,
          96.65640839786697,
          92.46929325732933,
          99.51158906851941,
          -58.26571664316076,
          102.92540958855581,
          88.88942596188687,
          101.33649904435252,
          102.63366037819291,
          101.07680202264874,
          90.78325577918658,
          96.54866249654974,
          92.81191143640511,
          100.83611548919548,
          104.6659960824646,
          99.60036726866447,
          87.93775154926588,
          -41.954066545165965,
          -35.980447901231265,
          -37.64370390782379,
          -47.84207027261579,
          -73.04587655463656,
          -52.61907754662819,
          -53.63450328218336,
          -66.1896688415272,
          -62.20615675381211,
          -54.78080493711589,
          -46.54522473031182,
          -50.413336063610714,
          -48.546706582682056,
          -57.1631329145895,
          -45.31757475434097,
          -53.72654074789925,
          -60.44915211861493,
          -34.291731814987216,
          -33.21279394543866,
          -51.72050941016336,
          -62.760623170656196,
          -64.482888816211,
          -71.1767330126893,
          -69.28802686834486,
          -31.412791801556715,
          78.81721001572723,
          101.10843771792042,
          85.38156401167446,
          104.35666170168163,
          109.71919416816435,
          97.77255917045801,
          -43.3852186498023,
          -66.40029151428227,
          -58.43990449485531,
          -44.3332691121153,
          -28.53201760645037,
          -36.72164752890805,
          -46.445247924506475,
          -7.3687584310794945,
          -27.913460174152746,
          -25.346338863667036,
          -26.932545457568345,
          -30.57103786373056,
          -24.521484233735073,
          -37.862392536442535,
          -29.468426853527077,
          -37.95135199332539,
          -41.58669019267985,
          -44.27758570828163,
          -41.869141164508385,
          -30.643262088664706,
          -44.57142367019651,
          -33.88469822210649,
          -43.5135994214926,
          -50.47463273523905,
          -45.08108895277638,
          -51.76725116853028,
          -45.68455277983195,
          -45.07266276315039,
          -42.741699848181824,
          -33.812200604265165,
          -33.663787709392466,
          -48.50109455504936,
          -43.52286727897131,
          -47.495626974927475,
          -29.543790675881983,
          -42.1533177977821,
          -50.72420540749683,
          -33.6049745657992,
          -27.385686185957933,
          -36.85071004643977,
          -40.96456266526382,
          -34.9360650102239,
          -47.46221165442197,
          -50.69686119275532,
          -37.22426128933185,
          -41.01942384853754,
          -42.302218502589724,
          -38.125557280938494,
          -34.21757424036224,
          -37.83771239996764,
          -29.57363127602499,
          -34.23095673823705,
          -36.2016721148574,
          -40.00177789865186,
          -37.443092379226584,
          -80.85985512309497,
          -62.01188820725785,
          -46.0297422688381,
          -64.52162257472632,
          -56.42895623943975,
          -56.20873246928923,
          -57.85320778791674,
          -69.51826527095625,
          -38.34345872046969,
          -58.12244037266909,
          -38.84310687147591,
          -48.30134390158419,
          -51.215783248591414,
          -48.780822559057725,
          -38.836461109246855,
          -28.580913040884834,
          -55.541303038565395,
          -47.85354158858712,
          -45.90868578565116,
          -57.22979263517789,
          -69.38325588093556,
          -53.4810027131778,
          -50.05483798734947,
          -63.714814550442505,
          -44.31021808917708,
          -50.30890436509584,
          -78.61521559246918,
          -27.489713003433295,
          -50.654071027115855,
          -42.31975957274883,
          -39.51846018876358,
          -20.11233069184619,
          -24.500233372096147,
          -53.0687953482185,
          -53.664303446196904,
          -40.095526627778646,
          -19.19680121177749,
          -27.384409353604028,
          -32.00177585357617,
          -40.85780154736332,
          -36.03654254043219,
          -41.22397427353174,
          -66.3632580411108,
          -79.11097959330169,
          -85.0700207599939,
          -82.02799553890604,
          -70.31149210159641,
          -55.479756483993405,
          -73.90303989293068,
          -45.37196597925725,
          -71.75911970998378,
          -51.11550267373922,
          -52.420019125220314,
          -36.7008902620054,
          -27.102393872555332,
          -26.315224227189734,
          -45.070501541477626,
          -22.99834673542832,
          -37.6338732425479,
          -30.24180341687929,
          -31.12907389508662,
          -40.823054952365126,
          -27.367413938146292,
          -38.76100747831975,
          -26.688246330415275,
          -27.7413882887113,
          -27.071376695165082,
          -34.069285228492674,
          -40.959963791171546,
          -36.02512490807322,
          -39.593609552305146,
          -29.914346481077118,
          -36.97249184978862,
          -34.81322944480168,
          -19.171152920021058,
          -31.31492952511386,
          -40.8613306280544,
          -28.734891955578096,
          -21.348913544310875,
          -29.190603502809747,
          -21.887276408040105,
          -21.720269158348785,
          -35.404848634456165,
          -39.69468255840101,
          -32.87536853272474,
          -22.796500759437222,
          -48.492002577277134,
          -52.77055480289772,
          -20.534320890778595,
          -25.11419900973696,
          -17.314830170958846,
          -14.126983736593901,
          -31.68007722349853,
          -13.941985029846167,
          -35.14428457682072,
          -23.665486769161213,
          -30.051660948790854,
          -19.108187680627584,
          -30.119242962882506,
          -20.18136969879075,
          -27.808548471861986,
          -16.15042994047975,
          -22.46740465576239,
          -27.884327555926856,
          -55.37000909949908,
          -18.34654803258013,
          -58.25032615511721,
          -56.442128729890946,
          -76.54411892043292,
          -24.323884743159663,
          -29.82365735152679,
          -34.729812071601806,
          -30.60855052161974,
          -34.84207794316953,
          -55.5325939153103,
          -46.735164599672046,
          -36.02718371719312,
          -37.472142881192696,
          -42.34055500090727,
          -36.89296156625172,
          -33.65660686182535,
          -32.39662990235341,
          -58.83830029396597,
          -44.73152740827273,
          -55.536460569856445,
          -13.520919781544706,
          -14.481831772344645,
          -5.18601606632821,
          -14.985942407629436,
          -7.244735837370963,
          23.14533851925021,
          -12.015725080243973,
          -10.251199218590918,
          7.335739925048919,
          -12.001762447734395,
          -14.700938833112467,
          -2.69030716078256,
          -20.027526605196194,
          -18.11128683363831,
          -4.602444578257566,
          -15.046124737597044,
          -6.950150818420959,
          -23.57264676023473,
          -6.19703628379827,
          -9.792327569355441,
          -3.0384921146546753,
          -12.253458995447854,
          -3.5733942286478992,
          -2.9041032561528795,
          -6.920238685916535,
          -10.685818036063292,
          -18.87122210124512,
          -22.36013069996658,
          -48.036284836555794,
          -35.587172553098874,
          -24.33095804834694,
          -38.52222181971507,
          -43.863162087565875,
          -29.82331032837083,
          -33.558330319109444,
          88.63506390832443,
          110.41845074014297,
          95.89139853786746,
          90.58518271962424,
          115.46838509064975,
          126.20987451664143,
          108.27325329920677,
          120.52583141228311,
          98.41974406943828,
          84.31322957875442,
          -40.837757178106116,
          -51.97555879460871,
          -48.740095162013205,
          -43.294817139589526,
          -73.41533390506144,
          -59.59941889103798,
          -58.68976577506524,
          117.9016847265453,
          -47.61532709798374,
          -43.05225782773914,
          -29.63943462947817,
          -48.550437892246734,
          -59.765898384009944,
          -49.68744840933769,
          -83.61091185850248,
          -72.54284438236895,
          -49.20316575748524,
          -37.58073688348681,
          -30.782463455980047,
          -44.72500215121248,
          -39.181496559501454,
          -50.39855109440802,
          -38.83477907614044,
          -26.980459109615023,
          -28.31115769287709,
          -39.12141042248689,
          -33.381328585756904,
          -41.759772274909366,
          -35.691589870281895,
          118.03274943859864,
          -45.084134374515074,
          -44.54832075085729,
          -44.01983979760382,
          -48.21422638968351,
          -39.74008975122682,
          -40.003865134252536,
          -32.543550426324536,
          -38.633549637514065,
          -57.53523782399117,
          -52.25032832121372,
          -37.20404985500152,
          -33.0723474315381,
          -34.91480983071515,
          -37.144834159682375,
          -43.97087854969623
         ]
        }
       ],
       "layout": {
        "template": {
         "data": {
          "bar": [
           {
            "error_x": {
             "color": "#2a3f5f"
            },
            "error_y": {
             "color": "#2a3f5f"
            },
            "marker": {
             "line": {
              "color": "#E5ECF6",
              "width": 0.5
             },
             "pattern": {
              "fillmode": "overlay",
              "size": 10,
              "solidity": 0.2
             }
            },
            "type": "bar"
           }
          ],
          "barpolar": [
           {
            "marker": {
             "line": {
              "color": "#E5ECF6",
              "width": 0.5
             },
             "pattern": {
              "fillmode": "overlay",
              "size": 10,
              "solidity": 0.2
             }
            },
            "type": "barpolar"
           }
          ],
          "carpet": [
           {
            "aaxis": {
             "endlinecolor": "#2a3f5f",
             "gridcolor": "white",
             "linecolor": "white",
             "minorgridcolor": "white",
             "startlinecolor": "#2a3f5f"
            },
            "baxis": {
             "endlinecolor": "#2a3f5f",
             "gridcolor": "white",
             "linecolor": "white",
             "minorgridcolor": "white",
             "startlinecolor": "#2a3f5f"
            },
            "type": "carpet"
           }
          ],
          "choropleth": [
           {
            "colorbar": {
             "outlinewidth": 0,
             "ticks": ""
            },
            "type": "choropleth"
           }
          ],
          "contour": [
           {
            "colorbar": {
             "outlinewidth": 0,
             "ticks": ""
            },
            "colorscale": [
             [
              0,
              "#0d0887"
             ],
             [
              0.1111111111111111,
              "#46039f"
             ],
             [
              0.2222222222222222,
              "#7201a8"
             ],
             [
              0.3333333333333333,
              "#9c179e"
             ],
             [
              0.4444444444444444,
              "#bd3786"
             ],
             [
              0.5555555555555556,
              "#d8576b"
             ],
             [
              0.6666666666666666,
              "#ed7953"
             ],
             [
              0.7777777777777778,
              "#fb9f3a"
             ],
             [
              0.8888888888888888,
              "#fdca26"
             ],
             [
              1,
              "#f0f921"
             ]
            ],
            "type": "contour"
           }
          ],
          "contourcarpet": [
           {
            "colorbar": {
             "outlinewidth": 0,
             "ticks": ""
            },
            "type": "contourcarpet"
           }
          ],
          "heatmap": [
           {
            "colorbar": {
             "outlinewidth": 0,
             "ticks": ""
            },
            "colorscale": [
             [
              0,
              "#0d0887"
             ],
             [
              0.1111111111111111,
              "#46039f"
             ],
             [
              0.2222222222222222,
              "#7201a8"
             ],
             [
              0.3333333333333333,
              "#9c179e"
             ],
             [
              0.4444444444444444,
              "#bd3786"
             ],
             [
              0.5555555555555556,
              "#d8576b"
             ],
             [
              0.6666666666666666,
              "#ed7953"
             ],
             [
              0.7777777777777778,
              "#fb9f3a"
             ],
             [
              0.8888888888888888,
              "#fdca26"
             ],
             [
              1,
              "#f0f921"
             ]
            ],
            "type": "heatmap"
           }
          ],
          "heatmapgl": [
           {
            "colorbar": {
             "outlinewidth": 0,
             "ticks": ""
            },
            "colorscale": [
             [
              0,
              "#0d0887"
             ],
             [
              0.1111111111111111,
              "#46039f"
             ],
             [
              0.2222222222222222,
              "#7201a8"
             ],
             [
              0.3333333333333333,
              "#9c179e"
             ],
             [
              0.4444444444444444,
              "#bd3786"
             ],
             [
              0.5555555555555556,
              "#d8576b"
             ],
             [
              0.6666666666666666,
              "#ed7953"
             ],
             [
              0.7777777777777778,
              "#fb9f3a"
             ],
             [
              0.8888888888888888,
              "#fdca26"
             ],
             [
              1,
              "#f0f921"
             ]
            ],
            "type": "heatmapgl"
           }
          ],
          "histogram": [
           {
            "marker": {
             "pattern": {
              "fillmode": "overlay",
              "size": 10,
              "solidity": 0.2
             }
            },
            "type": "histogram"
           }
          ],
          "histogram2d": [
           {
            "colorbar": {
             "outlinewidth": 0,
             "ticks": ""
            },
            "colorscale": [
             [
              0,
              "#0d0887"
             ],
             [
              0.1111111111111111,
              "#46039f"
             ],
             [
              0.2222222222222222,
              "#7201a8"
             ],
             [
              0.3333333333333333,
              "#9c179e"
             ],
             [
              0.4444444444444444,
              "#bd3786"
             ],
             [
              0.5555555555555556,
              "#d8576b"
             ],
             [
              0.6666666666666666,
              "#ed7953"
             ],
             [
              0.7777777777777778,
              "#fb9f3a"
             ],
             [
              0.8888888888888888,
              "#fdca26"
             ],
             [
              1,
              "#f0f921"
             ]
            ],
            "type": "histogram2d"
           }
          ],
          "histogram2dcontour": [
           {
            "colorbar": {
             "outlinewidth": 0,
             "ticks": ""
            },
            "colorscale": [
             [
              0,
              "#0d0887"
             ],
             [
              0.1111111111111111,
              "#46039f"
             ],
             [
              0.2222222222222222,
              "#7201a8"
             ],
             [
              0.3333333333333333,
              "#9c179e"
             ],
             [
              0.4444444444444444,
              "#bd3786"
             ],
             [
              0.5555555555555556,
              "#d8576b"
             ],
             [
              0.6666666666666666,
              "#ed7953"
             ],
             [
              0.7777777777777778,
              "#fb9f3a"
             ],
             [
              0.8888888888888888,
              "#fdca26"
             ],
             [
              1,
              "#f0f921"
             ]
            ],
            "type": "histogram2dcontour"
           }
          ],
          "mesh3d": [
           {
            "colorbar": {
             "outlinewidth": 0,
             "ticks": ""
            },
            "type": "mesh3d"
           }
          ],
          "parcoords": [
           {
            "line": {
             "colorbar": {
              "outlinewidth": 0,
              "ticks": ""
             }
            },
            "type": "parcoords"
           }
          ],
          "pie": [
           {
            "automargin": true,
            "type": "pie"
           }
          ],
          "scatter": [
           {
            "fillpattern": {
             "fillmode": "overlay",
             "size": 10,
             "solidity": 0.2
            },
            "type": "scatter"
           }
          ],
          "scatter3d": [
           {
            "line": {
             "colorbar": {
              "outlinewidth": 0,
              "ticks": ""
             }
            },
            "marker": {
             "colorbar": {
              "outlinewidth": 0,
              "ticks": ""
             }
            },
            "type": "scatter3d"
           }
          ],
          "scattercarpet": [
           {
            "marker": {
             "colorbar": {
              "outlinewidth": 0,
              "ticks": ""
             }
            },
            "type": "scattercarpet"
           }
          ],
          "scattergeo": [
           {
            "marker": {
             "colorbar": {
              "outlinewidth": 0,
              "ticks": ""
             }
            },
            "type": "scattergeo"
           }
          ],
          "scattergl": [
           {
            "marker": {
             "colorbar": {
              "outlinewidth": 0,
              "ticks": ""
             }
            },
            "type": "scattergl"
           }
          ],
          "scattermapbox": [
           {
            "marker": {
             "colorbar": {
              "outlinewidth": 0,
              "ticks": ""
             }
            },
            "type": "scattermapbox"
           }
          ],
          "scatterpolar": [
           {
            "marker": {
             "colorbar": {
              "outlinewidth": 0,
              "ticks": ""
             }
            },
            "type": "scatterpolar"
           }
          ],
          "scatterpolargl": [
           {
            "marker": {
             "colorbar": {
              "outlinewidth": 0,
              "ticks": ""
             }
            },
            "type": "scatterpolargl"
           }
          ],
          "scatterternary": [
           {
            "marker": {
             "colorbar": {
              "outlinewidth": 0,
              "ticks": ""
             }
            },
            "type": "scatterternary"
           }
          ],
          "surface": [
           {
            "colorbar": {
             "outlinewidth": 0,
             "ticks": ""
            },
            "colorscale": [
             [
              0,
              "#0d0887"
             ],
             [
              0.1111111111111111,
              "#46039f"
             ],
             [
              0.2222222222222222,
              "#7201a8"
             ],
             [
              0.3333333333333333,
              "#9c179e"
             ],
             [
              0.4444444444444444,
              "#bd3786"
             ],
             [
              0.5555555555555556,
              "#d8576b"
             ],
             [
              0.6666666666666666,
              "#ed7953"
             ],
             [
              0.7777777777777778,
              "#fb9f3a"
             ],
             [
              0.8888888888888888,
              "#fdca26"
             ],
             [
              1,
              "#f0f921"
             ]
            ],
            "type": "surface"
           }
          ],
          "table": [
           {
            "cells": {
             "fill": {
              "color": "#EBF0F8"
             },
             "line": {
              "color": "white"
             }
            },
            "header": {
             "fill": {
              "color": "#C8D4E3"
             },
             "line": {
              "color": "white"
             }
            },
            "type": "table"
           }
          ]
         },
         "layout": {
          "annotationdefaults": {
           "arrowcolor": "#2a3f5f",
           "arrowhead": 0,
           "arrowwidth": 1
          },
          "autotypenumbers": "strict",
          "coloraxis": {
           "colorbar": {
            "outlinewidth": 0,
            "ticks": ""
           }
          },
          "colorscale": {
           "diverging": [
            [
             0,
             "#8e0152"
            ],
            [
             0.1,
             "#c51b7d"
            ],
            [
             0.2,
             "#de77ae"
            ],
            [
             0.3,
             "#f1b6da"
            ],
            [
             0.4,
             "#fde0ef"
            ],
            [
             0.5,
             "#f7f7f7"
            ],
            [
             0.6,
             "#e6f5d0"
            ],
            [
             0.7,
             "#b8e186"
            ],
            [
             0.8,
             "#7fbc41"
            ],
            [
             0.9,
             "#4d9221"
            ],
            [
             1,
             "#276419"
            ]
           ],
           "sequential": [
            [
             0,
             "#0d0887"
            ],
            [
             0.1111111111111111,
             "#46039f"
            ],
            [
             0.2222222222222222,
             "#7201a8"
            ],
            [
             0.3333333333333333,
             "#9c179e"
            ],
            [
             0.4444444444444444,
             "#bd3786"
            ],
            [
             0.5555555555555556,
             "#d8576b"
            ],
            [
             0.6666666666666666,
             "#ed7953"
            ],
            [
             0.7777777777777778,
             "#fb9f3a"
            ],
            [
             0.8888888888888888,
             "#fdca26"
            ],
            [
             1,
             "#f0f921"
            ]
           ],
           "sequentialminus": [
            [
             0,
             "#0d0887"
            ],
            [
             0.1111111111111111,
             "#46039f"
            ],
            [
             0.2222222222222222,
             "#7201a8"
            ],
            [
             0.3333333333333333,
             "#9c179e"
            ],
            [
             0.4444444444444444,
             "#bd3786"
            ],
            [
             0.5555555555555556,
             "#d8576b"
            ],
            [
             0.6666666666666666,
             "#ed7953"
            ],
            [
             0.7777777777777778,
             "#fb9f3a"
            ],
            [
             0.8888888888888888,
             "#fdca26"
            ],
            [
             1,
             "#f0f921"
            ]
           ]
          },
          "colorway": [
           "#636efa",
           "#EF553B",
           "#00cc96",
           "#ab63fa",
           "#FFA15A",
           "#19d3f3",
           "#FF6692",
           "#B6E880",
           "#FF97FF",
           "#FECB52"
          ],
          "font": {
           "color": "#2a3f5f"
          },
          "geo": {
           "bgcolor": "white",
           "lakecolor": "white",
           "landcolor": "#E5ECF6",
           "showlakes": true,
           "showland": true,
           "subunitcolor": "white"
          },
          "hoverlabel": {
           "align": "left"
          },
          "hovermode": "closest",
          "mapbox": {
           "style": "light"
          },
          "paper_bgcolor": "white",
          "plot_bgcolor": "#E5ECF6",
          "polar": {
           "angularaxis": {
            "gridcolor": "white",
            "linecolor": "white",
            "ticks": ""
           },
           "bgcolor": "#E5ECF6",
           "radialaxis": {
            "gridcolor": "white",
            "linecolor": "white",
            "ticks": ""
           }
          },
          "scene": {
           "xaxis": {
            "backgroundcolor": "#E5ECF6",
            "gridcolor": "white",
            "gridwidth": 2,
            "linecolor": "white",
            "showbackground": true,
            "ticks": "",
            "zerolinecolor": "white"
           },
           "yaxis": {
            "backgroundcolor": "#E5ECF6",
            "gridcolor": "white",
            "gridwidth": 2,
            "linecolor": "white",
            "showbackground": true,
            "ticks": "",
            "zerolinecolor": "white"
           },
           "zaxis": {
            "backgroundcolor": "#E5ECF6",
            "gridcolor": "white",
            "gridwidth": 2,
            "linecolor": "white",
            "showbackground": true,
            "ticks": "",
            "zerolinecolor": "white"
           }
          },
          "shapedefaults": {
           "line": {
            "color": "#2a3f5f"
           }
          },
          "ternary": {
           "aaxis": {
            "gridcolor": "white",
            "linecolor": "white",
            "ticks": ""
           },
           "baxis": {
            "gridcolor": "white",
            "linecolor": "white",
            "ticks": ""
           },
           "bgcolor": "#E5ECF6",
           "caxis": {
            "gridcolor": "white",
            "linecolor": "white",
            "ticks": ""
           }
          },
          "title": {
           "x": 0.05
          },
          "xaxis": {
           "automargin": true,
           "gridcolor": "white",
           "linecolor": "white",
           "ticks": "",
           "title": {
            "standoff": 15
           },
           "zerolinecolor": "white",
           "zerolinewidth": 2
          },
          "yaxis": {
           "automargin": true,
           "gridcolor": "white",
           "linecolor": "white",
           "ticks": "",
           "title": {
            "standoff": 15
           },
           "zerolinecolor": "white",
           "zerolinewidth": 2
          }
         }
        }
       }
      }
     },
     "metadata": {},
     "output_type": "display_data"
    }
   ],
   "source": [
    "fig = go.Figure()\n",
    "fig.add_traces(\n",
    "    go.Scatter(\n",
    "        x=X_redux[:,0],\n",
    "       y=X_redux[:,1],\n",
    "       mode=\"markers\",\n",
    "       marker = {\n",
    "           \"color\":kmeans.labels_\n",
    "       }\n",
    "    )\n",
    ")\n",
    "fig.show()\n"
   ]
  },
  {
   "cell_type": "code",
   "execution_count": 62,
   "metadata": {},
   "outputs": [],
   "source": [
    "kmeans_frame = (\n",
    "    pd.DataFrame(\n",
    "        X\n",
    "    )\n",
    "    .assign(\n",
    "        cluster = kmeans.labels_\n",
    "    )\n",
    "    .groupby(by=[\"cluster\"])\n",
    "    .mean()\n",
    "    .reset_index()\n",
    ")\n",
    "kmeans_frame.columns = kmeans_frame.columns.astype(str)"
   ]
  },
  {
   "cell_type": "code",
   "execution_count": 73,
   "metadata": {},
   "outputs": [
    {
     "data": {
      "text/html": [
       "<div>\n",
       "<style scoped>\n",
       "    .dataframe tbody tr th:only-of-type {\n",
       "        vertical-align: middle;\n",
       "    }\n",
       "\n",
       "    .dataframe tbody tr th {\n",
       "        vertical-align: top;\n",
       "    }\n",
       "\n",
       "    .dataframe thead th {\n",
       "        text-align: right;\n",
       "    }\n",
       "</style>\n",
       "<table border=\"1\" class=\"dataframe\">\n",
       "  <thead>\n",
       "    <tr style=\"text-align: right;\">\n",
       "      <th></th>\n",
       "      <th>cluster</th>\n",
       "      <th>0</th>\n",
       "      <th>1</th>\n",
       "      <th>2</th>\n",
       "      <th>3</th>\n",
       "      <th>4</th>\n",
       "      <th>5</th>\n",
       "      <th>6</th>\n",
       "      <th>7</th>\n",
       "      <th>8</th>\n",
       "      <th>...</th>\n",
       "      <th>45758</th>\n",
       "      <th>45759</th>\n",
       "      <th>45760</th>\n",
       "      <th>45761</th>\n",
       "      <th>45762</th>\n",
       "      <th>45763</th>\n",
       "      <th>45764</th>\n",
       "      <th>45765</th>\n",
       "      <th>45766</th>\n",
       "      <th>45767</th>\n",
       "    </tr>\n",
       "  </thead>\n",
       "  <tbody>\n",
       "    <tr>\n",
       "      <th>3</th>\n",
       "      <td>3</td>\n",
       "      <td>0.019438</td>\n",
       "      <td>0.0</td>\n",
       "      <td>94.812166</td>\n",
       "      <td>80.772638</td>\n",
       "      <td>0.191462</td>\n",
       "      <td>5.166394</td>\n",
       "      <td>5.366168</td>\n",
       "      <td>0.0</td>\n",
       "      <td>85.617858</td>\n",
       "      <td>...</td>\n",
       "      <td>0.0</td>\n",
       "      <td>0.000000</td>\n",
       "      <td>0.0</td>\n",
       "      <td>0.0</td>\n",
       "      <td>0.0</td>\n",
       "      <td>0.0</td>\n",
       "      <td>0.0</td>\n",
       "      <td>0.0</td>\n",
       "      <td>0.0</td>\n",
       "      <td>0.0</td>\n",
       "    </tr>\n",
       "    <tr>\n",
       "      <th>2</th>\n",
       "      <td>2</td>\n",
       "      <td>0.000000</td>\n",
       "      <td>0.0</td>\n",
       "      <td>113.061600</td>\n",
       "      <td>190.917347</td>\n",
       "      <td>0.000000</td>\n",
       "      <td>16.199633</td>\n",
       "      <td>17.318562</td>\n",
       "      <td>0.0</td>\n",
       "      <td>101.819874</td>\n",
       "      <td>...</td>\n",
       "      <td>0.0</td>\n",
       "      <td>0.049426</td>\n",
       "      <td>0.0</td>\n",
       "      <td>0.0</td>\n",
       "      <td>0.0</td>\n",
       "      <td>0.0</td>\n",
       "      <td>0.0</td>\n",
       "      <td>0.0</td>\n",
       "      <td>0.0</td>\n",
       "      <td>0.0</td>\n",
       "    </tr>\n",
       "  </tbody>\n",
       "</table>\n",
       "<p>2 rows × 45769 columns</p>\n",
       "</div>"
      ],
      "text/plain": [
       "   cluster         0    1           2           3         4          5  \\\n",
       "3        3  0.019438  0.0   94.812166   80.772638  0.191462   5.166394   \n",
       "2        2  0.000000  0.0  113.061600  190.917347  0.000000  16.199633   \n",
       "\n",
       "           6    7           8  ...  45758     45759  45760  45761  45762  \\\n",
       "3   5.366168  0.0   85.617858  ...    0.0  0.000000    0.0    0.0    0.0   \n",
       "2  17.318562  0.0  101.819874  ...    0.0  0.049426    0.0    0.0    0.0   \n",
       "\n",
       "   45763  45764  45765  45766  45767  \n",
       "3    0.0    0.0    0.0    0.0    0.0  \n",
       "2    0.0    0.0    0.0    0.0    0.0  \n",
       "\n",
       "[2 rows x 45769 columns]"
      ]
     },
     "execution_count": 73,
     "metadata": {},
     "output_type": "execute_result"
    }
   ],
   "source": [
    "kmeans_frame.sample(2)"
   ]
  },
  {
   "cell_type": "code",
   "execution_count": 66,
   "metadata": {},
   "outputs": [
    {
     "name": "stdout",
     "output_type": "stream",
     "text": [
      "(5, 2)\n"
     ]
    }
   ],
   "source": [
    "pca_kmeans = decomposition.PCA(n_components=2)\n",
    "kmeans_redux = pca_kmeans.fit_transform(kmeans_frame.drop(columns=['cluster']))\n",
    "print(kmeans_redux.shape)"
   ]
  },
  {
   "cell_type": "code",
   "execution_count": 71,
   "metadata": {},
   "outputs": [
    {
     "data": {
      "application/vnd.plotly.v1+json": {
       "config": {
        "plotlyServerURL": "https://plot.ly"
       },
       "data": [
        {
         "marker": {
          "size": 20,
          "symbol": "triangle-up-open-dot"
         },
         "mode": "markers",
         "type": "scatter",
         "x": [
          -3408.8846774468257,
          -7600.211238512267,
          29777.259500010317,
          -6282.3595668463995,
          -12485.804017204842
         ],
         "y": [
          10560.954713662608,
          -10203.234656182662,
          -2147.997155824769,
          7216.773851764212,
          -5426.496753419399
         ]
        }
       ],
       "layout": {
        "template": {
         "data": {
          "bar": [
           {
            "error_x": {
             "color": "#2a3f5f"
            },
            "error_y": {
             "color": "#2a3f5f"
            },
            "marker": {
             "line": {
              "color": "#E5ECF6",
              "width": 0.5
             },
             "pattern": {
              "fillmode": "overlay",
              "size": 10,
              "solidity": 0.2
             }
            },
            "type": "bar"
           }
          ],
          "barpolar": [
           {
            "marker": {
             "line": {
              "color": "#E5ECF6",
              "width": 0.5
             },
             "pattern": {
              "fillmode": "overlay",
              "size": 10,
              "solidity": 0.2
             }
            },
            "type": "barpolar"
           }
          ],
          "carpet": [
           {
            "aaxis": {
             "endlinecolor": "#2a3f5f",
             "gridcolor": "white",
             "linecolor": "white",
             "minorgridcolor": "white",
             "startlinecolor": "#2a3f5f"
            },
            "baxis": {
             "endlinecolor": "#2a3f5f",
             "gridcolor": "white",
             "linecolor": "white",
             "minorgridcolor": "white",
             "startlinecolor": "#2a3f5f"
            },
            "type": "carpet"
           }
          ],
          "choropleth": [
           {
            "colorbar": {
             "outlinewidth": 0,
             "ticks": ""
            },
            "type": "choropleth"
           }
          ],
          "contour": [
           {
            "colorbar": {
             "outlinewidth": 0,
             "ticks": ""
            },
            "colorscale": [
             [
              0,
              "#0d0887"
             ],
             [
              0.1111111111111111,
              "#46039f"
             ],
             [
              0.2222222222222222,
              "#7201a8"
             ],
             [
              0.3333333333333333,
              "#9c179e"
             ],
             [
              0.4444444444444444,
              "#bd3786"
             ],
             [
              0.5555555555555556,
              "#d8576b"
             ],
             [
              0.6666666666666666,
              "#ed7953"
             ],
             [
              0.7777777777777778,
              "#fb9f3a"
             ],
             [
              0.8888888888888888,
              "#fdca26"
             ],
             [
              1,
              "#f0f921"
             ]
            ],
            "type": "contour"
           }
          ],
          "contourcarpet": [
           {
            "colorbar": {
             "outlinewidth": 0,
             "ticks": ""
            },
            "type": "contourcarpet"
           }
          ],
          "heatmap": [
           {
            "colorbar": {
             "outlinewidth": 0,
             "ticks": ""
            },
            "colorscale": [
             [
              0,
              "#0d0887"
             ],
             [
              0.1111111111111111,
              "#46039f"
             ],
             [
              0.2222222222222222,
              "#7201a8"
             ],
             [
              0.3333333333333333,
              "#9c179e"
             ],
             [
              0.4444444444444444,
              "#bd3786"
             ],
             [
              0.5555555555555556,
              "#d8576b"
             ],
             [
              0.6666666666666666,
              "#ed7953"
             ],
             [
              0.7777777777777778,
              "#fb9f3a"
             ],
             [
              0.8888888888888888,
              "#fdca26"
             ],
             [
              1,
              "#f0f921"
             ]
            ],
            "type": "heatmap"
           }
          ],
          "heatmapgl": [
           {
            "colorbar": {
             "outlinewidth": 0,
             "ticks": ""
            },
            "colorscale": [
             [
              0,
              "#0d0887"
             ],
             [
              0.1111111111111111,
              "#46039f"
             ],
             [
              0.2222222222222222,
              "#7201a8"
             ],
             [
              0.3333333333333333,
              "#9c179e"
             ],
             [
              0.4444444444444444,
              "#bd3786"
             ],
             [
              0.5555555555555556,
              "#d8576b"
             ],
             [
              0.6666666666666666,
              "#ed7953"
             ],
             [
              0.7777777777777778,
              "#fb9f3a"
             ],
             [
              0.8888888888888888,
              "#fdca26"
             ],
             [
              1,
              "#f0f921"
             ]
            ],
            "type": "heatmapgl"
           }
          ],
          "histogram": [
           {
            "marker": {
             "pattern": {
              "fillmode": "overlay",
              "size": 10,
              "solidity": 0.2
             }
            },
            "type": "histogram"
           }
          ],
          "histogram2d": [
           {
            "colorbar": {
             "outlinewidth": 0,
             "ticks": ""
            },
            "colorscale": [
             [
              0,
              "#0d0887"
             ],
             [
              0.1111111111111111,
              "#46039f"
             ],
             [
              0.2222222222222222,
              "#7201a8"
             ],
             [
              0.3333333333333333,
              "#9c179e"
             ],
             [
              0.4444444444444444,
              "#bd3786"
             ],
             [
              0.5555555555555556,
              "#d8576b"
             ],
             [
              0.6666666666666666,
              "#ed7953"
             ],
             [
              0.7777777777777778,
              "#fb9f3a"
             ],
             [
              0.8888888888888888,
              "#fdca26"
             ],
             [
              1,
              "#f0f921"
             ]
            ],
            "type": "histogram2d"
           }
          ],
          "histogram2dcontour": [
           {
            "colorbar": {
             "outlinewidth": 0,
             "ticks": ""
            },
            "colorscale": [
             [
              0,
              "#0d0887"
             ],
             [
              0.1111111111111111,
              "#46039f"
             ],
             [
              0.2222222222222222,
              "#7201a8"
             ],
             [
              0.3333333333333333,
              "#9c179e"
             ],
             [
              0.4444444444444444,
              "#bd3786"
             ],
             [
              0.5555555555555556,
              "#d8576b"
             ],
             [
              0.6666666666666666,
              "#ed7953"
             ],
             [
              0.7777777777777778,
              "#fb9f3a"
             ],
             [
              0.8888888888888888,
              "#fdca26"
             ],
             [
              1,
              "#f0f921"
             ]
            ],
            "type": "histogram2dcontour"
           }
          ],
          "mesh3d": [
           {
            "colorbar": {
             "outlinewidth": 0,
             "ticks": ""
            },
            "type": "mesh3d"
           }
          ],
          "parcoords": [
           {
            "line": {
             "colorbar": {
              "outlinewidth": 0,
              "ticks": ""
             }
            },
            "type": "parcoords"
           }
          ],
          "pie": [
           {
            "automargin": true,
            "type": "pie"
           }
          ],
          "scatter": [
           {
            "fillpattern": {
             "fillmode": "overlay",
             "size": 10,
             "solidity": 0.2
            },
            "type": "scatter"
           }
          ],
          "scatter3d": [
           {
            "line": {
             "colorbar": {
              "outlinewidth": 0,
              "ticks": ""
             }
            },
            "marker": {
             "colorbar": {
              "outlinewidth": 0,
              "ticks": ""
             }
            },
            "type": "scatter3d"
           }
          ],
          "scattercarpet": [
           {
            "marker": {
             "colorbar": {
              "outlinewidth": 0,
              "ticks": ""
             }
            },
            "type": "scattercarpet"
           }
          ],
          "scattergeo": [
           {
            "marker": {
             "colorbar": {
              "outlinewidth": 0,
              "ticks": ""
             }
            },
            "type": "scattergeo"
           }
          ],
          "scattergl": [
           {
            "marker": {
             "colorbar": {
              "outlinewidth": 0,
              "ticks": ""
             }
            },
            "type": "scattergl"
           }
          ],
          "scattermapbox": [
           {
            "marker": {
             "colorbar": {
              "outlinewidth": 0,
              "ticks": ""
             }
            },
            "type": "scattermapbox"
           }
          ],
          "scatterpolar": [
           {
            "marker": {
             "colorbar": {
              "outlinewidth": 0,
              "ticks": ""
             }
            },
            "type": "scatterpolar"
           }
          ],
          "scatterpolargl": [
           {
            "marker": {
             "colorbar": {
              "outlinewidth": 0,
              "ticks": ""
             }
            },
            "type": "scatterpolargl"
           }
          ],
          "scatterternary": [
           {
            "marker": {
             "colorbar": {
              "outlinewidth": 0,
              "ticks": ""
             }
            },
            "type": "scatterternary"
           }
          ],
          "surface": [
           {
            "colorbar": {
             "outlinewidth": 0,
             "ticks": ""
            },
            "colorscale": [
             [
              0,
              "#0d0887"
             ],
             [
              0.1111111111111111,
              "#46039f"
             ],
             [
              0.2222222222222222,
              "#7201a8"
             ],
             [
              0.3333333333333333,
              "#9c179e"
             ],
             [
              0.4444444444444444,
              "#bd3786"
             ],
             [
              0.5555555555555556,
              "#d8576b"
             ],
             [
              0.6666666666666666,
              "#ed7953"
             ],
             [
              0.7777777777777778,
              "#fb9f3a"
             ],
             [
              0.8888888888888888,
              "#fdca26"
             ],
             [
              1,
              "#f0f921"
             ]
            ],
            "type": "surface"
           }
          ],
          "table": [
           {
            "cells": {
             "fill": {
              "color": "#EBF0F8"
             },
             "line": {
              "color": "white"
             }
            },
            "header": {
             "fill": {
              "color": "#C8D4E3"
             },
             "line": {
              "color": "white"
             }
            },
            "type": "table"
           }
          ]
         },
         "layout": {
          "annotationdefaults": {
           "arrowcolor": "#2a3f5f",
           "arrowhead": 0,
           "arrowwidth": 1
          },
          "autotypenumbers": "strict",
          "coloraxis": {
           "colorbar": {
            "outlinewidth": 0,
            "ticks": ""
           }
          },
          "colorscale": {
           "diverging": [
            [
             0,
             "#8e0152"
            ],
            [
             0.1,
             "#c51b7d"
            ],
            [
             0.2,
             "#de77ae"
            ],
            [
             0.3,
             "#f1b6da"
            ],
            [
             0.4,
             "#fde0ef"
            ],
            [
             0.5,
             "#f7f7f7"
            ],
            [
             0.6,
             "#e6f5d0"
            ],
            [
             0.7,
             "#b8e186"
            ],
            [
             0.8,
             "#7fbc41"
            ],
            [
             0.9,
             "#4d9221"
            ],
            [
             1,
             "#276419"
            ]
           ],
           "sequential": [
            [
             0,
             "#0d0887"
            ],
            [
             0.1111111111111111,
             "#46039f"
            ],
            [
             0.2222222222222222,
             "#7201a8"
            ],
            [
             0.3333333333333333,
             "#9c179e"
            ],
            [
             0.4444444444444444,
             "#bd3786"
            ],
            [
             0.5555555555555556,
             "#d8576b"
            ],
            [
             0.6666666666666666,
             "#ed7953"
            ],
            [
             0.7777777777777778,
             "#fb9f3a"
            ],
            [
             0.8888888888888888,
             "#fdca26"
            ],
            [
             1,
             "#f0f921"
            ]
           ],
           "sequentialminus": [
            [
             0,
             "#0d0887"
            ],
            [
             0.1111111111111111,
             "#46039f"
            ],
            [
             0.2222222222222222,
             "#7201a8"
            ],
            [
             0.3333333333333333,
             "#9c179e"
            ],
            [
             0.4444444444444444,
             "#bd3786"
            ],
            [
             0.5555555555555556,
             "#d8576b"
            ],
            [
             0.6666666666666666,
             "#ed7953"
            ],
            [
             0.7777777777777778,
             "#fb9f3a"
            ],
            [
             0.8888888888888888,
             "#fdca26"
            ],
            [
             1,
             "#f0f921"
            ]
           ]
          },
          "colorway": [
           "#636efa",
           "#EF553B",
           "#00cc96",
           "#ab63fa",
           "#FFA15A",
           "#19d3f3",
           "#FF6692",
           "#B6E880",
           "#FF97FF",
           "#FECB52"
          ],
          "font": {
           "color": "#2a3f5f"
          },
          "geo": {
           "bgcolor": "white",
           "lakecolor": "white",
           "landcolor": "#E5ECF6",
           "showlakes": true,
           "showland": true,
           "subunitcolor": "white"
          },
          "hoverlabel": {
           "align": "left"
          },
          "hovermode": "closest",
          "mapbox": {
           "style": "light"
          },
          "paper_bgcolor": "white",
          "plot_bgcolor": "#E5ECF6",
          "polar": {
           "angularaxis": {
            "gridcolor": "white",
            "linecolor": "white",
            "ticks": ""
           },
           "bgcolor": "#E5ECF6",
           "radialaxis": {
            "gridcolor": "white",
            "linecolor": "white",
            "ticks": ""
           }
          },
          "scene": {
           "xaxis": {
            "backgroundcolor": "#E5ECF6",
            "gridcolor": "white",
            "gridwidth": 2,
            "linecolor": "white",
            "showbackground": true,
            "ticks": "",
            "zerolinecolor": "white"
           },
           "yaxis": {
            "backgroundcolor": "#E5ECF6",
            "gridcolor": "white",
            "gridwidth": 2,
            "linecolor": "white",
            "showbackground": true,
            "ticks": "",
            "zerolinecolor": "white"
           },
           "zaxis": {
            "backgroundcolor": "#E5ECF6",
            "gridcolor": "white",
            "gridwidth": 2,
            "linecolor": "white",
            "showbackground": true,
            "ticks": "",
            "zerolinecolor": "white"
           }
          },
          "shapedefaults": {
           "line": {
            "color": "#2a3f5f"
           }
          },
          "ternary": {
           "aaxis": {
            "gridcolor": "white",
            "linecolor": "white",
            "ticks": ""
           },
           "baxis": {
            "gridcolor": "white",
            "linecolor": "white",
            "ticks": ""
           },
           "bgcolor": "#E5ECF6",
           "caxis": {
            "gridcolor": "white",
            "linecolor": "white",
            "ticks": ""
           }
          },
          "title": {
           "x": 0.05
          },
          "xaxis": {
           "automargin": true,
           "gridcolor": "white",
           "linecolor": "white",
           "ticks": "",
           "title": {
            "standoff": 15
           },
           "zerolinecolor": "white",
           "zerolinewidth": 2
          },
          "yaxis": {
           "automargin": true,
           "gridcolor": "white",
           "linecolor": "white",
           "ticks": "",
           "title": {
            "standoff": 15
           },
           "zerolinecolor": "white",
           "zerolinewidth": 2
          }
         }
        }
       }
      }
     },
     "metadata": {},
     "output_type": "display_data"
    }
   ],
   "source": [
    "fig = go.Figure()\n",
    "fig.add_traces(\n",
    "    go.Scatter(\n",
    "        x=kmeans_redux[:,0],\n",
    "       y=kmeans_redux[:,1],\n",
    "       mode=\"markers\",\n",
    "       marker = {\n",
    "           \"size\":20,\n",
    "           \"symbol\":'triangle-up-open-dot'\n",
    "       }\n",
    "\n",
    "    )\n",
    ")\n",
    "fig.show()\n"
   ]
  },
  {
   "cell_type": "code",
   "execution_count": 74,
   "metadata": {},
   "outputs": [
    {
     "name": "stdout",
     "output_type": "stream",
     "text": [
      "(5, 2)\n"
     ]
    }
   ],
   "source": [
    "mds_kmeans = manifold.MDS(n_components=2)\n",
    "kmeans_mds_redux = mds_kmeans.fit_transform(kmeans_frame.drop(columns=['cluster']))\n",
    "print(kmeans_mds_redux.shape)"
   ]
  },
  {
   "cell_type": "code",
   "execution_count": 75,
   "metadata": {},
   "outputs": [
    {
     "data": {
      "application/vnd.plotly.v1+json": {
       "config": {
        "plotlyServerURL": "https://plot.ly"
       },
       "data": [
        {
         "marker": {
          "size": 20,
          "symbol": "triangle-up-open-dot"
         },
         "mode": "markers",
         "type": "scatter",
         "x": [
          7917.9901006895125,
          -3095.3221549077966,
          -24979.482621390416,
          10921.041879945595,
          9235.772795663104
         ],
         "y": [
          8365.740146833272,
          -12727.265118003601,
          16635.072075397,
          962.4239490816137,
          -13235.971053308287
         ]
        }
       ],
       "layout": {
        "template": {
         "data": {
          "bar": [
           {
            "error_x": {
             "color": "#2a3f5f"
            },
            "error_y": {
             "color": "#2a3f5f"
            },
            "marker": {
             "line": {
              "color": "#E5ECF6",
              "width": 0.5
             },
             "pattern": {
              "fillmode": "overlay",
              "size": 10,
              "solidity": 0.2
             }
            },
            "type": "bar"
           }
          ],
          "barpolar": [
           {
            "marker": {
             "line": {
              "color": "#E5ECF6",
              "width": 0.5
             },
             "pattern": {
              "fillmode": "overlay",
              "size": 10,
              "solidity": 0.2
             }
            },
            "type": "barpolar"
           }
          ],
          "carpet": [
           {
            "aaxis": {
             "endlinecolor": "#2a3f5f",
             "gridcolor": "white",
             "linecolor": "white",
             "minorgridcolor": "white",
             "startlinecolor": "#2a3f5f"
            },
            "baxis": {
             "endlinecolor": "#2a3f5f",
             "gridcolor": "white",
             "linecolor": "white",
             "minorgridcolor": "white",
             "startlinecolor": "#2a3f5f"
            },
            "type": "carpet"
           }
          ],
          "choropleth": [
           {
            "colorbar": {
             "outlinewidth": 0,
             "ticks": ""
            },
            "type": "choropleth"
           }
          ],
          "contour": [
           {
            "colorbar": {
             "outlinewidth": 0,
             "ticks": ""
            },
            "colorscale": [
             [
              0,
              "#0d0887"
             ],
             [
              0.1111111111111111,
              "#46039f"
             ],
             [
              0.2222222222222222,
              "#7201a8"
             ],
             [
              0.3333333333333333,
              "#9c179e"
             ],
             [
              0.4444444444444444,
              "#bd3786"
             ],
             [
              0.5555555555555556,
              "#d8576b"
             ],
             [
              0.6666666666666666,
              "#ed7953"
             ],
             [
              0.7777777777777778,
              "#fb9f3a"
             ],
             [
              0.8888888888888888,
              "#fdca26"
             ],
             [
              1,
              "#f0f921"
             ]
            ],
            "type": "contour"
           }
          ],
          "contourcarpet": [
           {
            "colorbar": {
             "outlinewidth": 0,
             "ticks": ""
            },
            "type": "contourcarpet"
           }
          ],
          "heatmap": [
           {
            "colorbar": {
             "outlinewidth": 0,
             "ticks": ""
            },
            "colorscale": [
             [
              0,
              "#0d0887"
             ],
             [
              0.1111111111111111,
              "#46039f"
             ],
             [
              0.2222222222222222,
              "#7201a8"
             ],
             [
              0.3333333333333333,
              "#9c179e"
             ],
             [
              0.4444444444444444,
              "#bd3786"
             ],
             [
              0.5555555555555556,
              "#d8576b"
             ],
             [
              0.6666666666666666,
              "#ed7953"
             ],
             [
              0.7777777777777778,
              "#fb9f3a"
             ],
             [
              0.8888888888888888,
              "#fdca26"
             ],
             [
              1,
              "#f0f921"
             ]
            ],
            "type": "heatmap"
           }
          ],
          "heatmapgl": [
           {
            "colorbar": {
             "outlinewidth": 0,
             "ticks": ""
            },
            "colorscale": [
             [
              0,
              "#0d0887"
             ],
             [
              0.1111111111111111,
              "#46039f"
             ],
             [
              0.2222222222222222,
              "#7201a8"
             ],
             [
              0.3333333333333333,
              "#9c179e"
             ],
             [
              0.4444444444444444,
              "#bd3786"
             ],
             [
              0.5555555555555556,
              "#d8576b"
             ],
             [
              0.6666666666666666,
              "#ed7953"
             ],
             [
              0.7777777777777778,
              "#fb9f3a"
             ],
             [
              0.8888888888888888,
              "#fdca26"
             ],
             [
              1,
              "#f0f921"
             ]
            ],
            "type": "heatmapgl"
           }
          ],
          "histogram": [
           {
            "marker": {
             "pattern": {
              "fillmode": "overlay",
              "size": 10,
              "solidity": 0.2
             }
            },
            "type": "histogram"
           }
          ],
          "histogram2d": [
           {
            "colorbar": {
             "outlinewidth": 0,
             "ticks": ""
            },
            "colorscale": [
             [
              0,
              "#0d0887"
             ],
             [
              0.1111111111111111,
              "#46039f"
             ],
             [
              0.2222222222222222,
              "#7201a8"
             ],
             [
              0.3333333333333333,
              "#9c179e"
             ],
             [
              0.4444444444444444,
              "#bd3786"
             ],
             [
              0.5555555555555556,
              "#d8576b"
             ],
             [
              0.6666666666666666,
              "#ed7953"
             ],
             [
              0.7777777777777778,
              "#fb9f3a"
             ],
             [
              0.8888888888888888,
              "#fdca26"
             ],
             [
              1,
              "#f0f921"
             ]
            ],
            "type": "histogram2d"
           }
          ],
          "histogram2dcontour": [
           {
            "colorbar": {
             "outlinewidth": 0,
             "ticks": ""
            },
            "colorscale": [
             [
              0,
              "#0d0887"
             ],
             [
              0.1111111111111111,
              "#46039f"
             ],
             [
              0.2222222222222222,
              "#7201a8"
             ],
             [
              0.3333333333333333,
              "#9c179e"
             ],
             [
              0.4444444444444444,
              "#bd3786"
             ],
             [
              0.5555555555555556,
              "#d8576b"
             ],
             [
              0.6666666666666666,
              "#ed7953"
             ],
             [
              0.7777777777777778,
              "#fb9f3a"
             ],
             [
              0.8888888888888888,
              "#fdca26"
             ],
             [
              1,
              "#f0f921"
             ]
            ],
            "type": "histogram2dcontour"
           }
          ],
          "mesh3d": [
           {
            "colorbar": {
             "outlinewidth": 0,
             "ticks": ""
            },
            "type": "mesh3d"
           }
          ],
          "parcoords": [
           {
            "line": {
             "colorbar": {
              "outlinewidth": 0,
              "ticks": ""
             }
            },
            "type": "parcoords"
           }
          ],
          "pie": [
           {
            "automargin": true,
            "type": "pie"
           }
          ],
          "scatter": [
           {
            "fillpattern": {
             "fillmode": "overlay",
             "size": 10,
             "solidity": 0.2
            },
            "type": "scatter"
           }
          ],
          "scatter3d": [
           {
            "line": {
             "colorbar": {
              "outlinewidth": 0,
              "ticks": ""
             }
            },
            "marker": {
             "colorbar": {
              "outlinewidth": 0,
              "ticks": ""
             }
            },
            "type": "scatter3d"
           }
          ],
          "scattercarpet": [
           {
            "marker": {
             "colorbar": {
              "outlinewidth": 0,
              "ticks": ""
             }
            },
            "type": "scattercarpet"
           }
          ],
          "scattergeo": [
           {
            "marker": {
             "colorbar": {
              "outlinewidth": 0,
              "ticks": ""
             }
            },
            "type": "scattergeo"
           }
          ],
          "scattergl": [
           {
            "marker": {
             "colorbar": {
              "outlinewidth": 0,
              "ticks": ""
             }
            },
            "type": "scattergl"
           }
          ],
          "scattermapbox": [
           {
            "marker": {
             "colorbar": {
              "outlinewidth": 0,
              "ticks": ""
             }
            },
            "type": "scattermapbox"
           }
          ],
          "scatterpolar": [
           {
            "marker": {
             "colorbar": {
              "outlinewidth": 0,
              "ticks": ""
             }
            },
            "type": "scatterpolar"
           }
          ],
          "scatterpolargl": [
           {
            "marker": {
             "colorbar": {
              "outlinewidth": 0,
              "ticks": ""
             }
            },
            "type": "scatterpolargl"
           }
          ],
          "scatterternary": [
           {
            "marker": {
             "colorbar": {
              "outlinewidth": 0,
              "ticks": ""
             }
            },
            "type": "scatterternary"
           }
          ],
          "surface": [
           {
            "colorbar": {
             "outlinewidth": 0,
             "ticks": ""
            },
            "colorscale": [
             [
              0,
              "#0d0887"
             ],
             [
              0.1111111111111111,
              "#46039f"
             ],
             [
              0.2222222222222222,
              "#7201a8"
             ],
             [
              0.3333333333333333,
              "#9c179e"
             ],
             [
              0.4444444444444444,
              "#bd3786"
             ],
             [
              0.5555555555555556,
              "#d8576b"
             ],
             [
              0.6666666666666666,
              "#ed7953"
             ],
             [
              0.7777777777777778,
              "#fb9f3a"
             ],
             [
              0.8888888888888888,
              "#fdca26"
             ],
             [
              1,
              "#f0f921"
             ]
            ],
            "type": "surface"
           }
          ],
          "table": [
           {
            "cells": {
             "fill": {
              "color": "#EBF0F8"
             },
             "line": {
              "color": "white"
             }
            },
            "header": {
             "fill": {
              "color": "#C8D4E3"
             },
             "line": {
              "color": "white"
             }
            },
            "type": "table"
           }
          ]
         },
         "layout": {
          "annotationdefaults": {
           "arrowcolor": "#2a3f5f",
           "arrowhead": 0,
           "arrowwidth": 1
          },
          "autotypenumbers": "strict",
          "coloraxis": {
           "colorbar": {
            "outlinewidth": 0,
            "ticks": ""
           }
          },
          "colorscale": {
           "diverging": [
            [
             0,
             "#8e0152"
            ],
            [
             0.1,
             "#c51b7d"
            ],
            [
             0.2,
             "#de77ae"
            ],
            [
             0.3,
             "#f1b6da"
            ],
            [
             0.4,
             "#fde0ef"
            ],
            [
             0.5,
             "#f7f7f7"
            ],
            [
             0.6,
             "#e6f5d0"
            ],
            [
             0.7,
             "#b8e186"
            ],
            [
             0.8,
             "#7fbc41"
            ],
            [
             0.9,
             "#4d9221"
            ],
            [
             1,
             "#276419"
            ]
           ],
           "sequential": [
            [
             0,
             "#0d0887"
            ],
            [
             0.1111111111111111,
             "#46039f"
            ],
            [
             0.2222222222222222,
             "#7201a8"
            ],
            [
             0.3333333333333333,
             "#9c179e"
            ],
            [
             0.4444444444444444,
             "#bd3786"
            ],
            [
             0.5555555555555556,
             "#d8576b"
            ],
            [
             0.6666666666666666,
             "#ed7953"
            ],
            [
             0.7777777777777778,
             "#fb9f3a"
            ],
            [
             0.8888888888888888,
             "#fdca26"
            ],
            [
             1,
             "#f0f921"
            ]
           ],
           "sequentialminus": [
            [
             0,
             "#0d0887"
            ],
            [
             0.1111111111111111,
             "#46039f"
            ],
            [
             0.2222222222222222,
             "#7201a8"
            ],
            [
             0.3333333333333333,
             "#9c179e"
            ],
            [
             0.4444444444444444,
             "#bd3786"
            ],
            [
             0.5555555555555556,
             "#d8576b"
            ],
            [
             0.6666666666666666,
             "#ed7953"
            ],
            [
             0.7777777777777778,
             "#fb9f3a"
            ],
            [
             0.8888888888888888,
             "#fdca26"
            ],
            [
             1,
             "#f0f921"
            ]
           ]
          },
          "colorway": [
           "#636efa",
           "#EF553B",
           "#00cc96",
           "#ab63fa",
           "#FFA15A",
           "#19d3f3",
           "#FF6692",
           "#B6E880",
           "#FF97FF",
           "#FECB52"
          ],
          "font": {
           "color": "#2a3f5f"
          },
          "geo": {
           "bgcolor": "white",
           "lakecolor": "white",
           "landcolor": "#E5ECF6",
           "showlakes": true,
           "showland": true,
           "subunitcolor": "white"
          },
          "hoverlabel": {
           "align": "left"
          },
          "hovermode": "closest",
          "mapbox": {
           "style": "light"
          },
          "paper_bgcolor": "white",
          "plot_bgcolor": "#E5ECF6",
          "polar": {
           "angularaxis": {
            "gridcolor": "white",
            "linecolor": "white",
            "ticks": ""
           },
           "bgcolor": "#E5ECF6",
           "radialaxis": {
            "gridcolor": "white",
            "linecolor": "white",
            "ticks": ""
           }
          },
          "scene": {
           "xaxis": {
            "backgroundcolor": "#E5ECF6",
            "gridcolor": "white",
            "gridwidth": 2,
            "linecolor": "white",
            "showbackground": true,
            "ticks": "",
            "zerolinecolor": "white"
           },
           "yaxis": {
            "backgroundcolor": "#E5ECF6",
            "gridcolor": "white",
            "gridwidth": 2,
            "linecolor": "white",
            "showbackground": true,
            "ticks": "",
            "zerolinecolor": "white"
           },
           "zaxis": {
            "backgroundcolor": "#E5ECF6",
            "gridcolor": "white",
            "gridwidth": 2,
            "linecolor": "white",
            "showbackground": true,
            "ticks": "",
            "zerolinecolor": "white"
           }
          },
          "shapedefaults": {
           "line": {
            "color": "#2a3f5f"
           }
          },
          "ternary": {
           "aaxis": {
            "gridcolor": "white",
            "linecolor": "white",
            "ticks": ""
           },
           "baxis": {
            "gridcolor": "white",
            "linecolor": "white",
            "ticks": ""
           },
           "bgcolor": "#E5ECF6",
           "caxis": {
            "gridcolor": "white",
            "linecolor": "white",
            "ticks": ""
           }
          },
          "title": {
           "x": 0.05
          },
          "xaxis": {
           "automargin": true,
           "gridcolor": "white",
           "linecolor": "white",
           "ticks": "",
           "title": {
            "standoff": 15
           },
           "zerolinecolor": "white",
           "zerolinewidth": 2
          },
          "yaxis": {
           "automargin": true,
           "gridcolor": "white",
           "linecolor": "white",
           "ticks": "",
           "title": {
            "standoff": 15
           },
           "zerolinecolor": "white",
           "zerolinewidth": 2
          }
         }
        }
       }
      }
     },
     "metadata": {},
     "output_type": "display_data"
    }
   ],
   "source": [
    "fig = go.Figure()\n",
    "fig.add_traces(\n",
    "    go.Scatter(\n",
    "        x=kmeans_mds_redux[:,0],\n",
    "       y=kmeans_mds_redux[:,1],\n",
    "       mode=\"markers\",\n",
    "       marker = {\n",
    "           \"size\":20,\n",
    "           \"symbol\":'triangle-up-open-dot'\n",
    "       }\n",
    "\n",
    "    )\n",
    ")\n",
    "fig.show()\n"
   ]
  },
  {
   "cell_type": "code",
   "execution_count": 80,
   "metadata": {},
   "outputs": [
    {
     "name": "stdout",
     "output_type": "stream",
     "text": [
      "(511, 2)\n"
     ]
    }
   ],
   "source": [
    "tsne = manifold.TSNE(n_components=2, perplexity=40)\n",
    "tsne_redux = tsne.fit_transform(X_redux)\n",
    "print(tsne_redux.shape)\n"
   ]
  },
  {
   "cell_type": "code",
   "execution_count": 81,
   "metadata": {},
   "outputs": [
    {
     "data": {
      "application/vnd.plotly.v1+json": {
       "config": {
        "plotlyServerURL": "https://plot.ly"
       },
       "data": [
        {
         "marker": {
          "color": [
           1,
           1,
           1,
           4,
           1,
           1,
           1,
           1,
           1,
           1,
           1,
           2,
           2,
           2,
           2,
           2,
           2,
           2,
           4,
           1,
           4,
           4,
           1,
           4,
           1,
           4,
           1,
           4,
           1,
           0,
           0,
           1,
           1,
           4,
           4,
           1,
           4,
           1,
           1,
           1,
           1,
           1,
           4,
           4,
           4,
           1,
           4,
           1,
           4,
           4,
           4,
           4,
           4,
           4,
           1,
           4,
           1,
           4,
           4,
           4,
           1,
           2,
           2,
           1,
           2,
           2,
           2,
           2,
           2,
           2,
           2,
           2,
           2,
           2,
           2,
           2,
           2,
           2,
           2,
           2,
           1,
           1,
           1,
           1,
           1,
           4,
           1,
           1,
           1,
           1,
           1,
           1,
           1,
           4,
           1,
           1,
           1,
           1,
           1,
           1,
           4,
           1,
           1,
           1,
           1,
           1,
           1,
           1,
           1,
           1,
           4,
           4,
           4,
           4,
           0,
           0,
           0,
           0,
           0,
           0,
           0,
           0,
           0,
           4,
           0,
           4,
           1,
           1,
           1,
           1,
           1,
           0,
           0,
           4,
           1,
           3,
           1,
           4,
           0,
           0,
           3,
           3,
           3,
           3,
           3,
           4,
           4,
           4,
           0,
           0,
           0,
           3,
           0,
           0,
           0,
           0,
           0,
           0,
           0,
           3,
           3,
           0,
           4,
           4,
           3,
           3,
           0,
           0,
           0,
           0,
           0,
           0,
           0,
           3,
           3,
           3,
           3,
           3,
           3,
           3,
           3,
           3,
           0,
           0,
           0,
           3,
           3,
           3,
           0,
           0,
           0,
           3,
           3,
           3,
           4,
           4,
           4,
           0,
           4,
           4,
           4,
           4,
           4,
           4,
           4,
           4,
           4,
           4,
           4,
           4,
           0,
           3,
           3,
           0,
           0,
           0,
           0,
           0,
           0,
           0,
           0,
           0,
           0,
           0,
           0,
           0,
           0,
           3,
           3,
           3,
           0,
           0,
           0,
           0,
           3,
           4,
           4,
           4,
           4,
           4,
           4,
           0,
           0,
           0,
           3,
           3,
           3,
           3,
           3,
           3,
           3,
           3,
           3,
           3,
           3,
           3,
           3,
           3,
           3,
           3,
           3,
           3,
           3,
           3,
           3,
           3,
           3,
           3,
           3,
           3,
           3,
           3,
           3,
           3,
           3,
           3,
           3,
           3,
           3,
           3,
           3,
           3,
           3,
           3,
           3,
           3,
           3,
           3,
           3,
           3,
           3,
           3,
           3,
           3,
           3,
           3,
           0,
           0,
           0,
           0,
           0,
           0,
           0,
           0,
           3,
           3,
           3,
           3,
           3,
           3,
           3,
           3,
           3,
           3,
           3,
           0,
           0,
           0,
           0,
           0,
           0,
           0,
           0,
           3,
           3,
           3,
           3,
           3,
           3,
           3,
           3,
           3,
           3,
           3,
           3,
           0,
           3,
           3,
           0,
           0,
           0,
           0,
           0,
           0,
           0,
           0,
           0,
           3,
           3,
           3,
           3,
           3,
           3,
           3,
           3,
           3,
           3,
           3,
           3,
           3,
           3,
           3,
           3,
           3,
           3,
           3,
           3,
           3,
           3,
           3,
           3,
           3,
           3,
           3,
           3,
           3,
           3,
           3,
           3,
           3,
           3,
           3,
           3,
           3,
           3,
           3,
           3,
           3,
           3,
           3,
           3,
           3,
           3,
           3,
           3,
           3,
           3,
           3,
           3,
           0,
           0,
           3,
           0,
           0,
           0,
           3,
           3,
           3,
           3,
           3,
           3,
           3,
           3,
           3,
           3,
           3,
           3,
           3,
           3,
           3,
           3,
           2,
           3,
           2,
           2,
           2,
           2,
           2,
           2,
           2,
           2,
           2,
           2,
           2,
           2,
           2,
           2,
           2,
           2,
           2,
           2,
           2,
           2,
           2,
           2,
           2,
           2,
           2,
           2,
           3,
           3,
           3,
           3,
           3,
           3,
           3,
           4,
           4,
           4,
           4,
           1,
           1,
           4,
           1,
           4,
           4,
           0,
           0,
           0,
           0,
           0,
           0,
           0,
           1,
           3,
           3,
           0,
           0,
           0,
           0,
           0,
           0,
           0,
           3,
           3,
           3,
           3,
           3,
           3,
           3,
           3,
           3,
           3,
           3,
           3,
           1,
           3,
           3,
           3,
           3,
           3,
           3,
           3,
           3,
           3,
           3,
           3,
           3,
           3,
           3,
           3
          ]
         },
         "mode": "markers",
         "type": "scatter",
         "x": [
          6.2930989265441895,
          6.140521049499512,
          6.047243595123291,
          1.6346032619476318,
          6.7454514503479,
          6.448337554931641,
          7.157983303070068,
          5.692215919494629,
          6.115342617034912,
          6.281170845031738,
          7.558392524719238,
          4.390341281890869,
          2.8419628143310547,
          1.4423332214355469,
          2.3845622539520264,
          8.142722129821777,
          5.229151248931885,
          7.076592445373535,
          -3.349982500076294,
          5.619678020477295,
          -2.92537260055542,
          -0.6906402111053467,
          5.930222988128662,
          -0.26118797063827515,
          6.7024054527282715,
          -1.71100914478302,
          6.417069911956787,
          -0.6969026923179626,
          4.817059516906738,
          19.867475509643555,
          21.524011611938477,
          5.080143451690674,
          5.442765235900879,
          -0.6081641316413879,
          -2.736109733581543,
          5.78410530090332,
          -3.2913658618927,
          5.02815055847168,
          4.913828372955322,
          4.555128574371338,
          5.155930995941162,
          6.2258076667785645,
          0.3049880564212799,
          -2.2816076278686523,
          -2.7666726112365723,
          5.883778095245361,
          -0.7270538210868835,
          3.4483253955841064,
          -0.912086546421051,
          0.15377850830554962,
          -0.45816442370414734,
          -0.984774649143219,
          -2.4691362380981445,
          -0.8932830095291138,
          5.807135105133057,
          0.05975818261504173,
          4.8070502281188965,
          -1.5077238082885742,
          -3.0887742042541504,
          -1.5884993076324463,
          6.08349609375,
          3.696761131286621,
          5.153807640075684,
          6.061838150024414,
          7.935276985168457,
          6.872707843780518,
          6.834447860717773,
          4.795876979827881,
          3.8447158336639404,
          2.658629894256592,
          6.5911664962768555,
          6.560839653015137,
          6.177466869354248,
          6.4034624099731445,
          3.2949607372283936,
          5.892062664031982,
          5.467749118804932,
          5.1435627937316895,
          5.097855567932129,
          3.6105520725250244,
          3.991274833679199,
          8.359457015991211,
          7.0826416015625,
          7.865572929382324,
          8.144013404846191,
          1.406997561454773,
          6.678904056549072,
          3.9440271854400635,
          7.27838134765625,
          6.490810871124268,
          7.028139591217041,
          7.349790096282959,
          7.572885036468506,
          1.4966374635696411,
          7.238881587982178,
          6.43378210067749,
          8.07149887084961,
          7.71286153793335,
          7.6984686851501465,
          7.9549970626831055,
          1.4845587015151978,
          7.563546180725098,
          9.318414688110352,
          7.655148983001709,
          7.83159065246582,
          8.75597858428955,
          7.264657020568848,
          8.567646026611328,
          9.172224044799805,
          6.435675621032715,
          -3.9210939407348633,
          -3.1169326305389404,
          -2.564992666244507,
          -2.686147451400757,
          17.338594436645508,
          19.085241317749023,
          17.317167282104492,
          18.87311553955078,
          17.023731231689453,
          17.014211654663086,
          18.526702880859375,
          17.709016799926758,
          19.293804168701172,
          1.078064203262329,
          18.44305992126465,
          1.1473110914230347,
          6.7837605476379395,
          7.149667263031006,
          7.271312236785889,
          6.637546539306641,
          6.603647232055664,
          16.427230834960938,
          17.932353973388672,
          1.818118691444397,
          5.897830009460449,
          -12.041539192199707,
          3.3301477432250977,
          -2.9163002967834473,
          25.327356338500977,
          25.28472900390625,
          -12.155378341674805,
          -9.28125286102295,
          -8.704203605651855,
          -13.236199378967285,
          -14.223876953125,
          -1.5443799495697021,
          -2.0650582313537598,
          -2.8301749229431152,
          24.863834381103516,
          24.902700424194336,
          24.688316345214844,
          -12.085291862487793,
          21.734493255615234,
          20.21847915649414,
          22.67919921875,
          23.277530670166016,
          23.040964126586914,
          22.810808181762695,
          16.79705047607422,
          -12.43287181854248,
          -8.962072372436523,
          23.201807022094727,
          -1.1389966011047363,
          -0.970893383026123,
          -16.44139289855957,
          -13.73164176940918,
          23.059005737304688,
          22.26019859313965,
          23.449460983276367,
          23.4068603515625,
          22.590173721313477,
          24.85906219482422,
          21.939823150634766,
          -9.92753791809082,
          -12.71825122833252,
          -9.092489242553711,
          -12.797962188720703,
          -11.667244911193848,
          -9.592076301574707,
          -13.550509452819824,
          -15.545268058776855,
          -16.926057815551758,
          20.41889190673828,
          23.41881561279297,
          23.809104919433594,
          -13.971942901611328,
          -9.76362419128418,
          -10.617182731628418,
          24.497209548950195,
          23.62755584716797,
          24.124608993530273,
          -13.823797225952148,
          -14.192220687866211,
          -9.588151931762695,
          -2.752332925796509,
          -3.0444374084472656,
          -2.4334473609924316,
          16.971317291259766,
          -0.5590630173683167,
          0.1451641321182251,
          -2.02117657661438,
          -2.6974239349365234,
          -1.8718196153640747,
          -3.5140321254730225,
          -2.307243824005127,
          -0.9404465556144714,
          -0.9561978578567505,
          -3.1900179386138916,
          -2.654240608215332,
          -3.908308506011963,
          23.170677185058594,
          -7.49669885635376,
          -8.843599319458008,
          18.187400817871094,
          17.56621742248535,
          18.2315616607666,
          18.82828712463379,
          17.841604232788086,
          16.587799072265625,
          18.100379943847656,
          22.739952087402344,
          23.10077476501465,
          19.850831985473633,
          22.45787239074707,
          22.344938278198242,
          21.409841537475586,
          21.725383758544922,
          -9.797792434692383,
          -12.534758567810059,
          -15.76720142364502,
          23.3560791015625,
          23.505966186523438,
          22.868854522705078,
          22.49141502380371,
          -10.116551399230957,
          -0.05511622875928879,
          -1.5204137563705444,
          -1.217144250869751,
          -3.9184529781341553,
          -1.5325124263763428,
          -3.009523868560791,
          20.604745864868164,
          23.170963287353516,
          21.072322845458984,
          -11.478363990783691,
          -15.132475852966309,
          -12.255635261535645,
          -10.325013160705566,
          -15.178864479064941,
          -11.83953857421875,
          -10.409381866455078,
          -11.949655532836914,
          -12.584882736206055,
          -10.098894119262695,
          -15.623010635375977,
          -8.660456657409668,
          -12.007709503173828,
          -11.840982437133789,
          -10.47024917602539,
          -5.5018744468688965,
          -9.54541015625,
          -11.106611251831055,
          -12.535179138183594,
          -11.129403114318848,
          -11.421308517456055,
          -14.364862442016602,
          -9.894377708435059,
          -10.631823539733887,
          -11.98347282409668,
          -12.489092826843262,
          -12.032426834106445,
          -10.745429039001465,
          -11.990326881408691,
          -13.016718864440918,
          -11.148626327514648,
          -14.706475257873535,
          -16.598508834838867,
          -11.504744529724121,
          -12.501479148864746,
          -14.937166213989258,
          -15.771641731262207,
          -12.920485496520996,
          -16.701072692871094,
          -17.980602264404297,
          -17.91728401184082,
          -12.638947486877441,
          -16.938201904296875,
          -10.003486633300781,
          -10.570419311523438,
          -11.16058349609375,
          -9.97916030883789,
          -10.910632133483887,
          -13.19599437713623,
          -11.904989242553711,
          -11.873316764831543,
          -10.668652534484863,
          16.91642951965332,
          15.428032875061035,
          17.9761905670166,
          16.787748336791992,
          18.038694381713867,
          18.082984924316406,
          17.457937240600586,
          16.637910842895508,
          -12.73154354095459,
          -13.006658554077148,
          -15.57393741607666,
          -8.515774726867676,
          -7.10631799697876,
          -6.751357078552246,
          -13.021766662597656,
          -15.168729782104492,
          -5.692060947418213,
          -10.594472885131836,
          -8.843682289123535,
          17.842021942138672,
          16.54083251953125,
          19.436809539794922,
          18.21775245666504,
          16.903627395629883,
          19.01327133178711,
          18.314491271972656,
          17.27849769592285,
          -9.115983009338379,
          -14.39577865600586,
          -13.85531234741211,
          -10.678498268127441,
          -11.979621887207031,
          -12.675553321838379,
          -17.736778259277344,
          -11.8414888381958,
          -10.25072193145752,
          -14.338788986206055,
          -10.966357231140137,
          -8.025007247924805,
          19.412174224853516,
          -10.02004623413086,
          -6.969501495361328,
          17.24864387512207,
          17.026554107666016,
          17.328310012817383,
          18.183969497680664,
          17.65814781188965,
          16.919601440429688,
          16.996280670166016,
          19.190292358398438,
          18.623367309570312,
          -17.220809936523438,
          -7.4212870597839355,
          -10.95145034790039,
          -13.030348777770996,
          -13.196839332580566,
          -9.020962715148926,
          -14.110795021057129,
          -9.867610931396484,
          -13.055302619934082,
          -11.711748123168945,
          -9.47457504272461,
          -7.2077412605285645,
          -9.756049156188965,
          -9.553994178771973,
          -11.099701881408691,
          -11.352446556091309,
          -11.802420616149902,
          -13.149489402770996,
          -15.386260032653809,
          -13.72952651977539,
          -8.033682823181152,
          -5.80678653717041,
          -6.363857269287109,
          -10.395441055297852,
          -7.024354457855225,
          -4.388148307800293,
          -7.44064998626709,
          -12.40071964263916,
          -7.284805774688721,
          -12.247145652770996,
          -12.34749984741211,
          -4.794300079345703,
          -16.357986450195312,
          -5.253994464874268,
          -13.544868469238281,
          -15.20993423461914,
          -16.414316177368164,
          -13.438774108886719,
          -8.127641677856445,
          -12.081997871398926,
          -10.730324745178223,
          -9.858131408691406,
          -10.269442558288574,
          -15.678037643432617,
          -9.038949966430664,
          -8.632307052612305,
          -13.785600662231445,
          -9.56732177734375,
          -11.226149559020996,
          -13.097611427307129,
          -13.841172218322754,
          -10.10760498046875,
          19.328243255615234,
          24.44019889831543,
          -13.958475112915039,
          21.270177841186523,
          23.664358139038086,
          22.819835662841797,
          -7.413651466369629,
          -12.474535942077637,
          -8.850081443786621,
          -10.56354808807373,
          -8.353060722351074,
          -14.677484512329102,
          -5.4578094482421875,
          -12.42813491821289,
          -9.475704193115234,
          -14.165305137634277,
          -14.342693328857422,
          -10.249570846557617,
          -9.213129043579102,
          -15.181275367736816,
          -10.045940399169922,
          -15.042956352233887,
          4.1738386154174805,
          -13.941636085510254,
          5.852184772491455,
          6.1764817237854,
          4.67520809173584,
          3.5365726947784424,
          5.6962714195251465,
          4.688150882720947,
          3.168159008026123,
          5.7056708335876465,
          6.104683876037598,
          4.39144229888916,
          5.331440448760986,
          5.621163368225098,
          8.193685531616211,
          7.087724685668945,
          5.463446617126465,
          6.810585021972656,
          6.278223991394043,
          7.265357971191406,
          8.065897941589355,
          5.168949604034424,
          4.565002918243408,
          3.571166753768921,
          5.831482887268066,
          6.765139102935791,
          5.591422080993652,
          6.4830827713012695,
          -5.659329414367676,
          -8.322440147399902,
          -8.222764015197754,
          -8.229388236999512,
          -8.114764213562012,
          -7.671438694000244,
          -8.367594718933105,
          -0.9835497736930847,
          -3.331386089324951,
          -0.9064096212387085,
          0.01276340987533331,
          5.514490604400635,
          6.064467430114746,
          -1.9859092235565186,
          5.747373104095459,
          -3.4166259765625,
          -0.5781171917915344,
          22.396833419799805,
          20.461471557617188,
          20.550628662109375,
          21.728302001953125,
          22.108806610107422,
          22.78319549560547,
          21.370359420776367,
          6.762903690338135,
          -8.850750923156738,
          -15.348928451538086,
          22.38166618347168,
          20.94718360900879,
          21.494049072265625,
          20.999923706054688,
          20.863590240478516,
          21.666114807128906,
          20.316463470458984,
          -7.387087345123291,
          -7.989762783050537,
          -16.109840393066406,
          -14.043570518493652,
          -14.516066551208496,
          -12.437500953674316,
          -9.08718490600586,
          -9.066241264343262,
          -16.201950073242188,
          -8.680520057678223,
          -8.47144603729248,
          -7.194940567016602,
          7.2942280769348145,
          -5.46604585647583,
          -4.86868953704834,
          -7.3224663734436035,
          -4.186909198760986,
          -4.774492263793945,
          -6.329904079437256,
          -6.313480377197266,
          -4.915315628051758,
          -5.42534875869751,
          -5.65609884262085,
          -4.587889671325684,
          -5.364126682281494,
          -6.793504238128662,
          -5.376962184906006,
          -7.463526248931885
         ],
         "y": [
          26.331958770751953,
          27.527896881103516,
          24.483810424804688,
          15.385376930236816,
          26.231321334838867,
          25.85042381286621,
          25.82324981689453,
          26.89295768737793,
          27.027175903320312,
          28.230127334594727,
          28.087873458862305,
          9.22314739227295,
          4.013251304626465,
          7.1179914474487305,
          9.688897132873535,
          6.691568851470947,
          2.139714479446411,
          2.7882187366485596,
          21.574968338012695,
          29.797836303710938,
          21.282487869262695,
          16.482667922973633,
          30.361743927001953,
          14.860156059265137,
          31.325864791870117,
          17.27487564086914,
          31.755002975463867,
          19.362241744995117,
          28.715518951416016,
          -6.273879528045654,
          -9.84870719909668,
          28.576923370361328,
          30.478160858154297,
          15.53452205657959,
          20.93876838684082,
          31.01422691345215,
          20.785181045532227,
          30.3121337890625,
          27.712556838989258,
          29.6461238861084,
          29.305158615112305,
          30.11345672607422,
          16.43109893798828,
          19.99098014831543,
          20.454668045043945,
          31.201745986938477,
          19.763771057128906,
          28.285400390625,
          19.603046417236328,
          15.70831298828125,
          15.891064643859863,
          17.056427001953125,
          19.848323822021484,
          16.9862003326416,
          31.66042709350586,
          15.393454551696777,
          29.516536712646484,
          16.52785873413086,
          20.318689346313477,
          19.2471923828125,
          30.43317985534668,
          7.598915100097656,
          8.035767555236816,
          27.811309814453125,
          4.487611293792725,
          6.513595104217529,
          4.066277503967285,
          6.857621192932129,
          4.546813011169434,
          7.971242427825928,
          7.372750282287598,
          4.6825480461120605,
          4.311380386352539,
          3.108398675918579,
          8.566701889038086,
          4.970578670501709,
          5.172595977783203,
          7.7919464111328125,
          3.5058467388153076,
          8.143241882324219,
          26.756372451782227,
          25.852256774902344,
          27.317920684814453,
          28.23780059814453,
          27.42940902709961,
          19.268430709838867,
          29.853271484375,
          26.3015193939209,
          30.801572799682617,
          26.48946762084961,
          24.69869041442871,
          28.378820419311523,
          27.28480339050293,
          16.067529678344727,
          31.087488174438477,
          24.42106819152832,
          25.5612735748291,
          25.590003967285156,
          29.948652267456055,
          27.550209045410156,
          16.60464859008789,
          29.910276412963867,
          26.24274253845215,
          29.723844528198242,
          28.4664363861084,
          26.94558334350586,
          29.56753158569336,
          25.213642120361328,
          26.83505630493164,
          31.0606689453125,
          20.801870346069336,
          15.370440483093262,
          14.765399932861328,
          15.096837997436523,
          -7.380371570587158,
          -10.92564868927002,
          -4.976993560791016,
          -6.21053409576416,
          -3.560204267501831,
          -3.3429126739501953,
          -7.190542221069336,
          -6.292784690856934,
          -7.624050140380859,
          15.762369155883789,
          -7.153382778167725,
          17.28301239013672,
          26.76605224609375,
          27.89850616455078,
          27.887371063232422,
          26.707622528076172,
          28.678333282470703,
          -4.619122505187988,
          -7.687520503997803,
          14.955883026123047,
          27.211790084838867,
          -0.3551384508609772,
          29.14252281188965,
          15.022348403930664,
          -5.005841255187988,
          -5.1619672775268555,
          -0.14923913776874542,
          -6.368305683135986,
          -16.98244857788086,
          -11.70730972290039,
          -10.924690246582031,
          15.54656982421875,
          16.296674728393555,
          15.690410614013672,
          -4.722484588623047,
          -4.718857288360596,
          -4.610101699829102,
          -0.2590729594230652,
          -9.260833740234375,
          -9.031486511230469,
          -9.19161605834961,
          -6.877602577209473,
          -8.064471244812012,
          -7.546261787414551,
          -8.75491714477539,
          -8.267830848693848,
          -8.07927417755127,
          -4.591613292694092,
          14.382467269897461,
          14.838438034057617,
          -9.834128379821777,
          -10.799219131469727,
          -5.539972305297852,
          -6.2528862953186035,
          -7.049882888793945,
          -5.885142803192139,
          -6.783478260040283,
          -6.394381523132324,
          -8.89720630645752,
          -18.870092391967773,
          -8.124143600463867,
          -13.936196327209473,
          -15.358237266540527,
          -12.90140151977539,
          -5.786507606506348,
          -4.3722028732299805,
          -16.022159576416016,
          -10.342951774597168,
          -9.070451736450195,
          -6.250918388366699,
          -6.373286724090576,
          -16.272560119628906,
          -16.281667709350586,
          -6.486597061157227,
          -8.431076049804688,
          -6.688538074493408,
          -6.252582550048828,
          -16.67963409423828,
          -3.3915905952453613,
          -4.543447971343994,
          19.266996383666992,
          18.28742218017578,
          19.43703269958496,
          -9.313680648803711,
          17.870973587036133,
          17.92235565185547,
          18.407554626464844,
          18.767398834228516,
          18.501955032348633,
          19.077091217041016,
          19.004505157470703,
          18.294652938842773,
          18.2497501373291,
          19.719486236572266,
          18.546422958374023,
          20.051971435546875,
          -10.297181129455566,
          -15.578900337219238,
          -17.155054092407227,
          -10.822162628173828,
          -4.633100509643555,
          -11.1583833694458,
          -9.808103561401367,
          -10.534345626831055,
          -7.168401718139648,
          -10.985679626464844,
          -9.194862365722656,
          -9.574233055114746,
          -9.003398895263672,
          -8.225102424621582,
          -9.615638732910156,
          -8.6162691116333,
          -8.052619934082031,
          -16.807144165039062,
          -11.67846393585205,
          -6.588702201843262,
          -8.595735549926758,
          -7.543852806091309,
          -5.773979187011719,
          -6.54872989654541,
          -5.079843044281006,
          17.24925422668457,
          17.6894474029541,
          16.640592575073242,
          20.53112030029297,
          19.54950523376465,
          19.135656356811523,
          -10.046127319335938,
          -7.889388561248779,
          -8.510540008544922,
          -6.571285724639893,
          -15.654169082641602,
          -7.777035236358643,
          -18.17012596130371,
          -14.132779121398926,
          -7.385544300079346,
          -14.013021469116211,
          -15.034802436828613,
          -17.700748443603516,
          -11.624702453613281,
          -9.709869384765625,
          -10.270090103149414,
          -17.26011085510254,
          -4.270801544189453,
          -4.143786430358887,
          -7.24525785446167,
          -12.412978172302246,
          -3.261683702468872,
          -10.696377754211426,
          -3.093348741531372,
          -2.8169023990631104,
          -6.869067192077637,
          -17.98809814453125,
          -9.396286010742188,
          -4.319324970245361,
          -6.092107772827148,
          -10.305231094360352,
          -10.756831169128418,
          -4.111471652984619,
          -4.614114284515381,
          -4.436801433563232,
          -16.521678924560547,
          -10.357990264892578,
          -2.914527416229248,
          -6.63044548034668,
          -15.334756851196289,
          -9.116655349731445,
          -6.251141548156738,
          -9.918900489807129,
          -6.974630832672119,
          -6.895360469818115,
          -5.540700435638428,
          -10.6012601852417,
          -10.757031440734863,
          -6.9685258865356445,
          -11.903548240661621,
          -9.835062026977539,
          -11.921055793762207,
          -17.202560424804688,
          -10.796046257019043,
          -7.548281669616699,
          -10.51303482055664,
          -4.130222797393799,
          -5.176471710205078,
          -7.35304069519043,
          -6.594911575317383,
          -11.177202224731445,
          -8.916794776916504,
          -8.397483825683594,
          -6.886039733886719,
          -17.378835678100586,
          -3.6666696071624756,
          -16.455184936523438,
          -7.548948287963867,
          -4.682422637939453,
          -3.4433834552764893,
          -18.03058624267578,
          -16.116193771362305,
          -6.416359901428223,
          -5.4883246421813965,
          -7.882546424865723,
          -8.22064208984375,
          -5.260125637054443,
          -8.790630340576172,
          -11.48412799835205,
          -5.225255966186523,
          -10.510383605957031,
          -11.114083290100098,
          -4.569698333740234,
          -16.562881469726562,
          -3.945559024810791,
          -2.9385263919830322,
          -10.242804527282715,
          -13.0707426071167,
          -12.07275104522705,
          -6.931748867034912,
          -2.1056487560272217,
          -2.9303882122039795,
          -15.459090232849121,
          -11.077216148376465,
          -11.18436336517334,
          -8.719348907470703,
          -3.6337835788726807,
          -2.2267889976501465,
          -7.158907413482666,
          -3.770907163619995,
          -4.090030193328857,
          -3.8606882095336914,
          -4.98477029800415,
          -8.639310836791992,
          -4.104405879974365,
          -8.08390998840332,
          -6.017996311187744,
          -7.211612224578857,
          -5.525167942047119,
          -14.194899559020996,
          -12.65579605102539,
          -15.425854682922363,
          -8.333243370056152,
          -12.805472373962402,
          -9.819476127624512,
          -15.417505264282227,
          -13.855785369873047,
          -4.146780014038086,
          -11.46210765838623,
          -3.519233465194702,
          -16.385520935058594,
          -12.631669998168945,
          -13.742033004760742,
          -9.616456031799316,
          -18.03738784790039,
          -7.786343097686768,
          -17.659366607666016,
          -3.9337143898010254,
          -5.960392475128174,
          -5.4334330558776855,
          -12.7210054397583,
          -10.363970756530762,
          -8.424856185913086,
          -11.760836601257324,
          -16.040996551513672,
          -11.120776176452637,
          -14.564024925231934,
          -15.999876976013184,
          -9.183963775634766,
          -9.351374626159668,
          -9.562568664550781,
          -16.837345123291016,
          -5.257440567016602,
          -5.568248271942139,
          -15.503072738647461,
          -12.145256996154785,
          -15.318164825439453,
          -12.930374145507812,
          -10.535402297973633,
          -13.070796966552734,
          -9.72587776184082,
          -11.852701187133789,
          -11.361578941345215,
          -13.308328628540039,
          -11.21950912475586,
          -12.900327682495117,
          -16.09754180908203,
          -13.448311805725098,
          -11.943455696105957,
          -7.709909915924072,
          -7.447844982147217,
          -15.449965476989746,
          -6.8140549659729,
          -8.960857391357422,
          -4.9972147941589355,
          -15.261608123779297,
          -11.565927505493164,
          -2.565380334854126,
          -16.910110473632812,
          -2.5094492435455322,
          -4.662561893463135,
          -6.841406345367432,
          -9.43019962310791,
          -3.0194003582000732,
          -6.700343608856201,
          -7.143983840942383,
          -4.940499782562256,
          -1.9977271556854248,
          -4.939002990722656,
          -2.2668888568878174,
          -6.0178751945495605,
          3.262251615524292,
          -13.141087532043457,
          6.680748462677002,
          3.906247854232788,
          4.548705101013184,
          7.8827338218688965,
          3.047900438308716,
          4.000025749206543,
          7.060204982757568,
          4.163790702819824,
          4.582321643829346,
          6.258011817932129,
          4.726216793060303,
          5.185069561004639,
          3.398787498474121,
          3.9295313358306885,
          5.9438652992248535,
          4.527485370635986,
          5.680324077606201,
          5.291590213775635,
          5.416994571685791,
          5.037727355957031,
          5.444496154785156,
          5.412056922912598,
          5.613617897033691,
          5.6131110191345215,
          4.420823097229004,
          5.016218185424805,
          -5.321498394012451,
          -3.5469396114349365,
          -1.9501619338989258,
          -2.757723569869995,
          -3.2174603939056396,
          -15.47784423828125,
          -4.4434919357299805,
          16.559669494628906,
          20.180953979492188,
          17.42363166809082,
          16.695579528808594,
          28.422895431518555,
          29.13364028930664,
          19.815452575683594,
          27.90290069580078,
          19.54859161376953,
          17.21645736694336,
          -9.844244956970215,
          -6.965057373046875,
          -6.049773693084717,
          -8.164925575256348,
          -4.444513320922852,
          -8.458978652954102,
          -5.083981513977051,
          27.47631072998047,
          -4.967628002166748,
          -6.676200866699219,
          -10.533512115478516,
          -5.485562801361084,
          -5.010849475860596,
          -5.552773475646973,
          -3.4411144256591797,
          -4.142861366271973,
          -6.80012321472168,
          -9.571946144104004,
          -9.818634033203125,
          -9.269219398498535,
          -6.708648204803467,
          -5.830927848815918,
          -5.85284948348999,
          -11.157726287841797,
          -16.54686737060547,
          -9.180020332336426,
          -9.996009826660156,
          -9.60771656036377,
          -9.624588012695312,
          26.24597930908203,
          -8.143025398254395,
          -7.022955894470215,
          -7.097604751586914,
          -7.496409893035889,
          -7.825758934020996,
          -8.463096618652344,
          -8.399170875549316,
          -8.085352897644043,
          -3.1733994483947754,
          -3.1638312339782715,
          -7.866908550262451,
          -8.473402976989746,
          -8.151890754699707,
          -8.387469291687012,
          -7.507291793823242
         ]
        }
       ],
       "layout": {
        "template": {
         "data": {
          "bar": [
           {
            "error_x": {
             "color": "#2a3f5f"
            },
            "error_y": {
             "color": "#2a3f5f"
            },
            "marker": {
             "line": {
              "color": "#E5ECF6",
              "width": 0.5
             },
             "pattern": {
              "fillmode": "overlay",
              "size": 10,
              "solidity": 0.2
             }
            },
            "type": "bar"
           }
          ],
          "barpolar": [
           {
            "marker": {
             "line": {
              "color": "#E5ECF6",
              "width": 0.5
             },
             "pattern": {
              "fillmode": "overlay",
              "size": 10,
              "solidity": 0.2
             }
            },
            "type": "barpolar"
           }
          ],
          "carpet": [
           {
            "aaxis": {
             "endlinecolor": "#2a3f5f",
             "gridcolor": "white",
             "linecolor": "white",
             "minorgridcolor": "white",
             "startlinecolor": "#2a3f5f"
            },
            "baxis": {
             "endlinecolor": "#2a3f5f",
             "gridcolor": "white",
             "linecolor": "white",
             "minorgridcolor": "white",
             "startlinecolor": "#2a3f5f"
            },
            "type": "carpet"
           }
          ],
          "choropleth": [
           {
            "colorbar": {
             "outlinewidth": 0,
             "ticks": ""
            },
            "type": "choropleth"
           }
          ],
          "contour": [
           {
            "colorbar": {
             "outlinewidth": 0,
             "ticks": ""
            },
            "colorscale": [
             [
              0,
              "#0d0887"
             ],
             [
              0.1111111111111111,
              "#46039f"
             ],
             [
              0.2222222222222222,
              "#7201a8"
             ],
             [
              0.3333333333333333,
              "#9c179e"
             ],
             [
              0.4444444444444444,
              "#bd3786"
             ],
             [
              0.5555555555555556,
              "#d8576b"
             ],
             [
              0.6666666666666666,
              "#ed7953"
             ],
             [
              0.7777777777777778,
              "#fb9f3a"
             ],
             [
              0.8888888888888888,
              "#fdca26"
             ],
             [
              1,
              "#f0f921"
             ]
            ],
            "type": "contour"
           }
          ],
          "contourcarpet": [
           {
            "colorbar": {
             "outlinewidth": 0,
             "ticks": ""
            },
            "type": "contourcarpet"
           }
          ],
          "heatmap": [
           {
            "colorbar": {
             "outlinewidth": 0,
             "ticks": ""
            },
            "colorscale": [
             [
              0,
              "#0d0887"
             ],
             [
              0.1111111111111111,
              "#46039f"
             ],
             [
              0.2222222222222222,
              "#7201a8"
             ],
             [
              0.3333333333333333,
              "#9c179e"
             ],
             [
              0.4444444444444444,
              "#bd3786"
             ],
             [
              0.5555555555555556,
              "#d8576b"
             ],
             [
              0.6666666666666666,
              "#ed7953"
             ],
             [
              0.7777777777777778,
              "#fb9f3a"
             ],
             [
              0.8888888888888888,
              "#fdca26"
             ],
             [
              1,
              "#f0f921"
             ]
            ],
            "type": "heatmap"
           }
          ],
          "heatmapgl": [
           {
            "colorbar": {
             "outlinewidth": 0,
             "ticks": ""
            },
            "colorscale": [
             [
              0,
              "#0d0887"
             ],
             [
              0.1111111111111111,
              "#46039f"
             ],
             [
              0.2222222222222222,
              "#7201a8"
             ],
             [
              0.3333333333333333,
              "#9c179e"
             ],
             [
              0.4444444444444444,
              "#bd3786"
             ],
             [
              0.5555555555555556,
              "#d8576b"
             ],
             [
              0.6666666666666666,
              "#ed7953"
             ],
             [
              0.7777777777777778,
              "#fb9f3a"
             ],
             [
              0.8888888888888888,
              "#fdca26"
             ],
             [
              1,
              "#f0f921"
             ]
            ],
            "type": "heatmapgl"
           }
          ],
          "histogram": [
           {
            "marker": {
             "pattern": {
              "fillmode": "overlay",
              "size": 10,
              "solidity": 0.2
             }
            },
            "type": "histogram"
           }
          ],
          "histogram2d": [
           {
            "colorbar": {
             "outlinewidth": 0,
             "ticks": ""
            },
            "colorscale": [
             [
              0,
              "#0d0887"
             ],
             [
              0.1111111111111111,
              "#46039f"
             ],
             [
              0.2222222222222222,
              "#7201a8"
             ],
             [
              0.3333333333333333,
              "#9c179e"
             ],
             [
              0.4444444444444444,
              "#bd3786"
             ],
             [
              0.5555555555555556,
              "#d8576b"
             ],
             [
              0.6666666666666666,
              "#ed7953"
             ],
             [
              0.7777777777777778,
              "#fb9f3a"
             ],
             [
              0.8888888888888888,
              "#fdca26"
             ],
             [
              1,
              "#f0f921"
             ]
            ],
            "type": "histogram2d"
           }
          ],
          "histogram2dcontour": [
           {
            "colorbar": {
             "outlinewidth": 0,
             "ticks": ""
            },
            "colorscale": [
             [
              0,
              "#0d0887"
             ],
             [
              0.1111111111111111,
              "#46039f"
             ],
             [
              0.2222222222222222,
              "#7201a8"
             ],
             [
              0.3333333333333333,
              "#9c179e"
             ],
             [
              0.4444444444444444,
              "#bd3786"
             ],
             [
              0.5555555555555556,
              "#d8576b"
             ],
             [
              0.6666666666666666,
              "#ed7953"
             ],
             [
              0.7777777777777778,
              "#fb9f3a"
             ],
             [
              0.8888888888888888,
              "#fdca26"
             ],
             [
              1,
              "#f0f921"
             ]
            ],
            "type": "histogram2dcontour"
           }
          ],
          "mesh3d": [
           {
            "colorbar": {
             "outlinewidth": 0,
             "ticks": ""
            },
            "type": "mesh3d"
           }
          ],
          "parcoords": [
           {
            "line": {
             "colorbar": {
              "outlinewidth": 0,
              "ticks": ""
             }
            },
            "type": "parcoords"
           }
          ],
          "pie": [
           {
            "automargin": true,
            "type": "pie"
           }
          ],
          "scatter": [
           {
            "fillpattern": {
             "fillmode": "overlay",
             "size": 10,
             "solidity": 0.2
            },
            "type": "scatter"
           }
          ],
          "scatter3d": [
           {
            "line": {
             "colorbar": {
              "outlinewidth": 0,
              "ticks": ""
             }
            },
            "marker": {
             "colorbar": {
              "outlinewidth": 0,
              "ticks": ""
             }
            },
            "type": "scatter3d"
           }
          ],
          "scattercarpet": [
           {
            "marker": {
             "colorbar": {
              "outlinewidth": 0,
              "ticks": ""
             }
            },
            "type": "scattercarpet"
           }
          ],
          "scattergeo": [
           {
            "marker": {
             "colorbar": {
              "outlinewidth": 0,
              "ticks": ""
             }
            },
            "type": "scattergeo"
           }
          ],
          "scattergl": [
           {
            "marker": {
             "colorbar": {
              "outlinewidth": 0,
              "ticks": ""
             }
            },
            "type": "scattergl"
           }
          ],
          "scattermapbox": [
           {
            "marker": {
             "colorbar": {
              "outlinewidth": 0,
              "ticks": ""
             }
            },
            "type": "scattermapbox"
           }
          ],
          "scatterpolar": [
           {
            "marker": {
             "colorbar": {
              "outlinewidth": 0,
              "ticks": ""
             }
            },
            "type": "scatterpolar"
           }
          ],
          "scatterpolargl": [
           {
            "marker": {
             "colorbar": {
              "outlinewidth": 0,
              "ticks": ""
             }
            },
            "type": "scatterpolargl"
           }
          ],
          "scatterternary": [
           {
            "marker": {
             "colorbar": {
              "outlinewidth": 0,
              "ticks": ""
             }
            },
            "type": "scatterternary"
           }
          ],
          "surface": [
           {
            "colorbar": {
             "outlinewidth": 0,
             "ticks": ""
            },
            "colorscale": [
             [
              0,
              "#0d0887"
             ],
             [
              0.1111111111111111,
              "#46039f"
             ],
             [
              0.2222222222222222,
              "#7201a8"
             ],
             [
              0.3333333333333333,
              "#9c179e"
             ],
             [
              0.4444444444444444,
              "#bd3786"
             ],
             [
              0.5555555555555556,
              "#d8576b"
             ],
             [
              0.6666666666666666,
              "#ed7953"
             ],
             [
              0.7777777777777778,
              "#fb9f3a"
             ],
             [
              0.8888888888888888,
              "#fdca26"
             ],
             [
              1,
              "#f0f921"
             ]
            ],
            "type": "surface"
           }
          ],
          "table": [
           {
            "cells": {
             "fill": {
              "color": "#EBF0F8"
             },
             "line": {
              "color": "white"
             }
            },
            "header": {
             "fill": {
              "color": "#C8D4E3"
             },
             "line": {
              "color": "white"
             }
            },
            "type": "table"
           }
          ]
         },
         "layout": {
          "annotationdefaults": {
           "arrowcolor": "#2a3f5f",
           "arrowhead": 0,
           "arrowwidth": 1
          },
          "autotypenumbers": "strict",
          "coloraxis": {
           "colorbar": {
            "outlinewidth": 0,
            "ticks": ""
           }
          },
          "colorscale": {
           "diverging": [
            [
             0,
             "#8e0152"
            ],
            [
             0.1,
             "#c51b7d"
            ],
            [
             0.2,
             "#de77ae"
            ],
            [
             0.3,
             "#f1b6da"
            ],
            [
             0.4,
             "#fde0ef"
            ],
            [
             0.5,
             "#f7f7f7"
            ],
            [
             0.6,
             "#e6f5d0"
            ],
            [
             0.7,
             "#b8e186"
            ],
            [
             0.8,
             "#7fbc41"
            ],
            [
             0.9,
             "#4d9221"
            ],
            [
             1,
             "#276419"
            ]
           ],
           "sequential": [
            [
             0,
             "#0d0887"
            ],
            [
             0.1111111111111111,
             "#46039f"
            ],
            [
             0.2222222222222222,
             "#7201a8"
            ],
            [
             0.3333333333333333,
             "#9c179e"
            ],
            [
             0.4444444444444444,
             "#bd3786"
            ],
            [
             0.5555555555555556,
             "#d8576b"
            ],
            [
             0.6666666666666666,
             "#ed7953"
            ],
            [
             0.7777777777777778,
             "#fb9f3a"
            ],
            [
             0.8888888888888888,
             "#fdca26"
            ],
            [
             1,
             "#f0f921"
            ]
           ],
           "sequentialminus": [
            [
             0,
             "#0d0887"
            ],
            [
             0.1111111111111111,
             "#46039f"
            ],
            [
             0.2222222222222222,
             "#7201a8"
            ],
            [
             0.3333333333333333,
             "#9c179e"
            ],
            [
             0.4444444444444444,
             "#bd3786"
            ],
            [
             0.5555555555555556,
             "#d8576b"
            ],
            [
             0.6666666666666666,
             "#ed7953"
            ],
            [
             0.7777777777777778,
             "#fb9f3a"
            ],
            [
             0.8888888888888888,
             "#fdca26"
            ],
            [
             1,
             "#f0f921"
            ]
           ]
          },
          "colorway": [
           "#636efa",
           "#EF553B",
           "#00cc96",
           "#ab63fa",
           "#FFA15A",
           "#19d3f3",
           "#FF6692",
           "#B6E880",
           "#FF97FF",
           "#FECB52"
          ],
          "font": {
           "color": "#2a3f5f"
          },
          "geo": {
           "bgcolor": "white",
           "lakecolor": "white",
           "landcolor": "#E5ECF6",
           "showlakes": true,
           "showland": true,
           "subunitcolor": "white"
          },
          "hoverlabel": {
           "align": "left"
          },
          "hovermode": "closest",
          "mapbox": {
           "style": "light"
          },
          "paper_bgcolor": "white",
          "plot_bgcolor": "#E5ECF6",
          "polar": {
           "angularaxis": {
            "gridcolor": "white",
            "linecolor": "white",
            "ticks": ""
           },
           "bgcolor": "#E5ECF6",
           "radialaxis": {
            "gridcolor": "white",
            "linecolor": "white",
            "ticks": ""
           }
          },
          "scene": {
           "xaxis": {
            "backgroundcolor": "#E5ECF6",
            "gridcolor": "white",
            "gridwidth": 2,
            "linecolor": "white",
            "showbackground": true,
            "ticks": "",
            "zerolinecolor": "white"
           },
           "yaxis": {
            "backgroundcolor": "#E5ECF6",
            "gridcolor": "white",
            "gridwidth": 2,
            "linecolor": "white",
            "showbackground": true,
            "ticks": "",
            "zerolinecolor": "white"
           },
           "zaxis": {
            "backgroundcolor": "#E5ECF6",
            "gridcolor": "white",
            "gridwidth": 2,
            "linecolor": "white",
            "showbackground": true,
            "ticks": "",
            "zerolinecolor": "white"
           }
          },
          "shapedefaults": {
           "line": {
            "color": "#2a3f5f"
           }
          },
          "ternary": {
           "aaxis": {
            "gridcolor": "white",
            "linecolor": "white",
            "ticks": ""
           },
           "baxis": {
            "gridcolor": "white",
            "linecolor": "white",
            "ticks": ""
           },
           "bgcolor": "#E5ECF6",
           "caxis": {
            "gridcolor": "white",
            "linecolor": "white",
            "ticks": ""
           }
          },
          "title": {
           "x": 0.05
          },
          "xaxis": {
           "automargin": true,
           "gridcolor": "white",
           "linecolor": "white",
           "ticks": "",
           "title": {
            "standoff": 15
           },
           "zerolinecolor": "white",
           "zerolinewidth": 2
          },
          "yaxis": {
           "automargin": true,
           "gridcolor": "white",
           "linecolor": "white",
           "ticks": "",
           "title": {
            "standoff": 15
           },
           "zerolinecolor": "white",
           "zerolinewidth": 2
          }
         }
        }
       }
      }
     },
     "metadata": {},
     "output_type": "display_data"
    }
   ],
   "source": [
    "fig = go.Figure()\n",
    "fig.add_traces(\n",
    "    go.Scatter(\n",
    "        x=tsne_redux[:,0],\n",
    "       y=tsne_redux[:,1],\n",
    "       mode=\"markers\",\n",
    "       marker = {\n",
    "           \"color\":kmeans.labels_\n",
    "       }\n",
    "    )\n",
    ")\n",
    "fig.show()\n"
   ]
  },
  {
   "cell_type": "code",
   "execution_count": 82,
   "metadata": {},
   "outputs": [
    {
     "name": "stdout",
     "output_type": "stream",
     "text": [
      "(511, 2)\n"
     ]
    },
    {
     "data": {
      "application/vnd.plotly.v1+json": {
       "config": {
        "plotlyServerURL": "https://plot.ly"
       },
       "data": [
        {
         "marker": {
          "color": [
           1,
           1,
           1,
           4,
           1,
           1,
           1,
           1,
           1,
           1,
           1,
           2,
           2,
           2,
           2,
           2,
           2,
           2,
           4,
           1,
           4,
           4,
           1,
           4,
           1,
           4,
           1,
           4,
           1,
           0,
           0,
           1,
           1,
           4,
           4,
           1,
           4,
           1,
           1,
           1,
           1,
           1,
           4,
           4,
           4,
           1,
           4,
           1,
           4,
           4,
           4,
           4,
           4,
           4,
           1,
           4,
           1,
           4,
           4,
           4,
           1,
           2,
           2,
           1,
           2,
           2,
           2,
           2,
           2,
           2,
           2,
           2,
           2,
           2,
           2,
           2,
           2,
           2,
           2,
           2,
           1,
           1,
           1,
           1,
           1,
           4,
           1,
           1,
           1,
           1,
           1,
           1,
           1,
           4,
           1,
           1,
           1,
           1,
           1,
           1,
           4,
           1,
           1,
           1,
           1,
           1,
           1,
           1,
           1,
           1,
           4,
           4,
           4,
           4,
           0,
           0,
           0,
           0,
           0,
           0,
           0,
           0,
           0,
           4,
           0,
           4,
           1,
           1,
           1,
           1,
           1,
           0,
           0,
           4,
           1,
           3,
           1,
           4,
           0,
           0,
           3,
           3,
           3,
           3,
           3,
           4,
           4,
           4,
           0,
           0,
           0,
           3,
           0,
           0,
           0,
           0,
           0,
           0,
           0,
           3,
           3,
           0,
           4,
           4,
           3,
           3,
           0,
           0,
           0,
           0,
           0,
           0,
           0,
           3,
           3,
           3,
           3,
           3,
           3,
           3,
           3,
           3,
           0,
           0,
           0,
           3,
           3,
           3,
           0,
           0,
           0,
           3,
           3,
           3,
           4,
           4,
           4,
           0,
           4,
           4,
           4,
           4,
           4,
           4,
           4,
           4,
           4,
           4,
           4,
           4,
           0,
           3,
           3,
           0,
           0,
           0,
           0,
           0,
           0,
           0,
           0,
           0,
           0,
           0,
           0,
           0,
           0,
           3,
           3,
           3,
           0,
           0,
           0,
           0,
           3,
           4,
           4,
           4,
           4,
           4,
           4,
           0,
           0,
           0,
           3,
           3,
           3,
           3,
           3,
           3,
           3,
           3,
           3,
           3,
           3,
           3,
           3,
           3,
           3,
           3,
           3,
           3,
           3,
           3,
           3,
           3,
           3,
           3,
           3,
           3,
           3,
           3,
           3,
           3,
           3,
           3,
           3,
           3,
           3,
           3,
           3,
           3,
           3,
           3,
           3,
           3,
           3,
           3,
           3,
           3,
           3,
           3,
           3,
           3,
           3,
           3,
           0,
           0,
           0,
           0,
           0,
           0,
           0,
           0,
           3,
           3,
           3,
           3,
           3,
           3,
           3,
           3,
           3,
           3,
           3,
           0,
           0,
           0,
           0,
           0,
           0,
           0,
           0,
           3,
           3,
           3,
           3,
           3,
           3,
           3,
           3,
           3,
           3,
           3,
           3,
           0,
           3,
           3,
           0,
           0,
           0,
           0,
           0,
           0,
           0,
           0,
           0,
           3,
           3,
           3,
           3,
           3,
           3,
           3,
           3,
           3,
           3,
           3,
           3,
           3,
           3,
           3,
           3,
           3,
           3,
           3,
           3,
           3,
           3,
           3,
           3,
           3,
           3,
           3,
           3,
           3,
           3,
           3,
           3,
           3,
           3,
           3,
           3,
           3,
           3,
           3,
           3,
           3,
           3,
           3,
           3,
           3,
           3,
           3,
           3,
           3,
           3,
           3,
           3,
           0,
           0,
           3,
           0,
           0,
           0,
           3,
           3,
           3,
           3,
           3,
           3,
           3,
           3,
           3,
           3,
           3,
           3,
           3,
           3,
           3,
           3,
           2,
           3,
           2,
           2,
           2,
           2,
           2,
           2,
           2,
           2,
           2,
           2,
           2,
           2,
           2,
           2,
           2,
           2,
           2,
           2,
           2,
           2,
           2,
           2,
           2,
           2,
           2,
           2,
           3,
           3,
           3,
           3,
           3,
           3,
           3,
           4,
           4,
           4,
           4,
           1,
           1,
           4,
           1,
           4,
           4,
           0,
           0,
           0,
           0,
           0,
           0,
           0,
           1,
           3,
           3,
           0,
           0,
           0,
           0,
           0,
           0,
           0,
           3,
           3,
           3,
           3,
           3,
           3,
           3,
           3,
           3,
           3,
           3,
           3,
           1,
           3,
           3,
           3,
           3,
           3,
           3,
           3,
           3,
           3,
           3,
           3,
           3,
           3,
           3,
           3
          ]
         },
         "mode": "markers",
         "type": "scatter",
         "x": [
          194.2075072866531,
          -255.99439770847795,
          -4617.043751862616,
          -10795.570529995035,
          845.6396860570504,
          -479.85800891155634,
          -4783.268359792611,
          16267.612564229685,
          6081.403006985875,
          4134.384175035656,
          1172.2399904138192,
          34410.134432514504,
          44366.90528668381,
          43887.658488474866,
          18534.89759443421,
          38134.21931095076,
          34422.98461057338,
          46956.66195006132,
          -15341.471024249786,
          -7970.4676243682225,
          -12085.823024151667,
          -9448.245473202089,
          -5600.073392262997,
          -8747.676635119267,
          -8211.75524863103,
          -8052.3119138696275,
          -12659.3274510729,
          -7730.362467037601,
          1764.0823697874969,
          3126.801977539,
          -6454.397983328169,
          2487.138253726395,
          -1691.2848300571984,
          -7422.906568265927,
          -11725.919474918068,
          -6223.313471812741,
          -11482.975635034205,
          4126.694418226888,
          -1346.8211164375966,
          -2142.3795785747375,
          -1350.4336161260605,
          -6884.091563237457,
          -8592.851467133252,
          -8656.220738516555,
          -10797.24713746956,
          -5865.5604072468905,
          -10042.241708445825,
          6879.292394280547,
          -10197.166847363886,
          -5957.263504772112,
          -9076.707781232812,
          -4582.525828768623,
          -8981.187705332544,
          -9225.225891727929,
          -9914.985113485194,
          544.6660149954397,
          5797.091126535627,
          -6585.295380464637,
          -11694.057212350015,
          -9489.210496541209,
          -8996.396455522521,
          23131.810959058108,
          14958.63198091052,
          -7566.4999311085385,
          48095.78870475589,
          38564.919790742824,
          59043.82084058825,
          22048.230911004415,
          27542.39166060366,
          24593.902816158807,
          32011.631901013505,
          34550.85938905962,
          41182.954133071275,
          41770.076478161805,
          6336.586051343641,
          -8329.576410260477,
          25405.144025236936,
          26274.114746109615,
          39456.75431148608,
          11091.832074000893,
          -7836.747580957199,
          1146.0364668089335,
          -4780.266493601967,
          -8232.080501509621,
          -6899.16832836987,
          -8356.504836071364,
          -6031.214249353849,
          -17012.70986433614,
          -11498.799480202439,
          -144.49000835692536,
          -2885.5191482704936,
          -6343.198965887474,
          -5894.295600613772,
          -6819.310220680975,
          -9451.584778830524,
          -6014.471974471249,
          -2238.0221928539904,
          -2333.011974061453,
          -14455.936250794835,
          -3925.770491661341,
          -7535.862846952433,
          -3624.1572492375785,
          -17525.265038926205,
          -9859.384411781342,
          -6356.30941731718,
          -9484.749529131675,
          -6601.838985131798,
          -6441.979523042967,
          -17660.419487163825,
          -4985.097093814907,
          -13302.634690079944,
          -11035.37333332517,
          -8846.590910981846,
          -4910.796071645615,
          -4888.064709227816,
          -12289.345841047101,
          4679.7628207929065,
          2671.4400138237556,
          1629.025712852563,
          3593.9169879049214,
          -13700.99295601692,
          3706.340199574851,
          4183.250037243116,
          -8465.270090082142,
          -2719.610354829355,
          -12655.508770130307,
          8048.684420829424,
          -2494.697133739191,
          -4866.061462698116,
          -378.2053164128117,
          -892.3276518555452,
          13224.365318192853,
          -7522.731293664332,
          -10704.792399257787,
          -2607.6658698311235,
          -5392.669842023293,
          6019.613547325806,
          -8815.459636112731,
          13430.085593602389,
          -1371.1583644638013,
          4612.208679402652,
          -951.3023972595745,
          -11586.67507890518,
          -4080.4317075732342,
          80.81798692348974,
          -7286.922121004132,
          -7404.702185465757,
          -11057.5132532237,
          5011.711454465851,
          -605.8064970366923,
          3827.6227645958843,
          -7977.354434515577,
          1217.0953438171082,
          -845.8235780302193,
          -4132.282335091264,
          -6676.4808771453345,
          483.96700540293267,
          5344.130713294162,
          -2094.020214317677,
          -470.1025719360942,
          308.77411672321927,
          11018.813401690973,
          -432.84299369307047,
          1466.1373200328987,
          953.8203752391697,
          -4198.580124558593,
          4337.450146711326,
          2764.98169563029,
          3238.7077968768835,
          -4795.197956522153,
          -1013.6022009502744,
          -8876.372609859387,
          -7192.9857173292485,
          -6518.437990752974,
          -1317.3055243154674,
          -3428.7612999341936,
          -8001.790450512494,
          757.6055765613025,
          -712.925369020422,
          -15531.085280518117,
          -12488.748305727218,
          -2688.7205586433793,
          4746.412838487962,
          3187.7784790434175,
          -2495.908032687838,
          -6149.529133337376,
          -2946.574311050124,
          -2100.2000311834668,
          -1120.5042035787662,
          7310.7094977633715,
          -3050.623347093966,
          -5766.138836523213,
          -14804.656778599021,
          3317.394610176961,
          -12879.506979466714,
          -8969.764073970204,
          -13296.398470220098,
          -3319.7818043425373,
          -12664.141527960988,
          -14444.38495600708,
          -16044.375040521129,
          -12992.985617791423,
          -12503.342726996887,
          -11195.751809200872,
          -6962.987032234046,
          -12007.916693602598,
          -9055.83611736125,
          -14851.51822686475,
          -14593.483988033082,
          -13176.805496815428,
          -8056.7673036670085,
          -5045.178800613158,
          -9273.514831599532,
          -5941.989568306668,
          811.3743934444254,
          -6665.254980453366,
          -5783.187317527661,
          -1264.5906709638994,
          -3567.4254262766567,
          -7729.257034391966,
          -5886.475009537443,
          -6489.264443008672,
          -2140.820778481359,
          -3478.2057366206564,
          1922.7538205258345,
          1850.6593592289744,
          -354.0104960094085,
          -7278.9029026951985,
          -7523.139758469474,
          -948.8402434752892,
          -6193.182850927786,
          -5839.72389602429,
          953.1589897741183,
          7023.703469784301,
          -6757.366829935675,
          -10781.338227800214,
          -9071.41869802884,
          -10146.193327743564,
          -14733.410562149296,
          -10772.566820329495,
          -13378.278322533717,
          -3929.644834623166,
          1789.4510814198286,
          10198.22131464822,
          3972.954322679401,
          -7682.74255171956,
          5265.0170304295125,
          -5740.475747838432,
          -10662.81705068559,
          -10337.628358545999,
          -9536.69471829944,
          -9721.036513469215,
          -9064.418238098742,
          -5627.762618040808,
          -5295.9338888820175,
          -7522.2462622306875,
          -4214.098983826191,
          -2404.716471934672,
          -4810.4232480974515,
          -5838.860203408386,
          -4742.720668253149,
          40.846652249087334,
          -6615.042153342621,
          -1396.2377460153366,
          -2530.3274014478666,
          -1155.581297201013,
          -6659.317013581107,
          3100.0748021685736,
          -2857.7439768297195,
          -2837.390600633335,
          -9124.954585019692,
          -4653.977571758713,
          -2236.1189865884226,
          -3759.8863087653344,
          -2023.4612973591134,
          -9522.923534506685,
          -8416.744905810077,
          -5072.397605151877,
          -4991.203447151651,
          -8626.024372776432,
          -7971.174128217164,
          -214.24573153614872,
          -6560.492582545175,
          -3866.828272020495,
          -6477.8927200340795,
          -8321.951935133031,
          -8914.818530733653,
          -7248.51155701323,
          -4504.746128195234,
          -3309.1545580028537,
          -2426.6855729319705,
          -7401.776320076015,
          -15303.437590679243,
          -7877.754599159648,
          -1953.5717076185767,
          -321.5418644037549,
          611.8007202181695,
          -17361.616464424525,
          -4461.206649247496,
          -1876.890632201788,
          -9788.701252972354,
          -2791.9450665414665,
          -2181.965820172743,
          -509.73168242716457,
          -7059.320149290095,
          4620.910143054339,
          -13562.282642765424,
          1740.268919841158,
          -3506.9142406341803,
          2171.01459909856,
          -9176.781432566113,
          -13184.855934642912,
          -1070.3499571439725,
          463.7121100978192,
          -446.9634681286175,
          5683.372499092867,
          3604.3985638955323,
          4332.091130114159,
          -9082.146328456332,
          -13926.788308652016,
          -7579.420858836683,
          -5070.881830810138,
          9851.866933114008,
          -7012.6308114459525,
          -15686.07131334162,
          -19274.51402699545,
          -4236.549877243223,
          -7750.723853256521,
          -5311.520093780883,
          1595.8228993422183,
          320.69194003657776,
          -3126.634716070072,
          -8489.100804710873,
          -5278.722648628449,
          -5130.514046294306,
          1938.8105239723536,
          -5092.179585451305,
          11589.797323813915,
          2386.6706177095098,
          12428.895500993332,
          16833.03775511952,
          15890.193342659568,
          5176.750594383271,
          -359.89049357496924,
          9194.76717963945,
          762.225413174715,
          10835.906590199322,
          -1815.2826617517444,
          7361.110643128256,
          -1970.3770248829874,
          -7380.587960640348,
          -8045.164144095257,
          7217.192952226082,
          3368.4836992032447,
          833.2731470660344,
          -6424.367706551349,
          -2759.7969207569963,
          807.8317393975983,
          1480.11723387782,
          -2957.794154275757,
          -4768.815895285156,
          -4953.314995904528,
          -8880.477755589767,
          -2052.8280509264537,
          -9567.546974946343,
          3618.334334375919,
          -8316.01595772892,
          115.7017054248817,
          -2815.070404307498,
          701.2655092619672,
          -7107.113362647012,
          -4983.651565774371,
          184.3813842101455,
          -2411.1387208235437,
          -14630.075522705261,
          -860.4186208010016,
          -3235.0598557400904,
          -9139.013826701716,
          139.46994665045438,
          -6089.68605759409,
          1948.7931327819824,
          -10552.816687646855,
          140.8452292220873,
          -15094.367465586354,
          -8278.263153422782,
          -5872.687117135011,
          -10052.657068167258,
          -8516.257174352933,
          -1922.7903144850586,
          -11995.916237666906,
          -2576.245644317424,
          -5889.7957286765095,
          -6347.549846743686,
          -4601.890036156382,
          -5537.337017863977,
          -8014.349116046086,
          -9655.383758444646,
          -6694.845511180315,
          -3761.5089839402685,
          1228.333665672763,
          -7591.362513982789,
          -13745.631128264546,
          -1889.3312438623477,
          3955.259630638159,
          3473.6957077148727,
          -898.9460145652466,
          -6456.657096276478,
          -196.73908270134882,
          -10474.909344039545,
          1106.9741763568225,
          4357.090315886315,
          549.5105883828548,
          -3649.7086285124583,
          2572.18240565973,
          2961.356138940726,
          4298.965418443722,
          -198.6414677665827,
          2820.16783648916,
          12186.763279121596,
          3126.236335785311,
          13234.451910855563,
          19096.835129141382,
          -5358.290089183963,
          34757.95337191706,
          39603.4246185236,
          39396.50473538468,
          9045.727315596288,
          46737.71696789059,
          43973.8257147785,
          22052.149262153875,
          50145.008191569206,
          39635.410489981485,
          27123.362336094873,
          46897.89132234491,
          27744.11001560985,
          16245.484727326853,
          45843.343636895515,
          36152.903453382554,
          27904.394874640646,
          33525.17930419347,
          49007.91509292468,
          32474.218128399316,
          31942.17515311629,
          21117.23948355218,
          29835.19276157825,
          32099.54425308399,
          30718.396551382786,
          34870.96814778968,
          34400.6043794529,
          -771.5262479820731,
          5905.0785278113,
          -5817.201187774139,
          5417.062366605953,
          -2817.9746079692695,
          -2176.770572019457,
          -12284.47449042526,
          -7923.354177373675,
          -14041.661064945029,
          -9782.18742005135,
          -10098.25500457987,
          -1004.248679949303,
          -5259.95124540418,
          -8461.809578187609,
          -539.7497045365038,
          -10679.32542009004,
          -11254.118179299585,
          -9991.480345041338,
          4658.050942484979,
          -6394.800639513247,
          -488.94307961302275,
          14811.07412442911,
          -2956.6938381536443,
          2731.7119542837127,
          -15449.680726698194,
          1281.905177352709,
          9502.517107406335,
          -2368.0137199870896,
          4531.653752533944,
          3419.466140411899,
          3874.470371105564,
          3934.0837347521033,
          3681.6541639410293,
          -1702.5222252443734,
          -1721.2450735310667,
          -3645.090429600153,
          2824.546131673525,
          6176.9008586978725,
          870.8102311872782,
          -4209.1621900314085,
          524.3218017599814,
          -9647.265819270428,
          249.82493281173942,
          -2873.8697346470403,
          -675.2332846678026,
          -1535.4719217031795,
          -1969.4594008564675,
          1538.7529708815937,
          -1390.681717362197,
          2568.943611706076,
          2792.9475886053547,
          5537.128535972009,
          -4269.021148205502,
          -3241.424321342966,
          -815.2875105060579,
          10677.217548781202,
          2870.2220601543786,
          -1954.1808152534893,
          -1925.2245488180747,
          -2597.3959387392497,
          482.1600843963847,
          2927.6740620917867
         ],
         "y": [
          -11143.983280417466,
          -8630.888665630813,
          -10733.803251337531,
          -7998.353953989614,
          -11689.878238447707,
          -10469.052763352523,
          -12954.719714104454,
          -12183.826451906109,
          -12691.833864241633,
          -10756.158674312139,
          -12127.306443403215,
          -5688.924541784866,
          -3899.13466964759,
          -4087.918669500634,
          -7490.8707370318325,
          -4894.601570137374,
          -4687.459131639113,
          -4347.66544771616,
          -10847.976382322331,
          -13770.233653146806,
          -13848.480505354266,
          -8805.960126791586,
          -14078.995060352974,
          -6588.994977942789,
          -13200.390239959019,
          -6993.8318797447255,
          -13067.956629639875,
          -11252.645166630226,
          -14908.799955964663,
          13401.151135785418,
          5730.112445247238,
          -13816.310167052296,
          -12402.466655080058,
          -8190.988051010997,
          -11247.949830073952,
          -13571.550987903574,
          -9971.993520505685,
          -12300.65462344102,
          -11004.586722695722,
          -13797.57810198758,
          -11337.235854379824,
          -13951.465357353369,
          -8897.160247719954,
          -8730.941947452906,
          -10229.627818318126,
          -15265.740715693471,
          -11998.45994014021,
          -12885.919260690285,
          -13292.166380819432,
          -8536.716786844787,
          -8285.084525126846,
          -8797.020800959015,
          -10668.704462723748,
          -9310.07532176288,
          -14512.268942674335,
          -12133.672847978063,
          -13368.470753214757,
          -7702.831250295439,
          -9806.867672732955,
          -9454.665329999052,
          -12088.448751065634,
          -6966.562813453736,
          -8683.194782129327,
          -10929.7175730185,
          -4344.294538590102,
          -5933.749707473142,
          -2010.043087168251,
          -6823.252240683534,
          -5953.031888922447,
          -6756.359340003709,
          -6281.7179040710425,
          -4728.454684373598,
          -4262.216956849587,
          -5269.527443696482,
          -10079.581613249675,
          -13512.184943769656,
          -6513.44231532986,
          -5835.877386534652,
          -4844.835559364147,
          -8364.48747945737,
          -12165.935687698326,
          -12458.193483523133,
          -11561.082354147979,
          -14977.448109578005,
          -12543.481076776785,
          -9898.475685281825,
          -11358.123810486326,
          -15782.256718970166,
          -14222.856679761608,
          -13088.885479939376,
          -12583.384059726064,
          -10089.27103565419,
          -10988.175305043522,
          -8716.690066189187,
          -12181.316087855941,
          -11922.985560154013,
          -10124.594319120913,
          -11523.237988539042,
          -15466.584408018003,
          -12368.513494574312,
          -9223.065942089303,
          -12579.082969923318,
          -13914.118473575416,
          -12267.393564270707,
          -14714.346714677335,
          -12049.311506900947,
          -11984.442065349154,
          -10698.599156293312,
          -12803.865787926801,
          -13323.062830591029,
          -10527.2437377335,
          -7904.992808959861,
          -6666.739810337769,
          -7367.4158585234445,
          6680.736234442683,
          1882.3734808117827,
          9581.393860898947,
          10671.526843453692,
          9385.695558854062,
          11259.599112357842,
          6797.768664521691,
          9846.06750147802,
          6645.7766747061005,
          -5728.012283650443,
          7657.408151529349,
          -6624.40246375523,
          -11917.046438551486,
          -11806.145167734643,
          -13340.167970387169,
          -11239.991643078714,
          -13384.626655828362,
          12493.520139925738,
          5840.694031081599,
          -4922.246715885327,
          -13885.368481884097,
          2891.4677042588173,
          -17727.237457523563,
          -6767.863486617918,
          8475.259516084352,
          6520.433058330081,
          5769.119048692341,
          4661.325645080406,
          1135.4987104519132,
          2594.2492685552356,
          3299.7665852484038,
          -7478.26217289947,
          -7143.154494126815,
          -9341.903961958384,
          8591.580806699672,
          9181.800526227682,
          9823.383632208253,
          4406.252236193019,
          5017.623900230946,
          4347.544708903502,
          3967.973208529451,
          4544.475175004289,
          5018.9395875122345,
          6681.073501586913,
          4000.559303764697,
          3495.136074485229,
          3727.801106268921,
          8889.93219982597,
          -7166.602218383713,
          -5580.071286345927,
          3789.353638532829,
          2984.1210114464807,
          6962.2432681113605,
          6625.331984331755,
          7229.300435654093,
          7485.189601907925,
          6617.995384907083,
          5344.680661178882,
          3647.6717160489984,
          3267.1045452251183,
          2645.9219968194966,
          3034.2100758758393,
          1228.8092123729703,
          3969.952823452875,
          4508.300409849212,
          4728.020033188848,
          2216.714115525152,
          2085.0641153121064,
          6193.676746072,
          7281.8908372803935,
          6618.354525783658,
          1128.206830753212,
          2653.869409965926,
          3777.367157007076,
          6398.895177085841,
          9150.992565809607,
          6940.054253619208,
          2469.7084873173108,
          2514.3171407739965,
          2217.8491451428395,
          -8497.471659258747,
          -8862.468240682982,
          -9426.128926036394,
          4982.645827365159,
          -7868.306110878408,
          -9161.024778061997,
          -9594.761892746967,
          -9227.005218150713,
          -9788.78140555925,
          -8601.056403488808,
          -9831.796326973357,
          -6739.417718212184,
          -9062.158736647092,
          -9922.87250795769,
          -9267.932079881766,
          -9551.01740381915,
          2274.562971460143,
          3547.2710148578913,
          1836.1449924694466,
          3755.6874280816105,
          8659.758431432141,
          4008.7776892930174,
          4353.884675907234,
          4956.8260396545165,
          6632.378498542748,
          2524.141055718939,
          4432.548003420322,
          4972.393386699854,
          7296.8414939393915,
          6480.719708867282,
          4456.223720373778,
          7505.613916263808,
          7031.019264458942,
          4225.50119292489,
          5169.302765493687,
          3967.4315698348864,
          6542.207198198752,
          6228.974068708489,
          8784.210163379388,
          9465.309372728552,
          5660.361767838314,
          -6919.066099035728,
          -8250.719578002374,
          -6916.55285377439,
          -9904.464315969139,
          -9857.598454954361,
          -8867.355506926255,
          4235.259135120233,
          7784.438276796638,
          6274.888371832564,
          5556.089358640223,
          1143.7451639192516,
          3848.5750709368012,
          1452.1567323370539,
          -442.3017851999545,
          4050.927790782434,
          5116.48734013081,
          2900.567421179971,
          2344.027626511875,
          4334.750852577685,
          5083.289262152092,
          5633.431411877997,
          3225.430589563031,
          5795.531530459294,
          5781.008998039191,
          3714.2938088028236,
          3993.3482976886535,
          6663.447236734839,
          3913.5532363593015,
          5374.553939467208,
          5758.320827717221,
          4747.682782456786,
          4143.325682309882,
          5491.547955956348,
          6380.566948056489,
          5359.853170410224,
          3845.783222681131,
          5250.989885716405,
          6029.935001166971,
          5319.796229501633,
          5881.216749229128,
          1856.453123748777,
          3432.3494467540145,
          4506.909806462862,
          6273.767828359241,
          2762.413785583355,
          4451.557994357776,
          5020.161035239981,
          2311.7652579073706,
          5826.485803242793,
          5697.702511986075,
          4164.382049042584,
          2352.430743282388,
          4757.572493880614,
          3517.3020386827357,
          4811.549678456886,
          5467.850992250418,
          5225.015526096755,
          1671.0548130039176,
          5150.886268914592,
          5126.477240239669,
          5978.082591343797,
          9356.456865854185,
          6181.959905078038,
          6379.118485877324,
          9912.285229751991,
          3024.0868530395087,
          6533.672229205992,
          5905.0753585934835,
          7845.991367146335,
          3655.5443241435305,
          6757.559962647212,
          3015.1932304199195,
          5838.510595952953,
          6873.562158155094,
          6450.737186407787,
          3765.400111388697,
          1735.5485110731368,
          5789.304533876518,
          5498.827765318479,
          5467.721009885684,
          7275.085915651367,
          7252.086118932223,
          7490.2488071469625,
          4198.695291796195,
          5759.279115622293,
          1385.2209797828973,
          3956.446155562224,
          9802.447615016572,
          3075.433776733911,
          4857.272509668225,
          4042.7083667150746,
          6810.055885654454,
          4609.140240476254,
          4633.528229141227,
          4941.170412163033,
          7538.152881475287,
          6203.49353480906,
          1968.9405059809335,
          4515.751513693443,
          3892.1546615349093,
          5789.976506450126,
          3790.7533988579826,
          5881.788476207467,
          7292.299803849011,
          11615.210838473397,
          11807.606033798585,
          11713.868619202485,
          10659.113221237081,
          5067.661211543458,
          10376.372226113222,
          8417.623377432108,
          11291.149782541948,
          2592.4738136823994,
          6602.905386140715,
          4722.840461668771,
          3578.7238332054667,
          3000.674688999619,
          6449.743479429004,
          5066.191131823299,
          5815.993983194646,
          3203.0470147168676,
          3376.380520183407,
          5762.084253092971,
          4745.263492024845,
          4027.164580824082,
          3348.750867576576,
          4212.104016043172,
          4130.281715752377,
          5572.62873164602,
          2435.0556059523246,
          4546.551843946506,
          1550.0438042512915,
          7286.062225620324,
          6894.576974641155,
          5730.965503754753,
          4917.641479196128,
          6334.179021402256,
          4594.166982911353,
          3937.4640013099042,
          1548.441523333137,
          4074.1755871699247,
          3451.7239847143906,
          1485.3934362853172,
          4970.681609274963,
          3904.80221596154,
          5611.993940619094,
          784.831433450345,
          3990.8594926504625,
          1777.4134946407123,
          1720.5648188641883,
          4907.56757499342,
          1244.5610415480282,
          4119.115646257004,
          5376.188562099146,
          3738.2176550253985,
          4673.810108586112,
          4879.832764106374,
          4565.366577242494,
          3596.5497927865013,
          5208.482205347828,
          4397.552861065227,
          1946.5905468182202,
          4653.415718686617,
          4212.076021087908,
          4072.9879711996878,
          4186.45983840468,
          2050.516340237074,
          9009.795586333965,
          6659.86601542032,
          10389.86981766254,
          7358.132636496808,
          5175.176694836584,
          7311.003991647311,
          2920.9914853609534,
          5629.324920849875,
          6658.755522938186,
          5991.772771257315,
          4168.92070623798,
          5293.536055323258,
          4839.078135336748,
          4691.9233048438455,
          4694.68025859863,
          4525.640076841766,
          6626.223914198025,
          6040.923183400113,
          6407.3144918126,
          -5067.596105502563,
          4225.255928144327,
          -6327.452324591001,
          -4025.484573851126,
          -5174.425324240001,
          -9241.50271002885,
          -3223.406111071434,
          -4215.294955029035,
          -6287.601787187907,
          -3001.6459112485754,
          -4841.991328359415,
          -6345.969248875424,
          -4272.202134873055,
          -5368.594032451838,
          -7778.053722901937,
          -5432.139304758041,
          -5393.209688043392,
          -5830.228593593456,
          -5844.214049314566,
          -3286.1171136236667,
          -6075.109812933473,
          -5109.128853328888,
          -7572.647006066601,
          -6943.376101734788,
          -6594.542469893151,
          -5602.033969894243,
          -5032.689116554287,
          -5659.907846282463,
          7125.1588399490365,
          9237.14097455133,
          5280.8373625647355,
          6387.936837253488,
          8534.969362219561,
          6342.238281219785,
          4282.381400397861,
          -6878.939074549307,
          -9567.498718968169,
          -8140.148996087341,
          -6677.0256682671,
          -11787.653224539108,
          -13020.282011037796,
          -10211.782212833275,
          -12917.66435962139,
          -9413.703494346011,
          -7678.085777309621,
          4050.0312313513614,
          8133.524651339559,
          5648.521265004482,
          6427.136584621621,
          12914.75894272495,
          7283.091700517602,
          8783.305296533805,
          -13869.565327986404,
          7842.345415800608,
          4627.379068934695,
          3293.638008650625,
          8538.940776646965,
          8480.930452694627,
          7708.480479644609,
          13563.386715342309,
          11770.809672366777,
          7362.588411696542,
          6054.4971132228875,
          7133.420592922185,
          5647.728299450565,
          7797.210255712769,
          5917.783439911628,
          6252.408203031729,
          4470.84172617113,
          2761.9109375152257,
          3836.124965301672,
          5775.347027874229,
          7186.1247852526685,
          6435.414695913849,
          -11495.50855310917,
          6915.58351645252,
          7387.593863156252,
          5736.3926123351,
          5799.700728413043,
          7161.210033926339,
          7505.939373351689,
          6543.538899558067,
          7320.932405650031,
          8446.502963329727,
          7331.547867760104,
          4987.042170346986,
          6052.396913775003,
          6329.8352307853565,
          6465.499653384774,
          5210.172510142889
         ]
        }
       ],
       "layout": {
        "template": {
         "data": {
          "bar": [
           {
            "error_x": {
             "color": "#2a3f5f"
            },
            "error_y": {
             "color": "#2a3f5f"
            },
            "marker": {
             "line": {
              "color": "#E5ECF6",
              "width": 0.5
             },
             "pattern": {
              "fillmode": "overlay",
              "size": 10,
              "solidity": 0.2
             }
            },
            "type": "bar"
           }
          ],
          "barpolar": [
           {
            "marker": {
             "line": {
              "color": "#E5ECF6",
              "width": 0.5
             },
             "pattern": {
              "fillmode": "overlay",
              "size": 10,
              "solidity": 0.2
             }
            },
            "type": "barpolar"
           }
          ],
          "carpet": [
           {
            "aaxis": {
             "endlinecolor": "#2a3f5f",
             "gridcolor": "white",
             "linecolor": "white",
             "minorgridcolor": "white",
             "startlinecolor": "#2a3f5f"
            },
            "baxis": {
             "endlinecolor": "#2a3f5f",
             "gridcolor": "white",
             "linecolor": "white",
             "minorgridcolor": "white",
             "startlinecolor": "#2a3f5f"
            },
            "type": "carpet"
           }
          ],
          "choropleth": [
           {
            "colorbar": {
             "outlinewidth": 0,
             "ticks": ""
            },
            "type": "choropleth"
           }
          ],
          "contour": [
           {
            "colorbar": {
             "outlinewidth": 0,
             "ticks": ""
            },
            "colorscale": [
             [
              0,
              "#0d0887"
             ],
             [
              0.1111111111111111,
              "#46039f"
             ],
             [
              0.2222222222222222,
              "#7201a8"
             ],
             [
              0.3333333333333333,
              "#9c179e"
             ],
             [
              0.4444444444444444,
              "#bd3786"
             ],
             [
              0.5555555555555556,
              "#d8576b"
             ],
             [
              0.6666666666666666,
              "#ed7953"
             ],
             [
              0.7777777777777778,
              "#fb9f3a"
             ],
             [
              0.8888888888888888,
              "#fdca26"
             ],
             [
              1,
              "#f0f921"
             ]
            ],
            "type": "contour"
           }
          ],
          "contourcarpet": [
           {
            "colorbar": {
             "outlinewidth": 0,
             "ticks": ""
            },
            "type": "contourcarpet"
           }
          ],
          "heatmap": [
           {
            "colorbar": {
             "outlinewidth": 0,
             "ticks": ""
            },
            "colorscale": [
             [
              0,
              "#0d0887"
             ],
             [
              0.1111111111111111,
              "#46039f"
             ],
             [
              0.2222222222222222,
              "#7201a8"
             ],
             [
              0.3333333333333333,
              "#9c179e"
             ],
             [
              0.4444444444444444,
              "#bd3786"
             ],
             [
              0.5555555555555556,
              "#d8576b"
             ],
             [
              0.6666666666666666,
              "#ed7953"
             ],
             [
              0.7777777777777778,
              "#fb9f3a"
             ],
             [
              0.8888888888888888,
              "#fdca26"
             ],
             [
              1,
              "#f0f921"
             ]
            ],
            "type": "heatmap"
           }
          ],
          "heatmapgl": [
           {
            "colorbar": {
             "outlinewidth": 0,
             "ticks": ""
            },
            "colorscale": [
             [
              0,
              "#0d0887"
             ],
             [
              0.1111111111111111,
              "#46039f"
             ],
             [
              0.2222222222222222,
              "#7201a8"
             ],
             [
              0.3333333333333333,
              "#9c179e"
             ],
             [
              0.4444444444444444,
              "#bd3786"
             ],
             [
              0.5555555555555556,
              "#d8576b"
             ],
             [
              0.6666666666666666,
              "#ed7953"
             ],
             [
              0.7777777777777778,
              "#fb9f3a"
             ],
             [
              0.8888888888888888,
              "#fdca26"
             ],
             [
              1,
              "#f0f921"
             ]
            ],
            "type": "heatmapgl"
           }
          ],
          "histogram": [
           {
            "marker": {
             "pattern": {
              "fillmode": "overlay",
              "size": 10,
              "solidity": 0.2
             }
            },
            "type": "histogram"
           }
          ],
          "histogram2d": [
           {
            "colorbar": {
             "outlinewidth": 0,
             "ticks": ""
            },
            "colorscale": [
             [
              0,
              "#0d0887"
             ],
             [
              0.1111111111111111,
              "#46039f"
             ],
             [
              0.2222222222222222,
              "#7201a8"
             ],
             [
              0.3333333333333333,
              "#9c179e"
             ],
             [
              0.4444444444444444,
              "#bd3786"
             ],
             [
              0.5555555555555556,
              "#d8576b"
             ],
             [
              0.6666666666666666,
              "#ed7953"
             ],
             [
              0.7777777777777778,
              "#fb9f3a"
             ],
             [
              0.8888888888888888,
              "#fdca26"
             ],
             [
              1,
              "#f0f921"
             ]
            ],
            "type": "histogram2d"
           }
          ],
          "histogram2dcontour": [
           {
            "colorbar": {
             "outlinewidth": 0,
             "ticks": ""
            },
            "colorscale": [
             [
              0,
              "#0d0887"
             ],
             [
              0.1111111111111111,
              "#46039f"
             ],
             [
              0.2222222222222222,
              "#7201a8"
             ],
             [
              0.3333333333333333,
              "#9c179e"
             ],
             [
              0.4444444444444444,
              "#bd3786"
             ],
             [
              0.5555555555555556,
              "#d8576b"
             ],
             [
              0.6666666666666666,
              "#ed7953"
             ],
             [
              0.7777777777777778,
              "#fb9f3a"
             ],
             [
              0.8888888888888888,
              "#fdca26"
             ],
             [
              1,
              "#f0f921"
             ]
            ],
            "type": "histogram2dcontour"
           }
          ],
          "mesh3d": [
           {
            "colorbar": {
             "outlinewidth": 0,
             "ticks": ""
            },
            "type": "mesh3d"
           }
          ],
          "parcoords": [
           {
            "line": {
             "colorbar": {
              "outlinewidth": 0,
              "ticks": ""
             }
            },
            "type": "parcoords"
           }
          ],
          "pie": [
           {
            "automargin": true,
            "type": "pie"
           }
          ],
          "scatter": [
           {
            "fillpattern": {
             "fillmode": "overlay",
             "size": 10,
             "solidity": 0.2
            },
            "type": "scatter"
           }
          ],
          "scatter3d": [
           {
            "line": {
             "colorbar": {
              "outlinewidth": 0,
              "ticks": ""
             }
            },
            "marker": {
             "colorbar": {
              "outlinewidth": 0,
              "ticks": ""
             }
            },
            "type": "scatter3d"
           }
          ],
          "scattercarpet": [
           {
            "marker": {
             "colorbar": {
              "outlinewidth": 0,
              "ticks": ""
             }
            },
            "type": "scattercarpet"
           }
          ],
          "scattergeo": [
           {
            "marker": {
             "colorbar": {
              "outlinewidth": 0,
              "ticks": ""
             }
            },
            "type": "scattergeo"
           }
          ],
          "scattergl": [
           {
            "marker": {
             "colorbar": {
              "outlinewidth": 0,
              "ticks": ""
             }
            },
            "type": "scattergl"
           }
          ],
          "scattermapbox": [
           {
            "marker": {
             "colorbar": {
              "outlinewidth": 0,
              "ticks": ""
             }
            },
            "type": "scattermapbox"
           }
          ],
          "scatterpolar": [
           {
            "marker": {
             "colorbar": {
              "outlinewidth": 0,
              "ticks": ""
             }
            },
            "type": "scatterpolar"
           }
          ],
          "scatterpolargl": [
           {
            "marker": {
             "colorbar": {
              "outlinewidth": 0,
              "ticks": ""
             }
            },
            "type": "scatterpolargl"
           }
          ],
          "scatterternary": [
           {
            "marker": {
             "colorbar": {
              "outlinewidth": 0,
              "ticks": ""
             }
            },
            "type": "scatterternary"
           }
          ],
          "surface": [
           {
            "colorbar": {
             "outlinewidth": 0,
             "ticks": ""
            },
            "colorscale": [
             [
              0,
              "#0d0887"
             ],
             [
              0.1111111111111111,
              "#46039f"
             ],
             [
              0.2222222222222222,
              "#7201a8"
             ],
             [
              0.3333333333333333,
              "#9c179e"
             ],
             [
              0.4444444444444444,
              "#bd3786"
             ],
             [
              0.5555555555555556,
              "#d8576b"
             ],
             [
              0.6666666666666666,
              "#ed7953"
             ],
             [
              0.7777777777777778,
              "#fb9f3a"
             ],
             [
              0.8888888888888888,
              "#fdca26"
             ],
             [
              1,
              "#f0f921"
             ]
            ],
            "type": "surface"
           }
          ],
          "table": [
           {
            "cells": {
             "fill": {
              "color": "#EBF0F8"
             },
             "line": {
              "color": "white"
             }
            },
            "header": {
             "fill": {
              "color": "#C8D4E3"
             },
             "line": {
              "color": "white"
             }
            },
            "type": "table"
           }
          ]
         },
         "layout": {
          "annotationdefaults": {
           "arrowcolor": "#2a3f5f",
           "arrowhead": 0,
           "arrowwidth": 1
          },
          "autotypenumbers": "strict",
          "coloraxis": {
           "colorbar": {
            "outlinewidth": 0,
            "ticks": ""
           }
          },
          "colorscale": {
           "diverging": [
            [
             0,
             "#8e0152"
            ],
            [
             0.1,
             "#c51b7d"
            ],
            [
             0.2,
             "#de77ae"
            ],
            [
             0.3,
             "#f1b6da"
            ],
            [
             0.4,
             "#fde0ef"
            ],
            [
             0.5,
             "#f7f7f7"
            ],
            [
             0.6,
             "#e6f5d0"
            ],
            [
             0.7,
             "#b8e186"
            ],
            [
             0.8,
             "#7fbc41"
            ],
            [
             0.9,
             "#4d9221"
            ],
            [
             1,
             "#276419"
            ]
           ],
           "sequential": [
            [
             0,
             "#0d0887"
            ],
            [
             0.1111111111111111,
             "#46039f"
            ],
            [
             0.2222222222222222,
             "#7201a8"
            ],
            [
             0.3333333333333333,
             "#9c179e"
            ],
            [
             0.4444444444444444,
             "#bd3786"
            ],
            [
             0.5555555555555556,
             "#d8576b"
            ],
            [
             0.6666666666666666,
             "#ed7953"
            ],
            [
             0.7777777777777778,
             "#fb9f3a"
            ],
            [
             0.8888888888888888,
             "#fdca26"
            ],
            [
             1,
             "#f0f921"
            ]
           ],
           "sequentialminus": [
            [
             0,
             "#0d0887"
            ],
            [
             0.1111111111111111,
             "#46039f"
            ],
            [
             0.2222222222222222,
             "#7201a8"
            ],
            [
             0.3333333333333333,
             "#9c179e"
            ],
            [
             0.4444444444444444,
             "#bd3786"
            ],
            [
             0.5555555555555556,
             "#d8576b"
            ],
            [
             0.6666666666666666,
             "#ed7953"
            ],
            [
             0.7777777777777778,
             "#fb9f3a"
            ],
            [
             0.8888888888888888,
             "#fdca26"
            ],
            [
             1,
             "#f0f921"
            ]
           ]
          },
          "colorway": [
           "#636efa",
           "#EF553B",
           "#00cc96",
           "#ab63fa",
           "#FFA15A",
           "#19d3f3",
           "#FF6692",
           "#B6E880",
           "#FF97FF",
           "#FECB52"
          ],
          "font": {
           "color": "#2a3f5f"
          },
          "geo": {
           "bgcolor": "white",
           "lakecolor": "white",
           "landcolor": "#E5ECF6",
           "showlakes": true,
           "showland": true,
           "subunitcolor": "white"
          },
          "hoverlabel": {
           "align": "left"
          },
          "hovermode": "closest",
          "mapbox": {
           "style": "light"
          },
          "paper_bgcolor": "white",
          "plot_bgcolor": "#E5ECF6",
          "polar": {
           "angularaxis": {
            "gridcolor": "white",
            "linecolor": "white",
            "ticks": ""
           },
           "bgcolor": "#E5ECF6",
           "radialaxis": {
            "gridcolor": "white",
            "linecolor": "white",
            "ticks": ""
           }
          },
          "scene": {
           "xaxis": {
            "backgroundcolor": "#E5ECF6",
            "gridcolor": "white",
            "gridwidth": 2,
            "linecolor": "white",
            "showbackground": true,
            "ticks": "",
            "zerolinecolor": "white"
           },
           "yaxis": {
            "backgroundcolor": "#E5ECF6",
            "gridcolor": "white",
            "gridwidth": 2,
            "linecolor": "white",
            "showbackground": true,
            "ticks": "",
            "zerolinecolor": "white"
           },
           "zaxis": {
            "backgroundcolor": "#E5ECF6",
            "gridcolor": "white",
            "gridwidth": 2,
            "linecolor": "white",
            "showbackground": true,
            "ticks": "",
            "zerolinecolor": "white"
           }
          },
          "shapedefaults": {
           "line": {
            "color": "#2a3f5f"
           }
          },
          "ternary": {
           "aaxis": {
            "gridcolor": "white",
            "linecolor": "white",
            "ticks": ""
           },
           "baxis": {
            "gridcolor": "white",
            "linecolor": "white",
            "ticks": ""
           },
           "bgcolor": "#E5ECF6",
           "caxis": {
            "gridcolor": "white",
            "linecolor": "white",
            "ticks": ""
           }
          },
          "title": {
           "x": 0.05
          },
          "xaxis": {
           "automargin": true,
           "gridcolor": "white",
           "linecolor": "white",
           "ticks": "",
           "title": {
            "standoff": 15
           },
           "zerolinecolor": "white",
           "zerolinewidth": 2
          },
          "yaxis": {
           "automargin": true,
           "gridcolor": "white",
           "linecolor": "white",
           "ticks": "",
           "title": {
            "standoff": 15
           },
           "zerolinecolor": "white",
           "zerolinewidth": 2
          }
         }
        }
       }
      }
     },
     "metadata": {},
     "output_type": "display_data"
    }
   ],
   "source": [
    "pca = decomposition.PCA(n_components=2)\n",
    "X_redux = pca.fit_transform(X)\n",
    "print(X_redux.shape)\n",
    "fig = go.Figure()\n",
    "fig.add_traces(\n",
    "    go.Scatter(\n",
    "        x=X_redux[:,0],\n",
    "       y=X_redux[:,1],\n",
    "       mode=\"markers\",\n",
    "       marker = {\n",
    "           \"color\":kmeans.labels_\n",
    "       }\n",
    "    )\n",
    ")\n",
    "fig.show()\n"
   ]
  },
  {
   "cell_type": "code",
   "execution_count": 84,
   "metadata": {},
   "outputs": [
    {
     "name": "stdout",
     "output_type": "stream",
     "text": [
      "(511, 2)\n"
     ]
    },
    {
     "data": {
      "application/vnd.plotly.v1+json": {
       "config": {
        "plotlyServerURL": "https://plot.ly"
       },
       "data": [
        {
         "mode": "markers",
         "type": "scatter",
         "x": [
          -1911.9381807975012,
          -1205.3171486587544,
          4480.808704473713,
          14524.071707715228,
          6958.106776151954,
          -1319.7514895251886,
          4080.4375578486324,
          -15843.222864300486,
          -7039.869587840864,
          -5844.7703548678855,
          -2415.204609536387,
          -37776.792071095166,
          -48971.09742286101,
          -47078.74087606307,
          -22261.238639516556,
          -42767.72749583529,
          -38099.14980632302,
          -53095.3614886443,
          24420.12711914624,
          10418.574100552503,
          22481.334065059986,
          13134.213872807524,
          6531.507204179786,
          13243.181411754234,
          11438.025954278546,
          12334.595837020584,
          18224.15830740965,
          14231.733308209296,
          -2040.0717124600549,
          -7584.58098513737,
          8052.911396420149,
          -3339.0903568573926,
          1389.1251574186683,
          10737.694204870473,
          17495.664634486075,
          8109.5895634579365,
          18154.772447224557,
          -4891.959306386871,
          910.9030499407638,
          2275.135946885963,
          1522.4183477069396,
          8095.464148998484,
          11001.716044236868,
          12673.746458713493,
          16821.107350481834,
          7406.033360488555,
          19171.643095222145,
          -8135.734235162018,
          16200.796848434215,
          8340.95458642421,
          12455.502328189683,
          6502.369871723688,
          15567.327039988064,
          12346.081619837856,
          16244.936031233236,
          -148.80616777764456,
          -6445.145489556357,
          9166.887573758051,
          18264.407906804707,
          14706.330628925753,
          10829.026806910055,
          -26512.66726923521,
          -18935.851889816244,
          8228.293256239725,
          -50870.05613203748,
          -43672.517418378535,
          -66100.47680123996,
          -25527.843507356196,
          -31081.5612240792,
          -28207.679017247123,
          -37894.772500234634,
          -41985.568668743654,
          -48802.63601985384,
          -45043.447837185595,
          -9744.663054988829,
          18778.556515484146,
          -27724.635658460746,
          -30937.399240626833,
          -44574.11526141606,
          -15814.61336302201,
          10567.988527032256,
          -2404.4484362925377,
          4312.680394834781,
          9217.444418903773,
          7201.648435654555,
          12561.694773304485,
          6556.317106259387,
          25660.91195871909,
          14513.985484945406,
          -793.4955150652697,
          3622.80828307829,
          7324.56579059967,
          5464.48092919938,
          8310.444585967301,
          13745.583650445882,
          8990.489824514501,
          1201.4404712566595,
          1675.2195946301856,
          16947.50429218465,
          3532.6371215189342,
          10191.65036399199,
          3399.3853171019077,
          23599.171532719858,
          12107.175552105997,
          7908.34894355189,
          11065.836300376017,
          7661.747556693221,
          6691.161720001007,
          23238.578693247728,
          5984.849907958209,
          21927.342361568037,
          19005.037354954675,
          14785.059105776727,
          5913.601257036357,
          6265.584330097485,
          17797.970556734283,
          -8666.536443356,
          -6327.803789256261,
          -3430.8947331851955,
          -7390.580619309996,
          16224.118075330714,
          -7735.511672544804,
          -8072.134909853376,
          11282.117969938288,
          1938.3505730085988,
          18695.183746872113,
          -9246.755773175279,
          1921.7605763373545,
          4881.250325009888,
          -1412.956087736377,
          319.27319618606407,
          -17678.78429844193,
          9623.949424568465,
          19425.5689756756,
          3311.2705496905164,
          5287.772355965154,
          -4246.325007621179,
          17072.83718871527,
          -19446.586475378925,
          -9252.30311313452,
          -10890.815835677886,
          -705.9999077312774,
          17600.43196855037,
          5222.655081568434,
          -3205.802477736864,
          11223.968440286499,
          11277.918853843956,
          16944.413445561335,
          -9726.772972794115,
          -243.71380845267745,
          -6826.22107096554,
          11822.464176116313,
          -2536.56550166685,
          -2039.3242681480638,
          4095.32832369834,
          10340.330960369196,
          -607.17279410991,
          -9855.20860491318,
          3476.1984708953087,
          -867.0419886481887,
          -2778.7825631707387,
          -15779.368283896987,
          -2479.6948184188536,
          -3185.276294748296,
          -3954.351648335143,
          4512.770044285463,
          -8105.647351851923,
          -5852.557127551905,
          -4729.590910433634,
          -7618.103346611887,
          1598.1796950951625,
          14048.406789938968,
          10801.432539617783,
          12390.090476996838,
          1243.4246312712057,
          3975.061589978416,
          11250.86199443836,
          -2224.139883627108,
          -429.6653176363477,
          18518.996471906674,
          17303.12871043142,
          3085.66125312051,
          -9113.316830686192,
          -5384.5091613924,
          3812.873957154206,
          10041.177028142156,
          3040.4916753387733,
          1364.8232544337366,
          -8556.63742938392,
          -11684.800349904704,
          -9862.897160820019,
          8239.3905017497,
          20497.563272572184,
          -5577.240548885364,
          19825.36595115993,
          16231.080983713819,
          20453.560026727544,
          -2935.013860575257,
          17487.208262397988,
          21391.672081336677,
          22307.06280860622,
          19475.841027847404,
          18561.218146831798,
          18386.458647041243,
          13584.058357916598,
          17102.771191875792,
          13940.801872918746,
          21795.455784931895,
          21785.061135940086,
          22288.907496434345,
          14585.437104306046,
          7271.926923575902,
          13762.556772576734,
          10782.826004981942,
          -2399.2986645434066,
          10982.343346633586,
          8247.961483542555,
          4061.0028867154847,
          -1042.941646308069,
          14233.95170187832,
          8950.288173261095,
          9825.24982925324,
          1711.642066364108,
          4213.557817137543,
          -3521.01961797107,
          -4339.9987269690955,
          -1078.7340634578186,
          9897.396746676832,
          8950.044785092445,
          -639.4972461566682,
          8549.468653382588,
          7650.319046524728,
          -2605.9127122762475,
          -10862.403685124491,
          7817.776105122614,
          16762.585540325337,
          13881.656400913962,
          15416.66394912509,
          23041.412348199137,
          15655.175158213151,
          20070.905585929795,
          5660.586063501219,
          -3596.7227714365526,
          -14008.31235316657,
          -7496.604419225991,
          12137.700088866848,
          -7898.663196933567,
          9654.078549108,
          15031.279056078942,
          13132.832047620132,
          11748.581525148018,
          12271.538351404066,
          13599.040197852213,
          6130.958135651897,
          5988.927850447407,
          8747.044066711487,
          5528.160519709199,
          1440.900129112459,
          4784.417610092699,
          6565.633463733109,
          4789.2823404641495,
          -2945.979618211887,
          7760.268470568494,
          -420.80960857811726,
          1223.6566571978665,
          -793.290256256123,
          9964.25841374474,
          -5627.083052234342,
          1444.884599452971,
          1592.1038172218484,
          11862.027027929598,
          4162.659308185338,
          737.559692280652,
          3630.6431503045815,
          428.00204788991556,
          14361.292857058786,
          11165.619222951524,
          5844.179680260578,
          5323.9502338623615,
          12594.026135279913,
          10199.174144633853,
          -1851.8222655664706,
          9088.370917599814,
          3225.4522423830654,
          7117.998760553048,
          9836.066044341482,
          13777.86281516864,
          7959.314564038034,
          4513.691811622131,
          3121.8236262601504,
          1683.1035364718691,
          7732.5058786456475,
          19430.007796055506,
          8551.968094946707,
          710.2931905421342,
          -1276.010881075318,
          -2311.480098758392,
          21774.133019246176,
          5657.424982895675,
          1739.3936555756338,
          16585.89935265956,
          3480.1453305001137,
          2306.0402940552362,
          971.7378309632157,
          10084.371654997909,
          -8463.436690144566,
          18355.80383063062,
          -4570.067231085193,
          2805.593788282295,
          -6535.403014317065,
          12262.431363509377,
          17649.661054809327,
          -988.4986533407495,
          -2298.4652075251443,
          -1097.8786875304538,
          -10096.13177993479,
          -6785.5473424151305,
          -7765.413586100939,
          14781.65677518247,
          18065.341447152376,
          14155.910151720023,
          9078.344324777461,
          -14216.339463785253,
          10000.075125909529,
          19892.398557678738,
          23520.070237166696,
          3555.352667439059,
          8386.446469305578,
          5702.090806226226,
          -4293.321882591162,
          -3775.7241710355293,
          1838.6217952897737,
          12185.412770111403,
          5503.2236258960875,
          6213.861886872783,
          -4871.511750979903,
          5268.973507974217,
          -15960.705258320775,
          -4713.994766766973,
          -16662.10373072193,
          -20961.800122172135,
          -20361.10717392729,
          -9465.27888135155,
          401.53967220334647,
          -13644.242257115753,
          -2722.5436714832217,
          -15724.832516127699,
          1709.3246019673936,
          -11458.992444913496,
          1172.699581343836,
          8904.624189870929,
          10051.91723520148,
          -10655.655770734418,
          -5917.657881214407,
          -3517.9152550272634,
          8495.79971227278,
          2625.907525696673,
          -4244.486354238761,
          -3911.2925461311,
          2063.953837377633,
          5988.035995545847,
          4702.042970578361,
          10015.360348105207,
          1008.6987872811277,
          13407.864557206924,
          -7160.228454798851,
          13444.157022828067,
          -4425.664116980761,
          1143.3447036612959,
          -4137.527116677787,
          7285.375649306126,
          4465.1920916343415,
          -4172.500288057421,
          1513.389578359619,
          18456.30879256137,
          -241.32266403526012,
          3529.4004609284934,
          12917.518822081995,
          -3023.726291446146,
          7236.744564530855,
          -6456.751550241608,
          15628.600004622489,
          -2754.8986878039955,
          22293.609038530813,
          11333.568434126304,
          6579.368648724235,
          13418.715882366436,
          9394.893342855148,
          553.4620779451182,
          14956.82979568241,
          2284.7605134311843,
          6325.708815330893,
          7273.312210005131,
          4759.873762084316,
          5364.046103617316,
          8796.860641050213,
          13278.471270844231,
          7580.19346903081,
          3252.025910360714,
          -4455.356535039151,
          12574.0084260856,
          17140.425149706323,
          310.307023474837,
          -7298.687268212417,
          -7086.0657885545015,
          -1827.722470358471,
          6416.207274663666,
          -4405.399280081317,
          14107.08138163422,
          -6126.970597289549,
          -8843.91550291101,
          -3353.0104560376676,
          3589.397500790133,
          -5926.32549170999,
          -5584.340341967685,
          -7306.511289064919,
          -1133.4258247457167,
          -6343.6218851641315,
          -16333.597723007919,
          -7314.417065146739,
          -17732.394744078974,
          -20405.70443449469,
          5310.003574247836,
          -38584.26023039221,
          -42429.370840591946,
          -44806.84578091159,
          -13911.999221129641,
          -52202.0929252803,
          -48885.88260333817,
          -26141.469910375246,
          -55450.177398243344,
          -46847.95924755303,
          -32007.58946938028,
          -51734.626402282156,
          -30725.75243944404,
          -19106.390217009095,
          -51730.262273683584,
          -38856.91242683808,
          -29788.84913306849,
          -40224.61033560857,
          -54413.84796831626,
          -37930.78217390537,
          -34765.1907456159,
          -24076.559831982457,
          -32918.13966064973,
          -37826.394422992285,
          -37220.82818664602,
          -37068.51279179072,
          -42424.468195015936,
          -2326.790923714004,
          -11886.558052359975,
          7336.90596775927,
          -9857.205130871853,
          1086.882007522161,
          1904.0006322932677,
          15005.377046270047,
          10974.478667665753,
          21143.63608992994,
          13341.213530864017,
          14624.151413412423,
          -0.4433077414150563,
          5817.47482344146,
          13887.64087904946,
          -452.8373314107611,
          18161.759174522864,
          15482.249992028479,
          13679.303256235175,
          -8970.168081950042,
          7273.484404564904,
          55.430644011707955,
          -18986.085941389098,
          3560.513996418636,
          -5487.875360332919,
          17330.66254947313,
          -5268.583569368565,
          -12887.826009790799,
          550.1025264013977,
          -9329.886387357827,
          -6936.954773658121,
          -8144.066870955795,
          -6843.161008182087,
          -6482.308790587892,
          -260.58973038837973,
          -321.8834626047084,
          2530.378007964231,
          -6174.108325091108,
          -11373.632504236743,
          -3507.9805085017433,
          3809.689205135573,
          -2655.0198491272417,
          13048.544817099273,
          -2376.769219735382,
          1392.355979791884,
          -2120.686667797574,
          -1087.3419807021833,
          612.5206351866841,
          -5184.094083758525,
          -740.4787629188568,
          -6376.975192097549,
          -7428.501810086239,
          -10323.586306254003,
          3469.133514963075,
          2086.4707639739772,
          -1835.7966054375281,
          -16576.451048769897,
          -8528.20626329146,
          -1065.4541002165088,
          -217.854656839942,
          540.6198431496288,
          -3857.8857590932107,
          -7682.573576707327
         ],
         "y": [
          15174.87493238638,
          12074.9564395495,
          21777.87578334923,
          11047.390857412336,
          -20198.743681657503,
          14623.630993372615,
          19148.842008964406,
          24074.304719143485,
          20184.560746692598,
          15418.851502669955,
          16217.277217854951,
          8220.593620139023,
          171.9167136612119,
          4832.247810944493,
          14185.397471706474,
          11305.914139039687,
          13941.005790381265,
          266.5811324822199,
          5834.404267308248,
          16583.106222695755,
          16341.106336288003,
          9358.587484625503,
          17303.9031185756,
          5962.09965836814,
          14772.990209974969,
          6404.356745472327,
          13209.625776471246,
          16460.52172575101,
          21941.92874501512,
          -22382.633446509124,
          -11161.620624220284,
          19777.98309110279,
          15137.200155313894,
          9002.866695515775,
          10483.50905217788,
          15743.83918270084,
          8175.715412516341,
          15441.05662742997,
          13886.603405355203,
          17739.558508965274,
          13284.870337779977,
          17167.455747315245,
          10213.466030772293,
          7748.039246489914,
          8584.193637108743,
          18800.854706442104,
          17726.907696589937,
          20421.629137363376,
          14630.73638696929,
          10740.876275046132,
          8883.70266840948,
          11024.163374623093,
          10617.836780116451,
          9697.128139452929,
          16039.5684444103,
          20418.093548549237,
          19910.23447530075,
          8488.319755790457,
          7113.729950557995,
          8722.047135331657,
          14130.350149829968,
          15515.874159423029,
          19765.23495531817,
          14368.507598309596,
          16226.326699219455,
          3731.163104311094,
          -4013.912645435903,
          16776.10789709975,
          13049.126763211601,
          12450.684787978102,
          870.2600742131173,
          -9974.029123996212,
          -20857.38469182884,
          16857.22253063069,
          25229.13462407455,
          42993.31994429303,
          22611.196430587384,
          7581.772233416762,
          7019.753096122798,
          15637.311105896913,
          12967.302554492775,
          17155.219048673516,
          15131.515377106858,
          19962.025068150993,
          16789.693263688005,
          12569.77048915761,
          13040.17482701799,
          17106.892467854977,
          16198.92537726294,
          18506.32012710276,
          18764.78935512783,
          11257.924410086158,
          13669.640546430048,
          10983.326183912017,
          13544.064792800273,
          16944.223029788656,
          13263.721995443751,
          15210.892372928927,
          18341.234134036033,
          16012.48214050187,
          12690.547383634439,
          16914.420429770496,
          13576.27881437369,
          14187.221802959504,
          19472.59391189914,
          14692.79611353082,
          14239.304467736329,
          14858.528268666754,
          11540.71949782954,
          16235.051923159042,
          7525.078267756763,
          5125.95453200609,
          7391.783470449075,
          10639.88702511092,
          -15016.46080466462,
          -8598.648362721204,
          -14955.45571819337,
          -14884.63409253001,
          -20572.483657974648,
          -19460.975634344948,
          -13482.019284048243,
          -12077.40526357487,
          -7655.919709832822,
          6366.738682356207,
          -12939.739133334137,
          3116.05297165466,
          18408.874329170707,
          15621.961600596736,
          17966.84179309083,
          16153.695794646203,
          18559.80564826019,
          -15756.86272334368,
          -13152.705067822008,
          1916.829152175107,
          25957.119192391852,
          1569.5444502165813,
          33036.92059363662,
          6994.26171394785,
          -10517.597274420064,
          1836.0190581689549,
          -436.4329690217016,
          -568.8856927304083,
          -4081.5222956751745,
          -146.47748569748273,
          2966.468169580198,
          8821.5755014755,
          7899.966306611591,
          9056.070041842251,
          -14203.4526088298,
          -19149.811383603967,
          -20412.548697689825,
          -9129.83521403129,
          -11062.022179112717,
          259.2338424346017,
          1236.9459201207374,
          -16034.619742474613,
          -13519.831895905347,
          -10259.10928164601,
          -14031.710114930076,
          663.8378124811077,
          1510.8627708810914,
          -9821.816260855563,
          11403.213271533621,
          9153.697697458683,
          1717.7521853925884,
          106.46008920924986,
          -13147.079685053057,
          -12114.182785003368,
          -15994.891299705794,
          4813.623360872584,
          -16192.907285140354,
          -20020.43129791251,
          -11323.265750086239,
          -11782.500062508607,
          825.8940142933071,
          -497.3454044537419,
          -1019.9835694038487,
          -638.3778939517816,
          -2182.0282068036536,
          -8093.524583207765,
          -5584.769169155439,
          2057.823155071051,
          -7070.0796390992155,
          -16003.645853222275,
          -17121.417341230583,
          -491.9950670752252,
          610.5059354425947,
          191.85500156638528,
          -5910.096992417118,
          -13720.637630539952,
          3885.141581151179,
          -1210.3912287799922,
          -6994.403673910874,
          2387.663464091315,
          4848.029938213329,
          7360.522355072472,
          6482.497856401093,
          4918.371774190779,
          5353.628347056695,
          6324.676389077984,
          5563.625076560916,
          6658.604002097712,
          7625.116946182375,
          5577.878237526041,
          11145.20571284802,
          3884.6765547724317,
          8948.376728041141,
          5919.27143679635,
          5157.292694488602,
          4739.3990689518405,
          -13016.34184747906,
          -2745.8870295960887,
          -3733.2350377006464,
          -12776.929430326658,
          -16362.444735093952,
          -11429.603570247873,
          -11833.176382340393,
          -16116.166862394723,
          2265.874027867836,
          -10939.064924073713,
          -13476.660619525512,
          -14179.98283440754,
          -11588.029819000158,
          -12963.520439992475,
          -9963.429748646648,
          -11401.403301856095,
          -11681.757287205894,
          -6582.262137539302,
          -6739.801722911259,
          1327.8521446927136,
          -15811.896589466618,
          -15454.328251635387,
          -14919.902800744503,
          -10784.555331814903,
          -7975.2746976420785,
          4766.982114140121,
          7281.510095354142,
          5175.877890315504,
          5006.299168344076,
          8752.461457580499,
          5115.273994599499,
          -12286.894997954516,
          -14427.453559836928,
          -5163.161993651711,
          -2027.8142233250776,
          -1838.6981969894675,
          418.98439485333796,
          -425.4639136556275,
          -1541.1509376656193,
          -6902.077168701828,
          -8110.301745163328,
          -3876.1901030904646,
          -4238.442681830205,
          -3752.5653881684434,
          -5427.592905205711,
          -7877.5951490922325,
          -1380.950294867478,
          -6003.398083913316,
          -7075.314542713668,
          -1297.4177384463803,
          -2289.531096519811,
          -6637.356321888573,
          -3567.0978025365616,
          -4311.522090870648,
          -7111.078293421999,
          -1172.0164776873316,
          -7460.343952687346,
          -2977.1677447294865,
          -7986.8156642903095,
          -4162.088249132153,
          -5875.6994382650055,
          -4620.429996113157,
          -5392.773034571595,
          -5305.591372217189,
          -6782.093572287537,
          -4085.729170757046,
          -4638.270465167283,
          -6428.526344641463,
          -8862.093794538012,
          -5062.793350996435,
          -6448.511277058605,
          -2622.398241738542,
          -734.4096572748415,
          -6584.746447661769,
          -8180.527309751792,
          -5833.810799961749,
          -5107.22463638452,
          -5207.18620570984,
          -1382.0490315071913,
          -3689.472967395759,
          -4300.634748203847,
          -5953.329045336652,
          -4991.284284516394,
          -6174.376936580355,
          -3097.9965591822533,
          -4307.624671803057,
          -18550.422863733147,
          -14175.016155007566,
          -13326.275758979817,
          -18454.60003795674,
          -11648.704256672036,
          -11826.493084666146,
          -12498.716621454265,
          -17173.3093151362,
          -5013.5866942859275,
          -4550.30993198248,
          -7027.884925023641,
          -3964.315977129479,
          -9564.801090155699,
          -5626.156075510571,
          -6155.160258177075,
          -5170.122501914499,
          -5194.836585257388,
          -3857.0463997301417,
          -3601.721043023182,
          -8532.005445197297,
          -14487.80874034136,
          -8307.395147131958,
          -11887.452490543375,
          -14709.367913648333,
          -9327.665946344387,
          -11272.550659257397,
          -13153.910309617675,
          -3418.6252347917016,
          -9329.08471220939,
          -8717.14552655885,
          -7276.018201497818,
          -4761.110040093244,
          -4396.316303783465,
          -1514.144478306196,
          -8816.84982187976,
          -7383.409748330986,
          -2969.6222783770536,
          -4036.6584435836153,
          -2531.57095853302,
          -6801.403623181697,
          -1952.580776030825,
          -2481.105745179805,
          -13233.016451110436,
          -18261.47489726233,
          -15943.261734425923,
          -14418.671298490415,
          -15654.737018148686,
          -13358.784432805478,
          -15091.939397025111,
          -13626.408661515732,
          -13082.114314106997,
          1727.641184049286,
          -3459.027900734212,
          -2608.774157148962,
          -3511.2997840723647,
          -3020.4815464346148,
          -2985.77542013554,
          -2823.04038055172,
          -3246.9712763419866,
          -2617.34171035408,
          -980.3341640229557,
          -4133.530346039134,
          -1118.433959200593,
          -1598.5625676880677,
          -1962.9580409877444,
          -3102.4221309563845,
          -4475.208499191621,
          -4229.7671337811835,
          -4432.256429066768,
          147.6485674068689,
          -3165.899195498155,
          -6882.853459191973,
          -8838.989318929309,
          -2947.2305542027616,
          -6324.024564416487,
          -7934.52992415002,
          1063.6329431779109,
          -908.2233310663557,
          -4541.960992998265,
          -1425.6328415087414,
          -1377.765989985592,
          -2578.7885525407937,
          -1483.3530268516033,
          -1995.3041394609186,
          -578.2304905368896,
          -3311.3839146916544,
          1032.0654946252446,
          -6833.673868634573,
          -2001.5854803675218,
          -6717.311247458186,
          -2132.226865229988,
          -4311.578524834775,
          -3727.4913138009074,
          -6372.030126049688,
          -3019.098416680564,
          -5896.700603770453,
          -4756.499727014418,
          -2770.3255203748076,
          -5205.256626641425,
          -4698.490766406196,
          -3346.91870727719,
          -5329.745974224593,
          -2486.3422247772914,
          103.27033953920167,
          -18055.94014766481,
          -4690.080444268608,
          -15136.876998147323,
          -10437.070485843353,
          -15898.283042800946,
          -8613.962483215388,
          -5280.110393752888,
          -8086.155527602723,
          -5703.490811174977,
          -1345.626979429396,
          -3951.747795354339,
          -4717.960027235204,
          -2878.356225481449,
          -2510.5395457121617,
          -973.8989146695478,
          -997.8168970567888,
          -2453.46412454458,
          230.31950836117952,
          -3418.8449874255202,
          -3860.390740077761,
          -3275.453161656855,
          47917.15767429605,
          -3826.493426627932,
          12429.319854560412,
          21168.09898672736,
          -1746.3924266424747,
          21442.822911995427,
          8336.668431062673,
          -4119.666722300871,
          10658.055461103773,
          -5765.035142282376,
          -13613.96084843546,
          10888.060853784564,
          14511.895086172803,
          21210.558962336163,
          27665.372609725553,
          -7583.070783860407,
          17278.63451512801,
          27583.326486240854,
          -3926.728268125773,
          4809.931408174303,
          2963.772222390217,
          19452.504076234887,
          19701.154652483514,
          12936.019383209048,
          7619.91421815401,
          4188.325901608865,
          26817.490723371353,
          -16086.120784541687,
          -7760.086120391775,
          -7235.35205965913,
          -9833.430105666375,
          -2832.016134928497,
          -11475.481824010982,
          -8882.89227093636,
          -7549.012033981555,
          6934.192678219482,
          5490.520609731864,
          7256.699474298547,
          5279.386172640587,
          15200.75295997662,
          14929.880743721966,
          10200.856036997948,
          17753.83203365614,
          7806.029777264056,
          6271.627812568674,
          -12052.59947686353,
          -9835.301238254311,
          -14104.7646313726,
          -12737.989797724664,
          -15457.933617963168,
          -14507.987995374071,
          -15405.292611362598,
          20657.70379659376,
          -7992.231675987193,
          -923.311292074517,
          3006.3290542542554,
          -11747.756474054198,
          -15129.465243332252,
          -11662.548819008602,
          -29358.78698190401,
          -21433.86019192705,
          -12485.521694096562,
          -5323.228229883747,
          -8244.200096959356,
          -1920.5753333338073,
          -4781.257003912618,
          -4027.5499897246664,
          -8502.254169363403,
          -1212.5075911741767,
          -4906.266379690699,
          852.4702968991529,
          -4869.156072412949,
          -6489.021060925193,
          -5729.436711622858,
          16844.310002721766,
          -5672.835740412075,
          -9143.892512682936,
          -3225.287182136175,
          -2617.9997838499985,
          -4116.245143954583,
          -9603.52621518304,
          -7693.448419028157,
          -9344.22879276069,
          -6281.131972312801,
          -5759.339193104042,
          160.19130326539036,
          -6641.974256435815,
          -7453.227169516353,
          -5485.85559998638,
          -179.74774757713405
         ]
        }
       ],
       "layout": {
        "template": {
         "data": {
          "bar": [
           {
            "error_x": {
             "color": "#2a3f5f"
            },
            "error_y": {
             "color": "#2a3f5f"
            },
            "marker": {
             "line": {
              "color": "#E5ECF6",
              "width": 0.5
             },
             "pattern": {
              "fillmode": "overlay",
              "size": 10,
              "solidity": 0.2
             }
            },
            "type": "bar"
           }
          ],
          "barpolar": [
           {
            "marker": {
             "line": {
              "color": "#E5ECF6",
              "width": 0.5
             },
             "pattern": {
              "fillmode": "overlay",
              "size": 10,
              "solidity": 0.2
             }
            },
            "type": "barpolar"
           }
          ],
          "carpet": [
           {
            "aaxis": {
             "endlinecolor": "#2a3f5f",
             "gridcolor": "white",
             "linecolor": "white",
             "minorgridcolor": "white",
             "startlinecolor": "#2a3f5f"
            },
            "baxis": {
             "endlinecolor": "#2a3f5f",
             "gridcolor": "white",
             "linecolor": "white",
             "minorgridcolor": "white",
             "startlinecolor": "#2a3f5f"
            },
            "type": "carpet"
           }
          ],
          "choropleth": [
           {
            "colorbar": {
             "outlinewidth": 0,
             "ticks": ""
            },
            "type": "choropleth"
           }
          ],
          "contour": [
           {
            "colorbar": {
             "outlinewidth": 0,
             "ticks": ""
            },
            "colorscale": [
             [
              0,
              "#0d0887"
             ],
             [
              0.1111111111111111,
              "#46039f"
             ],
             [
              0.2222222222222222,
              "#7201a8"
             ],
             [
              0.3333333333333333,
              "#9c179e"
             ],
             [
              0.4444444444444444,
              "#bd3786"
             ],
             [
              0.5555555555555556,
              "#d8576b"
             ],
             [
              0.6666666666666666,
              "#ed7953"
             ],
             [
              0.7777777777777778,
              "#fb9f3a"
             ],
             [
              0.8888888888888888,
              "#fdca26"
             ],
             [
              1,
              "#f0f921"
             ]
            ],
            "type": "contour"
           }
          ],
          "contourcarpet": [
           {
            "colorbar": {
             "outlinewidth": 0,
             "ticks": ""
            },
            "type": "contourcarpet"
           }
          ],
          "heatmap": [
           {
            "colorbar": {
             "outlinewidth": 0,
             "ticks": ""
            },
            "colorscale": [
             [
              0,
              "#0d0887"
             ],
             [
              0.1111111111111111,
              "#46039f"
             ],
             [
              0.2222222222222222,
              "#7201a8"
             ],
             [
              0.3333333333333333,
              "#9c179e"
             ],
             [
              0.4444444444444444,
              "#bd3786"
             ],
             [
              0.5555555555555556,
              "#d8576b"
             ],
             [
              0.6666666666666666,
              "#ed7953"
             ],
             [
              0.7777777777777778,
              "#fb9f3a"
             ],
             [
              0.8888888888888888,
              "#fdca26"
             ],
             [
              1,
              "#f0f921"
             ]
            ],
            "type": "heatmap"
           }
          ],
          "heatmapgl": [
           {
            "colorbar": {
             "outlinewidth": 0,
             "ticks": ""
            },
            "colorscale": [
             [
              0,
              "#0d0887"
             ],
             [
              0.1111111111111111,
              "#46039f"
             ],
             [
              0.2222222222222222,
              "#7201a8"
             ],
             [
              0.3333333333333333,
              "#9c179e"
             ],
             [
              0.4444444444444444,
              "#bd3786"
             ],
             [
              0.5555555555555556,
              "#d8576b"
             ],
             [
              0.6666666666666666,
              "#ed7953"
             ],
             [
              0.7777777777777778,
              "#fb9f3a"
             ],
             [
              0.8888888888888888,
              "#fdca26"
             ],
             [
              1,
              "#f0f921"
             ]
            ],
            "type": "heatmapgl"
           }
          ],
          "histogram": [
           {
            "marker": {
             "pattern": {
              "fillmode": "overlay",
              "size": 10,
              "solidity": 0.2
             }
            },
            "type": "histogram"
           }
          ],
          "histogram2d": [
           {
            "colorbar": {
             "outlinewidth": 0,
             "ticks": ""
            },
            "colorscale": [
             [
              0,
              "#0d0887"
             ],
             [
              0.1111111111111111,
              "#46039f"
             ],
             [
              0.2222222222222222,
              "#7201a8"
             ],
             [
              0.3333333333333333,
              "#9c179e"
             ],
             [
              0.4444444444444444,
              "#bd3786"
             ],
             [
              0.5555555555555556,
              "#d8576b"
             ],
             [
              0.6666666666666666,
              "#ed7953"
             ],
             [
              0.7777777777777778,
              "#fb9f3a"
             ],
             [
              0.8888888888888888,
              "#fdca26"
             ],
             [
              1,
              "#f0f921"
             ]
            ],
            "type": "histogram2d"
           }
          ],
          "histogram2dcontour": [
           {
            "colorbar": {
             "outlinewidth": 0,
             "ticks": ""
            },
            "colorscale": [
             [
              0,
              "#0d0887"
             ],
             [
              0.1111111111111111,
              "#46039f"
             ],
             [
              0.2222222222222222,
              "#7201a8"
             ],
             [
              0.3333333333333333,
              "#9c179e"
             ],
             [
              0.4444444444444444,
              "#bd3786"
             ],
             [
              0.5555555555555556,
              "#d8576b"
             ],
             [
              0.6666666666666666,
              "#ed7953"
             ],
             [
              0.7777777777777778,
              "#fb9f3a"
             ],
             [
              0.8888888888888888,
              "#fdca26"
             ],
             [
              1,
              "#f0f921"
             ]
            ],
            "type": "histogram2dcontour"
           }
          ],
          "mesh3d": [
           {
            "colorbar": {
             "outlinewidth": 0,
             "ticks": ""
            },
            "type": "mesh3d"
           }
          ],
          "parcoords": [
           {
            "line": {
             "colorbar": {
              "outlinewidth": 0,
              "ticks": ""
             }
            },
            "type": "parcoords"
           }
          ],
          "pie": [
           {
            "automargin": true,
            "type": "pie"
           }
          ],
          "scatter": [
           {
            "fillpattern": {
             "fillmode": "overlay",
             "size": 10,
             "solidity": 0.2
            },
            "type": "scatter"
           }
          ],
          "scatter3d": [
           {
            "line": {
             "colorbar": {
              "outlinewidth": 0,
              "ticks": ""
             }
            },
            "marker": {
             "colorbar": {
              "outlinewidth": 0,
              "ticks": ""
             }
            },
            "type": "scatter3d"
           }
          ],
          "scattercarpet": [
           {
            "marker": {
             "colorbar": {
              "outlinewidth": 0,
              "ticks": ""
             }
            },
            "type": "scattercarpet"
           }
          ],
          "scattergeo": [
           {
            "marker": {
             "colorbar": {
              "outlinewidth": 0,
              "ticks": ""
             }
            },
            "type": "scattergeo"
           }
          ],
          "scattergl": [
           {
            "marker": {
             "colorbar": {
              "outlinewidth": 0,
              "ticks": ""
             }
            },
            "type": "scattergl"
           }
          ],
          "scattermapbox": [
           {
            "marker": {
             "colorbar": {
              "outlinewidth": 0,
              "ticks": ""
             }
            },
            "type": "scattermapbox"
           }
          ],
          "scatterpolar": [
           {
            "marker": {
             "colorbar": {
              "outlinewidth": 0,
              "ticks": ""
             }
            },
            "type": "scatterpolar"
           }
          ],
          "scatterpolargl": [
           {
            "marker": {
             "colorbar": {
              "outlinewidth": 0,
              "ticks": ""
             }
            },
            "type": "scatterpolargl"
           }
          ],
          "scatterternary": [
           {
            "marker": {
             "colorbar": {
              "outlinewidth": 0,
              "ticks": ""
             }
            },
            "type": "scatterternary"
           }
          ],
          "surface": [
           {
            "colorbar": {
             "outlinewidth": 0,
             "ticks": ""
            },
            "colorscale": [
             [
              0,
              "#0d0887"
             ],
             [
              0.1111111111111111,
              "#46039f"
             ],
             [
              0.2222222222222222,
              "#7201a8"
             ],
             [
              0.3333333333333333,
              "#9c179e"
             ],
             [
              0.4444444444444444,
              "#bd3786"
             ],
             [
              0.5555555555555556,
              "#d8576b"
             ],
             [
              0.6666666666666666,
              "#ed7953"
             ],
             [
              0.7777777777777778,
              "#fb9f3a"
             ],
             [
              0.8888888888888888,
              "#fdca26"
             ],
             [
              1,
              "#f0f921"
             ]
            ],
            "type": "surface"
           }
          ],
          "table": [
           {
            "cells": {
             "fill": {
              "color": "#EBF0F8"
             },
             "line": {
              "color": "white"
             }
            },
            "header": {
             "fill": {
              "color": "#C8D4E3"
             },
             "line": {
              "color": "white"
             }
            },
            "type": "table"
           }
          ]
         },
         "layout": {
          "annotationdefaults": {
           "arrowcolor": "#2a3f5f",
           "arrowhead": 0,
           "arrowwidth": 1
          },
          "autotypenumbers": "strict",
          "coloraxis": {
           "colorbar": {
            "outlinewidth": 0,
            "ticks": ""
           }
          },
          "colorscale": {
           "diverging": [
            [
             0,
             "#8e0152"
            ],
            [
             0.1,
             "#c51b7d"
            ],
            [
             0.2,
             "#de77ae"
            ],
            [
             0.3,
             "#f1b6da"
            ],
            [
             0.4,
             "#fde0ef"
            ],
            [
             0.5,
             "#f7f7f7"
            ],
            [
             0.6,
             "#e6f5d0"
            ],
            [
             0.7,
             "#b8e186"
            ],
            [
             0.8,
             "#7fbc41"
            ],
            [
             0.9,
             "#4d9221"
            ],
            [
             1,
             "#276419"
            ]
           ],
           "sequential": [
            [
             0,
             "#0d0887"
            ],
            [
             0.1111111111111111,
             "#46039f"
            ],
            [
             0.2222222222222222,
             "#7201a8"
            ],
            [
             0.3333333333333333,
             "#9c179e"
            ],
            [
             0.4444444444444444,
             "#bd3786"
            ],
            [
             0.5555555555555556,
             "#d8576b"
            ],
            [
             0.6666666666666666,
             "#ed7953"
            ],
            [
             0.7777777777777778,
             "#fb9f3a"
            ],
            [
             0.8888888888888888,
             "#fdca26"
            ],
            [
             1,
             "#f0f921"
            ]
           ],
           "sequentialminus": [
            [
             0,
             "#0d0887"
            ],
            [
             0.1111111111111111,
             "#46039f"
            ],
            [
             0.2222222222222222,
             "#7201a8"
            ],
            [
             0.3333333333333333,
             "#9c179e"
            ],
            [
             0.4444444444444444,
             "#bd3786"
            ],
            [
             0.5555555555555556,
             "#d8576b"
            ],
            [
             0.6666666666666666,
             "#ed7953"
            ],
            [
             0.7777777777777778,
             "#fb9f3a"
            ],
            [
             0.8888888888888888,
             "#fdca26"
            ],
            [
             1,
             "#f0f921"
            ]
           ]
          },
          "colorway": [
           "#636efa",
           "#EF553B",
           "#00cc96",
           "#ab63fa",
           "#FFA15A",
           "#19d3f3",
           "#FF6692",
           "#B6E880",
           "#FF97FF",
           "#FECB52"
          ],
          "font": {
           "color": "#2a3f5f"
          },
          "geo": {
           "bgcolor": "white",
           "lakecolor": "white",
           "landcolor": "#E5ECF6",
           "showlakes": true,
           "showland": true,
           "subunitcolor": "white"
          },
          "hoverlabel": {
           "align": "left"
          },
          "hovermode": "closest",
          "mapbox": {
           "style": "light"
          },
          "paper_bgcolor": "white",
          "plot_bgcolor": "#E5ECF6",
          "polar": {
           "angularaxis": {
            "gridcolor": "white",
            "linecolor": "white",
            "ticks": ""
           },
           "bgcolor": "#E5ECF6",
           "radialaxis": {
            "gridcolor": "white",
            "linecolor": "white",
            "ticks": ""
           }
          },
          "scene": {
           "xaxis": {
            "backgroundcolor": "#E5ECF6",
            "gridcolor": "white",
            "gridwidth": 2,
            "linecolor": "white",
            "showbackground": true,
            "ticks": "",
            "zerolinecolor": "white"
           },
           "yaxis": {
            "backgroundcolor": "#E5ECF6",
            "gridcolor": "white",
            "gridwidth": 2,
            "linecolor": "white",
            "showbackground": true,
            "ticks": "",
            "zerolinecolor": "white"
           },
           "zaxis": {
            "backgroundcolor": "#E5ECF6",
            "gridcolor": "white",
            "gridwidth": 2,
            "linecolor": "white",
            "showbackground": true,
            "ticks": "",
            "zerolinecolor": "white"
           }
          },
          "shapedefaults": {
           "line": {
            "color": "#2a3f5f"
           }
          },
          "ternary": {
           "aaxis": {
            "gridcolor": "white",
            "linecolor": "white",
            "ticks": ""
           },
           "baxis": {
            "gridcolor": "white",
            "linecolor": "white",
            "ticks": ""
           },
           "bgcolor": "#E5ECF6",
           "caxis": {
            "gridcolor": "white",
            "linecolor": "white",
            "ticks": ""
           }
          },
          "title": {
           "x": 0.05
          },
          "xaxis": {
           "automargin": true,
           "gridcolor": "white",
           "linecolor": "white",
           "ticks": "",
           "title": {
            "standoff": 15
           },
           "zerolinecolor": "white",
           "zerolinewidth": 2
          },
          "yaxis": {
           "automargin": true,
           "gridcolor": "white",
           "linecolor": "white",
           "ticks": "",
           "title": {
            "standoff": 15
           },
           "zerolinecolor": "white",
           "zerolinewidth": 2
          }
         }
        }
       }
      }
     },
     "metadata": {},
     "output_type": "display_data"
    }
   ],
   "source": [
    "mds_kmeans = manifold.MDS(n_components=2)\n",
    "kmeans_mds_redux = mds_kmeans.fit_transform(X)\n",
    "print(kmeans_mds_redux.shape)\n",
    "fig = go.Figure()\n",
    "fig.add_traces(\n",
    "    go.Scatter(\n",
    "        x=kmeans_mds_redux[:,0],\n",
    "       y=kmeans_mds_redux[:,1],\n",
    "       mode=\"markers\",\n",
    "\n",
    "    )\n",
    ")\n",
    "fig.show()\n"
   ]
  },
  {
   "cell_type": "code",
   "execution_count": 85,
   "metadata": {},
   "outputs": [
    {
     "name": "stdout",
     "output_type": "stream",
     "text": [
      "(511, 2)\n"
     ]
    },
    {
     "data": {
      "application/vnd.plotly.v1+json": {
       "config": {
        "plotlyServerURL": "https://plot.ly"
       },
       "data": [
        {
         "marker": {
          "color": [
           1,
           1,
           1,
           4,
           1,
           1,
           1,
           1,
           1,
           1,
           1,
           2,
           2,
           2,
           2,
           2,
           2,
           2,
           4,
           1,
           4,
           4,
           1,
           4,
           1,
           4,
           1,
           4,
           1,
           0,
           0,
           1,
           1,
           4,
           4,
           1,
           4,
           1,
           1,
           1,
           1,
           1,
           4,
           4,
           4,
           1,
           4,
           1,
           4,
           4,
           4,
           4,
           4,
           4,
           1,
           4,
           1,
           4,
           4,
           4,
           1,
           2,
           2,
           1,
           2,
           2,
           2,
           2,
           2,
           2,
           2,
           2,
           2,
           2,
           2,
           2,
           2,
           2,
           2,
           2,
           1,
           1,
           1,
           1,
           1,
           4,
           1,
           1,
           1,
           1,
           1,
           1,
           1,
           4,
           1,
           1,
           1,
           1,
           1,
           1,
           4,
           1,
           1,
           1,
           1,
           1,
           1,
           1,
           1,
           1,
           4,
           4,
           4,
           4,
           0,
           0,
           0,
           0,
           0,
           0,
           0,
           0,
           0,
           4,
           0,
           4,
           1,
           1,
           1,
           1,
           1,
           0,
           0,
           4,
           1,
           3,
           1,
           4,
           0,
           0,
           3,
           3,
           3,
           3,
           3,
           4,
           4,
           4,
           0,
           0,
           0,
           3,
           0,
           0,
           0,
           0,
           0,
           0,
           0,
           3,
           3,
           0,
           4,
           4,
           3,
           3,
           0,
           0,
           0,
           0,
           0,
           0,
           0,
           3,
           3,
           3,
           3,
           3,
           3,
           3,
           3,
           3,
           0,
           0,
           0,
           3,
           3,
           3,
           0,
           0,
           0,
           3,
           3,
           3,
           4,
           4,
           4,
           0,
           4,
           4,
           4,
           4,
           4,
           4,
           4,
           4,
           4,
           4,
           4,
           4,
           0,
           3,
           3,
           0,
           0,
           0,
           0,
           0,
           0,
           0,
           0,
           0,
           0,
           0,
           0,
           0,
           0,
           3,
           3,
           3,
           0,
           0,
           0,
           0,
           3,
           4,
           4,
           4,
           4,
           4,
           4,
           0,
           0,
           0,
           3,
           3,
           3,
           3,
           3,
           3,
           3,
           3,
           3,
           3,
           3,
           3,
           3,
           3,
           3,
           3,
           3,
           3,
           3,
           3,
           3,
           3,
           3,
           3,
           3,
           3,
           3,
           3,
           3,
           3,
           3,
           3,
           3,
           3,
           3,
           3,
           3,
           3,
           3,
           3,
           3,
           3,
           3,
           3,
           3,
           3,
           3,
           3,
           3,
           3,
           3,
           3,
           0,
           0,
           0,
           0,
           0,
           0,
           0,
           0,
           3,
           3,
           3,
           3,
           3,
           3,
           3,
           3,
           3,
           3,
           3,
           0,
           0,
           0,
           0,
           0,
           0,
           0,
           0,
           3,
           3,
           3,
           3,
           3,
           3,
           3,
           3,
           3,
           3,
           3,
           3,
           0,
           3,
           3,
           0,
           0,
           0,
           0,
           0,
           0,
           0,
           0,
           0,
           3,
           3,
           3,
           3,
           3,
           3,
           3,
           3,
           3,
           3,
           3,
           3,
           3,
           3,
           3,
           3,
           3,
           3,
           3,
           3,
           3,
           3,
           3,
           3,
           3,
           3,
           3,
           3,
           3,
           3,
           3,
           3,
           3,
           3,
           3,
           3,
           3,
           3,
           3,
           3,
           3,
           3,
           3,
           3,
           3,
           3,
           3,
           3,
           3,
           3,
           3,
           3,
           0,
           0,
           3,
           0,
           0,
           0,
           3,
           3,
           3,
           3,
           3,
           3,
           3,
           3,
           3,
           3,
           3,
           3,
           3,
           3,
           3,
           3,
           2,
           3,
           2,
           2,
           2,
           2,
           2,
           2,
           2,
           2,
           2,
           2,
           2,
           2,
           2,
           2,
           2,
           2,
           2,
           2,
           2,
           2,
           2,
           2,
           2,
           2,
           2,
           2,
           3,
           3,
           3,
           3,
           3,
           3,
           3,
           4,
           4,
           4,
           4,
           1,
           1,
           4,
           1,
           4,
           4,
           0,
           0,
           0,
           0,
           0,
           0,
           0,
           1,
           3,
           3,
           0,
           0,
           0,
           0,
           0,
           0,
           0,
           3,
           3,
           3,
           3,
           3,
           3,
           3,
           3,
           3,
           3,
           3,
           3,
           1,
           3,
           3,
           3,
           3,
           3,
           3,
           3,
           3,
           3,
           3,
           3,
           3,
           3,
           3,
           3
          ]
         },
         "mode": "markers",
         "type": "scatter",
         "x": [
          -5.237607479095459,
          -5.389928817749023,
          -5.628800392150879,
          -12.801616668701172,
          -5.031446933746338,
          -5.334438800811768,
          -6.129161834716797,
          -4.1772565841674805,
          -4.361806392669678,
          -4.643763542175293,
          -5.810227394104004,
          14.731682777404785,
          15.730563163757324,
          15.506843566894531,
          12.404670715332031,
          15.598790168762207,
          15.232885360717773,
          16.199552536010742,
          -17.37133026123047,
          -9.005155563354492,
          -12.664159774780273,
          -13.698989868164062,
          -8.1317138671875,
          -15.161365509033203,
          -9.44760799407959,
          -15.068781852722168,
          -10.1875,
          -11.912588119506836,
          -3.930638313293457,
          11.36211109161377,
          8.704416275024414,
          -4.555144786834717,
          -6.059396743774414,
          -14.13768196105957,
          -14.81387996673584,
          -8.725913047790527,
          -15.352326393127441,
          -5.033450603485107,
          -9.006997108459473,
          -6.588855743408203,
          -7.427109241485596,
          -8.363016128540039,
          -13.057872772216797,
          -14.744194984436035,
          -15.212532043457031,
          -8.0917329788208,
          -12.087018966674805,
          -4.8503546714782715,
          -12.543201446533203,
          -12.531309127807617,
          -13.662406921386719,
          -12.619572639465332,
          -14.34445858001709,
          -13.592630386352539,
          -12.424479484558105,
          -10.379691123962402,
          -3.9531607627868652,
          -14.576048851013184,
          -15.951089859008789,
          -14.450224876403809,
          -8.629258155822754,
          12.797733306884766,
          11.74150276184082,
          -8.144065856933594,
          15.90767765045166,
          14.74051570892334,
          16.697202682495117,
          12.828279495239258,
          13.611407279968262,
          13.145586967468262,
          14.145110130310059,
          13.619919776916504,
          14.534575462341309,
          15.122714042663574,
          10.68237590789795,
          9.851482391357422,
          12.289994239807129,
          13.408896446228027,
          14.844541549682617,
          11.236282348632812,
          -10.419767379760742,
          -4.949700832366943,
          -6.727820873260498,
          -7.620151042938232,
          -7.298525810241699,
          -11.691378593444824,
          -7.820301055908203,
          -12.585721015930176,
          -9.82261848449707,
          -5.892813682556152,
          -9.771125793457031,
          -8.668355941772461,
          -7.302306652069092,
          -12.418865203857422,
          -9.81463623046875,
          -10.462993621826172,
          -6.51751184463501,
          -6.628787517547607,
          -10.12564468383789,
          -6.757567405700684,
          -12.25660514831543,
          -6.46389102935791,
          -10.667654037475586,
          -9.367908477783203,
          -7.880850791931152,
          -9.104812622070312,
          -8.12966537475586,
          -7.86775541305542,
          -10.69642162322998,
          -7.783027648925781,
          -16.5541934967041,
          -17.04248809814453,
          -15.677108764648438,
          -14.738564491271973,
          10.58460807800293,
          6.590329170227051,
          14.179851531982422,
          12.127010345458984,
          15.320426940917969,
          15.017516136169434,
          6.078197956085205,
          12.22604751586914,
          11.099227905273438,
          -13.803905487060547,
          10.000998497009277,
          -17.364770889282227,
          -4.258996486663818,
          -6.226057529449463,
          -6.9660844802856445,
          -5.306299209594727,
          -5.746833324432373,
          14.174951553344727,
          7.697422027587891,
          -12.959668159484863,
          -7.419970512390137,
          0.05726541951298714,
          -5.109773635864258,
          -15.935959815979004,
          12.969625473022461,
          13.05683708190918,
          3.321317672729492,
          1.6940925121307373,
          -2.3635263442993164,
          0.3889489471912384,
          2.569380521774292,
          -14.71145248413086,
          -15.032482147216797,
          -15.556175231933594,
          15.246034622192383,
          15.46260929107666,
          15.554815292358398,
          -5.5977559089660645,
          11.801677703857422,
          11.121487617492676,
          9.716506958007812,
          10.749999046325684,
          11.799725532531738,
          14.070234298706055,
          9.872574806213379,
          2.2350902557373047,
          2.5744481086730957,
          13.206915855407715,
          -14.160476684570312,
          -14.102926254272461,
          2.416377067565918,
          -0.5039187669754028,
          13.94799518585205,
          12.516633033752441,
          13.862017631530762,
          11.180445671081543,
          11.736895561218262,
          10.381436347961426,
          8.553141593933105,
          0.008839930407702923,
          1.0144798755645752,
          0.30111855268478394,
          -1.574721097946167,
          1.4022284746170044,
          -0.3271423876285553,
          -7.08354377746582,
          -5.3943562507629395,
          -0.4089207053184509,
          11.378589630126953,
          14.05164909362793,
          11.560133934020996,
          -1.5597562789916992,
          0.8498528599739075,
          1.1378512382507324,
          12.508354187011719,
          14.700216293334961,
          11.740355491638184,
          -1.3134833574295044,
          -7.658229351043701,
          2.74403977394104,
          -16.761592864990234,
          -16.529550552368164,
          -17.28399085998535,
          9.713971138000488,
          -15.302482604980469,
          -17.563846588134766,
          -17.072978973388672,
          -16.131296157836914,
          -16.12689971923828,
          -16.24934959411621,
          -13.86069107055664,
          -16.37700843811035,
          -13.769393920898438,
          -16.71103286743164,
          -17.213333129882812,
          -16.917621612548828,
          8.89084529876709,
          -1.1311174631118774,
          -2.1761391162872314,
          7.8238677978515625,
          12.255156517028809,
          7.790259838104248,
          8.80383014678955,
          8.923836708068848,
          12.17099666595459,
          7.306262969970703,
          10.211034774780273,
          9.91305923461914,
          9.771382331848145,
          10.903779029846191,
          11.585923194885254,
          11.725789070129395,
          11.065818786621094,
          -4.145179271697998,
          -4.3286261558532715,
          0.960882306098938,
          10.406126022338867,
          10.423938751220703,
          13.28321361541748,
          13.029863357543945,
          -4.400180339813232,
          -16.221227645874023,
          -14.78137493133545,
          -15.744027137756348,
          -16.803659439086914,
          -14.612760543823242,
          -16.410594940185547,
          8.424349784851074,
          12.797560691833496,
          12.61953353881836,
          3.3682339191436768,
          -2.0139122009277344,
          3.3399007320404053,
          -0.5372555255889893,
          -4.0909318923950195,
          -6.274704456329346,
          -6.949301719665527,
          -3.564771890640259,
          -3.0871548652648926,
          -4.552961349487305,
          -3.4527246952056885,
          -5.198550701141357,
          -2.44500470161438,
          -1.128375768661499,
          -3.121081829071045,
          -6.383944988250732,
          -4.880421161651611,
          -0.06849973648786545,
          -3.4570319652557373,
          -0.5530694723129272,
          -1.042205810546875,
          0.6305009126663208,
          -3.972273588180542,
          1.489957571029663,
          -3.232163667678833,
          -3.9364259243011475,
          -5.147744655609131,
          -3.910022258758545,
          -2.3101115226745605,
          -2.1171932220458984,
          -2.805788278579712,
          -4.356575012207031,
          -3.1550660133361816,
          -2.0481529235839844,
          -6.1122636795043945,
          -4.466902732849121,
          -4.715653419494629,
          0.542397141456604,
          -1.372772216796875,
          -0.8963629007339478,
          -0.9787999391555786,
          -5.83088493347168,
          -2.090148687362671,
          -5.459733009338379,
          -2.8035194873809814,
          -2.483546018600464,
          -1.9333412647247314,
          -5.0915069580078125,
          -4.99228572845459,
          -4.97691011428833,
          -0.9832279086112976,
          -0.5028536915779114,
          15.066370964050293,
          5.515103340148926,
          9.150253295898438,
          13.22225570678711,
          7.158463001251221,
          9.723356246948242,
          10.123832702636719,
          12.941934585571289,
          -2.780256986618042,
          3.4738101959228516,
          -5.5124053955078125,
          0.21925784647464752,
          -4.602270126342773,
          2.8577632904052734,
          -3.0506653785705566,
          -5.158796310424805,
          -1.9033231735229492,
          1.299725890159607,
          -0.6358391642570496,
          11.32496166229248,
          14.440834999084473,
          10.990965843200684,
          7.172438144683838,
          5.962812423706055,
          7.318065166473389,
          7.862239360809326,
          14.500832557678223,
          -4.361888885498047,
          -7.205469608306885,
          -7.244284629821777,
          -3.6631572246551514,
          -5.409063816070557,
          -3.9236035346984863,
          2.5058586597442627,
          0.9456210136413574,
          -2.868290901184082,
          -3.6144752502441406,
          -3.5844714641571045,
          -5.850865840911865,
          10.412845611572266,
          -2.5040695667266846,
          5.936918258666992,
          12.85863208770752,
          14.828256607055664,
          14.562553405761719,
          14.171907424926758,
          13.296195983886719,
          10.849990844726562,
          14.092292785644531,
          10.964215278625488,
          13.283976554870605,
          0.5733507871627808,
          5.042825222015381,
          -1.8747467994689941,
          -3.9510657787323,
          -3.351802110671997,
          4.790000915527344,
          2.2934646606445312,
          0.16498351097106934,
          -3.03684401512146,
          -2.350980758666992,
          2.1391565799713135,
          1.001379370689392,
          -1.4223092794418335,
          -3.3748013973236084,
          -4.23241662979126,
          -5.916488170623779,
          -1.3384628295898438,
          -2.9990875720977783,
          3.243626117706299,
          -2.7787013053894043,
          -0.718734860420227,
          -4.132205486297607,
          -1.0269743204116821,
          -6.155281066894531,
          -4.49503755569458,
          -2.0312840938568115,
          -5.0176167488098145,
          -4.825655460357666,
          -1.07107412815094,
          -2.576631784439087,
          -3.428260087966919,
          -1.3139371871948242,
          -1.7913728952407837,
          -0.7610180974006653,
          -4.001692771911621,
          1.5329333543777466,
          -7.335461616516113,
          -3.7399117946624756,
          -5.611972808837891,
          -3.5574817657470703,
          -6.2274909019470215,
          -1.6607540845870972,
          -6.832201957702637,
          -1.422707438468933,
          -5.284824371337891,
          -5.614559173583984,
          -2.9858384132385254,
          -4.407891750335693,
          -5.3151068687438965,
          -3.5214593410491943,
          -4.394622325897217,
          -3.834956407546997,
          9.777779579162598,
          10.408158302307129,
          -4.79801607131958,
          10.436241149902344,
          13.768436431884766,
          12.68379020690918,
          2.191981315612793,
          -4.132583141326904,
          -0.61915522813797,
          -4.873228073120117,
          0.8307365775108337,
          3.6790342330932617,
          -0.34485772252082825,
          -2.574846029281616,
          2.3876471519470215,
          2.663602352142334,
          2.9236538410186768,
          0.5248873829841614,
          2.4599037170410156,
          6.079169273376465,
          2.537174701690674,
          6.140073776245117,
          6.9188761711120605,
          -4.048830986022949,
          14.362309455871582,
          14.537138938903809,
          15.046086311340332,
          10.8882474899292,
          15.57699966430664,
          15.586782455444336,
          12.951777458190918,
          16.42827796936035,
          16.45169448852539,
          13.342061996459961,
          16.677064895629883,
          12.63565444946289,
          11.842926979064941,
          16.353559494018555,
          15.142060279846191,
          13.98343563079834,
          14.773951530456543,
          15.838616371154785,
          14.231266975402832,
          13.484282493591309,
          12.42453384399414,
          13.814651489257812,
          13.922765731811523,
          14.269152641296387,
          15.20943832397461,
          15.801652908325195,
          -2.049992561340332,
          4.6932172775268555,
          -7.780074119567871,
          4.441693305969238,
          -4.755614280700684,
          2.1339876651763916,
          -6.724232196807861,
          -14.883344650268555,
          -16.521629333496094,
          -14.424379348754883,
          -15.014217376708984,
          -5.776081085205078,
          -7.8650641441345215,
          -13.991698265075684,
          -5.690863609313965,
          -15.681241035461426,
          -14.557398796081543,
          7.857330322265625,
          12.169586181640625,
          8.114034652709961,
          11.014237403869629,
          14.230222702026367,
          10.752089500427246,
          14.403757095336914,
          -9.845158576965332,
          3.0486059188842773,
          5.482608795166016,
          10.121420860290527,
          13.857385635375977,
          14.622810363769531,
          14.004460334777832,
          16.300954818725586,
          15.782870292663574,
          10.238792419433594,
          -2.4296586513519287,
          -3.2533674240112305,
          2.6310346126556396,
          4.479321002960205,
          2.1057446002960205,
          -5.838852405548096,
          -1.2847316265106201,
          -4.7886223793029785,
          2.1879947185516357,
          -2.7527451515197754,
          -1.53025221824646,
          -2.317370653152466,
          -6.234850883483887,
          -2.023468255996704,
          -2.6152539253234863,
          1.3549917936325073,
          -0.18502768874168396,
          4.683846473693848,
          -4.122767448425293,
          -4.008617877960205,
          -3.0959277153015137,
          5.875717639923096,
          4.258925914764404,
          -3.7194833755493164,
          -3.6842730045318604,
          -4.165115833282471,
          -2.8229238986968994,
          1.344318151473999
         ],
         "y": [
          -28.43523597717285,
          -28.969993591308594,
          -30.177295684814453,
          -19.94458770751953,
          -27.43189239501953,
          -28.88883399963379,
          -27.889925003051758,
          -25.404844284057617,
          -26.482648849487305,
          -27.428911209106445,
          -27.06984519958496,
          -8.312517166137695,
          -9.065157890319824,
          -9.155051231384277,
          -6.637631416320801,
          -8.421773910522461,
          -8.101984977722168,
          -9.554182052612305,
          -24.145063400268555,
          -28.416580200195312,
          -24.42782974243164,
          -20.700355529785156,
          -27.9190731048584,
          -19.927715301513672,
          -28.820011138916016,
          -20.595365524291992,
          -29.240055084228516,
          -23.96156120300293,
          -27.322080612182617,
          9.739541053771973,
          16.344669342041016,
          -26.903602600097656,
          -28.69945526123047,
          -19.974185943603516,
          -22.887083053588867,
          -28.5107479095459,
          -22.989543914794922,
          -26.635469436645508,
          -27.504966735839844,
          -26.14692497253418,
          -28.083791732788086,
          -28.136308670043945,
          -20.909421920776367,
          -21.44682502746582,
          -22.61330795288086,
          -27.472410202026367,
          -24.20803451538086,
          -25.22865104675293,
          -23.798227310180664,
          -21.663171768188477,
          -20.479190826416016,
          -22.16733741760254,
          -22.952726364135742,
          -21.020397186279297,
          -24.197921752929688,
          -23.687036514282227,
          -26.808067321777344,
          -19.851415634155273,
          -22.574186325073242,
          -21.97063636779785,
          -29.47407341003418,
          -6.8867669105529785,
          -6.031369686126709,
          -29.820098876953125,
          -9.726783752441406,
          -8.832182884216309,
          -10.456199645996094,
          -6.888237476348877,
          -7.440485000610352,
          -7.197054386138916,
          -7.923524856567383,
          -9.346575736999512,
          -10.721060752868652,
          -9.642749786376953,
          -5.901913166046143,
          -5.775375843048096,
          -7.6512956619262695,
          -7.386105537414551,
          -9.15516185760498,
          -6.028286933898926,
          -25.883211135864258,
          -27.90902328491211,
          -29.405414581298828,
          -26.821697235107422,
          -28.5676326751709,
          -23.612869262695312,
          -29.203630447387695,
          -24.718305587768555,
          -29.464740753173828,
          -26.372005462646484,
          -24.51433753967285,
          -29.280277252197266,
          -29.233051300048828,
          -21.20353889465332,
          -29.10596466064453,
          -24.319780349731445,
          -28.506404876708984,
          -27.214757919311523,
          -30.016170501708984,
          -27.952909469604492,
          -20.594457626342773,
          -28.8624210357666,
          -30.390302658081055,
          -29.38328742980957,
          -25.94556999206543,
          -29.825838088989258,
          -29.35210418701172,
          -30.453399658203125,
          -30.29575538635254,
          -28.49989128112793,
          -23.78504753112793,
          -20.392208099365234,
          -18.888507843017578,
          -18.352252960205078,
          16.949222564697266,
          18.660022735595703,
          11.499277114868164,
          10.927845001220703,
          11.984684944152832,
          11.441509246826172,
          16.218481063842773,
          10.871684074401855,
          11.057601928710938,
          -19.789709091186523,
          13.890541076660156,
          -21.151084899902344,
          -26.31878662109375,
          -28.326763153076172,
          -27.360004425048828,
          -28.052034378051758,
          -27.230661392211914,
          8.742141723632812,
          16.195852279663086,
          -19.331035614013672,
          -24.944921493530273,
          10.694822311401367,
          -24.814517974853516,
          -18.868227005004883,
          8.513214111328125,
          15.712518692016602,
          -0.7416774034500122,
          10.867155075073242,
          17.474611282348633,
          12.067519187927246,
          -0.8888884782791138,
          -18.998722076416016,
          -19.176128387451172,
          -21.404817581176758,
          14.473694801330566,
          14.96440315246582,
          14.713858604431152,
          11.793614387512207,
          14.971824645996094,
          15.161799430847168,
          16.913129806518555,
          18.64589500427246,
          15.40818977355957,
          13.723796844482422,
          16.286298751831055,
          8.926909446716309,
          8.383620262145996,
          9.15961742401123,
          -17.474620819091797,
          -17.374732971191406,
          -0.38671591877937317,
          11.0596284866333,
          14.128695487976074,
          14.086663246154785,
          14.326613426208496,
          18.41869354248047,
          16.231914520263672,
          19.595609664916992,
          17.274343490600586,
          15.098917007446289,
          11.694820404052734,
          11.811833381652832,
          15.55649471282959,
          2.2798378467559814,
          5.309325218200684,
          14.956441879272461,
          15.736205101013184,
          12.498611450195312,
          11.868782043457031,
          14.118565559387207,
          17.932861328125,
          15.357230186462402,
          11.36688232421875,
          11.230377197265625,
          15.619074821472168,
          13.548066139221191,
          18.604949951171875,
          14.760832786560059,
          15.384475708007812,
          2.3161048889160156,
          -22.076141357421875,
          -21.64629554748535,
          -22.055891036987305,
          17.402790069580078,
          -21.595436096191406,
          -22.639326095581055,
          -22.76767921447754,
          -22.260133743286133,
          -22.058544158935547,
          -22.561763763427734,
          -23.16617202758789,
          -21.16250228881836,
          -22.49331283569336,
          -23.101402282714844,
          -22.878591537475586,
          -23.49876594543457,
          18.98607635498047,
          13.724343299865723,
          16.487436294555664,
          18.39239501953125,
          13.118085861206055,
          18.41912841796875,
          16.780242919921875,
          18.08060646057129,
          17.572675704956055,
          18.739322662353516,
          18.079845428466797,
          18.03605079650879,
          13.615313529968262,
          16.56529998779297,
          14.826583862304688,
          13.468939781188965,
          14.00977897644043,
          13.273877143859863,
          11.363598823547363,
          9.299938201904297,
          18.162397384643555,
          17.753997802734375,
          13.118401527404785,
          11.22819709777832,
          10.834436416625977,
          -20.895536422729492,
          -21.711727142333984,
          -20.584604263305664,
          -23.597537994384766,
          -22.31613540649414,
          -22.712265014648438,
          15.465890884399414,
          13.901158332824707,
          9.25039005279541,
          2.145625591278076,
          15.5179443359375,
          2.1307475566864014,
          15.07906436920166,
          17.12175178527832,
          11.840027809143066,
          10.923319816589355,
          15.767924308776855,
          16.32220458984375,
          8.932615280151367,
          10.34190845489502,
          9.729755401611328,
          12.934062957763672,
          6.630307197570801,
          7.373626232147217,
          7.6586384773254395,
          7.613224506378174,
          5.831045627593994,
          11.226116180419922,
          6.787404537200928,
          6.911598205566406,
          7.266179084777832,
          13.440771102905273,
          3.256284475326538,
          5.702125072479248,
          5.985020160675049,
          13.24688720703125,
          7.354355812072754,
          5.865556716918945,
          8.71773624420166,
          5.810301780700684,
          15.35900592803955,
          13.524574279785156,
          9.405258178710938,
          6.144576549530029,
          14.714960098266602,
          11.8699951171875,
          6.103891849517822,
          12.645764350891113,
          9.449267387390137,
          9.631007194519043,
          11.14699935913086,
          13.516220092773438,
          9.044398307800293,
          9.220426559448242,
          7.092165946960449,
          5.402498245239258,
          9.351309776306152,
          16.751853942871094,
          10.509050369262695,
          5.874252796173096,
          4.476322174072266,
          12.721659660339355,
          16.533294677734375,
          14.784981727600098,
          17.411483764648438,
          18.95817756652832,
          15.035895347595215,
          15.071052551269531,
          17.439918518066406,
          14.56069278717041,
          3.394090414047241,
          15.926992416381836,
          2.5549278259277344,
          5.259443759918213,
          4.68016242980957,
          15.037455558776855,
          15.985918045043945,
          4.454310894012451,
          4.84517765045166,
          4.899513244628906,
          11.103959083557129,
          12.945591926574707,
          11.195100784301758,
          19.041276931762695,
          16.642744064331055,
          18.272397994995117,
          18.222869873046875,
          10.125565528869629,
          13.304776191711426,
          14.94482135772705,
          14.796802520751953,
          6.141191005706787,
          9.872563362121582,
          9.940138816833496,
          0.8564239740371704,
          5.547891616821289,
          6.506377696990967,
          15.253007888793945,
          8.995113372802734,
          7.692525386810303,
          11.388496398925781,
          10.158082008361816,
          2.4873993396759033,
          13.495826721191406,
          9.43393325805664,
          8.906993865966797,
          8.691853523254395,
          10.690713882446289,
          15.49337100982666,
          9.97221851348877,
          12.437505722045898,
          9.293488502502441,
          12.567473411560059,
          2.4549477100372314,
          4.84815788269043,
          12.724746704101562,
          14.56612777709961,
          2.561293601989746,
          4.019230842590332,
          3.488075017929077,
          14.241332054138184,
          7.507140159606934,
          4.735327243804932,
          2.7163193225860596,
          8.040717124938965,
          11.867626190185547,
          8.106266975402832,
          10.190753936767578,
          6.178152084350586,
          15.894307136535645,
          0.8200200200080872,
          15.707189559936523,
          3.604041337966919,
          4.390489101409912,
          2.6778080463409424,
          9.343316078186035,
          4.881525039672852,
          0.9417206645011902,
          6.72230863571167,
          16.74321937561035,
          4.676121711730957,
          8.050790786743164,
          16.144208908081055,
          1.4625043869018555,
          11.845741271972656,
          1.44263756275177,
          16.099685668945312,
          -0.07956680655479431,
          15.943711280822754,
          14.942888259887695,
          8.081918716430664,
          16.567256927490234,
          9.805322647094727,
          5.904257774353027,
          10.415465354919434,
          7.24536657333374,
          8.237260818481445,
          8.276272773742676,
          9.41579532623291,
          8.21552562713623,
          10.045475006103516,
          15.773502349853516,
          10.381796836853027,
          7.854719638824463,
          11.470281600952148,
          19.28937530517578,
          16.39735984802246,
          13.114346504211426,
          12.738903999328613,
          11.801254272460938,
          6.1921820640563965,
          9.675714492797852,
          3.6496260166168213,
          14.827163696289062,
          4.0275750160217285,
          1.335562825202942,
          2.6088359355926514,
          8.61534595489502,
          4.209067344665527,
          1.5496853590011597,
          1.5105624198913574,
          4.767765045166016,
          2.8229784965515137,
          1.5692954063415527,
          3.8578436374664307,
          1.5015908479690552,
          -0.14640600979328156,
          9.879100799560547,
          -8.461563110351562,
          -9.83995532989502,
          -8.948863983154297,
          -5.95186185836792,
          -10.166826248168945,
          -9.339990615844727,
          -7.070346355438232,
          -9.817911148071289,
          -8.0045166015625,
          -7.442237854003906,
          -9.08980655670166,
          -8.302898406982422,
          -5.365208148956299,
          -9.02340316772461,
          -8.185559272766113,
          -6.094304084777832,
          -7.646332263946533,
          -10.079317092895508,
          -7.9859137535095215,
          -8.671117782592773,
          -6.650914192199707,
          -7.7860918045043945,
          -8.363930702209473,
          -7.2398576736450195,
          -6.744410037994385,
          -7.100522518157959,
          2.8337178230285645,
          3.768186330795288,
          8.843729972839355,
          3.4903404712677,
          4.0978102684021,
          6.41810941696167,
          13.432310104370117,
          -20.08017921447754,
          -23.14490509033203,
          -20.97501564025879,
          -20.448471069335938,
          -27.710474014282227,
          -27.772443771362305,
          -22.541221618652344,
          -27.0445556640625,
          -23.3118839263916,
          -20.738357543945312,
          17.160322189331055,
          11.08131217956543,
          15.3435697555542,
          14.339461326599121,
          8.512418746948242,
          16.62180519104004,
          12.283034324645996,
          -30.994338989257812,
          5.380229473114014,
          1.873960018157959,
          15.775612831115723,
          11.79025936126709,
          12.263725280761719,
          12.022427558898926,
          12.439458847045898,
          12.392596244812012,
          13.280198097229004,
          3.224663257598877,
          3.782135248184204,
          0.7226113080978394,
          1.397021770477295,
          1.006791114807129,
          5.0016279220581055,
          3.038306474685669,
          14.130014419555664,
          0.27278846502304077,
          3.7120800018310547,
          3.4875388145446777,
          3.1972200870513916,
          -27.332916259765625,
          1.8218740224838257,
          2.011706829071045,
          1.1683725118637085,
          0.3673582077026367,
          2.388357400894165,
          3.4634041786193848,
          2.7991042137145996,
          2.612677574157715,
          2.754047155380249,
          0.2187928408384323,
          1.4149527549743652,
          2.0100104808807373,
          2.6366798877716064,
          1.7465370893478394,
          0.9873113036155701
         ]
        }
       ],
       "layout": {
        "template": {
         "data": {
          "bar": [
           {
            "error_x": {
             "color": "#2a3f5f"
            },
            "error_y": {
             "color": "#2a3f5f"
            },
            "marker": {
             "line": {
              "color": "#E5ECF6",
              "width": 0.5
             },
             "pattern": {
              "fillmode": "overlay",
              "size": 10,
              "solidity": 0.2
             }
            },
            "type": "bar"
           }
          ],
          "barpolar": [
           {
            "marker": {
             "line": {
              "color": "#E5ECF6",
              "width": 0.5
             },
             "pattern": {
              "fillmode": "overlay",
              "size": 10,
              "solidity": 0.2
             }
            },
            "type": "barpolar"
           }
          ],
          "carpet": [
           {
            "aaxis": {
             "endlinecolor": "#2a3f5f",
             "gridcolor": "white",
             "linecolor": "white",
             "minorgridcolor": "white",
             "startlinecolor": "#2a3f5f"
            },
            "baxis": {
             "endlinecolor": "#2a3f5f",
             "gridcolor": "white",
             "linecolor": "white",
             "minorgridcolor": "white",
             "startlinecolor": "#2a3f5f"
            },
            "type": "carpet"
           }
          ],
          "choropleth": [
           {
            "colorbar": {
             "outlinewidth": 0,
             "ticks": ""
            },
            "type": "choropleth"
           }
          ],
          "contour": [
           {
            "colorbar": {
             "outlinewidth": 0,
             "ticks": ""
            },
            "colorscale": [
             [
              0,
              "#0d0887"
             ],
             [
              0.1111111111111111,
              "#46039f"
             ],
             [
              0.2222222222222222,
              "#7201a8"
             ],
             [
              0.3333333333333333,
              "#9c179e"
             ],
             [
              0.4444444444444444,
              "#bd3786"
             ],
             [
              0.5555555555555556,
              "#d8576b"
             ],
             [
              0.6666666666666666,
              "#ed7953"
             ],
             [
              0.7777777777777778,
              "#fb9f3a"
             ],
             [
              0.8888888888888888,
              "#fdca26"
             ],
             [
              1,
              "#f0f921"
             ]
            ],
            "type": "contour"
           }
          ],
          "contourcarpet": [
           {
            "colorbar": {
             "outlinewidth": 0,
             "ticks": ""
            },
            "type": "contourcarpet"
           }
          ],
          "heatmap": [
           {
            "colorbar": {
             "outlinewidth": 0,
             "ticks": ""
            },
            "colorscale": [
             [
              0,
              "#0d0887"
             ],
             [
              0.1111111111111111,
              "#46039f"
             ],
             [
              0.2222222222222222,
              "#7201a8"
             ],
             [
              0.3333333333333333,
              "#9c179e"
             ],
             [
              0.4444444444444444,
              "#bd3786"
             ],
             [
              0.5555555555555556,
              "#d8576b"
             ],
             [
              0.6666666666666666,
              "#ed7953"
             ],
             [
              0.7777777777777778,
              "#fb9f3a"
             ],
             [
              0.8888888888888888,
              "#fdca26"
             ],
             [
              1,
              "#f0f921"
             ]
            ],
            "type": "heatmap"
           }
          ],
          "heatmapgl": [
           {
            "colorbar": {
             "outlinewidth": 0,
             "ticks": ""
            },
            "colorscale": [
             [
              0,
              "#0d0887"
             ],
             [
              0.1111111111111111,
              "#46039f"
             ],
             [
              0.2222222222222222,
              "#7201a8"
             ],
             [
              0.3333333333333333,
              "#9c179e"
             ],
             [
              0.4444444444444444,
              "#bd3786"
             ],
             [
              0.5555555555555556,
              "#d8576b"
             ],
             [
              0.6666666666666666,
              "#ed7953"
             ],
             [
              0.7777777777777778,
              "#fb9f3a"
             ],
             [
              0.8888888888888888,
              "#fdca26"
             ],
             [
              1,
              "#f0f921"
             ]
            ],
            "type": "heatmapgl"
           }
          ],
          "histogram": [
           {
            "marker": {
             "pattern": {
              "fillmode": "overlay",
              "size": 10,
              "solidity": 0.2
             }
            },
            "type": "histogram"
           }
          ],
          "histogram2d": [
           {
            "colorbar": {
             "outlinewidth": 0,
             "ticks": ""
            },
            "colorscale": [
             [
              0,
              "#0d0887"
             ],
             [
              0.1111111111111111,
              "#46039f"
             ],
             [
              0.2222222222222222,
              "#7201a8"
             ],
             [
              0.3333333333333333,
              "#9c179e"
             ],
             [
              0.4444444444444444,
              "#bd3786"
             ],
             [
              0.5555555555555556,
              "#d8576b"
             ],
             [
              0.6666666666666666,
              "#ed7953"
             ],
             [
              0.7777777777777778,
              "#fb9f3a"
             ],
             [
              0.8888888888888888,
              "#fdca26"
             ],
             [
              1,
              "#f0f921"
             ]
            ],
            "type": "histogram2d"
           }
          ],
          "histogram2dcontour": [
           {
            "colorbar": {
             "outlinewidth": 0,
             "ticks": ""
            },
            "colorscale": [
             [
              0,
              "#0d0887"
             ],
             [
              0.1111111111111111,
              "#46039f"
             ],
             [
              0.2222222222222222,
              "#7201a8"
             ],
             [
              0.3333333333333333,
              "#9c179e"
             ],
             [
              0.4444444444444444,
              "#bd3786"
             ],
             [
              0.5555555555555556,
              "#d8576b"
             ],
             [
              0.6666666666666666,
              "#ed7953"
             ],
             [
              0.7777777777777778,
              "#fb9f3a"
             ],
             [
              0.8888888888888888,
              "#fdca26"
             ],
             [
              1,
              "#f0f921"
             ]
            ],
            "type": "histogram2dcontour"
           }
          ],
          "mesh3d": [
           {
            "colorbar": {
             "outlinewidth": 0,
             "ticks": ""
            },
            "type": "mesh3d"
           }
          ],
          "parcoords": [
           {
            "line": {
             "colorbar": {
              "outlinewidth": 0,
              "ticks": ""
             }
            },
            "type": "parcoords"
           }
          ],
          "pie": [
           {
            "automargin": true,
            "type": "pie"
           }
          ],
          "scatter": [
           {
            "fillpattern": {
             "fillmode": "overlay",
             "size": 10,
             "solidity": 0.2
            },
            "type": "scatter"
           }
          ],
          "scatter3d": [
           {
            "line": {
             "colorbar": {
              "outlinewidth": 0,
              "ticks": ""
             }
            },
            "marker": {
             "colorbar": {
              "outlinewidth": 0,
              "ticks": ""
             }
            },
            "type": "scatter3d"
           }
          ],
          "scattercarpet": [
           {
            "marker": {
             "colorbar": {
              "outlinewidth": 0,
              "ticks": ""
             }
            },
            "type": "scattercarpet"
           }
          ],
          "scattergeo": [
           {
            "marker": {
             "colorbar": {
              "outlinewidth": 0,
              "ticks": ""
             }
            },
            "type": "scattergeo"
           }
          ],
          "scattergl": [
           {
            "marker": {
             "colorbar": {
              "outlinewidth": 0,
              "ticks": ""
             }
            },
            "type": "scattergl"
           }
          ],
          "scattermapbox": [
           {
            "marker": {
             "colorbar": {
              "outlinewidth": 0,
              "ticks": ""
             }
            },
            "type": "scattermapbox"
           }
          ],
          "scatterpolar": [
           {
            "marker": {
             "colorbar": {
              "outlinewidth": 0,
              "ticks": ""
             }
            },
            "type": "scatterpolar"
           }
          ],
          "scatterpolargl": [
           {
            "marker": {
             "colorbar": {
              "outlinewidth": 0,
              "ticks": ""
             }
            },
            "type": "scatterpolargl"
           }
          ],
          "scatterternary": [
           {
            "marker": {
             "colorbar": {
              "outlinewidth": 0,
              "ticks": ""
             }
            },
            "type": "scatterternary"
           }
          ],
          "surface": [
           {
            "colorbar": {
             "outlinewidth": 0,
             "ticks": ""
            },
            "colorscale": [
             [
              0,
              "#0d0887"
             ],
             [
              0.1111111111111111,
              "#46039f"
             ],
             [
              0.2222222222222222,
              "#7201a8"
             ],
             [
              0.3333333333333333,
              "#9c179e"
             ],
             [
              0.4444444444444444,
              "#bd3786"
             ],
             [
              0.5555555555555556,
              "#d8576b"
             ],
             [
              0.6666666666666666,
              "#ed7953"
             ],
             [
              0.7777777777777778,
              "#fb9f3a"
             ],
             [
              0.8888888888888888,
              "#fdca26"
             ],
             [
              1,
              "#f0f921"
             ]
            ],
            "type": "surface"
           }
          ],
          "table": [
           {
            "cells": {
             "fill": {
              "color": "#EBF0F8"
             },
             "line": {
              "color": "white"
             }
            },
            "header": {
             "fill": {
              "color": "#C8D4E3"
             },
             "line": {
              "color": "white"
             }
            },
            "type": "table"
           }
          ]
         },
         "layout": {
          "annotationdefaults": {
           "arrowcolor": "#2a3f5f",
           "arrowhead": 0,
           "arrowwidth": 1
          },
          "autotypenumbers": "strict",
          "coloraxis": {
           "colorbar": {
            "outlinewidth": 0,
            "ticks": ""
           }
          },
          "colorscale": {
           "diverging": [
            [
             0,
             "#8e0152"
            ],
            [
             0.1,
             "#c51b7d"
            ],
            [
             0.2,
             "#de77ae"
            ],
            [
             0.3,
             "#f1b6da"
            ],
            [
             0.4,
             "#fde0ef"
            ],
            [
             0.5,
             "#f7f7f7"
            ],
            [
             0.6,
             "#e6f5d0"
            ],
            [
             0.7,
             "#b8e186"
            ],
            [
             0.8,
             "#7fbc41"
            ],
            [
             0.9,
             "#4d9221"
            ],
            [
             1,
             "#276419"
            ]
           ],
           "sequential": [
            [
             0,
             "#0d0887"
            ],
            [
             0.1111111111111111,
             "#46039f"
            ],
            [
             0.2222222222222222,
             "#7201a8"
            ],
            [
             0.3333333333333333,
             "#9c179e"
            ],
            [
             0.4444444444444444,
             "#bd3786"
            ],
            [
             0.5555555555555556,
             "#d8576b"
            ],
            [
             0.6666666666666666,
             "#ed7953"
            ],
            [
             0.7777777777777778,
             "#fb9f3a"
            ],
            [
             0.8888888888888888,
             "#fdca26"
            ],
            [
             1,
             "#f0f921"
            ]
           ],
           "sequentialminus": [
            [
             0,
             "#0d0887"
            ],
            [
             0.1111111111111111,
             "#46039f"
            ],
            [
             0.2222222222222222,
             "#7201a8"
            ],
            [
             0.3333333333333333,
             "#9c179e"
            ],
            [
             0.4444444444444444,
             "#bd3786"
            ],
            [
             0.5555555555555556,
             "#d8576b"
            ],
            [
             0.6666666666666666,
             "#ed7953"
            ],
            [
             0.7777777777777778,
             "#fb9f3a"
            ],
            [
             0.8888888888888888,
             "#fdca26"
            ],
            [
             1,
             "#f0f921"
            ]
           ]
          },
          "colorway": [
           "#636efa",
           "#EF553B",
           "#00cc96",
           "#ab63fa",
           "#FFA15A",
           "#19d3f3",
           "#FF6692",
           "#B6E880",
           "#FF97FF",
           "#FECB52"
          ],
          "font": {
           "color": "#2a3f5f"
          },
          "geo": {
           "bgcolor": "white",
           "lakecolor": "white",
           "landcolor": "#E5ECF6",
           "showlakes": true,
           "showland": true,
           "subunitcolor": "white"
          },
          "hoverlabel": {
           "align": "left"
          },
          "hovermode": "closest",
          "mapbox": {
           "style": "light"
          },
          "paper_bgcolor": "white",
          "plot_bgcolor": "#E5ECF6",
          "polar": {
           "angularaxis": {
            "gridcolor": "white",
            "linecolor": "white",
            "ticks": ""
           },
           "bgcolor": "#E5ECF6",
           "radialaxis": {
            "gridcolor": "white",
            "linecolor": "white",
            "ticks": ""
           }
          },
          "scene": {
           "xaxis": {
            "backgroundcolor": "#E5ECF6",
            "gridcolor": "white",
            "gridwidth": 2,
            "linecolor": "white",
            "showbackground": true,
            "ticks": "",
            "zerolinecolor": "white"
           },
           "yaxis": {
            "backgroundcolor": "#E5ECF6",
            "gridcolor": "white",
            "gridwidth": 2,
            "linecolor": "white",
            "showbackground": true,
            "ticks": "",
            "zerolinecolor": "white"
           },
           "zaxis": {
            "backgroundcolor": "#E5ECF6",
            "gridcolor": "white",
            "gridwidth": 2,
            "linecolor": "white",
            "showbackground": true,
            "ticks": "",
            "zerolinecolor": "white"
           }
          },
          "shapedefaults": {
           "line": {
            "color": "#2a3f5f"
           }
          },
          "ternary": {
           "aaxis": {
            "gridcolor": "white",
            "linecolor": "white",
            "ticks": ""
           },
           "baxis": {
            "gridcolor": "white",
            "linecolor": "white",
            "ticks": ""
           },
           "bgcolor": "#E5ECF6",
           "caxis": {
            "gridcolor": "white",
            "linecolor": "white",
            "ticks": ""
           }
          },
          "title": {
           "x": 0.05
          },
          "xaxis": {
           "automargin": true,
           "gridcolor": "white",
           "linecolor": "white",
           "ticks": "",
           "title": {
            "standoff": 15
           },
           "zerolinecolor": "white",
           "zerolinewidth": 2
          },
          "yaxis": {
           "automargin": true,
           "gridcolor": "white",
           "linecolor": "white",
           "ticks": "",
           "title": {
            "standoff": 15
           },
           "zerolinecolor": "white",
           "zerolinewidth": 2
          }
         }
        }
       }
      }
     },
     "metadata": {},
     "output_type": "display_data"
    }
   ],
   "source": [
    "tsne = manifold.TSNE(n_components=2, perplexity=40)\n",
    "tsne_redux = tsne.fit_transform(X)\n",
    "print(tsne_redux.shape)\n",
    "fig = go.Figure()\n",
    "fig.add_traces(\n",
    "    go.Scatter(\n",
    "        x=tsne_redux[:,0],\n",
    "       y=tsne_redux[:,1],\n",
    "       mode=\"markers\",\n",
    "       marker = {\n",
    "           \"color\":kmeans.labels_\n",
    "       }\n",
    "    )\n",
    ")\n",
    "fig.show()\n"
   ]
  }
 ],
 "metadata": {
  "kernelspec": {
   "display_name": ".venv",
   "language": "python",
   "name": "python3"
  },
  "language_info": {
   "codemirror_mode": {
    "name": "ipython",
    "version": 3
   },
   "file_extension": ".py",
   "mimetype": "text/x-python",
   "name": "python",
   "nbconvert_exporter": "python",
   "pygments_lexer": "ipython3",
   "version": "3.9.6"
  }
 },
 "nbformat": 4,
 "nbformat_minor": 2
}
