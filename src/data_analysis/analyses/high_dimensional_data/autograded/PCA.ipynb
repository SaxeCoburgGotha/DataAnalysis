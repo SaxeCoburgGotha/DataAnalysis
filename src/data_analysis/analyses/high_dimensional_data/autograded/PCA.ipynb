{
 "cells": [
  {
   "cell_type": "markdown",
   "metadata": {},
   "source": [
    "# Genomics & High Dimensional Data"
   ]
  },
  {
   "cell_type": "markdown",
   "metadata": {},
   "source": [
    "#### Preliminaries"
   ]
  },
  {
   "cell_type": "markdown",
   "metadata": {},
   "source": [
    "##### Libraries"
   ]
  },
  {
   "cell_type": "code",
   "execution_count": 1,
   "metadata": {},
   "outputs": [],
   "source": [
    "from os import path\n",
    "import numpy as np\n",
    "import pandas as pd\n",
    "from sklearn import decomposition\n",
    "import plotly.express as px\n",
    "import plotly.graph_objects as go"
   ]
  },
  {
   "cell_type": "markdown",
   "metadata": {},
   "source": [
    "##### Utilities"
   ]
  },
  {
   "cell_type": "code",
   "execution_count": 2,
   "metadata": {},
   "outputs": [],
   "source": [
    "from utilities import json as utl_json"
   ]
  },
  {
   "cell_type": "markdown",
   "metadata": {},
   "source": [
    "##### Configuration"
   ]
  },
  {
   "cell_type": "code",
   "execution_count": 3,
   "metadata": {},
   "outputs": [],
   "source": [
    "env_config = utl_json.to_dict(file_path=\"../../config/env.json\")"
   ]
  },
  {
   "cell_type": "markdown",
   "metadata": {},
   "source": [
    "## PCA"
   ]
  },
  {
   "cell_type": "code",
   "execution_count": 4,
   "metadata": {},
   "outputs": [],
   "source": [
    "X = np.load(\n",
    "    file=path.normpath(\n",
    "        path.join(\n",
    "            env_config['root'],\n",
    "            \"modules/m2/data/p1\",\n",
    "            \"X.npy\"\n",
    "        )\n",
    "    )\n",
    ")"
   ]
  },
  {
   "cell_type": "code",
   "execution_count": 5,
   "metadata": {},
   "outputs": [],
   "source": [
    "X_log = np.log2((X + 1))"
   ]
  },
  {
   "cell_type": "code",
   "execution_count": 6,
   "metadata": {},
   "outputs": [
    {
     "data": {
      "text/plain": [
       "3.6939215228197613"
      ]
     },
     "execution_count": 6,
     "metadata": {},
     "output_type": "execute_result"
    }
   ],
   "source": [
    "max(X_log[:, 0])"
   ]
  },
  {
   "cell_type": "code",
   "execution_count": 7,
   "metadata": {},
   "outputs": [],
   "source": [
    "pca_raw = decomposition.PCA()\n",
    "pca_log = decomposition.PCA()"
   ]
  },
  {
   "cell_type": "code",
   "execution_count": 8,
   "metadata": {},
   "outputs": [
    {
     "data": {
      "text/html": [
       "<style>#sk-container-id-1 {\n",
       "  /* Definition of color scheme common for light and dark mode */\n",
       "  --sklearn-color-text: black;\n",
       "  --sklearn-color-line: gray;\n",
       "  /* Definition of color scheme for unfitted estimators */\n",
       "  --sklearn-color-unfitted-level-0: #fff5e6;\n",
       "  --sklearn-color-unfitted-level-1: #f6e4d2;\n",
       "  --sklearn-color-unfitted-level-2: #ffe0b3;\n",
       "  --sklearn-color-unfitted-level-3: chocolate;\n",
       "  /* Definition of color scheme for fitted estimators */\n",
       "  --sklearn-color-fitted-level-0: #f0f8ff;\n",
       "  --sklearn-color-fitted-level-1: #d4ebff;\n",
       "  --sklearn-color-fitted-level-2: #b3dbfd;\n",
       "  --sklearn-color-fitted-level-3: cornflowerblue;\n",
       "\n",
       "  /* Specific color for light theme */\n",
       "  --sklearn-color-text-on-default-background: var(--sg-text-color, var(--theme-code-foreground, var(--jp-content-font-color1, black)));\n",
       "  --sklearn-color-background: var(--sg-background-color, var(--theme-background, var(--jp-layout-color0, white)));\n",
       "  --sklearn-color-border-box: var(--sg-text-color, var(--theme-code-foreground, var(--jp-content-font-color1, black)));\n",
       "  --sklearn-color-icon: #696969;\n",
       "\n",
       "  @media (prefers-color-scheme: dark) {\n",
       "    /* Redefinition of color scheme for dark theme */\n",
       "    --sklearn-color-text-on-default-background: var(--sg-text-color, var(--theme-code-foreground, var(--jp-content-font-color1, white)));\n",
       "    --sklearn-color-background: var(--sg-background-color, var(--theme-background, var(--jp-layout-color0, #111)));\n",
       "    --sklearn-color-border-box: var(--sg-text-color, var(--theme-code-foreground, var(--jp-content-font-color1, white)));\n",
       "    --sklearn-color-icon: #878787;\n",
       "  }\n",
       "}\n",
       "\n",
       "#sk-container-id-1 {\n",
       "  color: var(--sklearn-color-text);\n",
       "}\n",
       "\n",
       "#sk-container-id-1 pre {\n",
       "  padding: 0;\n",
       "}\n",
       "\n",
       "#sk-container-id-1 input.sk-hidden--visually {\n",
       "  border: 0;\n",
       "  clip: rect(1px 1px 1px 1px);\n",
       "  clip: rect(1px, 1px, 1px, 1px);\n",
       "  height: 1px;\n",
       "  margin: -1px;\n",
       "  overflow: hidden;\n",
       "  padding: 0;\n",
       "  position: absolute;\n",
       "  width: 1px;\n",
       "}\n",
       "\n",
       "#sk-container-id-1 div.sk-dashed-wrapped {\n",
       "  border: 1px dashed var(--sklearn-color-line);\n",
       "  margin: 0 0.4em 0.5em 0.4em;\n",
       "  box-sizing: border-box;\n",
       "  padding-bottom: 0.4em;\n",
       "  background-color: var(--sklearn-color-background);\n",
       "}\n",
       "\n",
       "#sk-container-id-1 div.sk-container {\n",
       "  /* jupyter's `normalize.less` sets `[hidden] { display: none; }`\n",
       "     but bootstrap.min.css set `[hidden] { display: none !important; }`\n",
       "     so we also need the `!important` here to be able to override the\n",
       "     default hidden behavior on the sphinx rendered scikit-learn.org.\n",
       "     See: https://github.com/scikit-learn/scikit-learn/issues/21755 */\n",
       "  display: inline-block !important;\n",
       "  position: relative;\n",
       "}\n",
       "\n",
       "#sk-container-id-1 div.sk-text-repr-fallback {\n",
       "  display: none;\n",
       "}\n",
       "\n",
       "div.sk-parallel-item,\n",
       "div.sk-serial,\n",
       "div.sk-item {\n",
       "  /* draw centered vertical line to link estimators */\n",
       "  background-image: linear-gradient(var(--sklearn-color-text-on-default-background), var(--sklearn-color-text-on-default-background));\n",
       "  background-size: 2px 100%;\n",
       "  background-repeat: no-repeat;\n",
       "  background-position: center center;\n",
       "}\n",
       "\n",
       "/* Parallel-specific style estimator block */\n",
       "\n",
       "#sk-container-id-1 div.sk-parallel-item::after {\n",
       "  content: \"\";\n",
       "  width: 100%;\n",
       "  border-bottom: 2px solid var(--sklearn-color-text-on-default-background);\n",
       "  flex-grow: 1;\n",
       "}\n",
       "\n",
       "#sk-container-id-1 div.sk-parallel {\n",
       "  display: flex;\n",
       "  align-items: stretch;\n",
       "  justify-content: center;\n",
       "  background-color: var(--sklearn-color-background);\n",
       "  position: relative;\n",
       "}\n",
       "\n",
       "#sk-container-id-1 div.sk-parallel-item {\n",
       "  display: flex;\n",
       "  flex-direction: column;\n",
       "}\n",
       "\n",
       "#sk-container-id-1 div.sk-parallel-item:first-child::after {\n",
       "  align-self: flex-end;\n",
       "  width: 50%;\n",
       "}\n",
       "\n",
       "#sk-container-id-1 div.sk-parallel-item:last-child::after {\n",
       "  align-self: flex-start;\n",
       "  width: 50%;\n",
       "}\n",
       "\n",
       "#sk-container-id-1 div.sk-parallel-item:only-child::after {\n",
       "  width: 0;\n",
       "}\n",
       "\n",
       "/* Serial-specific style estimator block */\n",
       "\n",
       "#sk-container-id-1 div.sk-serial {\n",
       "  display: flex;\n",
       "  flex-direction: column;\n",
       "  align-items: center;\n",
       "  background-color: var(--sklearn-color-background);\n",
       "  padding-right: 1em;\n",
       "  padding-left: 1em;\n",
       "}\n",
       "\n",
       "\n",
       "/* Toggleable style: style used for estimator/Pipeline/ColumnTransformer box that is\n",
       "clickable and can be expanded/collapsed.\n",
       "- Pipeline and ColumnTransformer use this feature and define the default style\n",
       "- Estimators will overwrite some part of the style using the `sk-estimator` class\n",
       "*/\n",
       "\n",
       "/* Pipeline and ColumnTransformer style (default) */\n",
       "\n",
       "#sk-container-id-1 div.sk-toggleable {\n",
       "  /* Default theme specific background. It is overwritten whether we have a\n",
       "  specific estimator or a Pipeline/ColumnTransformer */\n",
       "  background-color: var(--sklearn-color-background);\n",
       "}\n",
       "\n",
       "/* Toggleable label */\n",
       "#sk-container-id-1 label.sk-toggleable__label {\n",
       "  cursor: pointer;\n",
       "  display: block;\n",
       "  width: 100%;\n",
       "  margin-bottom: 0;\n",
       "  padding: 0.5em;\n",
       "  box-sizing: border-box;\n",
       "  text-align: center;\n",
       "}\n",
       "\n",
       "#sk-container-id-1 label.sk-toggleable__label-arrow:before {\n",
       "  /* Arrow on the left of the label */\n",
       "  content: \"▸\";\n",
       "  float: left;\n",
       "  margin-right: 0.25em;\n",
       "  color: var(--sklearn-color-icon);\n",
       "}\n",
       "\n",
       "#sk-container-id-1 label.sk-toggleable__label-arrow:hover:before {\n",
       "  color: var(--sklearn-color-text);\n",
       "}\n",
       "\n",
       "/* Toggleable content - dropdown */\n",
       "\n",
       "#sk-container-id-1 div.sk-toggleable__content {\n",
       "  max-height: 0;\n",
       "  max-width: 0;\n",
       "  overflow: hidden;\n",
       "  text-align: left;\n",
       "  /* unfitted */\n",
       "  background-color: var(--sklearn-color-unfitted-level-0);\n",
       "}\n",
       "\n",
       "#sk-container-id-1 div.sk-toggleable__content.fitted {\n",
       "  /* fitted */\n",
       "  background-color: var(--sklearn-color-fitted-level-0);\n",
       "}\n",
       "\n",
       "#sk-container-id-1 div.sk-toggleable__content pre {\n",
       "  margin: 0.2em;\n",
       "  border-radius: 0.25em;\n",
       "  color: var(--sklearn-color-text);\n",
       "  /* unfitted */\n",
       "  background-color: var(--sklearn-color-unfitted-level-0);\n",
       "}\n",
       "\n",
       "#sk-container-id-1 div.sk-toggleable__content.fitted pre {\n",
       "  /* unfitted */\n",
       "  background-color: var(--sklearn-color-fitted-level-0);\n",
       "}\n",
       "\n",
       "#sk-container-id-1 input.sk-toggleable__control:checked~div.sk-toggleable__content {\n",
       "  /* Expand drop-down */\n",
       "  max-height: 200px;\n",
       "  max-width: 100%;\n",
       "  overflow: auto;\n",
       "}\n",
       "\n",
       "#sk-container-id-1 input.sk-toggleable__control:checked~label.sk-toggleable__label-arrow:before {\n",
       "  content: \"▾\";\n",
       "}\n",
       "\n",
       "/* Pipeline/ColumnTransformer-specific style */\n",
       "\n",
       "#sk-container-id-1 div.sk-label input.sk-toggleable__control:checked~label.sk-toggleable__label {\n",
       "  color: var(--sklearn-color-text);\n",
       "  background-color: var(--sklearn-color-unfitted-level-2);\n",
       "}\n",
       "\n",
       "#sk-container-id-1 div.sk-label.fitted input.sk-toggleable__control:checked~label.sk-toggleable__label {\n",
       "  background-color: var(--sklearn-color-fitted-level-2);\n",
       "}\n",
       "\n",
       "/* Estimator-specific style */\n",
       "\n",
       "/* Colorize estimator box */\n",
       "#sk-container-id-1 div.sk-estimator input.sk-toggleable__control:checked~label.sk-toggleable__label {\n",
       "  /* unfitted */\n",
       "  background-color: var(--sklearn-color-unfitted-level-2);\n",
       "}\n",
       "\n",
       "#sk-container-id-1 div.sk-estimator.fitted input.sk-toggleable__control:checked~label.sk-toggleable__label {\n",
       "  /* fitted */\n",
       "  background-color: var(--sklearn-color-fitted-level-2);\n",
       "}\n",
       "\n",
       "#sk-container-id-1 div.sk-label label.sk-toggleable__label,\n",
       "#sk-container-id-1 div.sk-label label {\n",
       "  /* The background is the default theme color */\n",
       "  color: var(--sklearn-color-text-on-default-background);\n",
       "}\n",
       "\n",
       "/* On hover, darken the color of the background */\n",
       "#sk-container-id-1 div.sk-label:hover label.sk-toggleable__label {\n",
       "  color: var(--sklearn-color-text);\n",
       "  background-color: var(--sklearn-color-unfitted-level-2);\n",
       "}\n",
       "\n",
       "/* Label box, darken color on hover, fitted */\n",
       "#sk-container-id-1 div.sk-label.fitted:hover label.sk-toggleable__label.fitted {\n",
       "  color: var(--sklearn-color-text);\n",
       "  background-color: var(--sklearn-color-fitted-level-2);\n",
       "}\n",
       "\n",
       "/* Estimator label */\n",
       "\n",
       "#sk-container-id-1 div.sk-label label {\n",
       "  font-family: monospace;\n",
       "  font-weight: bold;\n",
       "  display: inline-block;\n",
       "  line-height: 1.2em;\n",
       "}\n",
       "\n",
       "#sk-container-id-1 div.sk-label-container {\n",
       "  text-align: center;\n",
       "}\n",
       "\n",
       "/* Estimator-specific */\n",
       "#sk-container-id-1 div.sk-estimator {\n",
       "  font-family: monospace;\n",
       "  border: 1px dotted var(--sklearn-color-border-box);\n",
       "  border-radius: 0.25em;\n",
       "  box-sizing: border-box;\n",
       "  margin-bottom: 0.5em;\n",
       "  /* unfitted */\n",
       "  background-color: var(--sklearn-color-unfitted-level-0);\n",
       "}\n",
       "\n",
       "#sk-container-id-1 div.sk-estimator.fitted {\n",
       "  /* fitted */\n",
       "  background-color: var(--sklearn-color-fitted-level-0);\n",
       "}\n",
       "\n",
       "/* on hover */\n",
       "#sk-container-id-1 div.sk-estimator:hover {\n",
       "  /* unfitted */\n",
       "  background-color: var(--sklearn-color-unfitted-level-2);\n",
       "}\n",
       "\n",
       "#sk-container-id-1 div.sk-estimator.fitted:hover {\n",
       "  /* fitted */\n",
       "  background-color: var(--sklearn-color-fitted-level-2);\n",
       "}\n",
       "\n",
       "/* Specification for estimator info (e.g. \"i\" and \"?\") */\n",
       "\n",
       "/* Common style for \"i\" and \"?\" */\n",
       "\n",
       ".sk-estimator-doc-link,\n",
       "a:link.sk-estimator-doc-link,\n",
       "a:visited.sk-estimator-doc-link {\n",
       "  float: right;\n",
       "  font-size: smaller;\n",
       "  line-height: 1em;\n",
       "  font-family: monospace;\n",
       "  background-color: var(--sklearn-color-background);\n",
       "  border-radius: 1em;\n",
       "  height: 1em;\n",
       "  width: 1em;\n",
       "  text-decoration: none !important;\n",
       "  margin-left: 1ex;\n",
       "  /* unfitted */\n",
       "  border: var(--sklearn-color-unfitted-level-1) 1pt solid;\n",
       "  color: var(--sklearn-color-unfitted-level-1);\n",
       "}\n",
       "\n",
       ".sk-estimator-doc-link.fitted,\n",
       "a:link.sk-estimator-doc-link.fitted,\n",
       "a:visited.sk-estimator-doc-link.fitted {\n",
       "  /* fitted */\n",
       "  border: var(--sklearn-color-fitted-level-1) 1pt solid;\n",
       "  color: var(--sklearn-color-fitted-level-1);\n",
       "}\n",
       "\n",
       "/* On hover */\n",
       "div.sk-estimator:hover .sk-estimator-doc-link:hover,\n",
       ".sk-estimator-doc-link:hover,\n",
       "div.sk-label-container:hover .sk-estimator-doc-link:hover,\n",
       ".sk-estimator-doc-link:hover {\n",
       "  /* unfitted */\n",
       "  background-color: var(--sklearn-color-unfitted-level-3);\n",
       "  color: var(--sklearn-color-background);\n",
       "  text-decoration: none;\n",
       "}\n",
       "\n",
       "div.sk-estimator.fitted:hover .sk-estimator-doc-link.fitted:hover,\n",
       ".sk-estimator-doc-link.fitted:hover,\n",
       "div.sk-label-container:hover .sk-estimator-doc-link.fitted:hover,\n",
       ".sk-estimator-doc-link.fitted:hover {\n",
       "  /* fitted */\n",
       "  background-color: var(--sklearn-color-fitted-level-3);\n",
       "  color: var(--sklearn-color-background);\n",
       "  text-decoration: none;\n",
       "}\n",
       "\n",
       "/* Span, style for the box shown on hovering the info icon */\n",
       ".sk-estimator-doc-link span {\n",
       "  display: none;\n",
       "  z-index: 9999;\n",
       "  position: relative;\n",
       "  font-weight: normal;\n",
       "  right: .2ex;\n",
       "  padding: .5ex;\n",
       "  margin: .5ex;\n",
       "  width: min-content;\n",
       "  min-width: 20ex;\n",
       "  max-width: 50ex;\n",
       "  color: var(--sklearn-color-text);\n",
       "  box-shadow: 2pt 2pt 4pt #999;\n",
       "  /* unfitted */\n",
       "  background: var(--sklearn-color-unfitted-level-0);\n",
       "  border: .5pt solid var(--sklearn-color-unfitted-level-3);\n",
       "}\n",
       "\n",
       ".sk-estimator-doc-link.fitted span {\n",
       "  /* fitted */\n",
       "  background: var(--sklearn-color-fitted-level-0);\n",
       "  border: var(--sklearn-color-fitted-level-3);\n",
       "}\n",
       "\n",
       ".sk-estimator-doc-link:hover span {\n",
       "  display: block;\n",
       "}\n",
       "\n",
       "/* \"?\"-specific style due to the `<a>` HTML tag */\n",
       "\n",
       "#sk-container-id-1 a.estimator_doc_link {\n",
       "  float: right;\n",
       "  font-size: 1rem;\n",
       "  line-height: 1em;\n",
       "  font-family: monospace;\n",
       "  background-color: var(--sklearn-color-background);\n",
       "  border-radius: 1rem;\n",
       "  height: 1rem;\n",
       "  width: 1rem;\n",
       "  text-decoration: none;\n",
       "  /* unfitted */\n",
       "  color: var(--sklearn-color-unfitted-level-1);\n",
       "  border: var(--sklearn-color-unfitted-level-1) 1pt solid;\n",
       "}\n",
       "\n",
       "#sk-container-id-1 a.estimator_doc_link.fitted {\n",
       "  /* fitted */\n",
       "  border: var(--sklearn-color-fitted-level-1) 1pt solid;\n",
       "  color: var(--sklearn-color-fitted-level-1);\n",
       "}\n",
       "\n",
       "/* On hover */\n",
       "#sk-container-id-1 a.estimator_doc_link:hover {\n",
       "  /* unfitted */\n",
       "  background-color: var(--sklearn-color-unfitted-level-3);\n",
       "  color: var(--sklearn-color-background);\n",
       "  text-decoration: none;\n",
       "}\n",
       "\n",
       "#sk-container-id-1 a.estimator_doc_link.fitted:hover {\n",
       "  /* fitted */\n",
       "  background-color: var(--sklearn-color-fitted-level-3);\n",
       "}\n",
       "</style><div id=\"sk-container-id-1\" class=\"sk-top-container\"><div class=\"sk-text-repr-fallback\"><pre>PCA()</pre><b>In a Jupyter environment, please rerun this cell to show the HTML representation or trust the notebook. <br />On GitHub, the HTML representation is unable to render, please try loading this page with nbviewer.org.</b></div><div class=\"sk-container\" hidden><div class=\"sk-item\"><div class=\"sk-estimator fitted sk-toggleable\"><input class=\"sk-toggleable__control sk-hidden--visually\" id=\"sk-estimator-id-1\" type=\"checkbox\" checked><label for=\"sk-estimator-id-1\" class=\"sk-toggleable__label fitted sk-toggleable__label-arrow fitted\">&nbsp;&nbsp;PCA<a class=\"sk-estimator-doc-link fitted\" rel=\"noreferrer\" target=\"_blank\" href=\"https://scikit-learn.org/1.5/modules/generated/sklearn.decomposition.PCA.html\">?<span>Documentation for PCA</span></a><span class=\"sk-estimator-doc-link fitted\">i<span>Fitted</span></span></label><div class=\"sk-toggleable__content fitted\"><pre>PCA()</pre></div> </div></div></div></div>"
      ],
      "text/plain": [
       "PCA()"
      ]
     },
     "execution_count": 8,
     "metadata": {},
     "output_type": "execute_result"
    }
   ],
   "source": [
    "pca_raw.fit(X)\n",
    "pca_log.fit(X_log)"
   ]
  },
  {
   "cell_type": "code",
   "execution_count": 9,
   "metadata": {},
   "outputs": [
    {
     "data": {
      "text/plain": [
       "511"
      ]
     },
     "execution_count": 9,
     "metadata": {},
     "output_type": "execute_result"
    }
   ],
   "source": [
    "pca_raw.n_components_"
   ]
  },
  {
   "cell_type": "code",
   "execution_count": 10,
   "metadata": {},
   "outputs": [
    {
     "data": {
      "text/plain": [
       "511"
      ]
     },
     "execution_count": 10,
     "metadata": {},
     "output_type": "execute_result"
    }
   ],
   "source": [
    "pca_log.n_components_"
   ]
  },
  {
   "cell_type": "code",
   "execution_count": 11,
   "metadata": {},
   "outputs": [
    {
     "data": {
      "text/plain": [
       "0.4277967098357265"
      ]
     },
     "execution_count": 11,
     "metadata": {},
     "output_type": "execute_result"
    }
   ],
   "source": [
    "pca_raw.explained_variance_ratio_[0]"
   ]
  },
  {
   "cell_type": "code",
   "execution_count": 12,
   "metadata": {},
   "outputs": [
    {
     "data": {
      "text/plain": [
       "0.13887564870826197"
      ]
     },
     "execution_count": 12,
     "metadata": {},
     "output_type": "execute_result"
    }
   ],
   "source": [
    "pca_log.explained_variance_ratio_[0]"
   ]
  },
  {
   "cell_type": "code",
   "execution_count": 13,
   "metadata": {},
   "outputs": [],
   "source": [
    "pca_frame = (\n",
    "    pd.DataFrame({\n",
    "        \"explained_variance_ratio_raw\":pca_raw.explained_variance_ratio_,\n",
    "        \"cumsum_explained_variance_raw\": np.cumsum(pca_raw.explained_variance_ratio_),\n",
    "        \"explained_variance_ratio_log\":pca_log.explained_variance_ratio_,\n",
    "        \"cumsum_explained_variance_log\": np.cumsum(pca_log.explained_variance_ratio_),\n",
    "        \"pc_idx\":[i for i in range(1, (X.shape[0]+1))] \n",
    "    })\n",
    ")"
   ]
  },
  {
   "cell_type": "code",
   "execution_count": 14,
   "metadata": {},
   "outputs": [
    {
     "data": {
      "text/html": [
       "<div>\n",
       "<style scoped>\n",
       "    .dataframe tbody tr th:only-of-type {\n",
       "        vertical-align: middle;\n",
       "    }\n",
       "\n",
       "    .dataframe tbody tr th {\n",
       "        vertical-align: top;\n",
       "    }\n",
       "\n",
       "    .dataframe thead th {\n",
       "        text-align: right;\n",
       "    }\n",
       "</style>\n",
       "<table border=\"1\" class=\"dataframe\">\n",
       "  <thead>\n",
       "    <tr style=\"text-align: right;\">\n",
       "      <th></th>\n",
       "      <th>explained_variance_ratio_raw</th>\n",
       "      <th>cumsum_explained_variance_raw</th>\n",
       "      <th>explained_variance_ratio_log</th>\n",
       "      <th>cumsum_explained_variance_log</th>\n",
       "      <th>pc_idx</th>\n",
       "    </tr>\n",
       "  </thead>\n",
       "  <tbody>\n",
       "    <tr>\n",
       "      <th>503</th>\n",
       "      <td>0.000048</td>\n",
       "      <td>0.999732</td>\n",
       "      <td>0.000643</td>\n",
       "      <td>0.996381</td>\n",
       "      <td>504</td>\n",
       "    </tr>\n",
       "  </tbody>\n",
       "</table>\n",
       "</div>"
      ],
      "text/plain": [
       "     explained_variance_ratio_raw  cumsum_explained_variance_raw  \\\n",
       "503                      0.000048                       0.999732   \n",
       "\n",
       "     explained_variance_ratio_log  cumsum_explained_variance_log  pc_idx  \n",
       "503                      0.000643                       0.996381     504  "
      ]
     },
     "execution_count": 14,
     "metadata": {},
     "output_type": "execute_result"
    }
   ],
   "source": [
    "pca_frame.sample()"
   ]
  },
  {
   "cell_type": "code",
   "execution_count": 17,
   "metadata": {},
   "outputs": [
    {
     "data": {
      "application/vnd.plotly.v1+json": {
       "config": {
        "plotlyServerURL": "https://plot.ly"
       },
       "data": [
        {
         "mode": "lines+markers",
         "name": "Raw Data",
         "type": "scatter",
         "x": [
          1,
          2,
          3,
          4,
          5,
          6,
          7,
          8,
          9,
          10,
          11,
          12,
          13,
          14,
          15,
          16,
          17,
          18,
          19,
          20,
          21,
          22,
          23,
          24,
          25,
          26,
          27,
          28,
          29,
          30,
          31,
          32,
          33,
          34,
          35,
          36,
          37,
          38,
          39,
          40,
          41,
          42,
          43,
          44,
          45,
          46,
          47,
          48,
          49,
          50,
          51,
          52,
          53,
          54,
          55,
          56,
          57,
          58,
          59,
          60,
          61,
          62,
          63,
          64,
          65,
          66,
          67,
          68,
          69,
          70,
          71,
          72,
          73,
          74,
          75,
          76,
          77,
          78,
          79,
          80,
          81,
          82,
          83,
          84,
          85,
          86,
          87,
          88,
          89,
          90,
          91,
          92,
          93,
          94,
          95,
          96,
          97,
          98,
          99,
          100,
          101,
          102,
          103,
          104,
          105,
          106,
          107,
          108,
          109,
          110,
          111,
          112,
          113,
          114,
          115,
          116,
          117,
          118,
          119,
          120,
          121,
          122,
          123,
          124,
          125,
          126,
          127,
          128,
          129,
          130,
          131,
          132,
          133,
          134,
          135,
          136,
          137,
          138,
          139,
          140,
          141,
          142,
          143,
          144,
          145,
          146,
          147,
          148,
          149,
          150,
          151,
          152,
          153,
          154,
          155,
          156,
          157,
          158,
          159,
          160,
          161,
          162,
          163,
          164,
          165,
          166,
          167,
          168,
          169,
          170,
          171,
          172,
          173,
          174,
          175,
          176,
          177,
          178,
          179,
          180,
          181,
          182,
          183,
          184,
          185,
          186,
          187,
          188,
          189,
          190,
          191,
          192,
          193,
          194,
          195,
          196,
          197,
          198,
          199,
          200,
          201,
          202,
          203,
          204,
          205,
          206,
          207,
          208,
          209,
          210,
          211,
          212,
          213,
          214,
          215,
          216,
          217,
          218,
          219,
          220,
          221,
          222,
          223,
          224,
          225,
          226,
          227,
          228,
          229,
          230,
          231,
          232,
          233,
          234,
          235,
          236,
          237,
          238,
          239,
          240,
          241,
          242,
          243,
          244,
          245,
          246,
          247,
          248,
          249,
          250,
          251,
          252,
          253,
          254,
          255,
          256,
          257,
          258,
          259,
          260,
          261,
          262,
          263,
          264,
          265,
          266,
          267,
          268,
          269,
          270,
          271,
          272,
          273,
          274,
          275,
          276,
          277,
          278,
          279,
          280,
          281,
          282,
          283,
          284,
          285,
          286,
          287,
          288,
          289,
          290,
          291,
          292,
          293,
          294,
          295,
          296,
          297,
          298,
          299,
          300,
          301,
          302,
          303,
          304,
          305,
          306,
          307,
          308,
          309,
          310,
          311,
          312,
          313,
          314,
          315,
          316,
          317,
          318,
          319,
          320,
          321,
          322,
          323,
          324,
          325,
          326,
          327,
          328,
          329,
          330,
          331,
          332,
          333,
          334,
          335,
          336,
          337,
          338,
          339,
          340,
          341,
          342,
          343,
          344,
          345,
          346,
          347,
          348,
          349,
          350,
          351,
          352,
          353,
          354,
          355,
          356,
          357,
          358,
          359,
          360,
          361,
          362,
          363,
          364,
          365,
          366,
          367,
          368,
          369,
          370,
          371,
          372,
          373,
          374,
          375,
          376,
          377,
          378,
          379,
          380,
          381,
          382,
          383,
          384,
          385,
          386,
          387,
          388,
          389,
          390,
          391,
          392,
          393,
          394,
          395,
          396,
          397,
          398,
          399,
          400,
          401,
          402,
          403,
          404,
          405,
          406,
          407,
          408,
          409,
          410,
          411,
          412,
          413,
          414,
          415,
          416,
          417,
          418,
          419,
          420,
          421,
          422,
          423,
          424,
          425,
          426,
          427,
          428,
          429,
          430,
          431,
          432,
          433,
          434,
          435,
          436,
          437,
          438,
          439,
          440,
          441,
          442,
          443,
          444,
          445,
          446,
          447,
          448,
          449,
          450,
          451,
          452,
          453,
          454,
          455,
          456,
          457,
          458,
          459,
          460,
          461,
          462,
          463,
          464,
          465,
          466,
          467,
          468,
          469,
          470,
          471,
          472,
          473,
          474,
          475,
          476,
          477,
          478,
          479,
          480,
          481,
          482,
          483,
          484,
          485,
          486,
          487,
          488,
          489,
          490,
          491,
          492,
          493,
          494,
          495,
          496,
          497,
          498,
          499,
          500,
          501,
          502,
          503,
          504,
          505,
          506,
          507,
          508,
          509,
          510,
          511
         ],
         "y": [
          0.4277967098357265,
          0.5758367874380608,
          0.6336920665757566,
          0.6766409129774091,
          0.7007512575279191,
          0.7174631618260258,
          0.7315576894740298,
          0.742706741115196,
          0.7523076587974901,
          0.7594026007125004,
          0.7657027066743984,
          0.7716084480754716,
          0.7767441717404189,
          0.7816702096958121,
          0.7860815725899898,
          0.7904082865266165,
          0.7943081847499738,
          0.7980185192670236,
          0.8016191997692687,
          0.805160010678515,
          0.8085820040225157,
          0.8119366408749511,
          0.8151106963839557,
          0.8181610254060658,
          0.8211372537194508,
          0.8240725285404312,
          0.8268985865256201,
          0.8296962765917123,
          0.8324333959409594,
          0.8351265881972724,
          0.8377725563017109,
          0.840315577095465,
          0.8427995848816077,
          0.8452745522565878,
          0.8477008088390013,
          0.8500942561971224,
          0.852451218505945,
          0.8547736510299354,
          0.856983962094733,
          0.8591895447653229,
          0.8613330458435543,
          0.8634476081569337,
          0.8655380925452655,
          0.8675900413271092,
          0.8695886991500689,
          0.8715640802825055,
          0.8735201006475117,
          0.8754540096814772,
          0.8773266163715618,
          0.8791659402174963,
          0.8809806292800387,
          0.8827462360590448,
          0.8844938778892554,
          0.8862075110403638,
          0.8878760355628937,
          0.8895031625030263,
          0.8910939832776825,
          0.8926468009892295,
          0.8941142469433622,
          0.8955747393164626,
          0.8970180340603295,
          0.8984249814707498,
          0.8998228546433784,
          0.9011811617658108,
          0.9025217109091377,
          0.9038174466384922,
          0.9050838802874576,
          0.9063235647730848,
          0.9075040354383925,
          0.9086685814699025,
          0.9098232925187004,
          0.9109592639539075,
          0.9120611618366482,
          0.9131368409947499,
          0.914196755358435,
          0.9152412117719196,
          0.9162384351371106,
          0.917214401058459,
          0.9181394914503409,
          0.9190464022897106,
          0.9199336579689616,
          0.920791156825596,
          0.9216294523520421,
          0.9224376591947608,
          0.9231988736648946,
          0.9239431495053253,
          0.9246770272668012,
          0.9253951461171029,
          0.926107780236119,
          0.9267898525141248,
          0.9274575947642145,
          0.9281177785588348,
          0.9287476719253452,
          0.929355043162069,
          0.9299578055916036,
          0.9305231833953002,
          0.9310832869649781,
          0.9316382690993504,
          0.9321725546233761,
          0.9327056339613737,
          0.9332280033550638,
          0.9337390945955027,
          0.9342429277834695,
          0.9347387633633718,
          0.9352220711474833,
          0.9357007555854148,
          0.9361718566796977,
          0.9366339087480512,
          0.9370911277699799,
          0.9375377192383758,
          0.9379774271096828,
          0.9384091801266572,
          0.9388380027039914,
          0.939260980828567,
          0.9396783677849165,
          0.9400930172995986,
          0.9404938521791709,
          0.9408916792716586,
          0.9412847917873786,
          0.9416767171862601,
          0.9420583339052404,
          0.9424372494102714,
          0.9428116094655642,
          0.9431805903512336,
          0.9435459384848345,
          0.9439073839353499,
          0.9442638466086293,
          0.9446176054428436,
          0.9449693929330053,
          0.9453161527339207,
          0.9456567827523936,
          0.9459972454769613,
          0.9463341523203824,
          0.9466690346252911,
          0.9469987436822063,
          0.9473259120461474,
          0.9476475907077619,
          0.9479656599863171,
          0.948282476626148,
          0.9485965560346115,
          0.9489071843020481,
          0.9492151450789174,
          0.9495225873624851,
          0.9498278039903619,
          0.9501320487769903,
          0.9504304975858778,
          0.9507275340978679,
          0.9510232796230782,
          0.9513160268359112,
          0.9516068410816608,
          0.9518971772869645,
          0.9521846874566953,
          0.9524708198613652,
          0.9527553960322568,
          0.9530372897286782,
          0.9533182621247631,
          0.9535950534559716,
          0.9538709718714735,
          0.9541465473103458,
          0.9544179740413605,
          0.9546876906589109,
          0.9549560102120276,
          0.9552219196043548,
          0.9554869127679391,
          0.9557509800622934,
          0.9560125019980075,
          0.956272419625057,
          0.9565299413217347,
          0.9567862012692739,
          0.9570415260460499,
          0.9572951363095703,
          0.9575454766751245,
          0.9577955680745042,
          0.9580438341178619,
          0.9582903966846729,
          0.9585364121427563,
          0.9587804293713775,
          0.9590238217655863,
          0.9592646871836911,
          0.9595039933421445,
          0.9597424115174555,
          0.9599793882037057,
          0.9602155480317568,
          0.960450076540145,
          0.9606834866279508,
          0.9609144930023333,
          0.9611448397150117,
          0.9613747631317072,
          0.9616036480259145,
          0.9618311789415859,
          0.9620566373869468,
          0.9622801098738056,
          0.9625024562778016,
          0.9627234294516744,
          0.9629437136343134,
          0.9631631179234653,
          0.9633803865375687,
          0.9635968120810102,
          0.9638123652730176,
          0.964026843849861,
          0.9642405705870537,
          0.96445359110391,
          0.9646654383288216,
          0.9648762598777133,
          0.9650855228877542,
          0.965293398434978,
          0.965499720087562,
          0.9657052547761885,
          0.9659099885046453,
          0.9661137322980413,
          0.9663173635904955,
          0.9665206083190246,
          0.9667219234681428,
          0.9669214099607587,
          0.9671205680102958,
          0.9673186167937347,
          0.9675160166070927,
          0.9677119900992635,
          0.9679075387753479,
          0.9681020549666384,
          0.9682952553177894,
          0.9684870841690792,
          0.9686780896138253,
          0.9688683823959594,
          0.9690576734853683,
          0.9692458719897851,
          0.9694331811709711,
          0.9696192105278156,
          0.9698047821005034,
          0.9699901802756492,
          0.9701751544555911,
          0.9703592392661021,
          0.9705428117753734,
          0.9707260607703924,
          0.9709072808276412,
          0.9710880719694476,
          0.9712682080628862,
          0.9714473315971744,
          0.9716262745583832,
          0.9718048761569011,
          0.9719820336460885,
          0.9721586169838379,
          0.972333592307547,
          0.9725083728811976,
          0.9726818459474625,
          0.9728542004953975,
          0.9730261167279565,
          0.9731973895153537,
          0.9733677679954295,
          0.973537514640038,
          0.9737065146984833,
          0.9738741820684578,
          0.9740415330593234,
          0.974208337291938,
          0.974374198223607,
          0.9745395661041493,
          0.974704596334524,
          0.9748685097621849,
          0.9750319482164935,
          0.9751948928384686,
          0.9753560751700161,
          0.9755168664393954,
          0.9756773404821446,
          0.9758372309841998,
          0.975996093843666,
          0.9761542164403653,
          0.9763118374804403,
          0.9764686923597257,
          0.976624669985715,
          0.9767802474914238,
          0.9769354774087748,
          0.9770904290229002,
          0.9772450270120402,
          0.9773984961379194,
          0.9775511866923914,
          0.9777026430381269,
          0.9778533945676487,
          0.9780032406734855,
          0.9781521040968942,
          0.9783008032551009,
          0.978448664643198,
          0.9785956373728227,
          0.9787421667297098,
          0.9788885277499405,
          0.979033897231611,
          0.9791790771374875,
          0.9793233299358332,
          0.9794672502547809,
          0.9796104495478294,
          0.9797528685048221,
          0.9798946869206303,
          0.9800356790903064,
          0.9801765079204472,
          0.9803169107037085,
          0.98045716633136,
          0.9805966406437522,
          0.9807359823814366,
          0.9808748706715239,
          0.9810129751204201,
          0.9811501597931259,
          0.9812868581532677,
          0.9814230019803841,
          0.9815586282203508,
          0.981693968480692,
          0.9818282882000854,
          0.9819622549494,
          0.9820954918387683,
          0.9822276200999973,
          0.9823594900409334,
          0.9824906887432059,
          0.9826217688912915,
          0.9827521278280368,
          0.982881999498923,
          0.9830111219197507,
          0.9831396986305518,
          0.9832678847868547,
          0.9833955753736996,
          0.9835228007432364,
          0.9836497467359279,
          0.9837764491287367,
          0.9839022793607611,
          0.9840277186998233,
          0.9841528647148203,
          0.9842772968063879,
          0.9844014896430251,
          0.9845253593272909,
          0.984648002066693,
          0.9847705321293663,
          0.9848928978444447,
          0.9850144775330253,
          0.985135703597534,
          0.9852567506037344,
          0.9853769925734184,
          0.9854967704837766,
          0.9856162231936467,
          0.985735367611103,
          0.9858540069313615,
          0.9859718381459909,
          0.9860895150382084,
          0.986207060367984,
          0.986324031719375,
          0.986440402497932,
          0.9865561486423318,
          0.9866713646675929,
          0.9867861682048144,
          0.9869004222103651,
          0.9870145165526296,
          0.9871278725732083,
          0.987240634628053,
          0.9873526826844585,
          0.9874645182454244,
          0.9875757590485158,
          0.9876866504969679,
          0.987797004832823,
          0.9879071303140795,
          0.9880168466579701,
          0.9881263224974373,
          0.9882351714386707,
          0.9883436410342865,
          0.9884514942413706,
          0.988558825565311,
          0.988665928321401,
          0.9887725318079015,
          0.9888789107882002,
          0.9889843225048263,
          0.9890894088672585,
          0.9891943058004004,
          0.9892990520684367,
          0.9894029165421904,
          0.9895060218907034,
          0.9896088813399013,
          0.989711387141251,
          0.9898134980216193,
          0.9899153116880809,
          0.9900165406420415,
          0.9901172062858173,
          0.9902176220472202,
          0.9903177922543547,
          0.99041770360147,
          0.9905168937001926,
          0.990615811376768,
          0.9907140448988183,
          0.9908119939194306,
          0.9909090760329571,
          0.9910059231257239,
          0.9911026631161504,
          0.9911989854873792,
          0.9912945424855322,
          0.991389914636256,
          0.9914850553011052,
          0.9915800095412642,
          0.9916745370328554,
          0.9917687953694212,
          0.9918623072574028,
          0.9919554478422086,
          0.9920483287626626,
          0.9921409796950312,
          0.9922330788914472,
          0.9923250128570174,
          0.9924162985057742,
          0.9925073816405589,
          0.992598177690739,
          0.9926882894971081,
          0.9927778313621923,
          0.9928667406233176,
          0.9929555250730067,
          0.9930441171333533,
          0.9931317458418712,
          0.9932192714931156,
          0.9933063270270024,
          0.9933929388115997,
          0.993479189079002,
          0.9935653963615741,
          0.9936509487716874,
          0.9937363028409221,
          0.9938209108775219,
          0.9939053091425674,
          0.9939892691694778,
          0.9940725925379601,
          0.9941556022820318,
          0.9942383099913608,
          0.9943209429617323,
          0.9944029288387524,
          0.994484656271006,
          0.9945655034777138,
          0.9946462262468286,
          0.9947265525278485,
          0.9948065979723801,
          0.9948861759910589,
          0.9949653576621019,
          0.9950441452640741,
          0.9951223698994299,
          0.995200334301307,
          0.995277787115595,
          0.9953549184723591,
          0.995431698691791,
          0.9955080993951612,
          0.9955838695846768,
          0.9956593023629517,
          0.9957345585760606,
          0.9958093181729699,
          0.9958837274947814,
          0.9959576904255042,
          0.9960312687253905,
          0.9961044353801886,
          0.996177191088421,
          0.9962496878079701,
          0.9963217943519004,
          0.9963936908137471,
          0.9964652599712324,
          0.9965366196463,
          0.9966079188388767,
          0.9966784976665095,
          0.9967485608606743,
          0.9968179620972063,
          0.9968870384712654,
          0.9969556670999284,
          0.9970241724940334,
          0.9970923006099022,
          0.9971599288022026,
          0.9972270680345464,
          0.9972936520005438,
          0.9973601236929779,
          0.9974264374754489,
          0.9974922729735755,
          0.9975578855876833,
          0.9976231888881334,
          0.997687947142609,
          0.9977521060361387,
          0.9978156702343348,
          0.9978789306606614,
          0.9979415762020275,
          0.9980041253786258,
          0.9980663832248986,
          0.9981284778042082,
          0.9981901894886902,
          0.9982515571247769,
          0.9983121032302364,
          0.9983722653500992,
          0.9984322073554323,
          0.9984918226460471,
          0.9985508363608393,
          0.9986096269844212,
          0.9986678205814824,
          0.9987256952037897,
          0.9987830610522871,
          0.9988401591792878,
          0.9988971004183541,
          0.9989534018854037,
          0.9990091640909474,
          0.9990644525813781,
          0.9991191204072123,
          0.9991729021603094,
          0.9992264908858995,
          0.9992791152595786,
          0.9993315478334368,
          0.9993837730640418,
          0.9994349533273885,
          0.9994859459725407,
          0.9995366437768148,
          0.9995869069148592,
          0.9996362767492871,
          0.9996842509696454,
          0.99973200304127,
          0.9997787818142057,
          0.9998251436616512,
          0.9998709522189237,
          0.9999158708154419,
          0.9999587315749981,
          1.0000000000000009,
          1.0000000000000009
         ]
        },
        {
         "mode": "lines+markers",
         "name": "Transformed Data [log2]",
         "type": "scatter",
         "x": [
          1,
          2,
          3,
          4,
          5,
          6,
          7,
          8,
          9,
          10,
          11,
          12,
          13,
          14,
          15,
          16,
          17,
          18,
          19,
          20,
          21,
          22,
          23,
          24,
          25,
          26,
          27,
          28,
          29,
          30,
          31,
          32,
          33,
          34,
          35,
          36,
          37,
          38,
          39,
          40,
          41,
          42,
          43,
          44,
          45,
          46,
          47,
          48,
          49,
          50,
          51,
          52,
          53,
          54,
          55,
          56,
          57,
          58,
          59,
          60,
          61,
          62,
          63,
          64,
          65,
          66,
          67,
          68,
          69,
          70,
          71,
          72,
          73,
          74,
          75,
          76,
          77,
          78,
          79,
          80,
          81,
          82,
          83,
          84,
          85,
          86,
          87,
          88,
          89,
          90,
          91,
          92,
          93,
          94,
          95,
          96,
          97,
          98,
          99,
          100,
          101,
          102,
          103,
          104,
          105,
          106,
          107,
          108,
          109,
          110,
          111,
          112,
          113,
          114,
          115,
          116,
          117,
          118,
          119,
          120,
          121,
          122,
          123,
          124,
          125,
          126,
          127,
          128,
          129,
          130,
          131,
          132,
          133,
          134,
          135,
          136,
          137,
          138,
          139,
          140,
          141,
          142,
          143,
          144,
          145,
          146,
          147,
          148,
          149,
          150,
          151,
          152,
          153,
          154,
          155,
          156,
          157,
          158,
          159,
          160,
          161,
          162,
          163,
          164,
          165,
          166,
          167,
          168,
          169,
          170,
          171,
          172,
          173,
          174,
          175,
          176,
          177,
          178,
          179,
          180,
          181,
          182,
          183,
          184,
          185,
          186,
          187,
          188,
          189,
          190,
          191,
          192,
          193,
          194,
          195,
          196,
          197,
          198,
          199,
          200,
          201,
          202,
          203,
          204,
          205,
          206,
          207,
          208,
          209,
          210,
          211,
          212,
          213,
          214,
          215,
          216,
          217,
          218,
          219,
          220,
          221,
          222,
          223,
          224,
          225,
          226,
          227,
          228,
          229,
          230,
          231,
          232,
          233,
          234,
          235,
          236,
          237,
          238,
          239,
          240,
          241,
          242,
          243,
          244,
          245,
          246,
          247,
          248,
          249,
          250,
          251,
          252,
          253,
          254,
          255,
          256,
          257,
          258,
          259,
          260,
          261,
          262,
          263,
          264,
          265,
          266,
          267,
          268,
          269,
          270,
          271,
          272,
          273,
          274,
          275,
          276,
          277,
          278,
          279,
          280,
          281,
          282,
          283,
          284,
          285,
          286,
          287,
          288,
          289,
          290,
          291,
          292,
          293,
          294,
          295,
          296,
          297,
          298,
          299,
          300,
          301,
          302,
          303,
          304,
          305,
          306,
          307,
          308,
          309,
          310,
          311,
          312,
          313,
          314,
          315,
          316,
          317,
          318,
          319,
          320,
          321,
          322,
          323,
          324,
          325,
          326,
          327,
          328,
          329,
          330,
          331,
          332,
          333,
          334,
          335,
          336,
          337,
          338,
          339,
          340,
          341,
          342,
          343,
          344,
          345,
          346,
          347,
          348,
          349,
          350,
          351,
          352,
          353,
          354,
          355,
          356,
          357,
          358,
          359,
          360,
          361,
          362,
          363,
          364,
          365,
          366,
          367,
          368,
          369,
          370,
          371,
          372,
          373,
          374,
          375,
          376,
          377,
          378,
          379,
          380,
          381,
          382,
          383,
          384,
          385,
          386,
          387,
          388,
          389,
          390,
          391,
          392,
          393,
          394,
          395,
          396,
          397,
          398,
          399,
          400,
          401,
          402,
          403,
          404,
          405,
          406,
          407,
          408,
          409,
          410,
          411,
          412,
          413,
          414,
          415,
          416,
          417,
          418,
          419,
          420,
          421,
          422,
          423,
          424,
          425,
          426,
          427,
          428,
          429,
          430,
          431,
          432,
          433,
          434,
          435,
          436,
          437,
          438,
          439,
          440,
          441,
          442,
          443,
          444,
          445,
          446,
          447,
          448,
          449,
          450,
          451,
          452,
          453,
          454,
          455,
          456,
          457,
          458,
          459,
          460,
          461,
          462,
          463,
          464,
          465,
          466,
          467,
          468,
          469,
          470,
          471,
          472,
          473,
          474,
          475,
          476,
          477,
          478,
          479,
          480,
          481,
          482,
          483,
          484,
          485,
          486,
          487,
          488,
          489,
          490,
          491,
          492,
          493,
          494,
          495,
          496,
          497,
          498,
          499,
          500,
          501,
          502,
          503,
          504,
          505,
          506,
          507,
          508,
          509,
          510,
          511
         ],
         "y": [
          0.13887564870826197,
          0.20769897103990187,
          0.23812783557957187,
          0.2516653817575608,
          0.2640757897284171,
          0.2709022849602441,
          0.2766992748734774,
          0.281555008050813,
          0.2861847867093448,
          0.2902443929952204,
          0.29374810517514593,
          0.29720181178718275,
          0.3004822150730347,
          0.30374829463562636,
          0.30698716039373536,
          0.310176370874572,
          0.31333728704918207,
          0.31645490388766945,
          0.31955474005566736,
          0.322649395939082,
          0.3257275209122973,
          0.32879676253923046,
          0.3318462039981065,
          0.33489089416841405,
          0.33790741527566526,
          0.3408928745561845,
          0.343866956595981,
          0.34682454669505175,
          0.3497709452797835,
          0.35270060901941225,
          0.3556092692599658,
          0.35849524334476757,
          0.3613767426321053,
          0.3642437221860386,
          0.3670961051768579,
          0.3699459194674167,
          0.37278120293153333,
          0.3756067274713457,
          0.3784093455051815,
          0.3812050300863856,
          0.3839825385448609,
          0.3867520747917232,
          0.3895109416378047,
          0.39225166664877964,
          0.39497617347024366,
          0.3976894031731206,
          0.4003840200395764,
          0.40307217125347594,
          0.4057576806097389,
          0.40842005480862065,
          0.411057297432042,
          0.4136817080136552,
          0.4162921093450871,
          0.41888759621472155,
          0.42147933162905393,
          0.42406256611219895,
          0.4266272098814869,
          0.4291864214383608,
          0.4317258376073136,
          0.43424298601020217,
          0.4367469766393593,
          0.4392091007221679,
          0.44164840703489966,
          0.4440167762631991,
          0.4463470539229822,
          0.44866574985907665,
          0.45089225095717683,
          0.45310983638296354,
          0.45529903284539835,
          0.45743327129139333,
          0.45954781865006605,
          0.4616367946793625,
          0.46370099709033274,
          0.46574323792760514,
          0.4677762019846397,
          0.469801280802727,
          0.4718060139662802,
          0.47380225425935,
          0.4757702546132398,
          0.477734358588099,
          0.4796908656376092,
          0.481629222400704,
          0.4835659714835559,
          0.48550047666060786,
          0.4874293290043112,
          0.4893422351912295,
          0.4912434519032842,
          0.49313851712488876,
          0.4950277964149856,
          0.49691412249750144,
          0.498794387545665,
          0.5006724643982353,
          0.5025342636682434,
          0.5043937109693033,
          0.5062476117765639,
          0.5080938408089232,
          0.5099346364447961,
          0.5117697220103765,
          0.5136006763130265,
          0.5154194504321961,
          0.5172298798884017,
          0.5190352397607306,
          0.5208370481747204,
          0.5226330897147721,
          0.5244217371477193,
          0.5262072626741001,
          0.5279805615634758,
          0.5297533010550194,
          0.5315142221078052,
          0.5332728611323196,
          0.5350305035748236,
          0.5367844500815766,
          0.5385363471919778,
          0.5402798115228861,
          0.5420212335518201,
          0.5437550176097433,
          0.545484048258968,
          0.5472094928258399,
          0.5489301912098263,
          0.550650128654994,
          0.5523619730841769,
          0.5540712142183232,
          0.5557759280115211,
          0.5574793308691363,
          0.5591778892610042,
          0.5608721809427527,
          0.562564190740899,
          0.5642514694500056,
          0.5659316453776997,
          0.5676079776466576,
          0.5692829376033689,
          0.5709518162036339,
          0.5726169283809266,
          0.5742763016293118,
          0.575928114565376,
          0.5775769731189004,
          0.5792228918488338,
          0.5808644272125288,
          0.5824997007692543,
          0.5841346356910034,
          0.5857674166401278,
          0.5873975026212002,
          0.5890262569541563,
          0.5906498434113566,
          0.5922619227907786,
          0.5938711831828725,
          0.5954784198295036,
          0.597081515801656,
          0.598683373158676,
          0.6002828001757614,
          0.6018766485610413,
          0.6034646959492802,
          0.6050492749076071,
          0.6066302005181703,
          0.6082074852635091,
          0.6097821400939841,
          0.6113557044623367,
          0.612919955686409,
          0.6144811687647996,
          0.6160389086182184,
          0.6175949275664895,
          0.619146941330756,
          0.6206955452354717,
          0.6222399338906143,
          0.6237815139054937,
          0.625321951390534,
          0.6268583414344748,
          0.6283902609960131,
          0.6299194842141886,
          0.6314454954393272,
          0.6329707095631328,
          0.6344892986555445,
          0.6360058325632927,
          0.6375197053284574,
          0.6390297732957938,
          0.6405365638261954,
          0.6420399989323886,
          0.6435409193410372,
          0.6450409779900256,
          0.6465368822071901,
          0.6480268381282331,
          0.6495146509663899,
          0.6510008304947342,
          0.6524854909661456,
          0.6539673184036697,
          0.6554454314591953,
          0.6569187029000243,
          0.6583899136651032,
          0.6598584611803942,
          0.6613232625180036,
          0.6627858272475917,
          0.6642449857426523,
          0.6657015280496619,
          0.6671542147032343,
          0.6686051063993735,
          0.6700550940153812,
          0.6715045750411011,
          0.6729466003321734,
          0.6743863424151968,
          0.6758240569343921,
          0.6772581455046957,
          0.6786884038735068,
          0.6801159605588294,
          0.6815392937617002,
          0.6829591287819516,
          0.6843778015722354,
          0.685794466590365,
          0.6872079324415228,
          0.688619564715649,
          0.6900241814204758,
          0.6914266587685196,
          0.6928284610905429,
          0.6942294333214547,
          0.6956235842491512,
          0.6970169885347405,
          0.6984079838731101,
          0.6997978681686405,
          0.7011836489479409,
          0.702566041059617,
          0.7039438019782189,
          0.7053189032257772,
          0.7066935370045723,
          0.7080662107159172,
          0.7094378847421463,
          0.7108052646096142,
          0.7121691523669241,
          0.7135323226643605,
          0.714892456908447,
          0.716250579669107,
          0.7176010401712374,
          0.7189499647822706,
          0.7202951087240094,
          0.7216387358378532,
          0.7229805582352974,
          0.7243212381495352,
          0.7256584176708184,
          0.72699236809725,
          0.7283253910117534,
          0.7296559282589482,
          0.7309851665585686,
          0.7323111469779171,
          0.7336346877034512,
          0.7349564301957064,
          0.7362763086277754,
          0.7375923345826879,
          0.7389047711874902,
          0.7402154404477086,
          0.7415219189471264,
          0.7428259839100362,
          0.7441288305681999,
          0.7454268770119481,
          0.7467230398164972,
          0.7480182418084347,
          0.7493118579453871,
          0.7505989481407002,
          0.751885553190621,
          0.7531716106827677,
          0.7544532355271617,
          0.7557342068002088,
          0.7570119816508514,
          0.7582869829561416,
          0.7595595913759828,
          0.760828210337584,
          0.762095742610897,
          0.7633607041984479,
          0.764622771584925,
          0.7658833721487206,
          0.7671370084079405,
          0.7683888902835226,
          0.7696389813368957,
          0.770884890938379,
          0.7721300728765438,
          0.7733717806761143,
          0.774612923953817,
          0.7758513017814505,
          0.7770884510024196,
          0.7783232560446318,
          0.7795557860568523,
          0.7807859005746002,
          0.7820113516844424,
          0.7832348722772244,
          0.7844575965506244,
          0.7856779602949551,
          0.786896670371919,
          0.7881133980128481,
          0.789328457139813,
          0.7905418369663677,
          0.7917511914905396,
          0.7929588246523358,
          0.7941644882920131,
          0.7953666589844312,
          0.7965675452170823,
          0.7977643471590437,
          0.7989602579545537,
          0.8001507395208312,
          0.8013399790540453,
          0.8025264780553554,
          0.803711782631731,
          0.8048938479592467,
          0.8060718362570364,
          0.8072462870660794,
          0.8084200174199629,
          0.8095922495676039,
          0.810761769414517,
          0.8119300759744184,
          0.8130957313546323,
          0.8142592554229492,
          0.8154203557600846,
          0.8165804853052064,
          0.8177384966221594,
          0.8188931375814039,
          0.8200446893200093,
          0.8211947826830789,
          0.8223418693035466,
          0.8234849410827478,
          0.8246267424546292,
          0.8257663405757637,
          0.8269052817106627,
          0.828041317504098,
          0.8291732531715384,
          0.8303049833274412,
          0.8314352534055379,
          0.8325618269523135,
          0.8336848070229055,
          0.8348072713026982,
          0.8359246674834633,
          0.8370413234148827,
          0.8381549442380088,
          0.8392666198786133,
          0.840376621341316,
          0.8414834359195188,
          0.8425874986397452,
          0.843689285018879,
          0.8447880404750878,
          0.8458844196589431,
          0.8469783347281008,
          0.8480696436597104,
          0.8491606073761684,
          0.8502513345458099,
          0.8513352867444813,
          0.8524183219379399,
          0.8534995608576965,
          0.8545769704562932,
          0.8556526918109043,
          0.8567263667290305,
          0.8577966131993341,
          0.8588637514225048,
          0.859929582907299,
          0.8609928126519721,
          0.8620534168362498,
          0.8631115679373357,
          0.8641677912118528,
          0.8652216876695648,
          0.8662722322403941,
          0.8673193293796081,
          0.8683656776850989,
          0.8694084027020331,
          0.8704504138499906,
          0.8714913723607011,
          0.8725313083948429,
          0.8735668742605589,
          0.8746010952536858,
          0.8756323659383738,
          0.8766625334441432,
          0.8776895285942813,
          0.8787137166691281,
          0.8797352096732806,
          0.8807559395341409,
          0.881774236575787,
          0.8827905568187219,
          0.8838016528146314,
          0.8848081927031158,
          0.8858136268274908,
          0.8868174090763435,
          0.88781733579114,
          0.8888155412913934,
          0.8898131118408851,
          0.890809920077164,
          0.8918054289135271,
          0.8927999683367972,
          0.8937883161126946,
          0.8947750918650988,
          0.895760779858915,
          0.8967434820221818,
          0.8977228599387537,
          0.8986998434035839,
          0.8996754443749359,
          0.9006490020194399,
          0.9016195273577271,
          0.9025866685511909,
          0.9035523272131154,
          0.9045159351755245,
          0.9054758527684184,
          0.9064343277863435,
          0.9073913665611867,
          0.9083437320563763,
          0.9092956563485306,
          0.9102435361497733,
          0.9111886342758023,
          0.9121330111538242,
          0.9130757305868378,
          0.9140173266001531,
          0.9149560595731882,
          0.9158903484885593,
          0.9168220257535774,
          0.9177528375569636,
          0.9186803244325461,
          0.9196067134838969,
          0.9205315307286328,
          0.9214533820765305,
          0.9223721570060417,
          0.9232883131451826,
          0.924203002142081,
          0.9251145348072564,
          0.9260235600246179,
          0.9269286793784048,
          0.9278320578623807,
          0.9287351461662234,
          0.9296360703300898,
          0.9305323135202164,
          0.9314279312202588,
          0.932322597971695,
          0.9332136430443082,
          0.9341033236702938,
          0.93499103403042,
          0.935876069471644,
          0.9367603328837835,
          0.9376390680932984,
          0.9385139465097145,
          0.9393870009206854,
          0.9402582343328806,
          0.9411269014621414,
          0.9419925305636279,
          0.9428556607643238,
          0.9437160980471233,
          0.9445746022358121,
          0.9454313611528722,
          0.9462866905704398,
          0.9471399554834731,
          0.9479882297509442,
          0.9488352452786589,
          0.9496805859150087,
          0.9505220840512796,
          0.9513614616710232,
          0.9521967713187021,
          0.9530284823328585,
          0.9538587210283542,
          0.9546875224480695,
          0.9555156240948542,
          0.9563410779257662,
          0.9571604042788893,
          0.9579782413291593,
          0.9587920837099795,
          0.9596054571584334,
          0.9604156518650158,
          0.96122462941384,
          0.9620330908100354,
          0.9628363813437122,
          0.9636365757796826,
          0.9644342101546349,
          0.9652305303362024,
          0.9660232603760254,
          0.966810733735074,
          0.9675977975816352,
          0.9683806114773789,
          0.9691613800063605,
          0.9699404053848889,
          0.9707149620328007,
          0.9714870124297642,
          0.972256110287191,
          0.9730237951717646,
          0.9737868007577192,
          0.9745487893129897,
          0.9753064325010592,
          0.976060100356484,
          0.9768097613694849,
          0.9775545559636888,
          0.9782973958595975,
          0.9790372028091051,
          0.9797747831733343,
          0.9805092920683017,
          0.9812423930803418,
          0.9819704560757102,
          0.9826967694249344,
          0.9834186597130985,
          0.984137747076364,
          0.9848512323124151,
          0.9855631332098386,
          0.986269114525797,
          0.9869706575460032,
          0.9876692109058555,
          0.9883673996248391,
          0.989061167168372,
          0.9897535209749146,
          0.9904376100117889,
          0.9911211711797308,
          0.991797970227198,
          0.992472607585961,
          0.993133449022957,
          0.9937888785188276,
          0.9944427352109962,
          0.9950932431121429,
          0.9957377546929326,
          0.9963811081205696,
          0.9970129753366308,
          0.9976405212907036,
          0.9982615216070824,
          0.9988694704198778,
          0.9994505178926583,
          0.9999999999999997,
          0.9999999999999997
         ]
        }
       ],
       "layout": {
        "shapes": [
         {
          "type": "line",
          "x0": 0,
          "x1": 1,
          "xref": "x domain",
          "y0": 0.85,
          "y1": 0.85,
          "yref": "y"
         }
        ],
        "template": {
         "data": {
          "bar": [
           {
            "error_x": {
             "color": "#2a3f5f"
            },
            "error_y": {
             "color": "#2a3f5f"
            },
            "marker": {
             "line": {
              "color": "#E5ECF6",
              "width": 0.5
             },
             "pattern": {
              "fillmode": "overlay",
              "size": 10,
              "solidity": 0.2
             }
            },
            "type": "bar"
           }
          ],
          "barpolar": [
           {
            "marker": {
             "line": {
              "color": "#E5ECF6",
              "width": 0.5
             },
             "pattern": {
              "fillmode": "overlay",
              "size": 10,
              "solidity": 0.2
             }
            },
            "type": "barpolar"
           }
          ],
          "carpet": [
           {
            "aaxis": {
             "endlinecolor": "#2a3f5f",
             "gridcolor": "white",
             "linecolor": "white",
             "minorgridcolor": "white",
             "startlinecolor": "#2a3f5f"
            },
            "baxis": {
             "endlinecolor": "#2a3f5f",
             "gridcolor": "white",
             "linecolor": "white",
             "minorgridcolor": "white",
             "startlinecolor": "#2a3f5f"
            },
            "type": "carpet"
           }
          ],
          "choropleth": [
           {
            "colorbar": {
             "outlinewidth": 0,
             "ticks": ""
            },
            "type": "choropleth"
           }
          ],
          "contour": [
           {
            "colorbar": {
             "outlinewidth": 0,
             "ticks": ""
            },
            "colorscale": [
             [
              0,
              "#0d0887"
             ],
             [
              0.1111111111111111,
              "#46039f"
             ],
             [
              0.2222222222222222,
              "#7201a8"
             ],
             [
              0.3333333333333333,
              "#9c179e"
             ],
             [
              0.4444444444444444,
              "#bd3786"
             ],
             [
              0.5555555555555556,
              "#d8576b"
             ],
             [
              0.6666666666666666,
              "#ed7953"
             ],
             [
              0.7777777777777778,
              "#fb9f3a"
             ],
             [
              0.8888888888888888,
              "#fdca26"
             ],
             [
              1,
              "#f0f921"
             ]
            ],
            "type": "contour"
           }
          ],
          "contourcarpet": [
           {
            "colorbar": {
             "outlinewidth": 0,
             "ticks": ""
            },
            "type": "contourcarpet"
           }
          ],
          "heatmap": [
           {
            "colorbar": {
             "outlinewidth": 0,
             "ticks": ""
            },
            "colorscale": [
             [
              0,
              "#0d0887"
             ],
             [
              0.1111111111111111,
              "#46039f"
             ],
             [
              0.2222222222222222,
              "#7201a8"
             ],
             [
              0.3333333333333333,
              "#9c179e"
             ],
             [
              0.4444444444444444,
              "#bd3786"
             ],
             [
              0.5555555555555556,
              "#d8576b"
             ],
             [
              0.6666666666666666,
              "#ed7953"
             ],
             [
              0.7777777777777778,
              "#fb9f3a"
             ],
             [
              0.8888888888888888,
              "#fdca26"
             ],
             [
              1,
              "#f0f921"
             ]
            ],
            "type": "heatmap"
           }
          ],
          "heatmapgl": [
           {
            "colorbar": {
             "outlinewidth": 0,
             "ticks": ""
            },
            "colorscale": [
             [
              0,
              "#0d0887"
             ],
             [
              0.1111111111111111,
              "#46039f"
             ],
             [
              0.2222222222222222,
              "#7201a8"
             ],
             [
              0.3333333333333333,
              "#9c179e"
             ],
             [
              0.4444444444444444,
              "#bd3786"
             ],
             [
              0.5555555555555556,
              "#d8576b"
             ],
             [
              0.6666666666666666,
              "#ed7953"
             ],
             [
              0.7777777777777778,
              "#fb9f3a"
             ],
             [
              0.8888888888888888,
              "#fdca26"
             ],
             [
              1,
              "#f0f921"
             ]
            ],
            "type": "heatmapgl"
           }
          ],
          "histogram": [
           {
            "marker": {
             "pattern": {
              "fillmode": "overlay",
              "size": 10,
              "solidity": 0.2
             }
            },
            "type": "histogram"
           }
          ],
          "histogram2d": [
           {
            "colorbar": {
             "outlinewidth": 0,
             "ticks": ""
            },
            "colorscale": [
             [
              0,
              "#0d0887"
             ],
             [
              0.1111111111111111,
              "#46039f"
             ],
             [
              0.2222222222222222,
              "#7201a8"
             ],
             [
              0.3333333333333333,
              "#9c179e"
             ],
             [
              0.4444444444444444,
              "#bd3786"
             ],
             [
              0.5555555555555556,
              "#d8576b"
             ],
             [
              0.6666666666666666,
              "#ed7953"
             ],
             [
              0.7777777777777778,
              "#fb9f3a"
             ],
             [
              0.8888888888888888,
              "#fdca26"
             ],
             [
              1,
              "#f0f921"
             ]
            ],
            "type": "histogram2d"
           }
          ],
          "histogram2dcontour": [
           {
            "colorbar": {
             "outlinewidth": 0,
             "ticks": ""
            },
            "colorscale": [
             [
              0,
              "#0d0887"
             ],
             [
              0.1111111111111111,
              "#46039f"
             ],
             [
              0.2222222222222222,
              "#7201a8"
             ],
             [
              0.3333333333333333,
              "#9c179e"
             ],
             [
              0.4444444444444444,
              "#bd3786"
             ],
             [
              0.5555555555555556,
              "#d8576b"
             ],
             [
              0.6666666666666666,
              "#ed7953"
             ],
             [
              0.7777777777777778,
              "#fb9f3a"
             ],
             [
              0.8888888888888888,
              "#fdca26"
             ],
             [
              1,
              "#f0f921"
             ]
            ],
            "type": "histogram2dcontour"
           }
          ],
          "mesh3d": [
           {
            "colorbar": {
             "outlinewidth": 0,
             "ticks": ""
            },
            "type": "mesh3d"
           }
          ],
          "parcoords": [
           {
            "line": {
             "colorbar": {
              "outlinewidth": 0,
              "ticks": ""
             }
            },
            "type": "parcoords"
           }
          ],
          "pie": [
           {
            "automargin": true,
            "type": "pie"
           }
          ],
          "scatter": [
           {
            "fillpattern": {
             "fillmode": "overlay",
             "size": 10,
             "solidity": 0.2
            },
            "type": "scatter"
           }
          ],
          "scatter3d": [
           {
            "line": {
             "colorbar": {
              "outlinewidth": 0,
              "ticks": ""
             }
            },
            "marker": {
             "colorbar": {
              "outlinewidth": 0,
              "ticks": ""
             }
            },
            "type": "scatter3d"
           }
          ],
          "scattercarpet": [
           {
            "marker": {
             "colorbar": {
              "outlinewidth": 0,
              "ticks": ""
             }
            },
            "type": "scattercarpet"
           }
          ],
          "scattergeo": [
           {
            "marker": {
             "colorbar": {
              "outlinewidth": 0,
              "ticks": ""
             }
            },
            "type": "scattergeo"
           }
          ],
          "scattergl": [
           {
            "marker": {
             "colorbar": {
              "outlinewidth": 0,
              "ticks": ""
             }
            },
            "type": "scattergl"
           }
          ],
          "scattermapbox": [
           {
            "marker": {
             "colorbar": {
              "outlinewidth": 0,
              "ticks": ""
             }
            },
            "type": "scattermapbox"
           }
          ],
          "scatterpolar": [
           {
            "marker": {
             "colorbar": {
              "outlinewidth": 0,
              "ticks": ""
             }
            },
            "type": "scatterpolar"
           }
          ],
          "scatterpolargl": [
           {
            "marker": {
             "colorbar": {
              "outlinewidth": 0,
              "ticks": ""
             }
            },
            "type": "scatterpolargl"
           }
          ],
          "scatterternary": [
           {
            "marker": {
             "colorbar": {
              "outlinewidth": 0,
              "ticks": ""
             }
            },
            "type": "scatterternary"
           }
          ],
          "surface": [
           {
            "colorbar": {
             "outlinewidth": 0,
             "ticks": ""
            },
            "colorscale": [
             [
              0,
              "#0d0887"
             ],
             [
              0.1111111111111111,
              "#46039f"
             ],
             [
              0.2222222222222222,
              "#7201a8"
             ],
             [
              0.3333333333333333,
              "#9c179e"
             ],
             [
              0.4444444444444444,
              "#bd3786"
             ],
             [
              0.5555555555555556,
              "#d8576b"
             ],
             [
              0.6666666666666666,
              "#ed7953"
             ],
             [
              0.7777777777777778,
              "#fb9f3a"
             ],
             [
              0.8888888888888888,
              "#fdca26"
             ],
             [
              1,
              "#f0f921"
             ]
            ],
            "type": "surface"
           }
          ],
          "table": [
           {
            "cells": {
             "fill": {
              "color": "#EBF0F8"
             },
             "line": {
              "color": "white"
             }
            },
            "header": {
             "fill": {
              "color": "#C8D4E3"
             },
             "line": {
              "color": "white"
             }
            },
            "type": "table"
           }
          ]
         },
         "layout": {
          "annotationdefaults": {
           "arrowcolor": "#2a3f5f",
           "arrowhead": 0,
           "arrowwidth": 1
          },
          "autotypenumbers": "strict",
          "coloraxis": {
           "colorbar": {
            "outlinewidth": 0,
            "ticks": ""
           }
          },
          "colorscale": {
           "diverging": [
            [
             0,
             "#8e0152"
            ],
            [
             0.1,
             "#c51b7d"
            ],
            [
             0.2,
             "#de77ae"
            ],
            [
             0.3,
             "#f1b6da"
            ],
            [
             0.4,
             "#fde0ef"
            ],
            [
             0.5,
             "#f7f7f7"
            ],
            [
             0.6,
             "#e6f5d0"
            ],
            [
             0.7,
             "#b8e186"
            ],
            [
             0.8,
             "#7fbc41"
            ],
            [
             0.9,
             "#4d9221"
            ],
            [
             1,
             "#276419"
            ]
           ],
           "sequential": [
            [
             0,
             "#0d0887"
            ],
            [
             0.1111111111111111,
             "#46039f"
            ],
            [
             0.2222222222222222,
             "#7201a8"
            ],
            [
             0.3333333333333333,
             "#9c179e"
            ],
            [
             0.4444444444444444,
             "#bd3786"
            ],
            [
             0.5555555555555556,
             "#d8576b"
            ],
            [
             0.6666666666666666,
             "#ed7953"
            ],
            [
             0.7777777777777778,
             "#fb9f3a"
            ],
            [
             0.8888888888888888,
             "#fdca26"
            ],
            [
             1,
             "#f0f921"
            ]
           ],
           "sequentialminus": [
            [
             0,
             "#0d0887"
            ],
            [
             0.1111111111111111,
             "#46039f"
            ],
            [
             0.2222222222222222,
             "#7201a8"
            ],
            [
             0.3333333333333333,
             "#9c179e"
            ],
            [
             0.4444444444444444,
             "#bd3786"
            ],
            [
             0.5555555555555556,
             "#d8576b"
            ],
            [
             0.6666666666666666,
             "#ed7953"
            ],
            [
             0.7777777777777778,
             "#fb9f3a"
            ],
            [
             0.8888888888888888,
             "#fdca26"
            ],
            [
             1,
             "#f0f921"
            ]
           ]
          },
          "colorway": [
           "#636efa",
           "#EF553B",
           "#00cc96",
           "#ab63fa",
           "#FFA15A",
           "#19d3f3",
           "#FF6692",
           "#B6E880",
           "#FF97FF",
           "#FECB52"
          ],
          "font": {
           "color": "#2a3f5f"
          },
          "geo": {
           "bgcolor": "white",
           "lakecolor": "white",
           "landcolor": "#E5ECF6",
           "showlakes": true,
           "showland": true,
           "subunitcolor": "white"
          },
          "hoverlabel": {
           "align": "left"
          },
          "hovermode": "closest",
          "mapbox": {
           "style": "light"
          },
          "paper_bgcolor": "white",
          "plot_bgcolor": "#E5ECF6",
          "polar": {
           "angularaxis": {
            "gridcolor": "white",
            "linecolor": "white",
            "ticks": ""
           },
           "bgcolor": "#E5ECF6",
           "radialaxis": {
            "gridcolor": "white",
            "linecolor": "white",
            "ticks": ""
           }
          },
          "scene": {
           "xaxis": {
            "backgroundcolor": "#E5ECF6",
            "gridcolor": "white",
            "gridwidth": 2,
            "linecolor": "white",
            "showbackground": true,
            "ticks": "",
            "zerolinecolor": "white"
           },
           "yaxis": {
            "backgroundcolor": "#E5ECF6",
            "gridcolor": "white",
            "gridwidth": 2,
            "linecolor": "white",
            "showbackground": true,
            "ticks": "",
            "zerolinecolor": "white"
           },
           "zaxis": {
            "backgroundcolor": "#E5ECF6",
            "gridcolor": "white",
            "gridwidth": 2,
            "linecolor": "white",
            "showbackground": true,
            "ticks": "",
            "zerolinecolor": "white"
           }
          },
          "shapedefaults": {
           "line": {
            "color": "#2a3f5f"
           }
          },
          "ternary": {
           "aaxis": {
            "gridcolor": "white",
            "linecolor": "white",
            "ticks": ""
           },
           "baxis": {
            "gridcolor": "white",
            "linecolor": "white",
            "ticks": ""
           },
           "bgcolor": "#E5ECF6",
           "caxis": {
            "gridcolor": "white",
            "linecolor": "white",
            "ticks": ""
           }
          },
          "title": {
           "x": 0.05
          },
          "xaxis": {
           "automargin": true,
           "gridcolor": "white",
           "linecolor": "white",
           "ticks": "",
           "title": {
            "standoff": 15
           },
           "zerolinecolor": "white",
           "zerolinewidth": 2
          },
          "yaxis": {
           "automargin": true,
           "gridcolor": "white",
           "linecolor": "white",
           "ticks": "",
           "title": {
            "standoff": 15
           },
           "zerolinecolor": "white",
           "zerolinewidth": 2
          }
         }
        }
       }
      }
     },
     "metadata": {},
     "output_type": "display_data"
    }
   ],
   "source": [
    "fig = go.Figure()\n",
    "fig.add_trace(\n",
    "    go.Scatter(\n",
    "        y=pca_frame.cumsum_explained_variance_raw,\n",
    "        x=pca_frame.pc_idx,\n",
    "        mode='lines+markers',\n",
    "        name='Raw Data'\n",
    "\n",
    "    )\n",
    ")\n",
    "fig.add_trace(\n",
    "    go.Scatter(\n",
    "        y=pca_frame.cumsum_explained_variance_log,\n",
    "        x=pca_frame.pc_idx,\n",
    "        mode='lines+markers',\n",
    "        name='Transformed Data [log2]'\n",
    "\n",
    "    )\n",
    ")\n",
    "fig.add_hline(y=0.85)\n",
    "fig.show()"
   ]
  },
  {
   "cell_type": "code",
   "execution_count": 18,
   "metadata": {},
   "outputs": [
    {
     "data": {
      "application/vnd.plotly.v1+json": {
       "config": {
        "plotlyServerURL": "https://plot.ly"
       },
       "data": [
        {
         "type": "scatter",
         "x": [
          0,
          0,
          0,
          0,
          0,
          0,
          0,
          0,
          0,
          0,
          0,
          0,
          0,
          0,
          0,
          0,
          0,
          0,
          0,
          0,
          0,
          0,
          0,
          0,
          0,
          0,
          0,
          0,
          0,
          0,
          0,
          0,
          0,
          0,
          0,
          0,
          0,
          0,
          0,
          0,
          0,
          0,
          0,
          0,
          0,
          0,
          0,
          0,
          0,
          0,
          0,
          0,
          0,
          0,
          0,
          0,
          0,
          0,
          0,
          0,
          0,
          0,
          0,
          0,
          0,
          0,
          0,
          0,
          0,
          0,
          0,
          0,
          0,
          0,
          0,
          0,
          0,
          0,
          0,
          0,
          0,
          0,
          0,
          0,
          0,
          0,
          0,
          0,
          0,
          0,
          0,
          0,
          0,
          0,
          0,
          0,
          0,
          0,
          0,
          0,
          0,
          0,
          0,
          0,
          0,
          0,
          0,
          0,
          0,
          0,
          0,
          0,
          0,
          0,
          0,
          0,
          0,
          0,
          0,
          0,
          0,
          0,
          0,
          0,
          0,
          0,
          0,
          0,
          0,
          0,
          0,
          0,
          0,
          0,
          0,
          0,
          0,
          0,
          0,
          0,
          0,
          0,
          0,
          0,
          0,
          0,
          0,
          0,
          0,
          0,
          0,
          0,
          0,
          0,
          0,
          0,
          0,
          0,
          0,
          0,
          0,
          0,
          0,
          0,
          0,
          0,
          0,
          0,
          0.7390544930764322,
          0,
          0,
          0,
          0,
          0,
          0,
          0,
          0,
          0,
          0,
          0,
          0,
          0,
          0,
          0,
          0,
          0,
          0,
          0,
          0,
          0,
          0,
          0,
          0,
          0,
          0,
          0,
          0,
          0,
          0,
          0,
          0.9965907745855068,
          0,
          0,
          0,
          0,
          0,
          0,
          0,
          3.6939215228197613,
          0,
          0,
          0,
          0,
          0,
          0,
          0,
          0,
          0,
          0,
          0,
          0,
          0,
          0,
          0,
          0,
          0,
          0,
          0,
          0,
          0,
          0,
          0,
          0,
          0,
          0,
          0,
          2.683459989491797,
          0,
          0,
          0,
          0,
          0,
          0,
          0,
          0,
          0,
          0,
          0,
          0,
          0,
          0,
          0,
          0,
          0,
          0,
          0,
          0,
          0,
          0,
          0,
          0,
          0,
          0,
          0,
          0,
          0,
          0,
          0,
          0,
          0,
          0,
          0,
          0,
          0,
          0,
          0,
          0,
          0,
          0,
          0,
          0,
          0,
          0,
          0,
          0,
          0,
          0,
          0,
          0,
          0,
          0,
          0,
          0,
          0,
          0,
          0,
          0,
          0,
          0,
          0,
          0,
          0,
          0,
          0,
          0,
          0,
          0,
          0,
          0,
          0,
          0,
          0,
          0,
          0,
          0,
          0,
          0,
          0,
          0,
          0,
          0,
          0,
          0,
          0,
          0,
          0,
          0,
          0,
          0,
          0,
          0,
          0,
          0,
          0,
          0,
          0,
          0,
          0,
          0,
          0,
          0,
          0,
          0,
          0,
          0,
          0,
          0,
          0,
          0,
          0,
          0,
          0,
          0,
          0,
          0,
          0,
          0,
          0,
          0,
          0,
          0,
          0,
          0,
          0,
          0,
          0,
          0,
          0,
          0,
          0,
          0,
          0,
          0,
          0,
          0,
          0,
          0,
          0,
          0,
          0,
          0,
          0,
          0,
          0,
          0,
          0,
          0,
          0,
          0,
          0,
          0,
          0,
          1.3978538908042644,
          0,
          0,
          0,
          0,
          0,
          0,
          0,
          0,
          0,
          0,
          0,
          0,
          0,
          0,
          0,
          1.0834757097954975,
          0,
          0,
          0,
          0,
          1.2779640726832209,
          0,
          0,
          0,
          0,
          0,
          0,
          0,
          0,
          0,
          0,
          0,
          0,
          0,
          0,
          0,
          0,
          0,
          0,
          0,
          0,
          0,
          0,
          0,
          0,
          0,
          0,
          0,
          0,
          0,
          0,
          0,
          0,
          0,
          0,
          0,
          0,
          0,
          0,
          0,
          0,
          0,
          0,
          0,
          0,
          0,
          0,
          0,
          0,
          0,
          0,
          0,
          2.518150000002181,
          0,
          0,
          0,
          0,
          0,
          0,
          0,
          0,
          0,
          0,
          0,
          0,
          0,
          0,
          0,
          0,
          0,
          0,
          0,
          0,
          0,
          0,
          0,
          0,
          0,
          0,
          0,
          0,
          0,
          0,
          0,
          0,
          0,
          0,
          0,
          0,
          0,
          0,
          0,
          0,
          0,
          0,
          0,
          0,
          0
         ],
         "y": [
          0,
          0,
          0,
          0,
          0,
          0,
          0,
          0,
          0,
          0,
          0,
          0,
          0,
          0,
          0,
          0,
          0,
          0,
          0,
          0,
          0,
          0,
          0,
          0,
          0,
          0,
          0,
          0,
          0,
          0,
          0,
          0,
          0,
          0,
          0,
          0,
          0,
          0,
          0,
          0,
          0,
          0,
          0,
          0,
          0,
          0,
          0,
          0,
          0,
          0,
          0,
          0,
          0,
          0,
          0,
          0,
          0,
          0,
          0,
          0,
          0,
          0,
          0,
          0,
          0,
          0,
          0,
          0,
          0,
          0,
          0,
          0,
          0,
          0,
          0,
          0,
          0,
          0,
          0,
          0,
          0,
          0,
          0,
          0,
          0,
          0,
          0,
          0,
          0,
          0,
          0,
          0,
          0,
          0,
          0,
          0,
          0,
          0,
          0,
          0,
          0,
          0,
          0,
          0,
          0,
          0,
          0,
          0,
          0,
          0,
          0,
          0,
          0,
          0,
          0,
          0,
          0,
          0,
          0,
          0,
          0,
          0,
          0,
          0,
          0,
          0,
          0,
          0,
          0,
          0,
          0,
          0,
          0,
          0,
          0,
          0,
          0,
          0,
          0,
          0,
          0,
          0,
          0,
          0,
          0,
          0,
          0,
          0,
          0,
          0,
          0,
          0,
          0,
          0,
          0,
          0,
          0,
          0,
          0,
          0,
          0,
          0,
          0,
          0,
          0,
          0,
          0,
          0,
          0,
          0,
          0,
          0,
          0,
          0,
          0,
          0,
          0,
          0,
          0,
          0,
          0,
          0,
          0,
          0,
          0,
          0,
          0,
          0,
          0,
          0,
          0,
          0,
          0,
          0,
          0,
          0,
          0,
          0,
          0,
          0,
          0,
          0,
          0,
          0,
          0,
          0,
          0,
          0,
          0,
          0,
          0,
          0,
          0,
          0,
          0,
          0,
          0,
          0,
          0,
          0,
          0,
          0,
          0,
          0,
          0,
          0,
          0,
          0,
          0,
          0,
          0,
          0,
          0,
          0,
          0,
          0,
          0,
          0,
          0,
          0,
          0,
          0,
          0,
          0,
          0,
          0,
          0,
          0,
          0,
          0,
          0,
          0,
          0,
          0,
          0,
          0,
          0,
          0,
          0,
          0,
          0,
          0,
          0,
          0,
          0,
          0,
          0,
          0,
          0,
          0,
          0,
          0,
          0,
          0,
          0,
          0,
          0,
          0,
          0,
          0,
          0,
          0,
          0,
          0,
          0,
          0,
          0,
          0,
          0,
          0,
          0,
          0,
          0,
          0,
          0,
          0,
          0,
          0,
          0,
          0,
          3.877691919932055,
          0,
          0,
          0,
          0,
          0,
          0,
          0,
          0,
          0,
          0,
          0,
          0,
          0,
          0,
          0,
          0,
          0,
          0,
          0,
          0,
          0,
          0,
          0,
          0,
          0,
          0,
          0,
          0,
          0,
          0,
          0,
          0,
          0,
          0,
          0,
          0,
          0,
          0,
          0,
          0,
          0,
          0,
          0,
          0,
          0,
          0,
          0,
          0,
          0,
          0,
          0,
          0,
          0,
          0,
          0,
          0,
          0,
          0,
          0,
          0,
          0,
          0,
          0,
          0,
          0,
          0,
          0,
          0,
          0,
          0,
          0,
          0,
          0,
          0,
          0,
          0,
          0,
          0,
          0,
          0,
          0,
          0,
          0,
          0,
          0,
          0,
          0,
          0,
          0,
          0,
          0,
          0,
          0,
          0,
          0,
          0,
          0,
          0,
          0,
          0,
          0,
          0,
          0,
          0,
          0,
          0,
          0,
          0,
          0,
          0,
          0,
          0,
          0,
          0,
          0,
          0,
          0,
          0,
          0,
          0,
          0,
          0,
          0,
          0,
          0,
          0,
          0,
          0,
          0,
          0,
          0,
          0,
          0,
          0,
          0,
          0,
          0,
          0,
          0,
          0,
          0,
          0,
          0,
          0,
          0,
          0,
          0,
          0,
          0,
          0,
          0,
          0,
          0,
          0,
          0,
          0,
          0,
          4.093087263306121,
          0,
          0,
          0,
          0,
          0,
          0,
          0,
          0,
          0,
          0,
          0,
          0,
          0,
          0,
          0,
          0,
          0,
          0,
          0,
          0,
          0,
          0,
          0,
          0,
          0,
          0,
          0,
          0,
          0,
          0,
          0,
          0,
          0,
          0,
          0,
          0,
          0,
          0,
          0,
          0,
          0,
          0,
          0,
          0,
          0,
          0,
          0,
          0,
          0,
          0,
          0,
          0
         ]
        }
       ],
       "layout": {
        "template": {
         "data": {
          "bar": [
           {
            "error_x": {
             "color": "#2a3f5f"
            },
            "error_y": {
             "color": "#2a3f5f"
            },
            "marker": {
             "line": {
              "color": "#E5ECF6",
              "width": 0.5
             },
             "pattern": {
              "fillmode": "overlay",
              "size": 10,
              "solidity": 0.2
             }
            },
            "type": "bar"
           }
          ],
          "barpolar": [
           {
            "marker": {
             "line": {
              "color": "#E5ECF6",
              "width": 0.5
             },
             "pattern": {
              "fillmode": "overlay",
              "size": 10,
              "solidity": 0.2
             }
            },
            "type": "barpolar"
           }
          ],
          "carpet": [
           {
            "aaxis": {
             "endlinecolor": "#2a3f5f",
             "gridcolor": "white",
             "linecolor": "white",
             "minorgridcolor": "white",
             "startlinecolor": "#2a3f5f"
            },
            "baxis": {
             "endlinecolor": "#2a3f5f",
             "gridcolor": "white",
             "linecolor": "white",
             "minorgridcolor": "white",
             "startlinecolor": "#2a3f5f"
            },
            "type": "carpet"
           }
          ],
          "choropleth": [
           {
            "colorbar": {
             "outlinewidth": 0,
             "ticks": ""
            },
            "type": "choropleth"
           }
          ],
          "contour": [
           {
            "colorbar": {
             "outlinewidth": 0,
             "ticks": ""
            },
            "colorscale": [
             [
              0,
              "#0d0887"
             ],
             [
              0.1111111111111111,
              "#46039f"
             ],
             [
              0.2222222222222222,
              "#7201a8"
             ],
             [
              0.3333333333333333,
              "#9c179e"
             ],
             [
              0.4444444444444444,
              "#bd3786"
             ],
             [
              0.5555555555555556,
              "#d8576b"
             ],
             [
              0.6666666666666666,
              "#ed7953"
             ],
             [
              0.7777777777777778,
              "#fb9f3a"
             ],
             [
              0.8888888888888888,
              "#fdca26"
             ],
             [
              1,
              "#f0f921"
             ]
            ],
            "type": "contour"
           }
          ],
          "contourcarpet": [
           {
            "colorbar": {
             "outlinewidth": 0,
             "ticks": ""
            },
            "type": "contourcarpet"
           }
          ],
          "heatmap": [
           {
            "colorbar": {
             "outlinewidth": 0,
             "ticks": ""
            },
            "colorscale": [
             [
              0,
              "#0d0887"
             ],
             [
              0.1111111111111111,
              "#46039f"
             ],
             [
              0.2222222222222222,
              "#7201a8"
             ],
             [
              0.3333333333333333,
              "#9c179e"
             ],
             [
              0.4444444444444444,
              "#bd3786"
             ],
             [
              0.5555555555555556,
              "#d8576b"
             ],
             [
              0.6666666666666666,
              "#ed7953"
             ],
             [
              0.7777777777777778,
              "#fb9f3a"
             ],
             [
              0.8888888888888888,
              "#fdca26"
             ],
             [
              1,
              "#f0f921"
             ]
            ],
            "type": "heatmap"
           }
          ],
          "heatmapgl": [
           {
            "colorbar": {
             "outlinewidth": 0,
             "ticks": ""
            },
            "colorscale": [
             [
              0,
              "#0d0887"
             ],
             [
              0.1111111111111111,
              "#46039f"
             ],
             [
              0.2222222222222222,
              "#7201a8"
             ],
             [
              0.3333333333333333,
              "#9c179e"
             ],
             [
              0.4444444444444444,
              "#bd3786"
             ],
             [
              0.5555555555555556,
              "#d8576b"
             ],
             [
              0.6666666666666666,
              "#ed7953"
             ],
             [
              0.7777777777777778,
              "#fb9f3a"
             ],
             [
              0.8888888888888888,
              "#fdca26"
             ],
             [
              1,
              "#f0f921"
             ]
            ],
            "type": "heatmapgl"
           }
          ],
          "histogram": [
           {
            "marker": {
             "pattern": {
              "fillmode": "overlay",
              "size": 10,
              "solidity": 0.2
             }
            },
            "type": "histogram"
           }
          ],
          "histogram2d": [
           {
            "colorbar": {
             "outlinewidth": 0,
             "ticks": ""
            },
            "colorscale": [
             [
              0,
              "#0d0887"
             ],
             [
              0.1111111111111111,
              "#46039f"
             ],
             [
              0.2222222222222222,
              "#7201a8"
             ],
             [
              0.3333333333333333,
              "#9c179e"
             ],
             [
              0.4444444444444444,
              "#bd3786"
             ],
             [
              0.5555555555555556,
              "#d8576b"
             ],
             [
              0.6666666666666666,
              "#ed7953"
             ],
             [
              0.7777777777777778,
              "#fb9f3a"
             ],
             [
              0.8888888888888888,
              "#fdca26"
             ],
             [
              1,
              "#f0f921"
             ]
            ],
            "type": "histogram2d"
           }
          ],
          "histogram2dcontour": [
           {
            "colorbar": {
             "outlinewidth": 0,
             "ticks": ""
            },
            "colorscale": [
             [
              0,
              "#0d0887"
             ],
             [
              0.1111111111111111,
              "#46039f"
             ],
             [
              0.2222222222222222,
              "#7201a8"
             ],
             [
              0.3333333333333333,
              "#9c179e"
             ],
             [
              0.4444444444444444,
              "#bd3786"
             ],
             [
              0.5555555555555556,
              "#d8576b"
             ],
             [
              0.6666666666666666,
              "#ed7953"
             ],
             [
              0.7777777777777778,
              "#fb9f3a"
             ],
             [
              0.8888888888888888,
              "#fdca26"
             ],
             [
              1,
              "#f0f921"
             ]
            ],
            "type": "histogram2dcontour"
           }
          ],
          "mesh3d": [
           {
            "colorbar": {
             "outlinewidth": 0,
             "ticks": ""
            },
            "type": "mesh3d"
           }
          ],
          "parcoords": [
           {
            "line": {
             "colorbar": {
              "outlinewidth": 0,
              "ticks": ""
             }
            },
            "type": "parcoords"
           }
          ],
          "pie": [
           {
            "automargin": true,
            "type": "pie"
           }
          ],
          "scatter": [
           {
            "fillpattern": {
             "fillmode": "overlay",
             "size": 10,
             "solidity": 0.2
            },
            "type": "scatter"
           }
          ],
          "scatter3d": [
           {
            "line": {
             "colorbar": {
              "outlinewidth": 0,
              "ticks": ""
             }
            },
            "marker": {
             "colorbar": {
              "outlinewidth": 0,
              "ticks": ""
             }
            },
            "type": "scatter3d"
           }
          ],
          "scattercarpet": [
           {
            "marker": {
             "colorbar": {
              "outlinewidth": 0,
              "ticks": ""
             }
            },
            "type": "scattercarpet"
           }
          ],
          "scattergeo": [
           {
            "marker": {
             "colorbar": {
              "outlinewidth": 0,
              "ticks": ""
             }
            },
            "type": "scattergeo"
           }
          ],
          "scattergl": [
           {
            "marker": {
             "colorbar": {
              "outlinewidth": 0,
              "ticks": ""
             }
            },
            "type": "scattergl"
           }
          ],
          "scattermapbox": [
           {
            "marker": {
             "colorbar": {
              "outlinewidth": 0,
              "ticks": ""
             }
            },
            "type": "scattermapbox"
           }
          ],
          "scatterpolar": [
           {
            "marker": {
             "colorbar": {
              "outlinewidth": 0,
              "ticks": ""
             }
            },
            "type": "scatterpolar"
           }
          ],
          "scatterpolargl": [
           {
            "marker": {
             "colorbar": {
              "outlinewidth": 0,
              "ticks": ""
             }
            },
            "type": "scatterpolargl"
           }
          ],
          "scatterternary": [
           {
            "marker": {
             "colorbar": {
              "outlinewidth": 0,
              "ticks": ""
             }
            },
            "type": "scatterternary"
           }
          ],
          "surface": [
           {
            "colorbar": {
             "outlinewidth": 0,
             "ticks": ""
            },
            "colorscale": [
             [
              0,
              "#0d0887"
             ],
             [
              0.1111111111111111,
              "#46039f"
             ],
             [
              0.2222222222222222,
              "#7201a8"
             ],
             [
              0.3333333333333333,
              "#9c179e"
             ],
             [
              0.4444444444444444,
              "#bd3786"
             ],
             [
              0.5555555555555556,
              "#d8576b"
             ],
             [
              0.6666666666666666,
              "#ed7953"
             ],
             [
              0.7777777777777778,
              "#fb9f3a"
             ],
             [
              0.8888888888888888,
              "#fdca26"
             ],
             [
              1,
              "#f0f921"
             ]
            ],
            "type": "surface"
           }
          ],
          "table": [
           {
            "cells": {
             "fill": {
              "color": "#EBF0F8"
             },
             "line": {
              "color": "white"
             }
            },
            "header": {
             "fill": {
              "color": "#C8D4E3"
             },
             "line": {
              "color": "white"
             }
            },
            "type": "table"
           }
          ]
         },
         "layout": {
          "annotationdefaults": {
           "arrowcolor": "#2a3f5f",
           "arrowhead": 0,
           "arrowwidth": 1
          },
          "autotypenumbers": "strict",
          "coloraxis": {
           "colorbar": {
            "outlinewidth": 0,
            "ticks": ""
           }
          },
          "colorscale": {
           "diverging": [
            [
             0,
             "#8e0152"
            ],
            [
             0.1,
             "#c51b7d"
            ],
            [
             0.2,
             "#de77ae"
            ],
            [
             0.3,
             "#f1b6da"
            ],
            [
             0.4,
             "#fde0ef"
            ],
            [
             0.5,
             "#f7f7f7"
            ],
            [
             0.6,
             "#e6f5d0"
            ],
            [
             0.7,
             "#b8e186"
            ],
            [
             0.8,
             "#7fbc41"
            ],
            [
             0.9,
             "#4d9221"
            ],
            [
             1,
             "#276419"
            ]
           ],
           "sequential": [
            [
             0,
             "#0d0887"
            ],
            [
             0.1111111111111111,
             "#46039f"
            ],
            [
             0.2222222222222222,
             "#7201a8"
            ],
            [
             0.3333333333333333,
             "#9c179e"
            ],
            [
             0.4444444444444444,
             "#bd3786"
            ],
            [
             0.5555555555555556,
             "#d8576b"
            ],
            [
             0.6666666666666666,
             "#ed7953"
            ],
            [
             0.7777777777777778,
             "#fb9f3a"
            ],
            [
             0.8888888888888888,
             "#fdca26"
            ],
            [
             1,
             "#f0f921"
            ]
           ],
           "sequentialminus": [
            [
             0,
             "#0d0887"
            ],
            [
             0.1111111111111111,
             "#46039f"
            ],
            [
             0.2222222222222222,
             "#7201a8"
            ],
            [
             0.3333333333333333,
             "#9c179e"
            ],
            [
             0.4444444444444444,
             "#bd3786"
            ],
            [
             0.5555555555555556,
             "#d8576b"
            ],
            [
             0.6666666666666666,
             "#ed7953"
            ],
            [
             0.7777777777777778,
             "#fb9f3a"
            ],
            [
             0.8888888888888888,
             "#fdca26"
            ],
            [
             1,
             "#f0f921"
            ]
           ]
          },
          "colorway": [
           "#636efa",
           "#EF553B",
           "#00cc96",
           "#ab63fa",
           "#FFA15A",
           "#19d3f3",
           "#FF6692",
           "#B6E880",
           "#FF97FF",
           "#FECB52"
          ],
          "font": {
           "color": "#2a3f5f"
          },
          "geo": {
           "bgcolor": "white",
           "lakecolor": "white",
           "landcolor": "#E5ECF6",
           "showlakes": true,
           "showland": true,
           "subunitcolor": "white"
          },
          "hoverlabel": {
           "align": "left"
          },
          "hovermode": "closest",
          "mapbox": {
           "style": "light"
          },
          "paper_bgcolor": "white",
          "plot_bgcolor": "#E5ECF6",
          "polar": {
           "angularaxis": {
            "gridcolor": "white",
            "linecolor": "white",
            "ticks": ""
           },
           "bgcolor": "#E5ECF6",
           "radialaxis": {
            "gridcolor": "white",
            "linecolor": "white",
            "ticks": ""
           }
          },
          "scene": {
           "xaxis": {
            "backgroundcolor": "#E5ECF6",
            "gridcolor": "white",
            "gridwidth": 2,
            "linecolor": "white",
            "showbackground": true,
            "ticks": "",
            "zerolinecolor": "white"
           },
           "yaxis": {
            "backgroundcolor": "#E5ECF6",
            "gridcolor": "white",
            "gridwidth": 2,
            "linecolor": "white",
            "showbackground": true,
            "ticks": "",
            "zerolinecolor": "white"
           },
           "zaxis": {
            "backgroundcolor": "#E5ECF6",
            "gridcolor": "white",
            "gridwidth": 2,
            "linecolor": "white",
            "showbackground": true,
            "ticks": "",
            "zerolinecolor": "white"
           }
          },
          "shapedefaults": {
           "line": {
            "color": "#2a3f5f"
           }
          },
          "ternary": {
           "aaxis": {
            "gridcolor": "white",
            "linecolor": "white",
            "ticks": ""
           },
           "baxis": {
            "gridcolor": "white",
            "linecolor": "white",
            "ticks": ""
           },
           "bgcolor": "#E5ECF6",
           "caxis": {
            "gridcolor": "white",
            "linecolor": "white",
            "ticks": ""
           }
          },
          "title": {
           "x": 0.05
          },
          "xaxis": {
           "automargin": true,
           "gridcolor": "white",
           "linecolor": "white",
           "ticks": "",
           "title": {
            "standoff": 15
           },
           "zerolinecolor": "white",
           "zerolinewidth": 2
          },
          "yaxis": {
           "automargin": true,
           "gridcolor": "white",
           "linecolor": "white",
           "ticks": "",
           "title": {
            "standoff": 15
           },
           "zerolinecolor": "white",
           "zerolinewidth": 2
          }
         }
        }
       }
      }
     },
     "metadata": {},
     "output_type": "display_data"
    }
   ],
   "source": [
    "fig = go.Figure()\n",
    "fig.add_trace(\n",
    "    go.Scatter(\n",
    "        x = X_log[:,0],\n",
    "        y = X_log[:,1]\n",
    "    )\n",
    ")\n",
    "fig.show()"
   ]
  },
  {
   "cell_type": "code",
   "execution_count": 25,
   "metadata": {},
   "outputs": [
    {
     "name": "stdout",
     "output_type": "stream",
     "text": [
      "(511, 2)\n"
     ]
    }
   ],
   "source": [
    "pca = decomposition.PCA(n_components = 2)\n",
    "X_redux = pca.fit_transform(X_log)\n",
    "print(X_redux.shape)"
   ]
  },
  {
   "cell_type": "code",
   "execution_count": 26,
   "metadata": {},
   "outputs": [
    {
     "data": {
      "application/vnd.plotly.v1+json": {
       "config": {
        "plotlyServerURL": "https://plot.ly"
       },
       "data": [
        {
         "mode": "markers",
         "type": "scatter",
         "x": [
          -7.130782241833281,
          -17.618994623691023,
          7.619488470944144,
          38.6959255159381,
          -3.3306424225886913,
          2.3456889851754683,
          4.671137295600512,
          -14.722973859019316,
          -9.76419155112862,
          -25.531618385380572,
          -20.588014360750886,
          225.2289569619135,
          240.6888686227712,
          209.62115030045547,
          174.78124726219136,
          259.25907925917727,
          257.68425190952496,
          287.96021455609093,
          -66.92358059029507,
          -37.81943160902702,
          -57.43172613737737,
          -9.784634312672136,
          -44.1682513277773,
          14.077349133649093,
          -53.339009035179664,
          -15.915266827897963,
          -62.30637731472499,
          -30.50535825873058,
          -18.54584664493015,
          6.4457720920943595,
          -53.7594648954362,
          -22.790400860324713,
          -49.03530837755125,
          5.213148338572076,
          -62.099483353810946,
          -54.74400040620119,
          -57.270358425815395,
          -47.09200285405768,
          -10.234223229670052,
          -35.958208182588216,
          -31.202756358440983,
          -38.82697732701182,
          6.305263264629941,
          -44.95517894582607,
          -53.655713898091875,
          -50.027291255542615,
          -32.41851856396548,
          -21.560923533476423,
          -31.029388831117473,
          6.661972355846532,
          1.9840277590531026,
          -11.576866974282083,
          -40.750203582225126,
          -8.410291122212994,
          -58.03601098673303,
          14.378151728494881,
          -31.803558256887857,
          -8.935314586076455,
          -53.03874341192137,
          -29.60230841940747,
          -43.63663670130617,
          228.4637361054149,
          204.87292078812726,
          -21.760603657080264,
          293.6641221889058,
          268.21649443907995,
          320.59205505081025,
          247.52121186650504,
          262.93261205015585,
          230.84766607345688,
          269.39301751611305,
          311.7075228828874,
          333.40418459759053,
          290.4470208287939,
          192.89839880206546,
          331.0161276338202,
          297.21558384377795,
          245.73381225776322,
          284.689307256569,
          178.08492712723256,
          -36.98730153709945,
          10.67749551260818,
          -14.484351123085565,
          -19.64210708143717,
          -15.148926455641652,
          -14.731838579014168,
          -39.75862590004281,
          -24.93818117037623,
          -41.75429590346896,
          -9.447165095680981,
          4.420358501120043,
          -25.300429178343727,
          -15.176044780594607,
          24.289427584467465,
          -48.948328888394464,
          -4.305384219041675,
          11.916634343507967,
          7.973721153584995,
          -31.491783110371372,
          -13.009209222414786,
          11.60676947858788,
          -34.97219579053534,
          12.156285833109843,
          -33.284891974504745,
          -24.64784393170057,
          -10.410410331360247,
          -33.75816671653064,
          24.209706908200783,
          -5.330907422526792,
          -47.15065334584435,
          -55.9835558857182,
          2.9136835124920735,
          21.696429256665354,
          7.4375089276590565,
          -13.526617701542571,
          -51.95659324936299,
          21.25120699790401,
          5.05466701279357,
          43.872967766771204,
          55.77211817311002,
          -4.81195019818254,
          -2.8825997535730807,
          -10.591704577636854,
          23.489727764573466,
          -12.815568050016411,
          2.8457808244878753,
          -9.171403103588762,
          -18.510934982656185,
          -18.458603895761872,
          -8.123380767867113,
          -29.496595196212038,
          37.017994182089815,
          -13.104580859543459,
          63.31123856915188,
          -17.47154487580353,
          -17.33022821939344,
          -9.94196535118608,
          21.18416494062701,
          -7.005838428912059,
          -6.092041729696368,
          -8.314598214009921,
          -37.03797961144771,
          -47.10068656484336,
          -69.1510531946261,
          -65.53796360857868,
          -6.948223520911931,
          -12.425749181049692,
          -7.216774446150981,
          3.0634530758026814,
          9.381409764913798,
          3.6242878427600145,
          -25.171177851586712,
          -50.0641292171344,
          -43.17531775467643,
          -50.039218115941324,
          -30.18391424276941,
          -35.397847928866035,
          -29.642732946377674,
          -22.038994738043005,
          -55.168425224709594,
          -42.8228053579974,
          -6.8736781383679455,
          18.677465836051898,
          12.065424445474667,
          -73.10494924375269,
          -56.71838186576175,
          0.6375670110218891,
          -18.79515432030315,
          -16.996485409315486,
          -8.91907807886253,
          -14.602318459872976,
          -9.868402133839206,
          -46.14534646478728,
          -40.534158137433344,
          -53.26480488871062,
          -57.92244895846896,
          -78.68279532423666,
          -69.37615946110886,
          -35.50112857591381,
          -43.579080452000944,
          -80.37874258964574,
          -85.15100261382197,
          -42.316530778194334,
          -10.208414216214333,
          -15.688591220653661,
          -85.43816342254435,
          -62.02800844822011,
          -45.3870433302258,
          -0.5670932085029129,
          -14.44009052007841,
          -7.901402852076898,
          -73.89399051443418,
          -15.030496894583207,
          -22.524725793096643,
          -40.18922589533681,
          -25.836160066304757,
          -34.98278805840796,
          -25.390599613702133,
          -14.127268587000408,
          -4.722375507138099,
          -29.333912639706686,
          -33.02724833820861,
          -25.77446516563978,
          -41.28661467965184,
          -25.087497265960206,
          -20.038907890491686,
          -20.763681976929337,
          -43.6113169324248,
          -27.952849026154862,
          -48.42757290492984,
          -55.1241241185828,
          -39.291140326395755,
          -49.96586241615973,
          -47.274572946417,
          22.93920745243285,
          -55.579052480248784,
          -38.00878448450396,
          -42.979584730118916,
          -32.79510400625199,
          -50.7557431890985,
          -45.4997845733786,
          -43.8176897287317,
          -43.1583338979152,
          -35.08214548171386,
          -48.30399277143552,
          -34.06278032276456,
          -33.03905595129941,
          -69.03078360884659,
          -67.64229190937579,
          -50.75895566192502,
          -43.327546521331904,
          -14.46986465308589,
          2.7159200612112295,
          -15.809866526515195,
          -42.98142045068996,
          -9.148276926642614,
          -19.672176920625464,
          -10.640688158131574,
          -54.359507609047654,
          -34.507651607048025,
          -36.28708666154811,
          -32.42541188690412,
          -27.034020084072612,
          -33.93432409270979,
          -35.48513235829586,
          -92.13018646583234,
          -49.225587068574015,
          -67.06416575208067,
          -90.73239928209881,
          -38.79800782905356,
          -62.6932978908116,
          -72.25914522718293,
          -56.40725658292156,
          -53.28373560891674,
          -64.74993830258586,
          -41.55634777847162,
          -70.89342164486557,
          -37.43932426530615,
          -30.99709636222699,
          -24.12390214405903,
          -58.12591705218428,
          -18.931884017608176,
          -56.30139604700047,
          -19.467218895269685,
          -20.44286144128817,
          -43.13218498628234,
          -55.13831623376635,
          -53.25420484543966,
          -29.01345522014879,
          -30.433752822928085,
          -54.80997351198806,
          -55.77758757213877,
          -29.746409946087127,
          -42.67112988723451,
          -14.560994302492684,
          -79.05088972321406,
          -76.28829077192313,
          -20.969644239481273,
          -38.565602960188535,
          -81.16223401041577,
          -66.79279225028165,
          -33.4152091571663,
          -79.23195431877461,
          -56.307661232579676,
          -47.26561926516422,
          -37.40269897397452,
          -84.36557957561367,
          -54.56750444833606,
          -44.74859761223645,
          -64.17457759008236,
          -50.871689737712984,
          -61.56979511516124,
          -74.00354534563783,
          -62.79735998464177,
          -43.15885741043139,
          -60.07522765162905,
          31.50113160225142,
          36.22147305543576,
          1.8540951620644945,
          -10.56483981055152,
          -51.66943553356541,
          -35.415847447093086,
          -17.55988899967297,
          -17.44597640187843,
          -66.79934099571936,
          -25.45159750599646,
          -77.29819955623078,
          -38.78327082134703,
          -15.44718903859629,
          -0.6148443503595054,
          -55.844230047979906,
          -88.4228388613132,
          -15.362660338237417,
          -44.51230386144105,
          -39.1880548309661,
          -4.71897634029255,
          1.2125418170008848,
          -38.25183358701978,
          -68.45860042263405,
          22.316409849877036,
          -48.57278912481327,
          -51.327089697763554,
          14.158010538886698,
          -61.766222696983625,
          -24.374738989750792,
          -24.285323388375584,
          -52.16877264846275,
          -78.0892799296853,
          -68.87274371161251,
          -49.29263067870569,
          -9.633069930517706,
          -13.842830033174089,
          -95.32594947197518,
          -59.86926153813094,
          -40.69792302520024,
          -43.12589624970233,
          -28.866415505823706,
          23.465344197782255,
          -20.256475922618307,
          32.457765593618745,
          20.914343027724776,
          39.62325459399244,
          13.490280340040051,
          -9.963572553886252,
          25.534216847672692,
          -23.36536304635534,
          5.2045523762453705,
          -58.860535130450074,
          -12.233152610604714,
          -64.38265020221452,
          -76.45117546541076,
          -82.9266823592125,
          -40.65845073852687,
          -69.18532826301022,
          -50.55840674385877,
          -82.62452552716717,
          -72.64993808968639,
          -27.196690099355536,
          -42.133568845246344,
          -23.604072889471595,
          -62.83439673464642,
          -70.06297658987607,
          -73.70666376293721,
          -55.16183941033935,
          -58.40738931329108,
          -54.628299636254255,
          -71.80473109314428,
          -22.209035569966087,
          -14.622133856190155,
          -16.066835848902272,
          -63.72664463255579,
          -35.38357893756419,
          -10.358854438712585,
          -42.94886692361177,
          -70.08250226017896,
          -39.291727076285156,
          -69.63610958714966,
          -72.07523687863959,
          -15.908248726063594,
          -63.49366426038518,
          -22.482992986719147,
          -80.19965186567936,
          -29.02907267639477,
          -44.74820672008694,
          -80.96771098552959,
          -44.91667237467406,
          -71.04229361546156,
          -67.33702903306782,
          -56.92973680378473,
          -67.23743921470977,
          -69.69477111771003,
          -54.08704342901092,
          -47.00188211111133,
          -82.85295895402226,
          -57.02349404426481,
          -73.41237878373042,
          -80.49370094753544,
          -88.56723411373189,
          -62.01717236046692,
          -21.90887285206315,
          -17.329771214481372,
          -89.87984198714865,
          -4.818596203858212,
          -25.29773475951354,
          16.41983573737406,
          -43.50714143623673,
          -67.64660025163266,
          -8.577463613512586,
          -71.33804210049267,
          -3.9029653150474677,
          -20.150745401068267,
          -20.770113608910837,
          -42.79695635997827,
          -11.887525313186137,
          -44.354343941354266,
          -47.75502530220898,
          -39.69119799743698,
          -6.398801753524893,
          -17.19210381264312,
          -9.68351642522758,
          -25.084563878587968,
          245.90342763384047,
          -79.45357726428286,
          272.69583961998507,
          309.21859902735326,
          286.16982628149714,
          208.79768701359788,
          287.72069334916796,
          280.6000003810318,
          239.61913888051714,
          294.6548243988407,
          308.1124792394073,
          257.52288839869834,
          312.20506881913195,
          297.3158053700713,
          279.4637107800492,
          304.9658978742423,
          277.9148078978737,
          313.043670525516,
          289.022072588975,
          280.89297987139787,
          267.64184531025023,
          301.8183696572471,
          281.1748294228916,
          262.54497716487083,
          279.77626404343283,
          290.3686739993102,
          307.4112755962474,
          310.86350232961115,
          -2.5004771308255913,
          -20.57346846819847,
          5.479904339257372,
          -4.951135527594972,
          -10.282394750690745,
          -50.44263987700549,
          -32.27723969740268,
          -6.827702280638914,
          -51.026447686973356,
          -18.24954326056325,
          7.064692073189289,
          -28.58360782487848,
          -33.38865465388631,
          -39.74925719599907,
          -20.02043480102028,
          -42.505499411194,
          -13.355707855987486,
          -60.66853088074629,
          -16.78841987852744,
          -5.086122247371554,
          -27.7869356639656,
          11.613684985660283,
          -34.29589004657208,
          -0.037044521759206236,
          -21.55582761457444,
          -14.857928993644311,
          -41.9328086292942,
          -37.167179007817275,
          3.530950898082876,
          -1.0476422387896491,
          -5.301189914960092,
          55.753493168028754,
          17.393757476496145,
          -9.064385220916828,
          -33.2923821418021,
          -39.223267906297636,
          -65.63789354583368,
          -39.183150902338184,
          -36.728061466706016,
          -31.730257780293464,
          -53.49711628765841,
          -58.14099864421549,
          -65.2327145980596,
          -43.64900702275875,
          -42.874224728453065,
          -33.026406482658906,
          -2.245129054818959,
          -24.23458653806575,
          -10.561999114553345,
          -24.63313940716439,
          3.310552318180719,
          -11.506857540539679,
          -31.26596031928573,
          -26.425981284787493,
          -12.03990464288609,
          38.06906489066308,
          18.21435191829698,
          -6.643886145329148,
          -23.403882705048666,
          -27.72308278662636,
          -26.503516362125342,
          -28.572130030949936
         ],
         "y": [
          117.05783611014299,
          114.43922319334605,
          103.68071826989006,
          77.20068034090237,
          119.52133320831483,
          114.65958060811657,
          114.92649877258461,
          117.43805379654887,
          119.86609747754613,
          118.22369366305558,
          121.54744411700746,
          12.658540359833165,
          -0.19362680426951023,
          13.330558844781866,
          24.162185761573024,
          -5.880007812026285,
          -4.517192039777002,
          -11.115969596781591,
          112.85978036743663,
          127.08600782122095,
          116.16907978551224,
          93.35612751423216,
          125.25144769948548,
          77.54201648444871,
          128.13996238373167,
          93.54195581053939,
          127.72259751893606,
          104.20809806432895,
          119.05427114145336,
          -40.88935898602674,
          -47.02037690416514,
          117.57920579353666,
          121.52159893759874,
          87.46482266036554,
          109.52374548631305,
          128.22846873123873,
          106.77066292685518,
          125.87406319897798,
          115.45883043523274,
          118.52155023450801,
          121.73797255109271,
          130.9459011382198,
          92.79562481605174,
          105.27578273444031,
          109.81073022705228,
          126.75400009944659,
          105.1655057410698,
          110.6885730013633,
          109.17833267609589,
          93.42993388906368,
          89.82415573009007,
          93.2327424880951,
          95.57949703450232,
          94.54992242366342,
          127.66650937578986,
          90.923406014496,
          118.39700999824656,
          91.36629724918369,
          105.15393121824025,
          105.74569761600435,
          122.60287116827408,
          5.194050985582652,
          4.131166585814192,
          115.52320937880575,
          -11.630075971284771,
          0.7866790228723242,
          -20.25029447058237,
          2.695091767754133,
          -2.5419669476370093,
          13.781739270514604,
          2.90222355993499,
          -19.281256678643043,
          -28.823811080556727,
          -9.694931089770229,
          31.123557719249916,
          -17.61483609738032,
          -13.863947161334808,
          9.167103600601768,
          -5.879567056633819,
          34.8961655448829,
          120.7674543460808,
          113.24246351194382,
          118.3843238259251,
          125.75464558739743,
          117.90688577325868,
          110.78729660511254,
          120.9276254190857,
          119.24295942944919,
          132.81781630687775,
          117.05482945516943,
          110.2786419833833,
          120.82523225383765,
          121.16826875466545,
          91.60653405122767,
          133.11593299304928,
          110.51401267554542,
          112.37622526928172,
          114.01649640856881,
          124.68690948073323,
          125.12221934322925,
          93.3288850395916,
          126.44822271819885,
          116.98249996571144,
          126.91111221985837,
          120.99463136016462,
          117.98288189294314,
          127.37199504219994,
          108.8992618030859,
          120.0089933982557,
          128.59072416965358,
          100.38459818776195,
          86.30496395535224,
          74.40242058035184,
          82.86670891591957,
          -62.19784913803965,
          -40.92869957778371,
          -70.08530510747562,
          -63.93459427634092,
          -77.73317414424227,
          -77.07248736658158,
          -43.180892818436526,
          -56.9464282505901,
          -43.154671658821655,
          79.70249431697687,
          -48.51285970412021,
          89.43918122477511,
          119.11465281275596,
          127.2017615011315,
          127.14483778851144,
          118.99932195166437,
          123.49160409725174,
          -69.44093681990599,
          -38.850336298589944,
          61.95698498589858,
          117.90977618324345,
          -39.88905196033084,
          104.25100542291408,
          77.16754243605762,
          -66.17493477452439,
          -71.42208347237332,
          -47.35858806910605,
          -44.71192654941586,
          -33.29578436746217,
          -37.990281807122024,
          -30.27637301927085,
          84.71473749722706,
          82.77050122864564,
          92.98859604570269,
          -68.52943514363766,
          -71.45642963104164,
          -79.14731589534946,
          -39.10730867265064,
          -54.132734019886804,
          -49.381631721879,
          -53.17053782472584,
          -67.17549209224305,
          -64.65416547106207,
          -65.30150981791634,
          -56.5601276582768,
          -38.02156770288858,
          -49.947154937447245,
          -71.38736909896306,
          76.42603352117888,
          80.96059618509082,
          -37.67234894821317,
          -33.77538591982719,
          -76.88453571414935,
          -70.849572119819,
          -74.7463048381283,
          -75.1834466001064,
          -65.19147404895904,
          -65.71021779767709,
          -54.24629694343026,
          -46.376072848578495,
          -40.26000770193137,
          -28.526731306314424,
          -22.417254625715184,
          -29.947067510293543,
          -47.75153480384399,
          -43.975926223333914,
          -34.26522278688026,
          -43.60584572386617,
          -50.00907025991937,
          -74.08706168466075,
          -73.44875089488194,
          -33.17025879776914,
          -32.87453170848128,
          -43.197502307939196,
          -60.33400532191423,
          -69.86621895682035,
          -76.70213268997793,
          -35.76139558690477,
          -43.39062370597038,
          -38.376810402740674,
          96.65640839759891,
          92.46929325631837,
          99.51158906862679,
          -58.2657166470972,
          102.92540958942408,
          88.88942596094553,
          101.33649904414081,
          102.63366037890918,
          101.07680202298849,
          90.78325577752192,
          96.54866249808762,
          92.81191143651178,
          100.83611549007972,
          104.66599608263995,
          99.60036726779667,
          87.93775154990696,
          -41.95406654702597,
          -35.98044790339373,
          -37.6437039070814,
          -47.842070274117596,
          -73.04587655283765,
          -52.61907754676348,
          -53.63450328436599,
          -66.18966884087384,
          -62.206156752100625,
          -54.78080493687023,
          -46.54522472994369,
          -50.41333606438234,
          -48.546706581585646,
          -57.16313291381366,
          -45.317574754630556,
          -53.72654074764868,
          -60.449152116024415,
          -34.29173181515538,
          -33.212793945742966,
          -51.72050940966268,
          -62.76062317036134,
          -64.48288881573478,
          -71.17673301191297,
          -69.28802686686942,
          -31.412791801441852,
          78.81721001614879,
          101.10843771921972,
          85.38156401155256,
          104.35666170172776,
          109.71919416861505,
          97.77255917149775,
          -43.385218652338764,
          -66.40029151513565,
          -58.43990449312966,
          -44.3332691131873,
          -28.532017607037584,
          -36.721647529384555,
          -46.44524792245815,
          -7.368758432463973,
          -27.913460176556356,
          -25.34633886253471,
          -26.932545459588923,
          -30.57103786460334,
          -24.521484236086444,
          -37.862392539055264,
          -29.468426854049792,
          -37.95135199199267,
          -41.586690190361224,
          -44.27758570791469,
          -41.86914116551203,
          -30.643262090615877,
          -44.57142366829805,
          -33.88469822357534,
          -43.513599419726305,
          -50.474632734458865,
          -45.081088953705915,
          -51.767251167679774,
          -45.68455277938651,
          -45.072662762133106,
          -42.741699850400764,
          -33.81220060350466,
          -33.66378770958222,
          -48.50109455363548,
          -43.52286727947732,
          -47.49562697586506,
          -29.543790676635815,
          -42.153317797483275,
          -50.72420540554457,
          -33.60497456572666,
          -27.385686185619573,
          -36.85071004659804,
          -40.96456266720273,
          -34.93606501100076,
          -47.46221165264036,
          -50.69686119048076,
          -37.22426128932034,
          -41.019423848669746,
          -42.30221850261647,
          -38.12555727800986,
          -34.21757424025857,
          -37.83771239869685,
          -29.573631277316164,
          -34.23095673880475,
          -36.20167211544318,
          -40.00177790050412,
          -37.44309237887805,
          -80.8598551229884,
          -62.011888204338696,
          -46.02974226678337,
          -64.52162257471444,
          -56.42895624160912,
          -56.20873246921227,
          -57.853207789806326,
          -69.51826526958013,
          -38.343458720282264,
          -58.12244036967278,
          -38.84310686985973,
          -48.301343900050384,
          -51.21578324560636,
          -48.78082255748802,
          -38.83646110726771,
          -28.580913040693996,
          -55.54130303713945,
          -47.8535415861548,
          -45.90868578402849,
          -57.22979263858605,
          -69.38325588128451,
          -53.48100271212847,
          -50.05483798659717,
          -63.7148145533132,
          -44.310218091352766,
          -50.30890436612007,
          -78.61521559389521,
          -27.489713002649324,
          -50.65407102641228,
          -42.31975957314177,
          -39.5184601882915,
          -20.11233069265533,
          -24.50023337236618,
          -53.068795345644396,
          -53.66430344220478,
          -40.095526624684304,
          -19.19680121178822,
          -27.384409354863593,
          -32.00177585491378,
          -40.857801546803,
          -36.03654253970081,
          -41.223974274924196,
          -66.36325804108067,
          -79.11097959490664,
          -85.07002076003108,
          -82.02799553684699,
          -70.31149210291971,
          -55.47975648727092,
          -73.9030398946587,
          -45.37196597970116,
          -71.75911971030777,
          -51.1155026708892,
          -52.42001912708618,
          -36.70089026052443,
          -27.102393872605873,
          -26.31522422683758,
          -45.070501541687335,
          -22.998346734996304,
          -37.63387324143905,
          -30.24180341669545,
          -31.12907389406257,
          -40.82305495330408,
          -27.36741393956245,
          -38.76100747830298,
          -26.688246329670964,
          -27.74138828858463,
          -27.071376695303705,
          -34.069285227625606,
          -40.95996379100147,
          -36.02512490711692,
          -39.5936095505649,
          -29.91434648131114,
          -36.972491850324914,
          -34.81322944271002,
          -19.171152921238996,
          -31.314929526448932,
          -40.861330629031215,
          -28.734891956469433,
          -21.348913545498178,
          -29.190603503452582,
          -21.887276408425894,
          -21.72026915988432,
          -35.40484863483978,
          -39.69468255781792,
          -32.875368534134296,
          -22.796500760089252,
          -48.49200257724018,
          -52.7705548037543,
          -20.534320891639172,
          -25.114199010989232,
          -17.314830171305417,
          -14.126983737572232,
          -31.68007722308249,
          -13.941985031227064,
          -35.14428457722001,
          -23.66548676985455,
          -30.051660949743177,
          -19.108187681745488,
          -30.11924296325717,
          -20.181369699348853,
          -27.808548472056582,
          -16.15042994121536,
          -22.46740465643869,
          -27.8843275560109,
          -55.37000910018477,
          -18.346548033251494,
          -58.250326154612004,
          -56.44212873169622,
          -76.54411891782799,
          -24.32388474379154,
          -29.823657351742032,
          -34.729812075237795,
          -30.608550520938834,
          -34.84207794403953,
          -55.53259391387558,
          -46.735164599173295,
          -36.02718371622269,
          -37.47214288185082,
          -42.34055500253061,
          -36.89296156822514,
          -33.656606861521674,
          -32.39662990376492,
          -58.83830029252661,
          -44.73152740557537,
          -55.53646056994909,
          -13.520919793697528,
          -14.48183177217333,
          -5.186016052577267,
          -14.985942405094711,
          -7.244735828475072,
          23.14533851643349,
          -12.015725082793269,
          -10.25119922244503,
          7.335739932152102,
          -12.001762456985409,
          -14.700938846383401,
          -2.690307166862465,
          -20.02752660999844,
          -18.111286835229166,
          -4.602444579952266,
          -15.046124732240683,
          -6.95015081960924,
          -23.57264677236371,
          -6.197036293153141,
          -9.792327563737835,
          -3.038492130247499,
          -12.2534589888638,
          -3.5733942267135648,
          -2.9041032571511978,
          -6.92023867095412,
          -10.685818049274358,
          -18.871222103561728,
          -22.3601306992438,
          -48.036284833295184,
          -35.58717255113546,
          -24.330958052079104,
          -38.522221819161345,
          -43.86316208690171,
          -29.82331032992774,
          -33.558330318861195,
          88.63506390837435,
          110.41845074098252,
          95.89139853661875,
          90.58518271922117,
          115.46838509164921,
          126.20987451707461,
          108.27325330042574,
          120.52583141238316,
          98.41974406951483,
          84.31322958040597,
          -40.83775717779209,
          -51.97555879465094,
          -48.740095161968746,
          -43.29481713717726,
          -73.41533390203787,
          -59.59941889157808,
          -58.68976577655561,
          117.9016847267829,
          -47.61532710213266,
          -43.05225782869939,
          -29.639434632502887,
          -48.55043789199869,
          -59.76589838301595,
          -49.687448409449075,
          -83.6109118582323,
          -72.54284438134809,
          -49.20316575417509,
          -37.58073688213748,
          -30.782463454215847,
          -44.725002150233145,
          -39.181496560061284,
          -50.3985510953234,
          -38.8347790753378,
          -26.980459110041256,
          -28.311157693432214,
          -39.12141042307609,
          -33.3813285857636,
          -41.75977227395669,
          -35.691589869113486,
          118.03274943844258,
          -45.08413437457479,
          -44.54832075026004,
          -44.01983979627543,
          -48.214226390921475,
          -39.74008974997666,
          -40.003865132716996,
          -32.54355042537811,
          -38.63354963763871,
          -57.53523782091464,
          -52.250328319893335,
          -37.20404985457484,
          -33.07234743153196,
          -34.914809830444646,
          -37.14483416127809,
          -43.970878549333996
         ]
        }
       ],
       "layout": {
        "template": {
         "data": {
          "bar": [
           {
            "error_x": {
             "color": "#2a3f5f"
            },
            "error_y": {
             "color": "#2a3f5f"
            },
            "marker": {
             "line": {
              "color": "#E5ECF6",
              "width": 0.5
             },
             "pattern": {
              "fillmode": "overlay",
              "size": 10,
              "solidity": 0.2
             }
            },
            "type": "bar"
           }
          ],
          "barpolar": [
           {
            "marker": {
             "line": {
              "color": "#E5ECF6",
              "width": 0.5
             },
             "pattern": {
              "fillmode": "overlay",
              "size": 10,
              "solidity": 0.2
             }
            },
            "type": "barpolar"
           }
          ],
          "carpet": [
           {
            "aaxis": {
             "endlinecolor": "#2a3f5f",
             "gridcolor": "white",
             "linecolor": "white",
             "minorgridcolor": "white",
             "startlinecolor": "#2a3f5f"
            },
            "baxis": {
             "endlinecolor": "#2a3f5f",
             "gridcolor": "white",
             "linecolor": "white",
             "minorgridcolor": "white",
             "startlinecolor": "#2a3f5f"
            },
            "type": "carpet"
           }
          ],
          "choropleth": [
           {
            "colorbar": {
             "outlinewidth": 0,
             "ticks": ""
            },
            "type": "choropleth"
           }
          ],
          "contour": [
           {
            "colorbar": {
             "outlinewidth": 0,
             "ticks": ""
            },
            "colorscale": [
             [
              0,
              "#0d0887"
             ],
             [
              0.1111111111111111,
              "#46039f"
             ],
             [
              0.2222222222222222,
              "#7201a8"
             ],
             [
              0.3333333333333333,
              "#9c179e"
             ],
             [
              0.4444444444444444,
              "#bd3786"
             ],
             [
              0.5555555555555556,
              "#d8576b"
             ],
             [
              0.6666666666666666,
              "#ed7953"
             ],
             [
              0.7777777777777778,
              "#fb9f3a"
             ],
             [
              0.8888888888888888,
              "#fdca26"
             ],
             [
              1,
              "#f0f921"
             ]
            ],
            "type": "contour"
           }
          ],
          "contourcarpet": [
           {
            "colorbar": {
             "outlinewidth": 0,
             "ticks": ""
            },
            "type": "contourcarpet"
           }
          ],
          "heatmap": [
           {
            "colorbar": {
             "outlinewidth": 0,
             "ticks": ""
            },
            "colorscale": [
             [
              0,
              "#0d0887"
             ],
             [
              0.1111111111111111,
              "#46039f"
             ],
             [
              0.2222222222222222,
              "#7201a8"
             ],
             [
              0.3333333333333333,
              "#9c179e"
             ],
             [
              0.4444444444444444,
              "#bd3786"
             ],
             [
              0.5555555555555556,
              "#d8576b"
             ],
             [
              0.6666666666666666,
              "#ed7953"
             ],
             [
              0.7777777777777778,
              "#fb9f3a"
             ],
             [
              0.8888888888888888,
              "#fdca26"
             ],
             [
              1,
              "#f0f921"
             ]
            ],
            "type": "heatmap"
           }
          ],
          "heatmapgl": [
           {
            "colorbar": {
             "outlinewidth": 0,
             "ticks": ""
            },
            "colorscale": [
             [
              0,
              "#0d0887"
             ],
             [
              0.1111111111111111,
              "#46039f"
             ],
             [
              0.2222222222222222,
              "#7201a8"
             ],
             [
              0.3333333333333333,
              "#9c179e"
             ],
             [
              0.4444444444444444,
              "#bd3786"
             ],
             [
              0.5555555555555556,
              "#d8576b"
             ],
             [
              0.6666666666666666,
              "#ed7953"
             ],
             [
              0.7777777777777778,
              "#fb9f3a"
             ],
             [
              0.8888888888888888,
              "#fdca26"
             ],
             [
              1,
              "#f0f921"
             ]
            ],
            "type": "heatmapgl"
           }
          ],
          "histogram": [
           {
            "marker": {
             "pattern": {
              "fillmode": "overlay",
              "size": 10,
              "solidity": 0.2
             }
            },
            "type": "histogram"
           }
          ],
          "histogram2d": [
           {
            "colorbar": {
             "outlinewidth": 0,
             "ticks": ""
            },
            "colorscale": [
             [
              0,
              "#0d0887"
             ],
             [
              0.1111111111111111,
              "#46039f"
             ],
             [
              0.2222222222222222,
              "#7201a8"
             ],
             [
              0.3333333333333333,
              "#9c179e"
             ],
             [
              0.4444444444444444,
              "#bd3786"
             ],
             [
              0.5555555555555556,
              "#d8576b"
             ],
             [
              0.6666666666666666,
              "#ed7953"
             ],
             [
              0.7777777777777778,
              "#fb9f3a"
             ],
             [
              0.8888888888888888,
              "#fdca26"
             ],
             [
              1,
              "#f0f921"
             ]
            ],
            "type": "histogram2d"
           }
          ],
          "histogram2dcontour": [
           {
            "colorbar": {
             "outlinewidth": 0,
             "ticks": ""
            },
            "colorscale": [
             [
              0,
              "#0d0887"
             ],
             [
              0.1111111111111111,
              "#46039f"
             ],
             [
              0.2222222222222222,
              "#7201a8"
             ],
             [
              0.3333333333333333,
              "#9c179e"
             ],
             [
              0.4444444444444444,
              "#bd3786"
             ],
             [
              0.5555555555555556,
              "#d8576b"
             ],
             [
              0.6666666666666666,
              "#ed7953"
             ],
             [
              0.7777777777777778,
              "#fb9f3a"
             ],
             [
              0.8888888888888888,
              "#fdca26"
             ],
             [
              1,
              "#f0f921"
             ]
            ],
            "type": "histogram2dcontour"
           }
          ],
          "mesh3d": [
           {
            "colorbar": {
             "outlinewidth": 0,
             "ticks": ""
            },
            "type": "mesh3d"
           }
          ],
          "parcoords": [
           {
            "line": {
             "colorbar": {
              "outlinewidth": 0,
              "ticks": ""
             }
            },
            "type": "parcoords"
           }
          ],
          "pie": [
           {
            "automargin": true,
            "type": "pie"
           }
          ],
          "scatter": [
           {
            "fillpattern": {
             "fillmode": "overlay",
             "size": 10,
             "solidity": 0.2
            },
            "type": "scatter"
           }
          ],
          "scatter3d": [
           {
            "line": {
             "colorbar": {
              "outlinewidth": 0,
              "ticks": ""
             }
            },
            "marker": {
             "colorbar": {
              "outlinewidth": 0,
              "ticks": ""
             }
            },
            "type": "scatter3d"
           }
          ],
          "scattercarpet": [
           {
            "marker": {
             "colorbar": {
              "outlinewidth": 0,
              "ticks": ""
             }
            },
            "type": "scattercarpet"
           }
          ],
          "scattergeo": [
           {
            "marker": {
             "colorbar": {
              "outlinewidth": 0,
              "ticks": ""
             }
            },
            "type": "scattergeo"
           }
          ],
          "scattergl": [
           {
            "marker": {
             "colorbar": {
              "outlinewidth": 0,
              "ticks": ""
             }
            },
            "type": "scattergl"
           }
          ],
          "scattermapbox": [
           {
            "marker": {
             "colorbar": {
              "outlinewidth": 0,
              "ticks": ""
             }
            },
            "type": "scattermapbox"
           }
          ],
          "scatterpolar": [
           {
            "marker": {
             "colorbar": {
              "outlinewidth": 0,
              "ticks": ""
             }
            },
            "type": "scatterpolar"
           }
          ],
          "scatterpolargl": [
           {
            "marker": {
             "colorbar": {
              "outlinewidth": 0,
              "ticks": ""
             }
            },
            "type": "scatterpolargl"
           }
          ],
          "scatterternary": [
           {
            "marker": {
             "colorbar": {
              "outlinewidth": 0,
              "ticks": ""
             }
            },
            "type": "scatterternary"
           }
          ],
          "surface": [
           {
            "colorbar": {
             "outlinewidth": 0,
             "ticks": ""
            },
            "colorscale": [
             [
              0,
              "#0d0887"
             ],
             [
              0.1111111111111111,
              "#46039f"
             ],
             [
              0.2222222222222222,
              "#7201a8"
             ],
             [
              0.3333333333333333,
              "#9c179e"
             ],
             [
              0.4444444444444444,
              "#bd3786"
             ],
             [
              0.5555555555555556,
              "#d8576b"
             ],
             [
              0.6666666666666666,
              "#ed7953"
             ],
             [
              0.7777777777777778,
              "#fb9f3a"
             ],
             [
              0.8888888888888888,
              "#fdca26"
             ],
             [
              1,
              "#f0f921"
             ]
            ],
            "type": "surface"
           }
          ],
          "table": [
           {
            "cells": {
             "fill": {
              "color": "#EBF0F8"
             },
             "line": {
              "color": "white"
             }
            },
            "header": {
             "fill": {
              "color": "#C8D4E3"
             },
             "line": {
              "color": "white"
             }
            },
            "type": "table"
           }
          ]
         },
         "layout": {
          "annotationdefaults": {
           "arrowcolor": "#2a3f5f",
           "arrowhead": 0,
           "arrowwidth": 1
          },
          "autotypenumbers": "strict",
          "coloraxis": {
           "colorbar": {
            "outlinewidth": 0,
            "ticks": ""
           }
          },
          "colorscale": {
           "diverging": [
            [
             0,
             "#8e0152"
            ],
            [
             0.1,
             "#c51b7d"
            ],
            [
             0.2,
             "#de77ae"
            ],
            [
             0.3,
             "#f1b6da"
            ],
            [
             0.4,
             "#fde0ef"
            ],
            [
             0.5,
             "#f7f7f7"
            ],
            [
             0.6,
             "#e6f5d0"
            ],
            [
             0.7,
             "#b8e186"
            ],
            [
             0.8,
             "#7fbc41"
            ],
            [
             0.9,
             "#4d9221"
            ],
            [
             1,
             "#276419"
            ]
           ],
           "sequential": [
            [
             0,
             "#0d0887"
            ],
            [
             0.1111111111111111,
             "#46039f"
            ],
            [
             0.2222222222222222,
             "#7201a8"
            ],
            [
             0.3333333333333333,
             "#9c179e"
            ],
            [
             0.4444444444444444,
             "#bd3786"
            ],
            [
             0.5555555555555556,
             "#d8576b"
            ],
            [
             0.6666666666666666,
             "#ed7953"
            ],
            [
             0.7777777777777778,
             "#fb9f3a"
            ],
            [
             0.8888888888888888,
             "#fdca26"
            ],
            [
             1,
             "#f0f921"
            ]
           ],
           "sequentialminus": [
            [
             0,
             "#0d0887"
            ],
            [
             0.1111111111111111,
             "#46039f"
            ],
            [
             0.2222222222222222,
             "#7201a8"
            ],
            [
             0.3333333333333333,
             "#9c179e"
            ],
            [
             0.4444444444444444,
             "#bd3786"
            ],
            [
             0.5555555555555556,
             "#d8576b"
            ],
            [
             0.6666666666666666,
             "#ed7953"
            ],
            [
             0.7777777777777778,
             "#fb9f3a"
            ],
            [
             0.8888888888888888,
             "#fdca26"
            ],
            [
             1,
             "#f0f921"
            ]
           ]
          },
          "colorway": [
           "#636efa",
           "#EF553B",
           "#00cc96",
           "#ab63fa",
           "#FFA15A",
           "#19d3f3",
           "#FF6692",
           "#B6E880",
           "#FF97FF",
           "#FECB52"
          ],
          "font": {
           "color": "#2a3f5f"
          },
          "geo": {
           "bgcolor": "white",
           "lakecolor": "white",
           "landcolor": "#E5ECF6",
           "showlakes": true,
           "showland": true,
           "subunitcolor": "white"
          },
          "hoverlabel": {
           "align": "left"
          },
          "hovermode": "closest",
          "mapbox": {
           "style": "light"
          },
          "paper_bgcolor": "white",
          "plot_bgcolor": "#E5ECF6",
          "polar": {
           "angularaxis": {
            "gridcolor": "white",
            "linecolor": "white",
            "ticks": ""
           },
           "bgcolor": "#E5ECF6",
           "radialaxis": {
            "gridcolor": "white",
            "linecolor": "white",
            "ticks": ""
           }
          },
          "scene": {
           "xaxis": {
            "backgroundcolor": "#E5ECF6",
            "gridcolor": "white",
            "gridwidth": 2,
            "linecolor": "white",
            "showbackground": true,
            "ticks": "",
            "zerolinecolor": "white"
           },
           "yaxis": {
            "backgroundcolor": "#E5ECF6",
            "gridcolor": "white",
            "gridwidth": 2,
            "linecolor": "white",
            "showbackground": true,
            "ticks": "",
            "zerolinecolor": "white"
           },
           "zaxis": {
            "backgroundcolor": "#E5ECF6",
            "gridcolor": "white",
            "gridwidth": 2,
            "linecolor": "white",
            "showbackground": true,
            "ticks": "",
            "zerolinecolor": "white"
           }
          },
          "shapedefaults": {
           "line": {
            "color": "#2a3f5f"
           }
          },
          "ternary": {
           "aaxis": {
            "gridcolor": "white",
            "linecolor": "white",
            "ticks": ""
           },
           "baxis": {
            "gridcolor": "white",
            "linecolor": "white",
            "ticks": ""
           },
           "bgcolor": "#E5ECF6",
           "caxis": {
            "gridcolor": "white",
            "linecolor": "white",
            "ticks": ""
           }
          },
          "title": {
           "x": 0.05
          },
          "xaxis": {
           "automargin": true,
           "gridcolor": "white",
           "linecolor": "white",
           "ticks": "",
           "title": {
            "standoff": 15
           },
           "zerolinecolor": "white",
           "zerolinewidth": 2
          },
          "yaxis": {
           "automargin": true,
           "gridcolor": "white",
           "linecolor": "white",
           "ticks": "",
           "title": {
            "standoff": 15
           },
           "zerolinecolor": "white",
           "zerolinewidth": 2
          }
         }
        }
       }
      }
     },
     "metadata": {},
     "output_type": "display_data"
    }
   ],
   "source": [
    "fig = go.Figure()\n",
    "fig.add_trace(\n",
    "    go.Scatter(\n",
    "        x = X_redux[:,0],\n",
    "        y = X_redux[:,1],\n",
    "        mode='markers'\n",
    "    )\n",
    ")\n",
    "fig.show()"
   ]
  }
 ],
 "metadata": {
  "kernelspec": {
   "display_name": ".venv",
   "language": "python",
   "name": "python3"
  },
  "language_info": {
   "codemirror_mode": {
    "name": "ipython",
    "version": 3
   },
   "file_extension": ".py",
   "mimetype": "text/x-python",
   "name": "python",
   "nbconvert_exporter": "python",
   "pygments_lexer": "ipython3",
   "version": "3.9.6"
  }
 },
 "nbformat": 4,
 "nbformat_minor": 2
}
