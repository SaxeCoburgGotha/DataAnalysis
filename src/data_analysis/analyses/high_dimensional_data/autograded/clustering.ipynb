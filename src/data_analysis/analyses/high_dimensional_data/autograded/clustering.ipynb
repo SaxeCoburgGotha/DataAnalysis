{
 "cells": [
  {
   "cell_type": "markdown",
   "metadata": {},
   "source": [
    "# Genomics & High Dimensional Data"
   ]
  },
  {
   "cell_type": "markdown",
   "metadata": {},
   "source": [
    "#### Preliminaries"
   ]
  },
  {
   "cell_type": "markdown",
   "metadata": {},
   "source": [
    "##### Libraries"
   ]
  },
  {
   "cell_type": "code",
   "execution_count": 14,
   "metadata": {},
   "outputs": [],
   "source": [
    "from os import path\n",
    "import numpy as np\n",
    "import pandas as pd\n",
    "from sklearn import decomposition, cluster, manifold\n",
    "import plotly.express as px\n",
    "import plotly.graph_objects as go"
   ]
  },
  {
   "cell_type": "markdown",
   "metadata": {},
   "source": [
    "##### Utilities"
   ]
  },
  {
   "cell_type": "code",
   "execution_count": 2,
   "metadata": {},
   "outputs": [],
   "source": [
    "from utilities import json as utl_json"
   ]
  },
  {
   "cell_type": "markdown",
   "metadata": {},
   "source": [
    "##### Configuration"
   ]
  },
  {
   "cell_type": "code",
   "execution_count": 3,
   "metadata": {},
   "outputs": [],
   "source": [
    "env_config = utl_json.to_dict(file_path=\"../../config/env.json\")"
   ]
  },
  {
   "cell_type": "markdown",
   "metadata": {},
   "source": [
    "## PCA"
   ]
  },
  {
   "cell_type": "code",
   "execution_count": 4,
   "metadata": {},
   "outputs": [],
   "source": [
    "X = np.load(\n",
    "    file=path.normpath(\n",
    "        path.join(\n",
    "            env_config['root'],\n",
    "            \"modules/m2/data/p1\",\n",
    "            \"X.npy\"\n",
    "        )\n",
    "    )\n",
    ")"
   ]
  },
  {
   "cell_type": "code",
   "execution_count": 5,
   "metadata": {},
   "outputs": [],
   "source": [
    "X_log = np.log2((X + 1))"
   ]
  },
  {
   "cell_type": "code",
   "execution_count": 6,
   "metadata": {},
   "outputs": [
    {
     "data": {
      "text/plain": [
       "3.6939215228197613"
      ]
     },
     "execution_count": 6,
     "metadata": {},
     "output_type": "execute_result"
    }
   ],
   "source": [
    "max(X_log[:, 0])"
   ]
  },
  {
   "cell_type": "code",
   "execution_count": 7,
   "metadata": {},
   "outputs": [
    {
     "name": "stdout",
     "output_type": "stream",
     "text": [
      "(511, 50)\n"
     ]
    }
   ],
   "source": [
    "pca = decomposition.PCA(n_components=50)\n",
    "X_redux = pca.fit_transform(X_log)\n",
    "print(X_redux.shape)"
   ]
  },
  {
   "cell_type": "code",
   "execution_count": 69,
   "metadata": {},
   "outputs": [],
   "source": [
    "n_clusters = 6"
   ]
  },
  {
   "cell_type": "code",
   "execution_count": 70,
   "metadata": {},
   "outputs": [],
   "source": [
    "kmeans = cluster.KMeans(n_clusters=n_clusters, max_iter=10000)"
   ]
  },
  {
   "cell_type": "code",
   "execution_count": 71,
   "metadata": {},
   "outputs": [
    {
     "data": {
      "text/html": [
       "<style>#sk-container-id-8 {\n",
       "  /* Definition of color scheme common for light and dark mode */\n",
       "  --sklearn-color-text: black;\n",
       "  --sklearn-color-line: gray;\n",
       "  /* Definition of color scheme for unfitted estimators */\n",
       "  --sklearn-color-unfitted-level-0: #fff5e6;\n",
       "  --sklearn-color-unfitted-level-1: #f6e4d2;\n",
       "  --sklearn-color-unfitted-level-2: #ffe0b3;\n",
       "  --sklearn-color-unfitted-level-3: chocolate;\n",
       "  /* Definition of color scheme for fitted estimators */\n",
       "  --sklearn-color-fitted-level-0: #f0f8ff;\n",
       "  --sklearn-color-fitted-level-1: #d4ebff;\n",
       "  --sklearn-color-fitted-level-2: #b3dbfd;\n",
       "  --sklearn-color-fitted-level-3: cornflowerblue;\n",
       "\n",
       "  /* Specific color for light theme */\n",
       "  --sklearn-color-text-on-default-background: var(--sg-text-color, var(--theme-code-foreground, var(--jp-content-font-color1, black)));\n",
       "  --sklearn-color-background: var(--sg-background-color, var(--theme-background, var(--jp-layout-color0, white)));\n",
       "  --sklearn-color-border-box: var(--sg-text-color, var(--theme-code-foreground, var(--jp-content-font-color1, black)));\n",
       "  --sklearn-color-icon: #696969;\n",
       "\n",
       "  @media (prefers-color-scheme: dark) {\n",
       "    /* Redefinition of color scheme for dark theme */\n",
       "    --sklearn-color-text-on-default-background: var(--sg-text-color, var(--theme-code-foreground, var(--jp-content-font-color1, white)));\n",
       "    --sklearn-color-background: var(--sg-background-color, var(--theme-background, var(--jp-layout-color0, #111)));\n",
       "    --sklearn-color-border-box: var(--sg-text-color, var(--theme-code-foreground, var(--jp-content-font-color1, white)));\n",
       "    --sklearn-color-icon: #878787;\n",
       "  }\n",
       "}\n",
       "\n",
       "#sk-container-id-8 {\n",
       "  color: var(--sklearn-color-text);\n",
       "}\n",
       "\n",
       "#sk-container-id-8 pre {\n",
       "  padding: 0;\n",
       "}\n",
       "\n",
       "#sk-container-id-8 input.sk-hidden--visually {\n",
       "  border: 0;\n",
       "  clip: rect(1px 1px 1px 1px);\n",
       "  clip: rect(1px, 1px, 1px, 1px);\n",
       "  height: 1px;\n",
       "  margin: -1px;\n",
       "  overflow: hidden;\n",
       "  padding: 0;\n",
       "  position: absolute;\n",
       "  width: 1px;\n",
       "}\n",
       "\n",
       "#sk-container-id-8 div.sk-dashed-wrapped {\n",
       "  border: 1px dashed var(--sklearn-color-line);\n",
       "  margin: 0 0.4em 0.5em 0.4em;\n",
       "  box-sizing: border-box;\n",
       "  padding-bottom: 0.4em;\n",
       "  background-color: var(--sklearn-color-background);\n",
       "}\n",
       "\n",
       "#sk-container-id-8 div.sk-container {\n",
       "  /* jupyter's `normalize.less` sets `[hidden] { display: none; }`\n",
       "     but bootstrap.min.css set `[hidden] { display: none !important; }`\n",
       "     so we also need the `!important` here to be able to override the\n",
       "     default hidden behavior on the sphinx rendered scikit-learn.org.\n",
       "     See: https://github.com/scikit-learn/scikit-learn/issues/21755 */\n",
       "  display: inline-block !important;\n",
       "  position: relative;\n",
       "}\n",
       "\n",
       "#sk-container-id-8 div.sk-text-repr-fallback {\n",
       "  display: none;\n",
       "}\n",
       "\n",
       "div.sk-parallel-item,\n",
       "div.sk-serial,\n",
       "div.sk-item {\n",
       "  /* draw centered vertical line to link estimators */\n",
       "  background-image: linear-gradient(var(--sklearn-color-text-on-default-background), var(--sklearn-color-text-on-default-background));\n",
       "  background-size: 2px 100%;\n",
       "  background-repeat: no-repeat;\n",
       "  background-position: center center;\n",
       "}\n",
       "\n",
       "/* Parallel-specific style estimator block */\n",
       "\n",
       "#sk-container-id-8 div.sk-parallel-item::after {\n",
       "  content: \"\";\n",
       "  width: 100%;\n",
       "  border-bottom: 2px solid var(--sklearn-color-text-on-default-background);\n",
       "  flex-grow: 1;\n",
       "}\n",
       "\n",
       "#sk-container-id-8 div.sk-parallel {\n",
       "  display: flex;\n",
       "  align-items: stretch;\n",
       "  justify-content: center;\n",
       "  background-color: var(--sklearn-color-background);\n",
       "  position: relative;\n",
       "}\n",
       "\n",
       "#sk-container-id-8 div.sk-parallel-item {\n",
       "  display: flex;\n",
       "  flex-direction: column;\n",
       "}\n",
       "\n",
       "#sk-container-id-8 div.sk-parallel-item:first-child::after {\n",
       "  align-self: flex-end;\n",
       "  width: 50%;\n",
       "}\n",
       "\n",
       "#sk-container-id-8 div.sk-parallel-item:last-child::after {\n",
       "  align-self: flex-start;\n",
       "  width: 50%;\n",
       "}\n",
       "\n",
       "#sk-container-id-8 div.sk-parallel-item:only-child::after {\n",
       "  width: 0;\n",
       "}\n",
       "\n",
       "/* Serial-specific style estimator block */\n",
       "\n",
       "#sk-container-id-8 div.sk-serial {\n",
       "  display: flex;\n",
       "  flex-direction: column;\n",
       "  align-items: center;\n",
       "  background-color: var(--sklearn-color-background);\n",
       "  padding-right: 1em;\n",
       "  padding-left: 1em;\n",
       "}\n",
       "\n",
       "\n",
       "/* Toggleable style: style used for estimator/Pipeline/ColumnTransformer box that is\n",
       "clickable and can be expanded/collapsed.\n",
       "- Pipeline and ColumnTransformer use this feature and define the default style\n",
       "- Estimators will overwrite some part of the style using the `sk-estimator` class\n",
       "*/\n",
       "\n",
       "/* Pipeline and ColumnTransformer style (default) */\n",
       "\n",
       "#sk-container-id-8 div.sk-toggleable {\n",
       "  /* Default theme specific background. It is overwritten whether we have a\n",
       "  specific estimator or a Pipeline/ColumnTransformer */\n",
       "  background-color: var(--sklearn-color-background);\n",
       "}\n",
       "\n",
       "/* Toggleable label */\n",
       "#sk-container-id-8 label.sk-toggleable__label {\n",
       "  cursor: pointer;\n",
       "  display: block;\n",
       "  width: 100%;\n",
       "  margin-bottom: 0;\n",
       "  padding: 0.5em;\n",
       "  box-sizing: border-box;\n",
       "  text-align: center;\n",
       "}\n",
       "\n",
       "#sk-container-id-8 label.sk-toggleable__label-arrow:before {\n",
       "  /* Arrow on the left of the label */\n",
       "  content: \"▸\";\n",
       "  float: left;\n",
       "  margin-right: 0.25em;\n",
       "  color: var(--sklearn-color-icon);\n",
       "}\n",
       "\n",
       "#sk-container-id-8 label.sk-toggleable__label-arrow:hover:before {\n",
       "  color: var(--sklearn-color-text);\n",
       "}\n",
       "\n",
       "/* Toggleable content - dropdown */\n",
       "\n",
       "#sk-container-id-8 div.sk-toggleable__content {\n",
       "  max-height: 0;\n",
       "  max-width: 0;\n",
       "  overflow: hidden;\n",
       "  text-align: left;\n",
       "  /* unfitted */\n",
       "  background-color: var(--sklearn-color-unfitted-level-0);\n",
       "}\n",
       "\n",
       "#sk-container-id-8 div.sk-toggleable__content.fitted {\n",
       "  /* fitted */\n",
       "  background-color: var(--sklearn-color-fitted-level-0);\n",
       "}\n",
       "\n",
       "#sk-container-id-8 div.sk-toggleable__content pre {\n",
       "  margin: 0.2em;\n",
       "  border-radius: 0.25em;\n",
       "  color: var(--sklearn-color-text);\n",
       "  /* unfitted */\n",
       "  background-color: var(--sklearn-color-unfitted-level-0);\n",
       "}\n",
       "\n",
       "#sk-container-id-8 div.sk-toggleable__content.fitted pre {\n",
       "  /* unfitted */\n",
       "  background-color: var(--sklearn-color-fitted-level-0);\n",
       "}\n",
       "\n",
       "#sk-container-id-8 input.sk-toggleable__control:checked~div.sk-toggleable__content {\n",
       "  /* Expand drop-down */\n",
       "  max-height: 200px;\n",
       "  max-width: 100%;\n",
       "  overflow: auto;\n",
       "}\n",
       "\n",
       "#sk-container-id-8 input.sk-toggleable__control:checked~label.sk-toggleable__label-arrow:before {\n",
       "  content: \"▾\";\n",
       "}\n",
       "\n",
       "/* Pipeline/ColumnTransformer-specific style */\n",
       "\n",
       "#sk-container-id-8 div.sk-label input.sk-toggleable__control:checked~label.sk-toggleable__label {\n",
       "  color: var(--sklearn-color-text);\n",
       "  background-color: var(--sklearn-color-unfitted-level-2);\n",
       "}\n",
       "\n",
       "#sk-container-id-8 div.sk-label.fitted input.sk-toggleable__control:checked~label.sk-toggleable__label {\n",
       "  background-color: var(--sklearn-color-fitted-level-2);\n",
       "}\n",
       "\n",
       "/* Estimator-specific style */\n",
       "\n",
       "/* Colorize estimator box */\n",
       "#sk-container-id-8 div.sk-estimator input.sk-toggleable__control:checked~label.sk-toggleable__label {\n",
       "  /* unfitted */\n",
       "  background-color: var(--sklearn-color-unfitted-level-2);\n",
       "}\n",
       "\n",
       "#sk-container-id-8 div.sk-estimator.fitted input.sk-toggleable__control:checked~label.sk-toggleable__label {\n",
       "  /* fitted */\n",
       "  background-color: var(--sklearn-color-fitted-level-2);\n",
       "}\n",
       "\n",
       "#sk-container-id-8 div.sk-label label.sk-toggleable__label,\n",
       "#sk-container-id-8 div.sk-label label {\n",
       "  /* The background is the default theme color */\n",
       "  color: var(--sklearn-color-text-on-default-background);\n",
       "}\n",
       "\n",
       "/* On hover, darken the color of the background */\n",
       "#sk-container-id-8 div.sk-label:hover label.sk-toggleable__label {\n",
       "  color: var(--sklearn-color-text);\n",
       "  background-color: var(--sklearn-color-unfitted-level-2);\n",
       "}\n",
       "\n",
       "/* Label box, darken color on hover, fitted */\n",
       "#sk-container-id-8 div.sk-label.fitted:hover label.sk-toggleable__label.fitted {\n",
       "  color: var(--sklearn-color-text);\n",
       "  background-color: var(--sklearn-color-fitted-level-2);\n",
       "}\n",
       "\n",
       "/* Estimator label */\n",
       "\n",
       "#sk-container-id-8 div.sk-label label {\n",
       "  font-family: monospace;\n",
       "  font-weight: bold;\n",
       "  display: inline-block;\n",
       "  line-height: 1.2em;\n",
       "}\n",
       "\n",
       "#sk-container-id-8 div.sk-label-container {\n",
       "  text-align: center;\n",
       "}\n",
       "\n",
       "/* Estimator-specific */\n",
       "#sk-container-id-8 div.sk-estimator {\n",
       "  font-family: monospace;\n",
       "  border: 1px dotted var(--sklearn-color-border-box);\n",
       "  border-radius: 0.25em;\n",
       "  box-sizing: border-box;\n",
       "  margin-bottom: 0.5em;\n",
       "  /* unfitted */\n",
       "  background-color: var(--sklearn-color-unfitted-level-0);\n",
       "}\n",
       "\n",
       "#sk-container-id-8 div.sk-estimator.fitted {\n",
       "  /* fitted */\n",
       "  background-color: var(--sklearn-color-fitted-level-0);\n",
       "}\n",
       "\n",
       "/* on hover */\n",
       "#sk-container-id-8 div.sk-estimator:hover {\n",
       "  /* unfitted */\n",
       "  background-color: var(--sklearn-color-unfitted-level-2);\n",
       "}\n",
       "\n",
       "#sk-container-id-8 div.sk-estimator.fitted:hover {\n",
       "  /* fitted */\n",
       "  background-color: var(--sklearn-color-fitted-level-2);\n",
       "}\n",
       "\n",
       "/* Specification for estimator info (e.g. \"i\" and \"?\") */\n",
       "\n",
       "/* Common style for \"i\" and \"?\" */\n",
       "\n",
       ".sk-estimator-doc-link,\n",
       "a:link.sk-estimator-doc-link,\n",
       "a:visited.sk-estimator-doc-link {\n",
       "  float: right;\n",
       "  font-size: smaller;\n",
       "  line-height: 1em;\n",
       "  font-family: monospace;\n",
       "  background-color: var(--sklearn-color-background);\n",
       "  border-radius: 1em;\n",
       "  height: 1em;\n",
       "  width: 1em;\n",
       "  text-decoration: none !important;\n",
       "  margin-left: 1ex;\n",
       "  /* unfitted */\n",
       "  border: var(--sklearn-color-unfitted-level-1) 1pt solid;\n",
       "  color: var(--sklearn-color-unfitted-level-1);\n",
       "}\n",
       "\n",
       ".sk-estimator-doc-link.fitted,\n",
       "a:link.sk-estimator-doc-link.fitted,\n",
       "a:visited.sk-estimator-doc-link.fitted {\n",
       "  /* fitted */\n",
       "  border: var(--sklearn-color-fitted-level-1) 1pt solid;\n",
       "  color: var(--sklearn-color-fitted-level-1);\n",
       "}\n",
       "\n",
       "/* On hover */\n",
       "div.sk-estimator:hover .sk-estimator-doc-link:hover,\n",
       ".sk-estimator-doc-link:hover,\n",
       "div.sk-label-container:hover .sk-estimator-doc-link:hover,\n",
       ".sk-estimator-doc-link:hover {\n",
       "  /* unfitted */\n",
       "  background-color: var(--sklearn-color-unfitted-level-3);\n",
       "  color: var(--sklearn-color-background);\n",
       "  text-decoration: none;\n",
       "}\n",
       "\n",
       "div.sk-estimator.fitted:hover .sk-estimator-doc-link.fitted:hover,\n",
       ".sk-estimator-doc-link.fitted:hover,\n",
       "div.sk-label-container:hover .sk-estimator-doc-link.fitted:hover,\n",
       ".sk-estimator-doc-link.fitted:hover {\n",
       "  /* fitted */\n",
       "  background-color: var(--sklearn-color-fitted-level-3);\n",
       "  color: var(--sklearn-color-background);\n",
       "  text-decoration: none;\n",
       "}\n",
       "\n",
       "/* Span, style for the box shown on hovering the info icon */\n",
       ".sk-estimator-doc-link span {\n",
       "  display: none;\n",
       "  z-index: 9999;\n",
       "  position: relative;\n",
       "  font-weight: normal;\n",
       "  right: .2ex;\n",
       "  padding: .5ex;\n",
       "  margin: .5ex;\n",
       "  width: min-content;\n",
       "  min-width: 20ex;\n",
       "  max-width: 50ex;\n",
       "  color: var(--sklearn-color-text);\n",
       "  box-shadow: 2pt 2pt 4pt #999;\n",
       "  /* unfitted */\n",
       "  background: var(--sklearn-color-unfitted-level-0);\n",
       "  border: .5pt solid var(--sklearn-color-unfitted-level-3);\n",
       "}\n",
       "\n",
       ".sk-estimator-doc-link.fitted span {\n",
       "  /* fitted */\n",
       "  background: var(--sklearn-color-fitted-level-0);\n",
       "  border: var(--sklearn-color-fitted-level-3);\n",
       "}\n",
       "\n",
       ".sk-estimator-doc-link:hover span {\n",
       "  display: block;\n",
       "}\n",
       "\n",
       "/* \"?\"-specific style due to the `<a>` HTML tag */\n",
       "\n",
       "#sk-container-id-8 a.estimator_doc_link {\n",
       "  float: right;\n",
       "  font-size: 1rem;\n",
       "  line-height: 1em;\n",
       "  font-family: monospace;\n",
       "  background-color: var(--sklearn-color-background);\n",
       "  border-radius: 1rem;\n",
       "  height: 1rem;\n",
       "  width: 1rem;\n",
       "  text-decoration: none;\n",
       "  /* unfitted */\n",
       "  color: var(--sklearn-color-unfitted-level-1);\n",
       "  border: var(--sklearn-color-unfitted-level-1) 1pt solid;\n",
       "}\n",
       "\n",
       "#sk-container-id-8 a.estimator_doc_link.fitted {\n",
       "  /* fitted */\n",
       "  border: var(--sklearn-color-fitted-level-1) 1pt solid;\n",
       "  color: var(--sklearn-color-fitted-level-1);\n",
       "}\n",
       "\n",
       "/* On hover */\n",
       "#sk-container-id-8 a.estimator_doc_link:hover {\n",
       "  /* unfitted */\n",
       "  background-color: var(--sklearn-color-unfitted-level-3);\n",
       "  color: var(--sklearn-color-background);\n",
       "  text-decoration: none;\n",
       "}\n",
       "\n",
       "#sk-container-id-8 a.estimator_doc_link.fitted:hover {\n",
       "  /* fitted */\n",
       "  background-color: var(--sklearn-color-fitted-level-3);\n",
       "}\n",
       "</style><div id=\"sk-container-id-8\" class=\"sk-top-container\"><div class=\"sk-text-repr-fallback\"><pre>KMeans(max_iter=10000, n_clusters=6)</pre><b>In a Jupyter environment, please rerun this cell to show the HTML representation or trust the notebook. <br />On GitHub, the HTML representation is unable to render, please try loading this page with nbviewer.org.</b></div><div class=\"sk-container\" hidden><div class=\"sk-item\"><div class=\"sk-estimator fitted sk-toggleable\"><input class=\"sk-toggleable__control sk-hidden--visually\" id=\"sk-estimator-id-8\" type=\"checkbox\" checked><label for=\"sk-estimator-id-8\" class=\"sk-toggleable__label fitted sk-toggleable__label-arrow fitted\">&nbsp;&nbsp;KMeans<a class=\"sk-estimator-doc-link fitted\" rel=\"noreferrer\" target=\"_blank\" href=\"https://scikit-learn.org/1.5/modules/generated/sklearn.cluster.KMeans.html\">?<span>Documentation for KMeans</span></a><span class=\"sk-estimator-doc-link fitted\">i<span>Fitted</span></span></label><div class=\"sk-toggleable__content fitted\"><pre>KMeans(max_iter=10000, n_clusters=6)</pre></div> </div></div></div></div>"
      ],
      "text/plain": [
       "KMeans(max_iter=10000, n_clusters=6)"
      ]
     },
     "execution_count": 71,
     "metadata": {},
     "output_type": "execute_result"
    }
   ],
   "source": [
    "kmeans.fit(X_redux)"
   ]
  },
  {
   "cell_type": "code",
   "execution_count": 72,
   "metadata": {},
   "outputs": [
    {
     "data": {
      "application/vnd.plotly.v1+json": {
       "config": {
        "plotlyServerURL": "https://plot.ly"
       },
       "data": [
        {
         "marker": {
          "color": [
           5,
           5,
           5,
           0,
           5,
           5,
           5,
           5,
           5,
           5,
           5,
           3,
           4,
           3,
           4,
           4,
           3,
           4,
           0,
           5,
           0,
           0,
           5,
           0,
           5,
           0,
           5,
           0,
           5,
           2,
           2,
           5,
           5,
           0,
           0,
           5,
           0,
           5,
           5,
           5,
           5,
           5,
           0,
           0,
           0,
           5,
           0,
           5,
           0,
           0,
           0,
           0,
           0,
           0,
           5,
           0,
           5,
           0,
           0,
           0,
           5,
           3,
           3,
           5,
           4,
           3,
           3,
           3,
           4,
           4,
           3,
           4,
           3,
           3,
           3,
           3,
           3,
           3,
           3,
           4,
           5,
           5,
           5,
           5,
           5,
           0,
           5,
           5,
           5,
           5,
           5,
           5,
           5,
           0,
           5,
           5,
           5,
           5,
           5,
           5,
           0,
           5,
           5,
           5,
           5,
           5,
           5,
           5,
           5,
           5,
           0,
           0,
           0,
           0,
           2,
           2,
           2,
           2,
           2,
           2,
           2,
           2,
           2,
           0,
           2,
           0,
           5,
           5,
           5,
           5,
           5,
           2,
           2,
           0,
           5,
           1,
           5,
           0,
           2,
           2,
           1,
           1,
           1,
           1,
           1,
           0,
           0,
           0,
           2,
           2,
           2,
           1,
           2,
           2,
           2,
           2,
           2,
           2,
           2,
           1,
           1,
           2,
           0,
           0,
           1,
           1,
           2,
           2,
           2,
           2,
           2,
           2,
           2,
           1,
           1,
           1,
           1,
           1,
           1,
           1,
           1,
           1,
           2,
           2,
           2,
           1,
           1,
           1,
           2,
           2,
           2,
           1,
           1,
           1,
           0,
           0,
           0,
           2,
           0,
           0,
           0,
           0,
           0,
           0,
           0,
           0,
           0,
           0,
           0,
           0,
           2,
           1,
           1,
           2,
           2,
           2,
           2,
           2,
           2,
           2,
           2,
           2,
           2,
           2,
           2,
           2,
           2,
           1,
           1,
           1,
           2,
           2,
           2,
           2,
           1,
           0,
           0,
           0,
           0,
           0,
           0,
           2,
           2,
           2,
           1,
           1,
           1,
           1,
           1,
           1,
           1,
           1,
           1,
           1,
           1,
           1,
           1,
           1,
           1,
           1,
           1,
           1,
           1,
           1,
           1,
           1,
           1,
           1,
           1,
           1,
           1,
           1,
           1,
           1,
           1,
           1,
           1,
           1,
           1,
           1,
           1,
           1,
           1,
           1,
           1,
           1,
           1,
           1,
           1,
           1,
           1,
           1,
           1,
           1,
           1,
           1,
           2,
           2,
           2,
           2,
           2,
           2,
           2,
           2,
           1,
           1,
           1,
           1,
           1,
           1,
           1,
           1,
           1,
           1,
           1,
           2,
           2,
           2,
           2,
           2,
           2,
           2,
           2,
           1,
           1,
           1,
           1,
           1,
           1,
           1,
           1,
           1,
           1,
           1,
           1,
           2,
           1,
           1,
           2,
           2,
           2,
           2,
           2,
           2,
           2,
           2,
           2,
           1,
           1,
           1,
           1,
           1,
           1,
           1,
           1,
           1,
           1,
           1,
           1,
           1,
           1,
           1,
           1,
           1,
           1,
           1,
           1,
           1,
           1,
           1,
           1,
           1,
           1,
           1,
           1,
           1,
           1,
           1,
           1,
           1,
           1,
           1,
           1,
           1,
           1,
           1,
           1,
           1,
           1,
           1,
           1,
           1,
           1,
           1,
           1,
           1,
           1,
           1,
           1,
           2,
           2,
           1,
           2,
           2,
           2,
           1,
           1,
           1,
           1,
           1,
           1,
           1,
           1,
           1,
           1,
           1,
           1,
           1,
           1,
           1,
           1,
           3,
           1,
           3,
           4,
           3,
           4,
           3,
           3,
           3,
           3,
           3,
           4,
           4,
           3,
           3,
           3,
           4,
           4,
           4,
           4,
           4,
           3,
           4,
           3,
           3,
           3,
           3,
           3,
           1,
           1,
           1,
           1,
           1,
           1,
           1,
           0,
           0,
           0,
           0,
           5,
           5,
           0,
           5,
           0,
           0,
           2,
           2,
           2,
           2,
           2,
           2,
           2,
           5,
           1,
           1,
           2,
           2,
           2,
           2,
           2,
           2,
           2,
           1,
           1,
           1,
           1,
           1,
           1,
           1,
           1,
           1,
           1,
           1,
           1,
           5,
           1,
           1,
           1,
           1,
           1,
           1,
           1,
           1,
           1,
           1,
           1,
           1,
           1,
           1,
           1
          ]
         },
         "mode": "markers",
         "type": "scatter",
         "x": [
          -7.130782241831012,
          -17.618994623696832,
          7.619488470931947,
          38.695925515944715,
          -3.3306424225854365,
          2.3456889851629716,
          4.671137295592557,
          -14.722973859018472,
          -9.76419155113173,
          -25.53161838539046,
          -20.588014360751227,
          225.22895696175593,
          240.6888686228384,
          209.6211503004673,
          174.78124726212215,
          259.2590792591171,
          257.68425190951183,
          287.96021455600754,
          -66.92358059028778,
          -37.81943160903812,
          -57.43172613737935,
          -9.78463431267423,
          -44.1682513277817,
          14.077349133656059,
          -53.339009035179856,
          -15.915266827905025,
          -62.30637731471735,
          -30.50535825872825,
          -18.54584664491668,
          6.445772092098449,
          -53.75946489542477,
          -22.7904008603251,
          -49.035308377551836,
          5.213148338569214,
          -62.099483353814556,
          -54.74400040619853,
          -57.27035842581558,
          -47.092002854053554,
          -10.234223229666648,
          -35.958208182585835,
          -31.202756358443267,
          -38.82697732701665,
          6.305263264633868,
          -44.95517894583637,
          -53.655713898109724,
          -50.027291255541094,
          -32.41851856396531,
          -21.560923533475805,
          -31.02938883112183,
          6.661972355868175,
          1.9840277590538797,
          -11.5768669742842,
          -40.75020358223283,
          -8.410291122211175,
          -58.03601098673639,
          14.378151728482798,
          -31.80355825688188,
          -8.93531458606446,
          -53.03874341192662,
          -29.60230841941244,
          -43.63663670130309,
          228.46373610537842,
          204.8729207881843,
          -21.76060365707408,
          293.6641221889422,
          268.2164944391757,
          320.5920550507264,
          247.52121186644408,
          262.93261205034355,
          230.84766607337065,
          269.3930175160375,
          311.70752288290424,
          333.4041845976005,
          290.4470208287897,
          192.89839880206782,
          331.01612763385117,
          297.2155838436952,
          245.73381225774855,
          284.68930725658623,
          178.08492712715952,
          -36.987301537094034,
          10.677495512591552,
          -14.484351123095694,
          -19.6421070814287,
          -15.148926455631944,
          -14.731838579010532,
          -39.758625900042226,
          -24.938181170376406,
          -41.754295903464325,
          -9.447165095674059,
          4.4203585011299555,
          -25.30042917833796,
          -15.176044780595815,
          24.289427584484173,
          -48.94832888839719,
          -4.3053842190412785,
          11.91663434350973,
          7.973721153580858,
          -31.491783110363098,
          -13.009209222413913,
          11.6067694785812,
          -34.97219579052406,
          12.15628583312578,
          -33.28489197450034,
          -24.6478439316947,
          -10.410410331350914,
          -33.75816671652662,
          24.209706908216997,
          -5.330907422522802,
          -47.15065334583645,
          -55.98355588570763,
          2.913683512495083,
          21.69642925666515,
          7.4375089276728765,
          -13.52661770153293,
          -51.9565932493628,
          21.251206997915556,
          5.054667012807029,
          43.87296776677712,
          55.77211817313533,
          -4.811950198182334,
          -2.882599753569088,
          -10.591704577633381,
          23.489727764583755,
          -12.815568050016015,
          2.845780824497843,
          -9.171403103579097,
          -18.510934982658696,
          -18.458603895767574,
          -8.123380767863287,
          -29.49659519621437,
          37.01799418208862,
          -13.104580859519068,
          63.311238569150234,
          -17.471544875799324,
          -17.330228219411488,
          -9.941965351157238,
          21.184164940649314,
          -7.0058384289093665,
          -6.092041729682522,
          -8.3145982139958,
          -37.0379796114671,
          -47.10068656484979,
          -69.15105319462977,
          -65.53796360856236,
          -6.948223520888371,
          -12.4257491810524,
          -7.216774446141069,
          3.0634530757691425,
          9.381409764888955,
          3.6242878427190757,
          -25.171177851610345,
          -50.06412921712418,
          -43.17531775468205,
          -50.03921811593012,
          -30.183914242789974,
          -35.39784792886287,
          -29.642732946384307,
          -22.03899473801513,
          -55.168425224711925,
          -42.82280535799677,
          -6.873678138396532,
          18.677465836065934,
          12.065424445469963,
          -73.1049492437354,
          -56.718381865769096,
          0.6375670109865321,
          -18.795154320322748,
          -16.996485409312037,
          -8.91907807888116,
          -14.60231845988096,
          -9.868402133852415,
          -46.14534646480002,
          -40.534158137469305,
          -53.264804888705,
          -57.922448958464926,
          -78.6827953242343,
          -69.37615946109356,
          -35.5011285759077,
          -43.579080452002444,
          -80.37874258963944,
          -85.15100261379742,
          -42.31653077817848,
          -10.208414216207004,
          -15.688591220671356,
          -85.43816342254397,
          -62.028008448242474,
          -45.387043330247614,
          -0.5670932084974777,
          -14.440090520087955,
          -7.901402852095662,
          -73.89399051443844,
          -15.030496894572654,
          -22.524725793081377,
          -40.18922589534594,
          -25.836160066298515,
          -34.982788058412076,
          -25.390599613664758,
          -14.127268587008158,
          -4.7223755071524876,
          -29.333912639706433,
          -33.02724833822101,
          -25.774465165653446,
          -41.286614679659856,
          -25.08749726597394,
          -20.03890789050576,
          -20.763681976929465,
          -43.611316932438235,
          -27.952849026150652,
          -48.427572904930464,
          -55.12412411857305,
          -39.29114032640297,
          -49.965862416175916,
          -47.274572946395764,
          22.93920745243609,
          -55.57905248023323,
          -38.00878448447988,
          -42.97958473010767,
          -32.79510400626626,
          -50.755743189093444,
          -45.49978457339042,
          -43.81768972872757,
          -43.15833389792948,
          -35.08214548173194,
          -48.303992771422905,
          -34.062780322755614,
          -33.039055951303446,
          -69.03078360886052,
          -67.64229190938305,
          -50.75895566190982,
          -43.32754652133726,
          -14.469864653104198,
          2.7159200611944994,
          -15.80986652653724,
          -42.981420450708306,
          -9.148276926625572,
          -19.672176920635238,
          -10.640688158137285,
          -54.35950760905059,
          -34.50765160706484,
          -36.28708666156025,
          -32.42541188687683,
          -27.034020084065524,
          -33.934324092710526,
          -35.485132358296255,
          -92.13018646582644,
          -49.22558706857575,
          -67.06416575210046,
          -90.73239928207737,
          -38.79800782903551,
          -62.693297890825136,
          -72.25914522716738,
          -56.4072565829339,
          -53.283735608903676,
          -64.74993830256419,
          -41.55634777848066,
          -70.89342164489562,
          -37.439324265331,
          -30.99709636224684,
          -24.12390214406681,
          -58.12591705216979,
          -18.931884017647544,
          -56.30139604700302,
          -19.467218895298366,
          -20.442861441314605,
          -43.13218498626306,
          -55.13831623378791,
          -53.25420484545357,
          -29.013455220139598,
          -30.43375282289852,
          -54.8099735119852,
          -55.77758757212888,
          -29.7464099460878,
          -42.671129887225376,
          -14.56099430248377,
          -79.05088972320951,
          -76.28829077189503,
          -20.969644239504536,
          -38.5656029601964,
          -81.16223401043213,
          -66.79279225026897,
          -33.41520915714062,
          -79.23195431874146,
          -56.30766123257408,
          -47.2656192651787,
          -37.40269897397055,
          -84.3655795755843,
          -54.56750444834403,
          -44.748597612254784,
          -64.17457759008019,
          -50.871689737736496,
          -61.56979511514469,
          -74.00354534563513,
          -62.7973599846292,
          -43.15885741041483,
          -60.07522765162559,
          31.501131602275308,
          36.22147305541129,
          1.8540951620752966,
          -10.56483981054794,
          -51.66943553354336,
          -35.41584744707176,
          -17.559888999631134,
          -17.445976401884,
          -66.79934099572269,
          -25.451597505982264,
          -77.29819955624762,
          -38.78327082135396,
          -15.447189038600296,
          -0.6148443503515305,
          -55.84423004799894,
          -88.4228388613148,
          -15.36266033825726,
          -44.512303861458854,
          -39.188054830981486,
          -4.718976340243373,
          1.2125418170275286,
          -38.25183358699852,
          -68.45860042262161,
          22.316409849909867,
          -48.57278912477855,
          -51.327089697749834,
          14.1580105389029,
          -61.76622269700093,
          -24.37473898975377,
          -24.28532338839807,
          -52.168772648457676,
          -78.08927992967713,
          -68.87274371160672,
          -49.29263067870872,
          -9.633069930558735,
          -13.84283003317729,
          -95.32594947197019,
          -59.869261538135646,
          -40.69792302520919,
          -43.12589624968022,
          -28.86641550583344,
          23.465344197786465,
          -20.25647592262629,
          32.45776559360762,
          20.91434302772421,
          39.623254593956446,
          13.490280340025926,
          -9.963572553859553,
          25.53421684767777,
          -23.365363046356446,
          5.204552376244083,
          -58.86053513045026,
          -12.233152610605256,
          -64.38265020223234,
          -76.45117546541421,
          -82.92668235921379,
          -40.65845073851771,
          -69.18532826301929,
          -50.55840674386011,
          -82.62452552717322,
          -72.64993808968131,
          -27.196690099343474,
          -42.13356884524203,
          -23.604072889487835,
          -62.83439673465969,
          -70.06297658986603,
          -73.70666376294024,
          -55.1618394103495,
          -58.40738931330386,
          -54.62829963623775,
          -71.80473109316614,
          -22.209035569968083,
          -14.622133856187421,
          -16.066835848940627,
          -63.726644632537564,
          -35.383578937536804,
          -10.358854438709448,
          -42.94886692359923,
          -70.08250226016948,
          -39.291727076287366,
          -69.63610958715044,
          -72.07523687862523,
          -15.90824872607621,
          -63.49366426035988,
          -22.482992986705764,
          -80.19965186568047,
          -29.02907267636581,
          -44.7482067200502,
          -80.96771098552023,
          -44.91667237466466,
          -71.04229361545137,
          -67.33702903305036,
          -56.92973680380395,
          -67.23743921470417,
          -69.69477111769733,
          -54.08704342901531,
          -47.00188211111744,
          -82.85295895401234,
          -57.02349404427428,
          -73.41237878371977,
          -80.49370094754934,
          -88.56723411372633,
          -62.01717236046517,
          -21.908872852066064,
          -17.32977121448588,
          -89.87984198713968,
          -4.818596203859325,
          -25.297734759494624,
          16.419835737357555,
          -43.507141436251295,
          -67.64660025163141,
          -8.577463613511467,
          -71.33804210051571,
          -3.902965315043853,
          -20.150745401077977,
          -20.770113608915057,
          -42.79695635998162,
          -11.887525313194594,
          -44.354343941338804,
          -47.75502530217357,
          -39.691197997444675,
          -6.39880175350087,
          -17.19210381265959,
          -9.683516425273567,
          -25.0845638785722,
          245.90342763407384,
          -79.45357726428219,
          272.69583961991043,
          309.2185990272922,
          286.169826281515,
          208.79768701357494,
          287.7206933492636,
          280.60000038094466,
          239.61913888058353,
          294.65482439892367,
          308.11247923947616,
          257.5228883987034,
          312.20506881925303,
          297.3158053699877,
          279.46371078005245,
          304.96589787420277,
          277.91480789787977,
          313.0436705255897,
          289.02207258903314,
          280.89297987135774,
          267.6418453102256,
          301.81836965717133,
          281.1748294228742,
          262.5449771650216,
          279.77626404332017,
          290.36867399946533,
          307.41127559612,
          310.8635023295993,
          -2.500477130849793,
          -20.573468468227507,
          5.479904339241849,
          -4.951135527629515,
          -10.2823947507296,
          -50.442639877019495,
          -32.27723969742256,
          -6.827702280674135,
          -51.026447686973775,
          -18.24954326056805,
          7.064692073183015,
          -28.583607824880076,
          -33.38865465389697,
          -39.7492571960105,
          -20.020434801030195,
          -42.50549941120193,
          -13.355707855989674,
          -60.66853088074006,
          -16.7884198785251,
          -5.086122247359927,
          -27.786935663988622,
          11.613684985635306,
          -34.29589004657288,
          -0.03704452176302755,
          -21.55582761457719,
          -14.857928993638486,
          -41.932808629263526,
          -37.167179007796534,
          3.5309508980806847,
          -1.047642238784846,
          -5.301189914944112,
          55.75349316801603,
          17.393757476472086,
          -9.064385220928115,
          -33.29238214181345,
          -39.22326790631164,
          -65.63789354581985,
          -39.18315090231677,
          -36.728061466689425,
          -31.730257780293154,
          -53.49711628766054,
          -58.14099864422849,
          -65.23271459802352,
          -43.64900702276701,
          -42.87422472845936,
          -33.02640648266061,
          -2.245129054814691,
          -24.234586538063834,
          -10.56199911456758,
          -24.633139407151713,
          3.3105523181759082,
          -11.506857540543397,
          -31.265960319292905,
          -26.42598128478076,
          -12.039904642879154,
          38.0690648906427,
          18.214351918295776,
          -6.643886145313409,
          -23.403882705042896,
          -27.72308278661638,
          -26.503516362113373,
          -28.572130030912067
         ],
         "y": [
          117.05783610935032,
          114.43922319278592,
          103.68071826868672,
          77.20068034053904,
          119.52133320820822,
          114.6595806085741,
          114.92649877236218,
          117.43805379598588,
          119.8660974771981,
          118.22369366185451,
          121.54744411740732,
          12.658540371789915,
          -0.19362678343921488,
          13.330558844175863,
          24.16218573568788,
          -5.880007808579185,
          -4.51719204811371,
          -11.115969600632415,
          112.85978036693834,
          127.08600782210169,
          116.16907978491321,
          93.35612751456091,
          125.2514477000173,
          77.54201648506137,
          128.1399623846323,
          93.54195581049997,
          127.72259751931834,
          104.2080980635757,
          119.05427114194994,
          -40.88935898598731,
          -47.02037690464875,
          117.57920579409313,
          121.52159893698189,
          87.46482265942264,
          109.52374548516786,
          128.2284687316849,
          106.77066292658363,
          125.87406319857978,
          115.45883043715965,
          118.52155023323553,
          121.73797255226711,
          130.94590113884692,
          92.79562481583028,
          105.2757827343938,
          109.81073022596772,
          126.75400009905088,
          105.16550573999001,
          110.6885730011588,
          109.17833267537421,
          93.42993388746524,
          89.82415572781143,
          93.23274248756826,
          95.57949703324776,
          94.54992242350745,
          127.66650937583157,
          90.92340601376516,
          118.39700999845027,
          91.36629725131148,
          105.15393121880074,
          105.74569761484865,
          122.60287116819941,
          5.1940509822882674,
          4.131166574047955,
          115.52320937871507,
          -11.630075990774303,
          0.7866790140118207,
          -20.250294481076462,
          2.6950917651004582,
          -2.5419669434068313,
          13.781739274489544,
          2.9022235547455963,
          -19.281256673800083,
          -28.823811083877917,
          -9.694931087026024,
          31.123557719521116,
          -17.614836090545456,
          -13.863947167489352,
          9.167103606789098,
          -5.879567066928595,
          34.8961655511699,
          120.76745434546145,
          113.24246351353558,
          118.38432382535703,
          125.75464558761172,
          117.90688577415418,
          110.78729660429067,
          120.92762541866237,
          119.24295942827608,
          132.8178163067722,
          117.0548294561858,
          110.27864198320715,
          120.82523225465452,
          121.16826875410783,
          91.6065340505388,
          133.11593299331489,
          110.51401267467214,
          112.37622527056261,
          114.01649640815323,
          124.68690948070818,
          125.12221934420852,
          93.32888503588357,
          126.44822271734566,
          116.98249996656637,
          126.9111122207521,
          120.99463135979938,
          117.98288189324194,
          127.37199504179556,
          108.8992618038384,
          120.00899339896283,
          128.5907241697214,
          100.38459818830522,
          86.30496395827572,
          74.40242058073707,
          82.86670891518122,
          -62.197849137405626,
          -40.928699575364405,
          -70.08530510583385,
          -63.934594274778334,
          -77.73317414138614,
          -77.07248736357131,
          -43.18089281826782,
          -56.94642825291107,
          -43.154671660387,
          79.7024943176111,
          -48.51285970348924,
          89.43918122576494,
          119.11465281315098,
          127.20176150160313,
          127.14483778906066,
          118.99932195206163,
          123.49160409736326,
          -69.4409368190118,
          -38.850336296871525,
          61.956984984844205,
          117.90977618292025,
          -39.88905195899233,
          104.25100542357455,
          77.1675424383864,
          -66.17493477405381,
          -71.42208346942448,
          -47.358588067206924,
          -44.71192655038855,
          -33.295784366903746,
          -37.99028180746644,
          -30.276373016975082,
          84.7147374971191,
          82.77050122902786,
          92.98859604810664,
          -68.52943514365042,
          -71.45642963133525,
          -79.14731589768127,
          -39.1073086703091,
          -54.13273401952032,
          -49.381631722248706,
          -53.170537822814374,
          -67.17549209413957,
          -64.65416547178081,
          -65.30150981971312,
          -56.56012765583449,
          -38.02156770247959,
          -49.94715493724316,
          -71.38736910159189,
          76.42603352187687,
          80.96059618691848,
          -37.6723489477195,
          -33.77538591828092,
          -76.884535716762,
          -70.8495721209117,
          -74.74630483744765,
          -75.18344660017661,
          -65.19147404881507,
          -65.71021779638549,
          -54.246296944328456,
          -46.37607285120531,
          -40.2600077009557,
          -28.526731303658053,
          -22.417254623601764,
          -29.947067509839634,
          -47.751534802919025,
          -43.97592622461383,
          -34.26522278702353,
          -43.605845724682084,
          -50.009070258924424,
          -74.08706168439123,
          -73.44875089639712,
          -33.17025879757573,
          -32.87453171029813,
          -43.19750230906777,
          -60.334005320744986,
          -69.86621895808602,
          -76.70213269256651,
          -35.76139558758161,
          -43.39062370515789,
          -38.376810399810395,
          96.65640839771751,
          92.46929325748516,
          99.51158906849899,
          -58.26571664313243,
          102.92540958842783,
          88.88942596190898,
          101.33649904439874,
          102.63366037831933,
          101.07680202284826,
          90.78325577937157,
          96.54866249644148,
          92.81191143650116,
          100.83611548920355,
          104.66599608257526,
          99.60036726871014,
          87.93775154936475,
          -41.95406654522095,
          -35.98044790158436,
          -37.643703907884515,
          -47.842070272571746,
          -73.0458765544896,
          -52.619077546701384,
          -53.63450328220922,
          -66.18966884155982,
          -62.206156753807356,
          -54.780804937023746,
          -46.54522473045711,
          -50.413336063654974,
          -48.54670658252721,
          -57.1631329146072,
          -45.31757475456852,
          -53.72654074777144,
          -60.44915211874436,
          -34.29173181505802,
          -33.21279394545446,
          -51.720509410227706,
          -62.76062317061716,
          -64.48288881623309,
          -71.176733012536,
          -69.28802686820926,
          -31.412791801665133,
          78.81721001565104,
          101.10843771780887,
          85.38156401168767,
          104.35666170180393,
          109.71919416812601,
          97.77255917053198,
          -43.385218649762265,
          -66.4002915141428,
          -58.439904494788934,
          -44.33326911223873,
          -28.532017606459604,
          -36.72164752891073,
          -46.44524792465673,
          -7.368758431137165,
          -27.913460174327373,
          -25.346338863672397,
          -26.932545457579863,
          -30.571037863676906,
          -24.52148423377251,
          -37.862392536380334,
          -29.46842685351768,
          -37.951351993305366,
          -41.58669019260964,
          -44.27758570847085,
          -41.86914116437075,
          -30.64326208856804,
          -44.57142367030369,
          -33.88469822216932,
          -43.51359942163553,
          -50.474632735227964,
          -45.08108895277819,
          -51.76725116863368,
          -45.68455277988295,
          -45.07266276311819,
          -42.7416998480392,
          -33.81220060447779,
          -33.663787709283156,
          -48.50109455498444,
          -43.52286727888543,
          -47.495626975013245,
          -29.543790675920338,
          -42.15331779776017,
          -50.72420540782583,
          -33.60497456561835,
          -27.38568618589376,
          -36.85071004649669,
          -40.964562665299425,
          -34.93606501016617,
          -47.462211654505715,
          -50.696861192711076,
          -37.22426128918909,
          -41.01942384865829,
          -42.30221850241612,
          -38.125557281162806,
          -34.217574240312985,
          -37.83771239992212,
          -29.573631275951755,
          -34.23095673807323,
          -36.201672114838054,
          -40.00177789876383,
          -37.44309237918453,
          -80.85985512307833,
          -62.011888206912126,
          -46.029742268792766,
          -64.52162257469062,
          -56.428956239328365,
          -56.20873246936791,
          -57.85320778804034,
          -69.51826527092298,
          -38.34345872044433,
          -58.12244037249217,
          -38.84310687149269,
          -48.30134390151305,
          -51.21578324864988,
          -48.78082255875799,
          -38.83646110916928,
          -28.58091304088286,
          -55.541303038641225,
          -47.85354158866599,
          -45.90868578562894,
          -57.22979263525753,
          -69.38325588111377,
          -53.481002713213755,
          -50.05483798734596,
          -63.714814550311395,
          -44.310218089170064,
          -50.30890436514227,
          -78.61521559247262,
          -27.489713003617368,
          -50.654071027173146,
          -42.31975957244105,
          -39.5184601887076,
          -20.112330691882452,
          -24.500233372161947,
          -53.06879534824154,
          -53.66430344631387,
          -40.095526627684386,
          -19.196801211747523,
          -27.38440935371556,
          -32.00177585362831,
          -40.85780154749909,
          -36.03654254035886,
          -41.223974272945895,
          -66.36325804106019,
          -79.11097959307604,
          -85.07002076010265,
          -82.02799553873463,
          -70.31149210154689,
          -55.479756483922195,
          -73.90303989278536,
          -45.371965979301585,
          -71.75911970986022,
          -51.11550267383313,
          -52.42001912513623,
          -36.700890262023684,
          -27.102393872532677,
          -26.3152242271728,
          -45.07050154137971,
          -22.99834673554374,
          -37.63387324250966,
          -30.24180341668174,
          -31.129073895071276,
          -40.8230549522502,
          -27.36741393809661,
          -38.761007478195395,
          -26.688246330377705,
          -27.741388288718124,
          -27.071376695137545,
          -34.06928522847052,
          -40.95996379119497,
          -36.025124908272154,
          -39.593609552223626,
          -29.914346481088828,
          -36.97249184978189,
          -34.81322944465384,
          -19.171152919958494,
          -31.314929524923397,
          -40.86133062796108,
          -28.734891955486788,
          -21.348913544276545,
          -29.190603503310236,
          -21.88727640806566,
          -21.720269158456407,
          -35.4048486345853,
          -39.69468255848345,
          -32.875368532719015,
          -22.796500759451465,
          -48.49200257749606,
          -52.77055480290951,
          -20.534320890744958,
          -25.114199009706255,
          -17.31483017099013,
          -14.126983736618252,
          -31.680077223593077,
          -13.941985029786045,
          -35.14428457681279,
          -23.665486769068977,
          -30.051660948684166,
          -19.108187680731298,
          -30.11924296285755,
          -20.18136969877253,
          -27.80854847176152,
          -16.150429940521192,
          -22.467404655752002,
          -27.884327555991195,
          -55.37000909951679,
          -18.346548032490812,
          -58.25032615510303,
          -56.44212872998319,
          -76.54411892039799,
          -24.32388474315489,
          -29.82365735149251,
          -34.729812071585854,
          -30.608550521677273,
          -34.84207794305047,
          -55.53259391521254,
          -46.735164599749076,
          -36.02718371706096,
          -37.47214288101632,
          -42.34055500071246,
          -36.892961566280576,
          -33.65660686196594,
          -32.396629902139786,
          -58.838300294105565,
          -44.73152740808493,
          -55.53646056949604,
          -13.520919781427315,
          -14.481831772401552,
          -5.186016066344124,
          -14.985942407527773,
          -7.244735836906307,
          23.145338519543856,
          -12.015725080252011,
          -10.251199218189655,
          7.335739924689877,
          -12.001762448408781,
          -14.700938832348301,
          -2.690307161068047,
          -20.027526605873305,
          -18.111286834110462,
          -4.602444578281671,
          -15.046124738164872,
          -6.950150818672148,
          -23.57264675939408,
          -6.197036284606317,
          -9.79232756968796,
          -3.0384921142749923,
          -12.253458995604129,
          -3.5733942279847097,
          -2.9041032559423665,
          -6.920238684840612,
          -10.685818036194869,
          -18.871222101485802,
          -22.36013070007702,
          -48.03628483641933,
          -35.587172553041526,
          -24.33095804860878,
          -38.52222181964269,
          -43.86316208760198,
          -29.82331032849079,
          -33.558330319144495,
          88.63506390835619,
          110.4184507401886,
          95.89139853774134,
          90.58518271989017,
          115.46838509059356,
          126.20987451661829,
          108.27325329922478,
          120.52583141217708,
          98.4197440694351,
          84.31322957868676,
          -40.83775717820773,
          -51.97555879473559,
          -48.74009516216195,
          -43.29481713989494,
          -73.41533390504564,
          -59.59941889107127,
          -58.68976577509731,
          117.90168472664756,
          -47.61532709780314,
          -43.05225782801864,
          -29.639434629726438,
          -48.55043789237171,
          -59.76589838391759,
          -49.68744840947176,
          -83.61091185861532,
          -72.54284438246609,
          -49.20316575731623,
          -37.58073688360338,
          -30.782463455959604,
          -44.725002151258934,
          -39.18149655957398,
          -50.39855109429561,
          -38.834779076151136,
          -26.98045910971607,
          -28.311157693019968,
          -39.12141042250243,
          -33.38132858567206,
          -41.75977227495035,
          -35.69158987019459,
          118.03274943864237,
          -45.08413437485756,
          -44.54832075090149,
          -44.01983979788078,
          -48.214226389841116,
          -39.74008975140479,
          -40.00386513414227,
          -32.54355042635059,
          -38.633549637579605,
          -57.53523782423255,
          -52.25032832103273,
          -37.204049854930744,
          -33.072347431672036,
          -34.91480983088726,
          -37.14483415975551,
          -43.97087855003198
         ]
        }
       ],
       "layout": {
        "template": {
         "data": {
          "bar": [
           {
            "error_x": {
             "color": "#2a3f5f"
            },
            "error_y": {
             "color": "#2a3f5f"
            },
            "marker": {
             "line": {
              "color": "#E5ECF6",
              "width": 0.5
             },
             "pattern": {
              "fillmode": "overlay",
              "size": 10,
              "solidity": 0.2
             }
            },
            "type": "bar"
           }
          ],
          "barpolar": [
           {
            "marker": {
             "line": {
              "color": "#E5ECF6",
              "width": 0.5
             },
             "pattern": {
              "fillmode": "overlay",
              "size": 10,
              "solidity": 0.2
             }
            },
            "type": "barpolar"
           }
          ],
          "carpet": [
           {
            "aaxis": {
             "endlinecolor": "#2a3f5f",
             "gridcolor": "white",
             "linecolor": "white",
             "minorgridcolor": "white",
             "startlinecolor": "#2a3f5f"
            },
            "baxis": {
             "endlinecolor": "#2a3f5f",
             "gridcolor": "white",
             "linecolor": "white",
             "minorgridcolor": "white",
             "startlinecolor": "#2a3f5f"
            },
            "type": "carpet"
           }
          ],
          "choropleth": [
           {
            "colorbar": {
             "outlinewidth": 0,
             "ticks": ""
            },
            "type": "choropleth"
           }
          ],
          "contour": [
           {
            "colorbar": {
             "outlinewidth": 0,
             "ticks": ""
            },
            "colorscale": [
             [
              0,
              "#0d0887"
             ],
             [
              0.1111111111111111,
              "#46039f"
             ],
             [
              0.2222222222222222,
              "#7201a8"
             ],
             [
              0.3333333333333333,
              "#9c179e"
             ],
             [
              0.4444444444444444,
              "#bd3786"
             ],
             [
              0.5555555555555556,
              "#d8576b"
             ],
             [
              0.6666666666666666,
              "#ed7953"
             ],
             [
              0.7777777777777778,
              "#fb9f3a"
             ],
             [
              0.8888888888888888,
              "#fdca26"
             ],
             [
              1,
              "#f0f921"
             ]
            ],
            "type": "contour"
           }
          ],
          "contourcarpet": [
           {
            "colorbar": {
             "outlinewidth": 0,
             "ticks": ""
            },
            "type": "contourcarpet"
           }
          ],
          "heatmap": [
           {
            "colorbar": {
             "outlinewidth": 0,
             "ticks": ""
            },
            "colorscale": [
             [
              0,
              "#0d0887"
             ],
             [
              0.1111111111111111,
              "#46039f"
             ],
             [
              0.2222222222222222,
              "#7201a8"
             ],
             [
              0.3333333333333333,
              "#9c179e"
             ],
             [
              0.4444444444444444,
              "#bd3786"
             ],
             [
              0.5555555555555556,
              "#d8576b"
             ],
             [
              0.6666666666666666,
              "#ed7953"
             ],
             [
              0.7777777777777778,
              "#fb9f3a"
             ],
             [
              0.8888888888888888,
              "#fdca26"
             ],
             [
              1,
              "#f0f921"
             ]
            ],
            "type": "heatmap"
           }
          ],
          "heatmapgl": [
           {
            "colorbar": {
             "outlinewidth": 0,
             "ticks": ""
            },
            "colorscale": [
             [
              0,
              "#0d0887"
             ],
             [
              0.1111111111111111,
              "#46039f"
             ],
             [
              0.2222222222222222,
              "#7201a8"
             ],
             [
              0.3333333333333333,
              "#9c179e"
             ],
             [
              0.4444444444444444,
              "#bd3786"
             ],
             [
              0.5555555555555556,
              "#d8576b"
             ],
             [
              0.6666666666666666,
              "#ed7953"
             ],
             [
              0.7777777777777778,
              "#fb9f3a"
             ],
             [
              0.8888888888888888,
              "#fdca26"
             ],
             [
              1,
              "#f0f921"
             ]
            ],
            "type": "heatmapgl"
           }
          ],
          "histogram": [
           {
            "marker": {
             "pattern": {
              "fillmode": "overlay",
              "size": 10,
              "solidity": 0.2
             }
            },
            "type": "histogram"
           }
          ],
          "histogram2d": [
           {
            "colorbar": {
             "outlinewidth": 0,
             "ticks": ""
            },
            "colorscale": [
             [
              0,
              "#0d0887"
             ],
             [
              0.1111111111111111,
              "#46039f"
             ],
             [
              0.2222222222222222,
              "#7201a8"
             ],
             [
              0.3333333333333333,
              "#9c179e"
             ],
             [
              0.4444444444444444,
              "#bd3786"
             ],
             [
              0.5555555555555556,
              "#d8576b"
             ],
             [
              0.6666666666666666,
              "#ed7953"
             ],
             [
              0.7777777777777778,
              "#fb9f3a"
             ],
             [
              0.8888888888888888,
              "#fdca26"
             ],
             [
              1,
              "#f0f921"
             ]
            ],
            "type": "histogram2d"
           }
          ],
          "histogram2dcontour": [
           {
            "colorbar": {
             "outlinewidth": 0,
             "ticks": ""
            },
            "colorscale": [
             [
              0,
              "#0d0887"
             ],
             [
              0.1111111111111111,
              "#46039f"
             ],
             [
              0.2222222222222222,
              "#7201a8"
             ],
             [
              0.3333333333333333,
              "#9c179e"
             ],
             [
              0.4444444444444444,
              "#bd3786"
             ],
             [
              0.5555555555555556,
              "#d8576b"
             ],
             [
              0.6666666666666666,
              "#ed7953"
             ],
             [
              0.7777777777777778,
              "#fb9f3a"
             ],
             [
              0.8888888888888888,
              "#fdca26"
             ],
             [
              1,
              "#f0f921"
             ]
            ],
            "type": "histogram2dcontour"
           }
          ],
          "mesh3d": [
           {
            "colorbar": {
             "outlinewidth": 0,
             "ticks": ""
            },
            "type": "mesh3d"
           }
          ],
          "parcoords": [
           {
            "line": {
             "colorbar": {
              "outlinewidth": 0,
              "ticks": ""
             }
            },
            "type": "parcoords"
           }
          ],
          "pie": [
           {
            "automargin": true,
            "type": "pie"
           }
          ],
          "scatter": [
           {
            "fillpattern": {
             "fillmode": "overlay",
             "size": 10,
             "solidity": 0.2
            },
            "type": "scatter"
           }
          ],
          "scatter3d": [
           {
            "line": {
             "colorbar": {
              "outlinewidth": 0,
              "ticks": ""
             }
            },
            "marker": {
             "colorbar": {
              "outlinewidth": 0,
              "ticks": ""
             }
            },
            "type": "scatter3d"
           }
          ],
          "scattercarpet": [
           {
            "marker": {
             "colorbar": {
              "outlinewidth": 0,
              "ticks": ""
             }
            },
            "type": "scattercarpet"
           }
          ],
          "scattergeo": [
           {
            "marker": {
             "colorbar": {
              "outlinewidth": 0,
              "ticks": ""
             }
            },
            "type": "scattergeo"
           }
          ],
          "scattergl": [
           {
            "marker": {
             "colorbar": {
              "outlinewidth": 0,
              "ticks": ""
             }
            },
            "type": "scattergl"
           }
          ],
          "scattermapbox": [
           {
            "marker": {
             "colorbar": {
              "outlinewidth": 0,
              "ticks": ""
             }
            },
            "type": "scattermapbox"
           }
          ],
          "scatterpolar": [
           {
            "marker": {
             "colorbar": {
              "outlinewidth": 0,
              "ticks": ""
             }
            },
            "type": "scatterpolar"
           }
          ],
          "scatterpolargl": [
           {
            "marker": {
             "colorbar": {
              "outlinewidth": 0,
              "ticks": ""
             }
            },
            "type": "scatterpolargl"
           }
          ],
          "scatterternary": [
           {
            "marker": {
             "colorbar": {
              "outlinewidth": 0,
              "ticks": ""
             }
            },
            "type": "scatterternary"
           }
          ],
          "surface": [
           {
            "colorbar": {
             "outlinewidth": 0,
             "ticks": ""
            },
            "colorscale": [
             [
              0,
              "#0d0887"
             ],
             [
              0.1111111111111111,
              "#46039f"
             ],
             [
              0.2222222222222222,
              "#7201a8"
             ],
             [
              0.3333333333333333,
              "#9c179e"
             ],
             [
              0.4444444444444444,
              "#bd3786"
             ],
             [
              0.5555555555555556,
              "#d8576b"
             ],
             [
              0.6666666666666666,
              "#ed7953"
             ],
             [
              0.7777777777777778,
              "#fb9f3a"
             ],
             [
              0.8888888888888888,
              "#fdca26"
             ],
             [
              1,
              "#f0f921"
             ]
            ],
            "type": "surface"
           }
          ],
          "table": [
           {
            "cells": {
             "fill": {
              "color": "#EBF0F8"
             },
             "line": {
              "color": "white"
             }
            },
            "header": {
             "fill": {
              "color": "#C8D4E3"
             },
             "line": {
              "color": "white"
             }
            },
            "type": "table"
           }
          ]
         },
         "layout": {
          "annotationdefaults": {
           "arrowcolor": "#2a3f5f",
           "arrowhead": 0,
           "arrowwidth": 1
          },
          "autotypenumbers": "strict",
          "coloraxis": {
           "colorbar": {
            "outlinewidth": 0,
            "ticks": ""
           }
          },
          "colorscale": {
           "diverging": [
            [
             0,
             "#8e0152"
            ],
            [
             0.1,
             "#c51b7d"
            ],
            [
             0.2,
             "#de77ae"
            ],
            [
             0.3,
             "#f1b6da"
            ],
            [
             0.4,
             "#fde0ef"
            ],
            [
             0.5,
             "#f7f7f7"
            ],
            [
             0.6,
             "#e6f5d0"
            ],
            [
             0.7,
             "#b8e186"
            ],
            [
             0.8,
             "#7fbc41"
            ],
            [
             0.9,
             "#4d9221"
            ],
            [
             1,
             "#276419"
            ]
           ],
           "sequential": [
            [
             0,
             "#0d0887"
            ],
            [
             0.1111111111111111,
             "#46039f"
            ],
            [
             0.2222222222222222,
             "#7201a8"
            ],
            [
             0.3333333333333333,
             "#9c179e"
            ],
            [
             0.4444444444444444,
             "#bd3786"
            ],
            [
             0.5555555555555556,
             "#d8576b"
            ],
            [
             0.6666666666666666,
             "#ed7953"
            ],
            [
             0.7777777777777778,
             "#fb9f3a"
            ],
            [
             0.8888888888888888,
             "#fdca26"
            ],
            [
             1,
             "#f0f921"
            ]
           ],
           "sequentialminus": [
            [
             0,
             "#0d0887"
            ],
            [
             0.1111111111111111,
             "#46039f"
            ],
            [
             0.2222222222222222,
             "#7201a8"
            ],
            [
             0.3333333333333333,
             "#9c179e"
            ],
            [
             0.4444444444444444,
             "#bd3786"
            ],
            [
             0.5555555555555556,
             "#d8576b"
            ],
            [
             0.6666666666666666,
             "#ed7953"
            ],
            [
             0.7777777777777778,
             "#fb9f3a"
            ],
            [
             0.8888888888888888,
             "#fdca26"
            ],
            [
             1,
             "#f0f921"
            ]
           ]
          },
          "colorway": [
           "#636efa",
           "#EF553B",
           "#00cc96",
           "#ab63fa",
           "#FFA15A",
           "#19d3f3",
           "#FF6692",
           "#B6E880",
           "#FF97FF",
           "#FECB52"
          ],
          "font": {
           "color": "#2a3f5f"
          },
          "geo": {
           "bgcolor": "white",
           "lakecolor": "white",
           "landcolor": "#E5ECF6",
           "showlakes": true,
           "showland": true,
           "subunitcolor": "white"
          },
          "hoverlabel": {
           "align": "left"
          },
          "hovermode": "closest",
          "mapbox": {
           "style": "light"
          },
          "paper_bgcolor": "white",
          "plot_bgcolor": "#E5ECF6",
          "polar": {
           "angularaxis": {
            "gridcolor": "white",
            "linecolor": "white",
            "ticks": ""
           },
           "bgcolor": "#E5ECF6",
           "radialaxis": {
            "gridcolor": "white",
            "linecolor": "white",
            "ticks": ""
           }
          },
          "scene": {
           "xaxis": {
            "backgroundcolor": "#E5ECF6",
            "gridcolor": "white",
            "gridwidth": 2,
            "linecolor": "white",
            "showbackground": true,
            "ticks": "",
            "zerolinecolor": "white"
           },
           "yaxis": {
            "backgroundcolor": "#E5ECF6",
            "gridcolor": "white",
            "gridwidth": 2,
            "linecolor": "white",
            "showbackground": true,
            "ticks": "",
            "zerolinecolor": "white"
           },
           "zaxis": {
            "backgroundcolor": "#E5ECF6",
            "gridcolor": "white",
            "gridwidth": 2,
            "linecolor": "white",
            "showbackground": true,
            "ticks": "",
            "zerolinecolor": "white"
           }
          },
          "shapedefaults": {
           "line": {
            "color": "#2a3f5f"
           }
          },
          "ternary": {
           "aaxis": {
            "gridcolor": "white",
            "linecolor": "white",
            "ticks": ""
           },
           "baxis": {
            "gridcolor": "white",
            "linecolor": "white",
            "ticks": ""
           },
           "bgcolor": "#E5ECF6",
           "caxis": {
            "gridcolor": "white",
            "linecolor": "white",
            "ticks": ""
           }
          },
          "title": {
           "x": 0.05
          },
          "xaxis": {
           "automargin": true,
           "gridcolor": "white",
           "linecolor": "white",
           "ticks": "",
           "title": {
            "standoff": 15
           },
           "zerolinecolor": "white",
           "zerolinewidth": 2
          },
          "yaxis": {
           "automargin": true,
           "gridcolor": "white",
           "linecolor": "white",
           "ticks": "",
           "title": {
            "standoff": 15
           },
           "zerolinecolor": "white",
           "zerolinewidth": 2
          }
         }
        }
       }
      }
     },
     "metadata": {},
     "output_type": "display_data"
    }
   ],
   "source": [
    "fig = go.Figure()\n",
    "fig.add_traces(\n",
    "    go.Scatter(\n",
    "        x=X_redux[:,0],\n",
    "       y=X_redux[:,1],\n",
    "       mode=\"markers\",\n",
    "       marker = {\n",
    "           \"color\":kmeans.labels_\n",
    "       }\n",
    "    )\n",
    ")\n",
    "fig.show()\n"
   ]
  },
  {
   "cell_type": "code",
   "execution_count": 73,
   "metadata": {},
   "outputs": [
    {
     "ename": "KeyboardInterrupt",
     "evalue": "",
     "output_type": "error",
     "traceback": [
      "\u001b[0;31m---------------------------------------------------------------------------\u001b[0m",
      "\u001b[0;31mKeyboardInterrupt\u001b[0m                         Traceback (most recent call last)",
      "Cell \u001b[0;32mIn[73], line 2\u001b[0m\n\u001b[1;32m      1\u001b[0m mds \u001b[38;5;241m=\u001b[39m manifold\u001b[38;5;241m.\u001b[39mMDS(n_components\u001b[38;5;241m=\u001b[39m\u001b[38;5;241m2\u001b[39m, n_init\u001b[38;5;241m=\u001b[39m\u001b[38;5;241m100\u001b[39m)\n\u001b[0;32m----> 2\u001b[0m mds_X_redux \u001b[38;5;241m=\u001b[39m \u001b[43mmds\u001b[49m\u001b[38;5;241;43m.\u001b[39;49m\u001b[43mfit_transform\u001b[49m\u001b[43m(\u001b[49m\u001b[43mX_log\u001b[49m\u001b[43m)\u001b[49m\n\u001b[1;32m      3\u001b[0m \u001b[38;5;28mprint\u001b[39m(mds_X_redux\u001b[38;5;241m.\u001b[39mshape)\n",
      "File \u001b[0;32m~/Desktop/Analysis/Code/src/data_analysis/.venv/lib/python3.9/site-packages/sklearn/base.py:1473\u001b[0m, in \u001b[0;36m_fit_context.<locals>.decorator.<locals>.wrapper\u001b[0;34m(estimator, *args, **kwargs)\u001b[0m\n\u001b[1;32m   1466\u001b[0m     estimator\u001b[38;5;241m.\u001b[39m_validate_params()\n\u001b[1;32m   1468\u001b[0m \u001b[38;5;28;01mwith\u001b[39;00m config_context(\n\u001b[1;32m   1469\u001b[0m     skip_parameter_validation\u001b[38;5;241m=\u001b[39m(\n\u001b[1;32m   1470\u001b[0m         prefer_skip_nested_validation \u001b[38;5;129;01mor\u001b[39;00m global_skip_validation\n\u001b[1;32m   1471\u001b[0m     )\n\u001b[1;32m   1472\u001b[0m ):\n\u001b[0;32m-> 1473\u001b[0m     \u001b[38;5;28;01mreturn\u001b[39;00m \u001b[43mfit_method\u001b[49m\u001b[43m(\u001b[49m\u001b[43mestimator\u001b[49m\u001b[43m,\u001b[49m\u001b[43m \u001b[49m\u001b[38;5;241;43m*\u001b[39;49m\u001b[43margs\u001b[49m\u001b[43m,\u001b[49m\u001b[43m \u001b[49m\u001b[38;5;241;43m*\u001b[39;49m\u001b[38;5;241;43m*\u001b[39;49m\u001b[43mkwargs\u001b[49m\u001b[43m)\u001b[49m\n",
      "File \u001b[0;32m~/Desktop/Analysis/Code/src/data_analysis/.venv/lib/python3.9/site-packages/sklearn/manifold/_mds.py:638\u001b[0m, in \u001b[0;36mMDS.fit_transform\u001b[0;34m(self, X, y, init)\u001b[0m\n\u001b[1;32m    635\u001b[0m \u001b[38;5;28;01melif\u001b[39;00m \u001b[38;5;28mself\u001b[39m\u001b[38;5;241m.\u001b[39mdissimilarity \u001b[38;5;241m==\u001b[39m \u001b[38;5;124m\"\u001b[39m\u001b[38;5;124meuclidean\u001b[39m\u001b[38;5;124m\"\u001b[39m:\n\u001b[1;32m    636\u001b[0m     \u001b[38;5;28mself\u001b[39m\u001b[38;5;241m.\u001b[39mdissimilarity_matrix_ \u001b[38;5;241m=\u001b[39m euclidean_distances(X)\n\u001b[0;32m--> 638\u001b[0m \u001b[38;5;28mself\u001b[39m\u001b[38;5;241m.\u001b[39membedding_, \u001b[38;5;28mself\u001b[39m\u001b[38;5;241m.\u001b[39mstress_, \u001b[38;5;28mself\u001b[39m\u001b[38;5;241m.\u001b[39mn_iter_ \u001b[38;5;241m=\u001b[39m \u001b[43msmacof\u001b[49m\u001b[43m(\u001b[49m\n\u001b[1;32m    639\u001b[0m \u001b[43m    \u001b[49m\u001b[38;5;28;43mself\u001b[39;49m\u001b[38;5;241;43m.\u001b[39;49m\u001b[43mdissimilarity_matrix_\u001b[49m\u001b[43m,\u001b[49m\n\u001b[1;32m    640\u001b[0m \u001b[43m    \u001b[49m\u001b[43mmetric\u001b[49m\u001b[38;5;241;43m=\u001b[39;49m\u001b[38;5;28;43mself\u001b[39;49m\u001b[38;5;241;43m.\u001b[39;49m\u001b[43mmetric\u001b[49m\u001b[43m,\u001b[49m\n\u001b[1;32m    641\u001b[0m \u001b[43m    \u001b[49m\u001b[43mn_components\u001b[49m\u001b[38;5;241;43m=\u001b[39;49m\u001b[38;5;28;43mself\u001b[39;49m\u001b[38;5;241;43m.\u001b[39;49m\u001b[43mn_components\u001b[49m\u001b[43m,\u001b[49m\n\u001b[1;32m    642\u001b[0m \u001b[43m    \u001b[49m\u001b[43minit\u001b[49m\u001b[38;5;241;43m=\u001b[39;49m\u001b[43minit\u001b[49m\u001b[43m,\u001b[49m\n\u001b[1;32m    643\u001b[0m \u001b[43m    \u001b[49m\u001b[43mn_init\u001b[49m\u001b[38;5;241;43m=\u001b[39;49m\u001b[38;5;28;43mself\u001b[39;49m\u001b[38;5;241;43m.\u001b[39;49m\u001b[43mn_init\u001b[49m\u001b[43m,\u001b[49m\n\u001b[1;32m    644\u001b[0m \u001b[43m    \u001b[49m\u001b[43mn_jobs\u001b[49m\u001b[38;5;241;43m=\u001b[39;49m\u001b[38;5;28;43mself\u001b[39;49m\u001b[38;5;241;43m.\u001b[39;49m\u001b[43mn_jobs\u001b[49m\u001b[43m,\u001b[49m\n\u001b[1;32m    645\u001b[0m \u001b[43m    \u001b[49m\u001b[43mmax_iter\u001b[49m\u001b[38;5;241;43m=\u001b[39;49m\u001b[38;5;28;43mself\u001b[39;49m\u001b[38;5;241;43m.\u001b[39;49m\u001b[43mmax_iter\u001b[49m\u001b[43m,\u001b[49m\n\u001b[1;32m    646\u001b[0m \u001b[43m    \u001b[49m\u001b[43mverbose\u001b[49m\u001b[38;5;241;43m=\u001b[39;49m\u001b[38;5;28;43mself\u001b[39;49m\u001b[38;5;241;43m.\u001b[39;49m\u001b[43mverbose\u001b[49m\u001b[43m,\u001b[49m\n\u001b[1;32m    647\u001b[0m \u001b[43m    \u001b[49m\u001b[43meps\u001b[49m\u001b[38;5;241;43m=\u001b[39;49m\u001b[38;5;28;43mself\u001b[39;49m\u001b[38;5;241;43m.\u001b[39;49m\u001b[43meps\u001b[49m\u001b[43m,\u001b[49m\n\u001b[1;32m    648\u001b[0m \u001b[43m    \u001b[49m\u001b[43mrandom_state\u001b[49m\u001b[38;5;241;43m=\u001b[39;49m\u001b[38;5;28;43mself\u001b[39;49m\u001b[38;5;241;43m.\u001b[39;49m\u001b[43mrandom_state\u001b[49m\u001b[43m,\u001b[49m\n\u001b[1;32m    649\u001b[0m \u001b[43m    \u001b[49m\u001b[43mreturn_n_iter\u001b[49m\u001b[38;5;241;43m=\u001b[39;49m\u001b[38;5;28;43;01mTrue\u001b[39;49;00m\u001b[43m,\u001b[49m\n\u001b[1;32m    650\u001b[0m \u001b[43m    \u001b[49m\u001b[43mnormalized_stress\u001b[49m\u001b[38;5;241;43m=\u001b[39;49m\u001b[38;5;28;43mself\u001b[39;49m\u001b[38;5;241;43m.\u001b[39;49m\u001b[43mnormalized_stress\u001b[49m\u001b[43m,\u001b[49m\n\u001b[1;32m    651\u001b[0m \u001b[43m\u001b[49m\u001b[43m)\u001b[49m\n\u001b[1;32m    653\u001b[0m \u001b[38;5;28;01mreturn\u001b[39;00m \u001b[38;5;28mself\u001b[39m\u001b[38;5;241m.\u001b[39membedding_\n",
      "File \u001b[0;32m~/Desktop/Analysis/Code/src/data_analysis/.venv/lib/python3.9/site-packages/sklearn/utils/_param_validation.py:186\u001b[0m, in \u001b[0;36mvalidate_params.<locals>.decorator.<locals>.wrapper\u001b[0;34m(*args, **kwargs)\u001b[0m\n\u001b[1;32m    184\u001b[0m global_skip_validation \u001b[38;5;241m=\u001b[39m get_config()[\u001b[38;5;124m\"\u001b[39m\u001b[38;5;124mskip_parameter_validation\u001b[39m\u001b[38;5;124m\"\u001b[39m]\n\u001b[1;32m    185\u001b[0m \u001b[38;5;28;01mif\u001b[39;00m global_skip_validation:\n\u001b[0;32m--> 186\u001b[0m     \u001b[38;5;28;01mreturn\u001b[39;00m \u001b[43mfunc\u001b[49m\u001b[43m(\u001b[49m\u001b[38;5;241;43m*\u001b[39;49m\u001b[43margs\u001b[49m\u001b[43m,\u001b[49m\u001b[43m \u001b[49m\u001b[38;5;241;43m*\u001b[39;49m\u001b[38;5;241;43m*\u001b[39;49m\u001b[43mkwargs\u001b[49m\u001b[43m)\u001b[49m\n\u001b[1;32m    188\u001b[0m func_sig \u001b[38;5;241m=\u001b[39m signature(func)\n\u001b[1;32m    190\u001b[0m \u001b[38;5;66;03m# Map *args/**kwargs to the function signature\u001b[39;00m\n",
      "File \u001b[0;32m~/Desktop/Analysis/Code/src/data_analysis/.venv/lib/python3.9/site-packages/sklearn/manifold/_mds.py:352\u001b[0m, in \u001b[0;36msmacof\u001b[0;34m(dissimilarities, metric, n_components, init, n_init, n_jobs, max_iter, verbose, eps, random_state, return_n_iter, normalized_stress)\u001b[0m\n\u001b[1;32m    350\u001b[0m \u001b[38;5;28;01mif\u001b[39;00m effective_n_jobs(n_jobs) \u001b[38;5;241m==\u001b[39m \u001b[38;5;241m1\u001b[39m:\n\u001b[1;32m    351\u001b[0m     \u001b[38;5;28;01mfor\u001b[39;00m it \u001b[38;5;129;01min\u001b[39;00m \u001b[38;5;28mrange\u001b[39m(n_init):\n\u001b[0;32m--> 352\u001b[0m         pos, stress, n_iter_ \u001b[38;5;241m=\u001b[39m \u001b[43m_smacof_single\u001b[49m\u001b[43m(\u001b[49m\n\u001b[1;32m    353\u001b[0m \u001b[43m            \u001b[49m\u001b[43mdissimilarities\u001b[49m\u001b[43m,\u001b[49m\n\u001b[1;32m    354\u001b[0m \u001b[43m            \u001b[49m\u001b[43mmetric\u001b[49m\u001b[38;5;241;43m=\u001b[39;49m\u001b[43mmetric\u001b[49m\u001b[43m,\u001b[49m\n\u001b[1;32m    355\u001b[0m \u001b[43m            \u001b[49m\u001b[43mn_components\u001b[49m\u001b[38;5;241;43m=\u001b[39;49m\u001b[43mn_components\u001b[49m\u001b[43m,\u001b[49m\n\u001b[1;32m    356\u001b[0m \u001b[43m            \u001b[49m\u001b[43minit\u001b[49m\u001b[38;5;241;43m=\u001b[39;49m\u001b[43minit\u001b[49m\u001b[43m,\u001b[49m\n\u001b[1;32m    357\u001b[0m \u001b[43m            \u001b[49m\u001b[43mmax_iter\u001b[49m\u001b[38;5;241;43m=\u001b[39;49m\u001b[43mmax_iter\u001b[49m\u001b[43m,\u001b[49m\n\u001b[1;32m    358\u001b[0m \u001b[43m            \u001b[49m\u001b[43mverbose\u001b[49m\u001b[38;5;241;43m=\u001b[39;49m\u001b[43mverbose\u001b[49m\u001b[43m,\u001b[49m\n\u001b[1;32m    359\u001b[0m \u001b[43m            \u001b[49m\u001b[43meps\u001b[49m\u001b[38;5;241;43m=\u001b[39;49m\u001b[43meps\u001b[49m\u001b[43m,\u001b[49m\n\u001b[1;32m    360\u001b[0m \u001b[43m            \u001b[49m\u001b[43mrandom_state\u001b[49m\u001b[38;5;241;43m=\u001b[39;49m\u001b[43mrandom_state\u001b[49m\u001b[43m,\u001b[49m\n\u001b[1;32m    361\u001b[0m \u001b[43m            \u001b[49m\u001b[43mnormalized_stress\u001b[49m\u001b[38;5;241;43m=\u001b[39;49m\u001b[43mnormalized_stress\u001b[49m\u001b[43m,\u001b[49m\n\u001b[1;32m    362\u001b[0m \u001b[43m        \u001b[49m\u001b[43m)\u001b[49m\n\u001b[1;32m    363\u001b[0m         \u001b[38;5;28;01mif\u001b[39;00m best_stress \u001b[38;5;129;01mis\u001b[39;00m \u001b[38;5;28;01mNone\u001b[39;00m \u001b[38;5;129;01mor\u001b[39;00m stress \u001b[38;5;241m<\u001b[39m best_stress:\n\u001b[1;32m    364\u001b[0m             best_stress \u001b[38;5;241m=\u001b[39m stress\n",
      "File \u001b[0;32m~/Desktop/Analysis/Code/src/data_analysis/.venv/lib/python3.9/site-packages/sklearn/manifold/_mds.py:155\u001b[0m, in \u001b[0;36m_smacof_single\u001b[0;34m(dissimilarities, metric, n_components, init, max_iter, verbose, eps, random_state, normalized_stress)\u001b[0m\n\u001b[1;32m    153\u001b[0m B \u001b[38;5;241m=\u001b[39m \u001b[38;5;241m-\u001b[39mratio\n\u001b[1;32m    154\u001b[0m B[np\u001b[38;5;241m.\u001b[39marange(\u001b[38;5;28mlen\u001b[39m(B)), np\u001b[38;5;241m.\u001b[39marange(\u001b[38;5;28mlen\u001b[39m(B))] \u001b[38;5;241m+\u001b[39m\u001b[38;5;241m=\u001b[39m ratio\u001b[38;5;241m.\u001b[39msum(axis\u001b[38;5;241m=\u001b[39m\u001b[38;5;241m1\u001b[39m)\n\u001b[0;32m--> 155\u001b[0m X \u001b[38;5;241m=\u001b[39m \u001b[38;5;241m1.0\u001b[39m \u001b[38;5;241m/\u001b[39m n_samples \u001b[38;5;241m*\u001b[39m \u001b[43mnp\u001b[49m\u001b[38;5;241;43m.\u001b[39;49m\u001b[43mdot\u001b[49m\u001b[43m(\u001b[49m\u001b[43mB\u001b[49m\u001b[43m,\u001b[49m\u001b[43m \u001b[49m\u001b[43mX\u001b[49m\u001b[43m)\u001b[49m\n\u001b[1;32m    157\u001b[0m dis \u001b[38;5;241m=\u001b[39m np\u001b[38;5;241m.\u001b[39msqrt((X\u001b[38;5;241m*\u001b[39m\u001b[38;5;241m*\u001b[39m\u001b[38;5;241m2\u001b[39m)\u001b[38;5;241m.\u001b[39msum(axis\u001b[38;5;241m=\u001b[39m\u001b[38;5;241m1\u001b[39m))\u001b[38;5;241m.\u001b[39msum()\n\u001b[1;32m    158\u001b[0m \u001b[38;5;28;01mif\u001b[39;00m verbose \u001b[38;5;241m>\u001b[39m\u001b[38;5;241m=\u001b[39m \u001b[38;5;241m2\u001b[39m:\n",
      "\u001b[0;31mKeyboardInterrupt\u001b[0m: "
     ]
    }
   ],
   "source": [
    "mds = manifold.MDS(n_components=2, n_init=100)\n",
    "mds_X_redux = mds.fit_transform(X_log)\n",
    "print(mds_X_redux.shape)"
   ]
  },
  {
   "cell_type": "code",
   "execution_count": 122,
   "metadata": {},
   "outputs": [
    {
     "name": "stdout",
     "output_type": "stream",
     "text": [
      "(511, 2)\n"
     ]
    }
   ],
   "source": [
    "tsne = manifold.TSNE(n_components=2, perplexity = 40, max_iter = 1000, n_iter_without_progress=500)\n",
    "tnse_X_redux = tsne.fit_transform(X_redux)\n",
    "print(tnse_X_redux.shape)"
   ]
  },
  {
   "cell_type": "code",
   "execution_count": 123,
   "metadata": {},
   "outputs": [],
   "source": [
    "frame = (\n",
    "    pd.DataFrame(\n",
    "        {\n",
    "            \"pca_1\":X_redux[:,0],\n",
    "            \"pca_2\":X_redux[:,1],\n",
    "            \"mds_1\":mds_X_redux[:,0],\n",
    "            \"mds_2\":mds_X_redux[:,1],\n",
    "            \"tsne_1\":tnse_X_redux[:,0],\n",
    "            \"tsne_2\":tnse_X_redux[:,1],\n",
    "            \"kmeans\":kmeans.labels_\n",
    "        }\n",
    "    )\n",
    ")"
   ]
  },
  {
   "cell_type": "code",
   "execution_count": 75,
   "metadata": {},
   "outputs": [
    {
     "data": {
      "application/vnd.plotly.v1+json": {
       "config": {
        "plotlyServerURL": "https://plot.ly"
       },
       "data": [
        {
         "marker": {
          "color": [
           5,
           5,
           5,
           0,
           5,
           5,
           5,
           5,
           5,
           5,
           5,
           3,
           4,
           3,
           4,
           4,
           3,
           4,
           0,
           5,
           0,
           0,
           5,
           0,
           5,
           0,
           5,
           0,
           5,
           2,
           2,
           5,
           5,
           0,
           0,
           5,
           0,
           5,
           5,
           5,
           5,
           5,
           0,
           0,
           0,
           5,
           0,
           5,
           0,
           0,
           0,
           0,
           0,
           0,
           5,
           0,
           5,
           0,
           0,
           0,
           5,
           3,
           3,
           5,
           4,
           3,
           3,
           3,
           4,
           4,
           3,
           4,
           3,
           3,
           3,
           3,
           3,
           3,
           3,
           4,
           5,
           5,
           5,
           5,
           5,
           0,
           5,
           5,
           5,
           5,
           5,
           5,
           5,
           0,
           5,
           5,
           5,
           5,
           5,
           5,
           0,
           5,
           5,
           5,
           5,
           5,
           5,
           5,
           5,
           5,
           0,
           0,
           0,
           0,
           2,
           2,
           2,
           2,
           2,
           2,
           2,
           2,
           2,
           0,
           2,
           0,
           5,
           5,
           5,
           5,
           5,
           2,
           2,
           0,
           5,
           1,
           5,
           0,
           2,
           2,
           1,
           1,
           1,
           1,
           1,
           0,
           0,
           0,
           2,
           2,
           2,
           1,
           2,
           2,
           2,
           2,
           2,
           2,
           2,
           1,
           1,
           2,
           0,
           0,
           1,
           1,
           2,
           2,
           2,
           2,
           2,
           2,
           2,
           1,
           1,
           1,
           1,
           1,
           1,
           1,
           1,
           1,
           2,
           2,
           2,
           1,
           1,
           1,
           2,
           2,
           2,
           1,
           1,
           1,
           0,
           0,
           0,
           2,
           0,
           0,
           0,
           0,
           0,
           0,
           0,
           0,
           0,
           0,
           0,
           0,
           2,
           1,
           1,
           2,
           2,
           2,
           2,
           2,
           2,
           2,
           2,
           2,
           2,
           2,
           2,
           2,
           2,
           1,
           1,
           1,
           2,
           2,
           2,
           2,
           1,
           0,
           0,
           0,
           0,
           0,
           0,
           2,
           2,
           2,
           1,
           1,
           1,
           1,
           1,
           1,
           1,
           1,
           1,
           1,
           1,
           1,
           1,
           1,
           1,
           1,
           1,
           1,
           1,
           1,
           1,
           1,
           1,
           1,
           1,
           1,
           1,
           1,
           1,
           1,
           1,
           1,
           1,
           1,
           1,
           1,
           1,
           1,
           1,
           1,
           1,
           1,
           1,
           1,
           1,
           1,
           1,
           1,
           1,
           1,
           1,
           1,
           2,
           2,
           2,
           2,
           2,
           2,
           2,
           2,
           1,
           1,
           1,
           1,
           1,
           1,
           1,
           1,
           1,
           1,
           1,
           2,
           2,
           2,
           2,
           2,
           2,
           2,
           2,
           1,
           1,
           1,
           1,
           1,
           1,
           1,
           1,
           1,
           1,
           1,
           1,
           2,
           1,
           1,
           2,
           2,
           2,
           2,
           2,
           2,
           2,
           2,
           2,
           1,
           1,
           1,
           1,
           1,
           1,
           1,
           1,
           1,
           1,
           1,
           1,
           1,
           1,
           1,
           1,
           1,
           1,
           1,
           1,
           1,
           1,
           1,
           1,
           1,
           1,
           1,
           1,
           1,
           1,
           1,
           1,
           1,
           1,
           1,
           1,
           1,
           1,
           1,
           1,
           1,
           1,
           1,
           1,
           1,
           1,
           1,
           1,
           1,
           1,
           1,
           1,
           2,
           2,
           1,
           2,
           2,
           2,
           1,
           1,
           1,
           1,
           1,
           1,
           1,
           1,
           1,
           1,
           1,
           1,
           1,
           1,
           1,
           1,
           3,
           1,
           3,
           4,
           3,
           4,
           3,
           3,
           3,
           3,
           3,
           4,
           4,
           3,
           3,
           3,
           4,
           4,
           4,
           4,
           4,
           3,
           4,
           3,
           3,
           3,
           3,
           3,
           1,
           1,
           1,
           1,
           1,
           1,
           1,
           0,
           0,
           0,
           0,
           5,
           5,
           0,
           5,
           0,
           0,
           2,
           2,
           2,
           2,
           2,
           2,
           2,
           5,
           1,
           1,
           2,
           2,
           2,
           2,
           2,
           2,
           2,
           1,
           1,
           1,
           1,
           1,
           1,
           1,
           1,
           1,
           1,
           1,
           1,
           5,
           1,
           1,
           1,
           1,
           1,
           1,
           1,
           1,
           1,
           1,
           1,
           1,
           1,
           1,
           1
          ]
         },
         "mode": "markers",
         "type": "scatter",
         "x": [
          -169.98819917584007,
          -143.07826672323122,
          -211.25703470358403,
          -241.19426873901216,
          -184.79054181164435,
          -216.2672980870556,
          -195.9456503829626,
          -137.91281306376763,
          -144.6054875897767,
          -100.65394496122748,
          -145.51957405250965,
          -292.8503139503458,
          -419.57826098618085,
          -403.5511576799403,
          -395.26523590802117,
          -345.3416150126248,
          -158.08671289542903,
          -164.1463936476105,
          -3.654030072065615,
          -104.47575365310293,
          -19.089598495624706,
          -196.47648750971138,
          -70.39045833690683,
          -264.1875726539622,
          -67.81138396561741,
          -208.12963791896115,
          -44.37563203636573,
          -34.03720587091377,
          -150.7911554261246,
          -109.72375191740413,
          38.98560135716526,
          -131.8999976620754,
          -66.25738440621578,
          -40.67035628323482,
          -25.117636858937686,
          -57.01588640945986,
          9.191208724633203,
          -80.61440125914952,
          -177.17586800731308,
          -75.30179138408697,
          -116.69218955497229,
          -94.95095227377041,
          -240.46150155339419,
          -42.32436840089806,
          -13.529578568448777,
          -58.63327656601138,
          -35.5609794788867,
          -117.8499489794126,
          -55.66387160198961,
          -241.7966049096618,
          -235.91277274809005,
          -186.95516597838284,
          3.005615150445761,
          -35.1063039678399,
          -48.979257122418886,
          -250.21112975669746,
          -89.60354580033817,
          -201.84651555248178,
          -15.617145435155688,
          -89.21699200830399,
          -74.29269695003975,
          -344.6958279770246,
          -108.5051106648337,
          -134.76676081346574,
          -229.357247334472,
          41.786004939854884,
          -276.5120833080646,
          -184.18169958291617,
          -310.57925257411176,
          -45.93375750816505,
          83.44369289351826,
          -137.07180732849326,
          -368.9038234027561,
          -246.11656512009108,
          -396.1920829974897,
          -118.75480339335361,
          -257.64197100373826,
          -239.16008509172514,
          -196.12227827222097,
          -375.06811967369214,
          -92.82029584711408,
          -233.18609329283925,
          -174.0275931597148,
          -144.29820160966716,
          -176.0324661180712,
          -181.30099987260343,
          -88.02863307796979,
          -132.5725122549455,
          -100.51741670375353,
          -164.73158822721277,
          -213.67450873656037,
          -137.8233283489544,
          -164.79512257798194,
          -236.7279501916606,
          -87.3430144250009,
          -164.6427706772905,
          -237.426278102621,
          -228.76781623468605,
          -117.26280931379631,
          -167.06486676268332,
          -126.38712444612723,
          -93.69318953247064,
          -220.9539958445099,
          -125.4610487924951,
          -136.81743898246015,
          -187.6254115297508,
          -113.3542682806833,
          -251.38100034044166,
          -183.86497709422662,
          -71.47950652984139,
          20.030868599499538,
          4.382662783059677,
          -274.74590919850635,
          -174.59325406694518,
          75.21323062349258,
          132.7405430020936,
          -43.04384582848896,
          36.30693242920682,
          5.656069662537189,
          22.05598638405639,
          -97.87573179457124,
          70.96779301941196,
          -120.1171027317061,
          -247.43601063688223,
          -62.26299825962897,
          -234.49542268062504,
          -163.15762348542788,
          -147.94021759729472,
          -151.9041200914731,
          -168.6151366831694,
          -106.24251037274914,
          54.33166004885125,
          -95.31794354070732,
          -268.3395231635662,
          -120.28752454172788,
          279.5487731694534,
          -72.87306223635002,
          -279.88381503822075,
          203.9246281605261,
          2.3177620006822677,
          284.37597459282324,
          -72.52812701513153,
          -94.61016555386531,
          153.71286491942323,
          140.9694701280893,
          -240.08805694129302,
          -228.65691985055724,
          -119.09236398971827,
          148.08925891645848,
          166.98456161328102,
          140.2856735224382,
          269.6506341893818,
          155.08979854207723,
          96.56400995305603,
          45.61453079333685,
          51.48850307613834,
          124.05943922433593,
          144.85059472408508,
          3.7154110351442076,
          197.98631835659003,
          213.38251942022336,
          -27.656048506101794,
          -285.21919824755463,
          -263.75634811918974,
          131.86756693213647,
          169.27131669329526,
          161.0103512350435,
          102.19537006138171,
          23.62616684922879,
          88.86177922574228,
          166.80796670613208,
          116.7146455858837,
          67.00235539027328,
          -30.136013959227146,
          155.97221979143265,
          -4.429326809282568,
          63.89744607039981,
          83.7733689855092,
          259.0069118187186,
          230.1892268010873,
          116.35874380917312,
          164.39387693146716,
          220.9114701337651,
          33.267791236363564,
          119.13968822681282,
          126.94896063772994,
          105.7870457490302,
          218.49414963169826,
          183.28085217065717,
          32.991810968406234,
          171.88195503156078,
          133.4446261326949,
          -131.330539751757,
          280.2170412788326,
          -64.4773516431131,
          -4.489988303772716,
          -92.42674263237056,
          96.55339103788124,
          -111.49452824274731,
          -212.2432539634498,
          -139.76677438591008,
          -51.20298716941412,
          -183.1381959174735,
          29.155440366294197,
          -202.50008583265156,
          -177.4425264009442,
          -51.42016642233835,
          -80.30369026343176,
          -32.260856115463206,
          26.413807976962573,
          18.58048462057737,
          205.11182916964913,
          233.73122891633125,
          73.11729687991512,
          81.29961723979322,
          111.11672301380972,
          26.049682807870848,
          127.08565145029046,
          108.00256054389737,
          96.96462889778286,
          -4.785088260572785,
          15.896691761397518,
          120.4324040545317,
          19.70201097330501,
          202.82478581343887,
          69.5213493785396,
          -4.543285239132201,
          132.62882177239894,
          131.21525512059011,
          243.80355841515092,
          82.35853387833433,
          117.75787450713972,
          -6.483672095206293,
          8.293822147116726,
          -28.62510792520485,
          -203.1197640725322,
          -200.7995201051718,
          -208.5637571901815,
          2.2633106006725257,
          -119.39333456959447,
          -59.51878143733362,
          -22.551549207672917,
          39.92043773063796,
          -19.854025904864553,
          190.54045068499227,
          101.72733557303975,
          142.23481913041618,
          202.8159466401846,
          69.2481797976532,
          -79.94251811612854,
          21.507011086290273,
          38.23749210040584,
          46.59076887281323,
          -21.374839376386532,
          170.56733522458373,
          -41.00057988962625,
          163.3193160114667,
          -46.83663906529787,
          204.184650290312,
          257.6888823131045,
          -3.933432337035129,
          -95.26789161374288,
          175.9715962110266,
          251.436397678937,
          246.93471630497078,
          179.53336342649837,
          202.35313774350593,
          200.64115569156382,
          226.2797950045568,
          217.7434032911329,
          199.48185884128839,
          2.7375441585522937,
          254.61532320639304,
          216.10459024578364,
          263.44255698531316,
          100.05586615639662,
          160.91370802875238,
          -112.560255054861,
          -56.70154668705325,
          78.44451450985119,
          123.77114263897454,
          236.72681813405464,
          123.16342627345615,
          162.65326835121803,
          168.3443233550813,
          -22.682296397009083,
          154.7844567633355,
          93.28379793684078,
          -40.83495132413135,
          118.24691154386878,
          135.1960327024409,
          105.5800505159204,
          115.31546886377704,
          101.84574284078514,
          -63.78016019951897,
          52.76163891511995,
          125.22264877257558,
          -96.89544584545187,
          205.89079941297416,
          100.75995585259717,
          177.99406044482998,
          56.95606817197828,
          163.87930562071418,
          148.193520789365,
          181.25725148269387,
          279.8337469136915,
          149.32451265844776,
          239.4138491385695,
          278.3509499799186,
          214.4443759195823,
          128.58902965111722,
          93.42092445908783,
          -93.23419347138176,
          233.9395070731566,
          194.57951865004404,
          198.48475211163176,
          47.721705378904325,
          170.0474361794454,
          101.79314455723484,
          160.72011766292565,
          -8.743473225993597,
          149.17912148485502,
          131.94124815279523,
          151.81241760970045,
          269.5544358678705,
          230.360026712965,
          110.09049654804929,
          53.30833491009065,
          85.62151451732632,
          155.4931126114116,
          -81.62007652617584,
          244.97219460160028,
          74.46954397558304,
          105.77951377127569,
          205.54809564407086,
          229.7233414618402,
          -89.89590656767425,
          -192.75534076648756,
          76.73221943442267,
          88.71737855052466,
          58.57043315399451,
          114.25065553147726,
          93.34201212133948,
          38.159811717058915,
          -17.20828853906413,
          -54.49389406660846,
          169.2628321011864,
          201.87653397671846,
          284.394198909227,
          65.93374034950074,
          64.98072382750132,
          60.75524497123409,
          207.21059744008747,
          83.3479984782786,
          163.36929461820893,
          76.93231430925218,
          82.68317730936606,
          222.23751629928202,
          211.98589406089414,
          264.92780546037983,
          70.49344060397895,
          46.780625404087864,
          38.37312770164986,
          121.55909900673467,
          51.67993015293745,
          217.457907928632,
          119.37503143921577,
          -111.69056921494584,
          -155.10845045183652,
          -163.02406484207398,
          11.873181433438132,
          167.9203201760508,
          275.9658425107439,
          102.14284325704847,
          57.36334571549347,
          119.7720538417594,
          47.776213049456295,
          82.52421216823306,
          -161.59225757584477,
          154.180079876002,
          258.70722508073203,
          80.99675869910567,
          -172.09092007127384,
          235.5098391601373,
          53.36252827679898,
          80.90674424905355,
          59.04126415876826,
          6.378846234261391,
          78.46698063927566,
          11.250103368661366,
          144.69590026504642,
          28.416194030555054,
          137.20563414365768,
          41.68477936625081,
          120.06769586418662,
          26.629301657055223,
          84.63892438764078,
          37.00198806379713,
          28.57496790674261,
          -143.84257237969257,
          42.277942468654686,
          46.58072544689254,
          137.43848205628495,
          134.80013726807044,
          109.22679538281604,
          104.66872650378562,
          63.46920629689786,
          -93.64218802259396,
          110.26405646495022,
          289.9364415063941,
          -147.4567808273351,
          224.93860488348813,
          188.29705258472086,
          284.98034409507085,
          247.48960112468328,
          215.0448277782399,
          -86.2502121909315,
          297.332941892962,
          297.5454002940221,
          -132.8747475017374,
          287.3560698842302,
          -5.980350014955697,
          23.983952745644995,
          -416.97049281143524,
          -197.94027536196435,
          -417.0180917168356,
          -360.2009386070938,
          -17.871640321270558,
          -69.03860703687518,
          -386.42388412643896,
          -287.6773342060089,
          -302.229590639945,
          51.64374400866408,
          -409.4394248685415,
          -339.11374351975024,
          -131.48388934800033,
          -365.37108812830803,
          -394.2133746586024,
          -322.8946940219669,
          -215.80683849168653,
          -362.14318075983175,
          -269.90401251799375,
          -396.5858542765578,
          -98.39111013322449,
          17.142613437257513,
          -374.05332812723873,
          -322.13605676527783,
          -57.19741370409271,
          -388.81052882656843,
          227.64327201830116,
          188.30086312747676,
          134.91718435423513,
          240.58602874600302,
          209.5462551318679,
          -36.475475534098706,
          213.52129258582866,
          0.8725953643626314,
          -18.87143341865641,
          -188.32891158364356,
          -241.48943082590478,
          -94.25191348159613,
          -108.68909975673138,
          -108.91918582571003,
          -133.79808148924064,
          -138.589750032662,
          -184.60993791755115,
          24.625972824074392,
          56.61659606912907,
          -45.44084280662051,
          -48.25146096349576,
          65.2995553173856,
          43.486194266066676,
          -43.86901299638545,
          -115.15713855998085,
          -148.88116275890494,
          197.60114313163874,
          -49.87274925730473,
          -63.09641392077343,
          -6.661298470468125,
          -71.53341977397727,
          -16.55923236998646,
          -50.38653897425283,
          -20.952183533421653,
          130.78949501812554,
          -3.7503620847246513,
          164.62156291466314,
          238.19560389503908,
          247.42488848001412,
          -102.7191717631184,
          10.662753576040776,
          100.97917676615721,
          186.5756363410803,
          148.03386029820516,
          46.06241251774439,
          84.96292175317717,
          -194.93927568000174,
          199.80205830076008,
          215.79582282963042,
          -117.26192289342804,
          256.9610750741983,
          252.14453680272524,
          171.24953718598962,
          -121.0760726247276,
          -132.25725998542387,
          242.71564022638387,
          258.4626028573598,
          255.37781232406263,
          250.06804155883376,
          -118.74934242552939,
          206.5575010446179,
          -171.07347267286363
         ],
         "y": [
          -51.131969928829776,
          -63.174688779743356,
          -61.24434518738277,
          37.277991371244994,
          -89.35803784598917,
          -112.1656366393452,
          -141.1518735619527,
          -79.72767209598378,
          -54.70758980543477,
          -92.01049117272821,
          -162.9679036373401,
          265.2052066271859,
          73.16661080372191,
          42.75801245189035,
          -18.776815756683845,
          238.82084066615616,
          393.7185712060031,
          415.61499580115407,
          -240.83677810053854,
          -208.04478421490222,
          -221.58229930784623,
          -23.48042308087411,
          -158.82126290790117,
          -115.85744732689204,
          -225.3062198436767,
          -180.55490109220224,
          -195.77041623223528,
          -206.493701099888,
          -185.10665662914437,
          154.3375035741121,
          48.96739807510535,
          -140.99143074921082,
          -138.11021993038995,
          -306.0209522138325,
          -185.21145021725516,
          -184.6427226447331,
          -246.17908866865656,
          -214.258596430393,
          -208.5588518952345,
          -185.4510487705744,
          -222.96705100388044,
          -155.17590466030438,
          -67.25068732678793,
          -225.8275463733689,
          -230.01417535987764,
          -172.76574617242863,
          -215.07962341977338,
          -104.07192079337881,
          -236.99435616875022,
          -45.213134063500355,
          -89.62840174747723,
          -20.684071952432365,
          -246.82196027741344,
          -275.128407600676,
          -211.21694364502815,
          -88.66194622788521,
          -125.87139439249901,
          -183.2328356866619,
          -255.46609868970577,
          -270.3588667952048,
          -152.87293218042376,
          166.6230125507171,
          355.2166962191601,
          -74.1009954988031,
          372.6735612584899,
          432.20512992534634,
          375.00877445699746,
          350.26958320873365,
          261.61931177802916,
          401.7053791868844,
          428.9990541345682,
          432.70344524889606,
          298.5962339874227,
          362.6479112309482,
          10.221883520714195,
          441.66540742703415,
          345.01620206025785,
          307.8241323800912,
          383.39467338868565,
          40.20935082600456,
          -193.74604994910385,
          -131.55823081343723,
          -119.94050415303107,
          -119.42873936226768,
          -107.21686517541467,
          -69.73245178484648,
          -169.35877927818657,
          -207.44156839216672,
          -199.6342701197428,
          -64.84797522232112,
          -130.16474997423856,
          -216.03720968783398,
          -156.28586807181864,
          12.85940352246248,
          -225.08476481928838,
          -202.86352232409115,
          -28.924541071527074,
          -48.32306596966709,
          -156.9208343716893,
          -135.11378782053825,
          -260.4888425144722,
          -138.79015665521186,
          -196.40606469920598,
          -189.9587703223264,
          -102.6501253063759,
          -195.3987193775808,
          -165.9318205085303,
          -152.2636437509503,
          -210.6397238843084,
          -200.19630934528973,
          -272.01032779239415,
          -306.59877698756344,
          -85.0716592469707,
          -245.28521639658862,
          178.37493700809787,
          61.898599477657186,
          212.98757605010917,
          207.98537540181442,
          251.63904208506352,
          266.32138138311245,
          152.76665379349078,
          200.11969342639452,
          148.77939566957667,
          10.925073294729373,
          145.52442129795972,
          -12.829698604082575,
          -100.01826280933219,
          -132.13496904065497,
          -148.0905333440753,
          -83.6591953286404,
          -117.72012652734449,
          260.4184365126765,
          130.45379821231364,
          48.4073049433182,
          -72.23124376980608,
          -16.533563541715004,
          -286.9581578778039,
          -74.01872907715739,
          158.23068485236647,
          219.82956753244468,
          72.18061246933848,
          61.571482921536074,
          7.944392291104676,
          -76.6504905973096,
          -114.02955675208253,
          -152.80014857520644,
          -64.43534551172311,
          -271.14015606420566,
          209.86884333740065,
          215.40503965469347,
          216.4249268840974,
          -28.01738611555697,
          93.502737443184,
          73.46332129007543,
          70.94636821814787,
          147.1412586063435,
          125.45218489811961,
          127.81915402828321,
          141.6176500208171,
          -110.99127357568752,
          -60.55564379678134,
          193.15468831827602,
          -60.83570225749956,
          -30.102144556228353,
          -80.26082145288063,
          -144.95281163121913,
          200.91894074186726,
          177.54252468629272,
          186.46258053795447,
          178.2390808772246,
          159.38086173483828,
          194.55247677359836,
          78.35815611925311,
          60.297595036062056,
          -226.45766069917562,
          -103.12102866720635,
          -157.88027791011345,
          -82.32587669049606,
          -62.14559235983945,
          -108.97909145190656,
          -183.72412337886675,
          -181.83328996873155,
          33.05343800373626,
          167.5595992353612,
          166.18178975549623,
          -167.85667375535508,
          -207.72564485147302,
          -146.55789421085012,
          179.74443534233012,
          194.7379152582253,
          189.15786724631414,
          -148.33747021947323,
          86.26721602877313,
          80.91120735270579,
          -250.9558979786805,
          -289.7311542397146,
          -252.293446887962,
          139.14855847453669,
          -255.22018497605373,
          -9.527255312555374,
          -226.88088833747517,
          -271.34393330630087,
          -156.73952702047026,
          -269.3700511004606,
          -142.6510535384153,
          -184.7757218979158,
          -250.02124809340634,
          -201.39499026568893,
          -269.7997839845111,
          -261.7067575072737,
          66.74558522551195,
          -192.42127931023853,
          -98.61435061525218,
          68.20854051835533,
          248.51838734052657,
          58.77637165720138,
          90.31518044315102,
          104.77767661038109,
          117.54032091606244,
          93.72649827412967,
          103.6468831728242,
          101.95405002117194,
          79.5804807188451,
          123.53084982853466,
          17.69000436675818,
          123.50540694756404,
          136.35093560293066,
          -187.99304916203442,
          -100.5314204873372,
          -148.71902117307877,
          104.17446068828582,
          182.74160062934965,
          194.5845785818796,
          169.19280259262752,
          -3.643231702925632,
          8.588005305164486,
          -162.8739095867397,
          -32.00564189772366,
          -259.3961681051327,
          -208.11566788807843,
          -267.32116539294384,
          82.64473997132792,
          119.89147763994639,
          129.15907247418963,
          -203.41694891301455,
          -152.50391117749385,
          -213.11655346107972,
          -164.48797255086745,
          -200.93238312683792,
          -4.713669382444773,
          -36.76227961857431,
          -123.04393425580938,
          -182.89355395623662,
          -46.38333613729475,
          -169.43074030636245,
          -14.136124782342604,
          -111.38315534832039,
          46.44061198118932,
          49.28862167231282,
          -79.0624054515791,
          -53.9812180353847,
          95.11582488258611,
          -89.22462017435129,
          36.38527941022568,
          8.352189075407923,
          -211.6922245368359,
          -47.10158812594795,
          -83.23140851487913,
          59.03492576882748,
          34.91006541185345,
          -77.12676222606139,
          -21.801407289132076,
          -5.083394106203734,
          9.332477635963555,
          93.01476931075662,
          -192.7250378365807,
          -157.94439347631075,
          110.71491628174466,
          24.77680717903488,
          -136.26318330678333,
          -218.98495040176368,
          -44.24299810501102,
          -200.74999249150136,
          -17.85888987179656,
          8.448771390832555,
          28.215903808452452,
          -203.4364777320785,
          -0.2244322592652302,
          13.709746579385136,
          -63.19148494237195,
          -13.578536527974494,
          -71.62393136455378,
          -93.02985901132732,
          -36.412507821832826,
          15.698076724348216,
          -11.30826598217695,
          250.38475670557835,
          213.4865187090983,
          174.95208383190152,
          162.28556268224852,
          94.2163425186363,
          130.46587352483616,
          143.5086503307123,
          157.5659133502629,
          -135.02938094736584,
          47.81083026097994,
          -144.17067173388028,
          -2.429613997847213,
          -42.19483324538528,
          188.6570166318053,
          -209.6406015174452,
          -158.02064170457828,
          158.95733057327894,
          -81.1297024549566,
          8.440260815781121,
          170.52792499707928,
          223.31449529399592,
          106.68195025536279,
          30.26722782490348,
          235.87380798581583,
          89.8228181410912,
          76.69569336181952,
          230.4860185099003,
          -200.66731779615623,
          55.11406032677885,
          -139.42874006477322,
          -2.880939363613111,
          -113.91006286262203,
          -105.82931124371487,
          13.871230104559622,
          122.39429386995484,
          87.54141495646255,
          -152.5558376664363,
          -114.79028583137035,
          -142.7782432973329,
          -38.86592163291494,
          51.85711742018927,
          135.8983053115486,
          133.35837367136813,
          247.4894048645823,
          243.14339662030955,
          261.37117619073774,
          219.53358443266933,
          175.31223236694353,
          227.57594395341889,
          113.11528178255777,
          185.98707335077052,
          -154.57054261710178,
          -93.23021660663994,
          -18.8870804144801,
          -72.04154365081773,
          -86.48573552540248,
          -24.389151995309884,
          -213.76654538144274,
          -48.151866301989855,
          -106.07257663231836,
          -62.70933211934323,
          72.34351431379831,
          -84.78934621248223,
          -69.33886277374597,
          -196.50166600523795,
          -54.67886377491498,
          -45.78762377338924,
          -42.9855466517378,
          5.74578874997613,
          -130.29765190748407,
          -167.96077402006915,
          53.29844293555141,
          73.35874111609473,
          57.768654448918916,
          -54.54939206887263,
          20.3828524293463,
          38.19880147360337,
          -242.3925733951362,
          -169.6541410359915,
          -241.4328202016434,
          -148.58047699736517,
          -200.74637366361722,
          97.24744581420423,
          -180.01115194831357,
          -127.1742188059314,
          -172.8809589618119,
          84.91852866304853,
          -128.73485269448912,
          -135.82498746841614,
          -223.7689221505282,
          -190.6862361540051,
          -73.89361015049823,
          -34.63913227950438,
          -87.69301195944156,
          -125.08197590126512,
          -28.695674946449472,
          -40.873153717182426,
          -113.11655596909524,
          -116.48922017427162,
          -68.13973427499512,
          -127.31774402375476,
          -98.54675364794414,
          -80.93854832425478,
          69.56620030513474,
          192.71540846062703,
          -91.27510147568852,
          183.34890143529148,
          140.38916356103084,
          232.87774468875878,
          -17.827483925176544,
          -47.99193563973562,
          127.37056541598108,
          -139.05820277972705,
          17.309412137712297,
          122.25495758181867,
          102.82902499838563,
          -108.42505903216465,
          -34.75803766404711,
          -115.00574267853236,
          -180.27839990687332,
          22.405686900720525,
          30.699335303975037,
          -9.822493928908386,
          122.23505015134236,
          -82.70390599468843,
          407.8056295314683,
          -113.2018129642163,
          114.24657045964503,
          406.2132357684121,
          142.46938621337355,
          114.51789267747581,
          444.1224668903201,
          427.67782758166095,
          112.80992340350686,
          323.7039274281063,
          329.6259147903499,
          415.10776438052477,
          185.91055204866151,
          274.93688119910354,
          411.3263749443803,
          257.23082803592473,
          167.36571234771452,
          324.8571781330184,
          370.0404129945096,
          222.7763827664802,
          315.8145113399535,
          200.57577028962476,
          419.80653659709424,
          429.62534473883727,
          199.99874426510078,
          285.96526726816495,
          449.5088872484722,
          241.1643867458259,
          118.54994790258363,
          61.609574470946285,
          -272.17648860295174,
          129.78583497213185,
          133.66697141048633,
          -31.773620728442406,
          -34.50744780931267,
          -282.7326942948937,
          -250.8229588424562,
          -44.043805795262585,
          -105.10285159076402,
          -102.38904788525741,
          -135.07175065789778,
          -199.5716926687336,
          -107.55023863324888,
          -178.20600644047883,
          -6.430445794017311,
          38.51912471913556,
          168.4228302119987,
          159.00061189738423,
          138.6246287510254,
          223.16613394102444,
          96.43038689054612,
          185.7238969070847,
          -83.15288471322505,
          99.04238677586854,
          -195.09328092728006,
          78.88464683319252,
          172.7235624592158,
          200.93646354028104,
          168.37157469400188,
          259.6823758597562,
          207.18012182029085,
          170.25356367809627,
          28.91385938194183,
          7.740393877906957,
          -80.25057112001736,
          20.565929467471022,
          24.746489590819152,
          35.6403073451558,
          -19.07414677176996,
          -230.59506932986244,
          -176.94227120270472,
          -18.763897740819775,
          17.158532394621233,
          25.526044441308358,
          -83.60855576051745,
          83.76740274583271,
          118.58498607949419,
          86.47826552198644,
          134.20617668495373,
          75.3788015873937,
          45.64343048427255,
          35.74722448986294,
          110.63976604307118,
          204.83078396877013,
          161.093291494289,
          112.10505131724989,
          -35.83321198724359,
          47.78234675022353,
          -0.5801871739237303,
          68.07344744277114
         ]
        }
       ],
       "layout": {
        "template": {
         "data": {
          "bar": [
           {
            "error_x": {
             "color": "#2a3f5f"
            },
            "error_y": {
             "color": "#2a3f5f"
            },
            "marker": {
             "line": {
              "color": "#E5ECF6",
              "width": 0.5
             },
             "pattern": {
              "fillmode": "overlay",
              "size": 10,
              "solidity": 0.2
             }
            },
            "type": "bar"
           }
          ],
          "barpolar": [
           {
            "marker": {
             "line": {
              "color": "#E5ECF6",
              "width": 0.5
             },
             "pattern": {
              "fillmode": "overlay",
              "size": 10,
              "solidity": 0.2
             }
            },
            "type": "barpolar"
           }
          ],
          "carpet": [
           {
            "aaxis": {
             "endlinecolor": "#2a3f5f",
             "gridcolor": "white",
             "linecolor": "white",
             "minorgridcolor": "white",
             "startlinecolor": "#2a3f5f"
            },
            "baxis": {
             "endlinecolor": "#2a3f5f",
             "gridcolor": "white",
             "linecolor": "white",
             "minorgridcolor": "white",
             "startlinecolor": "#2a3f5f"
            },
            "type": "carpet"
           }
          ],
          "choropleth": [
           {
            "colorbar": {
             "outlinewidth": 0,
             "ticks": ""
            },
            "type": "choropleth"
           }
          ],
          "contour": [
           {
            "colorbar": {
             "outlinewidth": 0,
             "ticks": ""
            },
            "colorscale": [
             [
              0,
              "#0d0887"
             ],
             [
              0.1111111111111111,
              "#46039f"
             ],
             [
              0.2222222222222222,
              "#7201a8"
             ],
             [
              0.3333333333333333,
              "#9c179e"
             ],
             [
              0.4444444444444444,
              "#bd3786"
             ],
             [
              0.5555555555555556,
              "#d8576b"
             ],
             [
              0.6666666666666666,
              "#ed7953"
             ],
             [
              0.7777777777777778,
              "#fb9f3a"
             ],
             [
              0.8888888888888888,
              "#fdca26"
             ],
             [
              1,
              "#f0f921"
             ]
            ],
            "type": "contour"
           }
          ],
          "contourcarpet": [
           {
            "colorbar": {
             "outlinewidth": 0,
             "ticks": ""
            },
            "type": "contourcarpet"
           }
          ],
          "heatmap": [
           {
            "colorbar": {
             "outlinewidth": 0,
             "ticks": ""
            },
            "colorscale": [
             [
              0,
              "#0d0887"
             ],
             [
              0.1111111111111111,
              "#46039f"
             ],
             [
              0.2222222222222222,
              "#7201a8"
             ],
             [
              0.3333333333333333,
              "#9c179e"
             ],
             [
              0.4444444444444444,
              "#bd3786"
             ],
             [
              0.5555555555555556,
              "#d8576b"
             ],
             [
              0.6666666666666666,
              "#ed7953"
             ],
             [
              0.7777777777777778,
              "#fb9f3a"
             ],
             [
              0.8888888888888888,
              "#fdca26"
             ],
             [
              1,
              "#f0f921"
             ]
            ],
            "type": "heatmap"
           }
          ],
          "heatmapgl": [
           {
            "colorbar": {
             "outlinewidth": 0,
             "ticks": ""
            },
            "colorscale": [
             [
              0,
              "#0d0887"
             ],
             [
              0.1111111111111111,
              "#46039f"
             ],
             [
              0.2222222222222222,
              "#7201a8"
             ],
             [
              0.3333333333333333,
              "#9c179e"
             ],
             [
              0.4444444444444444,
              "#bd3786"
             ],
             [
              0.5555555555555556,
              "#d8576b"
             ],
             [
              0.6666666666666666,
              "#ed7953"
             ],
             [
              0.7777777777777778,
              "#fb9f3a"
             ],
             [
              0.8888888888888888,
              "#fdca26"
             ],
             [
              1,
              "#f0f921"
             ]
            ],
            "type": "heatmapgl"
           }
          ],
          "histogram": [
           {
            "marker": {
             "pattern": {
              "fillmode": "overlay",
              "size": 10,
              "solidity": 0.2
             }
            },
            "type": "histogram"
           }
          ],
          "histogram2d": [
           {
            "colorbar": {
             "outlinewidth": 0,
             "ticks": ""
            },
            "colorscale": [
             [
              0,
              "#0d0887"
             ],
             [
              0.1111111111111111,
              "#46039f"
             ],
             [
              0.2222222222222222,
              "#7201a8"
             ],
             [
              0.3333333333333333,
              "#9c179e"
             ],
             [
              0.4444444444444444,
              "#bd3786"
             ],
             [
              0.5555555555555556,
              "#d8576b"
             ],
             [
              0.6666666666666666,
              "#ed7953"
             ],
             [
              0.7777777777777778,
              "#fb9f3a"
             ],
             [
              0.8888888888888888,
              "#fdca26"
             ],
             [
              1,
              "#f0f921"
             ]
            ],
            "type": "histogram2d"
           }
          ],
          "histogram2dcontour": [
           {
            "colorbar": {
             "outlinewidth": 0,
             "ticks": ""
            },
            "colorscale": [
             [
              0,
              "#0d0887"
             ],
             [
              0.1111111111111111,
              "#46039f"
             ],
             [
              0.2222222222222222,
              "#7201a8"
             ],
             [
              0.3333333333333333,
              "#9c179e"
             ],
             [
              0.4444444444444444,
              "#bd3786"
             ],
             [
              0.5555555555555556,
              "#d8576b"
             ],
             [
              0.6666666666666666,
              "#ed7953"
             ],
             [
              0.7777777777777778,
              "#fb9f3a"
             ],
             [
              0.8888888888888888,
              "#fdca26"
             ],
             [
              1,
              "#f0f921"
             ]
            ],
            "type": "histogram2dcontour"
           }
          ],
          "mesh3d": [
           {
            "colorbar": {
             "outlinewidth": 0,
             "ticks": ""
            },
            "type": "mesh3d"
           }
          ],
          "parcoords": [
           {
            "line": {
             "colorbar": {
              "outlinewidth": 0,
              "ticks": ""
             }
            },
            "type": "parcoords"
           }
          ],
          "pie": [
           {
            "automargin": true,
            "type": "pie"
           }
          ],
          "scatter": [
           {
            "fillpattern": {
             "fillmode": "overlay",
             "size": 10,
             "solidity": 0.2
            },
            "type": "scatter"
           }
          ],
          "scatter3d": [
           {
            "line": {
             "colorbar": {
              "outlinewidth": 0,
              "ticks": ""
             }
            },
            "marker": {
             "colorbar": {
              "outlinewidth": 0,
              "ticks": ""
             }
            },
            "type": "scatter3d"
           }
          ],
          "scattercarpet": [
           {
            "marker": {
             "colorbar": {
              "outlinewidth": 0,
              "ticks": ""
             }
            },
            "type": "scattercarpet"
           }
          ],
          "scattergeo": [
           {
            "marker": {
             "colorbar": {
              "outlinewidth": 0,
              "ticks": ""
             }
            },
            "type": "scattergeo"
           }
          ],
          "scattergl": [
           {
            "marker": {
             "colorbar": {
              "outlinewidth": 0,
              "ticks": ""
             }
            },
            "type": "scattergl"
           }
          ],
          "scattermapbox": [
           {
            "marker": {
             "colorbar": {
              "outlinewidth": 0,
              "ticks": ""
             }
            },
            "type": "scattermapbox"
           }
          ],
          "scatterpolar": [
           {
            "marker": {
             "colorbar": {
              "outlinewidth": 0,
              "ticks": ""
             }
            },
            "type": "scatterpolar"
           }
          ],
          "scatterpolargl": [
           {
            "marker": {
             "colorbar": {
              "outlinewidth": 0,
              "ticks": ""
             }
            },
            "type": "scatterpolargl"
           }
          ],
          "scatterternary": [
           {
            "marker": {
             "colorbar": {
              "outlinewidth": 0,
              "ticks": ""
             }
            },
            "type": "scatterternary"
           }
          ],
          "surface": [
           {
            "colorbar": {
             "outlinewidth": 0,
             "ticks": ""
            },
            "colorscale": [
             [
              0,
              "#0d0887"
             ],
             [
              0.1111111111111111,
              "#46039f"
             ],
             [
              0.2222222222222222,
              "#7201a8"
             ],
             [
              0.3333333333333333,
              "#9c179e"
             ],
             [
              0.4444444444444444,
              "#bd3786"
             ],
             [
              0.5555555555555556,
              "#d8576b"
             ],
             [
              0.6666666666666666,
              "#ed7953"
             ],
             [
              0.7777777777777778,
              "#fb9f3a"
             ],
             [
              0.8888888888888888,
              "#fdca26"
             ],
             [
              1,
              "#f0f921"
             ]
            ],
            "type": "surface"
           }
          ],
          "table": [
           {
            "cells": {
             "fill": {
              "color": "#EBF0F8"
             },
             "line": {
              "color": "white"
             }
            },
            "header": {
             "fill": {
              "color": "#C8D4E3"
             },
             "line": {
              "color": "white"
             }
            },
            "type": "table"
           }
          ]
         },
         "layout": {
          "annotationdefaults": {
           "arrowcolor": "#2a3f5f",
           "arrowhead": 0,
           "arrowwidth": 1
          },
          "autotypenumbers": "strict",
          "coloraxis": {
           "colorbar": {
            "outlinewidth": 0,
            "ticks": ""
           }
          },
          "colorscale": {
           "diverging": [
            [
             0,
             "#8e0152"
            ],
            [
             0.1,
             "#c51b7d"
            ],
            [
             0.2,
             "#de77ae"
            ],
            [
             0.3,
             "#f1b6da"
            ],
            [
             0.4,
             "#fde0ef"
            ],
            [
             0.5,
             "#f7f7f7"
            ],
            [
             0.6,
             "#e6f5d0"
            ],
            [
             0.7,
             "#b8e186"
            ],
            [
             0.8,
             "#7fbc41"
            ],
            [
             0.9,
             "#4d9221"
            ],
            [
             1,
             "#276419"
            ]
           ],
           "sequential": [
            [
             0,
             "#0d0887"
            ],
            [
             0.1111111111111111,
             "#46039f"
            ],
            [
             0.2222222222222222,
             "#7201a8"
            ],
            [
             0.3333333333333333,
             "#9c179e"
            ],
            [
             0.4444444444444444,
             "#bd3786"
            ],
            [
             0.5555555555555556,
             "#d8576b"
            ],
            [
             0.6666666666666666,
             "#ed7953"
            ],
            [
             0.7777777777777778,
             "#fb9f3a"
            ],
            [
             0.8888888888888888,
             "#fdca26"
            ],
            [
             1,
             "#f0f921"
            ]
           ],
           "sequentialminus": [
            [
             0,
             "#0d0887"
            ],
            [
             0.1111111111111111,
             "#46039f"
            ],
            [
             0.2222222222222222,
             "#7201a8"
            ],
            [
             0.3333333333333333,
             "#9c179e"
            ],
            [
             0.4444444444444444,
             "#bd3786"
            ],
            [
             0.5555555555555556,
             "#d8576b"
            ],
            [
             0.6666666666666666,
             "#ed7953"
            ],
            [
             0.7777777777777778,
             "#fb9f3a"
            ],
            [
             0.8888888888888888,
             "#fdca26"
            ],
            [
             1,
             "#f0f921"
            ]
           ]
          },
          "colorway": [
           "#636efa",
           "#EF553B",
           "#00cc96",
           "#ab63fa",
           "#FFA15A",
           "#19d3f3",
           "#FF6692",
           "#B6E880",
           "#FF97FF",
           "#FECB52"
          ],
          "font": {
           "color": "#2a3f5f"
          },
          "geo": {
           "bgcolor": "white",
           "lakecolor": "white",
           "landcolor": "#E5ECF6",
           "showlakes": true,
           "showland": true,
           "subunitcolor": "white"
          },
          "hoverlabel": {
           "align": "left"
          },
          "hovermode": "closest",
          "mapbox": {
           "style": "light"
          },
          "paper_bgcolor": "white",
          "plot_bgcolor": "#E5ECF6",
          "polar": {
           "angularaxis": {
            "gridcolor": "white",
            "linecolor": "white",
            "ticks": ""
           },
           "bgcolor": "#E5ECF6",
           "radialaxis": {
            "gridcolor": "white",
            "linecolor": "white",
            "ticks": ""
           }
          },
          "scene": {
           "xaxis": {
            "backgroundcolor": "#E5ECF6",
            "gridcolor": "white",
            "gridwidth": 2,
            "linecolor": "white",
            "showbackground": true,
            "ticks": "",
            "zerolinecolor": "white"
           },
           "yaxis": {
            "backgroundcolor": "#E5ECF6",
            "gridcolor": "white",
            "gridwidth": 2,
            "linecolor": "white",
            "showbackground": true,
            "ticks": "",
            "zerolinecolor": "white"
           },
           "zaxis": {
            "backgroundcolor": "#E5ECF6",
            "gridcolor": "white",
            "gridwidth": 2,
            "linecolor": "white",
            "showbackground": true,
            "ticks": "",
            "zerolinecolor": "white"
           }
          },
          "shapedefaults": {
           "line": {
            "color": "#2a3f5f"
           }
          },
          "ternary": {
           "aaxis": {
            "gridcolor": "white",
            "linecolor": "white",
            "ticks": ""
           },
           "baxis": {
            "gridcolor": "white",
            "linecolor": "white",
            "ticks": ""
           },
           "bgcolor": "#E5ECF6",
           "caxis": {
            "gridcolor": "white",
            "linecolor": "white",
            "ticks": ""
           }
          },
          "title": {
           "x": 0.05
          },
          "xaxis": {
           "automargin": true,
           "gridcolor": "white",
           "linecolor": "white",
           "ticks": "",
           "title": {
            "standoff": 15
           },
           "zerolinecolor": "white",
           "zerolinewidth": 2
          },
          "yaxis": {
           "automargin": true,
           "gridcolor": "white",
           "linecolor": "white",
           "ticks": "",
           "title": {
            "standoff": 15
           },
           "zerolinecolor": "white",
           "zerolinewidth": 2
          }
         }
        }
       }
      }
     },
     "metadata": {},
     "output_type": "display_data"
    }
   ],
   "source": [
    "fig = go.Figure()\n",
    "fig.add_traces(\n",
    "    go.Scatter(\n",
    "        x=frame.mds_1,\n",
    "        y=frame.mds_2,\n",
    "        mode=\"markers\",\n",
    "        marker={\n",
    "            \"color\":frame.kmeans\n",
    "        }\n",
    "    )\n",
    ")"
   ]
  },
  {
   "cell_type": "code",
   "execution_count": 57,
   "metadata": {},
   "outputs": [
    {
     "data": {
      "application/vnd.plotly.v1+json": {
       "config": {
        "plotlyServerURL": "https://plot.ly"
       },
       "data": [
        {
         "marker": {
          "color": [
           2,
           2,
           2,
           2,
           2,
           2,
           2,
           2,
           2,
           2,
           2,
           4,
           4,
           4,
           4,
           4,
           4,
           3,
           2,
           2,
           2,
           2,
           2,
           2,
           2,
           2,
           2,
           2,
           2,
           0,
           5,
           2,
           2,
           2,
           2,
           2,
           2,
           2,
           2,
           2,
           2,
           2,
           2,
           2,
           2,
           2,
           2,
           2,
           2,
           2,
           2,
           2,
           2,
           2,
           2,
           2,
           2,
           2,
           2,
           2,
           2,
           4,
           4,
           2,
           6,
           4,
           6,
           4,
           3,
           4,
           4,
           6,
           3,
           6,
           4,
           6,
           3,
           4,
           3,
           4,
           2,
           2,
           2,
           2,
           2,
           2,
           2,
           2,
           2,
           2,
           2,
           2,
           2,
           2,
           2,
           2,
           2,
           2,
           2,
           2,
           2,
           2,
           2,
           2,
           2,
           2,
           2,
           2,
           2,
           2,
           2,
           2,
           2,
           2,
           0,
           5,
           0,
           0,
           0,
           0,
           0,
           0,
           0,
           2,
           0,
           2,
           2,
           2,
           2,
           2,
           2,
           0,
           0,
           2,
           2,
           1,
           2,
           2,
           5,
           5,
           1,
           1,
           1,
           1,
           1,
           2,
           2,
           2,
           5,
           5,
           5,
           1,
           5,
           5,
           5,
           5,
           5,
           5,
           0,
           1,
           1,
           5,
           2,
           2,
           1,
           1,
           5,
           5,
           5,
           5,
           5,
           5,
           5,
           1,
           1,
           1,
           1,
           1,
           1,
           1,
           1,
           1,
           5,
           5,
           5,
           1,
           1,
           1,
           5,
           5,
           5,
           1,
           1,
           1,
           2,
           2,
           2,
           5,
           2,
           2,
           2,
           2,
           2,
           2,
           2,
           2,
           2,
           2,
           2,
           2,
           5,
           1,
           1,
           5,
           0,
           5,
           5,
           5,
           5,
           5,
           5,
           5,
           5,
           5,
           5,
           5,
           5,
           1,
           1,
           1,
           5,
           5,
           5,
           5,
           1,
           2,
           2,
           2,
           2,
           2,
           2,
           5,
           5,
           5,
           1,
           1,
           1,
           1,
           1,
           1,
           1,
           1,
           1,
           1,
           1,
           1,
           1,
           1,
           1,
           1,
           1,
           1,
           1,
           1,
           1,
           1,
           1,
           1,
           1,
           1,
           1,
           1,
           1,
           1,
           1,
           1,
           1,
           1,
           1,
           1,
           1,
           1,
           1,
           1,
           1,
           1,
           1,
           1,
           1,
           1,
           1,
           1,
           1,
           1,
           1,
           1,
           0,
           0,
           0,
           0,
           5,
           5,
           0,
           0,
           1,
           1,
           1,
           1,
           1,
           1,
           1,
           1,
           1,
           1,
           1,
           0,
           0,
           5,
           5,
           0,
           5,
           5,
           0,
           1,
           1,
           1,
           1,
           1,
           1,
           1,
           1,
           1,
           1,
           1,
           1,
           5,
           1,
           1,
           0,
           0,
           0,
           0,
           0,
           0,
           0,
           5,
           0,
           1,
           1,
           1,
           1,
           1,
           1,
           1,
           1,
           1,
           1,
           1,
           1,
           1,
           1,
           1,
           1,
           1,
           1,
           1,
           1,
           1,
           1,
           1,
           1,
           1,
           1,
           1,
           1,
           1,
           1,
           1,
           1,
           1,
           1,
           1,
           1,
           1,
           1,
           1,
           1,
           1,
           1,
           1,
           1,
           1,
           1,
           1,
           1,
           1,
           1,
           1,
           1,
           5,
           5,
           1,
           5,
           5,
           5,
           1,
           1,
           1,
           1,
           1,
           1,
           1,
           1,
           1,
           1,
           1,
           1,
           1,
           1,
           1,
           1,
           3,
           1,
           3,
           6,
           6,
           4,
           6,
           4,
           4,
           3,
           6,
           4,
           3,
           6,
           3,
           6,
           4,
           3,
           4,
           4,
           4,
           6,
           4,
           4,
           6,
           3,
           6,
           6,
           1,
           1,
           1,
           1,
           1,
           1,
           1,
           2,
           2,
           2,
           2,
           2,
           2,
           2,
           2,
           2,
           2,
           5,
           5,
           5,
           5,
           0,
           5,
           5,
           2,
           1,
           1,
           5,
           5,
           5,
           5,
           0,
           0,
           5,
           1,
           1,
           1,
           1,
           1,
           1,
           1,
           1,
           1,
           1,
           1,
           1,
           2,
           1,
           1,
           1,
           1,
           1,
           1,
           1,
           1,
           1,
           1,
           1,
           1,
           1,
           1,
           1
          ]
         },
         "mode": "markers",
         "type": "scatter",
         "x": [
          -3.312913179397583,
          -3.6717307567596436,
          -3.1678240299224854,
          -4.4282121658325195,
          -3.237931251525879,
          -2.829298257827759,
          -2.444181442260742,
          -4.000211238861084,
          -3.6400516033172607,
          -3.690115213394165,
          -2.545602798461914,
          -0.9413518905639648,
          0.25327402353286743,
          -0.8899003267288208,
          -1.2042179107666016,
          3.5312674045562744,
          0.997111976146698,
          4.015323638916016,
          -9.8584623336792,
          -4.41538143157959,
          -9.39022159576416,
          -6.5634989738464355,
          -4.253561973571777,
          -5.633397579193115,
          -3.9824647903442383,
          -7.5768327713012695,
          -4.331103801727295,
          -7.2756829261779785,
          -4.85093355178833,
          17.007883071899414,
          19.445281982421875,
          -4.633917331695557,
          -4.67904806137085,
          -6.252791881561279,
          -9.180550575256348,
          -4.561184883117676,
          -9.620247840881348,
          -4.919503211975098,
          -4.4604058265686035,
          -5.229879379272461,
          -4.683014869689941,
          -3.996642827987671,
          -5.898343086242676,
          -8.505501747131348,
          -9.098889350891113,
          -4.617225170135498,
          -7.4188055992126465,
          -5.74727201461792,
          -7.498770236968994,
          -5.671165943145752,
          -6.290252208709717,
          -6.951970100402832,
          -8.774606704711914,
          -6.810522079467773,
          -4.833528518676758,
          -5.667821407318115,
          -5.055119037628174,
          -7.184268951416016,
          -9.28987979888916,
          -7.952973365783691,
          -4.269379138946533,
          0.47114497423171997,
          -0.0008975598029792309,
          -3.8068015575408936,
          2.826387643814087,
          4.843921184539795,
          3.370037078857422,
          0.515600323677063,
          2.195793390274048,
          -0.24834132194519043,
          3.460752010345459,
          3.460202693939209,
          3.222398281097412,
          2.931898355484009,
          0.057217858731746674,
          2.7667932510375977,
          2.543980360031128,
          0.7094888091087341,
          1.8703035116195679,
          0.37868019938468933,
          -5.342703819274902,
          -1.6309200525283813,
          -2.889361619949341,
          -2.7309799194335938,
          -2.1271541118621826,
          -5.705074310302734,
          -3.7227182388305664,
          -4.892444133758545,
          -3.432265043258667,
          -3.1271610260009766,
          -2.406543731689453,
          -2.661497116088867,
          -2.5015413761138916,
          -4.818913459777832,
          -3.491903066635132,
          -2.9837758541107178,
          -1.717755675315857,
          -2.0559301376342773,
          -2.9300055503845215,
          -2.2459163665771484,
          -4.92523193359375,
          -3.015815019607544,
          -0.8581346869468689,
          -2.882655382156372,
          -2.8784549236297607,
          -1.5269335508346558,
          -3.190915584564209,
          -1.2932766675949097,
          -1.1783607006072998,
          -4.139980792999268,
          -10.11108684539795,
          -8.183443069458008,
          -7.530334949493408,
          -7.5911335945129395,
          15.7310152053833,
          19.049001693725586,
          14.309104919433594,
          15.046354293823242,
          13.975981712341309,
          13.847521781921387,
          15.297033309936523,
          14.644622802734375,
          16.117238998413086,
          -4.995851516723633,
          15.578963279724121,
          -5.337759017944336,
          -3.2333431243896484,
          -2.8570268154144287,
          -2.870265245437622,
          -3.0939559936523438,
          -3.558267831802368,
          13.601482391357422,
          15.243093490600586,
          -4.109428405761719,
          -3.8665642738342285,
          -6.5753912925720215,
          -6.2771782875061035,
          -7.78926944732666,
          19.50069236755371,
          19.508955001831055,
          -6.758658409118652,
          -2.3210976123809814,
          -5.685502052307129,
          -4.161134719848633,
          1.0604150295257568,
          -7.1450581550598145,
          -7.623528480529785,
          -8.033856391906738,
          18.92972183227539,
          18.90496826171875,
          18.766633987426758,
          -6.681779384613037,
          19.426311492919922,
          17.6269588470459,
          19.781415939331055,
          19.033733367919922,
          19.4958553314209,
          19.13634490966797,
          16.03272247314453,
          -4.556154251098633,
          -1.1611791849136353,
          17.601041793823242,
          -6.171479225158691,
          -6.221456527709961,
          -7.326069355010986,
          -4.110820293426514,
          17.719030380249023,
          17.11247444152832,
          18.827411651611328,
          18.134292602539062,
          18.165943145751953,
          19.605321884155273,
          19.24252700805664,
          -6.570442199707031,
          -4.860781669616699,
          -3.7060465812683105,
          -1.22165846824646,
          -1.2003456354141235,
          -3.6733484268188477,
          -6.321618556976318,
          -4.284134387969971,
          -7.612022876739502,
          17.790279388427734,
          18.415939331054688,
          18.819278717041016,
          -2.579718589782715,
          -4.806764602661133,
          -4.706568717956543,
          20.276233673095703,
          19.08592987060547,
          18.956632614135742,
          -3.038367509841919,
          -7.303060054779053,
          -4.661380767822266,
          -8.840437889099121,
          -8.821227073669434,
          -8.688715934753418,
          16.23858642578125,
          -6.672200679779053,
          -7.999459743499756,
          -8.201252937316895,
          -8.459680557250977,
          -7.988786697387695,
          -9.418320655822754,
          -8.818803787231445,
          -7.140717506408691,
          -7.176424026489258,
          -9.377631187438965,
          -8.551703453063965,
          -9.908000946044922,
          20.750545501708984,
          -2.803968906402588,
          -5.7055344581604,
          18.702665328979492,
          14.217251777648926,
          18.506595611572266,
          18.711223602294922,
          18.370616912841797,
          15.984040260314941,
          18.61172103881836,
          19.949914932250977,
          20.241016387939453,
          17.40016746520996,
          19.371456146240234,
          20.051118850708008,
          18.7719783782959,
          18.80776023864746,
          -4.799781799316406,
          -3.1068172454833984,
          -7.671019077301025,
          19.932523727416992,
          19.093061447143555,
          17.843143463134766,
          18.207862854003906,
          -3.7334611415863037,
          -7.313440799713135,
          -7.518303871154785,
          -7.121566295623779,
          -9.998810768127441,
          -7.946274757385254,
          -9.127007484436035,
          18.356895446777344,
          19.10980987548828,
          18.439435958862305,
          -4.055854797363281,
          -3.5288610458374023,
          -4.405364513397217,
          -5.687139511108398,
          -2.9760971069335938,
          -4.167715072631836,
          0.35285595059394836,
          -0.4861498177051544,
          -0.9636269211769104,
          -1.0334398746490479,
          -6.642727375030518,
          -0.372862845659256,
          -2.992197275161743,
          -5.151335716247559,
          -4.211209297180176,
          0.786664605140686,
          0.06705017387866974,
          -5.0247650146484375,
          -3.7174313068389893,
          -5.0789313316345215,
          -5.402063369750977,
          -6.478038311004639,
          -5.820777416229248,
          -2.102116823196411,
          -5.3542914390563965,
          -4.609566688537598,
          -3.0448858737945557,
          -1.6256412267684937,
          -5.518775463104248,
          -5.925455093383789,
          -4.897345542907715,
          -3.72511887550354,
          -7.222292423248291,
          -5.398007869720459,
          -5.013993263244629,
          -3.515918493270874,
          -6.919663906097412,
          -5.386194705963135,
          -7.4947991371154785,
          -9.262578010559082,
          -9.192286491394043,
          -5.381925582885742,
          -7.500537395477295,
          -0.9857805967330933,
          -3.9573655128479004,
          -1.4203587770462036,
          -1.485782265663147,
          -1.2652947902679443,
          -1.6331651210784912,
          -2.6850929260253906,
          -3.9732730388641357,
          -1.626671314239502,
          14.254354476928711,
          13.125685691833496,
          15.133234977722168,
          15.173267364501953,
          18.738929748535156,
          16.38498878479004,
          15.812395095825195,
          15.569008827209473,
          -2.681878089904785,
          -6.624831199645996,
          -4.477851390838623,
          -1.3322685956954956,
          -1.7728054523468018,
          -2.1903278827667236,
          -1.6031060218811035,
          -3.7936692237854004,
          0.07633951306343079,
          -4.23307991027832,
          -1.3082321882247925,
          14.937409400939941,
          14.923623085021973,
          17.005149841308594,
          18.68466567993164,
          14.012563705444336,
          19.170547485351562,
          18.351009368896484,
          14.699914932250977,
          -5.0066375732421875,
          -7.25413703918457,
          -6.800618648529053,
          -1.8900066614151,
          -1.428422451019287,
          -2.7884361743927,
          -9.047473907470703,
          -6.10330057144165,
          -4.219050884246826,
          -2.4473133087158203,
          -1.6999397277832031,
          0.58309406042099,
          16.852392196655273,
          -4.047702789306641,
          -2.6144704818725586,
          15.690300941467285,
          14.187739372253418,
          14.497187614440918,
          14.65493392944336,
          14.445590019226074,
          15.783220291137695,
          14.278069496154785,
          16.44473648071289,
          14.68744945526123,
          -8.610496520996094,
          -1.1513432264328003,
          -0.04674519598484039,
          -3.250352621078491,
          -1.5189306735992432,
          -1.191329002380371,
          -3.43355131149292,
          -1.3531808853149414,
          -1.4365273714065552,
          -1.0003830194473267,
          -3.6898562908172607,
          1.0111182928085327,
          -4.042771816253662,
          -4.7960920333862305,
          -0.9455215930938721,
          -0.6259585022926331,
          -3.2919723987579346,
          -1.6328892707824707,
          -6.737462997436523,
          -2.0224969387054443,
          -2.5373876094818115,
          0.17000509798526764,
          -0.5045773983001709,
          -0.390206903219223,
          0.7255460023880005,
          1.580817699432373,
          1.2737284898757935,
          -0.7776152491569519,
          1.0363414287567139,
          -1.0932605266571045,
          -0.7346351742744446,
          1.9371023178100586,
          -7.368697643280029,
          1.5542972087860107,
          -2.0297183990478516,
          -7.431571960449219,
          -8.36323070526123,
          -1.7957980632781982,
          1.0041664838790894,
          -0.45208561420440674,
          -0.5659258961677551,
          -1.2580126523971558,
          -0.07168182730674744,
          -6.728946208953857,
          0.12415125966072083,
          0.25904613733291626,
          -2.430288553237915,
          -0.5970836877822876,
          -1.0063964128494263,
          -1.516030192375183,
          -2.4516072273254395,
          -0.6495001316070557,
          16.130741119384766,
          19.922086715698242,
          -2.0779483318328857,
          18.101688385009766,
          20.216041564941406,
          17.828134536743164,
          -2.5868327617645264,
          -2.924248456954956,
          -3.484520673751831,
          -4.466747283935547,
          -3.221238851547241,
          -7.214489459991455,
          0.5183494091033936,
          -3.354393482208252,
          -3.726219654083252,
          -6.2554612159729,
          -6.395046710968018,
          -3.882869005203247,
          -4.103868007659912,
          -7.740318775177002,
          -2.818760395050049,
          -7.593097686767578,
          1.9518786668777466,
          -2.746594190597534,
          1.8641458749771118,
          3.803279399871826,
          4.1602888107299805,
          0.2319054752588272,
          3.5253822803497314,
          1.4213429689407349,
          1.1522425413131714,
          3.3992197513580322,
          2.919987201690674,
          1.9150278568267822,
          3.0497026443481445,
          2.8118932247161865,
          4.851828098297119,
          3.2510526180267334,
          3.176778554916382,
          3.242577075958252,
          2.501837730407715,
          2.340453624725342,
          4.512050628662109,
          2.5317389965057373,
          1.5813215970993042,
          2.082251787185669,
          3.786689043045044,
          2.267324686050415,
          2.6568679809570312,
          4.213705539703369,
          -0.14317066967487335,
          -2.8407280445098877,
          -3.253852367401123,
          -2.8320860862731934,
          -2.7241930961608887,
          -2.77583384513855,
          -2.857992649078369,
          -6.69500207901001,
          -9.460865020751953,
          -6.854694843292236,
          -6.07589054107666,
          -4.428313732147217,
          -3.994670867919922,
          -8.323813438415527,
          -3.9454305171966553,
          -9.11221694946289,
          -6.690659523010254,
          20.10178565979004,
          17.649791717529297,
          17.52631950378418,
          19.01822280883789,
          16.719959259033203,
          19.110794067382812,
          17.352943420410156,
          -3.102599620819092,
          -3.8848087787628174,
          -7.315487384796143,
          20.505474090576172,
          17.420536041259766,
          17.491790771484375,
          17.62932586669922,
          15.870929718017578,
          16.758649826049805,
          17.445253372192383,
          0.4309595823287964,
          -0.06294500082731247,
          -7.178508758544922,
          -6.233481407165527,
          -6.934658050537109,
          -5.088912010192871,
          -0.25461024045944214,
          -5.040158271789551,
          -7.256340026855469,
          -0.4705897867679596,
          -0.48086732625961304,
          0.42436084151268005,
          -2.576524019241333,
          1.0808238983154297,
          1.008414626121521,
          -0.8083906173706055,
          1.93955659866333,
          1.4948828220367432,
          0.4946436882019043,
          0.5374695658683777,
          1.5483275651931763,
          -0.9686563014984131,
          -1.4076331853866577,
          1.671647071838379,
          1.315842628479004,
          -0.020235037431120872,
          1.2605977058410645,
          -0.8786037564277649
         ],
         "y": [
          21.522140502929688,
          22.373825073242188,
          19.955425262451172,
          13.068546295166016,
          21.42955207824707,
          21.31420135498047,
          21.40508460998535,
          21.900175094604492,
          22.0435791015625,
          23.00707244873047,
          23.188800811767578,
          6.465243816375732,
          3.80461049079895,
          5.147342205047607,
          7.919821262359619,
          2.272792100906372,
          2.8864846229553223,
          5.709259510040283,
          16.43509292602539,
          23.94268035888672,
          16.30186653137207,
          13.368303298950195,
          24.502735137939453,
          12.29223346710205,
          25.418066024780273,
          13.610607147216797,
          25.731582641601562,
          15.277664184570312,
          22.87693214416504,
          0.8524478673934937,
          0.0650496855378151,
          22.832414627075195,
          24.461288452148438,
          12.513484001159668,
          16.076982498168945,
          25.038677215576172,
          15.798300743103027,
          24.198986053466797,
          21.98024559020996,
          23.54596519470215,
          23.460113525390625,
          24.373340606689453,
          13.442336082458496,
          15.44624137878418,
          15.686371803283691,
          25.122251510620117,
          15.599024772644043,
          22.216964721679688,
          15.450078010559082,
          12.999051094055176,
          12.765958786010742,
          13.546756744384766,
          15.170433044433594,
          13.565287590026855,
          25.434526443481445,
          12.582428932189941,
          23.476451873779297,
          12.923206329345703,
          15.531865119934082,
          14.866538047790527,
          24.58429527282715,
          5.530093669891357,
          7.078114032745361,
          22.663724899291992,
          3.633976936340332,
          5.760159969329834,
          5.1814117431640625,
          5.2159881591796875,
          2.7244315147399902,
          5.860896587371826,
          6.913197994232178,
          4.454309940338135,
          4.752648830413818,
          5.99489688873291,
          6.6649675369262695,
          4.6723480224609375,
          4.910996437072754,
          6.357050895690918,
          4.790665149688721,
          6.342036724090576,
          24.34718894958496,
          21.586816787719727,
          22.415027618408203,
          23.323137283325195,
          22.652252197265625,
          15.537506103515625,
          24.237855911254883,
          20.853103637695312,
          25.164005279541016,
          21.774436950683594,
          20.49571418762207,
          23.300769805908203,
          22.507923126220703,
          13.429551124572754,
          25.362672805786133,
          20.052047729492188,
          21.200984954833984,
          21.230878829956055,
          24.526960372924805,
          22.87090492248535,
          13.841560363769531,
          24.505334854125977,
          21.87712860107422,
          24.395463943481445,
          23.45945930480957,
          22.450157165527344,
          24.117494583129883,
          21.014968872070312,
          22.392332077026367,
          25.157791137695312,
          15.563918113708496,
          11.747976303100586,
          11.319435119628906,
          11.578654289245605,
          1.3816636800765991,
          -1.4058418273925781,
          2.391681432723999,
          0.5542510747909546,
          3.4814281463623047,
          3.5264763832092285,
          -0.4231632351875305,
          1.1447858810424805,
          -0.7946781516075134,
          13.038067817687988,
          -0.09334684163331985,
          14.320558547973633,
          21.9611873626709,
          22.92165184020996,
          22.91563606262207,
          21.901124954223633,
          23.395889282226562,
          2.583313465118408,
          -0.3844216763973236,
          12.74035358428955,
          22.243331909179688,
          -6.574787616729736,
          22.74319076538086,
          11.369346618652344,
          4.973320960998535,
          4.736783504486084,
          -6.371494293212891,
          -10.127779006958008,
          -16.579267501831055,
          -15.839942932128906,
          -16.004255294799805,
          12.262350082397461,
          12.663627624511719,
          12.172892570495605,
          5.0250701904296875,
          5.087099552154541,
          5.076032638549805,
          -6.461737155914307,
          0.5108417272567749,
          -0.533051073551178,
          1.074159026145935,
          3.0844569206237793,
          2.070600748062134,
          2.3329198360443115,
          1.312573790550232,
          -13.233917236328125,
          -11.513568878173828,
          4.3909101486206055,
          11.449357032775879,
          11.885391235351562,
          -14.745749473571777,
          -14.825508117675781,
          3.917104959487915,
          3.0944457054138184,
          2.8758442401885986,
          3.5785036087036133,
          2.6669092178344727,
          3.8974456787109375,
          0.7918224930763245,
          -18.029664993286133,
          -13.056800842285156,
          -14.921036720275879,
          -18.189924240112305,
          -16.10626983642578,
          -10.074813842773438,
          -10.195389747619629,
          -18.51462745666504,
          -15.256963729858398,
          -0.4818720519542694,
          3.2970941066741943,
          3.4881157875061035,
          -18.870912551879883,
          -15.944318771362305,
          -12.697608947753906,
          2.5401740074157715,
          3.267157793045044,
          3.798964262008667,
          -18.98276138305664,
          -9.280752182006836,
          -6.752103805541992,
          14.594439506530762,
          13.858260154724121,
          14.886373519897461,
          0.9924923181533813,
          14.361146926879883,
          13.370914459228516,
          14.257071495056152,
          14.701203346252441,
          14.426478385925293,
          14.480040550231934,
          14.142121315002441,
          14.524494171142578,
          14.453743934631348,
          14.914748191833496,
          14.279918670654297,
          15.056055068969727,
          0.5891432762145996,
          -10.963191986083984,
          -16.843664169311523,
          -1.8830243349075317,
          2.5467329025268555,
          -2.0836703777313232,
          -0.43526774644851685,
          -1.6689406633377075,
          1.9982205629348755,
          -1.9453519582748413,
          1.2208729982376099,
          1.1488792896270752,
          -0.7452532649040222,
          1.72358238697052,
          0.7644062638282776,
          0.742348313331604,
          1.210324764251709,
          -16.9890079498291,
          -15.337967872619629,
          -12.248955726623535,
          1.9430655241012573,
          2.52146053314209,
          3.49196457862854,
          2.8604791164398193,
          -9.681344032287598,
          13.331588745117188,
          14.007415771484375,
          13.131428718566895,
          15.459273338317871,
          15.220558166503906,
          14.463689804077148,
          -0.09000371396541595,
          2.188795566558838,
          0.4733819365501404,
          -11.226563453674316,
          -18.424907684326172,
          -12.32601261138916,
          -17.97402572631836,
          -17.609962463378906,
          -11.734123229980469,
          -16.42724609375,
          -17.863567352294922,
          -19.712400436401367,
          -14.501103401184082,
          -14.428032875061035,
          -13.083281517028809,
          -19.540355682373047,
          -9.721200942993164,
          -8.910270690917969,
          -9.61229133605957,
          -14.893752098083496,
          -8.581010818481445,
          -14.580272674560547,
          -8.532480239868164,
          -8.419787406921387,
          -12.20888614654541,
          -17.661476135253906,
          -13.170002937316895,
          -9.651533126831055,
          -11.073118209838867,
          -14.199894905090332,
          -14.150787353515625,
          -9.595209121704102,
          -10.285418510437012,
          -7.6860737800598145,
          -18.736474990844727,
          -15.170543670654297,
          -8.557327270507812,
          -11.445244789123535,
          -18.075254440307617,
          -14.074911117553711,
          -11.329363822937012,
          -14.869414329528809,
          -13.076452255249023,
          -12.970571517944336,
          -10.770946502685547,
          -15.468231201171875,
          -13.819052696228027,
          -12.965147018432617,
          -15.191113471984863,
          -13.172525405883789,
          -15.10360050201416,
          -19.579669952392578,
          -14.557894706726074,
          -11.84985065460205,
          -14.077710151672363,
          3.1539828777313232,
          1.6348994970321655,
          0.13157765567302704,
          1.7839797735214233,
          -2.1474716663360596,
          -0.06085525453090668,
          0.7118113040924072,
          2.0125479698181152,
          -19.68348503112793,
          -9.801712036132812,
          -18.628774642944336,
          -11.019763946533203,
          -8.39809799194336,
          -6.559362888336182,
          -20.225378036499023,
          -18.693693161010742,
          -8.922792434692383,
          -10.0607271194458,
          -11.378074645996094,
          -0.10911542177200317,
          2.66776180267334,
          -0.8740440607070923,
          -2.288477659225464,
          2.1895782947540283,
          -1.1117448806762695,
          -2.059148073196411,
          2.892091989517212,
          -16.54374885559082,
          -9.721534729003906,
          -8.849875450134277,
          -13.737936973571777,
          -16.27574920654297,
          -15.704520225524902,
          -12.975536346435547,
          -8.040493965148926,
          -8.120987892150879,
          -18.499290466308594,
          -14.524164199829102,
          -13.310917854309082,
          -1.1139769554138184,
          -8.581825256347656,
          -6.0281853675842285,
          1.5565369129180908,
          3.3896477222442627,
          3.2351794242858887,
          3.9368197917938232,
          2.3073861598968506,
          0.9148707389831543,
          3.0740599632263184,
          -0.6840378642082214,
          0.6702893376350403,
          -13.333307266235352,
          -7.9953389167785645,
          -16.792556762695312,
          -16.546836853027344,
          -18.367704391479492,
          -11.847135543823242,
          -16.19220733642578,
          -13.199895858764648,
          -18.348777770996094,
          -16.776094436645508,
          -8.224928855895996,
          -13.25361442565918,
          -8.238487243652344,
          -16.333433151245117,
          -15.654393196105957,
          -16.589460372924805,
          -13.642027854919434,
          -20.229705810546875,
          -13.209986686706543,
          -20.010986328125,
          -8.735407829284668,
          -8.860261917114258,
          -8.549910545349121,
          -15.444077491760254,
          -12.291379928588867,
          -9.024632453918457,
          -13.462618827819824,
          -18.890033721923828,
          -12.709174156188965,
          -17.496810913085938,
          -18.813602447509766,
          -10.575315475463867,
          -14.311505317687988,
          -11.337522506713867,
          -19.381349563598633,
          -11.046021461486816,
          -11.71915054321289,
          -18.323659896850586,
          -14.142858505249023,
          -18.200944900512695,
          -15.753125190734863,
          -13.735053062438965,
          -15.698081970214844,
          -14.534764289855957,
          -14.368924140930176,
          -13.777559280395508,
          -16.66795539855957,
          -14.138001441955566,
          -15.906725883483887,
          -18.85810661315918,
          -16.817710876464844,
          -14.824822425842285,
          -1.0865802764892578,
          3.082927942276001,
          -18.47660255432129,
          1.6999930143356323,
          1.784994125366211,
          4.144229412078857,
          -10.988567352294922,
          -15.252119064331055,
          -7.263078212738037,
          -17.711977005004883,
          -7.034364223480225,
          -10.327932357788086,
          -9.234756469726562,
          -13.285452842712402,
          -7.731095790863037,
          -11.961275100708008,
          -12.40637493133545,
          -9.61235523223877,
          -6.9154791831970215,
          -10.650409698486328,
          -7.860623359680176,
          -11.397777557373047,
          3.925490140914917,
          -16.54591941833496,
          3.6036248207092285,
          4.657881736755371,
          4.124382495880127,
          6.390949249267578,
          5.871572494506836,
          4.4516496658325195,
          7.472728729248047,
          3.99377703666687,
          5.295445919036865,
          5.966632843017578,
          4.471189975738525,
          4.4233598709106445,
          4.476425647735596,
          5.090662002563477,
          3.36730694770813,
          4.524202346801758,
          5.727633476257324,
          3.60927677154541,
          3.2199087142944336,
          4.920959949493408,
          5.340555667877197,
          6.851257801055908,
          3.684140920639038,
          4.139404773712158,
          4.928605079650879,
          4.988366603851318,
          -8.196942329406738,
          -8.47233772277832,
          -6.595259189605713,
          -7.474185943603516,
          -7.855843544006348,
          -11.245675086975098,
          -9.252192497253418,
          13.389992713928223,
          15.411323547363281,
          13.99807357788086,
          13.574119567871094,
          22.89363670349121,
          23.59059715270996,
          15.383411407470703,
          22.64484405517578,
          15.063658714294434,
          13.863380432128906,
          0.5841730833053589,
          0.9150469899177551,
          1.4292329549789429,
          1.1016894578933716,
          3.7741260528564453,
          1.6314915418624878,
          2.674766778945923,
          22.542036056518555,
          -7.126554489135742,
          -12.03239631652832,
          0.3102220594882965,
          2.0306456089019775,
          2.8578877449035645,
          1.9415546655654907,
          4.450063228607178,
          4.099978446960449,
          0.8598017692565918,
          -11.858171463012695,
          -12.47749137878418,
          -14.201763153076172,
          -12.065876960754395,
          -11.239720344543457,
          -10.938435554504395,
          -13.88856029510498,
          -16.605924606323242,
          -14.193787574768066,
          -12.84262752532959,
          -12.558563232421875,
          -11.898406982421875,
          21.665624618530273,
          -10.131672859191895,
          -9.082322120666504,
          -9.888301849365234,
          -9.334966659545898,
          -9.552906036376953,
          -10.714452743530273,
          -10.628304481506348,
          -9.930618286132812,
          -6.392542839050293,
          -6.522314071655273,
          -9.729992866516113,
          -10.48161792755127,
          -10.561477661132812,
          -10.304815292358398,
          -10.135615348815918
         ]
        }
       ],
       "layout": {
        "template": {
         "data": {
          "bar": [
           {
            "error_x": {
             "color": "#2a3f5f"
            },
            "error_y": {
             "color": "#2a3f5f"
            },
            "marker": {
             "line": {
              "color": "#E5ECF6",
              "width": 0.5
             },
             "pattern": {
              "fillmode": "overlay",
              "size": 10,
              "solidity": 0.2
             }
            },
            "type": "bar"
           }
          ],
          "barpolar": [
           {
            "marker": {
             "line": {
              "color": "#E5ECF6",
              "width": 0.5
             },
             "pattern": {
              "fillmode": "overlay",
              "size": 10,
              "solidity": 0.2
             }
            },
            "type": "barpolar"
           }
          ],
          "carpet": [
           {
            "aaxis": {
             "endlinecolor": "#2a3f5f",
             "gridcolor": "white",
             "linecolor": "white",
             "minorgridcolor": "white",
             "startlinecolor": "#2a3f5f"
            },
            "baxis": {
             "endlinecolor": "#2a3f5f",
             "gridcolor": "white",
             "linecolor": "white",
             "minorgridcolor": "white",
             "startlinecolor": "#2a3f5f"
            },
            "type": "carpet"
           }
          ],
          "choropleth": [
           {
            "colorbar": {
             "outlinewidth": 0,
             "ticks": ""
            },
            "type": "choropleth"
           }
          ],
          "contour": [
           {
            "colorbar": {
             "outlinewidth": 0,
             "ticks": ""
            },
            "colorscale": [
             [
              0,
              "#0d0887"
             ],
             [
              0.1111111111111111,
              "#46039f"
             ],
             [
              0.2222222222222222,
              "#7201a8"
             ],
             [
              0.3333333333333333,
              "#9c179e"
             ],
             [
              0.4444444444444444,
              "#bd3786"
             ],
             [
              0.5555555555555556,
              "#d8576b"
             ],
             [
              0.6666666666666666,
              "#ed7953"
             ],
             [
              0.7777777777777778,
              "#fb9f3a"
             ],
             [
              0.8888888888888888,
              "#fdca26"
             ],
             [
              1,
              "#f0f921"
             ]
            ],
            "type": "contour"
           }
          ],
          "contourcarpet": [
           {
            "colorbar": {
             "outlinewidth": 0,
             "ticks": ""
            },
            "type": "contourcarpet"
           }
          ],
          "heatmap": [
           {
            "colorbar": {
             "outlinewidth": 0,
             "ticks": ""
            },
            "colorscale": [
             [
              0,
              "#0d0887"
             ],
             [
              0.1111111111111111,
              "#46039f"
             ],
             [
              0.2222222222222222,
              "#7201a8"
             ],
             [
              0.3333333333333333,
              "#9c179e"
             ],
             [
              0.4444444444444444,
              "#bd3786"
             ],
             [
              0.5555555555555556,
              "#d8576b"
             ],
             [
              0.6666666666666666,
              "#ed7953"
             ],
             [
              0.7777777777777778,
              "#fb9f3a"
             ],
             [
              0.8888888888888888,
              "#fdca26"
             ],
             [
              1,
              "#f0f921"
             ]
            ],
            "type": "heatmap"
           }
          ],
          "heatmapgl": [
           {
            "colorbar": {
             "outlinewidth": 0,
             "ticks": ""
            },
            "colorscale": [
             [
              0,
              "#0d0887"
             ],
             [
              0.1111111111111111,
              "#46039f"
             ],
             [
              0.2222222222222222,
              "#7201a8"
             ],
             [
              0.3333333333333333,
              "#9c179e"
             ],
             [
              0.4444444444444444,
              "#bd3786"
             ],
             [
              0.5555555555555556,
              "#d8576b"
             ],
             [
              0.6666666666666666,
              "#ed7953"
             ],
             [
              0.7777777777777778,
              "#fb9f3a"
             ],
             [
              0.8888888888888888,
              "#fdca26"
             ],
             [
              1,
              "#f0f921"
             ]
            ],
            "type": "heatmapgl"
           }
          ],
          "histogram": [
           {
            "marker": {
             "pattern": {
              "fillmode": "overlay",
              "size": 10,
              "solidity": 0.2
             }
            },
            "type": "histogram"
           }
          ],
          "histogram2d": [
           {
            "colorbar": {
             "outlinewidth": 0,
             "ticks": ""
            },
            "colorscale": [
             [
              0,
              "#0d0887"
             ],
             [
              0.1111111111111111,
              "#46039f"
             ],
             [
              0.2222222222222222,
              "#7201a8"
             ],
             [
              0.3333333333333333,
              "#9c179e"
             ],
             [
              0.4444444444444444,
              "#bd3786"
             ],
             [
              0.5555555555555556,
              "#d8576b"
             ],
             [
              0.6666666666666666,
              "#ed7953"
             ],
             [
              0.7777777777777778,
              "#fb9f3a"
             ],
             [
              0.8888888888888888,
              "#fdca26"
             ],
             [
              1,
              "#f0f921"
             ]
            ],
            "type": "histogram2d"
           }
          ],
          "histogram2dcontour": [
           {
            "colorbar": {
             "outlinewidth": 0,
             "ticks": ""
            },
            "colorscale": [
             [
              0,
              "#0d0887"
             ],
             [
              0.1111111111111111,
              "#46039f"
             ],
             [
              0.2222222222222222,
              "#7201a8"
             ],
             [
              0.3333333333333333,
              "#9c179e"
             ],
             [
              0.4444444444444444,
              "#bd3786"
             ],
             [
              0.5555555555555556,
              "#d8576b"
             ],
             [
              0.6666666666666666,
              "#ed7953"
             ],
             [
              0.7777777777777778,
              "#fb9f3a"
             ],
             [
              0.8888888888888888,
              "#fdca26"
             ],
             [
              1,
              "#f0f921"
             ]
            ],
            "type": "histogram2dcontour"
           }
          ],
          "mesh3d": [
           {
            "colorbar": {
             "outlinewidth": 0,
             "ticks": ""
            },
            "type": "mesh3d"
           }
          ],
          "parcoords": [
           {
            "line": {
             "colorbar": {
              "outlinewidth": 0,
              "ticks": ""
             }
            },
            "type": "parcoords"
           }
          ],
          "pie": [
           {
            "automargin": true,
            "type": "pie"
           }
          ],
          "scatter": [
           {
            "fillpattern": {
             "fillmode": "overlay",
             "size": 10,
             "solidity": 0.2
            },
            "type": "scatter"
           }
          ],
          "scatter3d": [
           {
            "line": {
             "colorbar": {
              "outlinewidth": 0,
              "ticks": ""
             }
            },
            "marker": {
             "colorbar": {
              "outlinewidth": 0,
              "ticks": ""
             }
            },
            "type": "scatter3d"
           }
          ],
          "scattercarpet": [
           {
            "marker": {
             "colorbar": {
              "outlinewidth": 0,
              "ticks": ""
             }
            },
            "type": "scattercarpet"
           }
          ],
          "scattergeo": [
           {
            "marker": {
             "colorbar": {
              "outlinewidth": 0,
              "ticks": ""
             }
            },
            "type": "scattergeo"
           }
          ],
          "scattergl": [
           {
            "marker": {
             "colorbar": {
              "outlinewidth": 0,
              "ticks": ""
             }
            },
            "type": "scattergl"
           }
          ],
          "scattermapbox": [
           {
            "marker": {
             "colorbar": {
              "outlinewidth": 0,
              "ticks": ""
             }
            },
            "type": "scattermapbox"
           }
          ],
          "scatterpolar": [
           {
            "marker": {
             "colorbar": {
              "outlinewidth": 0,
              "ticks": ""
             }
            },
            "type": "scatterpolar"
           }
          ],
          "scatterpolargl": [
           {
            "marker": {
             "colorbar": {
              "outlinewidth": 0,
              "ticks": ""
             }
            },
            "type": "scatterpolargl"
           }
          ],
          "scatterternary": [
           {
            "marker": {
             "colorbar": {
              "outlinewidth": 0,
              "ticks": ""
             }
            },
            "type": "scatterternary"
           }
          ],
          "surface": [
           {
            "colorbar": {
             "outlinewidth": 0,
             "ticks": ""
            },
            "colorscale": [
             [
              0,
              "#0d0887"
             ],
             [
              0.1111111111111111,
              "#46039f"
             ],
             [
              0.2222222222222222,
              "#7201a8"
             ],
             [
              0.3333333333333333,
              "#9c179e"
             ],
             [
              0.4444444444444444,
              "#bd3786"
             ],
             [
              0.5555555555555556,
              "#d8576b"
             ],
             [
              0.6666666666666666,
              "#ed7953"
             ],
             [
              0.7777777777777778,
              "#fb9f3a"
             ],
             [
              0.8888888888888888,
              "#fdca26"
             ],
             [
              1,
              "#f0f921"
             ]
            ],
            "type": "surface"
           }
          ],
          "table": [
           {
            "cells": {
             "fill": {
              "color": "#EBF0F8"
             },
             "line": {
              "color": "white"
             }
            },
            "header": {
             "fill": {
              "color": "#C8D4E3"
             },
             "line": {
              "color": "white"
             }
            },
            "type": "table"
           }
          ]
         },
         "layout": {
          "annotationdefaults": {
           "arrowcolor": "#2a3f5f",
           "arrowhead": 0,
           "arrowwidth": 1
          },
          "autotypenumbers": "strict",
          "coloraxis": {
           "colorbar": {
            "outlinewidth": 0,
            "ticks": ""
           }
          },
          "colorscale": {
           "diverging": [
            [
             0,
             "#8e0152"
            ],
            [
             0.1,
             "#c51b7d"
            ],
            [
             0.2,
             "#de77ae"
            ],
            [
             0.3,
             "#f1b6da"
            ],
            [
             0.4,
             "#fde0ef"
            ],
            [
             0.5,
             "#f7f7f7"
            ],
            [
             0.6,
             "#e6f5d0"
            ],
            [
             0.7,
             "#b8e186"
            ],
            [
             0.8,
             "#7fbc41"
            ],
            [
             0.9,
             "#4d9221"
            ],
            [
             1,
             "#276419"
            ]
           ],
           "sequential": [
            [
             0,
             "#0d0887"
            ],
            [
             0.1111111111111111,
             "#46039f"
            ],
            [
             0.2222222222222222,
             "#7201a8"
            ],
            [
             0.3333333333333333,
             "#9c179e"
            ],
            [
             0.4444444444444444,
             "#bd3786"
            ],
            [
             0.5555555555555556,
             "#d8576b"
            ],
            [
             0.6666666666666666,
             "#ed7953"
            ],
            [
             0.7777777777777778,
             "#fb9f3a"
            ],
            [
             0.8888888888888888,
             "#fdca26"
            ],
            [
             1,
             "#f0f921"
            ]
           ],
           "sequentialminus": [
            [
             0,
             "#0d0887"
            ],
            [
             0.1111111111111111,
             "#46039f"
            ],
            [
             0.2222222222222222,
             "#7201a8"
            ],
            [
             0.3333333333333333,
             "#9c179e"
            ],
            [
             0.4444444444444444,
             "#bd3786"
            ],
            [
             0.5555555555555556,
             "#d8576b"
            ],
            [
             0.6666666666666666,
             "#ed7953"
            ],
            [
             0.7777777777777778,
             "#fb9f3a"
            ],
            [
             0.8888888888888888,
             "#fdca26"
            ],
            [
             1,
             "#f0f921"
            ]
           ]
          },
          "colorway": [
           "#636efa",
           "#EF553B",
           "#00cc96",
           "#ab63fa",
           "#FFA15A",
           "#19d3f3",
           "#FF6692",
           "#B6E880",
           "#FF97FF",
           "#FECB52"
          ],
          "font": {
           "color": "#2a3f5f"
          },
          "geo": {
           "bgcolor": "white",
           "lakecolor": "white",
           "landcolor": "#E5ECF6",
           "showlakes": true,
           "showland": true,
           "subunitcolor": "white"
          },
          "hoverlabel": {
           "align": "left"
          },
          "hovermode": "closest",
          "mapbox": {
           "style": "light"
          },
          "paper_bgcolor": "white",
          "plot_bgcolor": "#E5ECF6",
          "polar": {
           "angularaxis": {
            "gridcolor": "white",
            "linecolor": "white",
            "ticks": ""
           },
           "bgcolor": "#E5ECF6",
           "radialaxis": {
            "gridcolor": "white",
            "linecolor": "white",
            "ticks": ""
           }
          },
          "scene": {
           "xaxis": {
            "backgroundcolor": "#E5ECF6",
            "gridcolor": "white",
            "gridwidth": 2,
            "linecolor": "white",
            "showbackground": true,
            "ticks": "",
            "zerolinecolor": "white"
           },
           "yaxis": {
            "backgroundcolor": "#E5ECF6",
            "gridcolor": "white",
            "gridwidth": 2,
            "linecolor": "white",
            "showbackground": true,
            "ticks": "",
            "zerolinecolor": "white"
           },
           "zaxis": {
            "backgroundcolor": "#E5ECF6",
            "gridcolor": "white",
            "gridwidth": 2,
            "linecolor": "white",
            "showbackground": true,
            "ticks": "",
            "zerolinecolor": "white"
           }
          },
          "shapedefaults": {
           "line": {
            "color": "#2a3f5f"
           }
          },
          "ternary": {
           "aaxis": {
            "gridcolor": "white",
            "linecolor": "white",
            "ticks": ""
           },
           "baxis": {
            "gridcolor": "white",
            "linecolor": "white",
            "ticks": ""
           },
           "bgcolor": "#E5ECF6",
           "caxis": {
            "gridcolor": "white",
            "linecolor": "white",
            "ticks": ""
           }
          },
          "title": {
           "x": 0.05
          },
          "xaxis": {
           "automargin": true,
           "gridcolor": "white",
           "linecolor": "white",
           "ticks": "",
           "title": {
            "standoff": 15
           },
           "zerolinecolor": "white",
           "zerolinewidth": 2
          },
          "yaxis": {
           "automargin": true,
           "gridcolor": "white",
           "linecolor": "white",
           "ticks": "",
           "title": {
            "standoff": 15
           },
           "zerolinecolor": "white",
           "zerolinewidth": 2
          }
         }
        }
       }
      }
     },
     "metadata": {},
     "output_type": "display_data"
    }
   ],
   "source": [
    "fig = go.Figure()\n",
    "fig.add_traces(\n",
    "    go.Scatter(\n",
    "        x=frame.tsne_1,\n",
    "        y=frame.tsne_2,\n",
    "        mode=\"markers\",\n",
    "        marker={\n",
    "            \"color\":frame.kmeans\n",
    "        }\n",
    "    )\n",
    ")\n",
    "fig.show()"
   ]
  },
  {
   "cell_type": "code",
   "execution_count": 85,
   "metadata": {},
   "outputs": [],
   "source": [
    "sse = {}\n",
    "labels = {}\n",
    "for k in range(1, 10):\n",
    "    kmeans = cluster.KMeans(n_clusters=k, max_iter=1000)\n",
    "    kmeans.fit(X_redux)\n",
    "    labels[k]=kmeans.labels_\n",
    "    sse[k]=kmeans.inertia_"
   ]
  },
  {
   "cell_type": "code",
   "execution_count": 86,
   "metadata": {},
   "outputs": [
    {
     "data": {
      "application/vnd.plotly.v1+json": {
       "config": {
        "plotlyServerURL": "https://plot.ly"
       },
       "data": [
        {
         "type": "scatter",
         "x": [
          1,
          2,
          3,
          4,
          5,
          6,
          7,
          8,
          9
         ],
         "y": [
          13790335.893452544,
          11535948.553655203,
          7221359.474091051,
          6166425.4599450305,
          6031185.746114997,
          5932671.409880137,
          5446408.901014803,
          5325401.753159945,
          5149840.271775011
         ]
        }
       ],
       "layout": {
        "template": {
         "data": {
          "bar": [
           {
            "error_x": {
             "color": "#2a3f5f"
            },
            "error_y": {
             "color": "#2a3f5f"
            },
            "marker": {
             "line": {
              "color": "#E5ECF6",
              "width": 0.5
             },
             "pattern": {
              "fillmode": "overlay",
              "size": 10,
              "solidity": 0.2
             }
            },
            "type": "bar"
           }
          ],
          "barpolar": [
           {
            "marker": {
             "line": {
              "color": "#E5ECF6",
              "width": 0.5
             },
             "pattern": {
              "fillmode": "overlay",
              "size": 10,
              "solidity": 0.2
             }
            },
            "type": "barpolar"
           }
          ],
          "carpet": [
           {
            "aaxis": {
             "endlinecolor": "#2a3f5f",
             "gridcolor": "white",
             "linecolor": "white",
             "minorgridcolor": "white",
             "startlinecolor": "#2a3f5f"
            },
            "baxis": {
             "endlinecolor": "#2a3f5f",
             "gridcolor": "white",
             "linecolor": "white",
             "minorgridcolor": "white",
             "startlinecolor": "#2a3f5f"
            },
            "type": "carpet"
           }
          ],
          "choropleth": [
           {
            "colorbar": {
             "outlinewidth": 0,
             "ticks": ""
            },
            "type": "choropleth"
           }
          ],
          "contour": [
           {
            "colorbar": {
             "outlinewidth": 0,
             "ticks": ""
            },
            "colorscale": [
             [
              0,
              "#0d0887"
             ],
             [
              0.1111111111111111,
              "#46039f"
             ],
             [
              0.2222222222222222,
              "#7201a8"
             ],
             [
              0.3333333333333333,
              "#9c179e"
             ],
             [
              0.4444444444444444,
              "#bd3786"
             ],
             [
              0.5555555555555556,
              "#d8576b"
             ],
             [
              0.6666666666666666,
              "#ed7953"
             ],
             [
              0.7777777777777778,
              "#fb9f3a"
             ],
             [
              0.8888888888888888,
              "#fdca26"
             ],
             [
              1,
              "#f0f921"
             ]
            ],
            "type": "contour"
           }
          ],
          "contourcarpet": [
           {
            "colorbar": {
             "outlinewidth": 0,
             "ticks": ""
            },
            "type": "contourcarpet"
           }
          ],
          "heatmap": [
           {
            "colorbar": {
             "outlinewidth": 0,
             "ticks": ""
            },
            "colorscale": [
             [
              0,
              "#0d0887"
             ],
             [
              0.1111111111111111,
              "#46039f"
             ],
             [
              0.2222222222222222,
              "#7201a8"
             ],
             [
              0.3333333333333333,
              "#9c179e"
             ],
             [
              0.4444444444444444,
              "#bd3786"
             ],
             [
              0.5555555555555556,
              "#d8576b"
             ],
             [
              0.6666666666666666,
              "#ed7953"
             ],
             [
              0.7777777777777778,
              "#fb9f3a"
             ],
             [
              0.8888888888888888,
              "#fdca26"
             ],
             [
              1,
              "#f0f921"
             ]
            ],
            "type": "heatmap"
           }
          ],
          "heatmapgl": [
           {
            "colorbar": {
             "outlinewidth": 0,
             "ticks": ""
            },
            "colorscale": [
             [
              0,
              "#0d0887"
             ],
             [
              0.1111111111111111,
              "#46039f"
             ],
             [
              0.2222222222222222,
              "#7201a8"
             ],
             [
              0.3333333333333333,
              "#9c179e"
             ],
             [
              0.4444444444444444,
              "#bd3786"
             ],
             [
              0.5555555555555556,
              "#d8576b"
             ],
             [
              0.6666666666666666,
              "#ed7953"
             ],
             [
              0.7777777777777778,
              "#fb9f3a"
             ],
             [
              0.8888888888888888,
              "#fdca26"
             ],
             [
              1,
              "#f0f921"
             ]
            ],
            "type": "heatmapgl"
           }
          ],
          "histogram": [
           {
            "marker": {
             "pattern": {
              "fillmode": "overlay",
              "size": 10,
              "solidity": 0.2
             }
            },
            "type": "histogram"
           }
          ],
          "histogram2d": [
           {
            "colorbar": {
             "outlinewidth": 0,
             "ticks": ""
            },
            "colorscale": [
             [
              0,
              "#0d0887"
             ],
             [
              0.1111111111111111,
              "#46039f"
             ],
             [
              0.2222222222222222,
              "#7201a8"
             ],
             [
              0.3333333333333333,
              "#9c179e"
             ],
             [
              0.4444444444444444,
              "#bd3786"
             ],
             [
              0.5555555555555556,
              "#d8576b"
             ],
             [
              0.6666666666666666,
              "#ed7953"
             ],
             [
              0.7777777777777778,
              "#fb9f3a"
             ],
             [
              0.8888888888888888,
              "#fdca26"
             ],
             [
              1,
              "#f0f921"
             ]
            ],
            "type": "histogram2d"
           }
          ],
          "histogram2dcontour": [
           {
            "colorbar": {
             "outlinewidth": 0,
             "ticks": ""
            },
            "colorscale": [
             [
              0,
              "#0d0887"
             ],
             [
              0.1111111111111111,
              "#46039f"
             ],
             [
              0.2222222222222222,
              "#7201a8"
             ],
             [
              0.3333333333333333,
              "#9c179e"
             ],
             [
              0.4444444444444444,
              "#bd3786"
             ],
             [
              0.5555555555555556,
              "#d8576b"
             ],
             [
              0.6666666666666666,
              "#ed7953"
             ],
             [
              0.7777777777777778,
              "#fb9f3a"
             ],
             [
              0.8888888888888888,
              "#fdca26"
             ],
             [
              1,
              "#f0f921"
             ]
            ],
            "type": "histogram2dcontour"
           }
          ],
          "mesh3d": [
           {
            "colorbar": {
             "outlinewidth": 0,
             "ticks": ""
            },
            "type": "mesh3d"
           }
          ],
          "parcoords": [
           {
            "line": {
             "colorbar": {
              "outlinewidth": 0,
              "ticks": ""
             }
            },
            "type": "parcoords"
           }
          ],
          "pie": [
           {
            "automargin": true,
            "type": "pie"
           }
          ],
          "scatter": [
           {
            "fillpattern": {
             "fillmode": "overlay",
             "size": 10,
             "solidity": 0.2
            },
            "type": "scatter"
           }
          ],
          "scatter3d": [
           {
            "line": {
             "colorbar": {
              "outlinewidth": 0,
              "ticks": ""
             }
            },
            "marker": {
             "colorbar": {
              "outlinewidth": 0,
              "ticks": ""
             }
            },
            "type": "scatter3d"
           }
          ],
          "scattercarpet": [
           {
            "marker": {
             "colorbar": {
              "outlinewidth": 0,
              "ticks": ""
             }
            },
            "type": "scattercarpet"
           }
          ],
          "scattergeo": [
           {
            "marker": {
             "colorbar": {
              "outlinewidth": 0,
              "ticks": ""
             }
            },
            "type": "scattergeo"
           }
          ],
          "scattergl": [
           {
            "marker": {
             "colorbar": {
              "outlinewidth": 0,
              "ticks": ""
             }
            },
            "type": "scattergl"
           }
          ],
          "scattermapbox": [
           {
            "marker": {
             "colorbar": {
              "outlinewidth": 0,
              "ticks": ""
             }
            },
            "type": "scattermapbox"
           }
          ],
          "scatterpolar": [
           {
            "marker": {
             "colorbar": {
              "outlinewidth": 0,
              "ticks": ""
             }
            },
            "type": "scatterpolar"
           }
          ],
          "scatterpolargl": [
           {
            "marker": {
             "colorbar": {
              "outlinewidth": 0,
              "ticks": ""
             }
            },
            "type": "scatterpolargl"
           }
          ],
          "scatterternary": [
           {
            "marker": {
             "colorbar": {
              "outlinewidth": 0,
              "ticks": ""
             }
            },
            "type": "scatterternary"
           }
          ],
          "surface": [
           {
            "colorbar": {
             "outlinewidth": 0,
             "ticks": ""
            },
            "colorscale": [
             [
              0,
              "#0d0887"
             ],
             [
              0.1111111111111111,
              "#46039f"
             ],
             [
              0.2222222222222222,
              "#7201a8"
             ],
             [
              0.3333333333333333,
              "#9c179e"
             ],
             [
              0.4444444444444444,
              "#bd3786"
             ],
             [
              0.5555555555555556,
              "#d8576b"
             ],
             [
              0.6666666666666666,
              "#ed7953"
             ],
             [
              0.7777777777777778,
              "#fb9f3a"
             ],
             [
              0.8888888888888888,
              "#fdca26"
             ],
             [
              1,
              "#f0f921"
             ]
            ],
            "type": "surface"
           }
          ],
          "table": [
           {
            "cells": {
             "fill": {
              "color": "#EBF0F8"
             },
             "line": {
              "color": "white"
             }
            },
            "header": {
             "fill": {
              "color": "#C8D4E3"
             },
             "line": {
              "color": "white"
             }
            },
            "type": "table"
           }
          ]
         },
         "layout": {
          "annotationdefaults": {
           "arrowcolor": "#2a3f5f",
           "arrowhead": 0,
           "arrowwidth": 1
          },
          "autotypenumbers": "strict",
          "coloraxis": {
           "colorbar": {
            "outlinewidth": 0,
            "ticks": ""
           }
          },
          "colorscale": {
           "diverging": [
            [
             0,
             "#8e0152"
            ],
            [
             0.1,
             "#c51b7d"
            ],
            [
             0.2,
             "#de77ae"
            ],
            [
             0.3,
             "#f1b6da"
            ],
            [
             0.4,
             "#fde0ef"
            ],
            [
             0.5,
             "#f7f7f7"
            ],
            [
             0.6,
             "#e6f5d0"
            ],
            [
             0.7,
             "#b8e186"
            ],
            [
             0.8,
             "#7fbc41"
            ],
            [
             0.9,
             "#4d9221"
            ],
            [
             1,
             "#276419"
            ]
           ],
           "sequential": [
            [
             0,
             "#0d0887"
            ],
            [
             0.1111111111111111,
             "#46039f"
            ],
            [
             0.2222222222222222,
             "#7201a8"
            ],
            [
             0.3333333333333333,
             "#9c179e"
            ],
            [
             0.4444444444444444,
             "#bd3786"
            ],
            [
             0.5555555555555556,
             "#d8576b"
            ],
            [
             0.6666666666666666,
             "#ed7953"
            ],
            [
             0.7777777777777778,
             "#fb9f3a"
            ],
            [
             0.8888888888888888,
             "#fdca26"
            ],
            [
             1,
             "#f0f921"
            ]
           ],
           "sequentialminus": [
            [
             0,
             "#0d0887"
            ],
            [
             0.1111111111111111,
             "#46039f"
            ],
            [
             0.2222222222222222,
             "#7201a8"
            ],
            [
             0.3333333333333333,
             "#9c179e"
            ],
            [
             0.4444444444444444,
             "#bd3786"
            ],
            [
             0.5555555555555556,
             "#d8576b"
            ],
            [
             0.6666666666666666,
             "#ed7953"
            ],
            [
             0.7777777777777778,
             "#fb9f3a"
            ],
            [
             0.8888888888888888,
             "#fdca26"
            ],
            [
             1,
             "#f0f921"
            ]
           ]
          },
          "colorway": [
           "#636efa",
           "#EF553B",
           "#00cc96",
           "#ab63fa",
           "#FFA15A",
           "#19d3f3",
           "#FF6692",
           "#B6E880",
           "#FF97FF",
           "#FECB52"
          ],
          "font": {
           "color": "#2a3f5f"
          },
          "geo": {
           "bgcolor": "white",
           "lakecolor": "white",
           "landcolor": "#E5ECF6",
           "showlakes": true,
           "showland": true,
           "subunitcolor": "white"
          },
          "hoverlabel": {
           "align": "left"
          },
          "hovermode": "closest",
          "mapbox": {
           "style": "light"
          },
          "paper_bgcolor": "white",
          "plot_bgcolor": "#E5ECF6",
          "polar": {
           "angularaxis": {
            "gridcolor": "white",
            "linecolor": "white",
            "ticks": ""
           },
           "bgcolor": "#E5ECF6",
           "radialaxis": {
            "gridcolor": "white",
            "linecolor": "white",
            "ticks": ""
           }
          },
          "scene": {
           "xaxis": {
            "backgroundcolor": "#E5ECF6",
            "gridcolor": "white",
            "gridwidth": 2,
            "linecolor": "white",
            "showbackground": true,
            "ticks": "",
            "zerolinecolor": "white"
           },
           "yaxis": {
            "backgroundcolor": "#E5ECF6",
            "gridcolor": "white",
            "gridwidth": 2,
            "linecolor": "white",
            "showbackground": true,
            "ticks": "",
            "zerolinecolor": "white"
           },
           "zaxis": {
            "backgroundcolor": "#E5ECF6",
            "gridcolor": "white",
            "gridwidth": 2,
            "linecolor": "white",
            "showbackground": true,
            "ticks": "",
            "zerolinecolor": "white"
           }
          },
          "shapedefaults": {
           "line": {
            "color": "#2a3f5f"
           }
          },
          "ternary": {
           "aaxis": {
            "gridcolor": "white",
            "linecolor": "white",
            "ticks": ""
           },
           "baxis": {
            "gridcolor": "white",
            "linecolor": "white",
            "ticks": ""
           },
           "bgcolor": "#E5ECF6",
           "caxis": {
            "gridcolor": "white",
            "linecolor": "white",
            "ticks": ""
           }
          },
          "title": {
           "x": 0.05
          },
          "xaxis": {
           "automargin": true,
           "gridcolor": "white",
           "linecolor": "white",
           "ticks": "",
           "title": {
            "standoff": 15
           },
           "zerolinecolor": "white",
           "zerolinewidth": 2
          },
          "yaxis": {
           "automargin": true,
           "gridcolor": "white",
           "linecolor": "white",
           "ticks": "",
           "title": {
            "standoff": 15
           },
           "zerolinecolor": "white",
           "zerolinewidth": 2
          }
         }
        }
       }
      }
     },
     "metadata": {},
     "output_type": "display_data"
    }
   ],
   "source": [
    "fig = go.Figure()\n",
    "fig.add_traces(\n",
    "    go.Scatter(\n",
    "        x = list(sse.keys()),\n",
    "        y = list(sse.values())\n",
    "    )\n",
    ")\n",
    "fig.show()"
   ]
  },
  {
   "cell_type": "code",
   "execution_count": 88,
   "metadata": {},
   "outputs": [
    {
     "data": {
      "text/plain": [
       "6166425.4599450305"
      ]
     },
     "execution_count": 88,
     "metadata": {},
     "output_type": "execute_result"
    }
   ],
   "source": [
    "sse[4]"
   ]
  },
  {
   "cell_type": "code",
   "execution_count": 89,
   "metadata": {},
   "outputs": [],
   "source": [
    "n_clusters = 4"
   ]
  },
  {
   "cell_type": "code",
   "execution_count": 92,
   "metadata": {},
   "outputs": [
    {
     "data": {
      "text/html": [
       "<style>#sk-container-id-9 {\n",
       "  /* Definition of color scheme common for light and dark mode */\n",
       "  --sklearn-color-text: black;\n",
       "  --sklearn-color-line: gray;\n",
       "  /* Definition of color scheme for unfitted estimators */\n",
       "  --sklearn-color-unfitted-level-0: #fff5e6;\n",
       "  --sklearn-color-unfitted-level-1: #f6e4d2;\n",
       "  --sklearn-color-unfitted-level-2: #ffe0b3;\n",
       "  --sklearn-color-unfitted-level-3: chocolate;\n",
       "  /* Definition of color scheme for fitted estimators */\n",
       "  --sklearn-color-fitted-level-0: #f0f8ff;\n",
       "  --sklearn-color-fitted-level-1: #d4ebff;\n",
       "  --sklearn-color-fitted-level-2: #b3dbfd;\n",
       "  --sklearn-color-fitted-level-3: cornflowerblue;\n",
       "\n",
       "  /* Specific color for light theme */\n",
       "  --sklearn-color-text-on-default-background: var(--sg-text-color, var(--theme-code-foreground, var(--jp-content-font-color1, black)));\n",
       "  --sklearn-color-background: var(--sg-background-color, var(--theme-background, var(--jp-layout-color0, white)));\n",
       "  --sklearn-color-border-box: var(--sg-text-color, var(--theme-code-foreground, var(--jp-content-font-color1, black)));\n",
       "  --sklearn-color-icon: #696969;\n",
       "\n",
       "  @media (prefers-color-scheme: dark) {\n",
       "    /* Redefinition of color scheme for dark theme */\n",
       "    --sklearn-color-text-on-default-background: var(--sg-text-color, var(--theme-code-foreground, var(--jp-content-font-color1, white)));\n",
       "    --sklearn-color-background: var(--sg-background-color, var(--theme-background, var(--jp-layout-color0, #111)));\n",
       "    --sklearn-color-border-box: var(--sg-text-color, var(--theme-code-foreground, var(--jp-content-font-color1, white)));\n",
       "    --sklearn-color-icon: #878787;\n",
       "  }\n",
       "}\n",
       "\n",
       "#sk-container-id-9 {\n",
       "  color: var(--sklearn-color-text);\n",
       "}\n",
       "\n",
       "#sk-container-id-9 pre {\n",
       "  padding: 0;\n",
       "}\n",
       "\n",
       "#sk-container-id-9 input.sk-hidden--visually {\n",
       "  border: 0;\n",
       "  clip: rect(1px 1px 1px 1px);\n",
       "  clip: rect(1px, 1px, 1px, 1px);\n",
       "  height: 1px;\n",
       "  margin: -1px;\n",
       "  overflow: hidden;\n",
       "  padding: 0;\n",
       "  position: absolute;\n",
       "  width: 1px;\n",
       "}\n",
       "\n",
       "#sk-container-id-9 div.sk-dashed-wrapped {\n",
       "  border: 1px dashed var(--sklearn-color-line);\n",
       "  margin: 0 0.4em 0.5em 0.4em;\n",
       "  box-sizing: border-box;\n",
       "  padding-bottom: 0.4em;\n",
       "  background-color: var(--sklearn-color-background);\n",
       "}\n",
       "\n",
       "#sk-container-id-9 div.sk-container {\n",
       "  /* jupyter's `normalize.less` sets `[hidden] { display: none; }`\n",
       "     but bootstrap.min.css set `[hidden] { display: none !important; }`\n",
       "     so we also need the `!important` here to be able to override the\n",
       "     default hidden behavior on the sphinx rendered scikit-learn.org.\n",
       "     See: https://github.com/scikit-learn/scikit-learn/issues/21755 */\n",
       "  display: inline-block !important;\n",
       "  position: relative;\n",
       "}\n",
       "\n",
       "#sk-container-id-9 div.sk-text-repr-fallback {\n",
       "  display: none;\n",
       "}\n",
       "\n",
       "div.sk-parallel-item,\n",
       "div.sk-serial,\n",
       "div.sk-item {\n",
       "  /* draw centered vertical line to link estimators */\n",
       "  background-image: linear-gradient(var(--sklearn-color-text-on-default-background), var(--sklearn-color-text-on-default-background));\n",
       "  background-size: 2px 100%;\n",
       "  background-repeat: no-repeat;\n",
       "  background-position: center center;\n",
       "}\n",
       "\n",
       "/* Parallel-specific style estimator block */\n",
       "\n",
       "#sk-container-id-9 div.sk-parallel-item::after {\n",
       "  content: \"\";\n",
       "  width: 100%;\n",
       "  border-bottom: 2px solid var(--sklearn-color-text-on-default-background);\n",
       "  flex-grow: 1;\n",
       "}\n",
       "\n",
       "#sk-container-id-9 div.sk-parallel {\n",
       "  display: flex;\n",
       "  align-items: stretch;\n",
       "  justify-content: center;\n",
       "  background-color: var(--sklearn-color-background);\n",
       "  position: relative;\n",
       "}\n",
       "\n",
       "#sk-container-id-9 div.sk-parallel-item {\n",
       "  display: flex;\n",
       "  flex-direction: column;\n",
       "}\n",
       "\n",
       "#sk-container-id-9 div.sk-parallel-item:first-child::after {\n",
       "  align-self: flex-end;\n",
       "  width: 50%;\n",
       "}\n",
       "\n",
       "#sk-container-id-9 div.sk-parallel-item:last-child::after {\n",
       "  align-self: flex-start;\n",
       "  width: 50%;\n",
       "}\n",
       "\n",
       "#sk-container-id-9 div.sk-parallel-item:only-child::after {\n",
       "  width: 0;\n",
       "}\n",
       "\n",
       "/* Serial-specific style estimator block */\n",
       "\n",
       "#sk-container-id-9 div.sk-serial {\n",
       "  display: flex;\n",
       "  flex-direction: column;\n",
       "  align-items: center;\n",
       "  background-color: var(--sklearn-color-background);\n",
       "  padding-right: 1em;\n",
       "  padding-left: 1em;\n",
       "}\n",
       "\n",
       "\n",
       "/* Toggleable style: style used for estimator/Pipeline/ColumnTransformer box that is\n",
       "clickable and can be expanded/collapsed.\n",
       "- Pipeline and ColumnTransformer use this feature and define the default style\n",
       "- Estimators will overwrite some part of the style using the `sk-estimator` class\n",
       "*/\n",
       "\n",
       "/* Pipeline and ColumnTransformer style (default) */\n",
       "\n",
       "#sk-container-id-9 div.sk-toggleable {\n",
       "  /* Default theme specific background. It is overwritten whether we have a\n",
       "  specific estimator or a Pipeline/ColumnTransformer */\n",
       "  background-color: var(--sklearn-color-background);\n",
       "}\n",
       "\n",
       "/* Toggleable label */\n",
       "#sk-container-id-9 label.sk-toggleable__label {\n",
       "  cursor: pointer;\n",
       "  display: block;\n",
       "  width: 100%;\n",
       "  margin-bottom: 0;\n",
       "  padding: 0.5em;\n",
       "  box-sizing: border-box;\n",
       "  text-align: center;\n",
       "}\n",
       "\n",
       "#sk-container-id-9 label.sk-toggleable__label-arrow:before {\n",
       "  /* Arrow on the left of the label */\n",
       "  content: \"▸\";\n",
       "  float: left;\n",
       "  margin-right: 0.25em;\n",
       "  color: var(--sklearn-color-icon);\n",
       "}\n",
       "\n",
       "#sk-container-id-9 label.sk-toggleable__label-arrow:hover:before {\n",
       "  color: var(--sklearn-color-text);\n",
       "}\n",
       "\n",
       "/* Toggleable content - dropdown */\n",
       "\n",
       "#sk-container-id-9 div.sk-toggleable__content {\n",
       "  max-height: 0;\n",
       "  max-width: 0;\n",
       "  overflow: hidden;\n",
       "  text-align: left;\n",
       "  /* unfitted */\n",
       "  background-color: var(--sklearn-color-unfitted-level-0);\n",
       "}\n",
       "\n",
       "#sk-container-id-9 div.sk-toggleable__content.fitted {\n",
       "  /* fitted */\n",
       "  background-color: var(--sklearn-color-fitted-level-0);\n",
       "}\n",
       "\n",
       "#sk-container-id-9 div.sk-toggleable__content pre {\n",
       "  margin: 0.2em;\n",
       "  border-radius: 0.25em;\n",
       "  color: var(--sklearn-color-text);\n",
       "  /* unfitted */\n",
       "  background-color: var(--sklearn-color-unfitted-level-0);\n",
       "}\n",
       "\n",
       "#sk-container-id-9 div.sk-toggleable__content.fitted pre {\n",
       "  /* unfitted */\n",
       "  background-color: var(--sklearn-color-fitted-level-0);\n",
       "}\n",
       "\n",
       "#sk-container-id-9 input.sk-toggleable__control:checked~div.sk-toggleable__content {\n",
       "  /* Expand drop-down */\n",
       "  max-height: 200px;\n",
       "  max-width: 100%;\n",
       "  overflow: auto;\n",
       "}\n",
       "\n",
       "#sk-container-id-9 input.sk-toggleable__control:checked~label.sk-toggleable__label-arrow:before {\n",
       "  content: \"▾\";\n",
       "}\n",
       "\n",
       "/* Pipeline/ColumnTransformer-specific style */\n",
       "\n",
       "#sk-container-id-9 div.sk-label input.sk-toggleable__control:checked~label.sk-toggleable__label {\n",
       "  color: var(--sklearn-color-text);\n",
       "  background-color: var(--sklearn-color-unfitted-level-2);\n",
       "}\n",
       "\n",
       "#sk-container-id-9 div.sk-label.fitted input.sk-toggleable__control:checked~label.sk-toggleable__label {\n",
       "  background-color: var(--sklearn-color-fitted-level-2);\n",
       "}\n",
       "\n",
       "/* Estimator-specific style */\n",
       "\n",
       "/* Colorize estimator box */\n",
       "#sk-container-id-9 div.sk-estimator input.sk-toggleable__control:checked~label.sk-toggleable__label {\n",
       "  /* unfitted */\n",
       "  background-color: var(--sklearn-color-unfitted-level-2);\n",
       "}\n",
       "\n",
       "#sk-container-id-9 div.sk-estimator.fitted input.sk-toggleable__control:checked~label.sk-toggleable__label {\n",
       "  /* fitted */\n",
       "  background-color: var(--sklearn-color-fitted-level-2);\n",
       "}\n",
       "\n",
       "#sk-container-id-9 div.sk-label label.sk-toggleable__label,\n",
       "#sk-container-id-9 div.sk-label label {\n",
       "  /* The background is the default theme color */\n",
       "  color: var(--sklearn-color-text-on-default-background);\n",
       "}\n",
       "\n",
       "/* On hover, darken the color of the background */\n",
       "#sk-container-id-9 div.sk-label:hover label.sk-toggleable__label {\n",
       "  color: var(--sklearn-color-text);\n",
       "  background-color: var(--sklearn-color-unfitted-level-2);\n",
       "}\n",
       "\n",
       "/* Label box, darken color on hover, fitted */\n",
       "#sk-container-id-9 div.sk-label.fitted:hover label.sk-toggleable__label.fitted {\n",
       "  color: var(--sklearn-color-text);\n",
       "  background-color: var(--sklearn-color-fitted-level-2);\n",
       "}\n",
       "\n",
       "/* Estimator label */\n",
       "\n",
       "#sk-container-id-9 div.sk-label label {\n",
       "  font-family: monospace;\n",
       "  font-weight: bold;\n",
       "  display: inline-block;\n",
       "  line-height: 1.2em;\n",
       "}\n",
       "\n",
       "#sk-container-id-9 div.sk-label-container {\n",
       "  text-align: center;\n",
       "}\n",
       "\n",
       "/* Estimator-specific */\n",
       "#sk-container-id-9 div.sk-estimator {\n",
       "  font-family: monospace;\n",
       "  border: 1px dotted var(--sklearn-color-border-box);\n",
       "  border-radius: 0.25em;\n",
       "  box-sizing: border-box;\n",
       "  margin-bottom: 0.5em;\n",
       "  /* unfitted */\n",
       "  background-color: var(--sklearn-color-unfitted-level-0);\n",
       "}\n",
       "\n",
       "#sk-container-id-9 div.sk-estimator.fitted {\n",
       "  /* fitted */\n",
       "  background-color: var(--sklearn-color-fitted-level-0);\n",
       "}\n",
       "\n",
       "/* on hover */\n",
       "#sk-container-id-9 div.sk-estimator:hover {\n",
       "  /* unfitted */\n",
       "  background-color: var(--sklearn-color-unfitted-level-2);\n",
       "}\n",
       "\n",
       "#sk-container-id-9 div.sk-estimator.fitted:hover {\n",
       "  /* fitted */\n",
       "  background-color: var(--sklearn-color-fitted-level-2);\n",
       "}\n",
       "\n",
       "/* Specification for estimator info (e.g. \"i\" and \"?\") */\n",
       "\n",
       "/* Common style for \"i\" and \"?\" */\n",
       "\n",
       ".sk-estimator-doc-link,\n",
       "a:link.sk-estimator-doc-link,\n",
       "a:visited.sk-estimator-doc-link {\n",
       "  float: right;\n",
       "  font-size: smaller;\n",
       "  line-height: 1em;\n",
       "  font-family: monospace;\n",
       "  background-color: var(--sklearn-color-background);\n",
       "  border-radius: 1em;\n",
       "  height: 1em;\n",
       "  width: 1em;\n",
       "  text-decoration: none !important;\n",
       "  margin-left: 1ex;\n",
       "  /* unfitted */\n",
       "  border: var(--sklearn-color-unfitted-level-1) 1pt solid;\n",
       "  color: var(--sklearn-color-unfitted-level-1);\n",
       "}\n",
       "\n",
       ".sk-estimator-doc-link.fitted,\n",
       "a:link.sk-estimator-doc-link.fitted,\n",
       "a:visited.sk-estimator-doc-link.fitted {\n",
       "  /* fitted */\n",
       "  border: var(--sklearn-color-fitted-level-1) 1pt solid;\n",
       "  color: var(--sklearn-color-fitted-level-1);\n",
       "}\n",
       "\n",
       "/* On hover */\n",
       "div.sk-estimator:hover .sk-estimator-doc-link:hover,\n",
       ".sk-estimator-doc-link:hover,\n",
       "div.sk-label-container:hover .sk-estimator-doc-link:hover,\n",
       ".sk-estimator-doc-link:hover {\n",
       "  /* unfitted */\n",
       "  background-color: var(--sklearn-color-unfitted-level-3);\n",
       "  color: var(--sklearn-color-background);\n",
       "  text-decoration: none;\n",
       "}\n",
       "\n",
       "div.sk-estimator.fitted:hover .sk-estimator-doc-link.fitted:hover,\n",
       ".sk-estimator-doc-link.fitted:hover,\n",
       "div.sk-label-container:hover .sk-estimator-doc-link.fitted:hover,\n",
       ".sk-estimator-doc-link.fitted:hover {\n",
       "  /* fitted */\n",
       "  background-color: var(--sklearn-color-fitted-level-3);\n",
       "  color: var(--sklearn-color-background);\n",
       "  text-decoration: none;\n",
       "}\n",
       "\n",
       "/* Span, style for the box shown on hovering the info icon */\n",
       ".sk-estimator-doc-link span {\n",
       "  display: none;\n",
       "  z-index: 9999;\n",
       "  position: relative;\n",
       "  font-weight: normal;\n",
       "  right: .2ex;\n",
       "  padding: .5ex;\n",
       "  margin: .5ex;\n",
       "  width: min-content;\n",
       "  min-width: 20ex;\n",
       "  max-width: 50ex;\n",
       "  color: var(--sklearn-color-text);\n",
       "  box-shadow: 2pt 2pt 4pt #999;\n",
       "  /* unfitted */\n",
       "  background: var(--sklearn-color-unfitted-level-0);\n",
       "  border: .5pt solid var(--sklearn-color-unfitted-level-3);\n",
       "}\n",
       "\n",
       ".sk-estimator-doc-link.fitted span {\n",
       "  /* fitted */\n",
       "  background: var(--sklearn-color-fitted-level-0);\n",
       "  border: var(--sklearn-color-fitted-level-3);\n",
       "}\n",
       "\n",
       ".sk-estimator-doc-link:hover span {\n",
       "  display: block;\n",
       "}\n",
       "\n",
       "/* \"?\"-specific style due to the `<a>` HTML tag */\n",
       "\n",
       "#sk-container-id-9 a.estimator_doc_link {\n",
       "  float: right;\n",
       "  font-size: 1rem;\n",
       "  line-height: 1em;\n",
       "  font-family: monospace;\n",
       "  background-color: var(--sklearn-color-background);\n",
       "  border-radius: 1rem;\n",
       "  height: 1rem;\n",
       "  width: 1rem;\n",
       "  text-decoration: none;\n",
       "  /* unfitted */\n",
       "  color: var(--sklearn-color-unfitted-level-1);\n",
       "  border: var(--sklearn-color-unfitted-level-1) 1pt solid;\n",
       "}\n",
       "\n",
       "#sk-container-id-9 a.estimator_doc_link.fitted {\n",
       "  /* fitted */\n",
       "  border: var(--sklearn-color-fitted-level-1) 1pt solid;\n",
       "  color: var(--sklearn-color-fitted-level-1);\n",
       "}\n",
       "\n",
       "/* On hover */\n",
       "#sk-container-id-9 a.estimator_doc_link:hover {\n",
       "  /* unfitted */\n",
       "  background-color: var(--sklearn-color-unfitted-level-3);\n",
       "  color: var(--sklearn-color-background);\n",
       "  text-decoration: none;\n",
       "}\n",
       "\n",
       "#sk-container-id-9 a.estimator_doc_link.fitted:hover {\n",
       "  /* fitted */\n",
       "  background-color: var(--sklearn-color-fitted-level-3);\n",
       "}\n",
       "</style><div id=\"sk-container-id-9\" class=\"sk-top-container\"><div class=\"sk-text-repr-fallback\"><pre>KMeans(max_iter=1000, n_clusters=4)</pre><b>In a Jupyter environment, please rerun this cell to show the HTML representation or trust the notebook. <br />On GitHub, the HTML representation is unable to render, please try loading this page with nbviewer.org.</b></div><div class=\"sk-container\" hidden><div class=\"sk-item\"><div class=\"sk-estimator fitted sk-toggleable\"><input class=\"sk-toggleable__control sk-hidden--visually\" id=\"sk-estimator-id-9\" type=\"checkbox\" checked><label for=\"sk-estimator-id-9\" class=\"sk-toggleable__label fitted sk-toggleable__label-arrow fitted\">&nbsp;&nbsp;KMeans<a class=\"sk-estimator-doc-link fitted\" rel=\"noreferrer\" target=\"_blank\" href=\"https://scikit-learn.org/1.5/modules/generated/sklearn.cluster.KMeans.html\">?<span>Documentation for KMeans</span></a><span class=\"sk-estimator-doc-link fitted\">i<span>Fitted</span></span></label><div class=\"sk-toggleable__content fitted\"><pre>KMeans(max_iter=1000, n_clusters=4)</pre></div> </div></div></div></div>"
      ],
      "text/plain": [
       "KMeans(max_iter=1000, n_clusters=4)"
      ]
     },
     "execution_count": 92,
     "metadata": {},
     "output_type": "execute_result"
    }
   ],
   "source": [
    "kmeans = cluster.KMeans(n_clusters=n_clusters, max_iter=1000)\n",
    "kmeans.fit(X_redux)"
   ]
  },
  {
   "cell_type": "code",
   "execution_count": 114,
   "metadata": {},
   "outputs": [],
   "source": [
    "frame_X = (\n",
    "    pd.DataFrame(X)\n",
    "    .assign(\n",
    "        label = kmeans.labels_\n",
    "    )\n",
    ")"
   ]
  },
  {
   "cell_type": "code",
   "execution_count": 115,
   "metadata": {},
   "outputs": [
    {
     "data": {
      "text/html": [
       "<div>\n",
       "<style scoped>\n",
       "    .dataframe tbody tr th:only-of-type {\n",
       "        vertical-align: middle;\n",
       "    }\n",
       "\n",
       "    .dataframe tbody tr th {\n",
       "        vertical-align: top;\n",
       "    }\n",
       "\n",
       "    .dataframe thead th {\n",
       "        text-align: right;\n",
       "    }\n",
       "</style>\n",
       "<table border=\"1\" class=\"dataframe\">\n",
       "  <thead>\n",
       "    <tr style=\"text-align: right;\">\n",
       "      <th></th>\n",
       "      <th>0</th>\n",
       "      <th>1</th>\n",
       "      <th>2</th>\n",
       "      <th>3</th>\n",
       "      <th>4</th>\n",
       "      <th>5</th>\n",
       "      <th>6</th>\n",
       "      <th>7</th>\n",
       "      <th>8</th>\n",
       "      <th>9</th>\n",
       "      <th>...</th>\n",
       "      <th>45759</th>\n",
       "      <th>45760</th>\n",
       "      <th>45761</th>\n",
       "      <th>45762</th>\n",
       "      <th>45763</th>\n",
       "      <th>45764</th>\n",
       "      <th>45765</th>\n",
       "      <th>45766</th>\n",
       "      <th>45767</th>\n",
       "      <th>label</th>\n",
       "    </tr>\n",
       "  </thead>\n",
       "  <tbody>\n",
       "    <tr>\n",
       "      <th>438</th>\n",
       "      <td>0.0</td>\n",
       "      <td>0.0</td>\n",
       "      <td>0.0</td>\n",
       "      <td>0.0</td>\n",
       "      <td>0.0</td>\n",
       "      <td>0.0</td>\n",
       "      <td>0.0</td>\n",
       "      <td>0.0</td>\n",
       "      <td>0.0</td>\n",
       "      <td>0.0</td>\n",
       "      <td>...</td>\n",
       "      <td>0.0</td>\n",
       "      <td>0.0</td>\n",
       "      <td>0.0</td>\n",
       "      <td>0.0</td>\n",
       "      <td>0.0</td>\n",
       "      <td>0.0</td>\n",
       "      <td>0.0</td>\n",
       "      <td>0.0</td>\n",
       "      <td>0.0</td>\n",
       "      <td>3</td>\n",
       "    </tr>\n",
       "  </tbody>\n",
       "</table>\n",
       "<p>1 rows × 45769 columns</p>\n",
       "</div>"
      ],
      "text/plain": [
       "       0    1    2    3    4    5    6    7    8    9  ...  45759  45760  \\\n",
       "438  0.0  0.0  0.0  0.0  0.0  0.0  0.0  0.0  0.0  0.0  ...    0.0    0.0   \n",
       "\n",
       "     45761  45762  45763  45764  45765  45766  45767  label  \n",
       "438    0.0    0.0    0.0    0.0    0.0    0.0    0.0      3  \n",
       "\n",
       "[1 rows x 45769 columns]"
      ]
     },
     "execution_count": 115,
     "metadata": {},
     "output_type": "execute_result"
    }
   ],
   "source": [
    "frame_X.sample()"
   ]
  },
  {
   "cell_type": "code",
   "execution_count": 116,
   "metadata": {},
   "outputs": [],
   "source": [
    "grouped_frame = (\n",
    "    frame_X.groupby(by=['label'])\n",
    "    .mean()\n",
    "    .reset_index()\n",
    "    )\n",
    "grouped_frame.columns = grouped_frame.columns.astype(str)"
   ]
  },
  {
   "cell_type": "code",
   "execution_count": 117,
   "metadata": {},
   "outputs": [
    {
     "data": {
      "text/html": [
       "<div>\n",
       "<style scoped>\n",
       "    .dataframe tbody tr th:only-of-type {\n",
       "        vertical-align: middle;\n",
       "    }\n",
       "\n",
       "    .dataframe tbody tr th {\n",
       "        vertical-align: top;\n",
       "    }\n",
       "\n",
       "    .dataframe thead th {\n",
       "        text-align: right;\n",
       "    }\n",
       "</style>\n",
       "<table border=\"1\" class=\"dataframe\">\n",
       "  <thead>\n",
       "    <tr style=\"text-align: right;\">\n",
       "      <th></th>\n",
       "      <th>label</th>\n",
       "      <th>0</th>\n",
       "      <th>1</th>\n",
       "      <th>2</th>\n",
       "      <th>3</th>\n",
       "      <th>4</th>\n",
       "      <th>5</th>\n",
       "      <th>6</th>\n",
       "      <th>7</th>\n",
       "      <th>8</th>\n",
       "      <th>...</th>\n",
       "      <th>45758</th>\n",
       "      <th>45759</th>\n",
       "      <th>45760</th>\n",
       "      <th>45761</th>\n",
       "      <th>45762</th>\n",
       "      <th>45763</th>\n",
       "      <th>45764</th>\n",
       "      <th>45765</th>\n",
       "      <th>45766</th>\n",
       "      <th>45767</th>\n",
       "    </tr>\n",
       "  </thead>\n",
       "  <tbody>\n",
       "    <tr>\n",
       "      <th>2</th>\n",
       "      <td>2</td>\n",
       "      <td>0.0</td>\n",
       "      <td>0.0</td>\n",
       "      <td>189.981828</td>\n",
       "      <td>204.982643</td>\n",
       "      <td>0.0</td>\n",
       "      <td>18.288789</td>\n",
       "      <td>6.277745</td>\n",
       "      <td>0.0</td>\n",
       "      <td>162.34521</td>\n",
       "      <td>...</td>\n",
       "      <td>0.0</td>\n",
       "      <td>0.095191</td>\n",
       "      <td>0.0</td>\n",
       "      <td>0.0</td>\n",
       "      <td>0.0</td>\n",
       "      <td>0.0</td>\n",
       "      <td>0.0</td>\n",
       "      <td>0.0</td>\n",
       "      <td>0.0</td>\n",
       "      <td>0.0</td>\n",
       "    </tr>\n",
       "  </tbody>\n",
       "</table>\n",
       "<p>1 rows × 45769 columns</p>\n",
       "</div>"
      ],
      "text/plain": [
       "   label    0    1           2           3    4          5         6    7  \\\n",
       "2      2  0.0  0.0  189.981828  204.982643  0.0  18.288789  6.277745  0.0   \n",
       "\n",
       "           8  ...  45758     45759  45760  45761  45762  45763  45764  45765  \\\n",
       "2  162.34521  ...    0.0  0.095191    0.0    0.0    0.0    0.0    0.0    0.0   \n",
       "\n",
       "   45766  45767  \n",
       "2    0.0    0.0  \n",
       "\n",
       "[1 rows x 45769 columns]"
      ]
     },
     "execution_count": 117,
     "metadata": {},
     "output_type": "execute_result"
    }
   ],
   "source": [
    "grouped_frame.sample()"
   ]
  },
  {
   "cell_type": "code",
   "execution_count": 118,
   "metadata": {},
   "outputs": [
    {
     "name": "stdout",
     "output_type": "stream",
     "text": [
      "(4, 2)\n"
     ]
    }
   ],
   "source": [
    "pca = decomposition.PCA(n_components=2)\n",
    "X_grouped_redux = pca.fit_transform(grouped_frame)\n",
    "print(X_grouped_redux.shape)"
   ]
  },
  {
   "cell_type": "code",
   "execution_count": 120,
   "metadata": {},
   "outputs": [
    {
     "data": {
      "application/vnd.plotly.v1+json": {
       "config": {
        "plotlyServerURL": "https://plot.ly"
       },
       "data": [
        {
         "marker": {
          "color": "blue",
          "size": 12,
          "symbol": "circle-cross-open"
         },
         "mode": "markers",
         "type": "scatter",
         "x": [
          -19232.024487552477,
          -17219.546112317657,
          15170.67734005977,
          21280.893259810386
         ],
         "y": [
          -6020.483475099611,
          6629.578672388199,
          -1854.9818961929207,
          1245.8866989043338
         ]
        }
       ],
       "layout": {
        "template": {
         "data": {
          "bar": [
           {
            "error_x": {
             "color": "#2a3f5f"
            },
            "error_y": {
             "color": "#2a3f5f"
            },
            "marker": {
             "line": {
              "color": "#E5ECF6",
              "width": 0.5
             },
             "pattern": {
              "fillmode": "overlay",
              "size": 10,
              "solidity": 0.2
             }
            },
            "type": "bar"
           }
          ],
          "barpolar": [
           {
            "marker": {
             "line": {
              "color": "#E5ECF6",
              "width": 0.5
             },
             "pattern": {
              "fillmode": "overlay",
              "size": 10,
              "solidity": 0.2
             }
            },
            "type": "barpolar"
           }
          ],
          "carpet": [
           {
            "aaxis": {
             "endlinecolor": "#2a3f5f",
             "gridcolor": "white",
             "linecolor": "white",
             "minorgridcolor": "white",
             "startlinecolor": "#2a3f5f"
            },
            "baxis": {
             "endlinecolor": "#2a3f5f",
             "gridcolor": "white",
             "linecolor": "white",
             "minorgridcolor": "white",
             "startlinecolor": "#2a3f5f"
            },
            "type": "carpet"
           }
          ],
          "choropleth": [
           {
            "colorbar": {
             "outlinewidth": 0,
             "ticks": ""
            },
            "type": "choropleth"
           }
          ],
          "contour": [
           {
            "colorbar": {
             "outlinewidth": 0,
             "ticks": ""
            },
            "colorscale": [
             [
              0,
              "#0d0887"
             ],
             [
              0.1111111111111111,
              "#46039f"
             ],
             [
              0.2222222222222222,
              "#7201a8"
             ],
             [
              0.3333333333333333,
              "#9c179e"
             ],
             [
              0.4444444444444444,
              "#bd3786"
             ],
             [
              0.5555555555555556,
              "#d8576b"
             ],
             [
              0.6666666666666666,
              "#ed7953"
             ],
             [
              0.7777777777777778,
              "#fb9f3a"
             ],
             [
              0.8888888888888888,
              "#fdca26"
             ],
             [
              1,
              "#f0f921"
             ]
            ],
            "type": "contour"
           }
          ],
          "contourcarpet": [
           {
            "colorbar": {
             "outlinewidth": 0,
             "ticks": ""
            },
            "type": "contourcarpet"
           }
          ],
          "heatmap": [
           {
            "colorbar": {
             "outlinewidth": 0,
             "ticks": ""
            },
            "colorscale": [
             [
              0,
              "#0d0887"
             ],
             [
              0.1111111111111111,
              "#46039f"
             ],
             [
              0.2222222222222222,
              "#7201a8"
             ],
             [
              0.3333333333333333,
              "#9c179e"
             ],
             [
              0.4444444444444444,
              "#bd3786"
             ],
             [
              0.5555555555555556,
              "#d8576b"
             ],
             [
              0.6666666666666666,
              "#ed7953"
             ],
             [
              0.7777777777777778,
              "#fb9f3a"
             ],
             [
              0.8888888888888888,
              "#fdca26"
             ],
             [
              1,
              "#f0f921"
             ]
            ],
            "type": "heatmap"
           }
          ],
          "heatmapgl": [
           {
            "colorbar": {
             "outlinewidth": 0,
             "ticks": ""
            },
            "colorscale": [
             [
              0,
              "#0d0887"
             ],
             [
              0.1111111111111111,
              "#46039f"
             ],
             [
              0.2222222222222222,
              "#7201a8"
             ],
             [
              0.3333333333333333,
              "#9c179e"
             ],
             [
              0.4444444444444444,
              "#bd3786"
             ],
             [
              0.5555555555555556,
              "#d8576b"
             ],
             [
              0.6666666666666666,
              "#ed7953"
             ],
             [
              0.7777777777777778,
              "#fb9f3a"
             ],
             [
              0.8888888888888888,
              "#fdca26"
             ],
             [
              1,
              "#f0f921"
             ]
            ],
            "type": "heatmapgl"
           }
          ],
          "histogram": [
           {
            "marker": {
             "pattern": {
              "fillmode": "overlay",
              "size": 10,
              "solidity": 0.2
             }
            },
            "type": "histogram"
           }
          ],
          "histogram2d": [
           {
            "colorbar": {
             "outlinewidth": 0,
             "ticks": ""
            },
            "colorscale": [
             [
              0,
              "#0d0887"
             ],
             [
              0.1111111111111111,
              "#46039f"
             ],
             [
              0.2222222222222222,
              "#7201a8"
             ],
             [
              0.3333333333333333,
              "#9c179e"
             ],
             [
              0.4444444444444444,
              "#bd3786"
             ],
             [
              0.5555555555555556,
              "#d8576b"
             ],
             [
              0.6666666666666666,
              "#ed7953"
             ],
             [
              0.7777777777777778,
              "#fb9f3a"
             ],
             [
              0.8888888888888888,
              "#fdca26"
             ],
             [
              1,
              "#f0f921"
             ]
            ],
            "type": "histogram2d"
           }
          ],
          "histogram2dcontour": [
           {
            "colorbar": {
             "outlinewidth": 0,
             "ticks": ""
            },
            "colorscale": [
             [
              0,
              "#0d0887"
             ],
             [
              0.1111111111111111,
              "#46039f"
             ],
             [
              0.2222222222222222,
              "#7201a8"
             ],
             [
              0.3333333333333333,
              "#9c179e"
             ],
             [
              0.4444444444444444,
              "#bd3786"
             ],
             [
              0.5555555555555556,
              "#d8576b"
             ],
             [
              0.6666666666666666,
              "#ed7953"
             ],
             [
              0.7777777777777778,
              "#fb9f3a"
             ],
             [
              0.8888888888888888,
              "#fdca26"
             ],
             [
              1,
              "#f0f921"
             ]
            ],
            "type": "histogram2dcontour"
           }
          ],
          "mesh3d": [
           {
            "colorbar": {
             "outlinewidth": 0,
             "ticks": ""
            },
            "type": "mesh3d"
           }
          ],
          "parcoords": [
           {
            "line": {
             "colorbar": {
              "outlinewidth": 0,
              "ticks": ""
             }
            },
            "type": "parcoords"
           }
          ],
          "pie": [
           {
            "automargin": true,
            "type": "pie"
           }
          ],
          "scatter": [
           {
            "fillpattern": {
             "fillmode": "overlay",
             "size": 10,
             "solidity": 0.2
            },
            "type": "scatter"
           }
          ],
          "scatter3d": [
           {
            "line": {
             "colorbar": {
              "outlinewidth": 0,
              "ticks": ""
             }
            },
            "marker": {
             "colorbar": {
              "outlinewidth": 0,
              "ticks": ""
             }
            },
            "type": "scatter3d"
           }
          ],
          "scattercarpet": [
           {
            "marker": {
             "colorbar": {
              "outlinewidth": 0,
              "ticks": ""
             }
            },
            "type": "scattercarpet"
           }
          ],
          "scattergeo": [
           {
            "marker": {
             "colorbar": {
              "outlinewidth": 0,
              "ticks": ""
             }
            },
            "type": "scattergeo"
           }
          ],
          "scattergl": [
           {
            "marker": {
             "colorbar": {
              "outlinewidth": 0,
              "ticks": ""
             }
            },
            "type": "scattergl"
           }
          ],
          "scattermapbox": [
           {
            "marker": {
             "colorbar": {
              "outlinewidth": 0,
              "ticks": ""
             }
            },
            "type": "scattermapbox"
           }
          ],
          "scatterpolar": [
           {
            "marker": {
             "colorbar": {
              "outlinewidth": 0,
              "ticks": ""
             }
            },
            "type": "scatterpolar"
           }
          ],
          "scatterpolargl": [
           {
            "marker": {
             "colorbar": {
              "outlinewidth": 0,
              "ticks": ""
             }
            },
            "type": "scatterpolargl"
           }
          ],
          "scatterternary": [
           {
            "marker": {
             "colorbar": {
              "outlinewidth": 0,
              "ticks": ""
             }
            },
            "type": "scatterternary"
           }
          ],
          "surface": [
           {
            "colorbar": {
             "outlinewidth": 0,
             "ticks": ""
            },
            "colorscale": [
             [
              0,
              "#0d0887"
             ],
             [
              0.1111111111111111,
              "#46039f"
             ],
             [
              0.2222222222222222,
              "#7201a8"
             ],
             [
              0.3333333333333333,
              "#9c179e"
             ],
             [
              0.4444444444444444,
              "#bd3786"
             ],
             [
              0.5555555555555556,
              "#d8576b"
             ],
             [
              0.6666666666666666,
              "#ed7953"
             ],
             [
              0.7777777777777778,
              "#fb9f3a"
             ],
             [
              0.8888888888888888,
              "#fdca26"
             ],
             [
              1,
              "#f0f921"
             ]
            ],
            "type": "surface"
           }
          ],
          "table": [
           {
            "cells": {
             "fill": {
              "color": "#EBF0F8"
             },
             "line": {
              "color": "white"
             }
            },
            "header": {
             "fill": {
              "color": "#C8D4E3"
             },
             "line": {
              "color": "white"
             }
            },
            "type": "table"
           }
          ]
         },
         "layout": {
          "annotationdefaults": {
           "arrowcolor": "#2a3f5f",
           "arrowhead": 0,
           "arrowwidth": 1
          },
          "autotypenumbers": "strict",
          "coloraxis": {
           "colorbar": {
            "outlinewidth": 0,
            "ticks": ""
           }
          },
          "colorscale": {
           "diverging": [
            [
             0,
             "#8e0152"
            ],
            [
             0.1,
             "#c51b7d"
            ],
            [
             0.2,
             "#de77ae"
            ],
            [
             0.3,
             "#f1b6da"
            ],
            [
             0.4,
             "#fde0ef"
            ],
            [
             0.5,
             "#f7f7f7"
            ],
            [
             0.6,
             "#e6f5d0"
            ],
            [
             0.7,
             "#b8e186"
            ],
            [
             0.8,
             "#7fbc41"
            ],
            [
             0.9,
             "#4d9221"
            ],
            [
             1,
             "#276419"
            ]
           ],
           "sequential": [
            [
             0,
             "#0d0887"
            ],
            [
             0.1111111111111111,
             "#46039f"
            ],
            [
             0.2222222222222222,
             "#7201a8"
            ],
            [
             0.3333333333333333,
             "#9c179e"
            ],
            [
             0.4444444444444444,
             "#bd3786"
            ],
            [
             0.5555555555555556,
             "#d8576b"
            ],
            [
             0.6666666666666666,
             "#ed7953"
            ],
            [
             0.7777777777777778,
             "#fb9f3a"
            ],
            [
             0.8888888888888888,
             "#fdca26"
            ],
            [
             1,
             "#f0f921"
            ]
           ],
           "sequentialminus": [
            [
             0,
             "#0d0887"
            ],
            [
             0.1111111111111111,
             "#46039f"
            ],
            [
             0.2222222222222222,
             "#7201a8"
            ],
            [
             0.3333333333333333,
             "#9c179e"
            ],
            [
             0.4444444444444444,
             "#bd3786"
            ],
            [
             0.5555555555555556,
             "#d8576b"
            ],
            [
             0.6666666666666666,
             "#ed7953"
            ],
            [
             0.7777777777777778,
             "#fb9f3a"
            ],
            [
             0.8888888888888888,
             "#fdca26"
            ],
            [
             1,
             "#f0f921"
            ]
           ]
          },
          "colorway": [
           "#636efa",
           "#EF553B",
           "#00cc96",
           "#ab63fa",
           "#FFA15A",
           "#19d3f3",
           "#FF6692",
           "#B6E880",
           "#FF97FF",
           "#FECB52"
          ],
          "font": {
           "color": "#2a3f5f"
          },
          "geo": {
           "bgcolor": "white",
           "lakecolor": "white",
           "landcolor": "#E5ECF6",
           "showlakes": true,
           "showland": true,
           "subunitcolor": "white"
          },
          "hoverlabel": {
           "align": "left"
          },
          "hovermode": "closest",
          "mapbox": {
           "style": "light"
          },
          "paper_bgcolor": "white",
          "plot_bgcolor": "#E5ECF6",
          "polar": {
           "angularaxis": {
            "gridcolor": "white",
            "linecolor": "white",
            "ticks": ""
           },
           "bgcolor": "#E5ECF6",
           "radialaxis": {
            "gridcolor": "white",
            "linecolor": "white",
            "ticks": ""
           }
          },
          "scene": {
           "xaxis": {
            "backgroundcolor": "#E5ECF6",
            "gridcolor": "white",
            "gridwidth": 2,
            "linecolor": "white",
            "showbackground": true,
            "ticks": "",
            "zerolinecolor": "white"
           },
           "yaxis": {
            "backgroundcolor": "#E5ECF6",
            "gridcolor": "white",
            "gridwidth": 2,
            "linecolor": "white",
            "showbackground": true,
            "ticks": "",
            "zerolinecolor": "white"
           },
           "zaxis": {
            "backgroundcolor": "#E5ECF6",
            "gridcolor": "white",
            "gridwidth": 2,
            "linecolor": "white",
            "showbackground": true,
            "ticks": "",
            "zerolinecolor": "white"
           }
          },
          "shapedefaults": {
           "line": {
            "color": "#2a3f5f"
           }
          },
          "ternary": {
           "aaxis": {
            "gridcolor": "white",
            "linecolor": "white",
            "ticks": ""
           },
           "baxis": {
            "gridcolor": "white",
            "linecolor": "white",
            "ticks": ""
           },
           "bgcolor": "#E5ECF6",
           "caxis": {
            "gridcolor": "white",
            "linecolor": "white",
            "ticks": ""
           }
          },
          "title": {
           "x": 0.05
          },
          "xaxis": {
           "automargin": true,
           "gridcolor": "white",
           "linecolor": "white",
           "ticks": "",
           "title": {
            "standoff": 15
           },
           "zerolinecolor": "white",
           "zerolinewidth": 2
          },
          "yaxis": {
           "automargin": true,
           "gridcolor": "white",
           "linecolor": "white",
           "ticks": "",
           "title": {
            "standoff": 15
           },
           "zerolinecolor": "white",
           "zerolinewidth": 2
          }
         }
        }
       }
      }
     },
     "metadata": {},
     "output_type": "display_data"
    }
   ],
   "source": [
    "fig = go.Figure()\n",
    "fig.add_traces(\n",
    "    go.Scatter(\n",
    "        x=X_grouped_redux[:,0],\n",
    "       y=X_grouped_redux[:,1],\n",
    "       mode=\"markers\",\n",
    "       marker = {\n",
    "           \"color\":\"blue\",\n",
    "           \"size\":12,\n",
    "           \"symbol\":\"circle-cross-open\",\n",
    "       }\n",
    "    )\n",
    ")\n",
    "\n",
    "fig.show()\n"
   ]
  },
  {
   "cell_type": "code",
   "execution_count": 124,
   "metadata": {},
   "outputs": [
    {
     "data": {
      "application/vnd.plotly.v1+json": {
       "config": {
        "plotlyServerURL": "https://plot.ly"
       },
       "data": [
        {
         "marker": {
          "color": [
           0,
           0,
           0,
           0,
           0,
           0,
           0,
           0,
           0,
           0,
           0,
           2,
           2,
           2,
           2,
           3,
           2,
           2,
           0,
           0,
           0,
           0,
           0,
           0,
           0,
           0,
           0,
           0,
           0,
           1,
           1,
           0,
           0,
           0,
           0,
           0,
           0,
           0,
           0,
           0,
           0,
           0,
           0,
           0,
           0,
           0,
           0,
           0,
           0,
           0,
           0,
           0,
           0,
           0,
           0,
           0,
           0,
           0,
           0,
           0,
           0,
           2,
           2,
           0,
           2,
           3,
           3,
           2,
           3,
           2,
           2,
           3,
           3,
           2,
           2,
           3,
           2,
           2,
           3,
           2,
           0,
           0,
           0,
           0,
           0,
           0,
           0,
           0,
           0,
           0,
           0,
           0,
           0,
           0,
           0,
           0,
           0,
           0,
           0,
           0,
           0,
           0,
           0,
           0,
           0,
           0,
           0,
           0,
           0,
           0,
           0,
           0,
           0,
           0,
           1,
           1,
           1,
           1,
           1,
           1,
           1,
           1,
           1,
           0,
           1,
           0,
           0,
           0,
           0,
           0,
           0,
           1,
           1,
           0,
           0,
           0,
           0,
           0,
           1,
           1,
           0,
           0,
           0,
           0,
           0,
           0,
           0,
           0,
           1,
           1,
           1,
           0,
           1,
           1,
           1,
           1,
           1,
           1,
           1,
           0,
           0,
           1,
           0,
           0,
           0,
           0,
           1,
           1,
           1,
           1,
           1,
           1,
           1,
           0,
           0,
           0,
           0,
           0,
           0,
           0,
           0,
           0,
           1,
           1,
           1,
           0,
           0,
           0,
           1,
           1,
           1,
           0,
           0,
           0,
           0,
           0,
           0,
           1,
           0,
           0,
           0,
           0,
           0,
           0,
           0,
           0,
           0,
           0,
           0,
           0,
           1,
           0,
           0,
           1,
           1,
           1,
           1,
           1,
           1,
           1,
           1,
           1,
           1,
           1,
           1,
           1,
           1,
           0,
           0,
           0,
           1,
           1,
           1,
           1,
           0,
           0,
           0,
           0,
           0,
           0,
           0,
           1,
           1,
           1,
           0,
           0,
           0,
           0,
           0,
           0,
           0,
           0,
           0,
           0,
           0,
           0,
           0,
           0,
           0,
           0,
           0,
           0,
           0,
           0,
           0,
           0,
           0,
           0,
           0,
           0,
           0,
           0,
           0,
           0,
           0,
           0,
           0,
           0,
           0,
           0,
           0,
           0,
           0,
           0,
           0,
           0,
           0,
           0,
           0,
           0,
           0,
           0,
           0,
           0,
           0,
           0,
           1,
           1,
           1,
           1,
           1,
           1,
           1,
           1,
           0,
           0,
           0,
           0,
           0,
           0,
           0,
           0,
           0,
           0,
           0,
           1,
           1,
           1,
           1,
           1,
           1,
           1,
           1,
           0,
           0,
           0,
           0,
           0,
           0,
           0,
           0,
           0,
           0,
           0,
           0,
           1,
           0,
           0,
           1,
           1,
           1,
           1,
           1,
           1,
           1,
           1,
           1,
           0,
           0,
           0,
           0,
           0,
           0,
           0,
           0,
           0,
           0,
           0,
           0,
           0,
           0,
           0,
           0,
           0,
           0,
           0,
           0,
           0,
           0,
           0,
           0,
           0,
           0,
           0,
           0,
           0,
           0,
           0,
           0,
           0,
           0,
           0,
           0,
           0,
           0,
           0,
           0,
           0,
           0,
           0,
           0,
           0,
           0,
           0,
           0,
           0,
           0,
           0,
           0,
           1,
           1,
           0,
           1,
           1,
           1,
           0,
           0,
           0,
           0,
           0,
           0,
           0,
           0,
           0,
           0,
           0,
           0,
           0,
           0,
           0,
           0,
           2,
           0,
           3,
           3,
           2,
           2,
           3,
           3,
           2,
           3,
           3,
           2,
           3,
           3,
           3,
           3,
           2,
           3,
           2,
           3,
           2,
           3,
           3,
           2,
           3,
           2,
           3,
           3,
           0,
           0,
           0,
           0,
           0,
           0,
           0,
           0,
           0,
           0,
           0,
           0,
           0,
           0,
           0,
           0,
           0,
           1,
           1,
           1,
           1,
           1,
           1,
           1,
           0,
           0,
           0,
           1,
           1,
           1,
           1,
           1,
           1,
           1,
           0,
           0,
           0,
           0,
           0,
           0,
           0,
           0,
           0,
           0,
           0,
           0,
           0,
           0,
           0,
           0,
           0,
           0,
           0,
           0,
           0,
           0,
           0,
           0,
           0,
           0,
           0,
           0
          ]
         },
         "mode": "markers",
         "type": "scatter",
         "x": [
          4.993831157684326,
          4.898282051086426,
          4.897646903991699,
          0.3965701758861542,
          5.0032429695129395,
          5.507302284240723,
          5.990781307220459,
          4.304450511932373,
          4.750649929046631,
          5.045512676239014,
          6.441471099853516,
          3.3983278274536133,
          6.409221172332764,
          1.4144619703292847,
          1.8207721710205078,
          5.281429767608643,
          8.059916496276855,
          6.862457752227783,
          -4.943638324737549,
          4.493386745452881,
          -4.46464204788208,
          -2.0089852809906006,
          4.90872049331665,
          -1.107541799545288,
          5.77345085144043,
          -3.0352866649627686,
          5.627594470977783,
          -2.2212600708007812,
          3.543600559234619,
          20.377729415893555,
          22.927248001098633,
          3.7664854526519775,
          4.414905548095703,
          -1.8674684762954712,
          -4.2560906410217285,
          4.9189229011535645,
          -4.861306667327881,
          3.9996719360351562,
          3.564525842666626,
          3.4384374618530273,
          3.959681272506714,
          5.151829242706299,
          -1.1817638874053955,
          -3.658949136734009,
          -4.276278495788574,
          5.013428688049316,
          -2.275292158126831,
          2.3723621368408203,
          -2.4536144733428955,
          -1.0888664722442627,
          -1.8350518941879272,
          -2.399848222732544,
          -4.10612154006958,
          -2.2625091075897217,
          5.060030937194824,
          -1.2053561210632324,
          3.590311288833618,
          -2.838292360305786,
          -4.564920902252197,
          -3.215363025665283,
          5.001315593719482,
          3.2238962650299072,
          2.335987091064453,
          4.776362419128418,
          4.681567668914795,
          3.3453071117401123,
          6.343141555786133,
          3.064204454421997,
          2.816229820251465,
          2.3300769329071045,
          7.009379863739014,
          6.106939315795898,
          5.915769100189209,
          5.894097328186035,
          3.0085365772247314,
          5.328169345855713,
          5.048337459564209,
          3.7435221672058105,
          4.553920745849609,
          3.3746402263641357,
          3.990079879760742,
          7.043257713317871,
          5.806467533111572,
          6.540616035461426,
          6.8948974609375,
          -0.4023354649543762,
          5.58546257019043,
          3.6399009227752686,
          6.254746437072754,
          5.412436485290527,
          6.025375843048096,
          6.211791515350342,
          6.287646770477295,
          0.03998945653438568,
          6.293009281158447,
          5.515848159790039,
          6.9003190994262695,
          6.508656978607178,
          6.579244136810303,
          6.708321571350098,
          0.07353653013706207,
          6.45355749130249,
          8.085554122924805,
          6.59374475479126,
          6.523495197296143,
          7.537778377532959,
          6.1328535079956055,
          7.387585163116455,
          7.8913726806640625,
          5.470660209655762,
          -5.518359184265137,
          -4.449760913848877,
          -3.9292752742767334,
          -3.912105083465576,
          17.84892463684082,
          18.950342178344727,
          17.725393295288086,
          19.448572158813477,
          17.494956970214844,
          17.563631057739258,
          19.232723236083984,
          18.324630737304688,
          19.838159561157227,
          -0.22104588150978088,
          19.029943466186523,
          -0.19479890167713165,
          5.062884330749512,
          5.983461380004883,
          6.0565690994262695,
          5.369204998016357,
          5.389351844787598,
          16.911376953125,
          18.480409622192383,
          0.6287341713905334,
          4.595261096954346,
          -12.500285148620605,
          2.1244213581085205,
          -4.174736976623535,
          25.399673461914062,
          25.33030128479004,
          -12.671670913696289,
          -9.529090881347656,
          -8.467167854309082,
          -13.370924949645996,
          -14.57085132598877,
          -2.973454475402832,
          -3.309234857559204,
          -4.148628234863281,
          24.81814193725586,
          24.800607681274414,
          24.662153244018555,
          -12.58643913269043,
          22.5856876373291,
          20.861953735351562,
          23.587736129760742,
          24.18972396850586,
          23.876773834228516,
          23.700464248657227,
          17.020986557006836,
          -13.045403480529785,
          -9.102103233337402,
          23.300411224365234,
          -2.1765153408050537,
          -2.065001964569092,
          -16.70408058166504,
          -13.956541061401367,
          23.396528244018555,
          22.7919979095459,
          23.771760940551758,
          23.945831298828125,
          23.04795265197754,
          25.082714080810547,
          22.855424880981445,
          -9.82971477508545,
          -13.138299942016602,
          -13.240626335144043,
          -12.678269386291504,
          -11.580464363098145,
          -10.355627059936523,
          -13.420202255249023,
          -15.411698341369629,
          -17.20167350769043,
          21.165952682495117,
          23.915817260742188,
          24.407194137573242,
          -13.8444242477417,
          -9.756628036499023,
          -11.001174926757812,
          22.328073501586914,
          24.36786651611328,
          24.929855346679688,
          -13.704093933105469,
          -13.815399169921875,
          -10.091805458068848,
          -4.355399131774902,
          -4.601800441741943,
          -4.099447727203369,
          17.052141189575195,
          -1.8167015314102173,
          -3.739708185195923,
          -3.696460485458374,
          -3.823237180709839,
          -3.4107277393341064,
          -5.089722156524658,
          -4.5036091804504395,
          -2.339582681655884,
          -2.420241355895996,
          -4.895954132080078,
          -4.099295139312744,
          -5.486787796020508,
          24.50452995300293,
          -7.48045015335083,
          -8.57553482055664,
          18.09490203857422,
          18.225950241088867,
          18.32266616821289,
          18.380786895751953,
          17.747039794921875,
          17.216867446899414,
          18.112882614135742,
          23.831575393676758,
          24.09258270263672,
          20.510934829711914,
          23.527748107910156,
          23.499767303466797,
          22.124698638916016,
          22.486154556274414,
          -9.54112434387207,
          -12.701241493225098,
          -16.068275451660156,
          24.355268478393555,
          23.33501625061035,
          23.249038696289062,
          23.07456398010254,
          -10.179227828979492,
          -3.039767265319824,
          -2.8967883586883545,
          -2.6977696418762207,
          -5.446284294128418,
          -3.0658910274505615,
          -4.709015846252441,
          21.0372257232666,
          23.462244033813477,
          21.831878662109375,
          -11.890665054321289,
          -15.01472282409668,
          -12.551897048950195,
          -10.232641220092773,
          -15.144774436950684,
          -12.6272554397583,
          -9.983041763305664,
          -11.783225059509277,
          -12.198914527893066,
          -10.231412887573242,
          -15.91727352142334,
          -8.74514102935791,
          -11.833765029907227,
          -11.848033905029297,
          -10.442865371704102,
          -5.680025577545166,
          -9.346566200256348,
          -11.246609687805176,
          -12.77332878112793,
          -11.319527626037598,
          -11.615100860595703,
          -14.78418254852295,
          -9.976758003234863,
          -10.656859397888184,
          -12.178662300109863,
          -12.208961486816406,
          -12.035331726074219,
          -10.721956253051758,
          -12.290570259094238,
          -13.032302856445312,
          -10.791851043701172,
          -14.520172119140625,
          -16.775964736938477,
          -11.691267013549805,
          -12.990514755249023,
          -14.866928100585938,
          -16.101930618286133,
          -13.260100364685059,
          -17.00263786315918,
          -18.262414932250977,
          -18.17196273803711,
          -12.95215129852295,
          -17.14473533630371,
          -9.887861251831055,
          -10.862844467163086,
          -11.189637184143066,
          -9.998380661010742,
          -10.934258460998535,
          -12.921624183654785,
          -11.95278549194336,
          -12.109346389770508,
          -10.652103424072266,
          17.486108779907227,
          15.81512451171875,
          18.735074996948242,
          17.356454849243164,
          17.99403953552246,
          18.24109649658203,
          17.79620361328125,
          17.24765968322754,
          -12.442398071289062,
          -14.755934715270996,
          -15.421760559082031,
          -8.926677703857422,
          -8.084555625915527,
          -7.127596855163574,
          -12.725467681884766,
          -15.008590698242188,
          -5.992219924926758,
          -10.839757919311523,
          -9.090377807617188,
          18.347312927246094,
          17.024335861206055,
          20.129297256469727,
          18.26746940612793,
          17.254959106445312,
          18.410078048706055,
          18.48379898071289,
          17.922073364257812,
          -9.053982734680176,
          -13.980896949768066,
          -13.28299331665039,
          -10.837226867675781,
          -11.913325309753418,
          -12.755683898925781,
          -17.993303298950195,
          -12.23787784576416,
          -10.231637954711914,
          -14.212067604064941,
          -10.929760932922363,
          -7.9020915031433105,
          20.078575134277344,
          -10.164312362670898,
          -7.36815881729126,
          17.829683303833008,
          17.536930084228516,
          17.881732940673828,
          18.79884910583496,
          18.18244171142578,
          17.338674545288086,
          17.57642364501953,
          19.837133407592773,
          19.198118209838867,
          -17.370439529418945,
          -6.855877876281738,
          -10.612945556640625,
          -13.026790618896484,
          -13.065797805786133,
          -9.184632301330566,
          -14.209993362426758,
          -9.96298885345459,
          -12.935956954956055,
          -11.525787353515625,
          -9.63372802734375,
          -7.25147819519043,
          -10.007182121276855,
          -9.519790649414062,
          -11.01440143585205,
          -11.145271301269531,
          -11.8751859664917,
          -12.825972557067871,
          -15.524370193481445,
          -13.427748680114746,
          -8.198084831237793,
          -5.769771099090576,
          -6.345794677734375,
          -10.302071571350098,
          -7.162474632263184,
          -4.444830894470215,
          -7.343998432159424,
          -12.230762481689453,
          -6.894604206085205,
          -12.206782341003418,
          -12.191336631774902,
          -5.03098726272583,
          -16.69212532043457,
          -5.764585971832275,
          -13.304412841796875,
          -15.603439331054688,
          -16.676124572753906,
          -13.320229530334473,
          -7.966460704803467,
          -11.895031929016113,
          -10.631351470947266,
          -10.02524471282959,
          -10.043692588806152,
          -16.05218505859375,
          -8.9778470993042,
          -8.504841804504395,
          -13.824716567993164,
          -9.596445083618164,
          -11.165892601013184,
          -12.957155227661133,
          -13.821178436279297,
          -10.063314437866211,
          19.86324691772461,
          25.02528953552246,
          -13.842154502868652,
          21.790037155151367,
          22.501983642578125,
          22.869535446166992,
          -7.269026279449463,
          -12.478198051452637,
          -8.934211730957031,
          -10.551426887512207,
          -8.44742488861084,
          -15.089357376098633,
          -5.721461772918701,
          -12.016486167907715,
          -9.450624465942383,
          -14.441868782043457,
          -14.682168006896973,
          -10.32324504852295,
          -9.626185417175293,
          -15.494476318359375,
          -8.922953605651855,
          -15.400689125061035,
          3.8627800941467285,
          -13.973352432250977,
          3.592738389968872,
          6.597358703613281,
          7.264388561248779,
          3.1510720252990723,
          5.774037837982178,
          4.483368873596191,
          4.682741641998291,
          5.347987651824951,
          5.718721389770508,
          4.586984634399414,
          5.406773567199707,
          5.545407295227051,
          7.727527141571045,
          5.936003684997559,
          5.167699337005615,
          5.964583396911621,
          5.255202293395996,
          3.999803066253662,
          6.972435474395752,
          4.984570026397705,
          3.7596004009246826,
          4.984452724456787,
          6.223267555236816,
          4.323559761047363,
          5.398709774017334,
          6.762026309967041,
          -5.732653617858887,
          -8.387843132019043,
          -8.394306182861328,
          -8.227935791015625,
          -8.450481414794922,
          -7.5055084228515625,
          -9.160238265991211,
          -1.9721225500106812,
          -4.858194351196289,
          -2.1685826778411865,
          -1.3233904838562012,
          4.182374954223633,
          4.884644031524658,
          -3.4794533252716064,
          4.471683979034424,
          -4.495405673980713,
          -1.9820634126663208,
          23.754770278930664,
          21.00403594970703,
          21.078388214111328,
          22.642684936523438,
          22.08863639831543,
          23.259849548339844,
          21.509550094604492,
          5.543851375579834,
          -9.168763160705566,
          -15.73932933807373,
          23.810747146606445,
          21.2523136138916,
          21.640352249145508,
          21.366432189941406,
          20.760215759277344,
          21.558691024780273,
          20.80870819091797,
          -7.4622087478637695,
          -8.141284942626953,
          -16.424877166748047,
          -14.405336380004883,
          -14.749106407165527,
          -12.855834007263184,
          -9.100692749023438,
          -8.926093101501465,
          -16.53958511352539,
          -8.713077545166016,
          -8.605902671813965,
          -7.312098979949951,
          5.91356086730957,
          -5.7252326011657715,
          -5.133908748626709,
          -7.680243015289307,
          -4.3084259033203125,
          -4.879376411437988,
          -6.654008388519287,
          -6.574524402618408,
          -5.125852108001709,
          -5.838389873504639,
          -6.2928690910339355,
          -4.856812477111816,
          -5.660968780517578,
          -7.08233642578125,
          -5.6192522048950195,
          -7.8268961906433105
         ],
         "y": [
          27.68610191345215,
          28.895875930786133,
          25.899642944335938,
          15.70561695098877,
          27.55638313293457,
          27.23847007751465,
          27.29285430908203,
          28.34588050842285,
          28.41914939880371,
          29.607769012451172,
          29.412473678588867,
          9.254075050354004,
          7.9907755851745605,
          7.05744743347168,
          9.865402221679688,
          2.001220703125,
          5.981016159057617,
          5.825379848480225,
          21.631383895874023,
          31.15911293029785,
          21.357704162597656,
          16.63159942626953,
          31.74498748779297,
          15.116761207580566,
          32.701377868652344,
          17.381074905395508,
          33.18411636352539,
          19.348125457763672,
          30.022253036499023,
          -5.624637126922607,
          -8.425934791564941,
          29.86983299255371,
          31.827613830566406,
          15.600043296813965,
          21.013324737548828,
          32.38911437988281,
          20.868690490722656,
          31.610445022583008,
          28.706872940063477,
          31.029386520385742,
          30.627410888671875,
          31.498844146728516,
          16.530094146728516,
          20.060501098632812,
          20.527481079101562,
          32.60005569458008,
          19.722841262817383,
          29.714815139770508,
          19.559856414794922,
          15.979811668395996,
          15.900640487670898,
          17.026336669921875,
          19.801467895507812,
          17.031423568725586,
          33.138221740722656,
          15.540124893188477,
          30.847843170166016,
          16.416748046875,
          20.418704986572266,
          19.115474700927734,
          31.902305603027344,
          7.040772438049316,
          8.391568183898926,
          29.242420196533203,
          4.154433727264404,
          3.159745216369629,
          5.5094380378723145,
          6.618709564208984,
          4.998433589935303,
          7.474701404571533,
          2.7673871517181396,
          4.596133232116699,
          4.8313703536987305,
          6.402405738830566,
          8.29555892944336,
          4.975002765655518,
          5.218188285827637,
          7.852069854736328,
          5.7612385749816895,
          7.903728485107422,
          32.97813034057617,
          27.323482513427734,
          28.644563674926758,
          29.83936309814453,
          28.802692413330078,
          18.853748321533203,
          31.337984085083008,
          33.28532028198242,
          32.25050354003906,
          28.00922393798828,
          26.12733268737793,
          29.649381637573242,
          28.656435012817383,
          16.198335647583008,
          32.50688552856445,
          25.757139205932617,
          26.878324508666992,
          26.970781326293945,
          31.393991470336914,
          28.965038299560547,
          16.700969696044922,
          31.366928100585938,
          27.527990341186523,
          31.20625877380371,
          30.073280334472656,
          28.285022735595703,
          30.937137603759766,
          26.62227439880371,
          28.106027603149414,
          32.464195251464844,
          20.8187313079834,
          15.403701782226562,
          14.726664543151855,
          15.039645195007324,
          -6.149649620056152,
          -9.699536323547363,
          -3.855179786682129,
          -5.4852399826049805,
          -2.5016534328460693,
          -2.3330132961273193,
          -6.440380096435547,
          -5.207510948181152,
          -7.111246109008789,
          15.828849792480469,
          -6.397622585296631,
          17.423812866210938,
          28.107769012451172,
          29.236068725585938,
          29.297460556030273,
          28.094099044799805,
          30.09171485900879,
          -3.393834114074707,
          -6.837578296661377,
          15.2854642868042,
          28.78585433959961,
          -1.5193524360656738,
          30.322751998901367,
          14.889097213745117,
          -3.0985498428344727,
          -3.2769620418548584,
          -1.2722342014312744,
          -7.321881294250488,
          -18.127117156982422,
          -12.851669311523438,
          -12.018519401550293,
          15.610974311828613,
          16.14430809020996,
          15.75029182434082,
          -2.86356520652771,
          -2.8034348487854004,
          -2.7767910957336426,
          -1.3867570161819458,
          -8.338644027709961,
          -8.539566040039062,
          -7.624344825744629,
          -5.517670631408691,
          -6.580286026000977,
          -6.128300189971924,
          -7.183654308319092,
          -9.540473937988281,
          -8.993110656738281,
          -3.1600568294525146,
          14.446962356567383,
          14.906307220458984,
          -10.937948226928711,
          -11.775577545166016,
          -3.8078174591064453,
          -4.396612644195557,
          -5.324880599975586,
          -4.382451057434082,
          -5.030627727508545,
          -4.424630165100098,
          -7.781591892242432,
          -19.926532745361328,
          -9.2914400100708,
          -11.800488471984863,
          -16.222169876098633,
          -13.900805473327637,
          -6.5524821281433105,
          -5.489625930786133,
          -17.173330307006836,
          -11.505455017089844,
          -8.64931869506836,
          -4.785215377807617,
          -4.944619655609131,
          -17.313045501708984,
          -17.30632972717285,
          -7.386636257171631,
          -5.836284160614014,
          -5.401647567749023,
          -5.056768894195557,
          -17.791471481323242,
          -4.56873083114624,
          -2.322601318359375,
          19.23084831237793,
          18.326017379760742,
          19.40411949157715,
          -7.773317813873291,
          17.97788429260254,
          17.340885162353516,
          18.485246658325195,
          19.184892654418945,
          18.57318687438965,
          19.269548416137695,
          18.663314819335938,
          18.35219955444336,
          18.268829345703125,
          19.727373123168945,
          18.663148880004883,
          20.07455825805664,
          -8.44530200958252,
          -16.76588249206543,
          -18.238069534301758,
          -9.634801864624023,
          -3.590047597885132,
          -10.035874366760254,
          -8.286606788635254,
          -9.407702445983887,
          -5.932823657989502,
          -9.87087631225586,
          -7.638333320617676,
          -7.819789409637451,
          -8.620306015014648,
          -6.945582866668701,
          -8.25487232208252,
          -7.792552471160889,
          -7.192509651184082,
          -17.923603057861328,
          -12.58302116394043,
          -7.433890342712402,
          -6.977745056152344,
          -5.700749397277832,
          -4.197566509246826,
          -4.744067192077637,
          -5.660667896270752,
          16.990711212158203,
          17.8673152923584,
          16.66251564025879,
          20.571550369262695,
          19.544984817504883,
          19.135217666625977,
          -7.5057573318481445,
          -6.177192211151123,
          -8.21996021270752,
          -8.147027015686035,
          -16.785911560058594,
          -8.879837989807129,
          -19.267728805541992,
          -15.186992645263672,
          -8.259055137634277,
          -14.879115104675293,
          -15.977683067321777,
          -17.967853546142578,
          -12.458805084228516,
          -10.779130935668945,
          -11.205106735229492,
          -18.473541259765625,
          -5.558220863342285,
          -4.826818943023682,
          -8.164459228515625,
          -13.338991165161133,
          -4.340631008148193,
          -11.515853881835938,
          -4.238624095916748,
          -4.013844013214111,
          -7.883762836456299,
          -19.11279296875,
          -10.306486129760742,
          -5.3970255851745605,
          -7.176845073699951,
          -11.249691009521484,
          -11.684060096740723,
          -5.292389392852783,
          -5.725297927856445,
          -3.1431729793548584,
          -17.712203979492188,
          -11.49759292602539,
          -4.197146892547607,
          -7.588892459869385,
          -16.4133358001709,
          -10.249421119689941,
          -7.271023273468018,
          -11.031822204589844,
          -8.153180122375488,
          -8.068472862243652,
          -6.650166988372803,
          -11.776219367980957,
          -11.573509216308594,
          -7.8833770751953125,
          -12.914190292358398,
          -10.68804931640625,
          -12.881044387817383,
          -18.07640266418457,
          -11.822063446044922,
          -8.610549926757812,
          -11.462747573852539,
          -3.0447590351104736,
          -3.8031468391418457,
          -6.275928497314453,
          -5.47226619720459,
          -10.01336669921875,
          -7.734370231628418,
          -7.056687355041504,
          -5.665884494781494,
          -18.526416778564453,
          -4.924075126647949,
          -17.62969207763672,
          -8.468107223510742,
          -6.246062755584717,
          -3.2106306552886963,
          -18.9405460357666,
          -17.253694534301758,
          -7.225342750549316,
          -6.247491836547852,
          -8.815518379211426,
          -7.069364547729492,
          -4.348482131958008,
          -8.390993118286133,
          -10.323780059814453,
          -3.9584310054779053,
          -8.965065956115723,
          -10.013853073120117,
          -3.5182137489318848,
          -17.569337844848633,
          -4.975048065185547,
          -4.272891044616699,
          -11.136360168457031,
          -14.031067848205566,
          -13.126291275024414,
          -8.053595542907715,
          -3.384186267852783,
          -3.9758243560791016,
          -16.569782257080078,
          -12.060600280761719,
          -12.009413719177246,
          -8.377106666564941,
          -4.550512790679932,
          -2.5890450477600098,
          -5.972944736480713,
          -2.7168052196502686,
          -3.0391740798950195,
          -2.7759668827056885,
          -3.9605188369750977,
          -7.111956596374512,
          -3.125751256942749,
          -7.504443645477295,
          -5.226082801818848,
          -8.136773109436035,
          -5.721668720245361,
          -15.102466583251953,
          -13.691366195678711,
          -16.44670295715332,
          -9.342873573303223,
          -13.716609001159668,
          -10.692778587341309,
          -16.432626724243164,
          -14.775002479553223,
          -4.1166605949401855,
          -12.152491569519043,
          -4.134920120239258,
          -17.462791442871094,
          -13.613704681396484,
          -14.688858032226562,
          -10.594688415527344,
          -18.966720581054688,
          -9.092000961303711,
          -18.691078186035156,
          -5.214919567108154,
          -7.152198314666748,
          -6.501900672912598,
          -13.63869857788086,
          -11.038969993591309,
          -8.032244682312012,
          -12.560921669006348,
          -16.969820022583008,
          -11.77513313293457,
          -15.560654640197754,
          -16.876867294311523,
          -9.983358383178711,
          -10.395087242126465,
          -10.496698379516602,
          -17.817127227783203,
          -6.070098876953125,
          -6.662561416625977,
          -16.424110412597656,
          -13.005997657775879,
          -16.25959587097168,
          -13.844995498657227,
          -11.40894889831543,
          -13.960115432739258,
          -10.828580856323242,
          -12.720794677734375,
          -12.265159606933594,
          -14.303510665893555,
          -12.209675788879395,
          -13.826566696166992,
          -17.040868759155273,
          -14.44371509552002,
          -12.867968559265137,
          -7.359556198120117,
          -6.032363414764404,
          -16.491933822631836,
          -5.82583475112915,
          -6.425285339355469,
          -3.3665671348571777,
          -16.41378402709961,
          -12.607648849487305,
          -3.362186908721924,
          -18.01027488708496,
          -3.4403955936431885,
          -5.28300142288208,
          -7.6610260009765625,
          -10.106614112854004,
          -3.721553325653076,
          -7.652359962463379,
          -8.066266059875488,
          -5.597758769989014,
          -2.893648862838745,
          -5.544077396392822,
          -4.542848587036133,
          -6.659814834594727,
          4.941930294036865,
          -14.11736011505127,
          4.343776226043701,
          4.844634532928467,
          4.962173938751221,
          7.965716361999512,
          3.2651052474975586,
          3.126819372177124,
          8.777294158935547,
          4.182825088500977,
          5.648529052734375,
          6.600528240203857,
          4.900460243225098,
          4.57972526550293,
          4.121777534484863,
          5.553177833557129,
          3.534745216369629,
          4.5653395652771,
          6.222512722015381,
          4.201410293579102,
          6.855614185333252,
          5.16757869720459,
          5.93187141418457,
          7.438759803771973,
          3.666454315185547,
          4.863724708557129,
          5.276634693145752,
          4.119293212890625,
          -6.323636531829834,
          -4.962606430053711,
          -2.934238910675049,
          -3.9839026927948,
          -4.440955638885498,
          -16.63612174987793,
          -5.560451984405518,
          16.95895767211914,
          20.29900550842285,
          17.544775009155273,
          16.9449520111084,
          29.80388641357422,
          30.54911994934082,
          19.893274307250977,
          29.270076751708984,
          19.842382431030273,
          17.37896728515625,
          -8.279309272766113,
          -6.2091193199157715,
          -5.395431995391846,
          -7.330526351928711,
          -3.1550846099853516,
          -6.738139629364014,
          -4.114599227905273,
          28.92399024963379,
          -2.6037793159484863,
          -7.321782112121582,
          -9.017644882202148,
          -4.722771644592285,
          -4.033017635345459,
          -4.851410388946533,
          -2.3671631813049316,
          -2.956212282180786,
          -6.114664554595947,
          -10.342194557189941,
          -10.677931785583496,
          -10.333044052124023,
          -7.744651794433594,
          -6.570383548736572,
          -7.027943134307861,
          -12.082934379577637,
          -17.590845108032227,
          -10.255569458007812,
          -10.900736808776855,
          -10.519864082336426,
          -10.427807807922363,
          27.65534782409668,
          -8.932055473327637,
          -7.858529567718506,
          -7.700238227844238,
          -8.69893741607666,
          -8.594666481018066,
          -9.218497276306152,
          -9.166328430175781,
          -9.01855182647705,
          -3.9242892265319824,
          -3.8457305431365967,
          -8.946974754333496,
          -9.41729736328125,
          -8.862813949584961,
          -9.207736015319824,
          -7.911613941192627
         ]
        }
       ],
       "layout": {
        "template": {
         "data": {
          "bar": [
           {
            "error_x": {
             "color": "#2a3f5f"
            },
            "error_y": {
             "color": "#2a3f5f"
            },
            "marker": {
             "line": {
              "color": "#E5ECF6",
              "width": 0.5
             },
             "pattern": {
              "fillmode": "overlay",
              "size": 10,
              "solidity": 0.2
             }
            },
            "type": "bar"
           }
          ],
          "barpolar": [
           {
            "marker": {
             "line": {
              "color": "#E5ECF6",
              "width": 0.5
             },
             "pattern": {
              "fillmode": "overlay",
              "size": 10,
              "solidity": 0.2
             }
            },
            "type": "barpolar"
           }
          ],
          "carpet": [
           {
            "aaxis": {
             "endlinecolor": "#2a3f5f",
             "gridcolor": "white",
             "linecolor": "white",
             "minorgridcolor": "white",
             "startlinecolor": "#2a3f5f"
            },
            "baxis": {
             "endlinecolor": "#2a3f5f",
             "gridcolor": "white",
             "linecolor": "white",
             "minorgridcolor": "white",
             "startlinecolor": "#2a3f5f"
            },
            "type": "carpet"
           }
          ],
          "choropleth": [
           {
            "colorbar": {
             "outlinewidth": 0,
             "ticks": ""
            },
            "type": "choropleth"
           }
          ],
          "contour": [
           {
            "colorbar": {
             "outlinewidth": 0,
             "ticks": ""
            },
            "colorscale": [
             [
              0,
              "#0d0887"
             ],
             [
              0.1111111111111111,
              "#46039f"
             ],
             [
              0.2222222222222222,
              "#7201a8"
             ],
             [
              0.3333333333333333,
              "#9c179e"
             ],
             [
              0.4444444444444444,
              "#bd3786"
             ],
             [
              0.5555555555555556,
              "#d8576b"
             ],
             [
              0.6666666666666666,
              "#ed7953"
             ],
             [
              0.7777777777777778,
              "#fb9f3a"
             ],
             [
              0.8888888888888888,
              "#fdca26"
             ],
             [
              1,
              "#f0f921"
             ]
            ],
            "type": "contour"
           }
          ],
          "contourcarpet": [
           {
            "colorbar": {
             "outlinewidth": 0,
             "ticks": ""
            },
            "type": "contourcarpet"
           }
          ],
          "heatmap": [
           {
            "colorbar": {
             "outlinewidth": 0,
             "ticks": ""
            },
            "colorscale": [
             [
              0,
              "#0d0887"
             ],
             [
              0.1111111111111111,
              "#46039f"
             ],
             [
              0.2222222222222222,
              "#7201a8"
             ],
             [
              0.3333333333333333,
              "#9c179e"
             ],
             [
              0.4444444444444444,
              "#bd3786"
             ],
             [
              0.5555555555555556,
              "#d8576b"
             ],
             [
              0.6666666666666666,
              "#ed7953"
             ],
             [
              0.7777777777777778,
              "#fb9f3a"
             ],
             [
              0.8888888888888888,
              "#fdca26"
             ],
             [
              1,
              "#f0f921"
             ]
            ],
            "type": "heatmap"
           }
          ],
          "heatmapgl": [
           {
            "colorbar": {
             "outlinewidth": 0,
             "ticks": ""
            },
            "colorscale": [
             [
              0,
              "#0d0887"
             ],
             [
              0.1111111111111111,
              "#46039f"
             ],
             [
              0.2222222222222222,
              "#7201a8"
             ],
             [
              0.3333333333333333,
              "#9c179e"
             ],
             [
              0.4444444444444444,
              "#bd3786"
             ],
             [
              0.5555555555555556,
              "#d8576b"
             ],
             [
              0.6666666666666666,
              "#ed7953"
             ],
             [
              0.7777777777777778,
              "#fb9f3a"
             ],
             [
              0.8888888888888888,
              "#fdca26"
             ],
             [
              1,
              "#f0f921"
             ]
            ],
            "type": "heatmapgl"
           }
          ],
          "histogram": [
           {
            "marker": {
             "pattern": {
              "fillmode": "overlay",
              "size": 10,
              "solidity": 0.2
             }
            },
            "type": "histogram"
           }
          ],
          "histogram2d": [
           {
            "colorbar": {
             "outlinewidth": 0,
             "ticks": ""
            },
            "colorscale": [
             [
              0,
              "#0d0887"
             ],
             [
              0.1111111111111111,
              "#46039f"
             ],
             [
              0.2222222222222222,
              "#7201a8"
             ],
             [
              0.3333333333333333,
              "#9c179e"
             ],
             [
              0.4444444444444444,
              "#bd3786"
             ],
             [
              0.5555555555555556,
              "#d8576b"
             ],
             [
              0.6666666666666666,
              "#ed7953"
             ],
             [
              0.7777777777777778,
              "#fb9f3a"
             ],
             [
              0.8888888888888888,
              "#fdca26"
             ],
             [
              1,
              "#f0f921"
             ]
            ],
            "type": "histogram2d"
           }
          ],
          "histogram2dcontour": [
           {
            "colorbar": {
             "outlinewidth": 0,
             "ticks": ""
            },
            "colorscale": [
             [
              0,
              "#0d0887"
             ],
             [
              0.1111111111111111,
              "#46039f"
             ],
             [
              0.2222222222222222,
              "#7201a8"
             ],
             [
              0.3333333333333333,
              "#9c179e"
             ],
             [
              0.4444444444444444,
              "#bd3786"
             ],
             [
              0.5555555555555556,
              "#d8576b"
             ],
             [
              0.6666666666666666,
              "#ed7953"
             ],
             [
              0.7777777777777778,
              "#fb9f3a"
             ],
             [
              0.8888888888888888,
              "#fdca26"
             ],
             [
              1,
              "#f0f921"
             ]
            ],
            "type": "histogram2dcontour"
           }
          ],
          "mesh3d": [
           {
            "colorbar": {
             "outlinewidth": 0,
             "ticks": ""
            },
            "type": "mesh3d"
           }
          ],
          "parcoords": [
           {
            "line": {
             "colorbar": {
              "outlinewidth": 0,
              "ticks": ""
             }
            },
            "type": "parcoords"
           }
          ],
          "pie": [
           {
            "automargin": true,
            "type": "pie"
           }
          ],
          "scatter": [
           {
            "fillpattern": {
             "fillmode": "overlay",
             "size": 10,
             "solidity": 0.2
            },
            "type": "scatter"
           }
          ],
          "scatter3d": [
           {
            "line": {
             "colorbar": {
              "outlinewidth": 0,
              "ticks": ""
             }
            },
            "marker": {
             "colorbar": {
              "outlinewidth": 0,
              "ticks": ""
             }
            },
            "type": "scatter3d"
           }
          ],
          "scattercarpet": [
           {
            "marker": {
             "colorbar": {
              "outlinewidth": 0,
              "ticks": ""
             }
            },
            "type": "scattercarpet"
           }
          ],
          "scattergeo": [
           {
            "marker": {
             "colorbar": {
              "outlinewidth": 0,
              "ticks": ""
             }
            },
            "type": "scattergeo"
           }
          ],
          "scattergl": [
           {
            "marker": {
             "colorbar": {
              "outlinewidth": 0,
              "ticks": ""
             }
            },
            "type": "scattergl"
           }
          ],
          "scattermapbox": [
           {
            "marker": {
             "colorbar": {
              "outlinewidth": 0,
              "ticks": ""
             }
            },
            "type": "scattermapbox"
           }
          ],
          "scatterpolar": [
           {
            "marker": {
             "colorbar": {
              "outlinewidth": 0,
              "ticks": ""
             }
            },
            "type": "scatterpolar"
           }
          ],
          "scatterpolargl": [
           {
            "marker": {
             "colorbar": {
              "outlinewidth": 0,
              "ticks": ""
             }
            },
            "type": "scatterpolargl"
           }
          ],
          "scatterternary": [
           {
            "marker": {
             "colorbar": {
              "outlinewidth": 0,
              "ticks": ""
             }
            },
            "type": "scatterternary"
           }
          ],
          "surface": [
           {
            "colorbar": {
             "outlinewidth": 0,
             "ticks": ""
            },
            "colorscale": [
             [
              0,
              "#0d0887"
             ],
             [
              0.1111111111111111,
              "#46039f"
             ],
             [
              0.2222222222222222,
              "#7201a8"
             ],
             [
              0.3333333333333333,
              "#9c179e"
             ],
             [
              0.4444444444444444,
              "#bd3786"
             ],
             [
              0.5555555555555556,
              "#d8576b"
             ],
             [
              0.6666666666666666,
              "#ed7953"
             ],
             [
              0.7777777777777778,
              "#fb9f3a"
             ],
             [
              0.8888888888888888,
              "#fdca26"
             ],
             [
              1,
              "#f0f921"
             ]
            ],
            "type": "surface"
           }
          ],
          "table": [
           {
            "cells": {
             "fill": {
              "color": "#EBF0F8"
             },
             "line": {
              "color": "white"
             }
            },
            "header": {
             "fill": {
              "color": "#C8D4E3"
             },
             "line": {
              "color": "white"
             }
            },
            "type": "table"
           }
          ]
         },
         "layout": {
          "annotationdefaults": {
           "arrowcolor": "#2a3f5f",
           "arrowhead": 0,
           "arrowwidth": 1
          },
          "autotypenumbers": "strict",
          "coloraxis": {
           "colorbar": {
            "outlinewidth": 0,
            "ticks": ""
           }
          },
          "colorscale": {
           "diverging": [
            [
             0,
             "#8e0152"
            ],
            [
             0.1,
             "#c51b7d"
            ],
            [
             0.2,
             "#de77ae"
            ],
            [
             0.3,
             "#f1b6da"
            ],
            [
             0.4,
             "#fde0ef"
            ],
            [
             0.5,
             "#f7f7f7"
            ],
            [
             0.6,
             "#e6f5d0"
            ],
            [
             0.7,
             "#b8e186"
            ],
            [
             0.8,
             "#7fbc41"
            ],
            [
             0.9,
             "#4d9221"
            ],
            [
             1,
             "#276419"
            ]
           ],
           "sequential": [
            [
             0,
             "#0d0887"
            ],
            [
             0.1111111111111111,
             "#46039f"
            ],
            [
             0.2222222222222222,
             "#7201a8"
            ],
            [
             0.3333333333333333,
             "#9c179e"
            ],
            [
             0.4444444444444444,
             "#bd3786"
            ],
            [
             0.5555555555555556,
             "#d8576b"
            ],
            [
             0.6666666666666666,
             "#ed7953"
            ],
            [
             0.7777777777777778,
             "#fb9f3a"
            ],
            [
             0.8888888888888888,
             "#fdca26"
            ],
            [
             1,
             "#f0f921"
            ]
           ],
           "sequentialminus": [
            [
             0,
             "#0d0887"
            ],
            [
             0.1111111111111111,
             "#46039f"
            ],
            [
             0.2222222222222222,
             "#7201a8"
            ],
            [
             0.3333333333333333,
             "#9c179e"
            ],
            [
             0.4444444444444444,
             "#bd3786"
            ],
            [
             0.5555555555555556,
             "#d8576b"
            ],
            [
             0.6666666666666666,
             "#ed7953"
            ],
            [
             0.7777777777777778,
             "#fb9f3a"
            ],
            [
             0.8888888888888888,
             "#fdca26"
            ],
            [
             1,
             "#f0f921"
            ]
           ]
          },
          "colorway": [
           "#636efa",
           "#EF553B",
           "#00cc96",
           "#ab63fa",
           "#FFA15A",
           "#19d3f3",
           "#FF6692",
           "#B6E880",
           "#FF97FF",
           "#FECB52"
          ],
          "font": {
           "color": "#2a3f5f"
          },
          "geo": {
           "bgcolor": "white",
           "lakecolor": "white",
           "landcolor": "#E5ECF6",
           "showlakes": true,
           "showland": true,
           "subunitcolor": "white"
          },
          "hoverlabel": {
           "align": "left"
          },
          "hovermode": "closest",
          "mapbox": {
           "style": "light"
          },
          "paper_bgcolor": "white",
          "plot_bgcolor": "#E5ECF6",
          "polar": {
           "angularaxis": {
            "gridcolor": "white",
            "linecolor": "white",
            "ticks": ""
           },
           "bgcolor": "#E5ECF6",
           "radialaxis": {
            "gridcolor": "white",
            "linecolor": "white",
            "ticks": ""
           }
          },
          "scene": {
           "xaxis": {
            "backgroundcolor": "#E5ECF6",
            "gridcolor": "white",
            "gridwidth": 2,
            "linecolor": "white",
            "showbackground": true,
            "ticks": "",
            "zerolinecolor": "white"
           },
           "yaxis": {
            "backgroundcolor": "#E5ECF6",
            "gridcolor": "white",
            "gridwidth": 2,
            "linecolor": "white",
            "showbackground": true,
            "ticks": "",
            "zerolinecolor": "white"
           },
           "zaxis": {
            "backgroundcolor": "#E5ECF6",
            "gridcolor": "white",
            "gridwidth": 2,
            "linecolor": "white",
            "showbackground": true,
            "ticks": "",
            "zerolinecolor": "white"
           }
          },
          "shapedefaults": {
           "line": {
            "color": "#2a3f5f"
           }
          },
          "ternary": {
           "aaxis": {
            "gridcolor": "white",
            "linecolor": "white",
            "ticks": ""
           },
           "baxis": {
            "gridcolor": "white",
            "linecolor": "white",
            "ticks": ""
           },
           "bgcolor": "#E5ECF6",
           "caxis": {
            "gridcolor": "white",
            "linecolor": "white",
            "ticks": ""
           }
          },
          "title": {
           "x": 0.05
          },
          "xaxis": {
           "automargin": true,
           "gridcolor": "white",
           "linecolor": "white",
           "ticks": "",
           "title": {
            "standoff": 15
           },
           "zerolinecolor": "white",
           "zerolinewidth": 2
          },
          "yaxis": {
           "automargin": true,
           "gridcolor": "white",
           "linecolor": "white",
           "ticks": "",
           "title": {
            "standoff": 15
           },
           "zerolinecolor": "white",
           "zerolinewidth": 2
          }
         }
        }
       }
      }
     },
     "metadata": {},
     "output_type": "display_data"
    }
   ],
   "source": [
    "fig = go.Figure()\n",
    "\n",
    "fig.add_traces(\n",
    "    go.Scatter(\n",
    "        x=frame.tsne_1,\n",
    "        y=frame.tsne_2,\n",
    "        mode=\"markers\",\n",
    "        marker={\n",
    "            \"color\":frame.kmeans\n",
    "        }\n",
    "    )\n",
    ")\n",
    "fig.show()\n"
   ]
  }
 ],
 "metadata": {
  "kernelspec": {
   "display_name": ".venv",
   "language": "python",
   "name": "python3"
  },
  "language_info": {
   "codemirror_mode": {
    "name": "ipython",
    "version": 3
   },
   "file_extension": ".py",
   "mimetype": "text/x-python",
   "name": "python",
   "nbconvert_exporter": "python",
   "pygments_lexer": "ipython3",
   "version": "3.9.6"
  }
 },
 "nbformat": 4,
 "nbformat_minor": 2
}
